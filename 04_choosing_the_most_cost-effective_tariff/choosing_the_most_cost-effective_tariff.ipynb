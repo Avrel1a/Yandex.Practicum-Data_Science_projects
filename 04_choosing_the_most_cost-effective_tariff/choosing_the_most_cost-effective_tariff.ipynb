{
 "cells": [
  {
   "cell_type": "markdown",
   "metadata": {
    "toc": true
   },
   "source": [
    "<h1>Содержание<span class=\"tocSkip\"></span></h1>\n",
    "<div class=\"toc\"><ul class=\"toc-item\"><li><span><a href=\"#Общий-обзор-данных\" data-toc-modified-id=\"Общий-обзор-данных-1\"><span class=\"toc-item-num\">1&nbsp;&nbsp;</span>Общий обзор данных</a></span><ul class=\"toc-item\"><li><span><a href=\"#Загружаем-данные\" data-toc-modified-id=\"Загружаем-данные-1.1\"><span class=\"toc-item-num\">1.1&nbsp;&nbsp;</span>Загружаем данные</a></span></li><li><span><a href=\"#Знакомство-с-данными-и-предобработка\" data-toc-modified-id=\"Знакомство-с-данными-и-предобработка-1.2\"><span class=\"toc-item-num\">1.2&nbsp;&nbsp;</span>Знакомство с данными и предобработка</a></span><ul class=\"toc-item\"><li><span><a href=\"#Таблица-с-информацией-о-пользователях\" data-toc-modified-id=\"Таблица-с-информацией-о-пользователях-1.2.1\"><span class=\"toc-item-num\">1.2.1&nbsp;&nbsp;</span>Таблица с информацией о пользователях</a></span></li><li><span><a href=\"#Таблица-с-информацией-по-звонкам\" data-toc-modified-id=\"Таблица-с-информацией-по-звонкам-1.2.2\"><span class=\"toc-item-num\">1.2.2&nbsp;&nbsp;</span>Таблица с информацией по звонкам</a></span></li><li><span><a href=\"#Таблица-с-информацией-по-сообщениям\" data-toc-modified-id=\"Таблица-с-информацией-по-сообщениям-1.2.3\"><span class=\"toc-item-num\">1.2.3&nbsp;&nbsp;</span>Таблица с информацией по сообщениям</a></span></li><li><span><a href=\"#Таблица-с-информацией-по-интернет-трафику\" data-toc-modified-id=\"Таблица-с-информацией-по-интернет-трафику-1.2.4\"><span class=\"toc-item-num\">1.2.4&nbsp;&nbsp;</span>Таблица с информацией по интернет трафику</a></span></li><li><span><a href=\"#Таблица-с-информацией-по-тарифам\" data-toc-modified-id=\"Таблица-с-информацией-по-тарифам-1.2.5\"><span class=\"toc-item-num\">1.2.5&nbsp;&nbsp;</span>Таблица с информацией по тарифам</a></span></li></ul></li><li><span><a href=\"#Преобразование-данных-в-таблицах\" data-toc-modified-id=\"Преобразование-данных-в-таблицах-1.3\"><span class=\"toc-item-num\">1.3&nbsp;&nbsp;</span>Преобразование данных в таблицах</a></span></li><li><span><a href=\"#График-по-кол-ву-использованных-услуг-связь-в-зависимости-от-месяца\" data-toc-modified-id=\"График-по-кол-ву-использованных-услуг-связь-в-зависимости-от-месяца-1.4\"><span class=\"toc-item-num\">1.4&nbsp;&nbsp;</span>График по кол-ву использованных услуг связь в зависимости от месяца</a></span></li><li><span><a href=\"#Распределение-абонентов-по-регионам\" data-toc-modified-id=\"Распределение-абонентов-по-регионам-1.5\"><span class=\"toc-item-num\">1.5&nbsp;&nbsp;</span>Распределение абонентов по регионам</a></span></li><li><span><a href=\"#Выводы\" data-toc-modified-id=\"Выводы-1.6\"><span class=\"toc-item-num\">1.6&nbsp;&nbsp;</span>Выводы</a></span></li></ul></li><li><span><a href=\"#Расчет-данных-для-исследования\" data-toc-modified-id=\"Расчет-данных-для-исследования-2\"><span class=\"toc-item-num\">2&nbsp;&nbsp;</span>Расчет данных для исследования</a></span><ul class=\"toc-item\"><li><span><a href=\"#Расчет-количества-сделанных-звонков,-израсходованных-минут-разговора,-отправленных-сообщений--и-израсходыванного-интернет-трафика-по-месяцам\" data-toc-modified-id=\"Расчет-количества-сделанных-звонков,-израсходованных-минут-разговора,-отправленных-сообщений--и-израсходыванного-интернет-трафика-по-месяцам-2.1\"><span class=\"toc-item-num\">2.1&nbsp;&nbsp;</span>Расчет количества сделанных звонков, израсходованных минут разговора, отправленных сообщений  и израсходыванного интернет-трафика по месяцам</a></span></li><li><span><a href=\"#Добавим-информацию-по-тарифу-и-городу-каждого-абонента\" data-toc-modified-id=\"Добавим-информацию-по-тарифу-и-городу-каждого-абонента-2.2\"><span class=\"toc-item-num\">2.2&nbsp;&nbsp;</span>Добавим информацию по тарифу и городу каждого абонента</a></span></li><li><span><a href=\"#Пропущенные-значения-в-услугах-тарифов\" data-toc-modified-id=\"Пропущенные-значения-в-услугах-тарифов-2.3\"><span class=\"toc-item-num\">2.3&nbsp;&nbsp;</span>Пропущенные значения в услугах тарифов</a></span></li><li><span><a href=\"#Достаточно-ли-абонентам-тарифного-плана?\" data-toc-modified-id=\"Достаточно-ли-абонентам-тарифного-плана?-2.4\"><span class=\"toc-item-num\">2.4&nbsp;&nbsp;</span>Достаточно ли абонентам тарифного плана?</a></span></li><li><span><a href=\"#Какой-тариф-приносит-больше-прибыли-компании?\" data-toc-modified-id=\"Какой-тариф-приносит-больше-прибыли-компании?-2.5\"><span class=\"toc-item-num\">2.5&nbsp;&nbsp;</span>Какой тариф приносит больше прибыли компании?</a></span></li><li><span><a href=\"#Сводная-таблица-по-сравнению-тарифов-Смарт-и-Ультра\" data-toc-modified-id=\"Сводная-таблица-по-сравнению-тарифов-Смарт-и-Ультра-2.6\"><span class=\"toc-item-num\">2.6&nbsp;&nbsp;</span>Сводная таблица по сравнению тарифов Смарт и Ультра</a></span></li></ul></li><li><span><a href=\"#Анализ-поведение-клиентов-оператора\" data-toc-modified-id=\"Анализ-поведение-клиентов-оператора-3\"><span class=\"toc-item-num\">3&nbsp;&nbsp;</span>Анализ поведение клиентов оператора</a></span></li><li><span><a href=\"#Проверка-гипотез\" data-toc-modified-id=\"Проверка-гипотез-4\"><span class=\"toc-item-num\">4&nbsp;&nbsp;</span>Проверка гипотез</a></span><ul class=\"toc-item\"><li><span><a href=\"#Гипотеза:-средняя-выручка-пользователей-тарифов-«Ультра»-и-«Смарт»-различаются\" data-toc-modified-id=\"Гипотеза:-средняя-выручка-пользователей-тарифов-«Ультра»-и-«Смарт»-различаются-4.1\"><span class=\"toc-item-num\">4.1&nbsp;&nbsp;</span>Гипотеза: средняя выручка пользователей тарифов «Ультра» и «Смарт» различаются</a></span></li><li><span><a href=\"#Гипотеза:-средняя-выручка-пользователей-из-Москвы-отличается-от-выручки-пользователей-из-других-регионов\" data-toc-modified-id=\"Гипотеза:-средняя-выручка-пользователей-из-Москвы-отличается-от-выручки-пользователей-из-других-регионов-4.2\"><span class=\"toc-item-num\">4.2&nbsp;&nbsp;</span>Гипотеза: средняя выручка пользователей из Москвы отличается от выручки пользователей из других регионов</a></span></li></ul></li><li><span><a href=\"#Общий-вывод\" data-toc-modified-id=\"Общий-вывод-5\"><span class=\"toc-item-num\">5&nbsp;&nbsp;</span>Общий вывод</a></span></li></ul></div>"
   ]
  },
  {
   "cell_type": "markdown",
   "metadata": {},
   "source": [
    "# Определение перспективного тарифа для телеком-компании\n",
    "\n",
    "**Описание проекта**\n",
    "\n",
    "Оператор сотовой связи предлагает своим клиентам два тарифных плана: «Смарт» и «Ультра». Чтобы скорректировать рекламный бюджет, коммерческий департамент хочет понять, какой тариф приносит больше денег.\n",
    "Вам предстоит сделать предварительный анализ тарифов на небольшой выборке клиентов. В вашем распоряжении данные 500 пользователей оператора: кто они, откуда, каким тарифом пользуются, сколько звонков и сообщений каждый отправил за 2018 год. Нужно проанализировать поведение клиентов и сделать вывод — какой тариф лучше."
   ]
  },
  {
   "cell_type": "markdown",
   "metadata": {},
   "source": [
    "# Описание тарифов\n",
    "\n",
    "**Тариф «Смарт»**\n",
    "- Ежемесячная плата: 550 рублей\n",
    "- Включено 500 минут разговора, 50 сообщений и 15 Гб интернет-трафика\n",
    "- Стоимость услуг сверх тарифного пакета: 1. минута разговора: 3 рубля (оператор всегда округляет вверх значения минут и мегабайтов. Если пользователь проговорил всего 1 секунду, в тарифе засчитывается целая минута); 2. сообщение: 3 рубля; 3. 1 Гб интернет-трафика: 200 рублей.\n",
    "\n",
    "**Тариф «Ультра»**\n",
    "- Ежемесячная плата: 1950 рублей\n",
    "- Включено 3000 минут разговора, 1000 сообщений и 30 Гб интернет-трафика\n",
    "- Стоимость услуг сверх тарифного пакета: 1. минута разговора: 1 рубль; 2. сообщение: 1 рубль; 3. 1 Гб интернет-трафика: 150 рублей.\n",
    "\n",
    "Также в исследовании стоит учитывать то, что оператор всегда округляет секунды до минут, а мегабайты — до гигабайт. Каждый звонок округляется отдельно: даже если он длился всего 1 секунду, будет засчитан как 1 минута.\n",
    "\n",
    "Для веб-трафика отдельные сессии не считаются. Вместо этого общая сумма за месяц округляется в бо́льшую сторону. Если абонент использует 1025 мегабайт в этом месяце, с него возьмут плату за 2 гигабайта."
   ]
  },
  {
   "cell_type": "markdown",
   "metadata": {},
   "source": [
    "# Описание данных\n",
    "\n",
    "**Таблица users** (информация о пользователях):\n",
    "\n",
    "- `user_id` — уникальный идентификатор пользователя\n",
    "- `first_name` — имя пользователя\n",
    "- `last_name` — фамилия пользователя\n",
    "- `age` — возраст пользователя (годы)\n",
    "- `reg_date` — дата подключения тарифа (день, месяц, год)\n",
    "- `churn_date` — дата прекращения пользования тарифом (если значение пропущено, то тариф ещё действовал на момент выгрузки данных)\n",
    "- `city` — город проживания пользователя\n",
    "- `tariff` — название тарифного плана\n",
    "\n",
    "**Таблица calls** (информация о звонках):\n",
    "\n",
    "- `id` — уникальный номер звонка\n",
    "- `call_date` — дата звонка\n",
    "- `duration` — длительность звонка в минутах\n",
    "- `user_id` — идентификатор пользователя, сделавшего звонок\n",
    "\n",
    "**Таблица messages** (информация о сообщениях):\n",
    "\n",
    "- `id` — уникальный номер сообщения\n",
    "- `message_date` — дата сообщения\n",
    "- `user_id` — идентификатор пользователя, отправившего сообщение\n",
    "\n",
    "**Таблица internet** (информация об интернет-сессиях):\n",
    "\n",
    "- `id` — уникальный номер сессии\n",
    "- `mb_used` — объём потраченного за сессию интернет-трафика (в мегабайтах)\n",
    "- `session_date` — дата интернет-сессии\n",
    "- `user_id` — идентификатор пользователя\n",
    "\n",
    "**Таблица tariffs** (информация о тарифах):\n",
    "\n",
    "- `tariff_name` — название тарифа\n",
    "- `rub_monthly_fee` — ежемесячная абонентская плата в рублях\n",
    "- `minutes_included` — количество минут разговора в месяц, включённых в абонентскую плату\n",
    "- `messages_included` — количество сообщений в месяц, включённых в абонентскую плату\n",
    "- `mb_per_month_included` — объём интернет-трафика, включённого в абонентскую плату (в мегабайтах)\n",
    "- `rub_per_minute` — стоимость минуты разговора сверх тарифного пакета (например, если в тарифе 100 минут разговора в месяц, то со 101 минуты будет взиматься плата)\n",
    "- `rub_per_message` — стоимость отправки сообщения сверх тарифного пакета\n",
    "- `rub_per_gb` — стоимость дополнительного гигабайта интернет-трафика сверх тарифного пакета (1 гигабайт = 1024 мегабайта)"
   ]
  },
  {
   "cell_type": "markdown",
   "metadata": {},
   "source": [
    "## Общий обзор данных"
   ]
  },
  {
   "cell_type": "markdown",
   "metadata": {},
   "source": [
    "### Загружаем данные"
   ]
  },
  {
   "cell_type": "code",
   "execution_count": 66,
   "metadata": {},
   "outputs": [],
   "source": [
    "# импортируем необходимые для дальнейшей работы библиотеки\n",
    "import pandas as pd\n",
    "import numpy as np\n",
    "import matplotlib.pyplot as plt\n",
    "from scipy import stats as st\n",
    "import numpy as np\n",
    "import pandas as pd\n",
    "from scipy.stats import ttest_ind"
   ]
  },
  {
   "cell_type": "code",
   "execution_count": 2,
   "metadata": {},
   "outputs": [],
   "source": [
    "# прочитаем файлы с таблицам, сохраним их в соответствующих переменных\n",
    "users = pd.read_csv('/datasets/users.csv')\n",
    "calls = pd.read_csv('/datasets/calls.csv')\n",
    "messages = pd.read_csv('/datasets/messages.csv')\n",
    "internet = pd.read_csv('/datasets/internet.csv', index_col=0)\n",
    "tariffs = pd.read_csv('/datasets/tariffs.csv')"
   ]
  },
  {
   "cell_type": "markdown",
   "metadata": {},
   "source": [
    "### Знакомство с данными и предобработка"
   ]
  },
  {
   "cell_type": "markdown",
   "metadata": {},
   "source": [
    "#### Таблица с информацией о пользователях"
   ]
  },
  {
   "cell_type": "code",
   "execution_count": 3,
   "metadata": {},
   "outputs": [
    {
     "data": {
      "text/html": [
       "<div>\n",
       "<style scoped>\n",
       "    .dataframe tbody tr th:only-of-type {\n",
       "        vertical-align: middle;\n",
       "    }\n",
       "\n",
       "    .dataframe tbody tr th {\n",
       "        vertical-align: top;\n",
       "    }\n",
       "\n",
       "    .dataframe thead th {\n",
       "        text-align: right;\n",
       "    }\n",
       "</style>\n",
       "<table border=\"1\" class=\"dataframe\">\n",
       "  <thead>\n",
       "    <tr style=\"text-align: right;\">\n",
       "      <th></th>\n",
       "      <th>user_id</th>\n",
       "      <th>age</th>\n",
       "      <th>churn_date</th>\n",
       "      <th>city</th>\n",
       "      <th>first_name</th>\n",
       "      <th>last_name</th>\n",
       "      <th>reg_date</th>\n",
       "      <th>tariff</th>\n",
       "    </tr>\n",
       "  </thead>\n",
       "  <tbody>\n",
       "    <tr>\n",
       "      <td>0</td>\n",
       "      <td>1000</td>\n",
       "      <td>52</td>\n",
       "      <td>NaN</td>\n",
       "      <td>Краснодар</td>\n",
       "      <td>Рафаил</td>\n",
       "      <td>Верещагин</td>\n",
       "      <td>2018-05-25</td>\n",
       "      <td>ultra</td>\n",
       "    </tr>\n",
       "    <tr>\n",
       "      <td>1</td>\n",
       "      <td>1001</td>\n",
       "      <td>41</td>\n",
       "      <td>NaN</td>\n",
       "      <td>Москва</td>\n",
       "      <td>Иван</td>\n",
       "      <td>Ежов</td>\n",
       "      <td>2018-11-01</td>\n",
       "      <td>smart</td>\n",
       "    </tr>\n",
       "    <tr>\n",
       "      <td>2</td>\n",
       "      <td>1002</td>\n",
       "      <td>59</td>\n",
       "      <td>NaN</td>\n",
       "      <td>Стерлитамак</td>\n",
       "      <td>Евгений</td>\n",
       "      <td>Абрамович</td>\n",
       "      <td>2018-06-17</td>\n",
       "      <td>smart</td>\n",
       "    </tr>\n",
       "    <tr>\n",
       "      <td>3</td>\n",
       "      <td>1003</td>\n",
       "      <td>23</td>\n",
       "      <td>NaN</td>\n",
       "      <td>Москва</td>\n",
       "      <td>Белла</td>\n",
       "      <td>Белякова</td>\n",
       "      <td>2018-08-17</td>\n",
       "      <td>ultra</td>\n",
       "    </tr>\n",
       "    <tr>\n",
       "      <td>4</td>\n",
       "      <td>1004</td>\n",
       "      <td>68</td>\n",
       "      <td>NaN</td>\n",
       "      <td>Новокузнецк</td>\n",
       "      <td>Татьяна</td>\n",
       "      <td>Авдеенко</td>\n",
       "      <td>2018-05-14</td>\n",
       "      <td>ultra</td>\n",
       "    </tr>\n",
       "  </tbody>\n",
       "</table>\n",
       "</div>"
      ],
      "text/plain": [
       "   user_id  age churn_date         city first_name  last_name    reg_date  \\\n",
       "0     1000   52        NaN    Краснодар     Рафаил  Верещагин  2018-05-25   \n",
       "1     1001   41        NaN       Москва       Иван       Ежов  2018-11-01   \n",
       "2     1002   59        NaN  Стерлитамак    Евгений  Абрамович  2018-06-17   \n",
       "3     1003   23        NaN       Москва      Белла   Белякова  2018-08-17   \n",
       "4     1004   68        NaN  Новокузнецк    Татьяна   Авдеенко  2018-05-14   \n",
       "\n",
       "  tariff  \n",
       "0  ultra  \n",
       "1  smart  \n",
       "2  smart  \n",
       "3  ultra  \n",
       "4  ultra  "
      ]
     },
     "execution_count": 3,
     "metadata": {},
     "output_type": "execute_result"
    }
   ],
   "source": [
    "# выведем первые 5 строк таблицы с информацией о пользователях, чтобы оценить общий вид таблицы\n",
    "users.head()"
   ]
  },
  {
   "cell_type": "code",
   "execution_count": 4,
   "metadata": {},
   "outputs": [
    {
     "name": "stdout",
     "output_type": "stream",
     "text": [
      "Число строк в таблице users: 500\n",
      "Число уникальных пользователей: 500\n",
      "Число дубликатов: 0\n"
     ]
    }
   ],
   "source": [
    "# Проверим, все ли пользователи в таблице уникальные, или есть повторы\n",
    "\n",
    "print(\"Число строк в таблице users:\", users.shape[0])\n",
    "print(\"Число уникальных пользователей:\", users['user_id'].count())\n",
    "print(\"Число дубликатов:\", users.duplicated().sum())"
   ]
  },
  {
   "cell_type": "markdown",
   "metadata": {},
   "source": [
    "500 строк - 500 уникальных пользователей, дубликатов не найдено.\n",
    "\n",
    "Теперь проверим, как обстоят дела с пропусками в данных."
   ]
  },
  {
   "cell_type": "code",
   "execution_count": 5,
   "metadata": {},
   "outputs": [
    {
     "name": "stdout",
     "output_type": "stream",
     "text": [
      "<class 'pandas.core.frame.DataFrame'>\n",
      "RangeIndex: 500 entries, 0 to 499\n",
      "Data columns (total 8 columns):\n",
      "user_id       500 non-null int64\n",
      "age           500 non-null int64\n",
      "churn_date    38 non-null object\n",
      "city          500 non-null object\n",
      "first_name    500 non-null object\n",
      "last_name     500 non-null object\n",
      "reg_date      500 non-null object\n",
      "tariff        500 non-null object\n",
      "dtypes: int64(2), object(6)\n",
      "memory usage: 31.4+ KB\n"
     ]
    }
   ],
   "source": [
    "# посмотрим общие сведения о таблице с помощью метода .info()\n",
    "users.info()"
   ]
  },
  {
   "cell_type": "markdown",
   "metadata": {},
   "source": [
    "В таблице - 8 столбцов. Названия столбцов соответствуют правилам \"хорошего\" стиля. Пропущенные значения видим только в одном из восьми столбцов - в столбце `churn_date`, причем, как мы видим, пропусков достаточно много. Однако, насколько мы помним из описания данных, в данном столбце хранится информацияо дате прекращения пользования тарифом, и если значение пропущено, то тариф ещё действовал на момент выгрузки данных. \n",
    "\n",
    "Следовательно, пропуски в данном столбце мы трогать не будем, тем более что для решения поставленной задачи они нам особо не нужны."
   ]
  },
  {
   "cell_type": "markdown",
   "metadata": {},
   "source": [
    "**Выводы:**\n",
    "\n",
    "Для повышения качества данных нам необходимо только:\n",
    "- изменить тип данных в столбце `reg_date` на datetime;\n",
    "- добавить столбец со значением месяца регистрации."
   ]
  },
  {
   "cell_type": "markdown",
   "metadata": {},
   "source": [
    "#### Таблица с информацией по звонкам"
   ]
  },
  {
   "cell_type": "code",
   "execution_count": 6,
   "metadata": {},
   "outputs": [
    {
     "data": {
      "text/html": [
       "<div>\n",
       "<style scoped>\n",
       "    .dataframe tbody tr th:only-of-type {\n",
       "        vertical-align: middle;\n",
       "    }\n",
       "\n",
       "    .dataframe tbody tr th {\n",
       "        vertical-align: top;\n",
       "    }\n",
       "\n",
       "    .dataframe thead th {\n",
       "        text-align: right;\n",
       "    }\n",
       "</style>\n",
       "<table border=\"1\" class=\"dataframe\">\n",
       "  <thead>\n",
       "    <tr style=\"text-align: right;\">\n",
       "      <th></th>\n",
       "      <th>id</th>\n",
       "      <th>call_date</th>\n",
       "      <th>duration</th>\n",
       "      <th>user_id</th>\n",
       "    </tr>\n",
       "  </thead>\n",
       "  <tbody>\n",
       "    <tr>\n",
       "      <td>0</td>\n",
       "      <td>1000_0</td>\n",
       "      <td>2018-07-25</td>\n",
       "      <td>0.00</td>\n",
       "      <td>1000</td>\n",
       "    </tr>\n",
       "    <tr>\n",
       "      <td>1</td>\n",
       "      <td>1000_1</td>\n",
       "      <td>2018-08-17</td>\n",
       "      <td>0.00</td>\n",
       "      <td>1000</td>\n",
       "    </tr>\n",
       "    <tr>\n",
       "      <td>2</td>\n",
       "      <td>1000_2</td>\n",
       "      <td>2018-06-11</td>\n",
       "      <td>2.85</td>\n",
       "      <td>1000</td>\n",
       "    </tr>\n",
       "    <tr>\n",
       "      <td>3</td>\n",
       "      <td>1000_3</td>\n",
       "      <td>2018-09-21</td>\n",
       "      <td>13.80</td>\n",
       "      <td>1000</td>\n",
       "    </tr>\n",
       "    <tr>\n",
       "      <td>4</td>\n",
       "      <td>1000_4</td>\n",
       "      <td>2018-12-15</td>\n",
       "      <td>5.18</td>\n",
       "      <td>1000</td>\n",
       "    </tr>\n",
       "  </tbody>\n",
       "</table>\n",
       "</div>"
      ],
      "text/plain": [
       "       id   call_date  duration  user_id\n",
       "0  1000_0  2018-07-25      0.00     1000\n",
       "1  1000_1  2018-08-17      0.00     1000\n",
       "2  1000_2  2018-06-11      2.85     1000\n",
       "3  1000_3  2018-09-21     13.80     1000\n",
       "4  1000_4  2018-12-15      5.18     1000"
      ]
     },
     "execution_count": 6,
     "metadata": {},
     "output_type": "execute_result"
    }
   ],
   "source": [
    "# выведем первые 5 строк таблицы с информацией о пользователях, чтобы оценить общий вид таблицы\n",
    "calls.head()"
   ]
  },
  {
   "cell_type": "code",
   "execution_count": 7,
   "metadata": {},
   "outputs": [
    {
     "name": "stdout",
     "output_type": "stream",
     "text": [
      "<class 'pandas.core.frame.DataFrame'>\n",
      "RangeIndex: 202607 entries, 0 to 202606\n",
      "Data columns (total 4 columns):\n",
      "id           202607 non-null object\n",
      "call_date    202607 non-null object\n",
      "duration     202607 non-null float64\n",
      "user_id      202607 non-null int64\n",
      "dtypes: float64(1), int64(1), object(2)\n",
      "memory usage: 6.2+ MB\n"
     ]
    }
   ],
   "source": [
    "# посмотрим общие сведения о таблице с помощью метода .info()\n",
    "calls.info()"
   ]
  },
  {
   "cell_type": "markdown",
   "metadata": {},
   "source": [
    "В таблице 4 стоблца и 202 607 строк. Как мы видим, в данных нет пропусков."
   ]
  },
  {
   "cell_type": "code",
   "execution_count": 8,
   "metadata": {},
   "outputs": [
    {
     "data": {
      "text/plain": [
       "<matplotlib.axes._subplots.AxesSubplot at 0x7f8677bf54d0>"
      ]
     },
     "execution_count": 8,
     "metadata": {},
     "output_type": "execute_result"
    },
    {
     "data": {
      "image/png": "[encoded data removed]",
      "text/plain": [
       "<Figure size 864x360 with 1 Axes>"
      ]
     },
     "metadata": {
      "needs_background": "light"
     },
     "output_type": "display_data"
    }
   ],
   "source": [
    "# посмотрим на гистограмму распределения длительности звонков:\n",
    "calls['duration'].plot(kind='hist', bins=50, figsize=(12, 5), ec='black')"
   ]
  },
  {
   "cell_type": "markdown",
   "metadata": {},
   "source": [
    "На гистограмме явно видим выброс на отметке в 0 минут. Однако, необходимо проверить, действительно ли все звонки, длительность которых меньше 1 минуты равны 0, а не измеряются в секундах, ведь как мы помним, оператор округляют длительность звонков в большую сторону, звонки, длительность которых ровно 0 - пропущенные звонки."
   ]
  },
  {
   "cell_type": "code",
   "execution_count": 9,
   "metadata": {},
   "outputs": [
    {
     "data": {
      "text/html": [
       "<div>\n",
       "<style scoped>\n",
       "    .dataframe tbody tr th:only-of-type {\n",
       "        vertical-align: middle;\n",
       "    }\n",
       "\n",
       "    .dataframe tbody tr th {\n",
       "        vertical-align: top;\n",
       "    }\n",
       "\n",
       "    .dataframe thead th {\n",
       "        text-align: right;\n",
       "    }\n",
       "</style>\n",
       "<table border=\"1\" class=\"dataframe\">\n",
       "  <thead>\n",
       "    <tr style=\"text-align: right;\">\n",
       "      <th></th>\n",
       "      <th>id</th>\n",
       "      <th>call_date</th>\n",
       "      <th>duration</th>\n",
       "      <th>user_id</th>\n",
       "    </tr>\n",
       "  </thead>\n",
       "  <tbody>\n",
       "    <tr>\n",
       "      <td>55</td>\n",
       "      <td>1000_55</td>\n",
       "      <td>2018-09-19</td>\n",
       "      <td>0.31</td>\n",
       "      <td>1000</td>\n",
       "    </tr>\n",
       "    <tr>\n",
       "      <td>65</td>\n",
       "      <td>1000_65</td>\n",
       "      <td>2018-10-28</td>\n",
       "      <td>0.34</td>\n",
       "      <td>1000</td>\n",
       "    </tr>\n",
       "    <tr>\n",
       "      <td>97</td>\n",
       "      <td>1000_97</td>\n",
       "      <td>2018-10-26</td>\n",
       "      <td>0.33</td>\n",
       "      <td>1000</td>\n",
       "    </tr>\n",
       "    <tr>\n",
       "      <td>122</td>\n",
       "      <td>1000_122</td>\n",
       "      <td>2018-10-07</td>\n",
       "      <td>0.13</td>\n",
       "      <td>1000</td>\n",
       "    </tr>\n",
       "    <tr>\n",
       "      <td>135</td>\n",
       "      <td>1000_135</td>\n",
       "      <td>2018-10-25</td>\n",
       "      <td>0.02</td>\n",
       "      <td>1000</td>\n",
       "    </tr>\n",
       "    <tr>\n",
       "      <td>...</td>\n",
       "      <td>...</td>\n",
       "      <td>...</td>\n",
       "      <td>...</td>\n",
       "      <td>...</td>\n",
       "    </tr>\n",
       "    <tr>\n",
       "      <td>202484</td>\n",
       "      <td>1499_97</td>\n",
       "      <td>2018-12-22</td>\n",
       "      <td>0.07</td>\n",
       "      <td>1499</td>\n",
       "    </tr>\n",
       "    <tr>\n",
       "      <td>202537</td>\n",
       "      <td>1499_150</td>\n",
       "      <td>2018-12-09</td>\n",
       "      <td>0.56</td>\n",
       "      <td>1499</td>\n",
       "    </tr>\n",
       "    <tr>\n",
       "      <td>202545</td>\n",
       "      <td>1499_158</td>\n",
       "      <td>2018-11-16</td>\n",
       "      <td>0.64</td>\n",
       "      <td>1499</td>\n",
       "    </tr>\n",
       "    <tr>\n",
       "      <td>202579</td>\n",
       "      <td>1499_192</td>\n",
       "      <td>2018-12-07</td>\n",
       "      <td>0.76</td>\n",
       "      <td>1499</td>\n",
       "    </tr>\n",
       "    <tr>\n",
       "      <td>202602</td>\n",
       "      <td>1499_215</td>\n",
       "      <td>2018-12-26</td>\n",
       "      <td>0.76</td>\n",
       "      <td>1499</td>\n",
       "    </tr>\n",
       "  </tbody>\n",
       "</table>\n",
       "<p>8314 rows × 4 columns</p>\n",
       "</div>"
      ],
      "text/plain": [
       "              id   call_date  duration  user_id\n",
       "55       1000_55  2018-09-19      0.31     1000\n",
       "65       1000_65  2018-10-28      0.34     1000\n",
       "97       1000_97  2018-10-26      0.33     1000\n",
       "122     1000_122  2018-10-07      0.13     1000\n",
       "135     1000_135  2018-10-25      0.02     1000\n",
       "...          ...         ...       ...      ...\n",
       "202484   1499_97  2018-12-22      0.07     1499\n",
       "202537  1499_150  2018-12-09      0.56     1499\n",
       "202545  1499_158  2018-11-16      0.64     1499\n",
       "202579  1499_192  2018-12-07      0.76     1499\n",
       "202602  1499_215  2018-12-26      0.76     1499\n",
       "\n",
       "[8314 rows x 4 columns]"
      ]
     },
     "execution_count": 9,
     "metadata": {},
     "output_type": "execute_result"
    }
   ],
   "source": [
    "# найдем строки, где продолжительность звонков больше ноля, но меньше единицы\n",
    "calls.query('0.0 < duration < 1.0')"
   ]
  },
  {
   "cell_type": "markdown",
   "metadata": {},
   "source": [
    "В таблице более 8 тыс звонков длительностью до минуты. Округлим их до минуты. Также округлим и другим неполные значения до большего числа (в соответствии с подходом оператора)."
   ]
  },
  {
   "cell_type": "code",
   "execution_count": 10,
   "metadata": {},
   "outputs": [
    {
     "data": {
      "text/html": [
       "<div>\n",
       "<style scoped>\n",
       "    .dataframe tbody tr th:only-of-type {\n",
       "        vertical-align: middle;\n",
       "    }\n",
       "\n",
       "    .dataframe tbody tr th {\n",
       "        vertical-align: top;\n",
       "    }\n",
       "\n",
       "    .dataframe thead th {\n",
       "        text-align: right;\n",
       "    }\n",
       "</style>\n",
       "<table border=\"1\" class=\"dataframe\">\n",
       "  <thead>\n",
       "    <tr style=\"text-align: right;\">\n",
       "      <th></th>\n",
       "      <th>id</th>\n",
       "      <th>call_date</th>\n",
       "      <th>duration</th>\n",
       "      <th>user_id</th>\n",
       "    </tr>\n",
       "  </thead>\n",
       "  <tbody>\n",
       "    <tr>\n",
       "      <td>0</td>\n",
       "      <td>1000_0</td>\n",
       "      <td>2018-07-25</td>\n",
       "      <td>0.0</td>\n",
       "      <td>1000</td>\n",
       "    </tr>\n",
       "    <tr>\n",
       "      <td>1</td>\n",
       "      <td>1000_1</td>\n",
       "      <td>2018-08-17</td>\n",
       "      <td>0.0</td>\n",
       "      <td>1000</td>\n",
       "    </tr>\n",
       "    <tr>\n",
       "      <td>2</td>\n",
       "      <td>1000_2</td>\n",
       "      <td>2018-06-11</td>\n",
       "      <td>3.0</td>\n",
       "      <td>1000</td>\n",
       "    </tr>\n",
       "    <tr>\n",
       "      <td>3</td>\n",
       "      <td>1000_3</td>\n",
       "      <td>2018-09-21</td>\n",
       "      <td>14.0</td>\n",
       "      <td>1000</td>\n",
       "    </tr>\n",
       "    <tr>\n",
       "      <td>4</td>\n",
       "      <td>1000_4</td>\n",
       "      <td>2018-12-15</td>\n",
       "      <td>6.0</td>\n",
       "      <td>1000</td>\n",
       "    </tr>\n",
       "  </tbody>\n",
       "</table>\n",
       "</div>"
      ],
      "text/plain": [
       "       id   call_date  duration  user_id\n",
       "0  1000_0  2018-07-25       0.0     1000\n",
       "1  1000_1  2018-08-17       0.0     1000\n",
       "2  1000_2  2018-06-11       3.0     1000\n",
       "3  1000_3  2018-09-21      14.0     1000\n",
       "4  1000_4  2018-12-15       6.0     1000"
      ]
     },
     "execution_count": 10,
     "metadata": {},
     "output_type": "execute_result"
    }
   ],
   "source": [
    "# округлим околоминутные значения дл минуты с помощью np.ceil\n",
    "calls['duration'] = calls['duration'].apply(np.ceil)\n",
    "calls.head()"
   ]
  },
  {
   "cell_type": "markdown",
   "metadata": {},
   "source": [
    "Посмотрим снова на гистограмму распределения длительности звонков."
   ]
  },
  {
   "cell_type": "code",
   "execution_count": 11,
   "metadata": {},
   "outputs": [
    {
     "data": {
      "text/plain": [
       "<matplotlib.axes._subplots.AxesSubplot at 0x7f8677a88990>"
      ]
     },
     "execution_count": 11,
     "metadata": {},
     "output_type": "execute_result"
    },
    {
     "data": {
      "image/png": "[encoded data removed]",
      "text/plain": [
       "<Figure size 864x360 with 1 Axes>"
      ]
     },
     "metadata": {
      "needs_background": "light"
     },
     "output_type": "display_data"
    }
   ],
   "source": [
    "calls['duration'].plot(kind='hist', bins=50, figsize=(12, 5), ec='black')"
   ]
  },
  {
   "cell_type": "markdown",
   "metadata": {},
   "source": [
    "По-прежнему видим выброс на нулевой отметке. Но, т.к. все значения больше 0.1 минуты мы уже округлили, соответственно, остаток - пропущенные вызовы, которые нам не нужны для анализа, т.к., во-первых, такого рода звонки не расходуют пакет услуг по тариф, во-вторых, никак не влияют на размер итоговой выручки с абонента, поэтому эти строки мы можем удалить, в рамках данного проекта они не информативны."
   ]
  },
  {
   "cell_type": "code",
   "execution_count": 12,
   "metadata": {},
   "outputs": [],
   "source": [
    "# заменим нулевые значения на NaN, затем удалим пропущенные значения с помощью .dropna()\n",
    "calls['duration'] = calls['duration'].replace(0, np.NaN)\n",
    "calls = calls.dropna()"
   ]
  },
  {
   "cell_type": "code",
   "execution_count": 13,
   "metadata": {},
   "outputs": [
    {
     "data": {
      "text/plain": [
       "<matplotlib.axes._subplots.AxesSubplot at 0x7f86779253d0>"
      ]
     },
     "execution_count": 13,
     "metadata": {},
     "output_type": "execute_result"
    },
    {
     "data": {
      "image/png": "[encoded data removed]",
      "text/plain": [
       "<Figure size 864x360 with 1 Axes>"
      ]
     },
     "metadata": {
      "needs_background": "light"
     },
     "output_type": "display_data"
    }
   ],
   "source": [
    "# проверяем распределение\n",
    "calls['duration'].plot(kind='hist', bins=50, figsize=(12, 5), ec='black')"
   ]
  },
  {
   "cell_type": "markdown",
   "metadata": {},
   "source": [
    "Теперь у нас остались только информативные данные.\n",
    "\n",
    "**Выводы:**\n",
    "\n",
    "- данные по продолжительности звонков приведены к единому виду - округлили до полных минут;\n",
    "- удалили из таблицы пропущенные звонки;\n",
    "- необходимо изменить тип данных в столбце `call_date` на datetime;\n",
    "- надо добавить столбец с месяцем совершения звонков."
   ]
  },
  {
   "cell_type": "markdown",
   "metadata": {},
   "source": [
    "#### Таблица с информацией по сообщениям"
   ]
  },
  {
   "cell_type": "code",
   "execution_count": 14,
   "metadata": {},
   "outputs": [
    {
     "data": {
      "text/html": [
       "<div>\n",
       "<style scoped>\n",
       "    .dataframe tbody tr th:only-of-type {\n",
       "        vertical-align: middle;\n",
       "    }\n",
       "\n",
       "    .dataframe tbody tr th {\n",
       "        vertical-align: top;\n",
       "    }\n",
       "\n",
       "    .dataframe thead th {\n",
       "        text-align: right;\n",
       "    }\n",
       "</style>\n",
       "<table border=\"1\" class=\"dataframe\">\n",
       "  <thead>\n",
       "    <tr style=\"text-align: right;\">\n",
       "      <th></th>\n",
       "      <th>id</th>\n",
       "      <th>message_date</th>\n",
       "      <th>user_id</th>\n",
       "    </tr>\n",
       "  </thead>\n",
       "  <tbody>\n",
       "    <tr>\n",
       "      <td>0</td>\n",
       "      <td>1000_0</td>\n",
       "      <td>2018-06-27</td>\n",
       "      <td>1000</td>\n",
       "    </tr>\n",
       "    <tr>\n",
       "      <td>1</td>\n",
       "      <td>1000_1</td>\n",
       "      <td>2018-10-08</td>\n",
       "      <td>1000</td>\n",
       "    </tr>\n",
       "    <tr>\n",
       "      <td>2</td>\n",
       "      <td>1000_2</td>\n",
       "      <td>2018-08-04</td>\n",
       "      <td>1000</td>\n",
       "    </tr>\n",
       "    <tr>\n",
       "      <td>3</td>\n",
       "      <td>1000_3</td>\n",
       "      <td>2018-06-16</td>\n",
       "      <td>1000</td>\n",
       "    </tr>\n",
       "    <tr>\n",
       "      <td>4</td>\n",
       "      <td>1000_4</td>\n",
       "      <td>2018-12-05</td>\n",
       "      <td>1000</td>\n",
       "    </tr>\n",
       "  </tbody>\n",
       "</table>\n",
       "</div>"
      ],
      "text/plain": [
       "       id message_date  user_id\n",
       "0  1000_0   2018-06-27     1000\n",
       "1  1000_1   2018-10-08     1000\n",
       "2  1000_2   2018-08-04     1000\n",
       "3  1000_3   2018-06-16     1000\n",
       "4  1000_4   2018-12-05     1000"
      ]
     },
     "execution_count": 14,
     "metadata": {},
     "output_type": "execute_result"
    }
   ],
   "source": [
    "# выведем первые 5 строк таблицы с информацией о пользователях, чтобы оценить общий вид таблицы\n",
    "messages.head()"
   ]
  },
  {
   "cell_type": "code",
   "execution_count": 15,
   "metadata": {},
   "outputs": [
    {
     "name": "stdout",
     "output_type": "stream",
     "text": [
      "<class 'pandas.core.frame.DataFrame'>\n",
      "RangeIndex: 123036 entries, 0 to 123035\n",
      "Data columns (total 3 columns):\n",
      "id              123036 non-null object\n",
      "message_date    123036 non-null object\n",
      "user_id         123036 non-null int64\n",
      "dtypes: int64(1), object(2)\n",
      "memory usage: 2.8+ MB\n"
     ]
    }
   ],
   "source": [
    "# посмотрим общие сведения о таблице с помощью метода .info()\n",
    "messages.info()"
   ]
  },
  {
   "cell_type": "markdown",
   "metadata": {},
   "source": [
    "**Выводы**:\n",
    "\n",
    "- данные представлены полные, заполнение/удаление пропусков не требуется;\n",
    "- необходимо изменить тип данных в столбце `message_date` на datetime;\n",
    "- необходимо добавить столбец, в какой месяц было отправлено сообщение."
   ]
  },
  {
   "cell_type": "markdown",
   "metadata": {},
   "source": [
    "#### Таблица с информацией по интернет трафику"
   ]
  },
  {
   "cell_type": "code",
   "execution_count": 16,
   "metadata": {},
   "outputs": [
    {
     "data": {
      "text/html": [
       "<div>\n",
       "<style scoped>\n",
       "    .dataframe tbody tr th:only-of-type {\n",
       "        vertical-align: middle;\n",
       "    }\n",
       "\n",
       "    .dataframe tbody tr th {\n",
       "        vertical-align: top;\n",
       "    }\n",
       "\n",
       "    .dataframe thead th {\n",
       "        text-align: right;\n",
       "    }\n",
       "</style>\n",
       "<table border=\"1\" class=\"dataframe\">\n",
       "  <thead>\n",
       "    <tr style=\"text-align: right;\">\n",
       "      <th></th>\n",
       "      <th>id</th>\n",
       "      <th>mb_used</th>\n",
       "      <th>session_date</th>\n",
       "      <th>user_id</th>\n",
       "    </tr>\n",
       "  </thead>\n",
       "  <tbody>\n",
       "    <tr>\n",
       "      <td>0</td>\n",
       "      <td>1000_0</td>\n",
       "      <td>112.95</td>\n",
       "      <td>2018-11-25</td>\n",
       "      <td>1000</td>\n",
       "    </tr>\n",
       "    <tr>\n",
       "      <td>1</td>\n",
       "      <td>1000_1</td>\n",
       "      <td>1052.81</td>\n",
       "      <td>2018-09-07</td>\n",
       "      <td>1000</td>\n",
       "    </tr>\n",
       "    <tr>\n",
       "      <td>2</td>\n",
       "      <td>1000_2</td>\n",
       "      <td>1197.26</td>\n",
       "      <td>2018-06-25</td>\n",
       "      <td>1000</td>\n",
       "    </tr>\n",
       "    <tr>\n",
       "      <td>3</td>\n",
       "      <td>1000_3</td>\n",
       "      <td>550.27</td>\n",
       "      <td>2018-08-22</td>\n",
       "      <td>1000</td>\n",
       "    </tr>\n",
       "    <tr>\n",
       "      <td>4</td>\n",
       "      <td>1000_4</td>\n",
       "      <td>302.56</td>\n",
       "      <td>2018-09-24</td>\n",
       "      <td>1000</td>\n",
       "    </tr>\n",
       "  </tbody>\n",
       "</table>\n",
       "</div>"
      ],
      "text/plain": [
       "       id  mb_used session_date  user_id\n",
       "0  1000_0   112.95   2018-11-25     1000\n",
       "1  1000_1  1052.81   2018-09-07     1000\n",
       "2  1000_2  1197.26   2018-06-25     1000\n",
       "3  1000_3   550.27   2018-08-22     1000\n",
       "4  1000_4   302.56   2018-09-24     1000"
      ]
     },
     "execution_count": 16,
     "metadata": {},
     "output_type": "execute_result"
    }
   ],
   "source": [
    "# выведем первые 5 строк таблицы с информацией о пользователях, чтобы оценить общий вид таблицы\n",
    "internet.head()"
   ]
  },
  {
   "cell_type": "code",
   "execution_count": 17,
   "metadata": {},
   "outputs": [
    {
     "name": "stdout",
     "output_type": "stream",
     "text": [
      "<class 'pandas.core.frame.DataFrame'>\n",
      "Int64Index: 149396 entries, 0 to 149395\n",
      "Data columns (total 4 columns):\n",
      "id              149396 non-null object\n",
      "mb_used         149396 non-null float64\n",
      "session_date    149396 non-null object\n",
      "user_id         149396 non-null int64\n",
      "dtypes: float64(1), int64(1), object(2)\n",
      "memory usage: 5.7+ MB\n"
     ]
    }
   ],
   "source": [
    "# посмотрим общие сведения о таблице с помощью метода .info()\n",
    "internet.info()"
   ]
  },
  {
   "cell_type": "markdown",
   "metadata": {},
   "source": [
    "Как мы видим, данные полные, пропусков нет, однако в столбце `mb_used` мы видим тип данных float, а это опять же наталкивает на мысли о том, что есть пограничные значения продолжительности сессий, когда речь идет об использованных Кб, а оператор округляет кол-во мегабайт в большую сторону. Предлагаем округлить данные столбца с помощью метода np.ceil."
   ]
  },
  {
   "cell_type": "code",
   "execution_count": 18,
   "metadata": {},
   "outputs": [
    {
     "data": {
      "text/html": [
       "<div>\n",
       "<style scoped>\n",
       "    .dataframe tbody tr th:only-of-type {\n",
       "        vertical-align: middle;\n",
       "    }\n",
       "\n",
       "    .dataframe tbody tr th {\n",
       "        vertical-align: top;\n",
       "    }\n",
       "\n",
       "    .dataframe thead th {\n",
       "        text-align: right;\n",
       "    }\n",
       "</style>\n",
       "<table border=\"1\" class=\"dataframe\">\n",
       "  <thead>\n",
       "    <tr style=\"text-align: right;\">\n",
       "      <th></th>\n",
       "      <th>id</th>\n",
       "      <th>mb_used</th>\n",
       "      <th>session_date</th>\n",
       "      <th>user_id</th>\n",
       "    </tr>\n",
       "  </thead>\n",
       "  <tbody>\n",
       "    <tr>\n",
       "      <td>0</td>\n",
       "      <td>1000_0</td>\n",
       "      <td>113.0</td>\n",
       "      <td>2018-11-25</td>\n",
       "      <td>1000</td>\n",
       "    </tr>\n",
       "    <tr>\n",
       "      <td>1</td>\n",
       "      <td>1000_1</td>\n",
       "      <td>1053.0</td>\n",
       "      <td>2018-09-07</td>\n",
       "      <td>1000</td>\n",
       "    </tr>\n",
       "    <tr>\n",
       "      <td>2</td>\n",
       "      <td>1000_2</td>\n",
       "      <td>1198.0</td>\n",
       "      <td>2018-06-25</td>\n",
       "      <td>1000</td>\n",
       "    </tr>\n",
       "    <tr>\n",
       "      <td>3</td>\n",
       "      <td>1000_3</td>\n",
       "      <td>551.0</td>\n",
       "      <td>2018-08-22</td>\n",
       "      <td>1000</td>\n",
       "    </tr>\n",
       "    <tr>\n",
       "      <td>4</td>\n",
       "      <td>1000_4</td>\n",
       "      <td>303.0</td>\n",
       "      <td>2018-09-24</td>\n",
       "      <td>1000</td>\n",
       "    </tr>\n",
       "  </tbody>\n",
       "</table>\n",
       "</div>"
      ],
      "text/plain": [
       "       id  mb_used session_date  user_id\n",
       "0  1000_0    113.0   2018-11-25     1000\n",
       "1  1000_1   1053.0   2018-09-07     1000\n",
       "2  1000_2   1198.0   2018-06-25     1000\n",
       "3  1000_3    551.0   2018-08-22     1000\n",
       "4  1000_4    303.0   2018-09-24     1000"
      ]
     },
     "execution_count": 18,
     "metadata": {},
     "output_type": "execute_result"
    }
   ],
   "source": [
    "internet['mb_used'] = internet['mb_used'].apply(np.ceil)\n",
    "internet.head()"
   ]
  },
  {
   "cell_type": "code",
   "execution_count": 19,
   "metadata": {},
   "outputs": [
    {
     "data": {
      "text/plain": [
       "<matplotlib.axes._subplots.AxesSubplot at 0x7f8676ea0610>"
      ]
     },
     "execution_count": 19,
     "metadata": {},
     "output_type": "execute_result"
    },
    {
     "data": {
      "image/png": "[encoded data removed]",
      "text/plain": [
       "<Figure size 864x360 with 1 Axes>"
      ]
     },
     "metadata": {
      "needs_background": "light"
     },
     "output_type": "display_data"
    }
   ],
   "source": [
    "# посмотрим на гистограмму распределения использования интернет-трафика в сессиях:\n",
    "internet['mb_used'].plot(kind='hist', figsize=(12, 5), ec='black', bins=50)"
   ]
  },
  {
   "cell_type": "markdown",
   "metadata": {},
   "source": [
    "Как в гистограмме распределения длительности звонков, в длительности интернет сессий видим выброс на нулевой отметке."
   ]
  },
  {
   "cell_type": "code",
   "execution_count": 20,
   "metadata": {},
   "outputs": [
    {
     "data": {
      "text/html": [
       "<div>\n",
       "<style scoped>\n",
       "    .dataframe tbody tr th:only-of-type {\n",
       "        vertical-align: middle;\n",
       "    }\n",
       "\n",
       "    .dataframe tbody tr th {\n",
       "        vertical-align: top;\n",
       "    }\n",
       "\n",
       "    .dataframe thead th {\n",
       "        text-align: right;\n",
       "    }\n",
       "</style>\n",
       "<table border=\"1\" class=\"dataframe\">\n",
       "  <thead>\n",
       "    <tr style=\"text-align: right;\">\n",
       "      <th></th>\n",
       "      <th>id</th>\n",
       "      <th>mb_used</th>\n",
       "      <th>session_date</th>\n",
       "      <th>user_id</th>\n",
       "    </tr>\n",
       "  </thead>\n",
       "  <tbody>\n",
       "    <tr>\n",
       "      <td>11</td>\n",
       "      <td>1000_11</td>\n",
       "      <td>0.0</td>\n",
       "      <td>2018-08-28</td>\n",
       "      <td>1000</td>\n",
       "    </tr>\n",
       "    <tr>\n",
       "      <td>38</td>\n",
       "      <td>1000_38</td>\n",
       "      <td>0.0</td>\n",
       "      <td>2018-11-27</td>\n",
       "      <td>1000</td>\n",
       "    </tr>\n",
       "    <tr>\n",
       "      <td>46</td>\n",
       "      <td>1000_46</td>\n",
       "      <td>0.0</td>\n",
       "      <td>2018-06-30</td>\n",
       "      <td>1000</td>\n",
       "    </tr>\n",
       "    <tr>\n",
       "      <td>67</td>\n",
       "      <td>1000_67</td>\n",
       "      <td>0.0</td>\n",
       "      <td>2018-06-16</td>\n",
       "      <td>1000</td>\n",
       "    </tr>\n",
       "    <tr>\n",
       "      <td>72</td>\n",
       "      <td>1000_72</td>\n",
       "      <td>0.0</td>\n",
       "      <td>2018-06-15</td>\n",
       "      <td>1000</td>\n",
       "    </tr>\n",
       "    <tr>\n",
       "      <td>...</td>\n",
       "      <td>...</td>\n",
       "      <td>...</td>\n",
       "      <td>...</td>\n",
       "      <td>...</td>\n",
       "    </tr>\n",
       "    <tr>\n",
       "      <td>149380</td>\n",
       "      <td>1499_141</td>\n",
       "      <td>0.0</td>\n",
       "      <td>2018-12-11</td>\n",
       "      <td>1499</td>\n",
       "    </tr>\n",
       "    <tr>\n",
       "      <td>149381</td>\n",
       "      <td>1499_142</td>\n",
       "      <td>0.0</td>\n",
       "      <td>2018-11-01</td>\n",
       "      <td>1499</td>\n",
       "    </tr>\n",
       "    <tr>\n",
       "      <td>149383</td>\n",
       "      <td>1499_144</td>\n",
       "      <td>0.0</td>\n",
       "      <td>2018-11-27</td>\n",
       "      <td>1499</td>\n",
       "    </tr>\n",
       "    <tr>\n",
       "      <td>149386</td>\n",
       "      <td>1499_147</td>\n",
       "      <td>0.0</td>\n",
       "      <td>2018-10-21</td>\n",
       "      <td>1499</td>\n",
       "    </tr>\n",
       "    <tr>\n",
       "      <td>149393</td>\n",
       "      <td>1499_154</td>\n",
       "      <td>0.0</td>\n",
       "      <td>2018-10-27</td>\n",
       "      <td>1499</td>\n",
       "    </tr>\n",
       "  </tbody>\n",
       "</table>\n",
       "<p>19598 rows × 4 columns</p>\n",
       "</div>"
      ],
      "text/plain": [
       "              id  mb_used session_date  user_id\n",
       "11       1000_11      0.0   2018-08-28     1000\n",
       "38       1000_38      0.0   2018-11-27     1000\n",
       "46       1000_46      0.0   2018-06-30     1000\n",
       "67       1000_67      0.0   2018-06-16     1000\n",
       "72       1000_72      0.0   2018-06-15     1000\n",
       "...          ...      ...          ...      ...\n",
       "149380  1499_141      0.0   2018-12-11     1499\n",
       "149381  1499_142      0.0   2018-11-01     1499\n",
       "149383  1499_144      0.0   2018-11-27     1499\n",
       "149386  1499_147      0.0   2018-10-21     1499\n",
       "149393  1499_154      0.0   2018-10-27     1499\n",
       "\n",
       "[19598 rows x 4 columns]"
      ]
     },
     "execution_count": 20,
     "metadata": {},
     "output_type": "execute_result"
    }
   ],
   "source": [
    "# посмотрим на качество и кол-во строк с нулевой продолжительностью сессий\n",
    "internet.query('mb_used == 0')"
   ]
  },
  {
   "cell_type": "markdown",
   "metadata": {},
   "source": [
    "Таких строк почти 20 тыс, однако они также не добавят нам информации касательно расхода пользователями пакета услуг по тарифу и касетельно размеру прибыли, которую приносит компании тот или иной пользователь, поэтому эти строки можем удалить."
   ]
  },
  {
   "cell_type": "code",
   "execution_count": 21,
   "metadata": {},
   "outputs": [],
   "source": [
    "# заменим нулевые значения на NaN и удалим с помощью .dropna()\n",
    "internet['mb_used'] = internet['mb_used'].replace(0, np.NaN)\n",
    "internet = internet.dropna()"
   ]
  },
  {
   "cell_type": "code",
   "execution_count": 22,
   "metadata": {},
   "outputs": [
    {
     "data": {
      "text/plain": [
       "<matplotlib.axes._subplots.AxesSubplot at 0x7f8676423550>"
      ]
     },
     "execution_count": 22,
     "metadata": {},
     "output_type": "execute_result"
    },
    {
     "data": {
      "image/png": "[encoded data removed]",
      "text/plain": [
       "<Figure size 864x360 with 1 Axes>"
      ]
     },
     "metadata": {
      "needs_background": "light"
     },
     "output_type": "display_data"
    }
   ],
   "source": [
    "# проверим еще раз гистограмму с распределением\n",
    "internet['mb_used'].plot(kind='hist', figsize=(12, 5), ec='black', bins=50)"
   ]
  },
  {
   "cell_type": "markdown",
   "metadata": {},
   "source": [
    "**Выводы:**\n",
    "\n",
    "\n",
    "- данные представлены полные, заполнение/удаление пропусков не требуется;\n",
    "- округлили продолжительность всех сессий до Мб;\n",
    "- удалили из таблицы сессии с нулевым трафиком;\n",
    "- необходимо изменить тип данных в столбце `session_date` на datetime;\n",
    "- необходимо добавить столбец, в какой месяц был произведен выход в сеть."
   ]
  },
  {
   "cell_type": "markdown",
   "metadata": {},
   "source": [
    "#### Таблица с информацией по тарифам"
   ]
  },
  {
   "cell_type": "code",
   "execution_count": 23,
   "metadata": {},
   "outputs": [
    {
     "data": {
      "text/html": [
       "<div>\n",
       "<style scoped>\n",
       "    .dataframe tbody tr th:only-of-type {\n",
       "        vertical-align: middle;\n",
       "    }\n",
       "\n",
       "    .dataframe tbody tr th {\n",
       "        vertical-align: top;\n",
       "    }\n",
       "\n",
       "    .dataframe thead th {\n",
       "        text-align: right;\n",
       "    }\n",
       "</style>\n",
       "<table border=\"1\" class=\"dataframe\">\n",
       "  <thead>\n",
       "    <tr style=\"text-align: right;\">\n",
       "      <th></th>\n",
       "      <th>messages_included</th>\n",
       "      <th>mb_per_month_included</th>\n",
       "      <th>minutes_included</th>\n",
       "      <th>rub_monthly_fee</th>\n",
       "      <th>rub_per_gb</th>\n",
       "      <th>rub_per_message</th>\n",
       "      <th>rub_per_minute</th>\n",
       "      <th>tariff_name</th>\n",
       "    </tr>\n",
       "  </thead>\n",
       "  <tbody>\n",
       "    <tr>\n",
       "      <td>0</td>\n",
       "      <td>50</td>\n",
       "      <td>15360</td>\n",
       "      <td>500</td>\n",
       "      <td>550</td>\n",
       "      <td>200</td>\n",
       "      <td>3</td>\n",
       "      <td>3</td>\n",
       "      <td>smart</td>\n",
       "    </tr>\n",
       "    <tr>\n",
       "      <td>1</td>\n",
       "      <td>1000</td>\n",
       "      <td>30720</td>\n",
       "      <td>3000</td>\n",
       "      <td>1950</td>\n",
       "      <td>150</td>\n",
       "      <td>1</td>\n",
       "      <td>1</td>\n",
       "      <td>ultra</td>\n",
       "    </tr>\n",
       "  </tbody>\n",
       "</table>\n",
       "</div>"
      ],
      "text/plain": [
       "   messages_included  mb_per_month_included  minutes_included  \\\n",
       "0                 50                  15360               500   \n",
       "1               1000                  30720              3000   \n",
       "\n",
       "   rub_monthly_fee  rub_per_gb  rub_per_message  rub_per_minute tariff_name  \n",
       "0              550         200                3               3       smart  \n",
       "1             1950         150                1               1       ultra  "
      ]
     },
     "execution_count": 23,
     "metadata": {},
     "output_type": "execute_result"
    }
   ],
   "source": [
    "# выведем первые 5 строк таблицы с информацией о пользователях, чтобы оценить общий вид таблицы\n",
    "tariffs.head()"
   ]
  },
  {
   "cell_type": "code",
   "execution_count": 24,
   "metadata": {},
   "outputs": [
    {
     "name": "stdout",
     "output_type": "stream",
     "text": [
      "<class 'pandas.core.frame.DataFrame'>\n",
      "RangeIndex: 2 entries, 0 to 1\n",
      "Data columns (total 8 columns):\n",
      "messages_included        2 non-null int64\n",
      "mb_per_month_included    2 non-null int64\n",
      "minutes_included         2 non-null int64\n",
      "rub_monthly_fee          2 non-null int64\n",
      "rub_per_gb               2 non-null int64\n",
      "rub_per_message          2 non-null int64\n",
      "rub_per_minute           2 non-null int64\n",
      "tariff_name              2 non-null object\n",
      "dtypes: int64(7), object(1)\n",
      "memory usage: 256.0+ bytes\n"
     ]
    }
   ],
   "source": [
    "# посмотрим общие сведения о таблице с помощью метода .info()\n",
    "tariffs.info()"
   ]
  },
  {
   "cell_type": "markdown",
   "metadata": {},
   "source": [
    "Данная таблица носит чисто справочный характер, поэтому в ней все заполнено идеально, ничего менить или преобразовывать не нужно."
   ]
  },
  {
   "cell_type": "markdown",
   "metadata": {},
   "source": [
    "### Преобразование данных в таблицах"
   ]
  },
  {
   "cell_type": "code",
   "execution_count": 25,
   "metadata": {},
   "outputs": [],
   "source": [
    "# объявим функцию для изменения типа данных в столбце с датами на datetime\n",
    "#  и для добавление столбца с номером месяца, в котором была использована та или иная услуга из пакета тарифа\n",
    "\n",
    "def date_to_dt_and_get_month(dataframes):\n",
    "    for df in dataframes:\n",
    "        for column in df.columns:\n",
    "            if 'date' in column and column != 'churn_date':\n",
    "                df[column] = pd.to_datetime(df[column], format='%Y-%m-%d')\n",
    "                df['month'] = df[column].apply(lambda x: x.month)"
   ]
  },
  {
   "cell_type": "markdown",
   "metadata": {},
   "source": [
    "Применим функцию к нужным таблицам, т.к. даты у нас есть в каждоц таблице (дата регистрации, дата звонка и т.д.).\n",
    "Проверим, как сработала функция, вызвав первые строки каждой из обозреваемых таблиц."
   ]
  },
  {
   "cell_type": "code",
   "execution_count": 26,
   "metadata": {},
   "outputs": [
    {
     "data": {
      "text/html": [
       "<div>\n",
       "<style scoped>\n",
       "    .dataframe tbody tr th:only-of-type {\n",
       "        vertical-align: middle;\n",
       "    }\n",
       "\n",
       "    .dataframe tbody tr th {\n",
       "        vertical-align: top;\n",
       "    }\n",
       "\n",
       "    .dataframe thead th {\n",
       "        text-align: right;\n",
       "    }\n",
       "</style>\n",
       "<table border=\"1\" class=\"dataframe\">\n",
       "  <thead>\n",
       "    <tr style=\"text-align: right;\">\n",
       "      <th></th>\n",
       "      <th>user_id</th>\n",
       "      <th>age</th>\n",
       "      <th>churn_date</th>\n",
       "      <th>city</th>\n",
       "      <th>first_name</th>\n",
       "      <th>last_name</th>\n",
       "      <th>reg_date</th>\n",
       "      <th>tariff</th>\n",
       "      <th>month</th>\n",
       "    </tr>\n",
       "  </thead>\n",
       "  <tbody>\n",
       "    <tr>\n",
       "      <td>0</td>\n",
       "      <td>1000</td>\n",
       "      <td>52</td>\n",
       "      <td>NaN</td>\n",
       "      <td>Краснодар</td>\n",
       "      <td>Рафаил</td>\n",
       "      <td>Верещагин</td>\n",
       "      <td>2018-05-25</td>\n",
       "      <td>ultra</td>\n",
       "      <td>5</td>\n",
       "    </tr>\n",
       "    <tr>\n",
       "      <td>1</td>\n",
       "      <td>1001</td>\n",
       "      <td>41</td>\n",
       "      <td>NaN</td>\n",
       "      <td>Москва</td>\n",
       "      <td>Иван</td>\n",
       "      <td>Ежов</td>\n",
       "      <td>2018-11-01</td>\n",
       "      <td>smart</td>\n",
       "      <td>11</td>\n",
       "    </tr>\n",
       "    <tr>\n",
       "      <td>2</td>\n",
       "      <td>1002</td>\n",
       "      <td>59</td>\n",
       "      <td>NaN</td>\n",
       "      <td>Стерлитамак</td>\n",
       "      <td>Евгений</td>\n",
       "      <td>Абрамович</td>\n",
       "      <td>2018-06-17</td>\n",
       "      <td>smart</td>\n",
       "      <td>6</td>\n",
       "    </tr>\n",
       "    <tr>\n",
       "      <td>3</td>\n",
       "      <td>1003</td>\n",
       "      <td>23</td>\n",
       "      <td>NaN</td>\n",
       "      <td>Москва</td>\n",
       "      <td>Белла</td>\n",
       "      <td>Белякова</td>\n",
       "      <td>2018-08-17</td>\n",
       "      <td>ultra</td>\n",
       "      <td>8</td>\n",
       "    </tr>\n",
       "    <tr>\n",
       "      <td>4</td>\n",
       "      <td>1004</td>\n",
       "      <td>68</td>\n",
       "      <td>NaN</td>\n",
       "      <td>Новокузнецк</td>\n",
       "      <td>Татьяна</td>\n",
       "      <td>Авдеенко</td>\n",
       "      <td>2018-05-14</td>\n",
       "      <td>ultra</td>\n",
       "      <td>5</td>\n",
       "    </tr>\n",
       "  </tbody>\n",
       "</table>\n",
       "</div>"
      ],
      "text/plain": [
       "   user_id  age churn_date         city first_name  last_name   reg_date  \\\n",
       "0     1000   52        NaN    Краснодар     Рафаил  Верещагин 2018-05-25   \n",
       "1     1001   41        NaN       Москва       Иван       Ежов 2018-11-01   \n",
       "2     1002   59        NaN  Стерлитамак    Евгений  Абрамович 2018-06-17   \n",
       "3     1003   23        NaN       Москва      Белла   Белякова 2018-08-17   \n",
       "4     1004   68        NaN  Новокузнецк    Татьяна   Авдеенко 2018-05-14   \n",
       "\n",
       "  tariff  month  \n",
       "0  ultra      5  \n",
       "1  smart     11  \n",
       "2  smart      6  \n",
       "3  ultra      8  \n",
       "4  ultra      5  "
      ]
     },
     "execution_count": 26,
     "metadata": {},
     "output_type": "execute_result"
    }
   ],
   "source": [
    "date_to_dt_and_get_month([users, calls, messages, internet])\n",
    "users.head()"
   ]
  },
  {
   "cell_type": "code",
   "execution_count": 27,
   "metadata": {},
   "outputs": [
    {
     "data": {
      "text/html": [
       "<div>\n",
       "<style scoped>\n",
       "    .dataframe tbody tr th:only-of-type {\n",
       "        vertical-align: middle;\n",
       "    }\n",
       "\n",
       "    .dataframe tbody tr th {\n",
       "        vertical-align: top;\n",
       "    }\n",
       "\n",
       "    .dataframe thead th {\n",
       "        text-align: right;\n",
       "    }\n",
       "</style>\n",
       "<table border=\"1\" class=\"dataframe\">\n",
       "  <thead>\n",
       "    <tr style=\"text-align: right;\">\n",
       "      <th></th>\n",
       "      <th>id</th>\n",
       "      <th>call_date</th>\n",
       "      <th>duration</th>\n",
       "      <th>user_id</th>\n",
       "      <th>month</th>\n",
       "    </tr>\n",
       "  </thead>\n",
       "  <tbody>\n",
       "    <tr>\n",
       "      <td>2</td>\n",
       "      <td>1000_2</td>\n",
       "      <td>2018-06-11</td>\n",
       "      <td>3.0</td>\n",
       "      <td>1000</td>\n",
       "      <td>6</td>\n",
       "    </tr>\n",
       "    <tr>\n",
       "      <td>3</td>\n",
       "      <td>1000_3</td>\n",
       "      <td>2018-09-21</td>\n",
       "      <td>14.0</td>\n",
       "      <td>1000</td>\n",
       "      <td>9</td>\n",
       "    </tr>\n",
       "    <tr>\n",
       "      <td>4</td>\n",
       "      <td>1000_4</td>\n",
       "      <td>2018-12-15</td>\n",
       "      <td>6.0</td>\n",
       "      <td>1000</td>\n",
       "      <td>12</td>\n",
       "    </tr>\n",
       "    <tr>\n",
       "      <td>7</td>\n",
       "      <td>1000_7</td>\n",
       "      <td>2018-08-22</td>\n",
       "      <td>19.0</td>\n",
       "      <td>1000</td>\n",
       "      <td>8</td>\n",
       "    </tr>\n",
       "    <tr>\n",
       "      <td>8</td>\n",
       "      <td>1000_8</td>\n",
       "      <td>2018-09-15</td>\n",
       "      <td>19.0</td>\n",
       "      <td>1000</td>\n",
       "      <td>9</td>\n",
       "    </tr>\n",
       "  </tbody>\n",
       "</table>\n",
       "</div>"
      ],
      "text/plain": [
       "       id  call_date  duration  user_id  month\n",
       "2  1000_2 2018-06-11       3.0     1000      6\n",
       "3  1000_3 2018-09-21      14.0     1000      9\n",
       "4  1000_4 2018-12-15       6.0     1000     12\n",
       "7  1000_7 2018-08-22      19.0     1000      8\n",
       "8  1000_8 2018-09-15      19.0     1000      9"
      ]
     },
     "execution_count": 27,
     "metadata": {},
     "output_type": "execute_result"
    }
   ],
   "source": [
    "calls.head()"
   ]
  },
  {
   "cell_type": "code",
   "execution_count": 28,
   "metadata": {},
   "outputs": [
    {
     "data": {
      "text/html": [
       "<div>\n",
       "<style scoped>\n",
       "    .dataframe tbody tr th:only-of-type {\n",
       "        vertical-align: middle;\n",
       "    }\n",
       "\n",
       "    .dataframe tbody tr th {\n",
       "        vertical-align: top;\n",
       "    }\n",
       "\n",
       "    .dataframe thead th {\n",
       "        text-align: right;\n",
       "    }\n",
       "</style>\n",
       "<table border=\"1\" class=\"dataframe\">\n",
       "  <thead>\n",
       "    <tr style=\"text-align: right;\">\n",
       "      <th></th>\n",
       "      <th>id</th>\n",
       "      <th>message_date</th>\n",
       "      <th>user_id</th>\n",
       "      <th>month</th>\n",
       "    </tr>\n",
       "  </thead>\n",
       "  <tbody>\n",
       "    <tr>\n",
       "      <td>0</td>\n",
       "      <td>1000_0</td>\n",
       "      <td>2018-06-27</td>\n",
       "      <td>1000</td>\n",
       "      <td>6</td>\n",
       "    </tr>\n",
       "    <tr>\n",
       "      <td>1</td>\n",
       "      <td>1000_1</td>\n",
       "      <td>2018-10-08</td>\n",
       "      <td>1000</td>\n",
       "      <td>10</td>\n",
       "    </tr>\n",
       "    <tr>\n",
       "      <td>2</td>\n",
       "      <td>1000_2</td>\n",
       "      <td>2018-08-04</td>\n",
       "      <td>1000</td>\n",
       "      <td>8</td>\n",
       "    </tr>\n",
       "    <tr>\n",
       "      <td>3</td>\n",
       "      <td>1000_3</td>\n",
       "      <td>2018-06-16</td>\n",
       "      <td>1000</td>\n",
       "      <td>6</td>\n",
       "    </tr>\n",
       "    <tr>\n",
       "      <td>4</td>\n",
       "      <td>1000_4</td>\n",
       "      <td>2018-12-05</td>\n",
       "      <td>1000</td>\n",
       "      <td>12</td>\n",
       "    </tr>\n",
       "  </tbody>\n",
       "</table>\n",
       "</div>"
      ],
      "text/plain": [
       "       id message_date  user_id  month\n",
       "0  1000_0   2018-06-27     1000      6\n",
       "1  1000_1   2018-10-08     1000     10\n",
       "2  1000_2   2018-08-04     1000      8\n",
       "3  1000_3   2018-06-16     1000      6\n",
       "4  1000_4   2018-12-05     1000     12"
      ]
     },
     "execution_count": 28,
     "metadata": {},
     "output_type": "execute_result"
    }
   ],
   "source": [
    "messages.head()"
   ]
  },
  {
   "cell_type": "code",
   "execution_count": 29,
   "metadata": {},
   "outputs": [
    {
     "data": {
      "text/html": [
       "<div>\n",
       "<style scoped>\n",
       "    .dataframe tbody tr th:only-of-type {\n",
       "        vertical-align: middle;\n",
       "    }\n",
       "\n",
       "    .dataframe tbody tr th {\n",
       "        vertical-align: top;\n",
       "    }\n",
       "\n",
       "    .dataframe thead th {\n",
       "        text-align: right;\n",
       "    }\n",
       "</style>\n",
       "<table border=\"1\" class=\"dataframe\">\n",
       "  <thead>\n",
       "    <tr style=\"text-align: right;\">\n",
       "      <th></th>\n",
       "      <th>id</th>\n",
       "      <th>mb_used</th>\n",
       "      <th>session_date</th>\n",
       "      <th>user_id</th>\n",
       "      <th>month</th>\n",
       "    </tr>\n",
       "  </thead>\n",
       "  <tbody>\n",
       "    <tr>\n",
       "      <td>0</td>\n",
       "      <td>1000_0</td>\n",
       "      <td>113.0</td>\n",
       "      <td>2018-11-25</td>\n",
       "      <td>1000</td>\n",
       "      <td>11</td>\n",
       "    </tr>\n",
       "    <tr>\n",
       "      <td>1</td>\n",
       "      <td>1000_1</td>\n",
       "      <td>1053.0</td>\n",
       "      <td>2018-09-07</td>\n",
       "      <td>1000</td>\n",
       "      <td>9</td>\n",
       "    </tr>\n",
       "    <tr>\n",
       "      <td>2</td>\n",
       "      <td>1000_2</td>\n",
       "      <td>1198.0</td>\n",
       "      <td>2018-06-25</td>\n",
       "      <td>1000</td>\n",
       "      <td>6</td>\n",
       "    </tr>\n",
       "    <tr>\n",
       "      <td>3</td>\n",
       "      <td>1000_3</td>\n",
       "      <td>551.0</td>\n",
       "      <td>2018-08-22</td>\n",
       "      <td>1000</td>\n",
       "      <td>8</td>\n",
       "    </tr>\n",
       "    <tr>\n",
       "      <td>4</td>\n",
       "      <td>1000_4</td>\n",
       "      <td>303.0</td>\n",
       "      <td>2018-09-24</td>\n",
       "      <td>1000</td>\n",
       "      <td>9</td>\n",
       "    </tr>\n",
       "  </tbody>\n",
       "</table>\n",
       "</div>"
      ],
      "text/plain": [
       "       id  mb_used session_date  user_id  month\n",
       "0  1000_0    113.0   2018-11-25     1000     11\n",
       "1  1000_1   1053.0   2018-09-07     1000      9\n",
       "2  1000_2   1198.0   2018-06-25     1000      6\n",
       "3  1000_3    551.0   2018-08-22     1000      8\n",
       "4  1000_4    303.0   2018-09-24     1000      9"
      ]
     },
     "execution_count": 29,
     "metadata": {},
     "output_type": "execute_result"
    }
   ],
   "source": [
    "internet.head()"
   ]
  },
  {
   "cell_type": "markdown",
   "metadata": {},
   "source": [
    "Да, все сработало, как нужно."
   ]
  },
  {
   "cell_type": "markdown",
   "metadata": {},
   "source": [
    "### График по кол-ву использованных услуг связь в зависимости от месяца"
   ]
  },
  {
   "cell_type": "code",
   "execution_count": 30,
   "metadata": {},
   "outputs": [],
   "source": [
    "# напишем функцию для построения графиков\n",
    "def barplot_by_month(dfs, query=None):\n",
    "    list_of_dfs = dfs\n",
    "    plt.figure(figsize=(12,5))\n",
    "    ax = plt.gca()\n",
    "    \n",
    "    list_of_colors = ['plum', 'slategrey', 'teal']\n",
    "\n",
    "    dfs_names_for_legend = ['Кол-во звонков', 'Кол-во СМС', 'Кол-во Мб']\n",
    "    legend_list = []\n",
    "\n",
    "    for i in range(len(list_of_dfs)):\n",
    "        curr_df = list_of_dfs[i]\n",
    "        if query == None:\n",
    "            curr_df_prepared = curr_df.groupby('month')['id'].count().reset_index()\n",
    "        else:\n",
    "            curr_df_prepared = curr_df.query(query).groupby('month')['id'].count().reset_index()\n",
    "        plot = curr_df_prepared.plot(x='month', y='id', kind='bar', ec='black', color=list_of_colors[i],\n",
    "                                 ax=ax, width=0.1, position=i)\n",
    "        legend_list.append(dfs_names_for_legend[i])\n",
    "    plt.xticks(rotation=0)\n",
    "    ax.legend(legend_list)"
   ]
  },
  {
   "cell_type": "code",
   "execution_count": 31,
   "metadata": {
    "scrolled": true
   },
   "outputs": [
    {
     "data": {
      "image/png": "[encoded data removed]",
      "text/plain": [
       "<Figure size 864x360 with 1 Axes>"
      ]
     },
     "metadata": {
      "needs_background": "light"
     },
     "output_type": "display_data"
    }
   ],
   "source": [
    "# построим график \n",
    "barplot_by_month([calls, messages, internet])"
   ]
  },
  {
   "cell_type": "markdown",
   "metadata": {},
   "source": [
    "Возрастающий характер графика наталкивает на мысли о том, что тарифы были недавно введены оператором. Соответственно, с каждым месяцем к тарифам подключается все больше абонентов и растет расход общего пакета услуг. Также мы видим, что больше всего используется пакет минут."
   ]
  },
  {
   "cell_type": "markdown",
   "metadata": {},
   "source": [
    "Проверим, сколько ежемесячно новых абонентов регистируется в сети оператора."
   ]
  },
  {
   "cell_type": "code",
   "execution_count": 43,
   "metadata": {},
   "outputs": [
    {
     "data": {
      "text/plain": [
       "Text(0.5, 1.0, 'Регистрация абонентов по месячно')"
      ]
     },
     "execution_count": 43,
     "metadata": {},
     "output_type": "execute_result"
    },
    {
     "data": {
      "image/png": "[encoded data removed]",
      "text/plain": [
       "<Figure size 864x360 with 1 Axes>"
      ]
     },
     "metadata": {
      "needs_background": "light"
     },
     "output_type": "display_data"
    }
   ],
   "source": [
    "# построим гистограмму\n",
    "users['month'].hist(bins=10, figsize=(12, 5))\n",
    "plt.xlabel('Месяц регистрации')\n",
    "plt.ylabel('Кол-во присоединившихся абонентов')\n",
    "plt.title('Регистрация абонентов по месячно')"
   ]
  },
  {
   "cell_type": "code",
   "execution_count": 70,
   "metadata": {},
   "outputs": [
    {
     "data": {
      "image/png": "[encoded data removed]",
      "text/plain": [
       "<Figure size 864x360 with 1 Axes>"
      ]
     },
     "metadata": {
      "needs_background": "light"
     },
     "output_type": "display_data"
    }
   ],
   "source": [
    "# посмотрим распределение расхода пакета услуг по месяцам на примере одного пользователя\n",
    "barplot_by_month([calls, messages, internet], query='user_id == 1000')"
   ]
  },
  {
   "cell_type": "markdown",
   "metadata": {},
   "source": [
    "В рамках одного пользователя показатели +- стабильны, а еще мы видим, что пользователь с id 1000 до сих пор активно использует СМС."
   ]
  },
  {
   "cell_type": "markdown",
   "metadata": {},
   "source": [
    "### Распределение абонентов по регионам"
   ]
  },
  {
   "cell_type": "code",
   "execution_count": 71,
   "metadata": {},
   "outputs": [
    {
     "data": {
      "image/png": "[encoded data removed]",
      "text/plain": [
       "<Figure size 1080x720 with 1 Axes>"
      ]
     },
     "metadata": {
      "needs_background": "light"
     },
     "output_type": "display_data"
    }
   ],
   "source": [
    "all_users = len(users)\n",
    "df_for_barh = users.groupby('city').size()/all_users\n",
    "df_for_barh_filtered = df_for_barh[df_for_barh > 0.02].sort_values()\n",
    "ax = df_for_barh_filtered.plot(kind='barh', color='teal', figsize=(15,10))\n",
    "\n",
    "labels = dict(df_for_barh_filtered)\n",
    "\n",
    "i = 0\n",
    "for city in labels:\n",
    "    ax.text(labels[city] + 0.0005, i + 0.05, str(round(labels[city]*100, 2)) + '%', \n",
    "            fontsize = 'large', fontweight='bold', color='darkviolet')\n",
    "    if i < 9.7:\n",
    "        i += 0.98\n",
    "    else:\n",
    "        i += 1.02"
   ]
  },
  {
   "cell_type": "markdown",
   "metadata": {},
   "source": [
    "Как видим, большая часть абонентов (почти 20%) - из Москвы, второй по численности - Санкт-Петербург (почти 8%), представителей остальных городов около 3% и менее."
   ]
  },
  {
   "cell_type": "markdown",
   "metadata": {},
   "source": [
    "### Выводы"
   ]
  },
  {
   "cell_type": "markdown",
   "metadata": {},
   "source": [
    "- Удалены строки с нулевыми значениями продолжительности интернет-сессий и звонков, т.к. такие строки в рамках данного исследования для нас не информативны;\n",
    "- кол-во потраченных минут и мб округлили в большую сторону (на основе подхода самого оператора), чтобы иметь более точное представление о потраченном пакете услуг и денежных средств за доп. услуги;\n",
    "- изменен формат записи дат;\n",
    "- добавлен столбец с месяцем использования той или иной услуги связи;\n",
    "- выяснили, что большая часть пользователей из Москвы;\n",
    "- абоненты оператора чаще всего используют для связи звонки и почему-то до сих пор использую СМС;\n",
    "- судя по всему мы имеем дело с недавно запущенными тарифами."
   ]
  },
  {
   "cell_type": "markdown",
   "metadata": {},
   "source": [
    "## Расчет данных для исследования"
   ]
  },
  {
   "cell_type": "markdown",
   "metadata": {},
   "source": [
    "### Расчет количества сделанных звонков, израсходованных минут разговора, отправленных сообщений  и израсходыванного интернет-трафика по месяцам"
   ]
  },
  {
   "cell_type": "markdown",
   "metadata": {},
   "source": [
    "Объединим необходимые данные в один датафрейм."
   ]
  },
  {
   "cell_type": "code",
   "execution_count": 72,
   "metadata": {},
   "outputs": [],
   "source": [
    "# создадим три новые таблицы, сгруппированные по нужной нам информации\n",
    "number_of_calls = calls.groupby(['user_id', 'month'])['duration'].agg(['count', 'sum'])\n",
    "number_of_messages = messages.groupby(['user_id', 'month'])['id'].count()\n",
    "number_of_internet = internet.groupby(['user_id', 'month']).sum()['mb_used']"
   ]
  },
  {
   "cell_type": "code",
   "execution_count": 73,
   "metadata": {},
   "outputs": [
    {
     "data": {
      "text/html": [
       "<div>\n",
       "<style scoped>\n",
       "    .dataframe tbody tr th:only-of-type {\n",
       "        vertical-align: middle;\n",
       "    }\n",
       "\n",
       "    .dataframe tbody tr th {\n",
       "        vertical-align: top;\n",
       "    }\n",
       "\n",
       "    .dataframe thead th {\n",
       "        text-align: right;\n",
       "    }\n",
       "</style>\n",
       "<table border=\"1\" class=\"dataframe\">\n",
       "  <thead>\n",
       "    <tr style=\"text-align: right;\">\n",
       "      <th></th>\n",
       "      <th>user_id</th>\n",
       "      <th>month</th>\n",
       "      <th>count</th>\n",
       "      <th>sum</th>\n",
       "      <th>id</th>\n",
       "      <th>mb_used</th>\n",
       "    </tr>\n",
       "  </thead>\n",
       "  <tbody>\n",
       "    <tr>\n",
       "      <td>0</td>\n",
       "      <td>1000</td>\n",
       "      <td>5</td>\n",
       "      <td>17.0</td>\n",
       "      <td>159.0</td>\n",
       "      <td>22.0</td>\n",
       "      <td>2256.0</td>\n",
       "    </tr>\n",
       "    <tr>\n",
       "      <td>1</td>\n",
       "      <td>1000</td>\n",
       "      <td>6</td>\n",
       "      <td>28.0</td>\n",
       "      <td>172.0</td>\n",
       "      <td>60.0</td>\n",
       "      <td>23257.0</td>\n",
       "    </tr>\n",
       "    <tr>\n",
       "      <td>2</td>\n",
       "      <td>1000</td>\n",
       "      <td>7</td>\n",
       "      <td>41.0</td>\n",
       "      <td>340.0</td>\n",
       "      <td>75.0</td>\n",
       "      <td>14016.0</td>\n",
       "    </tr>\n",
       "    <tr>\n",
       "      <td>3</td>\n",
       "      <td>1000</td>\n",
       "      <td>8</td>\n",
       "      <td>42.0</td>\n",
       "      <td>408.0</td>\n",
       "      <td>81.0</td>\n",
       "      <td>14070.0</td>\n",
       "    </tr>\n",
       "    <tr>\n",
       "      <td>4</td>\n",
       "      <td>1000</td>\n",
       "      <td>9</td>\n",
       "      <td>46.0</td>\n",
       "      <td>466.0</td>\n",
       "      <td>57.0</td>\n",
       "      <td>14581.0</td>\n",
       "    </tr>\n",
       "  </tbody>\n",
       "</table>\n",
       "</div>"
      ],
      "text/plain": [
       "   user_id  month  count    sum    id  mb_used\n",
       "0     1000      5   17.0  159.0  22.0   2256.0\n",
       "1     1000      6   28.0  172.0  60.0  23257.0\n",
       "2     1000      7   41.0  340.0  75.0  14016.0\n",
       "3     1000      8   42.0  408.0  81.0  14070.0\n",
       "4     1000      9   46.0  466.0  57.0  14581.0"
      ]
     },
     "execution_count": 73,
     "metadata": {},
     "output_type": "execute_result"
    }
   ],
   "source": [
    "# объединим таблицы, перезададим индексы\n",
    "spent_communication_services = pd.concat([number_of_calls, number_of_messages, number_of_internet], axis=1)\n",
    "spent_communication_services = spent_communication_services.reset_index()\n",
    "spent_communication_services.head()"
   ]
  },
  {
   "cell_type": "markdown",
   "metadata": {},
   "source": [
    "Проверим, корректно ли объединились данные, сравнив суммарное кол-во минут разговоров, кол-во отправленных сообщений и потраченного интернет-трафика."
   ]
  },
  {
   "cell_type": "code",
   "execution_count": 74,
   "metadata": {},
   "outputs": [
    {
     "name": "stdout",
     "output_type": "stream",
     "text": [
      "1450301.0\n",
      "1450301.0\n"
     ]
    }
   ],
   "source": [
    "# выведем общее кол-во минут разговора в обеих таблицах\n",
    "print(calls['duration'].sum())\n",
    "print(spent_communication_services['sum'].sum())"
   ]
  },
  {
   "cell_type": "code",
   "execution_count": 75,
   "metadata": {},
   "outputs": [
    {
     "name": "stdout",
     "output_type": "stream",
     "text": [
      "123036\n",
      "123036.0\n"
     ]
    }
   ],
   "source": [
    "# выведем общее кол-во отправленных сообщений в обеих таблицах\n",
    "print(messages['id'].count())\n",
    "print(spent_communication_services['id'].sum())"
   ]
  },
  {
   "cell_type": "code",
   "execution_count": 76,
   "metadata": {},
   "outputs": [
    {
     "name": "stdout",
     "output_type": "stream",
     "text": [
      "55369459.0\n",
      "55369459.0\n"
     ]
    }
   ],
   "source": [
    "# выведем общее кол-во израсходованного интернет-трафика в обеих таблицах\n",
    "print(internet['mb_used'].sum())\n",
    "print(spent_communication_services['mb_used'].sum())"
   ]
  },
  {
   "cell_type": "markdown",
   "metadata": {},
   "source": [
    "Как мы видим, данные объединились корректно."
   ]
  },
  {
   "cell_type": "markdown",
   "metadata": {},
   "source": [
    "### Добавим информацию по тарифу и городу каждого абонента"
   ]
  },
  {
   "cell_type": "code",
   "execution_count": 77,
   "metadata": {},
   "outputs": [],
   "source": [
    "# заполним информацию по используемому тарифу и городу проживания для каждого пользователя, добавим новые столбцы\n",
    "filling_tariff = dict(pd.Series(users['tariff'].values, index=users['user_id']))\n",
    "filling_city = dict(pd.Series(users['city'].values, index=users['user_id']))\n",
    "\n",
    "spent_communication_services['tariff'] = spent_communication_services['user_id'].map(filling_tariff)\n",
    "spent_communication_services['city'] = spent_communication_services['user_id'].map(filling_city)"
   ]
  },
  {
   "cell_type": "code",
   "execution_count": 78,
   "metadata": {},
   "outputs": [
    {
     "data": {
      "text/html": [
       "<div>\n",
       "<style scoped>\n",
       "    .dataframe tbody tr th:only-of-type {\n",
       "        vertical-align: middle;\n",
       "    }\n",
       "\n",
       "    .dataframe tbody tr th {\n",
       "        vertical-align: top;\n",
       "    }\n",
       "\n",
       "    .dataframe thead th {\n",
       "        text-align: right;\n",
       "    }\n",
       "</style>\n",
       "<table border=\"1\" class=\"dataframe\">\n",
       "  <thead>\n",
       "    <tr style=\"text-align: right;\">\n",
       "      <th></th>\n",
       "      <th>user_id</th>\n",
       "      <th>month</th>\n",
       "      <th>count</th>\n",
       "      <th>sum</th>\n",
       "      <th>id</th>\n",
       "      <th>mb_used</th>\n",
       "      <th>tariff</th>\n",
       "      <th>city</th>\n",
       "    </tr>\n",
       "  </thead>\n",
       "  <tbody>\n",
       "    <tr>\n",
       "      <td>0</td>\n",
       "      <td>1000</td>\n",
       "      <td>5</td>\n",
       "      <td>17.0</td>\n",
       "      <td>159.0</td>\n",
       "      <td>22.0</td>\n",
       "      <td>2256.0</td>\n",
       "      <td>ultra</td>\n",
       "      <td>Краснодар</td>\n",
       "    </tr>\n",
       "    <tr>\n",
       "      <td>1</td>\n",
       "      <td>1000</td>\n",
       "      <td>6</td>\n",
       "      <td>28.0</td>\n",
       "      <td>172.0</td>\n",
       "      <td>60.0</td>\n",
       "      <td>23257.0</td>\n",
       "      <td>ultra</td>\n",
       "      <td>Краснодар</td>\n",
       "    </tr>\n",
       "    <tr>\n",
       "      <td>2</td>\n",
       "      <td>1000</td>\n",
       "      <td>7</td>\n",
       "      <td>41.0</td>\n",
       "      <td>340.0</td>\n",
       "      <td>75.0</td>\n",
       "      <td>14016.0</td>\n",
       "      <td>ultra</td>\n",
       "      <td>Краснодар</td>\n",
       "    </tr>\n",
       "    <tr>\n",
       "      <td>3</td>\n",
       "      <td>1000</td>\n",
       "      <td>8</td>\n",
       "      <td>42.0</td>\n",
       "      <td>408.0</td>\n",
       "      <td>81.0</td>\n",
       "      <td>14070.0</td>\n",
       "      <td>ultra</td>\n",
       "      <td>Краснодар</td>\n",
       "    </tr>\n",
       "    <tr>\n",
       "      <td>4</td>\n",
       "      <td>1000</td>\n",
       "      <td>9</td>\n",
       "      <td>46.0</td>\n",
       "      <td>466.0</td>\n",
       "      <td>57.0</td>\n",
       "      <td>14581.0</td>\n",
       "      <td>ultra</td>\n",
       "      <td>Краснодар</td>\n",
       "    </tr>\n",
       "  </tbody>\n",
       "</table>\n",
       "</div>"
      ],
      "text/plain": [
       "   user_id  month  count    sum    id  mb_used tariff       city\n",
       "0     1000      5   17.0  159.0  22.0   2256.0  ultra  Краснодар\n",
       "1     1000      6   28.0  172.0  60.0  23257.0  ultra  Краснодар\n",
       "2     1000      7   41.0  340.0  75.0  14016.0  ultra  Краснодар\n",
       "3     1000      8   42.0  408.0  81.0  14070.0  ultra  Краснодар\n",
       "4     1000      9   46.0  466.0  57.0  14581.0  ultra  Краснодар"
      ]
     },
     "execution_count": 78,
     "metadata": {},
     "output_type": "execute_result"
    }
   ],
   "source": [
    "spent_communication_services.head()"
   ]
  },
  {
   "cell_type": "code",
   "execution_count": 79,
   "metadata": {},
   "outputs": [],
   "source": [
    "# переименуем столбцы для удобства и наглядности\n",
    "spent_communication_services.columns = ['user_id', 'month', 'number_of_calls', 'calls_in_min', 'number_of_msgs', 'number_of_mb_used', 'tariff_name', 'city']"
   ]
  },
  {
   "cell_type": "markdown",
   "metadata": {},
   "source": [
    "### Пропущенные значения в услугах тарифов"
   ]
  },
  {
   "cell_type": "code",
   "execution_count": 80,
   "metadata": {},
   "outputs": [
    {
     "data": {
      "text/html": [
       "<div>\n",
       "<style scoped>\n",
       "    .dataframe tbody tr th:only-of-type {\n",
       "        vertical-align: middle;\n",
       "    }\n",
       "\n",
       "    .dataframe tbody tr th {\n",
       "        vertical-align: top;\n",
       "    }\n",
       "\n",
       "    .dataframe thead th {\n",
       "        text-align: right;\n",
       "    }\n",
       "</style>\n",
       "<table border=\"1\" class=\"dataframe\">\n",
       "  <thead>\n",
       "    <tr style=\"text-align: right;\">\n",
       "      <th></th>\n",
       "      <th>user_id</th>\n",
       "      <th>month</th>\n",
       "      <th>number_of_calls</th>\n",
       "      <th>calls_in_min</th>\n",
       "      <th>number_of_msgs</th>\n",
       "      <th>number_of_mb_used</th>\n",
       "      <th>tariff_name</th>\n",
       "      <th>city</th>\n",
       "    </tr>\n",
       "  </thead>\n",
       "  <tbody>\n",
       "    <tr>\n",
       "      <td>0</td>\n",
       "      <td>1000</td>\n",
       "      <td>5</td>\n",
       "      <td>17.0</td>\n",
       "      <td>159.0</td>\n",
       "      <td>22.0</td>\n",
       "      <td>2256.0</td>\n",
       "      <td>ultra</td>\n",
       "      <td>Краснодар</td>\n",
       "    </tr>\n",
       "    <tr>\n",
       "      <td>1</td>\n",
       "      <td>1000</td>\n",
       "      <td>6</td>\n",
       "      <td>28.0</td>\n",
       "      <td>172.0</td>\n",
       "      <td>60.0</td>\n",
       "      <td>23257.0</td>\n",
       "      <td>ultra</td>\n",
       "      <td>Краснодар</td>\n",
       "    </tr>\n",
       "    <tr>\n",
       "      <td>2</td>\n",
       "      <td>1000</td>\n",
       "      <td>7</td>\n",
       "      <td>41.0</td>\n",
       "      <td>340.0</td>\n",
       "      <td>75.0</td>\n",
       "      <td>14016.0</td>\n",
       "      <td>ultra</td>\n",
       "      <td>Краснодар</td>\n",
       "    </tr>\n",
       "    <tr>\n",
       "      <td>3</td>\n",
       "      <td>1000</td>\n",
       "      <td>8</td>\n",
       "      <td>42.0</td>\n",
       "      <td>408.0</td>\n",
       "      <td>81.0</td>\n",
       "      <td>14070.0</td>\n",
       "      <td>ultra</td>\n",
       "      <td>Краснодар</td>\n",
       "    </tr>\n",
       "    <tr>\n",
       "      <td>4</td>\n",
       "      <td>1000</td>\n",
       "      <td>9</td>\n",
       "      <td>46.0</td>\n",
       "      <td>466.0</td>\n",
       "      <td>57.0</td>\n",
       "      <td>14581.0</td>\n",
       "      <td>ultra</td>\n",
       "      <td>Краснодар</td>\n",
       "    </tr>\n",
       "  </tbody>\n",
       "</table>\n",
       "</div>"
      ],
      "text/plain": [
       "   user_id  month  number_of_calls  calls_in_min  number_of_msgs  \\\n",
       "0     1000      5             17.0         159.0            22.0   \n",
       "1     1000      6             28.0         172.0            60.0   \n",
       "2     1000      7             41.0         340.0            75.0   \n",
       "3     1000      8             42.0         408.0            81.0   \n",
       "4     1000      9             46.0         466.0            57.0   \n",
       "\n",
       "   number_of_mb_used tariff_name       city  \n",
       "0             2256.0       ultra  Краснодар  \n",
       "1            23257.0       ultra  Краснодар  \n",
       "2            14016.0       ultra  Краснодар  \n",
       "3            14070.0       ultra  Краснодар  \n",
       "4            14581.0       ultra  Краснодар  "
      ]
     },
     "execution_count": 80,
     "metadata": {},
     "output_type": "execute_result"
    }
   ],
   "source": [
    "spent_communication_services.head()"
   ]
  },
  {
   "cell_type": "code",
   "execution_count": 81,
   "metadata": {
    "scrolled": true
   },
   "outputs": [
    {
     "name": "stdout",
     "output_type": "stream",
     "text": [
      "<class 'pandas.core.frame.DataFrame'>\n",
      "RangeIndex: 3214 entries, 0 to 3213\n",
      "Data columns (total 8 columns):\n",
      "user_id              3214 non-null int64\n",
      "month                3214 non-null int64\n",
      "number_of_calls      3168 non-null float64\n",
      "calls_in_min         3168 non-null float64\n",
      "number_of_msgs       2717 non-null float64\n",
      "number_of_mb_used    3201 non-null float64\n",
      "tariff_name          3214 non-null object\n",
      "city                 3214 non-null object\n",
      "dtypes: float64(4), int64(2), object(2)\n",
      "memory usage: 201.0+ KB\n"
     ]
    }
   ],
   "source": [
    "# проверим общую информацию по сведенной таблице\n",
    "spent_communication_services.info()"
   ]
  },
  {
   "cell_type": "markdown",
   "metadata": {},
   "source": [
    "Мы видим, что в таблице присутствуют пропущенные значения. Выведем на экран строки с пропущенными значениями в одном из способов связи, чтобы оценить масштаб проблемы."
   ]
  },
  {
   "cell_type": "code",
   "execution_count": 82,
   "metadata": {
    "scrolled": true
   },
   "outputs": [
    {
     "data": {
      "text/html": [
       "<div>\n",
       "<style scoped>\n",
       "    .dataframe tbody tr th:only-of-type {\n",
       "        vertical-align: middle;\n",
       "    }\n",
       "\n",
       "    .dataframe tbody tr th {\n",
       "        vertical-align: top;\n",
       "    }\n",
       "\n",
       "    .dataframe thead th {\n",
       "        text-align: right;\n",
       "    }\n",
       "</style>\n",
       "<table border=\"1\" class=\"dataframe\">\n",
       "  <thead>\n",
       "    <tr style=\"text-align: right;\">\n",
       "      <th></th>\n",
       "      <th>user_id</th>\n",
       "      <th>month</th>\n",
       "      <th>number_of_calls</th>\n",
       "      <th>calls_in_min</th>\n",
       "      <th>number_of_msgs</th>\n",
       "      <th>number_of_mb_used</th>\n",
       "      <th>tariff_name</th>\n",
       "      <th>city</th>\n",
       "    </tr>\n",
       "  </thead>\n",
       "  <tbody>\n",
       "    <tr>\n",
       "      <td>592</td>\n",
       "      <td>1094</td>\n",
       "      <td>5</td>\n",
       "      <td>12.0</td>\n",
       "      <td>107.0</td>\n",
       "      <td>3.0</td>\n",
       "      <td>NaN</td>\n",
       "      <td>ultra</td>\n",
       "      <td>Новосибирск</td>\n",
       "    </tr>\n",
       "    <tr>\n",
       "      <td>1722</td>\n",
       "      <td>1273</td>\n",
       "      <td>5</td>\n",
       "      <td>19.0</td>\n",
       "      <td>220.0</td>\n",
       "      <td>21.0</td>\n",
       "      <td>NaN</td>\n",
       "      <td>ultra</td>\n",
       "      <td>Курган</td>\n",
       "    </tr>\n",
       "    <tr>\n",
       "      <td>1723</td>\n",
       "      <td>1273</td>\n",
       "      <td>6</td>\n",
       "      <td>28.0</td>\n",
       "      <td>230.0</td>\n",
       "      <td>38.0</td>\n",
       "      <td>NaN</td>\n",
       "      <td>ultra</td>\n",
       "      <td>Курган</td>\n",
       "    </tr>\n",
       "    <tr>\n",
       "      <td>1724</td>\n",
       "      <td>1273</td>\n",
       "      <td>7</td>\n",
       "      <td>30.0</td>\n",
       "      <td>253.0</td>\n",
       "      <td>37.0</td>\n",
       "      <td>NaN</td>\n",
       "      <td>ultra</td>\n",
       "      <td>Курган</td>\n",
       "    </tr>\n",
       "    <tr>\n",
       "      <td>1725</td>\n",
       "      <td>1273</td>\n",
       "      <td>8</td>\n",
       "      <td>39.0</td>\n",
       "      <td>253.0</td>\n",
       "      <td>41.0</td>\n",
       "      <td>NaN</td>\n",
       "      <td>ultra</td>\n",
       "      <td>Курган</td>\n",
       "    </tr>\n",
       "    <tr>\n",
       "      <td>1726</td>\n",
       "      <td>1273</td>\n",
       "      <td>9</td>\n",
       "      <td>28.0</td>\n",
       "      <td>223.0</td>\n",
       "      <td>32.0</td>\n",
       "      <td>NaN</td>\n",
       "      <td>ultra</td>\n",
       "      <td>Курган</td>\n",
       "    </tr>\n",
       "    <tr>\n",
       "      <td>1727</td>\n",
       "      <td>1273</td>\n",
       "      <td>10</td>\n",
       "      <td>35.0</td>\n",
       "      <td>315.0</td>\n",
       "      <td>35.0</td>\n",
       "      <td>NaN</td>\n",
       "      <td>ultra</td>\n",
       "      <td>Курган</td>\n",
       "    </tr>\n",
       "    <tr>\n",
       "      <td>1728</td>\n",
       "      <td>1273</td>\n",
       "      <td>11</td>\n",
       "      <td>31.0</td>\n",
       "      <td>272.0</td>\n",
       "      <td>29.0</td>\n",
       "      <td>NaN</td>\n",
       "      <td>ultra</td>\n",
       "      <td>Курган</td>\n",
       "    </tr>\n",
       "    <tr>\n",
       "      <td>1729</td>\n",
       "      <td>1273</td>\n",
       "      <td>12</td>\n",
       "      <td>38.0</td>\n",
       "      <td>260.0</td>\n",
       "      <td>39.0</td>\n",
       "      <td>NaN</td>\n",
       "      <td>ultra</td>\n",
       "      <td>Курган</td>\n",
       "    </tr>\n",
       "    <tr>\n",
       "      <td>2306</td>\n",
       "      <td>1365</td>\n",
       "      <td>10</td>\n",
       "      <td>5.0</td>\n",
       "      <td>43.0</td>\n",
       "      <td>1.0</td>\n",
       "      <td>NaN</td>\n",
       "      <td>smart</td>\n",
       "      <td>Ростов-на-Дону</td>\n",
       "    </tr>\n",
       "    <tr>\n",
       "      <td>2387</td>\n",
       "      <td>1377</td>\n",
       "      <td>2</td>\n",
       "      <td>20.0</td>\n",
       "      <td>179.0</td>\n",
       "      <td>2.0</td>\n",
       "      <td>NaN</td>\n",
       "      <td>ultra</td>\n",
       "      <td>Брянск</td>\n",
       "    </tr>\n",
       "    <tr>\n",
       "      <td>2500</td>\n",
       "      <td>1392</td>\n",
       "      <td>2</td>\n",
       "      <td>2.0</td>\n",
       "      <td>13.0</td>\n",
       "      <td>3.0</td>\n",
       "      <td>NaN</td>\n",
       "      <td>ultra</td>\n",
       "      <td>Челябинск</td>\n",
       "    </tr>\n",
       "    <tr>\n",
       "      <td>2858</td>\n",
       "      <td>1446</td>\n",
       "      <td>8</td>\n",
       "      <td>4.0</td>\n",
       "      <td>50.0</td>\n",
       "      <td>1.0</td>\n",
       "      <td>NaN</td>\n",
       "      <td>smart</td>\n",
       "      <td>Липецк</td>\n",
       "    </tr>\n",
       "  </tbody>\n",
       "</table>\n",
       "</div>"
      ],
      "text/plain": [
       "      user_id  month  number_of_calls  calls_in_min  number_of_msgs  \\\n",
       "592      1094      5             12.0         107.0             3.0   \n",
       "1722     1273      5             19.0         220.0            21.0   \n",
       "1723     1273      6             28.0         230.0            38.0   \n",
       "1724     1273      7             30.0         253.0            37.0   \n",
       "1725     1273      8             39.0         253.0            41.0   \n",
       "1726     1273      9             28.0         223.0            32.0   \n",
       "1727     1273     10             35.0         315.0            35.0   \n",
       "1728     1273     11             31.0         272.0            29.0   \n",
       "1729     1273     12             38.0         260.0            39.0   \n",
       "2306     1365     10              5.0          43.0             1.0   \n",
       "2387     1377      2             20.0         179.0             2.0   \n",
       "2500     1392      2              2.0          13.0             3.0   \n",
       "2858     1446      8              4.0          50.0             1.0   \n",
       "\n",
       "      number_of_mb_used tariff_name            city  \n",
       "592                 NaN       ultra     Новосибирск  \n",
       "1722                NaN       ultra          Курган  \n",
       "1723                NaN       ultra          Курган  \n",
       "1724                NaN       ultra          Курган  \n",
       "1725                NaN       ultra          Курган  \n",
       "1726                NaN       ultra          Курган  \n",
       "1727                NaN       ultra          Курган  \n",
       "1728                NaN       ultra          Курган  \n",
       "1729                NaN       ultra          Курган  \n",
       "2306                NaN       smart  Ростов-на-Дону  \n",
       "2387                NaN       ultra          Брянск  \n",
       "2500                NaN       ultra       Челябинск  \n",
       "2858                NaN       smart          Липецк  "
      ]
     },
     "execution_count": 82,
     "metadata": {},
     "output_type": "execute_result"
    }
   ],
   "source": [
    "# выводим строки с пропусками с кол-ве израсходованных мб интернета\n",
    "spent_communication_services[spent_communication_services['number_of_mb_used'].isnull()]"
   ]
  },
  {
   "cell_type": "markdown",
   "metadata": {},
   "source": [
    "Пропуски есть в каждом виде связи, но есть предположение, что просто разные пользователи могут использовать преимущественно разные наборы и услуг из пакета тарифа и в какой-то из месяцев совсем не использовать интернет или смс. Посмотрим, есть ли у нас в таблице совсем неактивные пользователи."
   ]
  },
  {
   "cell_type": "code",
   "execution_count": 83,
   "metadata": {},
   "outputs": [
    {
     "data": {
      "text/html": [
       "<div>\n",
       "<style scoped>\n",
       "    .dataframe tbody tr th:only-of-type {\n",
       "        vertical-align: middle;\n",
       "    }\n",
       "\n",
       "    .dataframe tbody tr th {\n",
       "        vertical-align: top;\n",
       "    }\n",
       "\n",
       "    .dataframe thead th {\n",
       "        text-align: right;\n",
       "    }\n",
       "</style>\n",
       "<table border=\"1\" class=\"dataframe\">\n",
       "  <thead>\n",
       "    <tr style=\"text-align: right;\">\n",
       "      <th></th>\n",
       "      <th>user_id</th>\n",
       "      <th>month</th>\n",
       "      <th>number_of_calls</th>\n",
       "      <th>calls_in_min</th>\n",
       "      <th>number_of_msgs</th>\n",
       "      <th>number_of_mb_used</th>\n",
       "      <th>tariff_name</th>\n",
       "      <th>city</th>\n",
       "    </tr>\n",
       "  </thead>\n",
       "  <tbody>\n",
       "  </tbody>\n",
       "</table>\n",
       "</div>"
      ],
      "text/plain": [
       "Empty DataFrame\n",
       "Columns: [user_id, month, number_of_calls, calls_in_min, number_of_msgs, number_of_mb_used, tariff_name, city]\n",
       "Index: []"
      ]
     },
     "execution_count": 83,
     "metadata": {},
     "output_type": "execute_result"
    }
   ],
   "source": [
    "# проверим, есть ли в таблице пользователи с пропусками в кол-ве звонков, смс и мб\n",
    "spent_communication_services[(spent_communication_services['number_of_mb_used'].isnull()) & (spent_communication_services['number_of_msgs'].isnull()) & (spent_communication_services['calls_in_min'].isnull())]"
   ]
  },
  {
   "cell_type": "markdown",
   "metadata": {},
   "source": [
    "Таких абонентов нет, все абоненты активны, следовательно, скорее всего они действительно в какой-то из месяцев могли не использовать пакет услуг наполную. Соответственно, это не пропуски, а отсутствие коммуникации с другими абонентами посредством того или иного вида связи, значит количество минут, смс и мб в таком случае равно нулю."
   ]
  },
  {
   "cell_type": "code",
   "execution_count": 84,
   "metadata": {},
   "outputs": [],
   "source": [
    "# заполняем пропуски на 0\n",
    "spent_communication_services = spent_communication_services.fillna(0)"
   ]
  },
  {
   "cell_type": "markdown",
   "metadata": {},
   "source": [
    "### Достаточно ли абонентам тарифного плана?"
   ]
  },
  {
   "cell_type": "markdown",
   "metadata": {},
   "source": [
    "Посмотрим, сколько каждый из абонентов доплачивает за использование услуг сверх тарифного плана."
   ]
  },
  {
   "cell_type": "code",
   "execution_count": 85,
   "metadata": {},
   "outputs": [],
   "source": [
    "# объявим функцию для вычисления минут, наговоренных абонентом, но вышедших за лимиты его тарифа\n",
    "# для смарта лимит - 500 минут, для ультры - 3000 минут\n",
    "def calls_over_plan(row):\n",
    "    if row['tariff_name'] == 'smart':\n",
    "        result = row['calls_in_min'] - 500\n",
    "        return np.where(result > 0, result, 0)\n",
    "    else:\n",
    "        result = row['calls_in_min'] - 3000\n",
    "        return np.where(result > 0, result, 0)\n",
    "    \n",
    "# объявим функцию для вычисления количества смс, отправленных пользователем в этом месяце, но вышедших за лимиты его тарифа\n",
    "# для смарта лимит - 50 сообщений, для ультры - 1000\n",
    "def sms_over_plan(row):\n",
    "    if row['tariff_name'] == 'smart':\n",
    "        result = row['number_of_msgs'] - 50\n",
    "        return np.where(result > 0, result, 0)\n",
    "    else:\n",
    "        result =  row['number_of_msgs'] - 1000\n",
    "        return np.where(result > 0, result, 0)\n",
    "    \n",
    "# объявим функцию для вычисления количества мб интернета, которые потратил абонент сверх тарифного плана\n",
    "# в покет услуг по тарифу смарт входит 15 360 мб, по тарифу ультра - 30 720 мб\n",
    "def internet_over_plan(row):\n",
    "    if row['tariff_name'] == 'smart':\n",
    "        result = row['number_of_mb_used'] - 15 * 1024\n",
    "        return np.where(result > 0, result, 0)\n",
    "    else:\n",
    "        result = row['number_of_mb_used'] - 30 * 1024\n",
    "        return np.where(result > 0, result, 0)\n",
    "    \n",
    "# объявим функцию для вычисления, сколько пользователь потратил денежных средств на услуги сверх пакета тарифа    \n",
    "def month_revenue(row):\n",
    "    sum_per_month = 0\n",
    "    if row['tariff_name'] == 'smart':\n",
    "        sum_per_month += np.ceil(row['calls_over_plan_min']) * 3\n",
    "        sum_per_month += row['msgs_over_plan'] * 3\n",
    "        sum_per_month += np.ceil(row['mb_over_plan']/1024) * 200\n",
    "        return sum_per_month\n",
    "    \n",
    "    else:\n",
    "        sum_per_month += np.ceil(row['calls_over_plan_min']) * 1\n",
    "        sum_per_month += row['msgs_over_plan'] * 1\n",
    "        sum_per_month += np.ceil(row['mb_over_plan']/1024) * 150\n",
    "        return sum_per_month"
   ]
  },
  {
   "cell_type": "code",
   "execution_count": 86,
   "metadata": {},
   "outputs": [],
   "source": [
    "# добавим столбцы с услугами сверх тарифного плана\n",
    "spent_communication_services['calls_over_plan_min'] = spent_communication_services.apply(calls_over_plan, axis=1)\n",
    "spent_communication_services['msgs_over_plan'] = spent_communication_services.apply(sms_over_plan, axis=1)\n",
    "spent_communication_services['mb_over_plan'] = spent_communication_services.apply(internet_over_plan, axis=1)\n",
    "# столбец с суммой доплаты за услуги сверх тарифного плана\n",
    "spent_communication_services['extra_pay_rub'] = spent_communication_services.apply(month_revenue, axis=1)"
   ]
  },
  {
   "cell_type": "markdown",
   "metadata": {},
   "source": [
    "Для дальнейшего удобства работы с таблицей и вычисления общей выручки по каждому клиенту добавим еще столбцы с абонентской платой по каждому тарифу."
   ]
  },
  {
   "cell_type": "code",
   "execution_count": 87,
   "metadata": {},
   "outputs": [],
   "source": [
    "monthly_fee = {'smart': 550, 'ultra': 1950}\n",
    "spent_communication_services['fee_in_rub'] = spent_communication_services['tariff_name'].map(monthly_fee)"
   ]
  },
  {
   "cell_type": "code",
   "execution_count": 88,
   "metadata": {},
   "outputs": [
    {
     "data": {
      "text/html": [
       "<div>\n",
       "<style scoped>\n",
       "    .dataframe tbody tr th:only-of-type {\n",
       "        vertical-align: middle;\n",
       "    }\n",
       "\n",
       "    .dataframe tbody tr th {\n",
       "        vertical-align: top;\n",
       "    }\n",
       "\n",
       "    .dataframe thead th {\n",
       "        text-align: right;\n",
       "    }\n",
       "</style>\n",
       "<table border=\"1\" class=\"dataframe\">\n",
       "  <thead>\n",
       "    <tr style=\"text-align: right;\">\n",
       "      <th></th>\n",
       "      <th>user_id</th>\n",
       "      <th>month</th>\n",
       "      <th>number_of_calls</th>\n",
       "      <th>calls_in_min</th>\n",
       "      <th>number_of_msgs</th>\n",
       "      <th>number_of_mb_used</th>\n",
       "      <th>tariff_name</th>\n",
       "      <th>city</th>\n",
       "      <th>calls_over_plan_min</th>\n",
       "      <th>msgs_over_plan</th>\n",
       "      <th>mb_over_plan</th>\n",
       "      <th>extra_pay_rub</th>\n",
       "      <th>fee_in_rub</th>\n",
       "    </tr>\n",
       "  </thead>\n",
       "  <tbody>\n",
       "    <tr>\n",
       "      <td>0</td>\n",
       "      <td>1000</td>\n",
       "      <td>5</td>\n",
       "      <td>17.0</td>\n",
       "      <td>159.0</td>\n",
       "      <td>22.0</td>\n",
       "      <td>2256.0</td>\n",
       "      <td>ultra</td>\n",
       "      <td>Краснодар</td>\n",
       "      <td>0.0</td>\n",
       "      <td>0.0</td>\n",
       "      <td>0.0</td>\n",
       "      <td>0.0</td>\n",
       "      <td>1950</td>\n",
       "    </tr>\n",
       "    <tr>\n",
       "      <td>1</td>\n",
       "      <td>1000</td>\n",
       "      <td>6</td>\n",
       "      <td>28.0</td>\n",
       "      <td>172.0</td>\n",
       "      <td>60.0</td>\n",
       "      <td>23257.0</td>\n",
       "      <td>ultra</td>\n",
       "      <td>Краснодар</td>\n",
       "      <td>0.0</td>\n",
       "      <td>0.0</td>\n",
       "      <td>0.0</td>\n",
       "      <td>0.0</td>\n",
       "      <td>1950</td>\n",
       "    </tr>\n",
       "    <tr>\n",
       "      <td>2</td>\n",
       "      <td>1000</td>\n",
       "      <td>7</td>\n",
       "      <td>41.0</td>\n",
       "      <td>340.0</td>\n",
       "      <td>75.0</td>\n",
       "      <td>14016.0</td>\n",
       "      <td>ultra</td>\n",
       "      <td>Краснодар</td>\n",
       "      <td>0.0</td>\n",
       "      <td>0.0</td>\n",
       "      <td>0.0</td>\n",
       "      <td>0.0</td>\n",
       "      <td>1950</td>\n",
       "    </tr>\n",
       "    <tr>\n",
       "      <td>3</td>\n",
       "      <td>1000</td>\n",
       "      <td>8</td>\n",
       "      <td>42.0</td>\n",
       "      <td>408.0</td>\n",
       "      <td>81.0</td>\n",
       "      <td>14070.0</td>\n",
       "      <td>ultra</td>\n",
       "      <td>Краснодар</td>\n",
       "      <td>0.0</td>\n",
       "      <td>0.0</td>\n",
       "      <td>0.0</td>\n",
       "      <td>0.0</td>\n",
       "      <td>1950</td>\n",
       "    </tr>\n",
       "    <tr>\n",
       "      <td>4</td>\n",
       "      <td>1000</td>\n",
       "      <td>9</td>\n",
       "      <td>46.0</td>\n",
       "      <td>466.0</td>\n",
       "      <td>57.0</td>\n",
       "      <td>14581.0</td>\n",
       "      <td>ultra</td>\n",
       "      <td>Краснодар</td>\n",
       "      <td>0.0</td>\n",
       "      <td>0.0</td>\n",
       "      <td>0.0</td>\n",
       "      <td>0.0</td>\n",
       "      <td>1950</td>\n",
       "    </tr>\n",
       "  </tbody>\n",
       "</table>\n",
       "</div>"
      ],
      "text/plain": [
       "   user_id  month  number_of_calls  calls_in_min  number_of_msgs  \\\n",
       "0     1000      5             17.0         159.0            22.0   \n",
       "1     1000      6             28.0         172.0            60.0   \n",
       "2     1000      7             41.0         340.0            75.0   \n",
       "3     1000      8             42.0         408.0            81.0   \n",
       "4     1000      9             46.0         466.0            57.0   \n",
       "\n",
       "   number_of_mb_used tariff_name       city calls_over_plan_min  \\\n",
       "0             2256.0       ultra  Краснодар                 0.0   \n",
       "1            23257.0       ultra  Краснодар                 0.0   \n",
       "2            14016.0       ultra  Краснодар                 0.0   \n",
       "3            14070.0       ultra  Краснодар                 0.0   \n",
       "4            14581.0       ultra  Краснодар                 0.0   \n",
       "\n",
       "  msgs_over_plan mb_over_plan  extra_pay_rub  fee_in_rub  \n",
       "0            0.0          0.0            0.0        1950  \n",
       "1            0.0          0.0            0.0        1950  \n",
       "2            0.0          0.0            0.0        1950  \n",
       "3            0.0          0.0            0.0        1950  \n",
       "4            0.0          0.0            0.0        1950  "
      ]
     },
     "execution_count": 88,
     "metadata": {},
     "output_type": "execute_result"
    }
   ],
   "source": [
    "spent_communication_services.head()"
   ]
  },
  {
   "cell_type": "code",
   "execution_count": 89,
   "metadata": {},
   "outputs": [],
   "source": [
    "spent_communication_services['sum_payment_per_month'] = spent_communication_services['fee_in_rub'] + spent_communication_services['extra_pay_rub']"
   ]
  },
  {
   "cell_type": "code",
   "execution_count": 90,
   "metadata": {},
   "outputs": [],
   "source": [
    "# создадим столбец с данными по наличию/отсутствию переплаты у абонента: 1 - доплачивает за доп услуги, 0 - нет\n",
    "def overpayers_detected(sum_of_extra_pay):\n",
    "    if sum_of_extra_pay > 0:\n",
    "        return 1\n",
    "    else:\n",
    "        return 0\n",
    "    \n",
    "spent_communication_services['plan_is_not_enough'] = spent_communication_services['extra_pay_rub'].apply(overpayers_detected)"
   ]
  },
  {
   "cell_type": "markdown",
   "metadata": {},
   "source": [
    "Посмотрим, сколько всего абонентов двух тарифов пользуются услугами оператора и какой тариф популярнее."
   ]
  },
  {
   "cell_type": "code",
   "execution_count": 91,
   "metadata": {},
   "outputs": [
    {
     "data": {
      "text/plain": [
       "smart    2229\n",
       "ultra     985\n",
       "Name: tariff_name, dtype: int64"
      ]
     },
     "execution_count": 91,
     "metadata": {},
     "output_type": "execute_result"
    }
   ],
   "source": [
    "spent_communication_services['tariff_name'].value_counts()"
   ]
  },
  {
   "cell_type": "code",
   "execution_count": 92,
   "metadata": {},
   "outputs": [
    {
     "name": "stdout",
     "output_type": "stream",
     "text": [
      "Абоненты тарифа \"Смарт\" составляют 69.35%\n",
      "Абоненты тарифа \"Ультра\" составляют 30.65%\n"
     ]
    }
   ],
   "source": [
    "smart_tariff_users = 2229 / len(spent_communication_services)\n",
    "print('Абоненты тарифа \"Смарт\" составляют {0:.2%}'.format(smart_tariff_users))\n",
    "ultra_tariff_users = 985 / len(spent_communication_services)\n",
    "print('Абоненты тарифа \"Ультра\" составляют {0:.2%}'.format(ultra_tariff_users))"
   ]
  },
  {
   "cell_type": "code",
   "execution_count": 93,
   "metadata": {},
   "outputs": [
    {
     "data": {
      "text/html": [
       "<div>\n",
       "<style scoped>\n",
       "    .dataframe tbody tr th:only-of-type {\n",
       "        vertical-align: middle;\n",
       "    }\n",
       "\n",
       "    .dataframe tbody tr th {\n",
       "        vertical-align: top;\n",
       "    }\n",
       "\n",
       "    .dataframe thead th {\n",
       "        text-align: right;\n",
       "    }\n",
       "</style>\n",
       "<table border=\"1\" class=\"dataframe\">\n",
       "  <thead>\n",
       "    <tr style=\"text-align: right;\">\n",
       "      <th></th>\n",
       "      <th>plan_is_not_enough</th>\n",
       "    </tr>\n",
       "    <tr>\n",
       "      <th>tariff_name</th>\n",
       "      <th></th>\n",
       "    </tr>\n",
       "  </thead>\n",
       "  <tbody>\n",
       "    <tr>\n",
       "      <td>smart</td>\n",
       "      <td>1665</td>\n",
       "    </tr>\n",
       "    <tr>\n",
       "      <td>ultra</td>\n",
       "      <td>134</td>\n",
       "    </tr>\n",
       "  </tbody>\n",
       "</table>\n",
       "</div>"
      ],
      "text/plain": [
       "             plan_is_not_enough\n",
       "tariff_name                    \n",
       "smart                      1665\n",
       "ultra                       134"
      ]
     },
     "metadata": {},
     "output_type": "display_data"
    }
   ],
   "source": [
    "# посмотрим, сколько абонентов каждого тарифа доплачивают за дополнительные услуги связи\n",
    "all_overpayers = spent_communication_services.pivot_table(index='tariff_name', values='plan_is_not_enough', aggfunc='sum')\n",
    "display(all_overpayers)"
   ]
  },
  {
   "cell_type": "code",
   "execution_count": 94,
   "metadata": {},
   "outputs": [
    {
     "name": "stdout",
     "output_type": "stream",
     "text": [
      "74.70% абонентов тарифа \"Смарт\" вынуждены доплачивать за услуги сверх заложенного пакета\n",
      "13.60% абонентов тарифа \"Ультра\" вынуждены доплачивать за услуги сверх заложенного пакета\n"
     ]
    }
   ],
   "source": [
    "smart_tariff_overpayers = 1665 / 2229\n",
    "print('{0:.2%} абонентов тарифа \"Смарт\" вынуждены доплачивать за услуги сверх заложенного пакета'.format(smart_tariff_overpayers))\n",
    "ultra_tariff_overpayers = 134 / 985\n",
    "print('{0:.2%} абонентов тарифа \"Ультра\" вынуждены доплачивать за услуги сверх заложенного пакета'.format(ultra_tariff_overpayers))"
   ]
  },
  {
   "cell_type": "markdown",
   "metadata": {},
   "source": [
    "Как мы видим, почти в 75% случаев абоненту тарифа **\"Смарт\"** не хватает заложенного тарифом пакета услуг, и ему приходится переплачивать сверх ежемесячного тарифа за минуты звонков, интернет и сообщения. \n",
    "\n",
    "С тарифом **\"Ультра\"** дела обстоят иначе, лишь 13% приходится платить сверх тарифа, остальным заложенного пакета услуг хватает на месяц."
   ]
  },
  {
   "cell_type": "markdown",
   "metadata": {},
   "source": [
    "Посмотрим, как распределены переплаты в зависимости от используемого тарифа."
   ]
  },
  {
   "cell_type": "code",
   "execution_count": 95,
   "metadata": {
    "scrolled": true
   },
   "outputs": [
    {
     "data": {
      "text/plain": [
       "<matplotlib.axes._subplots.AxesSubplot at 0x7f864a8eb110>"
      ]
     },
     "execution_count": 95,
     "metadata": {},
     "output_type": "execute_result"
    },
    {
     "data": {
      "image/png": "[encoded data removed]",
      "text/plain": [
       "<Figure size 864x360 with 1 Axes>"
      ]
     },
     "metadata": {
      "needs_background": "light"
     },
     "output_type": "display_data"
    }
   ],
   "source": [
    "# построим гистограмму распределения переплат по тарифу \"Смарт\"\n",
    "smart_df = spent_communication_services[(spent_communication_services['tariff_name'] == 'smart') & (spent_communication_services['extra_pay_rub'] > 0)]['extra_pay_rub']\n",
    "smart_df.plot(kind='hist', figsize=(12, 5), ec='black', bins=50, title='Гистограмма переплат по тарифу \"Смарт\"')"
   ]
  },
  {
   "cell_type": "markdown",
   "metadata": {},
   "source": [
    "Большинство абонентов переплачивают ежемесячно сумму до 1200 руб., что довольно много, если учитывать, что сам ежемесячный платеж по тарифу **\"Смарт\"** составляет 550 руб.\n",
    "\n",
    "Посмотрим на переплаты детальнее, зададим range значений от 0 до 1200."
   ]
  },
  {
   "cell_type": "code",
   "execution_count": 96,
   "metadata": {
    "scrolled": true
   },
   "outputs": [
    {
     "data": {
      "text/plain": [
       "<matplotlib.axes._subplots.AxesSubplot at 0x7f864aa10bd0>"
      ]
     },
     "execution_count": 96,
     "metadata": {},
     "output_type": "execute_result"
    },
    {
     "data": {
      "image/png": "[encoded data removed]",
      "text/plain": [
       "<Figure size 864x360 with 1 Axes>"
      ]
     },
     "metadata": {
      "needs_background": "light"
     },
     "output_type": "display_data"
    }
   ],
   "source": [
    "smart_df.plot(kind='hist', figsize=(12, 5), ec='black', bins=50, title='Гистограмма переплат по тарифу \"Смарт\"', range=(0,1200))"
   ]
  },
  {
   "cell_type": "markdown",
   "metadata": {},
   "source": [
    "Для большинства абонентов, кому не хватает услуг в рамках тарифного плана, сумма переплаты кратна 200 рублям, т.к. 1 гб дополнительного интернета по тарифу стоит 200 руб., можем предположить, что абоненты чаще всего докупают разное кол-во интернета."
   ]
  },
  {
   "cell_type": "code",
   "execution_count": 97,
   "metadata": {},
   "outputs": [
    {
     "data": {
      "text/plain": [
       "<matplotlib.axes._subplots.AxesSubplot at 0x7f864a804710>"
      ]
     },
     "execution_count": 97,
     "metadata": {},
     "output_type": "execute_result"
    },
    {
     "data": {
      "image/png": "[encoded data removed]",
      "text/plain": [
       "<Figure size 864x360 with 1 Axes>"
      ]
     },
     "metadata": {
      "needs_background": "light"
     },
     "output_type": "display_data"
    }
   ],
   "source": [
    "# построим гистограмму переплат по тарифу \"Ультра\"\n",
    "ultra_df = spent_communication_services[(spent_communication_services['tariff_name'] == 'ultra') & (spent_communication_services['extra_pay_rub'] > 0)]['extra_pay_rub']\n",
    "ultra_df.plot(kind='hist', figsize=(12, 5), ec='black', bins=50, title='Гистограмма переплат по тарифу \"Ультра\"')"
   ]
  },
  {
   "cell_type": "markdown",
   "metadata": {},
   "source": [
    "Средний размер переплаты по тарифу **\"Ультра\"** состовляет сумму до 1 500 рублей, что составляет практически еще один ежемесячный платеж по тарифу. \n",
    "\n",
    "Посмотрим на переплаты детальнее, зададим range значений от 0 до 1 500."
   ]
  },
  {
   "cell_type": "code",
   "execution_count": 98,
   "metadata": {},
   "outputs": [
    {
     "data": {
      "text/plain": [
       "<matplotlib.axes._subplots.AxesSubplot at 0x7f864a671bd0>"
      ]
     },
     "execution_count": 98,
     "metadata": {},
     "output_type": "execute_result"
    },
    {
     "data": {
      "image/png": "[encoded data removed]",
      "text/plain": [
       "<Figure size 864x360 with 1 Axes>"
      ]
     },
     "metadata": {
      "needs_background": "light"
     },
     "output_type": "display_data"
    }
   ],
   "source": [
    "ultra_df.plot(kind='hist', figsize=(12, 5), ec='black', bins=50, title='Гистограмма переплат по тарифу \"Ультра\"', range=(0, 1500))"
   ]
  },
  {
   "cell_type": "markdown",
   "metadata": {},
   "source": [
    "Суммы переплат кратны 150 рублям, следовательно, 13% абонентов тарифа **\"Ультра\"** не хватает заложенных МБ интернет-трафика."
   ]
  },
  {
   "cell_type": "code",
   "execution_count": 99,
   "metadata": {},
   "outputs": [
    {
     "data": {
      "text/html": [
       "<div>\n",
       "<style scoped>\n",
       "    .dataframe tbody tr th:only-of-type {\n",
       "        vertical-align: middle;\n",
       "    }\n",
       "\n",
       "    .dataframe tbody tr th {\n",
       "        vertical-align: top;\n",
       "    }\n",
       "\n",
       "    .dataframe thead th {\n",
       "        text-align: right;\n",
       "    }\n",
       "</style>\n",
       "<table border=\"1\" class=\"dataframe\">\n",
       "  <thead>\n",
       "    <tr style=\"text-align: right;\">\n",
       "      <th></th>\n",
       "      <th>calls_over_plan_min</th>\n",
       "      <th>mb_over_plan</th>\n",
       "      <th>msgs_over_plan</th>\n",
       "    </tr>\n",
       "    <tr>\n",
       "      <th>tariff_name</th>\n",
       "      <th></th>\n",
       "      <th></th>\n",
       "      <th></th>\n",
       "    </tr>\n",
       "  </thead>\n",
       "  <tbody>\n",
       "    <tr>\n",
       "      <td>smart</td>\n",
       "      <td>92739.0</td>\n",
       "      <td>6175667.0</td>\n",
       "      <td>12928.0</td>\n",
       "    </tr>\n",
       "    <tr>\n",
       "      <td>ultra</td>\n",
       "      <td>0.0</td>\n",
       "      <td>743233.0</td>\n",
       "      <td>0.0</td>\n",
       "    </tr>\n",
       "  </tbody>\n",
       "</table>\n",
       "</div>"
      ],
      "text/plain": [
       "             calls_over_plan_min  mb_over_plan  msgs_over_plan\n",
       "tariff_name                                                   \n",
       "smart                    92739.0     6175667.0         12928.0\n",
       "ultra                        0.0      743233.0             0.0"
      ]
     },
     "metadata": {},
     "output_type": "display_data"
    }
   ],
   "source": [
    "# сгруппируем данные и посмотрим, за какие услуги абоненты перплачивают чаще всего\n",
    "grouped_info = spent_communication_services.pivot_table(index='tariff_name', values=['msgs_over_plan', 'calls_over_plan_min', 'mb_over_plan'], aggfunc='sum')\n",
    "display(grouped_info)"
   ]
  },
  {
   "cell_type": "markdown",
   "metadata": {},
   "source": [
    "Абоненты тарифного плана **\"Смарт\"** переплачивают за все виды услуг, а абоненты тарифного плана **\"Ультра\"** - только за интернет."
   ]
  },
  {
   "cell_type": "markdown",
   "metadata": {},
   "source": [
    "### Какой тариф приносит больше прибыли компании?"
   ]
  },
  {
   "cell_type": "code",
   "execution_count": 100,
   "metadata": {},
   "outputs": [
    {
     "data": {
      "text/html": [
       "<div>\n",
       "<style scoped>\n",
       "    .dataframe tbody tr th:only-of-type {\n",
       "        vertical-align: middle;\n",
       "    }\n",
       "\n",
       "    .dataframe tbody tr th {\n",
       "        vertical-align: top;\n",
       "    }\n",
       "\n",
       "    .dataframe thead th {\n",
       "        text-align: right;\n",
       "    }\n",
       "</style>\n",
       "<table border=\"1\" class=\"dataframe\">\n",
       "  <thead>\n",
       "    <tr style=\"text-align: right;\">\n",
       "      <th></th>\n",
       "      <th>sum_payment_per_month</th>\n",
       "    </tr>\n",
       "    <tr>\n",
       "      <th>tariff_name</th>\n",
       "      <th></th>\n",
       "    </tr>\n",
       "  </thead>\n",
       "  <tbody>\n",
       "    <tr>\n",
       "      <td>smart</td>\n",
       "      <td>2885751.0</td>\n",
       "    </tr>\n",
       "    <tr>\n",
       "      <td>ultra</td>\n",
       "      <td>2040000.0</td>\n",
       "    </tr>\n",
       "  </tbody>\n",
       "</table>\n",
       "</div>"
      ],
      "text/plain": [
       "             sum_payment_per_month\n",
       "tariff_name                       \n",
       "smart                    2885751.0\n",
       "ultra                    2040000.0"
      ]
     },
     "metadata": {},
     "output_type": "display_data"
    }
   ],
   "source": [
    "revenue_per_tariff = spent_communication_services.pivot_table(index='tariff_name', values='sum_payment_per_month', aggfunc='sum')\n",
    "display(revenue_per_tariff)"
   ]
  },
  {
   "cell_type": "code",
   "execution_count": 101,
   "metadata": {},
   "outputs": [
    {
     "name": "stdout",
     "output_type": "stream",
     "text": [
      "58.58% прибыли оператору приносят абоненты тарифного плана \"Смарт\"\n",
      "41.42% прибыли оператору приносят абоненты тарифного плана \"Ультра\"\n"
     ]
    }
   ],
   "source": [
    "smart_tariff_revenue = 2885751 / sum(revenue_per_tariff['sum_payment_per_month'])\n",
    "ultra_tariff_revenue = 2040000 / sum(revenue_per_tariff['sum_payment_per_month'])\n",
    "\n",
    "print('{0:.2%} прибыли оператору приносят абоненты тарифного плана \"Смарт\"'.format(smart_tariff_revenue))\n",
    "print('{0:.2%} прибыли оператору приносят абоненты тарифного плана \"Ультра\"'.format(ultra_tariff_revenue))"
   ]
  },
  {
   "cell_type": "markdown",
   "metadata": {},
   "source": [
    "Несмотря на то, что плата по тарифу **\"Ультра\"** выше почти в 4 раза, большую часть выручки приносит тариф **\"Смарт\"**, т.к. им пользуется гораздо больше абонентов, следовательно через него проходит больше трафика.\n",
    "\n",
    "Предлагаем привести наглядный вывод в сводной таблице.\n",
    "\n",
    "### Сводная таблица по сравнению тарифов Смарт и Ультра\n",
    "\n",
    "|**Название тарифа**|**Кол-во абонентов**|**Звонки**|**СМС**|**Интернет**|**Выручка**|\n",
    "|---------------|-----------------|-------------------|-------------------|-----------------|---------------------|\n",
    "|Тариф \"Смарт\"  |**69,3 %**\t2229 чел. |**64,2 %** 931 577 мин |**60,5 %**\t74413 шт. |**65,3 %** 35 327 Гб |**58,6 %**\t2,89 млн руб. |\n",
    "|Тариф \"Ультра\" |**30,7 %**\t985 чел.  |**35,8 %** 518 724 мин |**39,5 %**\t48623 шт. |**34,7 %** 18 745 Гб |**41,4 %**\t2,04 млн руб. |\n"
   ]
  },
  {
   "cell_type": "markdown",
   "metadata": {},
   "source": [
    "## Анализ поведение клиентов оператора"
   ]
  },
  {
   "cell_type": "markdown",
   "metadata": {},
   "source": [
    "Опишем поведение клиентов оператора, исходя из выборки. Сколько минут разговора, сколько сообщений и какой объём интернет-трафика требуется пользователям каждого тарифа в месяц? Посчитаем среднее количество, дисперсию и стандартное отклонение. Построим гистограммы. Опишем распределения."
   ]
  },
  {
   "cell_type": "code",
   "execution_count": 102,
   "metadata": {
    "scrolled": true
   },
   "outputs": [
    {
     "data": {
      "text/plain": [
       "Text(0.5, 1.0, 'Использование абонентами минут в месяц')"
      ]
     },
     "execution_count": 102,
     "metadata": {},
     "output_type": "execute_result"
    },
    {
     "data": {
      "image/png": "[encoded data removed]",
      "text/plain": [
       "<Figure size 864x360 with 1 Axes>"
      ]
     },
     "metadata": {
      "needs_background": "light"
     },
     "output_type": "display_data"
    }
   ],
   "source": [
    "# построим гистограмму распределения количества использованных минут по каждому тарифу\n",
    "ax = spent_communication_services[spent_communication_services['tariff_name'] == 'smart']['calls_in_min'].plot(kind='hist', bins=70, label='Тариф \"Смарт\"', legend=True, ec='black')\n",
    "spent_communication_services[spent_communication_services['tariff_name'] == 'ultra']['calls_in_min'].plot(kind='hist', bins=70, label='Тариф \"Ультра\"', ax=ax, grid = True, legend = True, figsize=(12,5), ec='black')\n",
    "plt.xlabel('Минуты')\n",
    "plt.ylabel('Кол-во абонентов')\n",
    "plt.title('Использование абонентами минут в месяц')"
   ]
  },
  {
   "cell_type": "code",
   "execution_count": 113,
   "metadata": {},
   "outputs": [
    {
     "data": {
      "text/plain": [
       "Text(0.5, 1.0, 'Использование абонентами тарифа \"Смарт\" минут в месяц')"
      ]
     },
     "execution_count": 113,
     "metadata": {},
     "output_type": "execute_result"
    },
    {
     "data": {
      "image/png": "[encoded data removed]",
      "text/plain": [
       "<Figure size 864x360 with 1 Axes>"
      ]
     },
     "metadata": {
      "needs_background": "light"
     },
     "output_type": "display_data"
    }
   ],
   "source": [
    "# построим отдельно гистограмму по тарифу \"Смарт\"\n",
    "spent_communication_services[spent_communication_services['tariff_name'] == 'smart']['calls_in_min'].plot(kind='hist', bins=70, label='Тариф \"Смарт\"', grid = True, legend = True, figsize=(12,5), ec='black')\n",
    "plt.xlabel('Минуты')\n",
    "plt.ylabel('Кол-во абонентов')\n",
    "plt.title('Использование абонентами тарифа \"Смарт\" минут в месяц')"
   ]
  },
  {
   "cell_type": "code",
   "execution_count": 114,
   "metadata": {},
   "outputs": [
    {
     "data": {
      "text/plain": [
       "Text(0.5, 1.0, 'Использование абонентами тарифа \"Ультра\" минут в месяц')"
      ]
     },
     "execution_count": 114,
     "metadata": {},
     "output_type": "execute_result"
    },
    {
     "data": {
      "image/png": "[encoded data removed]",
      "text/plain": [
       "<Figure size 864x360 with 1 Axes>"
      ]
     },
     "metadata": {
      "needs_background": "light"
     },
     "output_type": "display_data"
    }
   ],
   "source": [
    "# построим отдельно гистограмму по тарифу \"Ультра\"\n",
    "spent_communication_services[spent_communication_services['tariff_name'] == 'ultra']['calls_in_min'].plot(kind='hist', bins=70, label='Тариф \"Ультра\"', grid = True, legend = True, figsize=(12,5), ec='black')\n",
    "plt.xlabel('Минуты')\n",
    "plt.ylabel('Кол-во абонентов')\n",
    "plt.title('Использование абонентами тарифа \"Ультра\" минут в месяц')"
   ]
  },
  {
   "cell_type": "code",
   "execution_count": 103,
   "metadata": {},
   "outputs": [
    {
     "data": {
      "text/html": [
       "<style  type=\"text/css\" >\n",
       "</style><table id=\"T_752b4376_7191_11ec_bfeb_02420a39d973\" ><thead>    <tr>        <th class=\"blank level0\" ></th>        <th class=\"col_heading level0 col0\" colspan=4>calls_in_min</th>    </tr>    <tr>        <th class=\"blank level1\" ></th>        <th class=\"col_heading level1 col0\" >median</th>        <th class=\"col_heading level1 col1\" >mean</th>        <th class=\"col_heading level1 col2\" >var</th>        <th class=\"col_heading level1 col3\" >std</th>    </tr>    <tr>        <th class=\"index_name level0\" >tariff_name</th>        <th class=\"blank\" ></th>        <th class=\"blank\" ></th>        <th class=\"blank\" ></th>        <th class=\"blank\" ></th>    </tr></thead><tbody>\n",
       "                <tr>\n",
       "                        <th id=\"T_752b4376_7191_11ec_bfeb_02420a39d973level0_row0\" class=\"row_heading level0 row0\" >smart</th>\n",
       "                        <td id=\"T_752b4376_7191_11ec_bfeb_02420a39d973row0_col0\" class=\"data row0 col0\" >422.00</td>\n",
       "                        <td id=\"T_752b4376_7191_11ec_bfeb_02420a39d973row0_col1\" class=\"data row0 col1\" >417.93</td>\n",
       "                        <td id=\"T_752b4376_7191_11ec_bfeb_02420a39d973row0_col2\" class=\"data row0 col2\" >36219.32</td>\n",
       "                        <td id=\"T_752b4376_7191_11ec_bfeb_02420a39d973row0_col3\" class=\"data row0 col3\" >190.31</td>\n",
       "            </tr>\n",
       "            <tr>\n",
       "                        <th id=\"T_752b4376_7191_11ec_bfeb_02420a39d973level0_row1\" class=\"row_heading level0 row1\" >ultra</th>\n",
       "                        <td id=\"T_752b4376_7191_11ec_bfeb_02420a39d973row1_col0\" class=\"data row1 col0\" >518.00</td>\n",
       "                        <td id=\"T_752b4376_7191_11ec_bfeb_02420a39d973row1_col1\" class=\"data row1 col1\" >526.62</td>\n",
       "                        <td id=\"T_752b4376_7191_11ec_bfeb_02420a39d973row1_col2\" class=\"data row1 col2\" >100873.63</td>\n",
       "                        <td id=\"T_752b4376_7191_11ec_bfeb_02420a39d973row1_col3\" class=\"data row1 col3\" >317.61</td>\n",
       "            </tr>\n",
       "    </tbody></table>"
      ],
      "text/plain": [
       "<pandas.io.formats.style.Styler at 0x7f864a4669d0>"
      ]
     },
     "execution_count": 103,
     "metadata": {},
     "output_type": "execute_result"
    }
   ],
   "source": [
    "# найдем для продолжительности звонков медиану, среднее, дисперсию и стандартное отклонение\n",
    "spent_communication_services.groupby('tariff_name')\\\n",
    "  .agg({'calls_in_min':['median','mean','var','std']})\\\n",
    "  .style.format(\"{:.2f}\")"
   ]
  },
  {
   "cell_type": "markdown",
   "metadata": {},
   "source": [
    "В среднем абоненты тарифа **\"Смарта\"** тратят по 450 минут на звонки, а тарифа **\"Ультра\"** - 550 минут, т.е. абоненты **\"Смарта\"** почти исчерпывают заложенный лимит минут, а тех, кто на **\"Ультре\"** остается еще нецелесообразно большой запас минут."
   ]
  },
  {
   "cell_type": "code",
   "execution_count": 104,
   "metadata": {
    "scrolled": true
   },
   "outputs": [
    {
     "data": {
      "text/plain": [
       "Text(0.5, 1.0, 'Использование абонентами пакета СМС в месяц')"
      ]
     },
     "execution_count": 104,
     "metadata": {},
     "output_type": "execute_result"
    },
    {
     "data": {
      "image/png": "[encoded data removed]",
      "text/plain": [
       "<Figure size 864x360 with 1 Axes>"
      ]
     },
     "metadata": {
      "needs_background": "light"
     },
     "output_type": "display_data"
    }
   ],
   "source": [
    "# построим гистограмму распределения количества использованных смс по каждому тарифу\n",
    "ax = spent_communication_services[spent_communication_services['tariff_name'] == 'smart']['number_of_msgs'].plot(kind='hist', bins=70, label='Тариф \"Смарт\"', legend=True, ec='black')\n",
    "spent_communication_services[spent_communication_services['tariff_name'] == 'ultra']['number_of_msgs'].plot(kind='hist', bins=70, label='Тариф \"Ультра\"', ax=ax, grid = True, legend = True, figsize=(12,5), ec='black')\n",
    "plt.xlabel('Кол-во СМС')\n",
    "plt.ylabel('Кол-во абонентов')\n",
    "plt.title('Использование абонентами пакета СМС в месяц')"
   ]
  },
  {
   "cell_type": "code",
   "execution_count": 115,
   "metadata": {},
   "outputs": [
    {
     "data": {
      "text/plain": [
       "Text(0.5, 1.0, 'Использование абонентами тарифа \"Смарт\" пакета СМС в месяц')"
      ]
     },
     "execution_count": 115,
     "metadata": {},
     "output_type": "execute_result"
    },
    {
     "data": {
      "image/png": "[encoded data removed]",
      "text/plain": [
       "<Figure size 864x360 with 1 Axes>"
      ]
     },
     "metadata": {
      "needs_background": "light"
     },
     "output_type": "display_data"
    }
   ],
   "source": [
    "# построим отдельно гистограмму по тарифу \"Смарт\"\n",
    "spent_communication_services[spent_communication_services['tariff_name'] == 'smart']['number_of_msgs'].plot(kind='hist', bins=70, label='Тариф \"Смарт\"', grid = True, legend = True, figsize=(12,5), ec='black')\n",
    "plt.xlabel('Кол-во СМС')\n",
    "plt.ylabel('Кол-во абонентов')\n",
    "plt.title('Использование абонентами тарифа \"Смарт\" пакета СМС в месяц')"
   ]
  },
  {
   "cell_type": "code",
   "execution_count": 116,
   "metadata": {},
   "outputs": [
    {
     "data": {
      "text/plain": [
       "Text(0.5, 1.0, 'Использование абонентами тарифа \"Ультра\" пакета СМС в месяц')"
      ]
     },
     "execution_count": 116,
     "metadata": {},
     "output_type": "execute_result"
    },
    {
     "data": {
      "image/png": "[encoded data removed]",
      "text/plain": [
       "<Figure size 864x360 with 1 Axes>"
      ]
     },
     "metadata": {
      "needs_background": "light"
     },
     "output_type": "display_data"
    }
   ],
   "source": [
    "# построим отдельно гистограмму по тарифу \"Ультра\"\n",
    "spent_communication_services[spent_communication_services['tariff_name'] == 'ultra']['number_of_msgs'].plot(kind='hist', bins=70, label='Тариф \"Ультра\"', grid = True, legend = True, figsize=(12,5), ec='black')\n",
    "plt.xlabel('Кол-во СМС')\n",
    "plt.ylabel('Кол-во абонентов')\n",
    "plt.title('Использование абонентами тарифа \"Ультра\" пакета СМС в месяц')"
   ]
  },
  {
   "cell_type": "code",
   "execution_count": 105,
   "metadata": {},
   "outputs": [
    {
     "data": {
      "text/html": [
       "<style  type=\"text/css\" >\n",
       "</style><table id=\"T_762c5436_7191_11ec_bfeb_02420a39d973\" ><thead>    <tr>        <th class=\"blank level0\" ></th>        <th class=\"col_heading level0 col0\" colspan=4>number_of_msgs</th>    </tr>    <tr>        <th class=\"blank level1\" ></th>        <th class=\"col_heading level1 col0\" >median</th>        <th class=\"col_heading level1 col1\" >mean</th>        <th class=\"col_heading level1 col2\" >var</th>        <th class=\"col_heading level1 col3\" >std</th>    </tr>    <tr>        <th class=\"index_name level0\" >tariff_name</th>        <th class=\"blank\" ></th>        <th class=\"blank\" ></th>        <th class=\"blank\" ></th>        <th class=\"blank\" ></th>    </tr></thead><tbody>\n",
       "                <tr>\n",
       "                        <th id=\"T_762c5436_7191_11ec_bfeb_02420a39d973level0_row0\" class=\"row_heading level0 row0\" >smart</th>\n",
       "                        <td id=\"T_762c5436_7191_11ec_bfeb_02420a39d973row0_col0\" class=\"data row0 col0\" >28.00</td>\n",
       "                        <td id=\"T_762c5436_7191_11ec_bfeb_02420a39d973row0_col1\" class=\"data row0 col1\" >33.38</td>\n",
       "                        <td id=\"T_762c5436_7191_11ec_bfeb_02420a39d973row0_col2\" class=\"data row0 col2\" >796.81</td>\n",
       "                        <td id=\"T_762c5436_7191_11ec_bfeb_02420a39d973row0_col3\" class=\"data row0 col3\" >28.23</td>\n",
       "            </tr>\n",
       "            <tr>\n",
       "                        <th id=\"T_762c5436_7191_11ec_bfeb_02420a39d973level0_row1\" class=\"row_heading level0 row1\" >ultra</th>\n",
       "                        <td id=\"T_762c5436_7191_11ec_bfeb_02420a39d973row1_col0\" class=\"data row1 col0\" >38.00</td>\n",
       "                        <td id=\"T_762c5436_7191_11ec_bfeb_02420a39d973row1_col1\" class=\"data row1 col1\" >49.36</td>\n",
       "                        <td id=\"T_762c5436_7191_11ec_bfeb_02420a39d973row1_col2\" class=\"data row1 col2\" >2285.27</td>\n",
       "                        <td id=\"T_762c5436_7191_11ec_bfeb_02420a39d973row1_col3\" class=\"data row1 col3\" >47.80</td>\n",
       "            </tr>\n",
       "    </tbody></table>"
      ],
      "text/plain": [
       "<pandas.io.formats.style.Styler at 0x7f8649f9b990>"
      ]
     },
     "execution_count": 105,
     "metadata": {},
     "output_type": "execute_result"
    }
   ],
   "source": [
    "# найдем для кол-ва отправленных смс медиану, среднее, дисперсию и стандартное отклонение\n",
    "spent_communication_services.groupby('tariff_name')\\\n",
    "  .agg({'number_of_msgs':['median','mean','var','std']})\\\n",
    "  .style.format(\"{:.2f}\")"
   ]
  },
  {
   "cell_type": "markdown",
   "metadata": {},
   "source": [
    "По обоим тарифам видим, что наибольшая часть абонентов практически не отправляют сообщения, а среди тех, кто отправляет, по обоим тарифам кол-во отправленных смс не превышает 50 сообщений, т.е. смс-любители тарифа **\"Смарт\"** отправляют кол-во смс в рамках установленного лимита, а у тех, кто раскошелился на **\"Ультра\"** остается еще неоправданно много сообщений в запасе. "
   ]
  },
  {
   "cell_type": "code",
   "execution_count": 106,
   "metadata": {
    "scrolled": true
   },
   "outputs": [
    {
     "data": {
      "text/plain": [
       "Text(0.5, 1.0, 'Использование абонентами интернет-трафика в месяц')"
      ]
     },
     "execution_count": 106,
     "metadata": {},
     "output_type": "execute_result"
    },
    {
     "data": {
      "image/png": "[encoded data removed]",
      "text/plain": [
       "<Figure size 864x360 with 1 Axes>"
      ]
     },
     "metadata": {
      "needs_background": "light"
     },
     "output_type": "display_data"
    }
   ],
   "source": [
    "# построим гистограмму распределения использованного интернет-трафика по каждому тарифу\n",
    "ax = spent_communication_services[spent_communication_services['tariff_name'] == 'smart']['number_of_mb_used'].plot(kind='hist', bins=70, label='Тариф \"Смарт\"', legend=True, ec='black')\n",
    "spent_communication_services[spent_communication_services['tariff_name'] == 'ultra']['number_of_mb_used'].plot(kind='hist', bins=70, label='Тариф \"Ультра\"', ax=ax, grid = True, legend = True, figsize=(12,5), ec='black')\n",
    "plt.xlabel('Кол-во использованных МБ')\n",
    "plt.ylabel('Кол-во абонентов')\n",
    "plt.title('Использование абонентами интернет-трафика в месяц')"
   ]
  },
  {
   "cell_type": "code",
   "execution_count": 117,
   "metadata": {},
   "outputs": [
    {
     "data": {
      "text/plain": [
       "Text(0.5, 1.0, 'Использование абонентами тарифа \"Смарт\" интернет-трафика в месяц')"
      ]
     },
     "execution_count": 117,
     "metadata": {},
     "output_type": "execute_result"
    },
    {
     "data": {
      "image/png": "[encoded data removed]",
      "text/plain": [
       "<Figure size 864x360 with 1 Axes>"
      ]
     },
     "metadata": {
      "needs_background": "light"
     },
     "output_type": "display_data"
    }
   ],
   "source": [
    "# построим отдельно гистограмму по тарифу \"Смарт\"\n",
    "spent_communication_services[spent_communication_services['tariff_name'] == 'smart']['number_of_mb_used'].plot(kind='hist', bins=70, label='Тариф \"Смарт\"', grid = True, legend = True, figsize=(12,5), ec='black')\n",
    "plt.xlabel('Кол-во использованных МБ')\n",
    "plt.ylabel('Кол-во абонентов')\n",
    "plt.title('Использование абонентами тарифа \"Смарт\" интернет-трафика в месяц')"
   ]
  },
  {
   "cell_type": "code",
   "execution_count": 118,
   "metadata": {},
   "outputs": [
    {
     "data": {
      "text/plain": [
       "Text(0.5, 1.0, 'Использование абонентами тарифа \"Ультра\" интернет-трафика в месяц')"
      ]
     },
     "execution_count": 118,
     "metadata": {},
     "output_type": "execute_result"
    },
    {
     "data": {
      "image/png": "[encoded data removed]",
      "text/plain": [
       "<Figure size 864x360 with 1 Axes>"
      ]
     },
     "metadata": {
      "needs_background": "light"
     },
     "output_type": "display_data"
    }
   ],
   "source": [
    "# построим отдельно гистограмму по тарифу \"Ультра\"\n",
    "spent_communication_services[spent_communication_services['tariff_name'] == 'ultra']['number_of_mb_used'].plot(kind='hist', bins=70, label='Тариф \"Смарт\"', grid = True, legend = True, figsize=(12,5), ec='black')\n",
    "plt.xlabel('Кол-во использованных МБ')\n",
    "plt.ylabel('Кол-во абонентов')\n",
    "plt.title('Использование абонентами тарифа \"Ультра\" интернет-трафика в месяц')"
   ]
  },
  {
   "cell_type": "code",
   "execution_count": 107,
   "metadata": {},
   "outputs": [
    {
     "data": {
      "text/html": [
       "<style  type=\"text/css\" >\n",
       "</style><table id=\"T_76ef7a24_7191_11ec_bfeb_02420a39d973\" ><thead>    <tr>        <th class=\"blank level0\" ></th>        <th class=\"col_heading level0 col0\" colspan=4>number_of_mb_used</th>    </tr>    <tr>        <th class=\"blank level1\" ></th>        <th class=\"col_heading level1 col0\" >median</th>        <th class=\"col_heading level1 col1\" >mean</th>        <th class=\"col_heading level1 col2\" >var</th>        <th class=\"col_heading level1 col3\" >std</th>    </tr>    <tr>        <th class=\"index_name level0\" >tariff_name</th>        <th class=\"blank\" ></th>        <th class=\"blank\" ></th>        <th class=\"blank\" ></th>        <th class=\"blank\" ></th>    </tr></thead><tbody>\n",
       "                <tr>\n",
       "                        <th id=\"T_76ef7a24_7191_11ec_bfeb_02420a39d973level0_row0\" class=\"row_heading level0 row0\" >smart</th>\n",
       "                        <td id=\"T_76ef7a24_7191_11ec_bfeb_02420a39d973row0_col0\" class=\"data row0 col0\" >16531.00</td>\n",
       "                        <td id=\"T_76ef7a24_7191_11ec_bfeb_02420a39d973row0_col1\" class=\"data row0 col1\" >16229.19</td>\n",
       "                        <td id=\"T_76ef7a24_7191_11ec_bfeb_02420a39d973row0_col2\" class=\"data row0 col2\" >34545911.13</td>\n",
       "                        <td id=\"T_76ef7a24_7191_11ec_bfeb_02420a39d973row0_col3\" class=\"data row0 col3\" >5877.58</td>\n",
       "            </tr>\n",
       "            <tr>\n",
       "                        <th id=\"T_76ef7a24_7191_11ec_bfeb_02420a39d973level0_row1\" class=\"row_heading level0 row1\" >ultra</th>\n",
       "                        <td id=\"T_76ef7a24_7191_11ec_bfeb_02420a39d973row1_col0\" class=\"data row1 col0\" >19324.00</td>\n",
       "                        <td id=\"T_76ef7a24_7191_11ec_bfeb_02420a39d973row1_col1\" class=\"data row1 col1\" >19486.90</td>\n",
       "                        <td id=\"T_76ef7a24_7191_11ec_bfeb_02420a39d973row1_col2\" class=\"data row1 col2\" >101935621.05</td>\n",
       "                        <td id=\"T_76ef7a24_7191_11ec_bfeb_02420a39d973row1_col3\" class=\"data row1 col3\" >10096.32</td>\n",
       "            </tr>\n",
       "    </tbody></table>"
      ],
      "text/plain": [
       "<pandas.io.formats.style.Styler at 0x7f8649fa6110>"
      ]
     },
     "execution_count": 107,
     "metadata": {},
     "output_type": "execute_result"
    }
   ],
   "source": [
    "# найдем для использованных МБ интернет-трафика медиану, среднее, дисперсию и стандартное отклонение\n",
    "spent_communication_services.groupby('tariff_name')\\\n",
    "  .agg({'number_of_mb_used':['median','mean','var','std']})\\\n",
    "  .style.format(\"{:.2f}\")"
   ]
  },
  {
   "cell_type": "markdown",
   "metadata": {},
   "source": [
    "Абоненты тарифа **\"Смарт\"** в среднем тратят в месяц 16 ГБ в месяц, тарифа **\"Ультра\"** - 20 Гб. Т.е. первые выходят за пределы установленного тарифом лимита, а у вторых остается еще около 10 Гб неиспользованного интернета."
   ]
  },
  {
   "cell_type": "markdown",
   "metadata": {},
   "source": [
    "## Проверка гипотез"
   ]
  },
  {
   "cell_type": "code",
   "execution_count": 108,
   "metadata": {},
   "outputs": [],
   "source": [
    "# напишем функцию для удаления выбросов\n",
    "\n",
    "def delete_outliers(df, column, graphic=0, x = 10, y = 10):\n",
    "    q1 = df[column].quantile(0.25)                 \n",
    "    q3 = df[column].quantile(0.75)\n",
    "    iqr = q3 - q1\n",
    "    iqr_test = (df[column] >= (q1 - 1.5 * iqr)) & (df[column] <= (q3 + 1.5 * iqr))\n",
    "    if graphic == 1:\n",
    "        return df.loc[iqr_test].boxplot([column], figsize=(x,y))\n",
    "    else:\n",
    "        return df.loc[iqr_test]"
   ]
  },
  {
   "cell_type": "markdown",
   "metadata": {},
   "source": [
    "### Гипотеза: средняя выручка пользователей тарифов «Ультра» и «Смарт» различаются"
   ]
  },
  {
   "cell_type": "markdown",
   "metadata": {},
   "source": [
    "- **H0 (нулевая гипотеза)** - средняя выручка с пользователей тарифа Смарт не отличается от средней выручки с пользователей тарифа Ультра.\n",
    "- **H1 (альтернативная гипотеза)** - средняя выручка с пользователей тарифа Смарт отличается от средней выручки с пользователей тарифа Ультра.\n",
    "\n",
    "Т.к. выборки у нас независимые, воспользуемся функцией **ttest_ind** из модуля **scipy.stats**:"
   ]
  },
  {
   "cell_type": "code",
   "execution_count": 109,
   "metadata": {},
   "outputs": [
    {
     "name": "stdout",
     "output_type": "stream",
     "text": [
      "p-значение: 4.6244593528593796e-153\n",
      "Отвергаем нулевую гипотезу\n"
     ]
    }
   ],
   "source": [
    "# создаем выборки\n",
    "ultra_mean_revenue = spent_communication_services[spent_communication_services['tariff_name'] == 'ultra']\n",
    "smart_mean_revenue = spent_communication_services[spent_communication_services['tariff_name'] == 'smart']\n",
    "\n",
    "# избавляемся от выбросов\n",
    "ultra_mean_revenue = delete_outliers(ultra_mean_revenue, 'sum_payment_per_month', 0)\n",
    "smart_mean_revenue = delete_outliers(smart_mean_revenue, 'sum_payment_per_month', 0)\n",
    "\n",
    "ultra_mean_revenue = ultra_mean_revenue['sum_payment_per_month']\n",
    "smart_mean_revenue = smart_mean_revenue['sum_payment_per_month'] \n",
    "\n",
    "# задаем пороговое значение\n",
    "alpha = 0.05\n",
    "\n",
    "# мы не использовали дополнительный параметр equal_var = False, потому что у нас достаточно большие\n",
    "results = st.ttest_ind(smart_mean_revenue, ultra_mean_revenue)\n",
    "\n",
    "print('p-значение:', results.pvalue)\n",
    "\n",
    "if (results.pvalue < alpha):\n",
    "    print(\"Отвергаем нулевую гипотезу\")\n",
    "else:\n",
    "    print(\"Не получилось отвергнуть нулевую гипотезу\")"
   ]
  },
  {
   "cell_type": "markdown",
   "metadata": {},
   "source": [
    "Нулевую гипотезу отвергаем.\n",
    "Верно утверждение, что средняя выручка пользователей тарифов **\"Смарт\"** и **\"Ультра\"** различается.\n",
    "\n",
    "**Посмотрим, в чью пользу:**"
   ]
  },
  {
   "cell_type": "code",
   "execution_count": 110,
   "metadata": {},
   "outputs": [
    {
     "name": "stdout",
     "output_type": "stream",
     "text": [
      "Средняя выручка по пользователям тарифа \"Смарт\" - 1249.74\n",
      "Средняя выручка по пользователям тарифа \"Ультра\" - 1950.00\n"
     ]
    }
   ],
   "source": [
    "print('Средняя выручка по пользователям тарифа \"Смарт\" - {:.2f}'.format(smart_mean_revenue.mean()))\n",
    "print('Средняя выручка по пользователям тарифа \"Ультра\" - {:.2f}'.format(ultra_mean_revenue.mean()))"
   ]
  },
  {
   "cell_type": "markdown",
   "metadata": {},
   "source": [
    "Ожидаемо, что пользователи тарифа **\"Ультра\"** в среднем приносят больше денег, т.к. их абонентская плата в 3,5 раза выше, чем абонентская плата пользующихся тарифом **\"Смарт\"**. Клиенты с тарифом **\"Смарт\"**, конечно, довольно часто (в 75% случаев) вылезают за пределы своего тарифа и заказывают доп. услуги, но всё равно не догоняют по тратам на пользователя клиентов с тарифом **\"Ультра\"**."
   ]
  },
  {
   "cell_type": "markdown",
   "metadata": {},
   "source": [
    "### Гипотеза: средняя выручка пользователей из Москвы отличается от выручки пользователей из других регионов"
   ]
  },
  {
   "cell_type": "markdown",
   "metadata": {},
   "source": [
    "- **H0:** средняя выручка пользователей из Москвы не отличается от выручки пользователей из других регионов\n",
    "- **H1:** средняя выручка пользователей из Москвы отличается от выручки пользователей из других регионов"
   ]
  },
  {
   "cell_type": "code",
   "execution_count": 111,
   "metadata": {},
   "outputs": [
    {
     "name": "stdout",
     "output_type": "stream",
     "text": [
      "p-значение: 0.27118563882521046\n",
      "Не получилось отвергнуть нулевую гипотезу\n"
     ]
    }
   ],
   "source": [
    "# городов помимо Москвы может быть очень много, поэтому предлагаем поделить данные на 2 выборки: Москва и не Москва\n",
    "spent_communication_services['region'] = np.where(spent_communication_services['city'] == 'Москва', 'Москва', 'Регионы')\n",
    "moscow_revenue = spent_communication_services[spent_communication_services['region'] == 'Москва']\n",
    "regions_revenue = spent_communication_services[spent_communication_services['region'] == 'Регионы']\n",
    "\n",
    "# избавляемся от выбросов\n",
    "moscow_revenue = delete_outliers(moscow_revenue, 'sum_payment_per_month', 0)\n",
    "moscow_revenue = moscow_revenue['sum_payment_per_month']\n",
    "\n",
    "regions_revenue = delete_outliers(regions_revenue, 'sum_payment_per_month', 0)\n",
    "regions_revenue = regions_revenue['sum_payment_per_month']\n",
    "\n",
    "# задаем пороговое значение\n",
    "alpha = 0.05\n",
    "\n",
    "results = st.ttest_ind(moscow_revenue, regions_revenue)\n",
    "\n",
    "print('p-значение:', results.pvalue)\n",
    "\n",
    "if (results.pvalue < alpha):\n",
    "    print(\"Отвергаем нулевую гипотезу\")\n",
    "else:\n",
    "    print(\"Не получилось отвергнуть нулевую гипотезу\")"
   ]
  },
  {
   "cell_type": "markdown",
   "metadata": {},
   "source": [
    "С вероятностью в почти 30% такой результат может быть получен случайно. Значимых различий нет.\n",
    "\n",
    "**Ради интереса посмотрим на выручку по Москве и по регионам:**"
   ]
  },
  {
   "cell_type": "code",
   "execution_count": 112,
   "metadata": {},
   "outputs": [
    {
     "name": "stdout",
     "output_type": "stream",
     "text": [
      "Средняя выручка по пользователю в месяц в Москве: 1528.72\n",
      "Средняя выручка по пользователю в месяц в регионах: 1492.08\n"
     ]
    }
   ],
   "source": [
    "print('Средняя выручка по пользователю в месяц в Москве: {:.2f}'.format(moscow_revenue.mean()))\n",
    "print('Средняя выручка по пользователю в месяц в регионах: {:.2f}'.format(regions_revenue.mean()))"
   ]
  },
  {
   "cell_type": "markdown",
   "metadata": {},
   "source": [
    "Разница в средней выручке настолько мала, что не может являться статистически значимой."
   ]
  },
  {
   "cell_type": "markdown",
   "metadata": {},
   "source": [
    "## Общий вывод"
   ]
  },
  {
   "cell_type": "markdown",
   "metadata": {},
   "source": [
    "- Тариф **\"Смарт\"** приносит около 60% всей выручки, но при этом на него приходится 2200 пользователей. Тариф **\"Ультра\"** дает остальные 40%, но эту выручку генерируют всего 1000 пользователей.\n",
    "- В 75% случаев абонентам **\"Смарта\"** не хватает пакета услуг связи, которые заложены в тариф, поэтому они вынуждены оплачивать дополнительное кол-во минут, смс и мб интернета. Чаще всего докупается интернет.\n",
    "- Сумма переплаты по тарифу **\"Смарт\"** лежит в диапазоне от 200 до 1 200 рублей, что достаточно много при ежемесячном платеже в 550 руб.\n",
    "\n",
    "Исследование показывает, что в тарифной сетке оператора есть дешевый тариф **\"Смарт\"** за 550 рублей, где пользователю не хватает интернета и количество использованных минут разговора на грани лимита, и есть тариф **\"Ультра\"** стоимостью 1950 рублей, которым пользуется уже другой класс граждан, где лимитов по всем типам связи предостаточно, а иногда по истечении месяца даже остается с избытком.\n",
    "\n",
    "В связи с этим я бы рекомендовала оператору выпустить усредненный тариф, который позволял бы клиенту более комфортно, без доп. заказов, пользоваться услугами связи (особенно мобильным интернетом), при этом по цене являлось бы промежуточным вариантом между текущими **\"Смарт\"** и **\"Ультра\"**. Учитывая то, что средний пользователь тарифа **\"Смарт\"** дозаказывает 2 Гб на 400 рублей, т.е. платит в итоге 550 + 400 = 950 рублей за месяц, значит, эти деньги клиент готов тратить в месяц в качестве абонентской платы. \n",
    "\n",
    "Если в новом промежуточном тарифе увеличить пакет интернет-трафика до 20 Гб, выставить стоимость в 950 рублей, для большего привлечения внимания к тарифу расширить пакет минут и пакет СМС (700 и 100 соответственно), то для потенциального абонента тариф будет выглядеть весьма привлекательно, а компания не потеряет в выручке, т.к. средний пользователь не дозаказывает эти услуги, они и так в большинстве случаев остаются неизрасходованными."
   ]
  }
 ],
 "metadata": {
  "ExecuteTimeLog": [
   {
    "duration": 856,
    "start_time": "2021-12-26T16:52:32.184Z"
   },
   {
    "duration": 704,
    "start_time": "2021-12-26T16:53:20.377Z"
   },
   {
    "duration": 19,
    "start_time": "2021-12-26T16:56:27.861Z"
   },
   {
    "duration": 12,
    "start_time": "2021-12-26T16:57:58.592Z"
   },
   {
    "duration": 9,
    "start_time": "2021-12-26T17:00:46.668Z"
   },
   {
    "duration": 27,
    "start_time": "2021-12-26T18:14:39.058Z"
   },
   {
    "duration": 28,
    "start_time": "2021-12-26T18:15:29.279Z"
   },
   {
    "duration": 493,
    "start_time": "2021-12-26T18:18:00.335Z"
   },
   {
    "duration": 515,
    "start_time": "2021-12-26T18:18:29.114Z"
   },
   {
    "duration": 581,
    "start_time": "2021-12-26T18:18:57.311Z"
   },
   {
    "duration": 31,
    "start_time": "2021-12-26T18:27:27.087Z"
   },
   {
    "duration": 86,
    "start_time": "2021-12-26T18:33:17.055Z"
   },
   {
    "duration": 16,
    "start_time": "2021-12-26T18:34:04.238Z"
   },
   {
    "duration": 14,
    "start_time": "2021-12-26T18:35:09.891Z"
   },
   {
    "duration": 563,
    "start_time": "2021-12-26T18:36:52.474Z"
   },
   {
    "duration": 60,
    "start_time": "2021-12-26T18:39:41.776Z"
   },
   {
    "duration": 637,
    "start_time": "2021-12-26T18:42:48.994Z"
   },
   {
    "duration": 11,
    "start_time": "2021-12-26T18:49:59.528Z"
   },
   {
    "duration": 20,
    "start_time": "2021-12-26T18:50:24.499Z"
   },
   {
    "duration": 12,
    "start_time": "2021-12-26T18:59:01.408Z"
   },
   {
    "duration": 23,
    "start_time": "2021-12-26T18:59:22.877Z"
   },
   {
    "duration": 13,
    "start_time": "2021-12-26T19:03:17.708Z"
   },
   {
    "duration": 511,
    "start_time": "2021-12-26T19:05:05.499Z"
   },
   {
    "duration": 3,
    "start_time": "2021-12-26T19:06:56.943Z"
   },
   {
    "duration": 30,
    "start_time": "2021-12-26T19:07:01.852Z"
   },
   {
    "duration": 40,
    "start_time": "2021-12-26T19:09:36.611Z"
   },
   {
    "duration": 521,
    "start_time": "2021-12-26T19:10:05.581Z"
   },
   {
    "duration": 14,
    "start_time": "2021-12-26T19:14:27.889Z"
   },
   {
    "duration": 8,
    "start_time": "2021-12-26T19:14:28.940Z"
   },
   {
    "duration": 5,
    "start_time": "2021-12-26T19:21:33.916Z"
   },
   {
    "duration": 83,
    "start_time": "2021-12-26T19:23:11.494Z"
   },
   {
    "duration": 2654,
    "start_time": "2021-12-26T19:24:28.338Z"
   },
   {
    "duration": 2387,
    "start_time": "2021-12-26T19:25:09.384Z"
   },
   {
    "duration": 11,
    "start_time": "2021-12-26T19:25:11.773Z"
   },
   {
    "duration": 11,
    "start_time": "2021-12-26T19:25:11.787Z"
   },
   {
    "duration": 13,
    "start_time": "2021-12-26T19:25:11.821Z"
   },
   {
    "duration": 10,
    "start_time": "2021-12-26T19:33:39.580Z"
   },
   {
    "duration": 1037,
    "start_time": "2021-12-26T19:33:56.362Z"
   },
   {
    "duration": 8,
    "start_time": "2021-12-26T19:34:30.585Z"
   },
   {
    "duration": 868,
    "start_time": "2021-12-26T19:34:31.509Z"
   },
   {
    "duration": 8,
    "start_time": "2021-12-26T19:35:00.127Z"
   },
   {
    "duration": 617,
    "start_time": "2021-12-26T19:35:01.610Z"
   },
   {
    "duration": 247,
    "start_time": "2021-12-26T19:37:59.562Z"
   },
   {
    "duration": 18,
    "start_time": "2021-12-26T19:38:06.991Z"
   },
   {
    "duration": 517,
    "start_time": "2021-12-26T19:43:43.642Z"
   },
   {
    "duration": 473,
    "start_time": "2021-12-26T19:46:21.394Z"
   },
   {
    "duration": 2897,
    "start_time": "2021-12-26T20:00:05.637Z"
   },
   {
    "duration": 2307,
    "start_time": "2021-12-26T20:01:17.304Z"
   },
   {
    "duration": 805,
    "start_time": "2021-12-26T20:02:24.031Z"
   },
   {
    "duration": 562,
    "start_time": "2021-12-26T20:02:58.385Z"
   },
   {
    "duration": 552,
    "start_time": "2021-12-26T20:03:49.457Z"
   },
   {
    "duration": 672,
    "start_time": "2021-12-30T08:24:30.417Z"
   },
   {
    "duration": 411,
    "start_time": "2021-12-30T08:24:31.750Z"
   },
   {
    "duration": 12,
    "start_time": "2021-12-30T08:24:33.683Z"
   },
   {
    "duration": 8,
    "start_time": "2021-12-30T08:24:34.566Z"
   },
   {
    "duration": 6,
    "start_time": "2021-12-30T08:24:35.981Z"
   },
   {
    "duration": 7,
    "start_time": "2021-12-30T08:24:38.887Z"
   },
   {
    "duration": 47,
    "start_time": "2021-12-30T08:24:39.824Z"
   },
   {
    "duration": 278,
    "start_time": "2021-12-30T08:24:41.690Z"
   },
   {
    "duration": 19,
    "start_time": "2021-12-30T08:24:43.591Z"
   },
   {
    "duration": 14,
    "start_time": "2021-12-30T08:24:44.988Z"
   },
   {
    "duration": 280,
    "start_time": "2021-12-30T08:24:46.097Z"
   },
   {
    "duration": 59,
    "start_time": "2021-12-30T08:24:47.594Z"
   },
   {
    "duration": 314,
    "start_time": "2021-12-30T08:24:48.560Z"
   },
   {
    "duration": 7,
    "start_time": "2021-12-30T08:24:50.812Z"
   },
   {
    "duration": 31,
    "start_time": "2021-12-30T08:24:51.526Z"
   },
   {
    "duration": 8,
    "start_time": "2021-12-30T08:24:53.499Z"
   },
   {
    "duration": 40,
    "start_time": "2021-12-30T08:24:54.171Z"
   },
   {
    "duration": 9,
    "start_time": "2021-12-30T08:24:55.441Z"
   },
   {
    "duration": 275,
    "start_time": "2021-12-30T08:24:56.117Z"
   },
   {
    "duration": 19,
    "start_time": "2021-12-30T08:24:57.840Z"
   },
   {
    "duration": 44,
    "start_time": "2021-12-30T08:24:59.021Z"
   },
   {
    "duration": 271,
    "start_time": "2021-12-30T08:24:59.757Z"
   },
   {
    "duration": 8,
    "start_time": "2021-12-30T08:25:01.885Z"
   },
   {
    "duration": 6,
    "start_time": "2021-12-30T08:25:02.427Z"
   },
   {
    "duration": 4,
    "start_time": "2021-12-30T08:25:04.251Z"
   },
   {
    "duration": 1466,
    "start_time": "2021-12-30T08:25:05.356Z"
   },
   {
    "duration": 9,
    "start_time": "2021-12-30T08:25:06.827Z"
   },
   {
    "duration": 8,
    "start_time": "2021-12-30T08:25:08.136Z"
   },
   {
    "duration": 9,
    "start_time": "2021-12-30T08:25:08.782Z"
   },
   {
    "duration": 5,
    "start_time": "2021-12-30T08:25:16.785Z"
   },
   {
    "duration": 326,
    "start_time": "2021-12-30T08:25:16.792Z"
   },
   {
    "duration": 256,
    "start_time": "2021-12-30T08:25:17.120Z"
   },
   {
    "duration": 342,
    "start_time": "2021-12-30T08:25:18.293Z"
   },
   {
    "duration": 58,
    "start_time": "2021-12-30T08:25:23.984Z"
   },
   {
    "duration": 332,
    "start_time": "2021-12-30T08:25:25.826Z"
   },
   {
    "duration": 31,
    "start_time": "2021-12-30T08:25:42.273Z"
   },
   {
    "duration": 10,
    "start_time": "2021-12-30T10:07:32.612Z"
   },
   {
    "duration": 14,
    "start_time": "2021-12-30T10:07:40.210Z"
   },
   {
    "duration": 10,
    "start_time": "2021-12-30T10:07:41.316Z"
   },
   {
    "duration": 3,
    "start_time": "2021-12-30T10:13:40.179Z"
   },
   {
    "duration": 10,
    "start_time": "2021-12-30T10:17:38.678Z"
   },
   {
    "duration": 7,
    "start_time": "2021-12-30T10:18:25.959Z"
   },
   {
    "duration": 11,
    "start_time": "2021-12-30T10:20:01.393Z"
   },
   {
    "duration": 9,
    "start_time": "2021-12-30T10:21:57.020Z"
   },
   {
    "duration": 5,
    "start_time": "2021-12-30T10:22:44.360Z"
   },
   {
    "duration": 7,
    "start_time": "2021-12-30T10:22:50.709Z"
   },
   {
    "duration": 342,
    "start_time": "2021-12-30T12:11:22.326Z"
   },
   {
    "duration": 294,
    "start_time": "2021-12-30T12:12:16.400Z"
   },
   {
    "duration": 282,
    "start_time": "2021-12-30T12:13:32.283Z"
   },
   {
    "duration": 329,
    "start_time": "2021-12-30T12:48:45.917Z"
   },
   {
    "duration": 305,
    "start_time": "2021-12-30T12:49:12.694Z"
   },
   {
    "duration": 3,
    "start_time": "2021-12-30T13:03:23.056Z"
   },
   {
    "duration": 10,
    "start_time": "2021-12-30T13:03:24.118Z"
   },
   {
    "duration": 273,
    "start_time": "2021-12-30T13:03:36.621Z"
   },
   {
    "duration": 295,
    "start_time": "2021-12-30T13:03:58.412Z"
   },
   {
    "duration": 5,
    "start_time": "2021-12-30T13:07:55.679Z"
   },
   {
    "duration": 18,
    "start_time": "2021-12-30T13:08:08.350Z"
   },
   {
    "duration": 283,
    "start_time": "2021-12-30T13:11:20.933Z"
   },
   {
    "duration": 134,
    "start_time": "2021-12-30T13:21:40.522Z"
   },
   {
    "duration": 7,
    "start_time": "2021-12-30T13:35:28.400Z"
   },
   {
    "duration": 872,
    "start_time": "2021-12-30T13:35:30.545Z"
   },
   {
    "duration": 12,
    "start_time": "2021-12-30T13:35:45.500Z"
   },
   {
    "duration": 27,
    "start_time": "2021-12-30T13:36:07.452Z"
   },
   {
    "duration": 6,
    "start_time": "2021-12-30T13:41:54.612Z"
   },
   {
    "duration": 14,
    "start_time": "2021-12-30T13:42:14.245Z"
   },
   {
    "duration": 3,
    "start_time": "2021-12-30T13:43:52.269Z"
   },
   {
    "duration": 13,
    "start_time": "2021-12-30T13:44:00.672Z"
   },
   {
    "duration": 15,
    "start_time": "2021-12-30T13:44:23.477Z"
   },
   {
    "duration": 348,
    "start_time": "2021-12-30T13:54:36.339Z"
   },
   {
    "duration": 318,
    "start_time": "2021-12-30T13:54:54.696Z"
   },
   {
    "duration": 4,
    "start_time": "2021-12-30T14:34:11.743Z"
   },
   {
    "duration": 14,
    "start_time": "2021-12-30T14:34:23.051Z"
   },
   {
    "duration": 298,
    "start_time": "2021-12-30T14:50:30.628Z"
   },
   {
    "duration": 8,
    "start_time": "2021-12-30T14:52:50.593Z"
   },
   {
    "duration": 11,
    "start_time": "2021-12-30T14:53:05.359Z"
   },
   {
    "duration": 10,
    "start_time": "2021-12-30T14:57:57.800Z"
   },
   {
    "duration": 15,
    "start_time": "2021-12-30T14:58:13.302Z"
   },
   {
    "duration": 270,
    "start_time": "2021-12-30T14:59:11.859Z"
   },
   {
    "duration": 34,
    "start_time": "2021-12-30T14:59:19.144Z"
   },
   {
    "duration": 285,
    "start_time": "2021-12-30T15:03:20.059Z"
   },
   {
    "duration": 6,
    "start_time": "2021-12-30T15:03:27.886Z"
   },
   {
    "duration": 58,
    "start_time": "2021-12-30T15:07:40.022Z"
   },
   {
    "duration": 3,
    "start_time": "2021-12-30T15:15:44.843Z"
   },
   {
    "duration": 3,
    "start_time": "2021-12-30T15:15:57.117Z"
   },
   {
    "duration": 3,
    "start_time": "2021-12-30T15:16:02.112Z"
   },
   {
    "duration": 3,
    "start_time": "2021-12-30T15:18:34.148Z"
   },
   {
    "duration": 4,
    "start_time": "2021-12-30T15:20:12.066Z"
   },
   {
    "duration": 4,
    "start_time": "2021-12-30T15:57:06.245Z"
   },
   {
    "duration": 4,
    "start_time": "2021-12-30T15:57:11.162Z"
   },
   {
    "duration": 4,
    "start_time": "2021-12-30T16:01:02.832Z"
   },
   {
    "duration": 248,
    "start_time": "2021-12-30T16:12:57.121Z"
   },
   {
    "duration": 241,
    "start_time": "2021-12-30T16:16:07.527Z"
   },
   {
    "duration": 247,
    "start_time": "2021-12-30T16:17:00.470Z"
   },
   {
    "duration": 740,
    "start_time": "2021-12-30T16:17:29.176Z"
   },
   {
    "duration": 257,
    "start_time": "2021-12-30T16:17:42.716Z"
   },
   {
    "duration": 332,
    "start_time": "2021-12-30T16:23:27.720Z"
   },
   {
    "duration": 6932,
    "start_time": "2021-12-30T16:24:46.821Z"
   },
   {
    "duration": 12,
    "start_time": "2021-12-30T16:25:11.647Z"
   },
   {
    "duration": 380,
    "start_time": "2021-12-30T16:26:14.747Z"
   },
   {
    "duration": 285,
    "start_time": "2021-12-30T16:26:58.410Z"
   },
   {
    "duration": 90,
    "start_time": "2021-12-30T16:29:17.618Z"
   },
   {
    "duration": 276,
    "start_time": "2021-12-30T16:29:41.220Z"
   },
   {
    "duration": 23,
    "start_time": "2021-12-30T16:29:49.280Z"
   },
   {
    "duration": 88,
    "start_time": "2021-12-30T17:24:27.215Z"
   },
   {
    "duration": 245,
    "start_time": "2021-12-30T17:34:17.618Z"
   },
   {
    "duration": 11,
    "start_time": "2021-12-30T17:49:09.689Z"
   },
   {
    "duration": 3,
    "start_time": "2021-12-30T17:51:31.117Z"
   },
   {
    "duration": 3,
    "start_time": "2021-12-30T17:53:47.608Z"
   },
   {
    "duration": 6848,
    "start_time": "2021-12-30T19:03:48.192Z"
   },
   {
    "duration": 6881,
    "start_time": "2021-12-30T19:04:15.293Z"
   },
   {
    "duration": 338,
    "start_time": "2021-12-30T19:04:49.304Z"
   },
   {
    "duration": 380,
    "start_time": "2021-12-30T19:06:06.559Z"
   },
   {
    "duration": 97,
    "start_time": "2021-12-30T19:10:26.460Z"
   },
   {
    "duration": 380,
    "start_time": "2021-12-30T19:11:39.626Z"
   },
   {
    "duration": 381,
    "start_time": "2021-12-30T19:13:11.436Z"
   },
   {
    "duration": 384,
    "start_time": "2021-12-30T19:13:26.980Z"
   },
   {
    "duration": 526,
    "start_time": "2021-12-30T19:13:58.124Z"
   },
   {
    "duration": 440,
    "start_time": "2021-12-30T19:18:38.624Z"
   },
   {
    "duration": 437,
    "start_time": "2021-12-30T19:25:07.617Z"
   },
   {
    "duration": 451,
    "start_time": "2021-12-30T19:30:01.561Z"
   },
   {
    "duration": 12,
    "start_time": "2021-12-30T19:33:35.758Z"
   },
   {
    "duration": 10,
    "start_time": "2021-12-30T19:35:20.555Z"
   },
   {
    "duration": 11,
    "start_time": "2021-12-30T19:35:33.450Z"
   },
   {
    "duration": 4,
    "start_time": "2021-12-30T21:36:42.091Z"
   },
   {
    "duration": 731,
    "start_time": "2021-12-30T21:52:38.219Z"
   },
   {
    "duration": 471,
    "start_time": "2021-12-30T21:56:02.047Z"
   },
   {
    "duration": 4,
    "start_time": "2021-12-30T21:59:18.514Z"
   },
   {
    "duration": 463,
    "start_time": "2021-12-30T21:59:21.798Z"
   },
   {
    "duration": 14,
    "start_time": "2021-12-30T22:01:46.009Z"
   },
   {
    "duration": 773,
    "start_time": "2021-12-30T22:02:33.110Z"
   },
   {
    "duration": 14,
    "start_time": "2021-12-30T22:02:50.087Z"
   },
   {
    "duration": 14,
    "start_time": "2021-12-30T22:03:06.388Z"
   },
   {
    "duration": 14,
    "start_time": "2021-12-30T22:03:57.761Z"
   },
   {
    "duration": 15,
    "start_time": "2021-12-30T22:37:07.621Z"
   },
   {
    "duration": 5,
    "start_time": "2021-12-30T22:43:34.657Z"
   },
   {
    "duration": 4,
    "start_time": "2021-12-30T22:43:57.733Z"
   },
   {
    "duration": 14,
    "start_time": "2021-12-30T22:45:00.615Z"
   },
   {
    "duration": 17,
    "start_time": "2021-12-30T22:59:50.596Z"
   },
   {
    "duration": 277,
    "start_time": "2021-12-30T23:01:57.963Z"
   },
   {
    "duration": 13,
    "start_time": "2021-12-30T23:03:35.121Z"
   },
   {
    "duration": 15,
    "start_time": "2021-12-30T23:03:59.732Z"
   },
   {
    "duration": 3,
    "start_time": "2021-12-30T23:04:10.913Z"
   },
   {
    "duration": 902,
    "start_time": "2022-01-01T19:44:10.730Z"
   },
   {
    "duration": 551,
    "start_time": "2022-01-01T19:44:11.634Z"
   },
   {
    "duration": 21,
    "start_time": "2022-01-01T19:44:12.188Z"
   },
   {
    "duration": 13,
    "start_time": "2022-01-01T19:44:12.216Z"
   },
   {
    "duration": 8,
    "start_time": "2022-01-01T19:44:12.232Z"
   },
   {
    "duration": 12,
    "start_time": "2022-01-01T19:44:12.242Z"
   },
   {
    "duration": 64,
    "start_time": "2022-01-01T19:44:12.257Z"
   },
   {
    "duration": 503,
    "start_time": "2022-01-01T19:44:12.324Z"
   },
   {
    "duration": 28,
    "start_time": "2022-01-01T19:44:12.830Z"
   },
   {
    "duration": 12,
    "start_time": "2022-01-01T19:44:12.860Z"
   },
   {
    "duration": 520,
    "start_time": "2022-01-01T19:44:12.875Z"
   },
   {
    "duration": 50,
    "start_time": "2022-01-01T19:44:13.398Z"
   },
   {
    "duration": 550,
    "start_time": "2022-01-01T19:44:13.451Z"
   },
   {
    "duration": 18,
    "start_time": "2022-01-01T19:44:14.004Z"
   },
   {
    "duration": 21,
    "start_time": "2022-01-01T19:44:14.025Z"
   },
   {
    "duration": 13,
    "start_time": "2022-01-01T19:44:14.049Z"
   },
   {
    "duration": 65,
    "start_time": "2022-01-01T19:44:14.064Z"
   },
   {
    "duration": 14,
    "start_time": "2022-01-01T19:44:14.132Z"
   },
   {
    "duration": 499,
    "start_time": "2022-01-01T19:44:14.149Z"
   },
   {
    "duration": 26,
    "start_time": "2022-01-01T19:44:14.651Z"
   },
   {
    "duration": 58,
    "start_time": "2022-01-01T19:44:14.680Z"
   },
   {
    "duration": 500,
    "start_time": "2022-01-01T19:44:14.740Z"
   },
   {
    "duration": 12,
    "start_time": "2022-01-01T19:44:15.248Z"
   },
   {
    "duration": 9,
    "start_time": "2022-01-01T19:44:15.263Z"
   },
   {
    "duration": 6,
    "start_time": "2022-01-01T19:44:15.274Z"
   },
   {
    "duration": 2288,
    "start_time": "2022-01-01T19:44:15.282Z"
   },
   {
    "duration": 12,
    "start_time": "2022-01-01T19:44:17.572Z"
   },
   {
    "duration": 34,
    "start_time": "2022-01-01T19:44:17.587Z"
   },
   {
    "duration": 16,
    "start_time": "2022-01-01T19:44:17.623Z"
   },
   {
    "duration": 10,
    "start_time": "2022-01-01T19:44:17.641Z"
   },
   {
    "duration": 530,
    "start_time": "2022-01-01T19:44:17.653Z"
   },
   {
    "duration": 453,
    "start_time": "2022-01-01T19:44:18.186Z"
   },
   {
    "duration": 609,
    "start_time": "2022-01-01T19:44:18.642Z"
   },
   {
    "duration": 77,
    "start_time": "2022-01-01T19:44:19.253Z"
   },
   {
    "duration": 44,
    "start_time": "2022-01-01T19:44:19.332Z"
   },
   {
    "duration": 42,
    "start_time": "2022-01-01T19:44:19.378Z"
   },
   {
    "duration": 14,
    "start_time": "2022-01-01T19:44:19.423Z"
   },
   {
    "duration": 5,
    "start_time": "2022-01-01T19:44:19.440Z"
   },
   {
    "duration": 16,
    "start_time": "2022-01-01T19:44:19.447Z"
   },
   {
    "duration": 10,
    "start_time": "2022-01-01T19:44:19.465Z"
   },
   {
    "duration": 55,
    "start_time": "2022-01-01T19:44:19.477Z"
   },
   {
    "duration": 13,
    "start_time": "2022-01-01T19:44:19.535Z"
   },
   {
    "duration": 13,
    "start_time": "2022-01-01T19:44:19.550Z"
   },
   {
    "duration": 10,
    "start_time": "2022-01-01T19:44:19.566Z"
   },
   {
    "duration": 1953,
    "start_time": "2022-01-01T19:44:19.578Z"
   },
   {
    "duration": 6,
    "start_time": "2022-01-01T19:44:21.533Z"
   },
   {
    "duration": 31,
    "start_time": "2022-01-01T19:44:21.542Z"
   },
   {
    "duration": 9,
    "start_time": "2022-01-01T19:44:21.575Z"
   },
   {
    "duration": 31,
    "start_time": "2022-01-01T19:44:21.586Z"
   },
   {
    "duration": 8,
    "start_time": "2022-01-01T19:44:21.619Z"
   },
   {
    "duration": 8,
    "start_time": "2022-01-01T19:44:21.630Z"
   },
   {
    "duration": 21,
    "start_time": "2022-01-01T19:44:21.641Z"
   },
   {
    "duration": 5,
    "start_time": "2022-01-01T19:44:21.664Z"
   },
   {
    "duration": 545,
    "start_time": "2022-01-01T19:44:21.672Z"
   },
   {
    "duration": 487,
    "start_time": "2022-01-01T19:44:22.219Z"
   },
   {
    "duration": 499,
    "start_time": "2022-01-01T19:44:22.708Z"
   },
   {
    "duration": 515,
    "start_time": "2022-01-01T19:44:23.209Z"
   },
   {
    "duration": 38,
    "start_time": "2022-01-01T19:44:23.727Z"
   },
   {
    "duration": 17,
    "start_time": "2022-01-01T19:44:23.768Z"
   },
   {
    "duration": 34,
    "start_time": "2022-01-01T19:44:23.787Z"
   },
   {
    "duration": 929,
    "start_time": "2022-01-01T19:44:23.824Z"
   },
   {
    "duration": 1069,
    "start_time": "2022-01-01T19:44:24.755Z"
   },
   {
    "duration": 876,
    "start_time": "2022-01-01T19:44:25.827Z"
   },
   {
    "duration": 26,
    "start_time": "2022-01-01T19:44:26.705Z"
   },
   {
    "duration": 869,
    "start_time": "2022-01-01T19:44:26.733Z"
   },
   {
    "duration": 25,
    "start_time": "2022-01-01T19:44:27.604Z"
   },
   {
    "duration": 6,
    "start_time": "2022-01-01T19:44:27.631Z"
   },
   {
    "duration": 638,
    "start_time": "2022-01-01T19:44:27.645Z"
   },
   {
    "duration": 5,
    "start_time": "2022-01-01T19:44:28.286Z"
   },
   {
    "duration": 43,
    "start_time": "2022-01-01T19:44:28.293Z"
   },
   {
    "duration": 5,
    "start_time": "2022-01-01T19:44:28.338Z"
   },
   {
    "duration": 37,
    "start_time": "2022-01-01T19:54:13.236Z"
   },
   {
    "duration": 875,
    "start_time": "2022-01-09T19:33:17.932Z"
   },
   {
    "duration": 540,
    "start_time": "2022-01-09T19:33:19.641Z"
   },
   {
    "duration": 19,
    "start_time": "2022-01-09T19:33:24.034Z"
   },
   {
    "duration": 12,
    "start_time": "2022-01-09T19:33:28.077Z"
   },
   {
    "duration": 9,
    "start_time": "2022-01-09T19:33:29.588Z"
   },
   {
    "duration": 12,
    "start_time": "2022-01-09T19:33:33.785Z"
   },
   {
    "duration": 25,
    "start_time": "2022-01-09T19:33:34.763Z"
   },
   {
    "duration": 570,
    "start_time": "2022-01-09T19:33:36.600Z"
   },
   {
    "duration": 27,
    "start_time": "2022-01-09T19:33:39.402Z"
   },
   {
    "duration": 13,
    "start_time": "2022-01-09T19:33:43.558Z"
   },
   {
    "duration": 573,
    "start_time": "2022-01-09T19:33:44.892Z"
   },
   {
    "duration": 41,
    "start_time": "2022-01-09T19:33:46.227Z"
   },
   {
    "duration": 680,
    "start_time": "2022-01-09T19:33:47.357Z"
   },
   {
    "duration": 10,
    "start_time": "2022-01-09T19:33:50.018Z"
   },
   {
    "duration": 21,
    "start_time": "2022-01-09T19:33:50.842Z"
   },
   {
    "duration": 12,
    "start_time": "2022-01-09T19:33:54.998Z"
   },
   {
    "duration": 21,
    "start_time": "2022-01-09T19:33:59.321Z"
   },
   {
    "duration": 13,
    "start_time": "2022-01-09T19:34:06.505Z"
   },
   {
    "duration": 455,
    "start_time": "2022-01-09T19:34:07.439Z"
   },
   {
    "duration": 21,
    "start_time": "2022-01-09T19:34:11.053Z"
   },
   {
    "duration": 29,
    "start_time": "2022-01-09T19:34:12.753Z"
   },
   {
    "duration": 576,
    "start_time": "2022-01-09T19:34:13.912Z"
   },
   {
    "duration": 12,
    "start_time": "2022-01-09T19:34:19.422Z"
   },
   {
    "duration": 10,
    "start_time": "2022-01-09T19:34:20.192Z"
   },
   {
    "duration": 6,
    "start_time": "2022-01-09T19:34:22.915Z"
   },
   {
    "duration": 2133,
    "start_time": "2022-01-09T19:34:24.789Z"
   },
   {
    "duration": 14,
    "start_time": "2022-01-09T19:34:26.925Z"
   },
   {
    "duration": 14,
    "start_time": "2022-01-09T19:34:26.942Z"
   },
   {
    "duration": 13,
    "start_time": "2022-01-09T19:34:29.119Z"
   },
   {
    "duration": 8,
    "start_time": "2022-01-09T19:35:34.976Z"
   },
   {
    "duration": 476,
    "start_time": "2022-01-09T19:35:35.997Z"
   },
   {
    "duration": 435,
    "start_time": "2022-01-09T19:35:39.074Z"
   },
   {
    "duration": 429,
    "start_time": "2022-01-09T19:52:14.537Z"
   },
   {
    "duration": 320,
    "start_time": "2022-01-09T19:52:40.595Z"
   },
   {
    "duration": 20,
    "start_time": "2022-01-09T19:52:48.504Z"
   },
   {
    "duration": 535,
    "start_time": "2022-01-09T20:03:45.503Z"
   },
   {
    "duration": 388,
    "start_time": "2022-01-09T20:04:03.565Z"
   },
   {
    "duration": 371,
    "start_time": "2022-01-09T20:04:51.089Z"
   },
   {
    "duration": 459,
    "start_time": "2022-01-09T20:05:07.230Z"
   },
   {
    "duration": 402,
    "start_time": "2022-01-09T20:05:17.466Z"
   },
   {
    "duration": 397,
    "start_time": "2022-01-09T20:05:22.331Z"
   },
   {
    "duration": 373,
    "start_time": "2022-01-09T20:05:33.133Z"
   },
   {
    "duration": 364,
    "start_time": "2022-01-09T20:05:38.514Z"
   },
   {
    "duration": 539,
    "start_time": "2022-01-09T20:45:32.684Z"
   },
   {
    "duration": 534,
    "start_time": "2022-01-09T20:45:36.925Z"
   },
   {
    "duration": 73,
    "start_time": "2022-01-09T20:45:42.786Z"
   },
   {
    "duration": 111,
    "start_time": "2022-01-09T20:45:43.643Z"
   },
   {
    "duration": 7,
    "start_time": "2022-01-09T20:47:20.918Z"
   },
   {
    "duration": 6,
    "start_time": "2022-01-09T20:52:16.205Z"
   },
   {
    "duration": 7,
    "start_time": "2022-01-09T20:54:45.942Z"
   },
   {
    "duration": 7,
    "start_time": "2022-01-09T20:55:08.584Z"
   },
   {
    "duration": 5295,
    "start_time": "2022-01-09T21:00:04.265Z"
   },
   {
    "duration": 7,
    "start_time": "2022-01-09T21:00:28.978Z"
   },
   {
    "duration": 5284,
    "start_time": "2022-01-09T21:00:29.914Z"
   },
   {
    "duration": 12,
    "start_time": "2022-01-09T21:01:43.556Z"
   },
   {
    "duration": 7,
    "start_time": "2022-01-09T21:04:10.417Z"
   },
   {
    "duration": 23,
    "start_time": "2022-01-09T21:06:31.602Z"
   },
   {
    "duration": 17,
    "start_time": "2022-01-09T21:06:32.467Z"
   },
   {
    "duration": 4,
    "start_time": "2022-01-09T21:06:34.936Z"
   },
   {
    "duration": 18,
    "start_time": "2022-01-09T21:06:36.162Z"
   },
   {
    "duration": 10,
    "start_time": "2022-01-09T21:06:37.204Z"
   },
   {
    "duration": 18,
    "start_time": "2022-01-09T21:06:42.503Z"
   },
   {
    "duration": 13,
    "start_time": "2022-01-09T21:06:44.259Z"
   },
   {
    "duration": 6,
    "start_time": "2022-01-09T21:06:45.290Z"
   },
   {
    "duration": 10,
    "start_time": "2022-01-09T21:06:46.382Z"
   },
   {
    "duration": 473,
    "start_time": "2022-01-09T21:13:29.852Z"
   },
   {
    "duration": 415,
    "start_time": "2022-01-09T21:14:01.563Z"
   },
   {
    "duration": 6,
    "start_time": "2022-01-09T21:14:40.340Z"
   },
   {
    "duration": 8553,
    "start_time": "2022-01-09T21:14:42.821Z"
   },
   {
    "duration": 457,
    "start_time": "2022-01-09T21:15:57.519Z"
   },
   {
    "duration": 546,
    "start_time": "2022-01-09T21:16:00.077Z"
   },
   {
    "duration": 61,
    "start_time": "2022-01-09T21:16:06.138Z"
   },
   {
    "duration": 43,
    "start_time": "2022-01-09T21:16:06.752Z"
   },
   {
    "duration": 6,
    "start_time": "2022-01-09T21:16:08.264Z"
   },
   {
    "duration": 11,
    "start_time": "2022-01-09T21:16:08.734Z"
   },
   {
    "duration": 7,
    "start_time": "2022-01-09T21:16:09.192Z"
   },
   {
    "duration": 22,
    "start_time": "2022-01-09T21:16:10.628Z"
   },
   {
    "duration": 16,
    "start_time": "2022-01-09T21:16:11.064Z"
   },
   {
    "duration": 4,
    "start_time": "2022-01-09T21:16:11.559Z"
   },
   {
    "duration": 17,
    "start_time": "2022-01-09T21:16:12.429Z"
   },
   {
    "duration": 10,
    "start_time": "2022-01-09T21:16:12.888Z"
   },
   {
    "duration": 19,
    "start_time": "2022-01-09T21:16:14.290Z"
   },
   {
    "duration": 15,
    "start_time": "2022-01-09T21:16:15.289Z"
   },
   {
    "duration": 7,
    "start_time": "2022-01-09T21:16:16.387Z"
   },
   {
    "duration": 10,
    "start_time": "2022-01-09T21:16:17.933Z"
   },
   {
    "duration": 1986,
    "start_time": "2022-01-09T21:16:19.571Z"
   },
   {
    "duration": 8,
    "start_time": "2022-01-09T21:16:22.767Z"
   },
   {
    "duration": 22,
    "start_time": "2022-01-09T21:16:24.064Z"
   },
   {
    "duration": 6,
    "start_time": "2022-01-09T21:16:26.668Z"
   },
   {
    "duration": 8,
    "start_time": "2022-01-09T21:16:28.201Z"
   },
   {
    "duration": 9,
    "start_time": "2022-01-09T21:16:31.423Z"
   },
   {
    "duration": 6,
    "start_time": "2022-01-09T21:16:31.966Z"
   },
   {
    "duration": 20,
    "start_time": "2022-01-09T21:16:32.954Z"
   },
   {
    "duration": 5,
    "start_time": "2022-01-09T21:16:33.554Z"
   },
   {
    "duration": 592,
    "start_time": "2022-01-09T21:16:37.704Z"
   },
   {
    "duration": 460,
    "start_time": "2022-01-09T21:16:38.585Z"
   },
   {
    "duration": 472,
    "start_time": "2022-01-09T21:16:39.732Z"
   },
   {
    "duration": 490,
    "start_time": "2022-01-09T21:16:41.695Z"
   },
   {
    "duration": 37,
    "start_time": "2022-01-09T21:16:43.714Z"
   },
   {
    "duration": 19,
    "start_time": "2022-01-09T21:16:44.845Z"
   },
   {
    "duration": 6,
    "start_time": "2022-01-09T21:16:45.280Z"
   },
   {
    "duration": 861,
    "start_time": "2022-01-09T21:16:47.362Z"
   },
   {
    "duration": 746,
    "start_time": "2022-01-09T21:16:48.424Z"
   },
   {
    "duration": 912,
    "start_time": "2022-01-09T21:16:49.919Z"
   },
   {
    "duration": 18,
    "start_time": "2022-01-09T21:16:50.833Z"
   },
   {
    "duration": 997,
    "start_time": "2022-01-09T21:16:51.104Z"
   },
   {
    "duration": 26,
    "start_time": "2022-01-09T21:16:52.104Z"
   },
   {
    "duration": 6,
    "start_time": "2022-01-09T21:16:53.528Z"
   },
   {
    "duration": 25,
    "start_time": "2022-01-09T21:16:55.731Z"
   },
   {
    "duration": 6,
    "start_time": "2022-01-09T21:18:51.930Z"
   },
   {
    "duration": 26,
    "start_time": "2022-01-09T21:18:53.681Z"
   },
   {
    "duration": 6,
    "start_time": "2022-01-09T21:18:55.459Z"
   },
   {
    "duration": 618,
    "start_time": "2022-01-09T21:22:22.144Z"
   },
   {
    "duration": 619,
    "start_time": "2022-01-09T21:23:09.869Z"
   },
   {
    "duration": 628,
    "start_time": "2022-01-09T21:26:43.465Z"
   },
   {
    "duration": 598,
    "start_time": "2022-01-09T21:28:23.857Z"
   },
   {
    "duration": 769,
    "start_time": "2022-01-09T21:30:55.977Z"
   },
   {
    "duration": 639,
    "start_time": "2022-01-09T21:31:01.574Z"
   }
  ],
  "kernelspec": {
   "display_name": "Python 3 (ipykernel)",
   "language": "python",
   "name": "python3"
  },
  "language_info": {
   "codemirror_mode": {
    "name": "ipython",
    "version": 3
   },
   "file_extension": ".py",
   "mimetype": "text/x-python",
   "name": "python",
   "nbconvert_exporter": "python",
   "pygments_lexer": "ipython3",
   "version": "3.9.5"
  },
  "toc": {
   "base_numbering": 1,
   "nav_menu": {},
   "number_sections": true,
   "sideBar": true,
   "skip_h1_title": true,
   "title_cell": "Содержание",
   "title_sidebar": "Содержание",
   "toc_cell": true,
   "toc_position": {
    "height": "calc(100% - 180px)",
    "left": "10px",
    "top": "150px",
    "width": "165px"
   },
   "toc_section_display": true,
   "toc_window_display": true
  }
 },
 "nbformat": 4,
 "nbformat_minor": 2
}
