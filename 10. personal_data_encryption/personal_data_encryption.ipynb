{
  "cells": [
    {
      "cell_type": "markdown",
      "metadata": {
        "toc": true,
        "id": "CGGKnzxzatGq"
      },
      "source": [
        "<h1>Содержание<span class=\"tocSkip\"></span></h1>\n",
        "<div class=\"toc\"><ul class=\"toc-item\"><li><span><a href=\"#Загрузка-данных\" data-toc-modified-id=\"Загрузка-данных-1\"><span class=\"toc-item-num\">1&nbsp;&nbsp;</span>Загрузка данных</a></span></li><li><span><a href=\"#Умножение-матриц\" data-toc-modified-id=\"Умножение-матриц-2\"><span class=\"toc-item-num\">2&nbsp;&nbsp;</span>Умножение матриц</a></span></li><li><span><a href=\"#Алгоритм-преобразования\" data-toc-modified-id=\"Алгоритм-преобразования-3\"><span class=\"toc-item-num\">3&nbsp;&nbsp;</span>Алгоритм преобразования</a></span></li><li><span><a href=\"#Проверка-алгоритма\" data-toc-modified-id=\"Проверка-алгоритма-4\"><span class=\"toc-item-num\">4&nbsp;&nbsp;</span>Проверка алгоритма</a></span></li><li><span><a href=\"#Восстановление-исходных-данных\" data-toc-modified-id=\"Восстановление-исходных-данных-5\"><span class=\"toc-item-num\">5&nbsp;&nbsp;</span>Восстановление исходных данных</a></span></li><li><span><a href=\"#Вывод\" data-toc-modified-id=\"Вывод-6\"><span class=\"toc-item-num\">6&nbsp;&nbsp;</span>Вывод</a></span>"
      ]
    },
    {
      "cell_type": "markdown",
      "metadata": {
        "id": "BqHwrq1aatGr"
      },
      "source": [
        "# Защита персональных данных клиентов"
      ]
    },
    {
      "cell_type": "markdown",
      "metadata": {
        "id": "ssqd_7u8atGs"
      },
      "source": [
        "Необходимо защитить данные клиентов страховой компании таким образом, чтобы персональную информацию о клиентах было сложно восстановить, но вместе с тем зашифрованные данные не влияли на качество модели машинного обучения."
      ]
    },
    {
      "cell_type": "markdown",
      "metadata": {
        "id": "4rw_wdh2atGs"
      },
      "source": [
        "## Загрузка данных"
      ]
    },
    {
      "cell_type": "code",
      "execution_count": null,
      "metadata": {
        "id": "ghqdNVlHatGt"
      },
      "outputs": [],
      "source": [
        "# импортируем необходимые библиотеки\n",
        "import pandas as pd\n",
        "import numpy as np\n",
        "import random\n",
        "from sklearn.model_selection import train_test_split\n",
        "from sklearn.linear_model import LinearRegression\n",
        "from sklearn.metrics import r2_score"
      ]
    },
    {
      "cell_type": "code",
      "execution_count": null,
      "metadata": {
        "id": "eVuaOZdsatGu"
      },
      "outputs": [],
      "source": [
        "# прочитаем таблицу и сохраним данные в переменную data\n",
        "data = pd.read_csv('/datasets/insurance.csv')"
      ]
    },
    {
      "cell_type": "code",
      "execution_count": null,
      "metadata": {
        "scrolled": true,
        "id": "gH-QpEq7atGv",
        "outputId": "aa70e44a-5d76-403d-d5f5-ce941e50e8b9"
      },
      "outputs": [
        {
          "data": {
            "text/html": [
              "<div>\n",
              "<style scoped>\n",
              "    .dataframe tbody tr th:only-of-type {\n",
              "        vertical-align: middle;\n",
              "    }\n",
              "\n",
              "    .dataframe tbody tr th {\n",
              "        vertical-align: top;\n",
              "    }\n",
              "\n",
              "    .dataframe thead th {\n",
              "        text-align: right;\n",
              "    }\n",
              "</style>\n",
              "<table border=\"1\" class=\"dataframe\">\n",
              "  <thead>\n",
              "    <tr style=\"text-align: right;\">\n",
              "      <th></th>\n",
              "      <th>Пол</th>\n",
              "      <th>Возраст</th>\n",
              "      <th>Зарплата</th>\n",
              "      <th>Члены семьи</th>\n",
              "      <th>Страховые выплаты</th>\n",
              "    </tr>\n",
              "  </thead>\n",
              "  <tbody>\n",
              "    <tr>\n",
              "      <th>0</th>\n",
              "      <td>1</td>\n",
              "      <td>41.0</td>\n",
              "      <td>49600.0</td>\n",
              "      <td>1</td>\n",
              "      <td>0</td>\n",
              "    </tr>\n",
              "    <tr>\n",
              "      <th>1</th>\n",
              "      <td>0</td>\n",
              "      <td>46.0</td>\n",
              "      <td>38000.0</td>\n",
              "      <td>1</td>\n",
              "      <td>1</td>\n",
              "    </tr>\n",
              "    <tr>\n",
              "      <th>2</th>\n",
              "      <td>0</td>\n",
              "      <td>29.0</td>\n",
              "      <td>21000.0</td>\n",
              "      <td>0</td>\n",
              "      <td>0</td>\n",
              "    </tr>\n",
              "    <tr>\n",
              "      <th>3</th>\n",
              "      <td>0</td>\n",
              "      <td>21.0</td>\n",
              "      <td>41700.0</td>\n",
              "      <td>2</td>\n",
              "      <td>0</td>\n",
              "    </tr>\n",
              "    <tr>\n",
              "      <th>4</th>\n",
              "      <td>1</td>\n",
              "      <td>28.0</td>\n",
              "      <td>26100.0</td>\n",
              "      <td>0</td>\n",
              "      <td>0</td>\n",
              "    </tr>\n",
              "  </tbody>\n",
              "</table>\n",
              "</div>"
            ],
            "text/plain": [
              "   Пол  Возраст  Зарплата  Члены семьи  Страховые выплаты\n",
              "0    1     41.0   49600.0            1                  0\n",
              "1    0     46.0   38000.0            1                  1\n",
              "2    0     29.0   21000.0            0                  0\n",
              "3    0     21.0   41700.0            2                  0\n",
              "4    1     28.0   26100.0            0                  0"
            ]
          },
          "execution_count": 3,
          "metadata": {},
          "output_type": "execute_result"
        }
      ],
      "source": [
        "# выведем первые пять строк таблицы\n",
        "data.head()"
      ]
    },
    {
      "cell_type": "markdown",
      "metadata": {
        "id": "XlI63kgyatGy"
      },
      "source": [
        "По условиям задания:\n",
        "\n",
        "**Признаки:** пол, возраст и зарплата застрахованного, количество членов его семьи.\n",
        "\n",
        "**Целевой признак:** количество страховых выплат клиенту за последние 5 лет."
      ]
    },
    {
      "cell_type": "code",
      "execution_count": null,
      "metadata": {
        "id": "dJf7g9ygatGy",
        "outputId": "fa98fdc8-1b75-4395-c50b-d7801f9be56c"
      },
      "outputs": [
        {
          "name": "stdout",
          "output_type": "stream",
          "text": [
            "<class 'pandas.core.frame.DataFrame'>\n",
            "RangeIndex: 5000 entries, 0 to 4999\n",
            "Data columns (total 5 columns):\n",
            " #   Column             Non-Null Count  Dtype  \n",
            "---  ------             --------------  -----  \n",
            " 0   Пол                5000 non-null   int64  \n",
            " 1   Возраст            5000 non-null   float64\n",
            " 2   Зарплата           5000 non-null   float64\n",
            " 3   Члены семьи        5000 non-null   int64  \n",
            " 4   Страховые выплаты  5000 non-null   int64  \n",
            "dtypes: float64(2), int64(3)\n",
            "memory usage: 195.4 KB\n"
          ]
        }
      ],
      "source": [
        "# выведем общую информацию по таблице (кол-во ненулевых значений, типы данных)\n",
        "data.info()"
      ]
    },
    {
      "cell_type": "markdown",
      "metadata": {
        "id": "9jIAk-kwatGz"
      },
      "source": [
        "Данные в столбцах `Возраст` и `Зарплата` представлены в виде float, остальные - в int, необходимо привести к единообразию. Также можем заметить, что в данных нет пропусков."
      ]
    },
    {
      "cell_type": "code",
      "execution_count": null,
      "metadata": {
        "id": "Niqi5uRjatGz"
      },
      "outputs": [],
      "source": [
        "# приведем все данные таблицы к типу int\n",
        "data[['Возраст', 'Зарплата']] = data[['Возраст', 'Зарплата']].astype('int64')"
      ]
    },
    {
      "cell_type": "code",
      "execution_count": null,
      "metadata": {
        "id": "AWLUeyxYatG0",
        "outputId": "27f2fb8d-cf16-4a6e-8191-eb66f8783dcd"
      },
      "outputs": [
        {
          "data": {
            "text/plain": [
              "153"
            ]
          },
          "execution_count": 6,
          "metadata": {},
          "output_type": "execute_result"
        }
      ],
      "source": [
        "# проверим данные на наличие дубликатов\n",
        "data.duplicated().sum()"
      ]
    },
    {
      "cell_type": "code",
      "execution_count": null,
      "metadata": {
        "id": "bL4y9xFKatG0",
        "outputId": "f85b27ea-ed9e-4a18-9d96-cb7b7812d6a7"
      },
      "outputs": [
        {
          "data": {
            "text/html": [
              "<div>\n",
              "<style scoped>\n",
              "    .dataframe tbody tr th:only-of-type {\n",
              "        vertical-align: middle;\n",
              "    }\n",
              "\n",
              "    .dataframe tbody tr th {\n",
              "        vertical-align: top;\n",
              "    }\n",
              "\n",
              "    .dataframe thead th {\n",
              "        text-align: right;\n",
              "    }\n",
              "</style>\n",
              "<table border=\"1\" class=\"dataframe\">\n",
              "  <thead>\n",
              "    <tr style=\"text-align: right;\">\n",
              "      <th></th>\n",
              "      <th>Пол</th>\n",
              "      <th>Возраст</th>\n",
              "      <th>Зарплата</th>\n",
              "      <th>Члены семьи</th>\n",
              "      <th>Страховые выплаты</th>\n",
              "    </tr>\n",
              "  </thead>\n",
              "  <tbody>\n",
              "    <tr>\n",
              "      <th>281</th>\n",
              "      <td>1</td>\n",
              "      <td>39</td>\n",
              "      <td>48100</td>\n",
              "      <td>1</td>\n",
              "      <td>0</td>\n",
              "    </tr>\n",
              "    <tr>\n",
              "      <th>488</th>\n",
              "      <td>1</td>\n",
              "      <td>24</td>\n",
              "      <td>32900</td>\n",
              "      <td>1</td>\n",
              "      <td>0</td>\n",
              "    </tr>\n",
              "    <tr>\n",
              "      <th>513</th>\n",
              "      <td>0</td>\n",
              "      <td>31</td>\n",
              "      <td>37400</td>\n",
              "      <td>2</td>\n",
              "      <td>0</td>\n",
              "    </tr>\n",
              "    <tr>\n",
              "      <th>718</th>\n",
              "      <td>1</td>\n",
              "      <td>22</td>\n",
              "      <td>32600</td>\n",
              "      <td>1</td>\n",
              "      <td>0</td>\n",
              "    </tr>\n",
              "    <tr>\n",
              "      <th>785</th>\n",
              "      <td>0</td>\n",
              "      <td>20</td>\n",
              "      <td>35800</td>\n",
              "      <td>0</td>\n",
              "      <td>0</td>\n",
              "    </tr>\n",
              "    <tr>\n",
              "      <th>...</th>\n",
              "      <td>...</td>\n",
              "      <td>...</td>\n",
              "      <td>...</td>\n",
              "      <td>...</td>\n",
              "      <td>...</td>\n",
              "    </tr>\n",
              "    <tr>\n",
              "      <th>4793</th>\n",
              "      <td>1</td>\n",
              "      <td>24</td>\n",
              "      <td>37800</td>\n",
              "      <td>0</td>\n",
              "      <td>0</td>\n",
              "    </tr>\n",
              "    <tr>\n",
              "      <th>4902</th>\n",
              "      <td>1</td>\n",
              "      <td>35</td>\n",
              "      <td>38700</td>\n",
              "      <td>1</td>\n",
              "      <td>0</td>\n",
              "    </tr>\n",
              "    <tr>\n",
              "      <th>4935</th>\n",
              "      <td>1</td>\n",
              "      <td>19</td>\n",
              "      <td>32700</td>\n",
              "      <td>0</td>\n",
              "      <td>0</td>\n",
              "    </tr>\n",
              "    <tr>\n",
              "      <th>4945</th>\n",
              "      <td>1</td>\n",
              "      <td>21</td>\n",
              "      <td>45800</td>\n",
              "      <td>0</td>\n",
              "      <td>0</td>\n",
              "    </tr>\n",
              "    <tr>\n",
              "      <th>4965</th>\n",
              "      <td>0</td>\n",
              "      <td>22</td>\n",
              "      <td>40100</td>\n",
              "      <td>1</td>\n",
              "      <td>0</td>\n",
              "    </tr>\n",
              "  </tbody>\n",
              "</table>\n",
              "<p>153 rows × 5 columns</p>\n",
              "</div>"
            ],
            "text/plain": [
              "      Пол  Возраст  Зарплата  Члены семьи  Страховые выплаты\n",
              "281     1       39     48100            1                  0\n",
              "488     1       24     32900            1                  0\n",
              "513     0       31     37400            2                  0\n",
              "718     1       22     32600            1                  0\n",
              "785     0       20     35800            0                  0\n",
              "...   ...      ...       ...          ...                ...\n",
              "4793    1       24     37800            0                  0\n",
              "4902    1       35     38700            1                  0\n",
              "4935    1       19     32700            0                  0\n",
              "4945    1       21     45800            0                  0\n",
              "4965    0       22     40100            1                  0\n",
              "\n",
              "[153 rows x 5 columns]"
            ]
          },
          "execution_count": 7,
          "metadata": {},
          "output_type": "execute_result"
        }
      ],
      "source": [
        "data[data.duplicated()]"
      ]
    },
    {
      "cell_type": "markdown",
      "metadata": {
        "id": "-tsJEmevatG1"
      },
      "source": [
        "С одной стороны - не факт, что это дубликаты, ведь в теории могут быть у страховой компании клиенты одного возраста с одинаковым уровнем дохода. С другой стороны, даже если это не дубликаты, на качество обучения модели эти данные не повлияют.\n",
        "\n",
        "upd: проверила опытным путем, точно не повлияет."
      ]
    },
    {
      "cell_type": "code",
      "execution_count": null,
      "metadata": {
        "id": "KolNyZFpatG1",
        "outputId": "fc9ef8a3-729c-446e-8106-2a743936cbc0"
      },
      "outputs": [
        {
          "data": {
            "text/html": [
              "<div>\n",
              "<style scoped>\n",
              "    .dataframe tbody tr th:only-of-type {\n",
              "        vertical-align: middle;\n",
              "    }\n",
              "\n",
              "    .dataframe tbody tr th {\n",
              "        vertical-align: top;\n",
              "    }\n",
              "\n",
              "    .dataframe thead th {\n",
              "        text-align: right;\n",
              "    }\n",
              "</style>\n",
              "<table border=\"1\" class=\"dataframe\">\n",
              "  <thead>\n",
              "    <tr style=\"text-align: right;\">\n",
              "      <th></th>\n",
              "      <th>Пол</th>\n",
              "      <th>Возраст</th>\n",
              "      <th>Зарплата</th>\n",
              "      <th>Члены семьи</th>\n",
              "      <th>Страховые выплаты</th>\n",
              "    </tr>\n",
              "  </thead>\n",
              "  <tbody>\n",
              "    <tr>\n",
              "      <th>count</th>\n",
              "      <td>5000.000000</td>\n",
              "      <td>5000.000000</td>\n",
              "      <td>5000.000000</td>\n",
              "      <td>5000.000000</td>\n",
              "      <td>5000.000000</td>\n",
              "    </tr>\n",
              "    <tr>\n",
              "      <th>mean</th>\n",
              "      <td>0.499000</td>\n",
              "      <td>30.952800</td>\n",
              "      <td>39916.359400</td>\n",
              "      <td>1.194200</td>\n",
              "      <td>0.148000</td>\n",
              "    </tr>\n",
              "    <tr>\n",
              "      <th>std</th>\n",
              "      <td>0.500049</td>\n",
              "      <td>8.440807</td>\n",
              "      <td>9900.082063</td>\n",
              "      <td>1.091387</td>\n",
              "      <td>0.463183</td>\n",
              "    </tr>\n",
              "    <tr>\n",
              "      <th>min</th>\n",
              "      <td>0.000000</td>\n",
              "      <td>18.000000</td>\n",
              "      <td>5300.000000</td>\n",
              "      <td>0.000000</td>\n",
              "      <td>0.000000</td>\n",
              "    </tr>\n",
              "    <tr>\n",
              "      <th>25%</th>\n",
              "      <td>0.000000</td>\n",
              "      <td>24.000000</td>\n",
              "      <td>33300.000000</td>\n",
              "      <td>0.000000</td>\n",
              "      <td>0.000000</td>\n",
              "    </tr>\n",
              "    <tr>\n",
              "      <th>50%</th>\n",
              "      <td>0.000000</td>\n",
              "      <td>30.000000</td>\n",
              "      <td>40200.000000</td>\n",
              "      <td>1.000000</td>\n",
              "      <td>0.000000</td>\n",
              "    </tr>\n",
              "    <tr>\n",
              "      <th>75%</th>\n",
              "      <td>1.000000</td>\n",
              "      <td>37.000000</td>\n",
              "      <td>46600.000000</td>\n",
              "      <td>2.000000</td>\n",
              "      <td>0.000000</td>\n",
              "    </tr>\n",
              "    <tr>\n",
              "      <th>max</th>\n",
              "      <td>1.000000</td>\n",
              "      <td>65.000000</td>\n",
              "      <td>79000.000000</td>\n",
              "      <td>6.000000</td>\n",
              "      <td>5.000000</td>\n",
              "    </tr>\n",
              "  </tbody>\n",
              "</table>\n",
              "</div>"
            ],
            "text/plain": [
              "               Пол      Возраст      Зарплата  Члены семьи  Страховые выплаты\n",
              "count  5000.000000  5000.000000   5000.000000  5000.000000        5000.000000\n",
              "mean      0.499000    30.952800  39916.359400     1.194200           0.148000\n",
              "std       0.500049     8.440807   9900.082063     1.091387           0.463183\n",
              "min       0.000000    18.000000   5300.000000     0.000000           0.000000\n",
              "25%       0.000000    24.000000  33300.000000     0.000000           0.000000\n",
              "50%       0.000000    30.000000  40200.000000     1.000000           0.000000\n",
              "75%       1.000000    37.000000  46600.000000     2.000000           0.000000\n",
              "max       1.000000    65.000000  79000.000000     6.000000           5.000000"
            ]
          },
          "execution_count": 8,
          "metadata": {},
          "output_type": "execute_result"
        }
      ],
      "source": [
        "# посмотрим на распределение значений в столбцах. Какие-то дополнительные графики на поиск выбросов в данном случае нет \n",
        "# смысла строить\n",
        "data.describe()"
      ]
    },
    {
      "cell_type": "markdown",
      "metadata": {
        "id": "jCpCBbktatG1"
      },
      "source": [
        "Выбросов в данных нет."
      ]
    },
    {
      "cell_type": "markdown",
      "metadata": {
        "id": "NiYpkQ9watG2"
      },
      "source": [
        "## Умножение матриц"
      ]
    },
    {
      "cell_type": "markdown",
      "metadata": {
        "id": "P0H33fBoatG2"
      },
      "source": [
        "Обозначения:\n",
        "\n",
        "- $X$ — матрица признаков (нулевой столбец состоит из единиц)\n",
        "\n",
        "- $y$ — вектор целевого признака\n",
        "\n",
        "- $P$ — матрица, на которую умножаются признаки\n",
        "\n",
        "- $w$ — вектор весов линейной регрессии (нулевой элемент равен сдвигу)"
      ]
    },
    {
      "cell_type": "markdown",
      "metadata": {
        "id": "HGI7CvkwatG2"
      },
      "source": [
        "Предсказания:\n",
        "\n",
        "$$\n",
        "a = Xw\n",
        "$$\n",
        "\n",
        "Задача обучения:\n",
        "\n",
        "$$\n",
        "w = \\arg\\min_w MSE(Xw, y)\n",
        "$$\n",
        "\n",
        "Формула обучения:\n",
        "\n",
        "$$\n",
        "w = (X^T X)^{-1} X^T y\n",
        "$$"
      ]
    },
    {
      "cell_type": "markdown",
      "metadata": {
        "id": "-uKCj1s4atG2"
      },
      "source": [
        "**Ответ:** При умножении матрицы признаков на обратимую матрицу качество линейной регрессии не изменится.\n",
        "\n",
        "**Обоснование:** Докажем наш ответ на основе формулы ~~вычисления предсказаний для каждой из матриц.~~ расчета весов для линейной регрессии."
      ]
    },
    {
      "cell_type": "markdown",
      "metadata": {
        "id": "t5ifFd1matG3"
      },
      "source": [
        "Представим новую матрицу признаков $X'$ как произведение исходной $X$ на обратимую матрицу $P$:\n",
        "\n",
        "$$\n",
        "X' = X*P\n",
        "$$\n",
        "\n",
        "Следовательно, формула расчета весов для линейной регрессии будет выглядеть следующем образом:\n",
        "\n",
        "$$\n",
        "w' = (X'^{T}*X')^{-1}*X'^{T}*y = ((X*P)^{T}*X*P)^{-1}*(X*P)^{T}*y\n",
        "$$\n",
        "\n",
        "По свойствам матриц $(X*P)^{T} = P^{T}*X^{T}$, следовательно:\n",
        "\n",
        "$$\n",
        "w' = (P^{T}*X^{T}*X*P)^{-1}*P^{T}*X^{T}*y\n",
        "$$\n",
        "\n",
        "По свойству ассоциативноси матриц $(A*(B*C) = ((A*B)*C)$, следовательно, можем представить формулу следующим образом:\n",
        "\n",
        "$$\n",
        "w' = (P^{T}*(X^{T}*X)*P)^{-1}*P^{T}*X^{T}*y\n",
        "$$\n",
        "\n",
        "Раскроем скобку $(P^{T}*(X^{T}*X)*P)^{-1}$:\n",
        "\n",
        "$$\n",
        "w' = P^{-1}*(X^{T}*X)^{-1}*(P^{T})^{-1}*P^{T}*X^{T}*y\n",
        "$$\n",
        "\n",
        "Так как $P$ по условию обратимая, то произведение $(P^{T})^{-1}*P^{T}$ равно единичной матрице - $E$:\n",
        "\n",
        "$$\n",
        "w' = P^{-1}*(X^{T}*X)^{-1}*E*X^{T}*y = P^{-1}*(X^{T}*X)^{-1}*X^{T}*y\n",
        "$$\n",
        "\n",
        "Как можем заметить, справа получилась формула для расчета $w$:\n",
        "\n",
        "$$\n",
        "w' = P^{-1}*w\n",
        "$$\n",
        "\n",
        "Теперь обратимся к формуле рассчета предсказаний для линейной регрессии - $a$:\n",
        "\n",
        "$$\n",
        "a = X*w\n",
        "$$\n",
        "$$\n",
        "a' = X'*w' = X*P*P^{-1}*w\n",
        "$$\n",
        "\n",
        "Как мы уже ранее заметили, так как $P$ по условию обратимая, то произведение $(P^{T})^{-1}*P^{T}$ равно единичной матрице - $E$:\n",
        "\n",
        "$$\n",
        "a' = X*E*w\n",
        "$$\n",
        "\n",
        "Но так как любая матрица $A$ при умножении на единичную матрицу равна этой же самой матрице $A$:\n",
        "\n",
        "$$\n",
        "a' = X*w = a\n",
        "$$\n",
        "\n",
        "Мы доказали, что предсказания $a'$ для матрицы признаков, умноженных на обратимую матрицу равны предсказаниям $a$. Следовательно, при умножении признаков на обратимую матрицу - качество линейной регрессии не изменится."
      ]
    },
    {
      "cell_type": "markdown",
      "metadata": {
        "id": "_aDtk9-DatG4"
      },
      "source": [
        "## Алгоритм преобразования"
      ]
    },
    {
      "cell_type": "markdown",
      "metadata": {
        "id": "QvTKKPa1atG5"
      },
      "source": [
        "**Алгоритм**\n",
        "\n",
        "Для защиты данных клиентов нам необходмо создать обратимую матрицу, которая бы шифровала данные. Однако также важно иметь возможность потом зашифрованные данные расшифровать, если возникнет такая необходимость. В связи с этим предлагаем создать класс, который:\n",
        "- принимает на вход исходную матрицу признаков, а возвращает уже зашифрованную (умноженную на случайную обратимую матрицу);\n",
        "- принимает на вход зашифрованную матрицу, а возвращает исходную (декодированную).\n",
        "\n",
        "Следовательно алгоритм действий для данного раздела следующий:\n",
        "\n",
        "- создать класс для шифровки/дешифровки данных о клиентах;\n",
        "- обучить модель на исходных данных и найти метрику R2;\n",
        "- с помощью созданного объекта зашифровать данные, обучить на них модель и также найти метрику R2;\n",
        "- сравнить полученные метрики и сделать выводы."
      ]
    },
    {
      "cell_type": "markdown",
      "metadata": {
        "id": "D2Ef4DWQatG5"
      },
      "source": [
        "**Обоснование**\n",
        "\n",
        "На прошлом этапе исследования мы выяснили, что умножение исходной матрицы признаков на обратимую матрицу никак не влияет на качество предсказаний модели, следовательно, умножение матрицы на случайным образом сгенерированную обратимую матрицу решит две наши задачи - зашифрует данные и не повлияет на работу модели."
      ]
    },
    {
      "cell_type": "markdown",
      "metadata": {
        "id": "Kc-M37aPatG5"
      },
      "source": [
        "## Проверка алгоритма"
      ]
    },
    {
      "cell_type": "code",
      "execution_count": null,
      "metadata": {
        "id": "bBUqRhgdatG5"
      },
      "outputs": [],
      "source": [
        "# объявим класс для шифровки/расшифровки данных о клиентах\n",
        "class DataEncoder:\n",
        "    # фиксация рандома при инициализации\n",
        "    def __init__(self, random_state=None):\n",
        "        self.__rstate = random_state\n",
        "        \n",
        "    def fit(self, features):\n",
        "        self.__inverse(features)\n",
        "        return self\n",
        "    \n",
        "    def __inverse(self, features):\n",
        "        np.random.seed(self.__rstate)\n",
        "        # генерирует случайную матрицу, при исп. функции numpy.random.normal() вероятность получить необратимую матрицу \n",
        "        # близка к нулю\n",
        "        self.__matrix = np.random.normal(size=(features.shape[1], features.shape[1]))\n",
        "        # генерирует обратную матрицу. Также эта фун-ия проверяет сгенерированную матрицу на обратимость, если матрица\n",
        "        # необратима, то будет ошибка\n",
        "        self.__matrix_inv = np.linalg.inv(self.__matrix)\n",
        "        # преобразует данные, умножив их на случайную квадратную обратимую матрицу    \n",
        "    def transform(self, features):\n",
        "        return pd.DataFrame(np.dot(features, self.__matrix))\n",
        "    \n",
        "    def fit_transform(self, features):\n",
        "        self.fit(features)\n",
        "        return self.transform(features)\n",
        "    # декодирует данные через умножение матрицы преобразованных признаков на обратную случайную обратимую матрицу\n",
        "    def decode(self, transformed_features):\n",
        "        reversed = np.dot(transformed_features, self.__matrix_inv)\n",
        "    # результат дешифровки данных выводим в виде датафрейма, данные округляем и приводим к типу int    \n",
        "        return pd.DataFrame(np.dot(transformed_features, self.__matrix_inv)).round(2).astype('int64')"
      ]
    },
    {
      "cell_type": "code",
      "execution_count": null,
      "metadata": {
        "id": "JHaVQ0DBatG6"
      },
      "outputs": [],
      "source": [
        "# разделим данные на признаки (features) и целевой признак (target)\n",
        "features = data.drop(columns=['Страховые выплаты'])\n",
        "target = data['Страховые выплаты']"
      ]
    },
    {
      "cell_type": "code",
      "execution_count": null,
      "metadata": {
        "id": "qlIB9n9iatG6"
      },
      "outputs": [],
      "source": [
        "# обучим наш преобразователь данных на признаках и трансформируем их\n",
        "Encoder = DataEncoder()\n",
        "Encoder.fit(features)\n",
        "transformed_features = Encoder.transform(features)"
      ]
    },
    {
      "cell_type": "code",
      "execution_count": null,
      "metadata": {
        "id": "G7AMFQk2atG7"
      },
      "outputs": [],
      "source": [
        "# разделим признаки и цель на обучающую и тестовую выборки\n",
        "features_train, features_test, target_train, target_test = train_test_split(features, target, test_size=0.4,\n",
        "                                                                                            random_state=12345)\n",
        "\n",
        "# то же самое сделаем для преобразованных признаков\n",
        "transformed_features_train, transformed_features_test, transformed_target_train, transformed_target_test = train_test_split(transformed_features, target, test_size=0.4,\n",
        "                                                                                            random_state=12345)"
      ]
    },
    {
      "cell_type": "code",
      "execution_count": null,
      "metadata": {
        "id": "KHkdFejEatG7"
      },
      "outputs": [],
      "source": [
        "#создадим модель, которую обучим на исходных данных \n",
        "model_for_original_data = LinearRegression()\n",
        "# а эту обучим уже на преобразованных данных\n",
        "model_for_transformed_data = LinearRegression()\n",
        "\n",
        "model_for_original_data.fit(features_train, target_train)\n",
        "model_for_transformed_data.fit(transformed_features_train, transformed_target_train)\n",
        "\n",
        "# найдем предсказания для тестовой выборки исходных данных\n",
        "prediction1 = model_for_original_data.predict(features_test)\n",
        "# найдем предсказания для тестовой выборки преобразованных данных\n",
        "prediction2 = model_for_transformed_data.predict(transformed_features_test)"
      ]
    },
    {
      "cell_type": "code",
      "execution_count": null,
      "metadata": {
        "id": "MSRlkaS2atG7",
        "outputId": "37039f4b-5651-4f20-d34a-8b255843cd41"
      },
      "outputs": [
        {
          "name": "stdout",
          "output_type": "stream",
          "text": [
            "R2 score на исходных данных: 0.42375\n",
            "R2 score на преобразованных данных: 0.42375\n"
          ]
        }
      ],
      "source": [
        "# найдем коэф. детерминации для исх. данных\n",
        "model_for_original_data_r2 = r2_score(target_test, prediction1)\n",
        "# найдем коэф. детерминации для преобразованных данных\n",
        "model_for_transformed_data_r2 = r2_score(transformed_target_test, prediction2)\n",
        "print(f'R2 score на исходных данных: {model_for_original_data_r2:.5f}')\n",
        "print(f'R2 score на преобразованных данных: {model_for_transformed_data_r2:.5f}')"
      ]
    },
    {
      "cell_type": "code",
      "execution_count": null,
      "metadata": {
        "id": "NCmyPIxXatG8",
        "outputId": "0d7010e9-88b0-4ebb-b13e-d5259e3a1188"
      },
      "outputs": [
        {
          "data": {
            "text/plain": [
              "True"
            ]
          },
          "execution_count": 15,
          "metadata": {},
          "output_type": "execute_result"
        }
      ],
      "source": [
        "# проверим равны ли метрики\n",
        "model_for_original_data_r2.round(5) == model_for_transformed_data_r2.round(5)"
      ]
    },
    {
      "cell_type": "markdown",
      "metadata": {
        "id": "WsRI4SoKatG8"
      },
      "source": [
        "## Восстановление исходных данных"
      ]
    },
    {
      "cell_type": "code",
      "execution_count": null,
      "metadata": {
        "id": "21Of0iJNatG9",
        "outputId": "cbf0bcfe-9f48-425d-a1e6-c7bc68f94c56"
      },
      "outputs": [
        {
          "data": {
            "text/html": [
              "<div>\n",
              "<style scoped>\n",
              "    .dataframe tbody tr th:only-of-type {\n",
              "        vertical-align: middle;\n",
              "    }\n",
              "\n",
              "    .dataframe tbody tr th {\n",
              "        vertical-align: top;\n",
              "    }\n",
              "\n",
              "    .dataframe thead th {\n",
              "        text-align: right;\n",
              "    }\n",
              "</style>\n",
              "<table border=\"1\" class=\"dataframe\">\n",
              "  <thead>\n",
              "    <tr style=\"text-align: right;\">\n",
              "      <th></th>\n",
              "      <th>Пол</th>\n",
              "      <th>Возраст</th>\n",
              "      <th>Зарплата</th>\n",
              "      <th>Члены семьи</th>\n",
              "    </tr>\n",
              "  </thead>\n",
              "  <tbody>\n",
              "    <tr>\n",
              "      <th>0</th>\n",
              "      <td>1</td>\n",
              "      <td>41</td>\n",
              "      <td>49600</td>\n",
              "      <td>1</td>\n",
              "    </tr>\n",
              "    <tr>\n",
              "      <th>1</th>\n",
              "      <td>0</td>\n",
              "      <td>46</td>\n",
              "      <td>38000</td>\n",
              "      <td>1</td>\n",
              "    </tr>\n",
              "    <tr>\n",
              "      <th>2</th>\n",
              "      <td>0</td>\n",
              "      <td>29</td>\n",
              "      <td>21000</td>\n",
              "      <td>0</td>\n",
              "    </tr>\n",
              "    <tr>\n",
              "      <th>3</th>\n",
              "      <td>0</td>\n",
              "      <td>21</td>\n",
              "      <td>41700</td>\n",
              "      <td>2</td>\n",
              "    </tr>\n",
              "    <tr>\n",
              "      <th>4</th>\n",
              "      <td>1</td>\n",
              "      <td>28</td>\n",
              "      <td>26100</td>\n",
              "      <td>0</td>\n",
              "    </tr>\n",
              "    <tr>\n",
              "      <th>...</th>\n",
              "      <td>...</td>\n",
              "      <td>...</td>\n",
              "      <td>...</td>\n",
              "      <td>...</td>\n",
              "    </tr>\n",
              "    <tr>\n",
              "      <th>4995</th>\n",
              "      <td>0</td>\n",
              "      <td>28</td>\n",
              "      <td>35700</td>\n",
              "      <td>2</td>\n",
              "    </tr>\n",
              "    <tr>\n",
              "      <th>4996</th>\n",
              "      <td>0</td>\n",
              "      <td>34</td>\n",
              "      <td>52400</td>\n",
              "      <td>1</td>\n",
              "    </tr>\n",
              "    <tr>\n",
              "      <th>4997</th>\n",
              "      <td>0</td>\n",
              "      <td>20</td>\n",
              "      <td>33900</td>\n",
              "      <td>2</td>\n",
              "    </tr>\n",
              "    <tr>\n",
              "      <th>4998</th>\n",
              "      <td>1</td>\n",
              "      <td>22</td>\n",
              "      <td>32700</td>\n",
              "      <td>3</td>\n",
              "    </tr>\n",
              "    <tr>\n",
              "      <th>4999</th>\n",
              "      <td>1</td>\n",
              "      <td>28</td>\n",
              "      <td>40600</td>\n",
              "      <td>1</td>\n",
              "    </tr>\n",
              "  </tbody>\n",
              "</table>\n",
              "<p>5000 rows × 4 columns</p>\n",
              "</div>"
            ],
            "text/plain": [
              "      Пол  Возраст  Зарплата  Члены семьи\n",
              "0       1       41     49600            1\n",
              "1       0       46     38000            1\n",
              "2       0       29     21000            0\n",
              "3       0       21     41700            2\n",
              "4       1       28     26100            0\n",
              "...   ...      ...       ...          ...\n",
              "4995    0       28     35700            2\n",
              "4996    0       34     52400            1\n",
              "4997    0       20     33900            2\n",
              "4998    1       22     32700            3\n",
              "4999    1       28     40600            1\n",
              "\n",
              "[5000 rows x 4 columns]"
            ]
          },
          "execution_count": 16,
          "metadata": {},
          "output_type": "execute_result"
        }
      ],
      "source": [
        "# дешифруем данные\n",
        "recovered_features = Encoder.decode(transformed_features)\n",
        "recovered_features.columns = features.columns\n",
        "recovered_features"
      ]
    },
    {
      "cell_type": "code",
      "execution_count": null,
      "metadata": {
        "scrolled": true,
        "id": "m8kL97n6atG9",
        "outputId": "236b1155-3857-4343-9758-c9f11f9762fa"
      },
      "outputs": [
        {
          "data": {
            "text/html": [
              "<div>\n",
              "<style scoped>\n",
              "    .dataframe tbody tr th:only-of-type {\n",
              "        vertical-align: middle;\n",
              "    }\n",
              "\n",
              "    .dataframe tbody tr th {\n",
              "        vertical-align: top;\n",
              "    }\n",
              "\n",
              "    .dataframe thead th {\n",
              "        text-align: right;\n",
              "    }\n",
              "</style>\n",
              "<table border=\"1\" class=\"dataframe\">\n",
              "  <thead>\n",
              "    <tr style=\"text-align: right;\">\n",
              "      <th></th>\n",
              "      <th>Пол</th>\n",
              "      <th>Возраст</th>\n",
              "      <th>Зарплата</th>\n",
              "      <th>Члены семьи</th>\n",
              "    </tr>\n",
              "  </thead>\n",
              "  <tbody>\n",
              "    <tr>\n",
              "      <th>0</th>\n",
              "      <td>True</td>\n",
              "      <td>True</td>\n",
              "      <td>True</td>\n",
              "      <td>True</td>\n",
              "    </tr>\n",
              "    <tr>\n",
              "      <th>1</th>\n",
              "      <td>True</td>\n",
              "      <td>True</td>\n",
              "      <td>True</td>\n",
              "      <td>True</td>\n",
              "    </tr>\n",
              "    <tr>\n",
              "      <th>2</th>\n",
              "      <td>True</td>\n",
              "      <td>True</td>\n",
              "      <td>True</td>\n",
              "      <td>True</td>\n",
              "    </tr>\n",
              "    <tr>\n",
              "      <th>3</th>\n",
              "      <td>True</td>\n",
              "      <td>True</td>\n",
              "      <td>True</td>\n",
              "      <td>True</td>\n",
              "    </tr>\n",
              "    <tr>\n",
              "      <th>4</th>\n",
              "      <td>True</td>\n",
              "      <td>True</td>\n",
              "      <td>True</td>\n",
              "      <td>True</td>\n",
              "    </tr>\n",
              "    <tr>\n",
              "      <th>...</th>\n",
              "      <td>...</td>\n",
              "      <td>...</td>\n",
              "      <td>...</td>\n",
              "      <td>...</td>\n",
              "    </tr>\n",
              "    <tr>\n",
              "      <th>4995</th>\n",
              "      <td>True</td>\n",
              "      <td>True</td>\n",
              "      <td>True</td>\n",
              "      <td>True</td>\n",
              "    </tr>\n",
              "    <tr>\n",
              "      <th>4996</th>\n",
              "      <td>True</td>\n",
              "      <td>True</td>\n",
              "      <td>True</td>\n",
              "      <td>True</td>\n",
              "    </tr>\n",
              "    <tr>\n",
              "      <th>4997</th>\n",
              "      <td>True</td>\n",
              "      <td>True</td>\n",
              "      <td>True</td>\n",
              "      <td>True</td>\n",
              "    </tr>\n",
              "    <tr>\n",
              "      <th>4998</th>\n",
              "      <td>True</td>\n",
              "      <td>True</td>\n",
              "      <td>True</td>\n",
              "      <td>True</td>\n",
              "    </tr>\n",
              "    <tr>\n",
              "      <th>4999</th>\n",
              "      <td>True</td>\n",
              "      <td>True</td>\n",
              "      <td>True</td>\n",
              "      <td>True</td>\n",
              "    </tr>\n",
              "  </tbody>\n",
              "</table>\n",
              "<p>5000 rows × 4 columns</p>\n",
              "</div>"
            ],
            "text/plain": [
              "       Пол  Возраст  Зарплата  Члены семьи\n",
              "0     True     True      True         True\n",
              "1     True     True      True         True\n",
              "2     True     True      True         True\n",
              "3     True     True      True         True\n",
              "4     True     True      True         True\n",
              "...    ...      ...       ...          ...\n",
              "4995  True     True      True         True\n",
              "4996  True     True      True         True\n",
              "4997  True     True      True         True\n",
              "4998  True     True      True         True\n",
              "4999  True     True      True         True\n",
              "\n",
              "[5000 rows x 4 columns]"
            ]
          },
          "execution_count": 17,
          "metadata": {},
          "output_type": "execute_result"
        }
      ],
      "source": [
        "# сравним восстановленные данные и исходные, равны ли они между собой\n",
        "recovered_features == features"
      ]
    },
    {
      "cell_type": "code",
      "execution_count": null,
      "metadata": {
        "scrolled": true,
        "id": "X1MGULx7atG9",
        "outputId": "d060c63c-eda7-4458-b469-e099bde8eecc"
      },
      "outputs": [
        {
          "data": {
            "text/html": [
              "<div>\n",
              "<style scoped>\n",
              "    .dataframe tbody tr th:only-of-type {\n",
              "        vertical-align: middle;\n",
              "    }\n",
              "\n",
              "    .dataframe tbody tr th {\n",
              "        vertical-align: top;\n",
              "    }\n",
              "\n",
              "    .dataframe thead th {\n",
              "        text-align: right;\n",
              "    }\n",
              "</style>\n",
              "<table border=\"1\" class=\"dataframe\">\n",
              "  <thead>\n",
              "    <tr style=\"text-align: right;\">\n",
              "      <th></th>\n",
              "      <th>Пол</th>\n",
              "      <th>Возраст</th>\n",
              "      <th>Зарплата</th>\n",
              "      <th>Члены семьи</th>\n",
              "      <th>Страховые выплаты</th>\n",
              "    </tr>\n",
              "  </thead>\n",
              "  <tbody>\n",
              "    <tr>\n",
              "      <th>0</th>\n",
              "      <td>1</td>\n",
              "      <td>41</td>\n",
              "      <td>49600</td>\n",
              "      <td>1</td>\n",
              "      <td>0</td>\n",
              "    </tr>\n",
              "    <tr>\n",
              "      <th>1</th>\n",
              "      <td>0</td>\n",
              "      <td>46</td>\n",
              "      <td>38000</td>\n",
              "      <td>1</td>\n",
              "      <td>1</td>\n",
              "    </tr>\n",
              "    <tr>\n",
              "      <th>2</th>\n",
              "      <td>0</td>\n",
              "      <td>29</td>\n",
              "      <td>21000</td>\n",
              "      <td>0</td>\n",
              "      <td>0</td>\n",
              "    </tr>\n",
              "    <tr>\n",
              "      <th>3</th>\n",
              "      <td>0</td>\n",
              "      <td>21</td>\n",
              "      <td>41700</td>\n",
              "      <td>2</td>\n",
              "      <td>0</td>\n",
              "    </tr>\n",
              "    <tr>\n",
              "      <th>4</th>\n",
              "      <td>1</td>\n",
              "      <td>28</td>\n",
              "      <td>26100</td>\n",
              "      <td>0</td>\n",
              "      <td>0</td>\n",
              "    </tr>\n",
              "    <tr>\n",
              "      <th>...</th>\n",
              "      <td>...</td>\n",
              "      <td>...</td>\n",
              "      <td>...</td>\n",
              "      <td>...</td>\n",
              "      <td>...</td>\n",
              "    </tr>\n",
              "    <tr>\n",
              "      <th>4995</th>\n",
              "      <td>0</td>\n",
              "      <td>28</td>\n",
              "      <td>35700</td>\n",
              "      <td>2</td>\n",
              "      <td>0</td>\n",
              "    </tr>\n",
              "    <tr>\n",
              "      <th>4996</th>\n",
              "      <td>0</td>\n",
              "      <td>34</td>\n",
              "      <td>52400</td>\n",
              "      <td>1</td>\n",
              "      <td>0</td>\n",
              "    </tr>\n",
              "    <tr>\n",
              "      <th>4997</th>\n",
              "      <td>0</td>\n",
              "      <td>20</td>\n",
              "      <td>33900</td>\n",
              "      <td>2</td>\n",
              "      <td>0</td>\n",
              "    </tr>\n",
              "    <tr>\n",
              "      <th>4998</th>\n",
              "      <td>1</td>\n",
              "      <td>22</td>\n",
              "      <td>32700</td>\n",
              "      <td>3</td>\n",
              "      <td>0</td>\n",
              "    </tr>\n",
              "    <tr>\n",
              "      <th>4999</th>\n",
              "      <td>1</td>\n",
              "      <td>28</td>\n",
              "      <td>40600</td>\n",
              "      <td>1</td>\n",
              "      <td>0</td>\n",
              "    </tr>\n",
              "  </tbody>\n",
              "</table>\n",
              "<p>5000 rows × 5 columns</p>\n",
              "</div>"
            ],
            "text/plain": [
              "      Пол  Возраст  Зарплата  Члены семьи  Страховые выплаты\n",
              "0       1       41     49600            1                  0\n",
              "1       0       46     38000            1                  1\n",
              "2       0       29     21000            0                  0\n",
              "3       0       21     41700            2                  0\n",
              "4       1       28     26100            0                  0\n",
              "...   ...      ...       ...          ...                ...\n",
              "4995    0       28     35700            2                  0\n",
              "4996    0       34     52400            1                  0\n",
              "4997    0       20     33900            2                  0\n",
              "4998    1       22     32700            3                  0\n",
              "4999    1       28     40600            1                  0\n",
              "\n",
              "[5000 rows x 5 columns]"
            ]
          },
          "execution_count": 18,
          "metadata": {},
          "output_type": "execute_result"
        }
      ],
      "source": [
        "# восстановим датафрейм полностью\n",
        "recovered_features[4] = target\n",
        "recovered_data = recovered_features\n",
        "recovered_data.columns = data.columns\n",
        "recovered_data"
      ]
    },
    {
      "cell_type": "markdown",
      "metadata": {
        "id": "CFPH157DatG9"
      },
      "source": [
        "## Вывод"
      ]
    },
    {
      "cell_type": "markdown",
      "metadata": {
        "id": "bX9Fv8aGatG-"
      },
      "source": [
        "В ходе работы мы на практическом примере доказали, что при умножении матрицы с признаками размером *m x n* на случайную обратимую матрицу *n x n* (т.е. квадратную), качество линейной регрессии не изменится. \n",
        "\n",
        "Для доказательства данной гипотезы мы объявили объект, который шифрует исходные данные и дешифрует преобразованные за счет умножения матрицы признаков в первом случае на сгенерированную случайную обратимую матрицу, а во втором - на обратную данной сгенерированной матрице матрицу. \n",
        "\n",
        "Такое шифрование можно использовать для защиты персональных данных, т.к. по преобразованному датафрейму будет тяжело восстановить характер и значения исходных данных."
      ]
    },
    {
      "cell_type": "markdown",
      "source": [
        "Если рассматривать такого рода шифрование для предотвращения передачи данных третьим лицам, то к преимуществам данного подхода можно отнести, в первую очередь, ощутимую экономию ресурсов по сравнению с некоторыми известными алгоритмами шифрования, в особенности это касается ассиметричных алгоритмов с достаточно длинными ключами (AES, RSA), которые требуют много процессорного времени.\n",
        "\n",
        "\n",
        "К главному недостатку подхода можно отнести увеличение сложности проверки на вырожденность преобразования с ростом количества признаков в выборке. В рассмотренном случае необходимо подобрать подходящую матрицу размера 4×4 . Однако, если признаки будут исчисляться тысячами, то расчет соответствующих определителей может быть крайне ресурсозатратным. "
      ],
      "metadata": {
        "id": "Ho4z8RGwdiW9"
      }
    },
    {
      "cell_type": "code",
      "source": [
        ""
      ],
      "metadata": {
        "id": "keZqy040d-Fs"
      },
      "execution_count": null,
      "outputs": []
    }
  ],
  "metadata": {
    "ExecuteTimeLog": [
      {
        "duration": 1353,
        "start_time": "2022-03-27T13:36:16.725Z"
      },
      {
        "duration": 14,
        "start_time": "2022-03-27T13:38:03.079Z"
      },
      {
        "duration": 12,
        "start_time": "2022-03-27T13:38:27.734Z"
      },
      {
        "duration": 14,
        "start_time": "2022-03-27T13:38:38.858Z"
      },
      {
        "duration": 10,
        "start_time": "2022-03-27T13:40:33.164Z"
      },
      {
        "duration": 152,
        "start_time": "2022-03-27T13:52:56.020Z"
      },
      {
        "duration": 7,
        "start_time": "2022-03-27T13:53:13.948Z"
      },
      {
        "duration": 13,
        "start_time": "2022-03-27T13:53:19.024Z"
      },
      {
        "duration": 8,
        "start_time": "2022-03-27T13:56:34.455Z"
      },
      {
        "duration": 11,
        "start_time": "2022-03-27T13:56:57.640Z"
      },
      {
        "duration": 11,
        "start_time": "2022-03-27T13:57:42.215Z"
      },
      {
        "duration": 11,
        "start_time": "2022-03-27T13:58:21.947Z"
      },
      {
        "duration": 5,
        "start_time": "2022-03-27T14:02:10.816Z"
      },
      {
        "duration": 9,
        "start_time": "2022-03-27T14:17:13.881Z"
      },
      {
        "duration": 489,
        "start_time": "2022-03-27T14:17:29.762Z"
      },
      {
        "duration": 31,
        "start_time": "2022-03-27T14:17:34.194Z"
      },
      {
        "duration": 17,
        "start_time": "2022-03-27T14:18:07.974Z"
      },
      {
        "duration": 14,
        "start_time": "2022-03-27T14:18:21.469Z"
      },
      {
        "duration": 23,
        "start_time": "2022-03-27T14:19:46.174Z"
      },
      {
        "duration": 1133,
        "start_time": "2022-03-27T18:37:02.715Z"
      },
      {
        "duration": 12,
        "start_time": "2022-03-27T18:37:04.600Z"
      },
      {
        "duration": 13,
        "start_time": "2022-03-27T18:37:05.494Z"
      },
      {
        "duration": 12,
        "start_time": "2022-03-27T18:37:08.707Z"
      },
      {
        "duration": 6,
        "start_time": "2022-03-27T18:37:10.466Z"
      },
      {
        "duration": 7,
        "start_time": "2022-03-27T18:37:10.698Z"
      },
      {
        "duration": 11,
        "start_time": "2022-03-27T18:37:11.577Z"
      },
      {
        "duration": 6,
        "start_time": "2022-03-27T18:37:15.175Z"
      },
      {
        "duration": 20,
        "start_time": "2022-03-27T18:37:15.448Z"
      },
      {
        "duration": 115,
        "start_time": "2022-03-27T20:56:35.522Z"
      },
      {
        "duration": 109,
        "start_time": "2022-03-27T20:56:50.076Z"
      },
      {
        "duration": 6,
        "start_time": "2022-03-27T20:57:14.004Z"
      },
      {
        "duration": 8,
        "start_time": "2022-03-27T21:05:01.960Z"
      },
      {
        "duration": 102,
        "start_time": "2022-03-27T21:05:03.035Z"
      },
      {
        "duration": 6,
        "start_time": "2022-03-27T21:07:58.540Z"
      },
      {
        "duration": 7,
        "start_time": "2022-03-27T21:07:59.392Z"
      },
      {
        "duration": 15,
        "start_time": "2022-03-27T21:08:00.840Z"
      },
      {
        "duration": 6,
        "start_time": "2022-03-27T21:08:18.293Z"
      },
      {
        "duration": 8,
        "start_time": "2022-03-27T21:08:50.964Z"
      },
      {
        "duration": 9,
        "start_time": "2022-03-27T21:09:10.569Z"
      },
      {
        "duration": 5,
        "start_time": "2022-03-27T21:09:23.938Z"
      },
      {
        "duration": 6,
        "start_time": "2022-03-27T21:10:42.722Z"
      },
      {
        "duration": 7,
        "start_time": "2022-03-27T21:12:19.415Z"
      },
      {
        "duration": 7,
        "start_time": "2022-03-27T21:12:20.475Z"
      },
      {
        "duration": 7,
        "start_time": "2022-03-27T21:12:22.608Z"
      },
      {
        "duration": 9,
        "start_time": "2022-03-27T21:12:23.881Z"
      },
      {
        "duration": 5,
        "start_time": "2022-03-27T21:12:26.752Z"
      },
      {
        "duration": 5,
        "start_time": "2022-03-27T21:12:32.803Z"
      },
      {
        "duration": 127,
        "start_time": "2022-03-27T21:24:34.649Z"
      },
      {
        "duration": 6,
        "start_time": "2022-03-27T21:25:23.067Z"
      },
      {
        "duration": 5,
        "start_time": "2022-03-27T21:25:27.488Z"
      },
      {
        "duration": 5,
        "start_time": "2022-03-27T21:25:28.632Z"
      },
      {
        "duration": 5,
        "start_time": "2022-03-27T21:25:34.533Z"
      },
      {
        "duration": 5,
        "start_time": "2022-03-27T21:25:39.716Z"
      },
      {
        "duration": 5,
        "start_time": "2022-03-27T21:30:06.210Z"
      },
      {
        "duration": 8,
        "start_time": "2022-03-27T21:30:07.558Z"
      },
      {
        "duration": 7,
        "start_time": "2022-03-27T21:30:08.392Z"
      },
      {
        "duration": 10,
        "start_time": "2022-03-27T21:30:09.393Z"
      },
      {
        "duration": 5,
        "start_time": "2022-03-27T21:30:10.067Z"
      },
      {
        "duration": 5,
        "start_time": "2022-03-27T21:30:14.478Z"
      },
      {
        "duration": 6,
        "start_time": "2022-03-27T21:49:46.731Z"
      },
      {
        "duration": 5,
        "start_time": "2022-03-27T21:49:47.864Z"
      },
      {
        "duration": 5,
        "start_time": "2022-03-27T21:49:48.505Z"
      },
      {
        "duration": 7,
        "start_time": "2022-03-27T21:49:49.410Z"
      },
      {
        "duration": 4,
        "start_time": "2022-03-27T21:49:50.218Z"
      },
      {
        "duration": 4,
        "start_time": "2022-03-27T21:49:53.275Z"
      },
      {
        "duration": 5,
        "start_time": "2022-03-27T22:00:02.068Z"
      },
      {
        "duration": 5,
        "start_time": "2022-03-27T22:00:14.239Z"
      },
      {
        "duration": 6,
        "start_time": "2022-03-27T22:00:25.429Z"
      },
      {
        "duration": 7,
        "start_time": "2022-03-27T22:00:27.728Z"
      },
      {
        "duration": 5,
        "start_time": "2022-03-27T22:00:31.922Z"
      },
      {
        "duration": 5,
        "start_time": "2022-03-27T22:00:35.377Z"
      },
      {
        "duration": 5,
        "start_time": "2022-03-27T22:03:43.560Z"
      },
      {
        "duration": 6,
        "start_time": "2022-03-27T22:03:48.768Z"
      },
      {
        "duration": 3,
        "start_time": "2022-03-27T22:10:30.855Z"
      },
      {
        "duration": 5,
        "start_time": "2022-03-27T22:11:56.137Z"
      },
      {
        "duration": 6,
        "start_time": "2022-03-27T22:12:00.581Z"
      },
      {
        "duration": 4,
        "start_time": "2022-03-27T22:13:41.984Z"
      },
      {
        "duration": 7,
        "start_time": "2022-03-27T22:13:44.551Z"
      },
      {
        "duration": 5,
        "start_time": "2022-03-27T22:14:51.190Z"
      },
      {
        "duration": 2,
        "start_time": "2022-03-27T22:19:56.945Z"
      },
      {
        "duration": 10,
        "start_time": "2022-03-27T22:21:16.459Z"
      },
      {
        "duration": 5,
        "start_time": "2022-03-27T22:22:38.161Z"
      },
      {
        "duration": 3,
        "start_time": "2022-03-27T22:22:41.305Z"
      },
      {
        "duration": 11,
        "start_time": "2022-03-27T22:22:42.481Z"
      },
      {
        "duration": 4,
        "start_time": "2022-03-27T22:22:53.506Z"
      },
      {
        "duration": 12,
        "start_time": "2022-03-27T22:22:55.389Z"
      },
      {
        "duration": 5,
        "start_time": "2022-03-27T22:24:34.724Z"
      },
      {
        "duration": 6,
        "start_time": "2022-03-27T22:25:12.015Z"
      },
      {
        "duration": 4,
        "start_time": "2022-03-27T22:25:21.410Z"
      },
      {
        "duration": 8,
        "start_time": "2022-03-27T22:25:37.837Z"
      },
      {
        "duration": 4,
        "start_time": "2022-03-27T22:25:46.768Z"
      },
      {
        "duration": 4,
        "start_time": "2022-03-27T22:26:20.271Z"
      },
      {
        "duration": 3,
        "start_time": "2022-03-27T22:26:25.040Z"
      },
      {
        "duration": 17,
        "start_time": "2022-03-27T22:26:26.539Z"
      },
      {
        "duration": 3,
        "start_time": "2022-03-27T22:26:47.065Z"
      },
      {
        "duration": 14,
        "start_time": "2022-03-27T22:26:47.889Z"
      },
      {
        "duration": 3,
        "start_time": "2022-03-27T22:29:19.611Z"
      },
      {
        "duration": 17,
        "start_time": "2022-03-27T22:29:21.104Z"
      },
      {
        "duration": 3,
        "start_time": "2022-03-27T22:31:06.319Z"
      },
      {
        "duration": 11,
        "start_time": "2022-03-27T22:31:07.073Z"
      },
      {
        "duration": 3,
        "start_time": "2022-03-27T22:34:47.556Z"
      },
      {
        "duration": 9,
        "start_time": "2022-03-27T22:35:44.892Z"
      },
      {
        "duration": 9,
        "start_time": "2022-03-27T22:36:10.801Z"
      },
      {
        "duration": 7,
        "start_time": "2022-03-27T22:37:23.063Z"
      },
      {
        "duration": 11,
        "start_time": "2022-03-27T22:37:26.118Z"
      },
      {
        "duration": 8,
        "start_time": "2022-03-27T22:37:39.903Z"
      },
      {
        "duration": 4,
        "start_time": "2022-03-27T22:37:43.790Z"
      },
      {
        "duration": 3,
        "start_time": "2022-03-27T22:37:50.724Z"
      },
      {
        "duration": 8,
        "start_time": "2022-03-27T22:37:52.283Z"
      },
      {
        "duration": 9,
        "start_time": "2022-03-27T22:37:59.840Z"
      },
      {
        "duration": 5,
        "start_time": "2022-03-27T22:38:13.460Z"
      },
      {
        "duration": 3,
        "start_time": "2022-03-27T22:40:02.144Z"
      },
      {
        "duration": 13,
        "start_time": "2022-03-27T22:40:15.340Z"
      },
      {
        "duration": 1251,
        "start_time": "2022-03-30T08:46:57.795Z"
      },
      {
        "duration": 25,
        "start_time": "2022-03-30T08:47:01.096Z"
      },
      {
        "duration": 19,
        "start_time": "2022-03-30T08:47:01.502Z"
      },
      {
        "duration": 12,
        "start_time": "2022-03-30T08:47:02.653Z"
      },
      {
        "duration": 6,
        "start_time": "2022-03-30T08:47:03.362Z"
      },
      {
        "duration": 8,
        "start_time": "2022-03-30T08:47:03.744Z"
      },
      {
        "duration": 14,
        "start_time": "2022-03-30T08:47:04.038Z"
      },
      {
        "duration": 8,
        "start_time": "2022-03-30T08:47:08.141Z"
      },
      {
        "duration": 26,
        "start_time": "2022-03-30T08:47:10.471Z"
      },
      {
        "duration": 6,
        "start_time": "2022-03-30T08:51:20.101Z"
      },
      {
        "duration": 8,
        "start_time": "2022-03-30T08:51:21.912Z"
      },
      {
        "duration": 4,
        "start_time": "2022-03-30T08:51:30.603Z"
      },
      {
        "duration": 12,
        "start_time": "2022-03-30T08:51:32.582Z"
      },
      {
        "duration": 6,
        "start_time": "2022-03-30T08:51:43.387Z"
      },
      {
        "duration": 15,
        "start_time": "2022-03-30T08:52:31.558Z"
      },
      {
        "duration": 4,
        "start_time": "2022-03-30T09:00:21.042Z"
      },
      {
        "duration": 108,
        "start_time": "2022-03-30T09:01:04.122Z"
      },
      {
        "duration": 10,
        "start_time": "2022-03-30T09:01:17.448Z"
      },
      {
        "duration": 6,
        "start_time": "2022-03-30T09:01:21.012Z"
      },
      {
        "duration": 13,
        "start_time": "2022-03-30T09:01:30.631Z"
      },
      {
        "duration": 15,
        "start_time": "2022-03-30T09:20:54.802Z"
      },
      {
        "duration": 11,
        "start_time": "2022-03-30T09:21:43.107Z"
      },
      {
        "duration": 6,
        "start_time": "2022-03-30T09:42:26.431Z"
      },
      {
        "duration": 9,
        "start_time": "2022-03-30T09:43:47.565Z"
      },
      {
        "duration": 8,
        "start_time": "2022-03-30T09:44:58.685Z"
      },
      {
        "duration": 7,
        "start_time": "2022-03-30T09:45:20.218Z"
      },
      {
        "duration": 17,
        "start_time": "2022-03-30T09:45:53.332Z"
      },
      {
        "duration": 6,
        "start_time": "2022-03-30T09:47:32.817Z"
      },
      {
        "duration": 8,
        "start_time": "2022-03-30T09:47:34.320Z"
      },
      {
        "duration": 17,
        "start_time": "2022-03-30T09:47:35.968Z"
      },
      {
        "duration": 6,
        "start_time": "2022-03-30T09:47:45.929Z"
      },
      {
        "duration": 13,
        "start_time": "2022-03-30T09:47:48.959Z"
      },
      {
        "duration": 8,
        "start_time": "2022-03-30T09:48:12.371Z"
      },
      {
        "duration": 21,
        "start_time": "2022-03-30T09:48:13.600Z"
      },
      {
        "duration": 9,
        "start_time": "2022-03-30T09:50:14.016Z"
      },
      {
        "duration": 7,
        "start_time": "2022-03-30T09:50:15.328Z"
      },
      {
        "duration": 4,
        "start_time": "2022-03-30T09:50:16.637Z"
      },
      {
        "duration": 7,
        "start_time": "2022-03-30T09:52:43.140Z"
      },
      {
        "duration": 10,
        "start_time": "2022-03-30T09:52:44.846Z"
      },
      {
        "duration": 6,
        "start_time": "2022-03-30T09:52:46.378Z"
      },
      {
        "duration": 7,
        "start_time": "2022-03-30T09:53:09.967Z"
      },
      {
        "duration": 15,
        "start_time": "2022-03-30T09:53:40.698Z"
      },
      {
        "duration": 8,
        "start_time": "2022-03-30T09:53:59.004Z"
      },
      {
        "duration": 16,
        "start_time": "2022-03-30T09:54:00.085Z"
      },
      {
        "duration": 6,
        "start_time": "2022-03-30T09:54:01.203Z"
      },
      {
        "duration": 18,
        "start_time": "2022-03-30T09:54:02.140Z"
      },
      {
        "duration": 10,
        "start_time": "2022-03-30T12:02:02.677Z"
      },
      {
        "duration": 1293,
        "start_time": "2022-03-30T12:02:11.763Z"
      },
      {
        "duration": 27,
        "start_time": "2022-03-30T12:02:13.494Z"
      },
      {
        "duration": 14,
        "start_time": "2022-03-30T12:02:14.129Z"
      },
      {
        "duration": 10,
        "start_time": "2022-03-30T12:02:15.004Z"
      },
      {
        "duration": 5,
        "start_time": "2022-03-30T12:02:15.645Z"
      },
      {
        "duration": 6,
        "start_time": "2022-03-30T12:02:15.920Z"
      },
      {
        "duration": 14,
        "start_time": "2022-03-30T12:02:16.160Z"
      },
      {
        "duration": 5,
        "start_time": "2022-03-30T12:02:16.642Z"
      },
      {
        "duration": 19,
        "start_time": "2022-03-30T12:02:16.926Z"
      },
      {
        "duration": 7,
        "start_time": "2022-03-30T12:03:05.277Z"
      },
      {
        "duration": 5,
        "start_time": "2022-03-30T12:03:22.203Z"
      },
      {
        "duration": 90,
        "start_time": "2022-03-30T12:03:43.100Z"
      },
      {
        "duration": 7,
        "start_time": "2022-03-30T12:04:18.243Z"
      },
      {
        "duration": 9,
        "start_time": "2022-03-30T12:04:22.598Z"
      },
      {
        "duration": 7,
        "start_time": "2022-03-30T12:04:26.691Z"
      },
      {
        "duration": 5,
        "start_time": "2022-03-30T12:04:35.730Z"
      },
      {
        "duration": 11,
        "start_time": "2022-03-30T12:04:37.145Z"
      },
      {
        "duration": 6,
        "start_time": "2022-03-30T12:07:56.275Z"
      },
      {
        "duration": 8,
        "start_time": "2022-03-30T12:08:01.859Z"
      },
      {
        "duration": 4,
        "start_time": "2022-03-30T12:08:04.640Z"
      },
      {
        "duration": 10,
        "start_time": "2022-03-30T12:08:14.408Z"
      },
      {
        "duration": 6,
        "start_time": "2022-03-30T12:09:07.735Z"
      },
      {
        "duration": 8,
        "start_time": "2022-03-30T12:09:10.351Z"
      },
      {
        "duration": 12,
        "start_time": "2022-03-30T12:09:11.593Z"
      },
      {
        "duration": 155,
        "start_time": "2022-03-30T12:10:36.197Z"
      },
      {
        "duration": 190,
        "start_time": "2022-03-30T12:10:56.770Z"
      },
      {
        "duration": 156,
        "start_time": "2022-03-30T12:11:49.369Z"
      },
      {
        "duration": 5,
        "start_time": "2022-03-30T12:12:22.907Z"
      },
      {
        "duration": 9,
        "start_time": "2022-03-30T12:12:26.014Z"
      },
      {
        "duration": 13,
        "start_time": "2022-03-30T12:12:27.469Z"
      },
      {
        "duration": 33,
        "start_time": "2022-03-30T12:12:46.983Z"
      },
      {
        "duration": 5,
        "start_time": "2022-03-30T12:14:10.344Z"
      },
      {
        "duration": 7,
        "start_time": "2022-03-30T12:14:11.222Z"
      },
      {
        "duration": 12,
        "start_time": "2022-03-30T12:14:22.372Z"
      },
      {
        "duration": 5,
        "start_time": "2022-03-30T12:15:02.323Z"
      },
      {
        "duration": 8,
        "start_time": "2022-03-30T12:15:03.807Z"
      },
      {
        "duration": 9,
        "start_time": "2022-03-30T12:15:07.237Z"
      },
      {
        "duration": 8,
        "start_time": "2022-03-30T12:15:09.544Z"
      },
      {
        "duration": 21,
        "start_time": "2022-03-30T12:15:11.930Z"
      },
      {
        "duration": 5,
        "start_time": "2022-03-30T12:15:38.325Z"
      },
      {
        "duration": 11,
        "start_time": "2022-03-30T12:15:39.286Z"
      },
      {
        "duration": 13,
        "start_time": "2022-03-30T12:15:40.789Z"
      },
      {
        "duration": 14,
        "start_time": "2022-03-30T12:16:39.284Z"
      },
      {
        "duration": 9,
        "start_time": "2022-03-30T12:16:59.915Z"
      },
      {
        "duration": 5,
        "start_time": "2022-03-30T12:17:28.508Z"
      },
      {
        "duration": 9,
        "start_time": "2022-03-30T12:17:31.234Z"
      },
      {
        "duration": 21,
        "start_time": "2022-03-30T12:17:32.713Z"
      },
      {
        "duration": 13,
        "start_time": "2022-03-30T12:17:37.913Z"
      },
      {
        "duration": 6,
        "start_time": "2022-03-30T12:18:07.561Z"
      },
      {
        "duration": 7,
        "start_time": "2022-03-30T12:18:08.722Z"
      },
      {
        "duration": 17,
        "start_time": "2022-03-30T12:18:10.674Z"
      },
      {
        "duration": 10,
        "start_time": "2022-03-30T12:18:13.664Z"
      },
      {
        "duration": 7,
        "start_time": "2022-03-30T12:18:51.215Z"
      },
      {
        "duration": 8,
        "start_time": "2022-03-30T12:18:51.945Z"
      },
      {
        "duration": 21,
        "start_time": "2022-03-30T12:18:52.696Z"
      },
      {
        "duration": 8,
        "start_time": "2022-03-30T12:20:39.913Z"
      },
      {
        "duration": 9,
        "start_time": "2022-03-30T12:20:40.821Z"
      },
      {
        "duration": 10,
        "start_time": "2022-03-30T12:20:41.659Z"
      },
      {
        "duration": 13,
        "start_time": "2022-03-30T12:20:47.042Z"
      },
      {
        "duration": 12,
        "start_time": "2022-03-30T12:21:25.956Z"
      },
      {
        "duration": 5,
        "start_time": "2022-03-30T12:22:45.975Z"
      },
      {
        "duration": 8,
        "start_time": "2022-03-30T12:22:46.439Z"
      },
      {
        "duration": 11,
        "start_time": "2022-03-30T12:22:48.097Z"
      },
      {
        "duration": 7,
        "start_time": "2022-03-30T12:22:58.400Z"
      },
      {
        "duration": 5,
        "start_time": "2022-03-30T12:23:23.464Z"
      },
      {
        "duration": 8,
        "start_time": "2022-03-30T12:23:25.152Z"
      },
      {
        "duration": 11,
        "start_time": "2022-03-30T12:23:26.327Z"
      },
      {
        "duration": 5,
        "start_time": "2022-03-30T12:23:43.332Z"
      },
      {
        "duration": 10,
        "start_time": "2022-03-30T12:23:43.739Z"
      },
      {
        "duration": 9,
        "start_time": "2022-03-30T12:23:44.631Z"
      },
      {
        "duration": 9,
        "start_time": "2022-03-30T12:23:49.680Z"
      },
      {
        "duration": 4,
        "start_time": "2022-03-30T12:24:30.614Z"
      },
      {
        "duration": 7,
        "start_time": "2022-03-30T12:24:31.879Z"
      },
      {
        "duration": 11,
        "start_time": "2022-03-30T12:24:33.396Z"
      },
      {
        "duration": 5,
        "start_time": "2022-03-30T12:25:11.390Z"
      },
      {
        "duration": 16,
        "start_time": "2022-03-30T12:25:12.304Z"
      },
      {
        "duration": 13,
        "start_time": "2022-03-30T12:25:13.293Z"
      },
      {
        "duration": 10,
        "start_time": "2022-03-30T12:25:21.008Z"
      },
      {
        "duration": 8,
        "start_time": "2022-03-30T12:25:23.656Z"
      },
      {
        "duration": 10,
        "start_time": "2022-03-30T12:25:25.719Z"
      },
      {
        "duration": 195,
        "start_time": "2022-03-30T12:27:53.472Z"
      },
      {
        "duration": 5,
        "start_time": "2022-03-30T12:28:02.493Z"
      },
      {
        "duration": 6,
        "start_time": "2022-03-30T12:28:04.182Z"
      },
      {
        "duration": 11,
        "start_time": "2022-03-30T12:28:05.992Z"
      },
      {
        "duration": 5,
        "start_time": "2022-03-30T12:29:04.234Z"
      },
      {
        "duration": 6,
        "start_time": "2022-03-30T12:29:05.035Z"
      },
      {
        "duration": 16,
        "start_time": "2022-03-30T12:29:05.785Z"
      },
      {
        "duration": 8,
        "start_time": "2022-03-30T12:35:40.941Z"
      },
      {
        "duration": 7,
        "start_time": "2022-03-30T12:35:41.626Z"
      },
      {
        "duration": 9,
        "start_time": "2022-03-30T12:35:42.780Z"
      },
      {
        "duration": 9,
        "start_time": "2022-03-30T12:35:55.922Z"
      },
      {
        "duration": 10,
        "start_time": "2022-03-30T12:35:57.853Z"
      },
      {
        "duration": 5,
        "start_time": "2022-03-30T12:36:23.887Z"
      },
      {
        "duration": 7,
        "start_time": "2022-03-30T12:36:24.549Z"
      },
      {
        "duration": 8,
        "start_time": "2022-03-30T12:36:25.342Z"
      },
      {
        "duration": 7,
        "start_time": "2022-03-30T12:36:28.120Z"
      },
      {
        "duration": 10,
        "start_time": "2022-03-30T12:36:29.561Z"
      },
      {
        "duration": 10,
        "start_time": "2022-03-30T12:36:53.690Z"
      },
      {
        "duration": 5,
        "start_time": "2022-03-30T12:41:26.919Z"
      },
      {
        "duration": 6,
        "start_time": "2022-03-30T12:42:00.021Z"
      },
      {
        "duration": 9,
        "start_time": "2022-03-30T12:47:25.121Z"
      },
      {
        "duration": 8,
        "start_time": "2022-03-30T12:48:45.661Z"
      },
      {
        "duration": 7,
        "start_time": "2022-03-30T12:50:20.511Z"
      },
      {
        "duration": 7,
        "start_time": "2022-03-30T12:50:39.901Z"
      },
      {
        "duration": 6,
        "start_time": "2022-03-30T12:53:44.635Z"
      },
      {
        "duration": 7,
        "start_time": "2022-03-30T12:53:45.826Z"
      },
      {
        "duration": 5,
        "start_time": "2022-03-30T12:54:14.113Z"
      },
      {
        "duration": 14,
        "start_time": "2022-03-30T12:54:14.837Z"
      },
      {
        "duration": 18,
        "start_time": "2022-03-30T12:54:18.988Z"
      },
      {
        "duration": 13,
        "start_time": "2022-03-30T12:54:45.590Z"
      },
      {
        "duration": 18,
        "start_time": "2022-03-30T12:56:04.823Z"
      },
      {
        "duration": 4,
        "start_time": "2022-03-30T13:27:56.911Z"
      },
      {
        "duration": 5,
        "start_time": "2022-03-30T13:28:35.780Z"
      },
      {
        "duration": 8,
        "start_time": "2022-03-30T13:29:35.232Z"
      },
      {
        "duration": 1585,
        "start_time": "2022-04-02T13:02:00.554Z"
      },
      {
        "duration": 29,
        "start_time": "2022-04-02T13:02:04.324Z"
      },
      {
        "duration": 24,
        "start_time": "2022-04-02T13:02:05.161Z"
      },
      {
        "duration": 17,
        "start_time": "2022-04-02T13:02:07.834Z"
      },
      {
        "duration": 6,
        "start_time": "2022-04-02T13:02:09.320Z"
      },
      {
        "duration": 10,
        "start_time": "2022-04-02T13:02:14.186Z"
      },
      {
        "duration": 18,
        "start_time": "2022-04-02T13:02:16.394Z"
      },
      {
        "duration": 9,
        "start_time": "2022-04-02T13:02:30.007Z"
      },
      {
        "duration": 33,
        "start_time": "2022-04-02T13:02:33.034Z"
      },
      {
        "duration": 9,
        "start_time": "2022-04-02T13:05:31.506Z"
      },
      {
        "duration": 19,
        "start_time": "2022-04-02T13:05:32.856Z"
      },
      {
        "duration": 7,
        "start_time": "2022-04-02T13:05:45.777Z"
      },
      {
        "duration": 145,
        "start_time": "2022-04-02T13:05:47.556Z"
      },
      {
        "duration": 4,
        "start_time": "2022-04-02T13:06:14.929Z"
      },
      {
        "duration": 7,
        "start_time": "2022-04-02T13:06:19.655Z"
      },
      {
        "duration": 7,
        "start_time": "2022-04-02T13:08:04.916Z"
      },
      {
        "duration": 16,
        "start_time": "2022-04-02T14:26:46.912Z"
      },
      {
        "duration": 7,
        "start_time": "2022-04-02T14:27:30.063Z"
      },
      {
        "duration": 80,
        "start_time": "2022-04-02T14:30:05.113Z"
      },
      {
        "duration": 1476,
        "start_time": "2022-04-02T14:31:36.937Z"
      },
      {
        "duration": 15,
        "start_time": "2022-04-02T14:31:39.199Z"
      },
      {
        "duration": 22,
        "start_time": "2022-04-02T14:31:39.672Z"
      },
      {
        "duration": 17,
        "start_time": "2022-04-02T14:31:40.077Z"
      },
      {
        "duration": 7,
        "start_time": "2022-04-02T14:31:40.434Z"
      },
      {
        "duration": 9,
        "start_time": "2022-04-02T14:31:40.657Z"
      },
      {
        "duration": 17,
        "start_time": "2022-04-02T14:31:40.834Z"
      },
      {
        "duration": 8,
        "start_time": "2022-04-02T14:31:41.201Z"
      },
      {
        "duration": 32,
        "start_time": "2022-04-02T14:31:41.388Z"
      },
      {
        "duration": 9,
        "start_time": "2022-04-02T14:31:45.464Z"
      },
      {
        "duration": 5,
        "start_time": "2022-04-02T14:31:46.844Z"
      },
      {
        "duration": 7,
        "start_time": "2022-04-02T14:31:48.244Z"
      },
      {
        "duration": 16,
        "start_time": "2022-04-02T14:31:49.486Z"
      },
      {
        "duration": 103,
        "start_time": "2022-04-02T14:31:52.990Z"
      },
      {
        "duration": 7,
        "start_time": "2022-04-02T14:33:15.864Z"
      },
      {
        "duration": 21,
        "start_time": "2022-04-02T14:33:35.783Z"
      },
      {
        "duration": 6,
        "start_time": "2022-04-02T14:33:45.796Z"
      },
      {
        "duration": 17,
        "start_time": "2022-04-02T14:33:46.628Z"
      },
      {
        "duration": 15,
        "start_time": "2022-04-02T14:33:48.336Z"
      },
      {
        "duration": 7,
        "start_time": "2022-04-02T14:34:04.818Z"
      },
      {
        "duration": 5,
        "start_time": "2022-04-02T14:42:44.560Z"
      },
      {
        "duration": 7,
        "start_time": "2022-04-02T14:42:45.725Z"
      },
      {
        "duration": 6,
        "start_time": "2022-04-02T14:42:48.891Z"
      },
      {
        "duration": 18,
        "start_time": "2022-04-02T14:42:50.109Z"
      },
      {
        "duration": 7,
        "start_time": "2022-04-02T14:42:51.047Z"
      },
      {
        "duration": 5,
        "start_time": "2022-04-02T14:52:27.735Z"
      },
      {
        "duration": 5,
        "start_time": "2022-04-02T14:52:28.355Z"
      },
      {
        "duration": 21,
        "start_time": "2022-04-02T14:52:53.488Z"
      },
      {
        "duration": 6,
        "start_time": "2022-04-02T14:53:02.832Z"
      },
      {
        "duration": 9,
        "start_time": "2022-04-02T15:00:32.400Z"
      },
      {
        "duration": 6,
        "start_time": "2022-04-02T15:01:55.666Z"
      },
      {
        "duration": 19,
        "start_time": "2022-04-02T15:02:03.885Z"
      },
      {
        "duration": 6,
        "start_time": "2022-04-02T15:02:05.217Z"
      },
      {
        "duration": 15,
        "start_time": "2022-04-02T15:03:04.693Z"
      },
      {
        "duration": 8,
        "start_time": "2022-04-02T15:04:26.557Z"
      },
      {
        "duration": 16,
        "start_time": "2022-04-02T15:04:32.432Z"
      },
      {
        "duration": 8,
        "start_time": "2022-04-02T15:06:10.124Z"
      },
      {
        "duration": 11,
        "start_time": "2022-04-02T15:06:16.255Z"
      },
      {
        "duration": 12,
        "start_time": "2022-04-02T15:06:27.244Z"
      },
      {
        "duration": 8,
        "start_time": "2022-04-02T15:07:05.602Z"
      },
      {
        "duration": 16,
        "start_time": "2022-04-02T15:07:11.856Z"
      },
      {
        "duration": 7,
        "start_time": "2022-04-02T15:07:26.145Z"
      },
      {
        "duration": 6,
        "start_time": "2022-04-02T15:07:29.055Z"
      },
      {
        "duration": 19,
        "start_time": "2022-04-02T15:07:31.860Z"
      },
      {
        "duration": 15,
        "start_time": "2022-04-02T15:08:17.278Z"
      },
      {
        "duration": 18,
        "start_time": "2022-04-02T15:08:43.294Z"
      },
      {
        "duration": 20,
        "start_time": "2022-04-02T15:09:22.996Z"
      },
      {
        "duration": 18,
        "start_time": "2022-04-02T15:09:51.865Z"
      },
      {
        "duration": 17,
        "start_time": "2022-04-02T15:10:08.167Z"
      },
      {
        "duration": 9,
        "start_time": "2022-04-02T15:10:58.485Z"
      },
      {
        "duration": 19,
        "start_time": "2022-04-02T15:11:01.783Z"
      },
      {
        "duration": 8,
        "start_time": "2022-04-02T15:11:58.889Z"
      },
      {
        "duration": 5,
        "start_time": "2022-04-02T15:12:05.132Z"
      },
      {
        "duration": 6,
        "start_time": "2022-04-02T15:12:05.992Z"
      },
      {
        "duration": 23,
        "start_time": "2022-04-02T15:12:07.121Z"
      },
      {
        "duration": 7,
        "start_time": "2022-04-02T15:12:07.776Z"
      },
      {
        "duration": 17,
        "start_time": "2022-04-02T15:12:12.429Z"
      },
      {
        "duration": 7,
        "start_time": "2022-04-02T15:12:40.721Z"
      },
      {
        "duration": 5,
        "start_time": "2022-04-02T15:12:41.409Z"
      },
      {
        "duration": 5,
        "start_time": "2022-04-02T15:12:41.905Z"
      },
      {
        "duration": 19,
        "start_time": "2022-04-02T15:12:42.711Z"
      },
      {
        "duration": 7,
        "start_time": "2022-04-02T15:12:43.396Z"
      },
      {
        "duration": 16,
        "start_time": "2022-04-02T15:12:45.903Z"
      },
      {
        "duration": 16,
        "start_time": "2022-04-02T15:12:51.566Z"
      },
      {
        "duration": 9,
        "start_time": "2022-04-02T15:13:49.115Z"
      },
      {
        "duration": 18,
        "start_time": "2022-04-02T15:13:57.507Z"
      },
      {
        "duration": 28,
        "start_time": "2022-04-02T15:16:00.260Z"
      },
      {
        "duration": 16,
        "start_time": "2022-04-02T15:16:19.078Z"
      },
      {
        "duration": 18,
        "start_time": "2022-04-02T15:16:22.001Z"
      },
      {
        "duration": 16,
        "start_time": "2022-04-02T15:16:39.858Z"
      },
      {
        "duration": 16,
        "start_time": "2022-04-02T15:16:43.191Z"
      },
      {
        "duration": 6,
        "start_time": "2022-04-02T15:18:35.555Z"
      },
      {
        "duration": 5,
        "start_time": "2022-04-02T15:18:36.726Z"
      },
      {
        "duration": 39,
        "start_time": "2022-04-02T15:18:37.244Z"
      },
      {
        "duration": 8,
        "start_time": "2022-04-02T15:18:38.167Z"
      },
      {
        "duration": 18,
        "start_time": "2022-04-02T15:18:40.188Z"
      },
      {
        "duration": 8,
        "start_time": "2022-04-02T15:19:04.454Z"
      },
      {
        "duration": 21,
        "start_time": "2022-04-02T15:19:15.943Z"
      },
      {
        "duration": 17,
        "start_time": "2022-04-02T15:19:19.514Z"
      },
      {
        "duration": 9,
        "start_time": "2022-04-02T15:21:17.776Z"
      },
      {
        "duration": 6,
        "start_time": "2022-04-02T15:21:19.354Z"
      },
      {
        "duration": 7,
        "start_time": "2022-04-02T15:21:20.409Z"
      },
      {
        "duration": 17,
        "start_time": "2022-04-02T15:21:21.382Z"
      },
      {
        "duration": 8,
        "start_time": "2022-04-02T15:21:22.533Z"
      },
      {
        "duration": 17,
        "start_time": "2022-04-02T15:21:29.071Z"
      },
      {
        "duration": 16,
        "start_time": "2022-04-02T15:21:31.989Z"
      },
      {
        "duration": 9,
        "start_time": "2022-04-02T16:19:18.501Z"
      },
      {
        "duration": 6,
        "start_time": "2022-04-02T16:19:19.452Z"
      },
      {
        "duration": 5,
        "start_time": "2022-04-02T16:19:20.379Z"
      },
      {
        "duration": 11,
        "start_time": "2022-04-02T16:19:21.728Z"
      },
      {
        "duration": 17,
        "start_time": "2022-04-02T16:19:26.980Z"
      },
      {
        "duration": 7,
        "start_time": "2022-04-02T16:19:32.772Z"
      },
      {
        "duration": 16,
        "start_time": "2022-04-02T16:24:13.989Z"
      },
      {
        "duration": 7,
        "start_time": "2022-04-02T16:28:34.927Z"
      },
      {
        "duration": 22,
        "start_time": "2022-04-02T16:28:42.273Z"
      },
      {
        "duration": 15,
        "start_time": "2022-04-02T16:29:33.396Z"
      },
      {
        "duration": 14,
        "start_time": "2022-04-02T16:30:31.350Z"
      },
      {
        "duration": 4,
        "start_time": "2022-04-02T17:04:54.111Z"
      },
      {
        "duration": 2043,
        "start_time": "2022-04-02T17:05:02.264Z"
      },
      {
        "duration": 20,
        "start_time": "2022-04-02T17:05:05.619Z"
      },
      {
        "duration": 23,
        "start_time": "2022-04-02T17:05:06.297Z"
      },
      {
        "duration": 17,
        "start_time": "2022-04-02T17:05:21.194Z"
      },
      {
        "duration": 7,
        "start_time": "2022-04-02T17:05:23.415Z"
      },
      {
        "duration": 9,
        "start_time": "2022-04-02T17:05:24.454Z"
      },
      {
        "duration": 24,
        "start_time": "2022-04-02T17:05:25.269Z"
      },
      {
        "duration": 34,
        "start_time": "2022-04-02T17:05:26.250Z"
      },
      {
        "duration": 10,
        "start_time": "2022-04-02T17:05:32.012Z"
      },
      {
        "duration": 6,
        "start_time": "2022-04-02T17:05:32.759Z"
      },
      {
        "duration": 8,
        "start_time": "2022-04-02T17:05:33.858Z"
      },
      {
        "duration": 9,
        "start_time": "2022-04-02T17:05:34.956Z"
      },
      {
        "duration": 16,
        "start_time": "2022-04-02T17:05:35.753Z"
      },
      {
        "duration": 150,
        "start_time": "2022-04-02T17:05:36.288Z"
      },
      {
        "duration": 8,
        "start_time": "2022-04-02T17:06:05.761Z"
      },
      {
        "duration": 5,
        "start_time": "2022-04-02T17:06:41.383Z"
      },
      {
        "duration": 5,
        "start_time": "2022-04-02T17:07:22.313Z"
      },
      {
        "duration": 6,
        "start_time": "2022-04-02T17:07:31.865Z"
      },
      {
        "duration": 19,
        "start_time": "2022-04-02T17:11:45.928Z"
      },
      {
        "duration": 26,
        "start_time": "2022-04-02T17:11:48.910Z"
      },
      {
        "duration": 20,
        "start_time": "2022-04-02T17:11:50.876Z"
      },
      {
        "duration": 82720,
        "start_time": "2022-04-03T11:33:36.350Z"
      },
      {
        "duration": 17,
        "start_time": "2022-04-03T11:34:59.071Z"
      },
      {
        "duration": 13,
        "start_time": "2022-04-03T11:34:59.090Z"
      },
      {
        "duration": 10,
        "start_time": "2022-04-03T11:34:59.105Z"
      },
      {
        "duration": 5,
        "start_time": "2022-04-03T11:34:59.116Z"
      },
      {
        "duration": 8,
        "start_time": "2022-04-03T11:34:59.122Z"
      },
      {
        "duration": 9,
        "start_time": "2022-04-03T11:34:59.131Z"
      },
      {
        "duration": 19,
        "start_time": "2022-04-03T11:34:59.142Z"
      },
      {
        "duration": 6,
        "start_time": "2022-04-03T11:38:10.729Z"
      },
      {
        "duration": 3,
        "start_time": "2022-04-03T11:38:11.976Z"
      },
      {
        "duration": 5,
        "start_time": "2022-04-03T11:38:12.412Z"
      },
      {
        "duration": 7,
        "start_time": "2022-04-03T11:38:12.624Z"
      },
      {
        "duration": 11,
        "start_time": "2022-04-03T11:38:13.011Z"
      },
      {
        "duration": 6,
        "start_time": "2022-04-03T11:38:13.533Z"
      },
      {
        "duration": 6,
        "start_time": "2022-04-03T11:38:14.275Z"
      },
      {
        "duration": 13,
        "start_time": "2022-04-03T11:38:15.090Z"
      },
      {
        "duration": 14,
        "start_time": "2022-04-03T11:38:15.501Z"
      },
      {
        "duration": 10,
        "start_time": "2022-04-03T11:38:15.703Z"
      },
      {
        "duration": 1846,
        "start_time": "2022-04-05T19:44:53.679Z"
      },
      {
        "duration": 15,
        "start_time": "2022-04-05T19:44:56.907Z"
      },
      {
        "duration": 23,
        "start_time": "2022-04-05T19:44:57.242Z"
      },
      {
        "duration": 17,
        "start_time": "2022-04-05T19:44:58.536Z"
      },
      {
        "duration": 7,
        "start_time": "2022-04-05T19:44:58.981Z"
      },
      {
        "duration": 8,
        "start_time": "2022-04-05T19:44:59.195Z"
      },
      {
        "duration": 17,
        "start_time": "2022-04-05T19:44:59.353Z"
      },
      {
        "duration": 32,
        "start_time": "2022-04-05T19:44:59.924Z"
      },
      {
        "duration": 9,
        "start_time": "2022-04-05T19:45:03.502Z"
      },
      {
        "duration": 5,
        "start_time": "2022-04-05T19:45:03.950Z"
      },
      {
        "duration": 6,
        "start_time": "2022-04-05T19:45:04.496Z"
      },
      {
        "duration": 15,
        "start_time": "2022-04-05T19:45:04.506Z"
      },
      {
        "duration": 17,
        "start_time": "2022-04-05T19:45:04.674Z"
      },
      {
        "duration": 7,
        "start_time": "2022-04-05T19:45:04.832Z"
      },
      {
        "duration": 6,
        "start_time": "2022-04-05T19:45:05.055Z"
      },
      {
        "duration": 17,
        "start_time": "2022-04-05T19:45:09.351Z"
      },
      {
        "duration": 18,
        "start_time": "2022-04-05T19:45:09.641Z"
      },
      {
        "duration": 16,
        "start_time": "2022-04-05T19:45:09.849Z"
      }
    ],
    "kernelspec": {
      "display_name": "Python 3 (ipykernel)",
      "language": "python",
      "name": "python3"
    },
    "language_info": {
      "codemirror_mode": {
        "name": "ipython",
        "version": 3
      },
      "file_extension": ".py",
      "mimetype": "text/x-python",
      "name": "python",
      "nbconvert_exporter": "python",
      "pygments_lexer": "ipython3",
      "version": "3.9.5"
    },
    "toc": {
      "base_numbering": 1,
      "nav_menu": {},
      "number_sections": true,
      "sideBar": true,
      "skip_h1_title": true,
      "title_cell": "Содержание",
      "title_sidebar": "Contents",
      "toc_cell": true,
      "toc_position": {
        "height": "calc(100% - 180px)",
        "left": "10px",
        "top": "150px",
        "width": "289.6px"
      },
      "toc_section_display": true,
      "toc_window_display": true
    },
    "colab": {
      "name": "personal_data_encryption.ipynb",
      "provenance": []
    }
  },
  "nbformat": 4,
  "nbformat_minor": 0
}