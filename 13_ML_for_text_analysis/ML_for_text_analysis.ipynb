{
  "cells": [
    {
      "cell_type": "markdown",
      "metadata": {
        "toc": true,
        "id": "l73Dk3ZbcWkV"
      },
      "source": [
        "<h1>Содержание<span class=\"tocSkip\"></span></h1>\n",
        "<div </font></a></span></li></ul></li><li><span><a href=\"#Подготовка\" data-toc-modified-id=\"Подготовка-1\"><span class=\"toc-item-num\">1&nbsp;&nbsp;</span>Подготовка</a></span><ul class=\"toc-item\"><li><span><a href=\"#Общий-обзор-данных\" data-toc-modified-id=\"Общий-обзор-данных-1.1\"><span class=\"toc-item-num\">1.1&nbsp;&nbsp;</span>Общий обзор данных</a></span></li><li><span><a href=\"#Лемматизация-комментариев-и-очистка-текстов-от-лишних-символов\" data-toc-modified-id=\"Лемматизация-комментариев-и-очистка-текстов-от-лишних-символов-1.2\"><span class=\"toc-item-num\">1.2&nbsp;&nbsp;</span>Лемматизация комментариев и очистка текстов от лишних символов</a></span></li><li><span><a href=\"#Делим-данные-на-выборки\" data-toc-modified-id=\"Делим-данные-на-выборки-1.3\"><span class=\"toc-item-num\">1.3&nbsp;&nbsp;</span>Делим данные на выборки</a></span></li><li><span><a href=\"#Создаем-мешки-слов-и-убираем-стоп-слова\" data-toc-modified-id=\"Создаем-мешки-слов-и-убираем-стоп-слова-1.4\"><span class=\"toc-item-num\">1.4&nbsp;&nbsp;</span>Создаем мешки слов и убираем стоп-слова</a></span></li><li><span><a href=\"#Баланс-классов\" data-toc-modified-id=\"Баланс-классов-1.5\"><span class=\"toc-item-num\">1.5&nbsp;&nbsp;</span>Баланс классов</a></span><ul class=\"toc-item\"><li><span><a href=\"#F1-с-изменением-весов-в-модели\" data-toc-modified-id=\"F1-с-изменением-весов-в-модели-1.5.1\"><span class=\"toc-item-num\">1.5.1&nbsp;&nbsp;</span>F1 с изменением весов в модели</a></span></li><li><span><a href=\"#F1-при-ресемплировании-с-уменьшением-класса-0\" data-toc-modified-id=\"F1-при-ресемплировании-с-уменьшением-класса-0-1.5.2\"><span class=\"toc-item-num\">1.5.2&nbsp;&nbsp;</span>F1 при ресемплировании с уменьшением класса 0</a></span></li></ul></li></ul></li><li><span><a href=\"#Обучение\" data-toc-modified-id=\"Обучение-2\"><span class=\"toc-item-num\">2&nbsp;&nbsp;</span>Обучение</a></span><ul class=\"toc-item\"><li><span><a href=\"#Модель-логистической-регрессии\" data-toc-modified-id=\"Модель-логистической-регрессии-2.1\"><span class=\"toc-item-num\">2.1&nbsp;&nbsp;</span>Модель логистической регрессии</a></span></li><li><span><a href=\"#CatBoostClassifier\" data-toc-modified-id=\"CatBoostClassifier-2.2\"><span class=\"toc-item-num\">2.2&nbsp;&nbsp;</span>CatBoostClassifier</a></span></li><li><span><a href=\"#SGDClassifier\" data-toc-modified-id=\"SGDClassifier-2.3\"><span class=\"toc-item-num\">2.3&nbsp;&nbsp;</span>SGDClassifier</a></span></li><li><span><a href=\"#Выводы\" data-toc-modified-id=\"Выводы-2.4\"><span class=\"toc-item-num\">2.4&nbsp;&nbsp;</span>Выводы</a></span></li></ul></li><li><span><a href=\"#Выводы\" data-toc-modified-id=\"Выводы-3\"><span class=\"toc-item-num\">3&nbsp;&nbsp;</span>Выводы</a></span></li><li><span><a href=\"#Чек-лист-проверки\" data-toc-modified-id=\"Чек-лист-проверки-4\"><span class=\"toc-item-num\">4&nbsp;&nbsp;</span>Чек-лист проверки</a></span></li></ul></div>"
      ]
    },
    {
      "cell_type": "markdown",
      "metadata": {
        "id": "LiPcCJwEcWkX"
      },
      "source": [
        "# Проект для интернет-магазина"
      ]
    },
    {
      "cell_type": "markdown",
      "metadata": {
        "id": "twfI1VN1cWkY"
      },
      "source": [
        "Один интернет-магазин запускает новый сервис. Теперь пользователи могут редактировать и дополнять описания товаров, как в вики-сообществах. То есть клиенты предлагают свои правки и комментируют изменения других. Магазину нужен инструмент, который будет искать токсичные комментарии и отправлять их на модерацию. \n",
        "\n",
        "Необходимо обучить модель классифицировать комментарии на позитивные и негативные. В нашем распоряжении набор данных с разметкой о токсичности правок:\n",
        "\n",
        "- `text` - текст комментария;\n",
        "- `toxic` - целевой признак (1-комментарий токсичен, 0-нетоксичен)\n",
        "\n",
        "Значение метрики качества *F1* модели должно быть не меньше 0.75. "
      ]
    },
    {
      "cell_type": "markdown",
      "metadata": {
        "id": "k4N7Z4eCcWkZ"
      },
      "source": [
        "## Подготовка"
      ]
    },
    {
      "cell_type": "code",
      "execution_count": null,
      "metadata": {
        "id": "2dJlYlWxcWkZ"
      },
      "outputs": [],
      "source": [
        "# импортируем все необходимое\n",
        "import matplotlib.pyplot as plt\n",
        "import numpy as np\n",
        "import pandas as pd\n",
        "import re\n",
        "import nltk\n",
        "from nltk.stem import WordNetLemmatizer \n",
        "from nltk.corpus import stopwords as nltk_stopwords\n",
        "from sklearn.feature_extraction.text import TfidfVectorizer\n",
        "from sklearn.model_selection import train_test_split, cross_val_score, GridSearchCV\n",
        "from sklearn.linear_model import LogisticRegression, SGDClassifier\n",
        "from sklearn.tree import DecisionTreeClassifier\n",
        "from catboost import CatBoostClassifier\n",
        "from sklearn.metrics import f1_score, precision_score, recall_score, accuracy_score, roc_auc_score, roc_curve\n",
        "from sklearn.utils import shuffle\n",
        "import warnings\n",
        "warnings.filterwarnings('ignore')"
      ]
    },
    {
      "cell_type": "markdown",
      "metadata": {
        "id": "kFSUs6_6cWkb"
      },
      "source": [
        "### Общий обзор данных"
      ]
    },
    {
      "cell_type": "code",
      "execution_count": null,
      "metadata": {
        "id": "VxAUfpOQcWkc",
        "outputId": "f9434a9c-3750-4ebe-b1b7-360edb575add"
      },
      "outputs": [
        {
          "name": "stdout",
          "output_type": "stream",
          "text": [
            "<class 'pandas.core.frame.DataFrame'>\n",
            "RangeIndex: 159571 entries, 0 to 159570\n",
            "Data columns (total 2 columns):\n",
            " #   Column  Non-Null Count   Dtype \n",
            "---  ------  --------------   ----- \n",
            " 0   text    159571 non-null  object\n",
            " 1   toxic   159571 non-null  int64 \n",
            "dtypes: int64(1), object(1)\n",
            "memory usage: 2.4+ MB\n"
          ]
        }
      ],
      "source": [
        "# сохраним датафрейм в переменную\n",
        "toxic_comments = pd.read_csv('/datasets/toxic_comments.csv')\n",
        "# выведем общую инфо о таблице, посмотрим на наличие пропусков в данных\n",
        "toxic_comments.info()"
      ]
    },
    {
      "cell_type": "code",
      "execution_count": null,
      "metadata": {
        "scrolled": true,
        "id": "dgvSiT0ZcWkd",
        "outputId": "9e63d755-56a3-4bed-a37a-e3b3d6dc6128"
      },
      "outputs": [
        {
          "data": {
            "text/html": [
              "<div>\n",
              "<style scoped>\n",
              "    .dataframe tbody tr th:only-of-type {\n",
              "        vertical-align: middle;\n",
              "    }\n",
              "\n",
              "    .dataframe tbody tr th {\n",
              "        vertical-align: top;\n",
              "    }\n",
              "\n",
              "    .dataframe thead th {\n",
              "        text-align: right;\n",
              "    }\n",
              "</style>\n",
              "<table border=\"1\" class=\"dataframe\">\n",
              "  <thead>\n",
              "    <tr style=\"text-align: right;\">\n",
              "      <th></th>\n",
              "      <th>text</th>\n",
              "      <th>toxic</th>\n",
              "    </tr>\n",
              "  </thead>\n",
              "  <tbody>\n",
              "    <tr>\n",
              "      <th>0</th>\n",
              "      <td>Explanation\\nWhy the edits made under my usern...</td>\n",
              "      <td>0</td>\n",
              "    </tr>\n",
              "    <tr>\n",
              "      <th>1</th>\n",
              "      <td>D'aww! He matches this background colour I'm s...</td>\n",
              "      <td>0</td>\n",
              "    </tr>\n",
              "    <tr>\n",
              "      <th>2</th>\n",
              "      <td>Hey man, I'm really not trying to edit war. It...</td>\n",
              "      <td>0</td>\n",
              "    </tr>\n",
              "    <tr>\n",
              "      <th>3</th>\n",
              "      <td>\"\\nMore\\nI can't make any real suggestions on ...</td>\n",
              "      <td>0</td>\n",
              "    </tr>\n",
              "    <tr>\n",
              "      <th>4</th>\n",
              "      <td>You, sir, are my hero. Any chance you remember...</td>\n",
              "      <td>0</td>\n",
              "    </tr>\n",
              "  </tbody>\n",
              "</table>\n",
              "</div>"
            ],
            "text/plain": [
              "                                                text  toxic\n",
              "0  Explanation\\nWhy the edits made under my usern...      0\n",
              "1  D'aww! He matches this background colour I'm s...      0\n",
              "2  Hey man, I'm really not trying to edit war. It...      0\n",
              "3  \"\\nMore\\nI can't make any real suggestions on ...      0\n",
              "4  You, sir, are my hero. Any chance you remember...      0"
            ]
          },
          "execution_count": 3,
          "metadata": {},
          "output_type": "execute_result"
        }
      ],
      "source": [
        "# посмотрим на первые строки\n",
        "toxic_comments.head()"
      ]
    },
    {
      "cell_type": "code",
      "execution_count": null,
      "metadata": {
        "id": "2MxZXWkScWkd"
      },
      "outputs": [],
      "source": [
        "# посмотрим, как соотносится кол-во токсичных и нетоксичных комментариев\n",
        "# создадим табблицу с подсчетом значений каждого класса\n",
        "ratio_data = toxic_comments.pivot_table(index='toxic', values='text', aggfunc='count')"
      ]
    },
    {
      "cell_type": "code",
      "execution_count": null,
      "metadata": {
        "id": "lx0Kpz0HcWke",
        "outputId": "51b66982-d12f-48ef-d353-1b3843143943"
      },
      "outputs": [
        {
          "data": {
            "text/plain": [
              "<AxesSubplot:xlabel='toxic'>"
            ]
          },
          "execution_count": 5,
          "metadata": {},
          "output_type": "execute_result"
        },
        {
          "data": {
            "image/png": "[encoded data removed]",
            "text/plain": [
              "<Figure size 432x288 with 1 Axes>"
            ]
          },
          "metadata": {
            "needs_background": "light"
          },
          "output_type": "display_data"
        }
      ],
      "source": [
        "# построим график\n",
        "ratio_data.plot.bar()"
      ]
    },
    {
      "cell_type": "markdown",
      "metadata": {
        "id": "wnQ4PqqucWke"
      },
      "source": [
        "Как видим, удивительно, но положительных комментариев больше."
      ]
    },
    {
      "cell_type": "code",
      "execution_count": null,
      "metadata": {
        "id": "0770y0awcWke",
        "outputId": "0f9a7a12-9ab8-4bd8-f24b-27d0ce24b24c"
      },
      "outputs": [
        {
          "data": {
            "text/plain": [
              "8.834884437596301"
            ]
          },
          "execution_count": 6,
          "metadata": {},
          "output_type": "execute_result"
        }
      ],
      "source": [
        "# вычислим соотношение в конкретном числовом виде\n",
        "class_ratio = toxic_comments['toxic'].value_counts()[0] / toxic_comments['toxic'].value_counts()[1]\n",
        "class_ratio"
      ]
    },
    {
      "cell_type": "markdown",
      "metadata": {
        "id": "BofvlnzucWkf"
      },
      "source": [
        "Положительных комментариев почти в 9 раз больше, чем токсичных. Следовательно, баланс классов нарушен, а значит, нам предстоит их сбалансировать на следующих этапах исследования."
      ]
    },
    {
      "cell_type": "markdown",
      "metadata": {
        "id": "n0Q5AncjcWkf"
      },
      "source": [
        "### Лемматизация комментариев и очистка текстов от лишних символов"
      ]
    },
    {
      "cell_type": "markdown",
      "metadata": {
        "id": "WN9rdfkRcWkf"
      },
      "source": [
        "Приведем слова комментариев к леммам. "
      ]
    },
    {
      "cell_type": "code",
      "execution_count": null,
      "metadata": {
        "id": "fT4RjkpOcWkg"
      },
      "outputs": [],
      "source": [
        "# создадим класс для лемматизации текстов комментариев\n",
        "m = WordNetLemmatizer() #лемматизация для англоязычных текстов\n",
        "\n",
        "def lemmatize_text(text):\n",
        "    # приведем все к единому регистру\n",
        "    text = text.lower()\n",
        "    # разбиваем текст на леммы\n",
        "    lemm_text = \"\".join(m.lemmatize(text))\n",
        "    # в лемматизированном тексте комментария нужно оставить только латинские символы и пробелы\n",
        "    cleared_text = re.sub(r'[^a-zA-Z]', ' ', lemm_text) \n",
        "    # функция должна возвращать очищенный и лемматизированный текст без лишних пробелов, т.к. они - помеха для анализа\n",
        "    return \" \".join(cleared_text.split())\n",
        "# создадим столбец с лемматизированными комментариями\n",
        "toxic_comments['lemm_text'] = toxic_comments['text'].apply(lemmatize_text)\n",
        "# удалим исходные тексты\n",
        "toxic_comments = toxic_comments.drop(['text'], axis=1)"
      ]
    },
    {
      "cell_type": "markdown",
      "metadata": {
        "id": "2oqidDy2cWkh"
      },
      "source": [
        "### Делим данные на выборки"
      ]
    },
    {
      "cell_type": "code",
      "execution_count": null,
      "metadata": {
        "id": "tK0BymX7cWkh"
      },
      "outputs": [],
      "source": [
        "# разобьем данные на выборки: обучающую (80%) и тестовую (20%)\n",
        "target = toxic_comments['toxic']\n",
        "features = toxic_comments.drop(['toxic'], axis=1)\n",
        "\n",
        "features_train, features_test, target_train, target_test = train_test_split(features, \n",
        "                                                                              target, \n",
        "                                                                              test_size=0.2, \n",
        "                                                                              random_state=12345)"
      ]
    },
    {
      "cell_type": "markdown",
      "metadata": {
        "id": "HDOA6iOscWkh"
      },
      "source": [
        "### Создаем мешки слов и убираем стоп-слова"
      ]
    },
    {
      "cell_type": "code",
      "execution_count": null,
      "metadata": {
        "id": "8Kl_vgW3cWkh",
        "outputId": "0a33a84d-89d3-4fb7-a53e-3a02b20ab783"
      },
      "outputs": [
        {
          "name": "stderr",
          "output_type": "stream",
          "text": [
            "[nltk_data] Downloading package stopwords to /home/jovyan/nltk_data...\n",
            "[nltk_data]   Package stopwords is already up-to-date!\n"
          ]
        },
        {
          "name": "stdout",
          "output_type": "stream",
          "text": [
            "(127656, 148283)\n",
            "(31915, 148283)\n"
          ]
        }
      ],
      "source": [
        "# преобразуем корпус в мешок слов и очистим тексты от стоп-слов, лишенных смысловой нагрузки\n",
        "nltk.download('stopwords')\n",
        "stopwords = set(nltk_stopwords.words('english'))\n",
        "count_tf_idf = TfidfVectorizer(stop_words=stopwords)\n",
        "\n",
        "features_train = count_tf_idf.fit_transform(features_train['lemm_text'].values.astype('U'))\n",
        "features_test = count_tf_idf.transform(features_test['lemm_text'].values.astype('U'))\n",
        "print(features_train.shape)\n",
        "print(features_test.shape)"
      ]
    },
    {
      "cell_type": "markdown",
      "metadata": {
        "id": "t-oLZ0qscWki"
      },
      "source": [
        "### Баланс классов"
      ]
    },
    {
      "cell_type": "markdown",
      "metadata": {
        "id": "omxn1qPrcWki"
      },
      "source": [
        "Сбалансировать классы можно тремя способами: сократить доминирующий класс выборки, ~~увеличить выборку по \"проседающему\" классу~~ (почему-то падает ядро, видимо, слишком увеличивается объем выборки и память нагружается?), задать параметр модели `class_weight='balanced'`. \n",
        "Попробуем два из трех способов: ресемплирование с уменьшением класса 0 и изменнеие весов в модели обучения, а потом сравним результат метрики F1. "
      ]
    },
    {
      "cell_type": "markdown",
      "metadata": {
        "id": "GbY3GLqUcWki"
      },
      "source": [
        "#### F1 с изменением весов в модели"
      ]
    },
    {
      "cell_type": "code",
      "execution_count": null,
      "metadata": {
        "id": "wjPZytstcWki",
        "outputId": "861e6d95-f785-4101-c46c-e25ca61ce780"
      },
      "outputs": [
        {
          "name": "stdout",
          "output_type": "stream",
          "text": [
            "F1 на CV со балансированными классами 0.7511776397192941\n",
            "CPU times: user 33.7 s, sys: 1min 8s, total: 1min 42s\n",
            "Wall time: 1min 42s\n"
          ]
        }
      ],
      "source": [
        "%%time\n",
        "\n",
        "model = LogisticRegression(class_weight='balanced')\n",
        "train_f1_balanced = cross_val_score(model, features_train, target_train, cv=3, scoring='f1').mean()\n",
        "print('F1 на CV со балансированными классами', train_f1_balanced)"
      ]
    },
    {
      "cell_type": "markdown",
      "metadata": {
        "id": "58xJgWxycWkj"
      },
      "source": [
        "#### F1 при ресемплировании с уменьшением класса 0"
      ]
    },
    {
      "cell_type": "code",
      "execution_count": null,
      "metadata": {
        "id": "eXgK0_O4cWkj"
      },
      "outputs": [],
      "source": [
        "toxic_comments_train = toxic_comments.iloc[target_train.index]\n",
        "\n",
        "target_train_class_zero = toxic_comments_train[toxic_comments_train['toxic'] == 0]['toxic']\n",
        "target_train_class_one = toxic_comments_train[toxic_comments_train['toxic'] == 1]['toxic']"
      ]
    },
    {
      "cell_type": "code",
      "execution_count": null,
      "metadata": {
        "id": "OoTmL-yxcWkj"
      },
      "outputs": [],
      "source": [
        "target_train_class_zero_downsampled = target_train_class_zero.sample(target_train_class_one.shape[0], random_state=12345)\n",
        "target_train_downsampled = pd.concat([target_train_class_zero_downsampled, target_train_class_one])\n",
        "\n",
        "features_train_downsampled = toxic_comments.iloc[target_train_downsampled.index]\n",
        "features_train_downsampled, target_train_downsampled = shuffle(features_train_downsampled,\n",
        "                                                               target_train_downsampled,\n",
        "                                                               random_state=12345)\n",
        "features_train_downsampled = count_tf_idf.transform(features_train_downsampled['lemm_text'].values.astype('U'))"
      ]
    },
    {
      "cell_type": "code",
      "execution_count": null,
      "metadata": {
        "scrolled": true,
        "id": "rGu0-BwxcWkj",
        "outputId": "21d696a2-5d8d-49fa-9e09-ae379818ca09"
      },
      "outputs": [
        {
          "data": {
            "text/plain": [
              "0    12986\n",
              "1    12986\n",
              "Name: toxic, dtype: int64"
            ]
          },
          "execution_count": 13,
          "metadata": {},
          "output_type": "execute_result"
        }
      ],
      "source": [
        "target_train_downsampled.value_counts()"
      ]
    },
    {
      "cell_type": "code",
      "execution_count": null,
      "metadata": {
        "id": "Phej9vWmcWkk",
        "outputId": "045a6a7c-c64f-451f-b206-198c8fa0ae5b"
      },
      "outputs": [
        {
          "data": {
            "text/plain": [
              "(25972, 148283)"
            ]
          },
          "execution_count": 14,
          "metadata": {},
          "output_type": "execute_result"
        }
      ],
      "source": [
        "features_train_downsampled.shape"
      ]
    },
    {
      "cell_type": "code",
      "execution_count": null,
      "metadata": {
        "id": "aZ8-SsezcWkk",
        "outputId": "22ce8f63-ea77-4714-8e22-4d60a8006a6d"
      },
      "outputs": [
        {
          "name": "stdout",
          "output_type": "stream",
          "text": [
            "F1 на CV с уменьшением класса 0 0.885281783158481\n"
          ]
        }
      ],
      "source": [
        "model = LogisticRegression()\n",
        "train_f1_downsampled = cross_val_score(model, features_train_downsampled, target_train_downsampled, cv=3, scoring='f1').mean()\n",
        "print('F1 на CV с уменьшением класса 0', train_f1_downsampled)"
      ]
    },
    {
      "cell_type": "markdown",
      "metadata": {
        "id": "3FUwAGEOcWkk"
      },
      "source": [
        "Прирост F1 при уменьшении класса 0 очевиден. Посмотрим на AUC-ROC кривую, чтобы наверняка определиться с вариантом."
      ]
    },
    {
      "cell_type": "code",
      "execution_count": null,
      "metadata": {
        "scrolled": true,
        "id": "Kd6WXEZjcWkl",
        "outputId": "253e65dd-06d5-45f5-bfac-dcc222954f76"
      },
      "outputs": [
        {
          "data": {
            "image/png": "[encoded data removed]",
            "text/plain": [
              "<Figure size 864x648 with 1 Axes>"
            ]
          },
          "metadata": {
            "needs_background": "light"
          },
          "output_type": "display_data"
        }
      ],
      "source": [
        "plt.figure(figsize=[12,9])\n",
        "\n",
        "plt.plot([0, 1], [0, 1], linestyle='--', label='RandomModel')\n",
        "\n",
        "\n",
        "clf_mdl = LogisticRegression()\n",
        "clf_mdl.fit(features_train, target_train)\n",
        "probabilities_test = clf_mdl.predict_proba(features_test)\n",
        "probabilities_one_test = probabilities_test[:, 1]\n",
        "fpr, tpr, thresholds = roc_curve(target_test, probabilities_one_test)\n",
        "auc_roc = roc_auc_score(target_test, probabilities_one_test)\n",
        "test_f1 = f1_score(target_test, clf_mdl.predict(features_test))\n",
        "plt.plot(fpr, tpr, label='Без баланса классов')\n",
        "\n",
        "clf_mdl = LogisticRegression(class_weight='balanced')\n",
        "clf_mdl.fit(features_train, target_train)\n",
        "probabilities_test = clf_mdl.predict_proba(features_test)\n",
        "probabilities_one_test = probabilities_test[:, 1]\n",
        "fpr, tpr, thresholds = roc_curve(target_test, probabilities_one_test)\n",
        "auc_roc_balanced = roc_auc_score(target_test, probabilities_one_test)\n",
        "test_f1_balanced = f1_score(target_test, clf_mdl.predict(features_test))\n",
        "plt.plot(fpr, tpr, label='Модель с балансом весов')\n",
        "\n",
        "clf_mdl = LogisticRegression()\n",
        "clf_mdl.fit(features_train_downsampled, target_train_downsampled)\n",
        "probabilities_test = clf_mdl.predict_proba(features_test)\n",
        "probabilities_one_test = probabilities_test[:, 1]\n",
        "fpr, tpr, thresholds = roc_curve(target_test, probabilities_one_test)\n",
        "auc_roc_downsampled = roc_auc_score(target_test, probabilities_one_test)\n",
        "test_f1_downsampled = f1_score(target_test, clf_mdl.predict(features_test))\n",
        "plt.plot(fpr, tpr, label='Уменьшение класса 0')\n",
        "\n",
        "plt.xlim([0,1])\n",
        "plt.ylim([0,1])\n",
        "\n",
        "plt.xlabel(\"False Positive Rate\")\n",
        "plt.ylabel(\"True Positive Rate\")\n",
        "\n",
        "plt.legend(loc='lower right', fontsize='x-large')\n",
        "\n",
        "plt.title(\"ROC-кривая\")\n",
        "plt.show()"
      ]
    },
    {
      "cell_type": "markdown",
      "metadata": {
        "id": "N4Tjpu4NcWkl"
      },
      "source": [
        "Как видим по графику, площадь под графиком больше всего под линией с балансом классов в модели."
      ]
    },
    {
      "cell_type": "markdown",
      "metadata": {
        "id": "TA1HjtJqcWkl"
      },
      "source": [
        "## Обучение"
      ]
    },
    {
      "cell_type": "markdown",
      "metadata": {
        "id": "ZMhb-mercWkm"
      },
      "source": [
        "### Модель логистической регрессии "
      ]
    },
    {
      "cell_type": "markdown",
      "metadata": {
        "id": "VkjiImqxcWkm"
      },
      "source": [
        "Через GridSearchCV найдем оптимальные параметры для модели."
      ]
    },
    {
      "cell_type": "code",
      "execution_count": null,
      "metadata": {
        "scrolled": true,
        "id": "DQfk--7ncWkm",
        "outputId": "ca569546-4a80-4c76-cfe3-bf86497390f3"
      },
      "outputs": [
        {
          "name": "stdout",
          "output_type": "stream",
          "text": [
            "Оптимальные параметры:\n",
            "{'C': 10, 'max_iter': 150, 'solver': 'lbfgs'}\n",
            "CPU times: user 12min 41s, sys: 22min 58s, total: 35min 40s\n",
            "Wall time: 35min 43s\n"
          ]
        }
      ],
      "source": [
        "%%time\n",
        "\n",
        "LogReg_mdl = LogisticRegression(random_state=12345, class_weight='balanced')\n",
        "hyperparams = [{'solver':['newton-cg', 'lbfgs', 'liblinear'],\n",
        "                'C':[0.1, 1, 10],\n",
        "                'max_iter':[150, 250, 500]}]\n",
        "\n",
        "clf = GridSearchCV(LogReg_mdl, hyperparams, scoring='f1',cv=3)\n",
        "clf.fit(features_train, target_train)\n",
        "print('Оптимальные параметры:')\n",
        "LR_best_params = clf.best_params_\n",
        "print(LR_best_params)"
      ]
    },
    {
      "cell_type": "code",
      "execution_count": null,
      "metadata": {
        "id": "NMB6iIzEcWkm",
        "outputId": "539cbfd4-3292-40e2-9bab-62dc0ff900af"
      },
      "outputs": [
        {
          "name": "stdout",
          "output_type": "stream",
          "text": [
            "F1 на тестовой выборке 0.7677875595324001\n",
            "CPU times: user 41.5 s, sys: 1min 17s, total: 1min 58s\n",
            "Wall time: 1min 58s\n"
          ]
        }
      ],
      "source": [
        "%%time\n",
        "\n",
        "LogReg_mdl = LogisticRegression(random_state=12345, solver='lbfgs', C=10, max_iter=250, class_weight='balanced')\n",
        "LogReg_mdl.fit(features_train, target_train)\n",
        "LogReg_predictions = LogReg_mdl.predict(features_test)\n",
        "test_f1_LogReg = f1_score(target_test, LogReg_predictions)\n",
        "\n",
        "print('F1 на тестовой выборке', test_f1_LogReg)"
      ]
    },
    {
      "cell_type": "markdown",
      "metadata": {
        "id": "423qfKwIcWkm"
      },
      "source": [
        "Значение F1 выше порогового в 0.75 - значит модель логистической регрессии с данными параметрами нам подходит для решения поставленной задачи."
      ]
    },
    {
      "cell_type": "markdown",
      "metadata": {
        "id": "dHNdbEzScWkn"
      },
      "source": [
        "### CatBoostClassifier"
      ]
    },
    {
      "cell_type": "code",
      "execution_count": null,
      "metadata": {
        "id": "z59kwG0EcWkn"
      },
      "outputs": [],
      "source": [
        "CatBoost_mdl = CatBoostClassifier(random_state=12345, verbose=False)\n",
        "CB_hyperparams = {'iterations': [50, 100, 200]}"
      ]
    },
    {
      "cell_type": "code",
      "execution_count": null,
      "metadata": {
        "id": "s5m31E_gcWkn",
        "outputId": "b142e2d2-792c-41e6-e412-c44a9d823fb6"
      },
      "outputs": [
        {
          "name": "stdout",
          "output_type": "stream",
          "text": [
            "\n",
            "bestTest = 0.2473678568\n",
            "bestIteration = 49\n",
            "\n",
            "0:\tloss: 0.2473679\tbest: 0.2473679 (0)\ttotal: 2m 47s\tremaining: 5m 35s\n",
            "\n",
            "bestTest = 0.2152456351\n",
            "bestIteration = 99\n",
            "\n",
            "1:\tloss: 0.2152456\tbest: 0.2152456 (1)\ttotal: 6m 44s\tremaining: 3m 22s\n",
            "\n",
            "bestTest = 0.1914238454\n",
            "bestIteration = 199\n",
            "\n",
            "2:\tloss: 0.1914238\tbest: 0.1914238 (2)\ttotal: 14m 30s\tremaining: 0us\n",
            "Estimating final quality...\n",
            "Training on fold [0/3]\n",
            "\n",
            "bestTest = 0.1905171595\n",
            "bestIteration = 199\n",
            "\n",
            "Training on fold [1/3]\n",
            "\n",
            "bestTest = 0.192262273\n",
            "bestIteration = 199\n",
            "\n",
            "Training on fold [2/3]\n",
            "\n",
            "bestTest = 0.1915841477\n",
            "bestIteration = 199\n",
            "\n",
            "CPU times: user 41min 3s, sys: 1min 18s, total: 42min 21s\n",
            "Wall time: 42min 27s\n"
          ]
        }
      ],
      "source": [
        "%%time\n",
        "CB_grid = CatBoost_mdl.grid_search(CB_hyperparams, \n",
        "                                   X=features_train, \n",
        "                                   y=target_train, \n",
        "                                   plot=False)"
      ]
    },
    {
      "cell_type": "code",
      "execution_count": null,
      "metadata": {
        "id": "qnGKJwdOcWkn",
        "outputId": "b3c626f0-a76f-43f4-9278-d52110528563"
      },
      "outputs": [
        {
          "data": {
            "text/plain": [
              "{'verbose': False, 'random_state': 12345, 'iterations': 200}"
            ]
          },
          "execution_count": 23,
          "metadata": {},
          "output_type": "execute_result"
        }
      ],
      "source": [
        "CatBoost_mdl.get_params()"
      ]
    },
    {
      "cell_type": "code",
      "execution_count": null,
      "metadata": {
        "id": "uGRtqB_qcWkn",
        "outputId": "91d849ca-7a78-4af8-8160-c4f9bbf005c1"
      },
      "outputs": [
        {
          "data": {
            "text/plain": [
              "{'learn': {'Logloss': 0.11019257351054788}}"
            ]
          },
          "execution_count": 24,
          "metadata": {},
          "output_type": "execute_result"
        }
      ],
      "source": [
        "CatBoost_mdl.get_best_score()"
      ]
    },
    {
      "cell_type": "code",
      "execution_count": null,
      "metadata": {
        "id": "t8BmDjK1cWko",
        "outputId": "8dd196ef-75b9-4081-a1a2-54c5f4a8ed61"
      },
      "outputs": [
        {
          "name": "stdout",
          "output_type": "stream",
          "text": [
            "CPU times: user 8min 7s, sys: 8.12 s, total: 8min 15s\n",
            "Wall time: 8min 16s\n"
          ]
        },
        {
          "data": {
            "text/plain": [
              "<catboost.core.CatBoostClassifier at 0x7f77f7431040>"
            ]
          },
          "execution_count": 25,
          "metadata": {},
          "output_type": "execute_result"
        }
      ],
      "source": [
        "%%time\n",
        "CatBoost_mdl.fit(features_train, target_train)"
      ]
    },
    {
      "cell_type": "code",
      "execution_count": null,
      "metadata": {
        "id": "LdTQSpb6cWko",
        "outputId": "a7298ada-6e17-40a3-c4b5-2b90f712714e"
      },
      "outputs": [
        {
          "name": "stdout",
          "output_type": "stream",
          "text": [
            "F1 на тестовой выборке 0.7541337167505392\n",
            "CPU times: user 358 ms, sys: 17.8 ms, total: 376 ms\n",
            "Wall time: 385 ms\n"
          ]
        }
      ],
      "source": [
        "%%time\n",
        "CatBoost_predictions = CatBoost_mdl.predict(features_test)\n",
        "test_f1_CatBoost = f1_score(target_test, CatBoost_predictions)\n",
        "\n",
        "print('F1 на тестовой выборке', test_f1_CatBoost)"
      ]
    },
    {
      "cell_type": "markdown",
      "metadata": {
        "id": "Y-pNQHr0cWko"
      },
      "source": [
        "F1 также выше порогового в 0.75, но чуть хуже, чем у логистической регресии."
      ]
    },
    {
      "cell_type": "markdown",
      "metadata": {
        "id": "kdj_KMfwcWko"
      },
      "source": [
        "### SGDClassifier"
      ]
    },
    {
      "cell_type": "code",
      "execution_count": null,
      "metadata": {
        "id": "SpUMVQdXcWko",
        "outputId": "2f09df4d-b3f0-4767-96bb-6f6ef87e1a8c"
      },
      "outputs": [
        {
          "name": "stdout",
          "output_type": "stream",
          "text": [
            "Оптимальные параметры:\n",
            "\n",
            "{'class_weight': 'balanced', 'eta0': 0.2, 'learning_rate': 'adaptive', 'loss': 'modified_huber', 'random_state': 12345}\n",
            "CPU times: user 3min 22s, sys: 25.5 s, total: 3min 47s\n",
            "Wall time: 3min 48s\n"
          ]
        }
      ],
      "source": [
        "%%time\n",
        "\n",
        "SGDC_mdl = SGDClassifier()\n",
        "SGDC_hyperparams = [{'loss':['hinge', 'log', 'modified_huber'],\n",
        "                'learning_rate':['constant', 'optimal', 'invscaling', 'adaptive'],\n",
        "                'eta0':[0.01, 0.05, 0.1, 0.2, 0.3, 0.5],\n",
        "                'random_state':[12345],\n",
        "                'class_weight': ['balanced']}]\n",
        "\n",
        "\n",
        "clf = GridSearchCV(SGDC_mdl, SGDC_hyperparams, scoring='f1', cv=3)\n",
        "clf.fit(features_train, target_train)\n",
        "print(\"Оптимальные параметры:\")\n",
        "print()\n",
        "SGDC_best_params = clf.best_params_\n",
        "print(SGDC_best_params)"
      ]
    },
    {
      "cell_type": "code",
      "execution_count": null,
      "metadata": {
        "id": "nA8WnrUtcWko",
        "outputId": "afb55146-57f6-43e9-fc26-c706e305da7f"
      },
      "outputs": [
        {
          "name": "stdout",
          "output_type": "stream",
          "text": [
            "F1 на тестовой выборке 0.752761489158598\n",
            "CPU times: user 2.07 s, sys: 125 ms, total: 2.19 s\n",
            "Wall time: 2.2 s\n"
          ]
        }
      ],
      "source": [
        "%%time\n",
        "SGDC_mdl = SGDClassifier()\n",
        "SGDC_mdl.set_params(**SGDC_best_params)\n",
        "SGDC_mdl.fit(features_train, target_train)\n",
        "SGDC_predictions = SGDC_mdl.predict(features_test)\n",
        "test_f1_SGDC = f1_score(target_test, SGDC_predictions)\n",
        "\n",
        "print('F1 на тестовой выборке', test_f1_SGDC)"
      ]
    },
    {
      "cell_type": "markdown",
      "metadata": {
        "id": "_cDBMb7ocWkp"
      },
      "source": [
        "SGDClassifier нам также подходит для решения задачи. В следующем разделе детальнее посмотрим на метрики моделей."
      ]
    },
    {
      "cell_type": "markdown",
      "metadata": {
        "id": "tbfHtKylcWkp"
      },
      "source": [
        "### Выводы"
      ]
    },
    {
      "cell_type": "markdown",
      "metadata": {
        "id": "PaRkx8uacWkp"
      },
      "source": [
        "Выведем таблицу результатов для наглядности."
      ]
    },
    {
      "cell_type": "code",
      "execution_count": null,
      "metadata": {
        "id": "wGx02nkYcWkp",
        "outputId": "4bec02f9-9f5c-49a0-df54-7253bbae5c48"
      },
      "outputs": [
        {
          "data": {
            "text/html": [
              "<div>\n",
              "<style scoped>\n",
              "    .dataframe tbody tr th:only-of-type {\n",
              "        vertical-align: middle;\n",
              "    }\n",
              "\n",
              "    .dataframe tbody tr th {\n",
              "        vertical-align: top;\n",
              "    }\n",
              "\n",
              "    .dataframe thead th {\n",
              "        text-align: right;\n",
              "    }\n",
              "</style>\n",
              "<table border=\"1\" class=\"dataframe\">\n",
              "  <thead>\n",
              "    <tr style=\"text-align: right;\">\n",
              "      <th></th>\n",
              "      <th>F1 на тестовой выборке</th>\n",
              "      <th>Показатели моделей</th>\n",
              "    </tr>\n",
              "  </thead>\n",
              "  <tbody>\n",
              "    <tr>\n",
              "      <th>LogisticRegression</th>\n",
              "      <td>0.767788</td>\n",
              "      <td>True</td>\n",
              "    </tr>\n",
              "    <tr>\n",
              "      <th>CatBoostClassifier</th>\n",
              "      <td>0.754134</td>\n",
              "      <td>True</td>\n",
              "    </tr>\n",
              "    <tr>\n",
              "      <th>SGDClassifier</th>\n",
              "      <td>0.752761</td>\n",
              "      <td>True</td>\n",
              "    </tr>\n",
              "  </tbody>\n",
              "</table>\n",
              "</div>"
            ],
            "text/plain": [
              "                    F1 на тестовой выборке  Показатели моделей\n",
              "LogisticRegression                0.767788                True\n",
              "CatBoostClassifier                0.754134                True\n",
              "SGDClassifier                     0.752761                True"
            ]
          },
          "execution_count": 30,
          "metadata": {},
          "output_type": "execute_result"
        }
      ],
      "source": [
        "index = ['LogisticRegression',\n",
        "         'CatBoostClassifier',\n",
        "         'SGDClassifier']\n",
        "data = {'F1 на тестовой выборке':[test_f1_LogReg,\n",
        "                                  test_f1_CatBoost,\n",
        "                                  test_f1_SGDC]}\n",
        "\n",
        "scores_data = pd.DataFrame(data=data, index=index)\n",
        "scores_data['Показатели моделей'] = scores_data['F1 на тестовой выборке'] > 0.75\n",
        "scores_data"
      ]
    },
    {
      "cell_type": "markdown",
      "metadata": {
        "id": "dBAUlZ3XcWkp"
      },
      "source": [
        "## Выводы"
      ]
    },
    {
      "cell_type": "code",
      "execution_count": null,
      "metadata": {
        "id": "4BtsdH3UcWkq",
        "outputId": "2c0a69d6-3a1e-4cfa-8e35-053c012f62f9"
      },
      "outputs": [
        {
          "name": "stdout",
          "output_type": "stream",
          "text": [
            "Метрики LogisticRegression\n",
            "ROC AUC: 0.970198741485447\n",
            "F1: 0.7788710512687727\n",
            "Precision: 0.8833202819107283\n",
            "Recall: 0.6965112689101575\n",
            "Accuracy: 0.9598621337928873\n",
            "\n",
            "Метрики CatBoostClassifier\n",
            "ROC AUC: 0.9559020668515014\n",
            "F1: 0.7541337167505392\n",
            "Precision: 0.9023655913978494\n",
            "Recall: 0.6477307811052794\n",
            "Accuracy: 0.9571361428795238\n",
            "\n",
            "Метрики SGDClassifier\n",
            "ROC AUC: 0.9720485542211585\n",
            "F1: 0.752761489158598\n",
            "Precision: 0.6741573033707865\n",
            "Recall: 0.8521148502624267\n",
            "Accuracy: 0.9431928560238133\n",
            "\n"
          ]
        },
        {
          "data": {
            "image/png": "[encoded data removed]",
            "text/plain": [
              "<Figure size 864x648 with 1 Axes>"
            ]
          },
          "metadata": {
            "needs_background": "light"
          },
          "output_type": "display_data"
        }
      ],
      "source": [
        "plt.figure(figsize=[12,9])\n",
        "\n",
        "plt.plot([0, 1], [0, 1], linestyle='--', label='RandomModel')\n",
        "\n",
        "\n",
        "LogReg_mdl = LogisticRegression()\n",
        "LogReg_mdl.set_params(**LR_best_params)\n",
        "LogReg_mdl.fit(features_train, target_train)\n",
        "probabilities_test = LogReg_mdl.predict_proba(features_test)\n",
        "probabilities_one_test = probabilities_test[:, 1]\n",
        "fpr, tpr, thresholds = roc_curve(target_test, probabilities_one_test)\n",
        "predict_test = LogReg_mdl.predict(features_test)\n",
        "plt.plot(fpr, tpr, label='LogisticRegression')\n",
        "print('Метрики LogisticRegression')\n",
        "print('ROC AUC:', roc_auc_score(target_test, probabilities_one_test))\n",
        "print('F1:', f1_score(target_test, predict_test))\n",
        "print('Precision:', precision_score(target_test, predict_test))\n",
        "print('Recall:', recall_score(target_test, predict_test))\n",
        "print('Accuracy:', accuracy_score(target_test, predict_test))\n",
        "print()\n",
        "\n",
        "CatBoost_mdl = CatBoostClassifier(random_state=12345, iterations=200, verbose=False)\n",
        "CatBoost_mdl.fit(features_train, target_train)\n",
        "probabilities_test = CatBoost_mdl.predict_proba(features_test)\n",
        "probabilities_one_test = probabilities_test[:, 1]\n",
        "fpr, tpr, thresholds = roc_curve(target_test, probabilities_one_test)\n",
        "predict_test = CatBoost_mdl.predict(features_test)\n",
        "plt.plot(fpr, tpr, label='CatBoostClassifier')\n",
        "print('Метрики CatBoostClassifier')\n",
        "print('ROC AUC:', roc_auc_score(target_test, probabilities_one_test))\n",
        "print('F1:', f1_score(target_test, predict_test))\n",
        "print('Precision:', precision_score(target_test, predict_test))\n",
        "print('Recall:', recall_score(target_test, predict_test))\n",
        "print('Accuracy:', accuracy_score(target_test, predict_test))\n",
        "print()\n",
        "\n",
        "SGDC_mdl = SGDClassifier()\n",
        "SGDC_mdl.set_params(**SGDC_best_params)\n",
        "SGDC_mdl.fit(features_train, target_train)\n",
        "probabilities_test = SGDC_mdl.predict_proba(features_test)\n",
        "probabilities_one_test = probabilities_test[:, 1]\n",
        "fpr, tpr, thresholds = roc_curve(target_test, probabilities_one_test)\n",
        "predict_test = SGDC_mdl.predict(features_test)\n",
        "plt.plot(fpr, tpr, label='SGDClassifier')\n",
        "print('Метрики SGDClassifier')\n",
        "print('ROC AUC:', roc_auc_score(target_test, probabilities_one_test))\n",
        "print('F1:', f1_score(target_test, predict_test))\n",
        "print('Precision:', precision_score(target_test, predict_test))\n",
        "print('Recall:', recall_score(target_test, predict_test))\n",
        "print('Accuracy:', accuracy_score(target_test, predict_test))\n",
        "print()\n",
        "\n",
        "plt.xlim([0,1])\n",
        "plt.ylim([0,1])\n",
        "\n",
        "plt.xlabel(\"False Positive Rate\")\n",
        "plt.ylabel(\"True Positive Rate\")\n",
        "\n",
        "plt.legend(loc='lower right', fontsize='x-large')\n",
        "\n",
        "plt.title(\"ROC-кривая\")\n",
        "plt.show()"
      ]
    },
    {
      "cell_type": "markdown",
      "metadata": {
        "id": "NuFUKwE5cWkq"
      },
      "source": [
        "В рамках проекта мы опробовали для решения задачи классификации три модели:\n",
        "\n",
        "- Логистическую регрессию;\n",
        "- CatBoost Classifier;\n",
        "- SGD Classifier.\n",
        "\n",
        "В исходных данных наблюдался большой дисбаланс классов, но опытным путем было установлено, что наилучший результат дает способ с изменением весов модели.\n",
        "\n",
        "Все три модели на тестовой выборке прошли пороговое значение метрики F1 в 0.75, но:\n",
        "- На тестовой выбоке по метрике F1 лучше всего себя показала LogisticRegression. Данная модель обладает бОльшими показателями Precision и Accuracy. Это говорит нам, что токсичные комментарии находятся лучше.\n",
        "- У SGDClassifier выше метрика ROC-AUC и Recall.\n",
        "- CatBoost из всех трех моделей дал худшие показатели."
      ]
    }
  ],
  "metadata": {
    "ExecuteTimeLog": [
      {
        "duration": 22745,
        "start_time": "2022-05-09T19:33:23.385Z"
      },
      {
        "duration": 1169,
        "start_time": "2022-05-09T19:35:42.675Z"
      },
      {
        "duration": 7,
        "start_time": "2022-05-09T19:37:43.879Z"
      },
      {
        "duration": 6,
        "start_time": "2022-05-09T19:37:48.528Z"
      },
      {
        "duration": 9,
        "start_time": "2022-05-09T19:40:10.021Z"
      },
      {
        "duration": 2286,
        "start_time": "2022-05-09T19:47:59.096Z"
      },
      {
        "duration": 1902,
        "start_time": "2022-05-09T19:48:05.234Z"
      },
      {
        "duration": 249,
        "start_time": "2022-05-09T19:48:11.606Z"
      },
      {
        "duration": 74500,
        "start_time": "2022-05-09T19:50:43.120Z"
      },
      {
        "duration": 42,
        "start_time": "2022-05-09T19:54:00.507Z"
      },
      {
        "duration": 7,
        "start_time": "2022-05-09T19:54:07.911Z"
      },
      {
        "duration": 2807,
        "start_time": "2022-05-09T19:54:29.203Z"
      },
      {
        "duration": 11,
        "start_time": "2022-05-09T19:55:02.935Z"
      },
      {
        "duration": 7,
        "start_time": "2022-05-09T19:55:58.961Z"
      },
      {
        "duration": 302,
        "start_time": "2022-05-09T20:36:49.011Z"
      },
      {
        "duration": 1506,
        "start_time": "2022-05-09T20:38:22.461Z"
      },
      {
        "duration": 1488,
        "start_time": "2022-05-09T20:38:24.372Z"
      },
      {
        "duration": 10,
        "start_time": "2022-05-09T20:38:25.863Z"
      },
      {
        "duration": 40,
        "start_time": "2022-05-09T20:38:25.875Z"
      },
      {
        "duration": 228,
        "start_time": "2022-05-09T20:38:25.916Z"
      },
      {
        "duration": 8,
        "start_time": "2022-05-09T20:38:26.556Z"
      },
      {
        "duration": 5,
        "start_time": "2022-05-09T20:38:28.525Z"
      },
      {
        "duration": 1573,
        "start_time": "2022-05-09T20:40:27.202Z"
      },
      {
        "duration": 978,
        "start_time": "2022-05-09T20:40:28.777Z"
      },
      {
        "duration": 12,
        "start_time": "2022-05-09T20:40:29.759Z"
      },
      {
        "duration": 37,
        "start_time": "2022-05-09T20:40:29.773Z"
      },
      {
        "duration": 230,
        "start_time": "2022-05-09T20:40:29.812Z"
      },
      {
        "duration": 14,
        "start_time": "2022-05-09T20:40:30.044Z"
      },
      {
        "duration": 108950,
        "start_time": "2022-05-09T20:40:30.064Z"
      },
      {
        "duration": 1388,
        "start_time": "2022-05-09T20:42:19.016Z"
      },
      {
        "duration": 1841,
        "start_time": "2022-05-09T20:42:35.492Z"
      },
      {
        "duration": 33,
        "start_time": "2022-05-09T20:58:40.918Z"
      },
      {
        "duration": 5079,
        "start_time": "2022-05-09T21:01:26.427Z"
      },
      {
        "duration": 35,
        "start_time": "2022-05-09T21:01:56.161Z"
      },
      {
        "duration": 6234,
        "start_time": "2022-05-09T21:01:57.179Z"
      },
      {
        "duration": 3,
        "start_time": "2022-05-09T21:41:36.635Z"
      },
      {
        "duration": 37,
        "start_time": "2022-05-09T21:44:00.099Z"
      },
      {
        "duration": 81,
        "start_time": "2022-05-09T21:53:49.657Z"
      },
      {
        "duration": 133493,
        "start_time": "2022-05-09T21:54:32.872Z"
      },
      {
        "duration": 1470,
        "start_time": "2022-05-09T21:57:41.291Z"
      },
      {
        "duration": 2336,
        "start_time": "2022-05-09T21:57:42.763Z"
      },
      {
        "duration": 9,
        "start_time": "2022-05-09T21:57:45.101Z"
      },
      {
        "duration": 40,
        "start_time": "2022-05-09T21:57:45.112Z"
      },
      {
        "duration": 202,
        "start_time": "2022-05-09T21:57:45.153Z"
      },
      {
        "duration": 6,
        "start_time": "2022-05-09T21:57:45.357Z"
      },
      {
        "duration": 92913,
        "start_time": "2022-05-09T21:57:51.883Z"
      },
      {
        "duration": 1914,
        "start_time": "2022-05-09T21:59:24.798Z"
      },
      {
        "duration": 39,
        "start_time": "2022-05-09T21:59:26.713Z"
      },
      {
        "duration": 6364,
        "start_time": "2022-05-09T21:59:26.754Z"
      },
      {
        "duration": 1505,
        "start_time": "2022-05-09T22:05:25.709Z"
      },
      {
        "duration": 3247,
        "start_time": "2022-05-09T22:05:27.215Z"
      },
      {
        "duration": 9,
        "start_time": "2022-05-09T22:05:30.464Z"
      },
      {
        "duration": 45,
        "start_time": "2022-05-09T22:05:30.475Z"
      },
      {
        "duration": 204,
        "start_time": "2022-05-09T22:05:30.522Z"
      },
      {
        "duration": 24,
        "start_time": "2022-05-09T22:05:30.727Z"
      },
      {
        "duration": 92778,
        "start_time": "2022-05-09T22:05:30.753Z"
      },
      {
        "duration": 1860,
        "start_time": "2022-05-09T22:07:03.533Z"
      },
      {
        "duration": 33,
        "start_time": "2022-05-09T22:07:05.394Z"
      },
      {
        "duration": 6160,
        "start_time": "2022-05-09T22:07:05.430Z"
      },
      {
        "duration": 1482,
        "start_time": "2022-05-09T22:10:15.491Z"
      },
      {
        "duration": 2106,
        "start_time": "2022-05-09T22:10:16.975Z"
      },
      {
        "duration": 10,
        "start_time": "2022-05-09T22:10:19.084Z"
      },
      {
        "duration": 52,
        "start_time": "2022-05-09T22:10:19.097Z"
      },
      {
        "duration": 217,
        "start_time": "2022-05-09T22:10:19.151Z"
      },
      {
        "duration": 7,
        "start_time": "2022-05-09T22:10:19.370Z"
      },
      {
        "duration": 93127,
        "start_time": "2022-05-09T22:10:19.379Z"
      },
      {
        "duration": 1961,
        "start_time": "2022-05-09T22:11:52.507Z"
      },
      {
        "duration": 33,
        "start_time": "2022-05-09T22:11:54.470Z"
      },
      {
        "duration": 6136,
        "start_time": "2022-05-09T22:11:54.505Z"
      },
      {
        "duration": 201,
        "start_time": "2022-05-09T22:12:00.647Z"
      },
      {
        "duration": 31,
        "start_time": "2022-05-09T22:12:00.850Z"
      },
      {
        "duration": 1480,
        "start_time": "2022-05-09T22:15:34.348Z"
      },
      {
        "duration": 2961,
        "start_time": "2022-05-09T22:15:35.830Z"
      },
      {
        "duration": 9,
        "start_time": "2022-05-09T22:15:38.792Z"
      },
      {
        "duration": 40,
        "start_time": "2022-05-09T22:15:38.803Z"
      },
      {
        "duration": 187,
        "start_time": "2022-05-09T22:15:38.844Z"
      },
      {
        "duration": 19,
        "start_time": "2022-05-09T22:15:39.033Z"
      },
      {
        "duration": 100535,
        "start_time": "2022-05-09T22:15:40.812Z"
      },
      {
        "duration": 1918,
        "start_time": "2022-05-09T22:17:21.349Z"
      },
      {
        "duration": 35,
        "start_time": "2022-05-09T22:17:23.269Z"
      },
      {
        "duration": 6328,
        "start_time": "2022-05-09T22:17:23.306Z"
      },
      {
        "duration": 2474,
        "start_time": "2022-05-10T08:46:07.972Z"
      },
      {
        "duration": 1052,
        "start_time": "2022-05-10T08:46:10.449Z"
      },
      {
        "duration": 14,
        "start_time": "2022-05-10T08:46:11.503Z"
      },
      {
        "duration": 68,
        "start_time": "2022-05-10T08:46:11.520Z"
      },
      {
        "duration": 288,
        "start_time": "2022-05-10T08:46:12.325Z"
      },
      {
        "duration": 11,
        "start_time": "2022-05-10T08:46:14.149Z"
      },
      {
        "duration": 158809,
        "start_time": "2022-05-10T08:46:17.700Z"
      },
      {
        "duration": 2440,
        "start_time": "2022-05-10T08:48:56.513Z"
      },
      {
        "duration": 49,
        "start_time": "2022-05-10T08:48:58.955Z"
      },
      {
        "duration": 11353,
        "start_time": "2022-05-10T08:51:30.863Z"
      },
      {
        "duration": 140328,
        "start_time": "2022-05-10T08:52:05.535Z"
      },
      {
        "duration": 129893,
        "start_time": "2022-05-10T08:58:56.081Z"
      },
      {
        "duration": 35,
        "start_time": "2022-05-10T09:01:34.988Z"
      },
      {
        "duration": 10,
        "start_time": "2022-05-10T09:01:37.455Z"
      },
      {
        "duration": 2256,
        "start_time": "2022-05-10T09:26:16.218Z"
      },
      {
        "duration": 1066,
        "start_time": "2022-05-10T09:26:19.540Z"
      },
      {
        "duration": 14,
        "start_time": "2022-05-10T09:26:20.609Z"
      },
      {
        "duration": 66,
        "start_time": "2022-05-10T09:26:20.625Z"
      },
      {
        "duration": 376,
        "start_time": "2022-05-10T09:26:20.694Z"
      },
      {
        "duration": 15,
        "start_time": "2022-05-10T09:26:21.099Z"
      },
      {
        "duration": 167963,
        "start_time": "2022-05-10T09:26:22.483Z"
      },
      {
        "duration": 2399,
        "start_time": "2022-05-10T09:29:10.452Z"
      },
      {
        "duration": 34,
        "start_time": "2022-05-10T09:29:12.854Z"
      },
      {
        "duration": 9873,
        "start_time": "2022-05-10T09:29:12.891Z"
      },
      {
        "duration": 132500,
        "start_time": "2022-05-10T09:29:22.766Z"
      },
      {
        "duration": 6,
        "start_time": "2022-05-10T09:31:35.269Z"
      },
      {
        "duration": 241,
        "start_time": "2022-05-10T09:31:35.277Z"
      },
      {
        "duration": 0,
        "start_time": "2022-05-10T09:31:35.520Z"
      },
      {
        "duration": 0,
        "start_time": "2022-05-10T09:31:35.523Z"
      },
      {
        "duration": 0,
        "start_time": "2022-05-10T09:31:35.525Z"
      },
      {
        "duration": 0,
        "start_time": "2022-05-10T09:31:35.528Z"
      },
      {
        "duration": 45,
        "start_time": "2022-05-10T09:46:27.689Z"
      },
      {
        "duration": 6,
        "start_time": "2022-05-10T09:47:08.638Z"
      },
      {
        "duration": 4,
        "start_time": "2022-05-10T09:47:44.979Z"
      },
      {
        "duration": 7,
        "start_time": "2022-05-10T09:47:58.448Z"
      },
      {
        "duration": 2619,
        "start_time": "2022-05-10T09:48:10.226Z"
      },
      {
        "duration": 2332,
        "start_time": "2022-05-10T09:48:28.614Z"
      },
      {
        "duration": 1153,
        "start_time": "2022-05-10T09:48:30.951Z"
      },
      {
        "duration": 15,
        "start_time": "2022-05-10T09:48:32.106Z"
      },
      {
        "duration": 75,
        "start_time": "2022-05-10T09:48:32.123Z"
      },
      {
        "duration": 306,
        "start_time": "2022-05-10T09:48:32.200Z"
      },
      {
        "duration": 11,
        "start_time": "2022-05-10T09:48:32.509Z"
      },
      {
        "duration": 166677,
        "start_time": "2022-05-10T09:48:32.522Z"
      },
      {
        "duration": 3078,
        "start_time": "2022-05-10T09:51:19.204Z"
      },
      {
        "duration": 67,
        "start_time": "2022-05-10T09:51:22.285Z"
      },
      {
        "duration": 17770,
        "start_time": "2022-05-10T09:51:22.355Z"
      },
      {
        "duration": 8343,
        "start_time": "2022-05-10T09:54:10.593Z"
      },
      {
        "duration": 17,
        "start_time": "2022-05-10T09:54:20.292Z"
      },
      {
        "duration": 2283,
        "start_time": "2022-05-10T10:02:53.260Z"
      },
      {
        "duration": 1069,
        "start_time": "2022-05-10T10:02:55.546Z"
      },
      {
        "duration": 15,
        "start_time": "2022-05-10T10:02:56.618Z"
      },
      {
        "duration": 54,
        "start_time": "2022-05-10T10:02:56.653Z"
      },
      {
        "duration": 316,
        "start_time": "2022-05-10T10:02:56.710Z"
      },
      {
        "duration": 12,
        "start_time": "2022-05-10T10:02:57.028Z"
      },
      {
        "duration": 176584,
        "start_time": "2022-05-10T10:02:57.052Z"
      },
      {
        "duration": 2340,
        "start_time": "2022-05-10T10:05:53.639Z"
      },
      {
        "duration": 38,
        "start_time": "2022-05-10T10:05:55.982Z"
      },
      {
        "duration": 10011,
        "start_time": "2022-05-10T10:05:56.023Z"
      },
      {
        "duration": 130538,
        "start_time": "2022-05-10T10:06:06.036Z"
      },
      {
        "duration": 5,
        "start_time": "2022-05-10T10:08:16.577Z"
      },
      {
        "duration": 111,
        "start_time": "2022-05-10T10:08:16.584Z"
      },
      {
        "duration": 190,
        "start_time": "2022-05-10T10:12:26.015Z"
      },
      {
        "duration": 2230,
        "start_time": "2022-05-10T10:15:48.662Z"
      },
      {
        "duration": 1269,
        "start_time": "2022-05-10T10:15:50.894Z"
      },
      {
        "duration": 14,
        "start_time": "2022-05-10T10:15:52.165Z"
      },
      {
        "duration": 72,
        "start_time": "2022-05-10T10:15:52.182Z"
      },
      {
        "duration": 295,
        "start_time": "2022-05-10T10:15:52.256Z"
      },
      {
        "duration": 11,
        "start_time": "2022-05-10T10:15:52.554Z"
      },
      {
        "duration": 156734,
        "start_time": "2022-05-10T10:15:52.567Z"
      },
      {
        "duration": 2427,
        "start_time": "2022-05-10T10:18:29.303Z"
      },
      {
        "duration": 50,
        "start_time": "2022-05-10T10:18:31.733Z"
      },
      {
        "duration": 10110,
        "start_time": "2022-05-10T10:18:31.786Z"
      },
      {
        "duration": 2259,
        "start_time": "2022-05-10T11:19:08.218Z"
      },
      {
        "duration": 1034,
        "start_time": "2022-05-10T11:19:13.364Z"
      },
      {
        "duration": 13,
        "start_time": "2022-05-10T11:19:14.401Z"
      },
      {
        "duration": 60,
        "start_time": "2022-05-10T11:19:14.417Z"
      },
      {
        "duration": 375,
        "start_time": "2022-05-10T11:19:14.480Z"
      },
      {
        "duration": 14,
        "start_time": "2022-05-10T11:19:14.913Z"
      },
      {
        "duration": 156414,
        "start_time": "2022-05-10T11:19:15.695Z"
      },
      {
        "duration": 42,
        "start_time": "2022-05-10T11:21:52.112Z"
      },
      {
        "duration": 10715,
        "start_time": "2022-05-10T11:21:52.156Z"
      },
      {
        "duration": 136081,
        "start_time": "2022-05-10T11:22:02.874Z"
      },
      {
        "duration": 6,
        "start_time": "2022-05-10T11:24:18.957Z"
      },
      {
        "duration": 35,
        "start_time": "2022-05-10T11:26:06.652Z"
      },
      {
        "duration": 10054,
        "start_time": "2022-05-10T11:26:07.027Z"
      },
      {
        "duration": 133678,
        "start_time": "2022-05-10T11:26:17.084Z"
      },
      {
        "duration": 6,
        "start_time": "2022-05-10T11:28:30.765Z"
      },
      {
        "duration": 103,
        "start_time": "2022-05-10T11:28:30.773Z"
      },
      {
        "duration": 6986,
        "start_time": "2022-05-10T11:29:49.137Z"
      },
      {
        "duration": 117832,
        "start_time": "2022-05-10T11:29:59.644Z"
      },
      {
        "duration": 6,
        "start_time": "2022-05-10T11:39:33.668Z"
      },
      {
        "duration": 195,
        "start_time": "2022-05-10T11:39:36.441Z"
      },
      {
        "duration": 113,
        "start_time": "2022-05-10T11:41:05.508Z"
      },
      {
        "duration": 72,
        "start_time": "2022-05-10T11:42:43.310Z"
      },
      {
        "duration": 2746,
        "start_time": "2022-05-10T11:43:00.106Z"
      },
      {
        "duration": 1031,
        "start_time": "2022-05-10T11:43:02.854Z"
      },
      {
        "duration": 14,
        "start_time": "2022-05-10T11:43:03.887Z"
      },
      {
        "duration": 79,
        "start_time": "2022-05-10T11:43:03.904Z"
      },
      {
        "duration": 303,
        "start_time": "2022-05-10T11:43:03.985Z"
      },
      {
        "duration": 12,
        "start_time": "2022-05-10T11:43:04.291Z"
      },
      {
        "duration": 34654,
        "start_time": "2022-05-10T11:43:04.306Z"
      },
      {
        "duration": 0,
        "start_time": "2022-05-10T11:43:38.963Z"
      },
      {
        "duration": 0,
        "start_time": "2022-05-10T11:43:38.965Z"
      },
      {
        "duration": 0,
        "start_time": "2022-05-10T11:43:38.967Z"
      },
      {
        "duration": 0,
        "start_time": "2022-05-10T11:43:38.969Z"
      },
      {
        "duration": 0,
        "start_time": "2022-05-10T11:43:38.970Z"
      },
      {
        "duration": 0,
        "start_time": "2022-05-10T11:43:38.972Z"
      },
      {
        "duration": 0,
        "start_time": "2022-05-10T11:43:38.973Z"
      },
      {
        "duration": 0,
        "start_time": "2022-05-10T11:43:38.975Z"
      },
      {
        "duration": 0,
        "start_time": "2022-05-10T11:43:38.977Z"
      },
      {
        "duration": 0,
        "start_time": "2022-05-10T11:43:38.979Z"
      },
      {
        "duration": 0,
        "start_time": "2022-05-10T11:43:38.981Z"
      },
      {
        "duration": 159893,
        "start_time": "2022-05-10T11:43:51.843Z"
      },
      {
        "duration": 42,
        "start_time": "2022-05-10T11:46:31.739Z"
      },
      {
        "duration": 10304,
        "start_time": "2022-05-10T11:46:31.783Z"
      },
      {
        "duration": 134874,
        "start_time": "2022-05-10T11:46:42.091Z"
      },
      {
        "duration": 5,
        "start_time": "2022-05-10T11:48:56.968Z"
      },
      {
        "duration": 108,
        "start_time": "2022-05-10T11:48:56.976Z"
      },
      {
        "duration": 16,
        "start_time": "2022-05-10T11:51:44.687Z"
      },
      {
        "duration": 8,
        "start_time": "2022-05-10T11:51:55.267Z"
      },
      {
        "duration": 93,
        "start_time": "2022-05-10T11:52:13.132Z"
      },
      {
        "duration": 8,
        "start_time": "2022-05-10T11:52:14.535Z"
      },
      {
        "duration": 9761,
        "start_time": "2022-05-10T11:52:38.606Z"
      },
      {
        "duration": 102,
        "start_time": "2022-05-10T11:52:48.369Z"
      },
      {
        "duration": 8,
        "start_time": "2022-05-10T11:52:49.702Z"
      },
      {
        "duration": 77,
        "start_time": "2022-05-10T11:52:53.716Z"
      },
      {
        "duration": 7,
        "start_time": "2022-05-10T11:52:54.840Z"
      },
      {
        "duration": 76,
        "start_time": "2022-05-10T11:52:59.391Z"
      },
      {
        "duration": 8,
        "start_time": "2022-05-10T11:53:00.020Z"
      },
      {
        "duration": 72,
        "start_time": "2022-05-10T11:53:03.599Z"
      },
      {
        "duration": 8,
        "start_time": "2022-05-10T11:53:04.705Z"
      },
      {
        "duration": 2277,
        "start_time": "2022-05-10T11:53:12.159Z"
      },
      {
        "duration": 41236,
        "start_time": "2022-05-10T11:53:18.718Z"
      },
      {
        "duration": 139,
        "start_time": "2022-05-10T12:09:06.433Z"
      },
      {
        "duration": 276157,
        "start_time": "2022-05-10T12:09:21.899Z"
      },
      {
        "duration": 5693,
        "start_time": "2022-05-10T12:22:56.340Z"
      },
      {
        "duration": 74,
        "start_time": "2022-05-10T12:24:46.182Z"
      },
      {
        "duration": 8,
        "start_time": "2022-05-10T12:24:47.573Z"
      },
      {
        "duration": 6355,
        "start_time": "2022-05-10T12:24:48.733Z"
      },
      {
        "duration": 3282,
        "start_time": "2022-05-10T12:25:02.383Z"
      },
      {
        "duration": 4960,
        "start_time": "2022-05-10T12:30:42.799Z"
      },
      {
        "duration": 190,
        "start_time": "2022-05-10T12:31:18.611Z"
      },
      {
        "duration": 171,
        "start_time": "2022-05-10T12:38:28.112Z"
      },
      {
        "duration": 81,
        "start_time": "2022-05-10T12:38:48.641Z"
      },
      {
        "duration": 152,
        "start_time": "2022-05-10T12:38:53.169Z"
      },
      {
        "duration": 137,
        "start_time": "2022-05-10T12:39:09.581Z"
      },
      {
        "duration": 11922,
        "start_time": "2022-05-10T12:39:12.542Z"
      },
      {
        "duration": 805107,
        "start_time": "2022-05-10T12:41:20.557Z"
      },
      {
        "duration": 1707,
        "start_time": "2022-05-10T17:59:08.685Z"
      },
      {
        "duration": 877,
        "start_time": "2022-05-10T17:59:10.394Z"
      },
      {
        "duration": 11,
        "start_time": "2022-05-10T17:59:11.272Z"
      },
      {
        "duration": 53,
        "start_time": "2022-05-10T17:59:11.285Z"
      },
      {
        "duration": 214,
        "start_time": "2022-05-10T17:59:11.340Z"
      },
      {
        "duration": 8,
        "start_time": "2022-05-10T17:59:11.555Z"
      },
      {
        "duration": 101081,
        "start_time": "2022-05-10T17:59:11.627Z"
      },
      {
        "duration": 39,
        "start_time": "2022-05-10T18:00:52.710Z"
      },
      {
        "duration": 7158,
        "start_time": "2022-05-10T18:00:52.751Z"
      },
      {
        "duration": 122235,
        "start_time": "2022-05-10T18:00:59.911Z"
      },
      {
        "duration": 31,
        "start_time": "2022-05-10T18:03:02.148Z"
      },
      {
        "duration": 161,
        "start_time": "2022-05-10T18:03:02.181Z"
      },
      {
        "duration": 0,
        "start_time": "2022-05-10T18:03:02.343Z"
      },
      {
        "duration": 1926,
        "start_time": "2022-05-10T19:00:00.673Z"
      },
      {
        "duration": 6,
        "start_time": "2022-05-10T19:00:04.774Z"
      },
      {
        "duration": 4,
        "start_time": "2022-05-10T19:03:22.003Z"
      },
      {
        "duration": 5,
        "start_time": "2022-05-10T19:03:34.007Z"
      },
      {
        "duration": 3695,
        "start_time": "2022-05-10T19:03:34.422Z"
      },
      {
        "duration": 8,
        "start_time": "2022-05-10T19:03:38.119Z"
      },
      {
        "duration": 42,
        "start_time": "2022-05-10T19:03:38.129Z"
      },
      {
        "duration": 142,
        "start_time": "2022-05-10T19:03:38.173Z"
      },
      {
        "duration": 17,
        "start_time": "2022-05-10T19:03:38.317Z"
      },
      {
        "duration": 103632,
        "start_time": "2022-05-10T19:03:38.336Z"
      },
      {
        "duration": 69,
        "start_time": "2022-05-10T19:05:21.971Z"
      },
      {
        "duration": 12643,
        "start_time": "2022-05-10T19:05:22.042Z"
      },
      {
        "duration": 119077,
        "start_time": "2022-05-10T19:06:07.267Z"
      },
      {
        "duration": 48,
        "start_time": "2022-05-10T19:09:31.890Z"
      },
      {
        "duration": 1963,
        "start_time": "2022-05-10T19:09:32.646Z"
      },
      {
        "duration": 6,
        "start_time": "2022-05-10T19:09:41.880Z"
      },
      {
        "duration": 5,
        "start_time": "2022-05-10T19:10:07.608Z"
      },
      {
        "duration": 44204,
        "start_time": "2022-05-10T19:11:00.332Z"
      },
      {
        "duration": 294555,
        "start_time": "2022-05-10T19:15:20.992Z"
      },
      {
        "duration": 36864,
        "start_time": "2022-05-10T19:22:20.077Z"
      },
      {
        "duration": 39185,
        "start_time": "2022-05-10T19:23:18.056Z"
      },
      {
        "duration": 951782,
        "start_time": "2022-05-10T19:45:34.565Z"
      },
      {
        "duration": 53510,
        "start_time": "2022-05-10T20:02:44.940Z"
      },
      {
        "duration": 79617,
        "start_time": "2022-05-10T20:04:54.835Z"
      },
      {
        "duration": 11,
        "start_time": "2022-05-10T20:07:15.203Z"
      },
      {
        "duration": 4,
        "start_time": "2022-05-10T20:07:50.076Z"
      },
      {
        "duration": 1621,
        "start_time": "2022-05-10T20:07:52.057Z"
      },
      {
        "duration": 3,
        "start_time": "2022-05-10T20:09:27.899Z"
      },
      {
        "duration": 4231961,
        "start_time": "2022-05-10T20:09:33.355Z"
      },
      {
        "duration": 4,
        "start_time": "2022-05-10T21:20:05.318Z"
      },
      {
        "duration": 21,
        "start_time": "2022-05-10T21:20:05.324Z"
      },
      {
        "duration": 560675,
        "start_time": "2022-05-11T05:38:05.683Z"
      },
      {
        "duration": 407,
        "start_time": "2022-05-11T05:47:43.421Z"
      },
      {
        "duration": 138903,
        "start_time": "2022-05-11T05:49:44.647Z"
      },
      {
        "duration": 412,
        "start_time": "2022-05-11T05:52:05.602Z"
      },
      {
        "duration": 139579,
        "start_time": "2022-05-11T05:52:42.302Z"
      },
      {
        "duration": 434,
        "start_time": "2022-05-11T05:55:01.884Z"
      },
      {
        "duration": 131722,
        "start_time": "2022-05-11T09:16:35.996Z"
      },
      {
        "duration": 433,
        "start_time": "2022-05-11T09:18:47.720Z"
      },
      {
        "duration": 533044,
        "start_time": "2022-05-11T09:19:23.882Z"
      },
      {
        "duration": 486,
        "start_time": "2022-05-11T09:28:16.928Z"
      },
      {
        "duration": 7,
        "start_time": "2022-05-11T14:25:32.329Z"
      },
      {
        "duration": 197,
        "start_time": "2022-05-11T14:26:12.490Z"
      },
      {
        "duration": 51812,
        "start_time": "2022-05-11T14:26:40.059Z"
      },
      {
        "duration": 6,
        "start_time": "2022-05-11T14:28:26.835Z"
      },
      {
        "duration": 117908,
        "start_time": "2022-05-11T14:28:31.393Z"
      },
      {
        "duration": 122741,
        "start_time": "2022-05-11T14:31:33.912Z"
      },
      {
        "duration": 120553,
        "start_time": "2022-05-11T14:34:06.898Z"
      },
      {
        "duration": 2292794,
        "start_time": "2022-05-11T15:10:47.646Z"
      },
      {
        "duration": 208042,
        "start_time": "2022-05-11T15:49:00.450Z"
      },
      {
        "duration": 548,
        "start_time": "2022-05-11T15:52:28.493Z"
      },
      {
        "duration": 127233,
        "start_time": "2022-05-11T15:55:57.712Z"
      },
      {
        "duration": 5,
        "start_time": "2022-05-11T15:58:04.950Z"
      },
      {
        "duration": 2880766,
        "start_time": "2022-05-11T15:58:04.957Z"
      },
      {
        "duration": 21,
        "start_time": "2022-05-11T16:46:05.725Z"
      },
      {
        "duration": 4,
        "start_time": "2022-05-11T16:46:05.747Z"
      },
      {
        "duration": 577466,
        "start_time": "2022-05-11T16:46:05.753Z"
      },
      {
        "duration": 467,
        "start_time": "2022-05-11T16:55:43.221Z"
      },
      {
        "duration": 11,
        "start_time": "2022-05-11T16:55:43.690Z"
      },
      {
        "duration": 693698,
        "start_time": "2022-05-11T16:55:43.702Z"
      },
      {
        "duration": 695976,
        "start_time": "2022-05-11T18:40:35.218Z"
      },
      {
        "duration": 148,
        "start_time": "2022-05-11T18:52:11.196Z"
      },
      {
        "duration": 273336,
        "start_time": "2022-05-11T19:05:10.807Z"
      },
      {
        "duration": 2672,
        "start_time": "2022-05-11T19:09:44.145Z"
      },
      {
        "duration": 11,
        "start_time": "2022-05-11T19:13:10.130Z"
      },
      {
        "duration": 707415,
        "start_time": "2022-05-11T19:19:29.976Z"
      },
      {
        "duration": 15,
        "start_time": "2022-05-11T19:49:20.067Z"
      },
      {
        "duration": 3063179,
        "start_time": "2022-05-11T19:49:20.329Z"
      },
      {
        "duration": 5,
        "start_time": "2022-05-11T20:42:41.600Z"
      },
      {
        "duration": 1758,
        "start_time": "2022-06-22T14:18:09.104Z"
      },
      {
        "duration": 3003,
        "start_time": "2022-06-22T14:18:15.705Z"
      },
      {
        "duration": 9,
        "start_time": "2022-06-22T14:18:22.255Z"
      },
      {
        "duration": 52,
        "start_time": "2022-06-22T14:18:23.808Z"
      },
      {
        "duration": 206,
        "start_time": "2022-06-22T14:18:24.510Z"
      },
      {
        "duration": 7,
        "start_time": "2022-06-22T14:18:24.939Z"
      },
      {
        "duration": 6284,
        "start_time": "2022-06-22T14:18:30.041Z"
      },
      {
        "duration": 31,
        "start_time": "2022-06-22T14:18:57.275Z"
      },
      {
        "duration": 10505,
        "start_time": "2022-06-22T14:18:58.382Z"
      },
      {
        "duration": 102751,
        "start_time": "2022-06-22T14:19:08.888Z"
      },
      {
        "duration": 90,
        "start_time": "2022-06-22T14:20:51.641Z"
      },
      {
        "duration": 1562,
        "start_time": "2022-06-22T14:20:51.733Z"
      },
      {
        "duration": 5,
        "start_time": "2022-06-22T14:20:53.297Z"
      },
      {
        "duration": 7,
        "start_time": "2022-06-22T14:20:53.303Z"
      },
      {
        "duration": 40828,
        "start_time": "2022-06-22T14:20:53.312Z"
      },
      {
        "duration": 104569,
        "start_time": "2022-06-22T14:21:34.142Z"
      },
      {
        "duration": 2143113,
        "start_time": "2022-06-22T14:23:18.712Z"
      },
      {
        "duration": 6,
        "start_time": "2022-06-22T14:59:01.828Z"
      },
      {
        "duration": 0,
        "start_time": "2022-06-22T14:59:01.835Z"
      },
      {
        "duration": 0,
        "start_time": "2022-06-22T14:59:01.837Z"
      },
      {
        "duration": 0,
        "start_time": "2022-06-22T14:59:01.838Z"
      },
      {
        "duration": 0,
        "start_time": "2022-06-22T14:59:01.840Z"
      },
      {
        "duration": 0,
        "start_time": "2022-06-22T14:59:01.841Z"
      },
      {
        "duration": 0,
        "start_time": "2022-06-22T14:59:01.842Z"
      },
      {
        "duration": 0,
        "start_time": "2022-06-22T14:59:01.843Z"
      },
      {
        "duration": 0,
        "start_time": "2022-06-22T14:59:01.844Z"
      },
      {
        "duration": 0,
        "start_time": "2022-06-22T14:59:01.845Z"
      },
      {
        "duration": 0,
        "start_time": "2022-06-22T14:59:01.926Z"
      },
      {
        "duration": 5,
        "start_time": "2022-06-22T15:58:40.044Z"
      },
      {
        "duration": 118861,
        "start_time": "2022-06-22T15:59:23.579Z"
      },
      {
        "duration": 3,
        "start_time": "2022-06-22T16:01:22.442Z"
      },
      {
        "duration": 2547274,
        "start_time": "2022-06-22T16:01:22.446Z"
      },
      {
        "duration": 5,
        "start_time": "2022-06-22T16:43:49.722Z"
      },
      {
        "duration": 31,
        "start_time": "2022-06-22T16:43:49.729Z"
      },
      {
        "duration": 496967,
        "start_time": "2022-06-22T16:43:49.761Z"
      },
      {
        "duration": 389,
        "start_time": "2022-06-22T16:52:06.732Z"
      },
      {
        "duration": 228371,
        "start_time": "2022-06-22T16:52:07.125Z"
      },
      {
        "duration": 2206,
        "start_time": "2022-06-22T16:55:55.498Z"
      },
      {
        "duration": 10,
        "start_time": "2022-06-22T16:55:57.706Z"
      },
      {
        "duration": 9,
        "start_time": "2022-06-22T17:13:29.487Z"
      },
      {
        "duration": 572298,
        "start_time": "2022-06-22T17:13:31.204Z"
      }
    ],
    "kernelspec": {
      "display_name": "Python 3 (ipykernel)",
      "language": "python",
      "name": "python3"
    },
    "language_info": {
      "codemirror_mode": {
        "name": "ipython",
        "version": 3
      },
      "file_extension": ".py",
      "mimetype": "text/x-python",
      "name": "python",
      "nbconvert_exporter": "python",
      "pygments_lexer": "ipython3",
      "version": "3.9.5"
    },
    "toc": {
      "base_numbering": 1,
      "nav_menu": {},
      "number_sections": true,
      "sideBar": true,
      "skip_h1_title": true,
      "title_cell": "Содержание",
      "title_sidebar": "Contents",
      "toc_cell": true,
      "toc_position": {
        "height": "calc(100% - 180px)",
        "left": "10px",
        "top": "150px",
        "width": "302.391px"
      },
      "toc_section_display": true,
      "toc_window_display": false
    },
    "colab": {
      "name": "ML_for_text_analysis.ipynb",
      "provenance": []
    }
  },
  "nbformat": 4,
  "nbformat_minor": 0
}