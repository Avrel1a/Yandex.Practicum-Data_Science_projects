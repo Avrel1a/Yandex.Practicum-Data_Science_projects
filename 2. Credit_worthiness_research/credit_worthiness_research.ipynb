{
 "cells": [
  {
   "cell_type": "markdown",
   "metadata": {},
   "source": [
    "# Исследование надёжности заёмщиков <a id='intro'></a>\n",
    "\n",
    "Заказчик — кредитный отдел банка. Нужно разобраться, влияет ли семейное положение и количество детей клиента на факт погашения кредита в срок. Входные данные от банка — статистика о платёжеспособности клиентов.\n",
    "\n",
    "Результаты исследования будут учтены при построении модели **кредитного скоринга** — специальной системы, которая оценивает способность потенциального заёмщика вернуть кредит банку.\n",
    "\n",
    "**Цель исследования** — проверить четыре гипотезы:\n",
    "\n",
    "1. Есть зависимость между количеством детей у заемщиков и возвратом кредита в срок. Скорее всего, можно будет проследить взаимосвязь и между количеством детей и возвратом кредита в срок, потому что, с одной стороны, наличие ребенка может свидетельствовать о высокой степени ответственности человека (заемщика), т.к. раз он осознанно (будем надеяться, что осознанно) решился взять ответственность не только за свою жизнь, но и за жизнь ребенка, он более рассудительно подходит к вопросу финансов. С другой стороны, большое количество детей создает очень большую финансовую нагрузку, в таком случае еще стоит смотреть на уровень дохода.\n",
    "\n",
    "2. Есть зависимость между семейным положением заемщика и возвратом кредита в срок. Несмотря на то, что создание семьи в наше время не требует особых усилий, есть стереотипное предположение о том, что у заемщиков, состоящих в браке выше вероятность возврата кредита в срок, т.к. наличие семьи опять же свидетельствует о более высоком уровне ответственности заемщика. Более того, не всегда, но есть такая вероятность, что наличие постоянного законного партнера у заемщика может снижать риск невозврата или несвоевременного возврата кредита за счет постоянного дохода такого партнера, в случае если заемщик потеряет работу или случится иной форс-мажор. \n",
    "\n",
    "3. Есть зависимость между уровнем дохода заемщика и возвратом кредита в срок. Чем выше уровень дохода, тем выше вероятность возврата кредита в срок. Хотя тут, возможно, нужно будет посмотреть не столько на общий уровень дохода заемщика, а на то, какая часть дохода у него ежемесячно уходит на погашение кредита, если эта часть составляет 1/3 и выше, то вероятность закрытия кредита в срок снижается.\n",
    "\n",
    "4. Возможно, есть взаимосвязь между целью кредита и возвратом кредита в срок. Крайне косвенно, но цель кредита может отражать уровень общей финансовой граммотности заемщика и его умения обращаться с собственным бюджетом, учитывать риски и т.д. Хотя мне кажется, что с помощью данных эту гипотезу доказать будет сложно, тем более, что обстоятельства и мотивы у людей бывают очень разные.\n",
    "\n",
    "**Ход исследования**\n",
    "\n",
    "Гипотезы мы уже выдвинули. Дальнейшая часть исследования пройдет в 3 этапа:\n",
    "\n",
    "- Обзор данных.\n",
    "- Предобработка данных.\n",
    "- Проверка гипотез.\n",
    "- Формулировка выводов."
   ]
  },
  {
   "cell_type": "markdown",
   "metadata": {},
   "source": [
    "## Шаг 1. Откройте файл с данными и изучите общую информацию <a id='step_1'></a>"
   ]
  },
  {
   "cell_type": "markdown",
   "metadata": {},
   "source": [
    "С помощью библиотеки pandas будем производить все действия с таблицами (а данные у нас представлены в таблице). Для этого ее ипортируем:"
   ]
  },
  {
   "cell_type": "code",
   "execution_count": 1,
   "metadata": {},
   "outputs": [],
   "source": [
    "# импортируем библиотеку pandas\n",
    "import pandas as pd"
   ]
  },
  {
   "cell_type": "markdown",
   "metadata": {},
   "source": [
    "Откроем таблицу с общей информацией по клиентам. Файл с таблицей `data.csv` хранится в папке `/datasets`. Таблицу сохраним в переменной `df`."
   ]
  },
  {
   "cell_type": "code",
   "execution_count": 2,
   "metadata": {},
   "outputs": [],
   "source": [
    "# чтение файла с данными и сохранение в переменную df\n",
    "df = pd.read_csv('/datasets/data.csv')"
   ]
  },
  {
   "cell_type": "markdown",
   "metadata": {},
   "source": [
    "Выведем на экран первые 10 строк таблицы, чтобы визуально ознакомиться с наименованиями столбцов и значениями в ячейках."
   ]
  },
  {
   "cell_type": "code",
   "execution_count": 3,
   "metadata": {},
   "outputs": [
    {
     "data": {
      "text/html": [
       "<div>\n",
       "<style scoped>\n",
       "    .dataframe tbody tr th:only-of-type {\n",
       "        vertical-align: middle;\n",
       "    }\n",
       "\n",
       "    .dataframe tbody tr th {\n",
       "        vertical-align: top;\n",
       "    }\n",
       "\n",
       "    .dataframe thead th {\n",
       "        text-align: right;\n",
       "    }\n",
       "</style>\n",
       "<table border=\"1\" class=\"dataframe\">\n",
       "  <thead>\n",
       "    <tr style=\"text-align: right;\">\n",
       "      <th></th>\n",
       "      <th>children</th>\n",
       "      <th>days_employed</th>\n",
       "      <th>dob_years</th>\n",
       "      <th>education</th>\n",
       "      <th>education_id</th>\n",
       "      <th>family_status</th>\n",
       "      <th>family_status_id</th>\n",
       "      <th>gender</th>\n",
       "      <th>income_type</th>\n",
       "      <th>debt</th>\n",
       "      <th>total_income</th>\n",
       "      <th>purpose</th>\n",
       "    </tr>\n",
       "  </thead>\n",
       "  <tbody>\n",
       "    <tr>\n",
       "      <th>0</th>\n",
       "      <td>1</td>\n",
       "      <td>-8437.673028</td>\n",
       "      <td>42</td>\n",
       "      <td>высшее</td>\n",
       "      <td>0</td>\n",
       "      <td>женат / замужем</td>\n",
       "      <td>0</td>\n",
       "      <td>F</td>\n",
       "      <td>сотрудник</td>\n",
       "      <td>0</td>\n",
       "      <td>253875.639453</td>\n",
       "      <td>покупка жилья</td>\n",
       "    </tr>\n",
       "    <tr>\n",
       "      <th>1</th>\n",
       "      <td>1</td>\n",
       "      <td>-4024.803754</td>\n",
       "      <td>36</td>\n",
       "      <td>среднее</td>\n",
       "      <td>1</td>\n",
       "      <td>женат / замужем</td>\n",
       "      <td>0</td>\n",
       "      <td>F</td>\n",
       "      <td>сотрудник</td>\n",
       "      <td>0</td>\n",
       "      <td>112080.014102</td>\n",
       "      <td>приобретение автомобиля</td>\n",
       "    </tr>\n",
       "    <tr>\n",
       "      <th>2</th>\n",
       "      <td>0</td>\n",
       "      <td>-5623.422610</td>\n",
       "      <td>33</td>\n",
       "      <td>Среднее</td>\n",
       "      <td>1</td>\n",
       "      <td>женат / замужем</td>\n",
       "      <td>0</td>\n",
       "      <td>M</td>\n",
       "      <td>сотрудник</td>\n",
       "      <td>0</td>\n",
       "      <td>145885.952297</td>\n",
       "      <td>покупка жилья</td>\n",
       "    </tr>\n",
       "    <tr>\n",
       "      <th>3</th>\n",
       "      <td>3</td>\n",
       "      <td>-4124.747207</td>\n",
       "      <td>32</td>\n",
       "      <td>среднее</td>\n",
       "      <td>1</td>\n",
       "      <td>женат / замужем</td>\n",
       "      <td>0</td>\n",
       "      <td>M</td>\n",
       "      <td>сотрудник</td>\n",
       "      <td>0</td>\n",
       "      <td>267628.550329</td>\n",
       "      <td>дополнительное образование</td>\n",
       "    </tr>\n",
       "    <tr>\n",
       "      <th>4</th>\n",
       "      <td>0</td>\n",
       "      <td>340266.072047</td>\n",
       "      <td>53</td>\n",
       "      <td>среднее</td>\n",
       "      <td>1</td>\n",
       "      <td>гражданский брак</td>\n",
       "      <td>1</td>\n",
       "      <td>F</td>\n",
       "      <td>пенсионер</td>\n",
       "      <td>0</td>\n",
       "      <td>158616.077870</td>\n",
       "      <td>сыграть свадьбу</td>\n",
       "    </tr>\n",
       "    <tr>\n",
       "      <th>5</th>\n",
       "      <td>0</td>\n",
       "      <td>-926.185831</td>\n",
       "      <td>27</td>\n",
       "      <td>высшее</td>\n",
       "      <td>0</td>\n",
       "      <td>гражданский брак</td>\n",
       "      <td>1</td>\n",
       "      <td>M</td>\n",
       "      <td>компаньон</td>\n",
       "      <td>0</td>\n",
       "      <td>255763.565419</td>\n",
       "      <td>покупка жилья</td>\n",
       "    </tr>\n",
       "    <tr>\n",
       "      <th>6</th>\n",
       "      <td>0</td>\n",
       "      <td>-2879.202052</td>\n",
       "      <td>43</td>\n",
       "      <td>высшее</td>\n",
       "      <td>0</td>\n",
       "      <td>женат / замужем</td>\n",
       "      <td>0</td>\n",
       "      <td>F</td>\n",
       "      <td>компаньон</td>\n",
       "      <td>0</td>\n",
       "      <td>240525.971920</td>\n",
       "      <td>операции с жильем</td>\n",
       "    </tr>\n",
       "    <tr>\n",
       "      <th>7</th>\n",
       "      <td>0</td>\n",
       "      <td>-152.779569</td>\n",
       "      <td>50</td>\n",
       "      <td>СРЕДНЕЕ</td>\n",
       "      <td>1</td>\n",
       "      <td>женат / замужем</td>\n",
       "      <td>0</td>\n",
       "      <td>M</td>\n",
       "      <td>сотрудник</td>\n",
       "      <td>0</td>\n",
       "      <td>135823.934197</td>\n",
       "      <td>образование</td>\n",
       "    </tr>\n",
       "    <tr>\n",
       "      <th>8</th>\n",
       "      <td>2</td>\n",
       "      <td>-6929.865299</td>\n",
       "      <td>35</td>\n",
       "      <td>ВЫСШЕЕ</td>\n",
       "      <td>0</td>\n",
       "      <td>гражданский брак</td>\n",
       "      <td>1</td>\n",
       "      <td>F</td>\n",
       "      <td>сотрудник</td>\n",
       "      <td>0</td>\n",
       "      <td>95856.832424</td>\n",
       "      <td>на проведение свадьбы</td>\n",
       "    </tr>\n",
       "    <tr>\n",
       "      <th>9</th>\n",
       "      <td>0</td>\n",
       "      <td>-2188.756445</td>\n",
       "      <td>41</td>\n",
       "      <td>среднее</td>\n",
       "      <td>1</td>\n",
       "      <td>женат / замужем</td>\n",
       "      <td>0</td>\n",
       "      <td>M</td>\n",
       "      <td>сотрудник</td>\n",
       "      <td>0</td>\n",
       "      <td>144425.938277</td>\n",
       "      <td>покупка жилья для семьи</td>\n",
       "    </tr>\n",
       "  </tbody>\n",
       "</table>\n",
       "</div>"
      ],
      "text/plain": [
       "   children  days_employed  dob_years education  education_id  \\\n",
       "0         1   -8437.673028         42    высшее             0   \n",
       "1         1   -4024.803754         36   среднее             1   \n",
       "2         0   -5623.422610         33   Среднее             1   \n",
       "3         3   -4124.747207         32   среднее             1   \n",
       "4         0  340266.072047         53   среднее             1   \n",
       "5         0    -926.185831         27    высшее             0   \n",
       "6         0   -2879.202052         43    высшее             0   \n",
       "7         0    -152.779569         50   СРЕДНЕЕ             1   \n",
       "8         2   -6929.865299         35    ВЫСШЕЕ             0   \n",
       "9         0   -2188.756445         41   среднее             1   \n",
       "\n",
       "      family_status  family_status_id gender income_type  debt   total_income  \\\n",
       "0   женат / замужем                 0      F   сотрудник     0  253875.639453   \n",
       "1   женат / замужем                 0      F   сотрудник     0  112080.014102   \n",
       "2   женат / замужем                 0      M   сотрудник     0  145885.952297   \n",
       "3   женат / замужем                 0      M   сотрудник     0  267628.550329   \n",
       "4  гражданский брак                 1      F   пенсионер     0  158616.077870   \n",
       "5  гражданский брак                 1      M   компаньон     0  255763.565419   \n",
       "6   женат / замужем                 0      F   компаньон     0  240525.971920   \n",
       "7   женат / замужем                 0      M   сотрудник     0  135823.934197   \n",
       "8  гражданский брак                 1      F   сотрудник     0   95856.832424   \n",
       "9   женат / замужем                 0      M   сотрудник     0  144425.938277   \n",
       "\n",
       "                      purpose  \n",
       "0               покупка жилья  \n",
       "1     приобретение автомобиля  \n",
       "2               покупка жилья  \n",
       "3  дополнительное образование  \n",
       "4             сыграть свадьбу  \n",
       "5               покупка жилья  \n",
       "6           операции с жильем  \n",
       "7                 образование  \n",
       "8       на проведение свадьбы  \n",
       "9     покупка жилья для семьи  "
      ]
     },
     "execution_count": 3,
     "metadata": {},
     "output_type": "execute_result"
    }
   ],
   "source": [
    "# получение первых 10 строк таблицы df\n",
    "df.head(10)"
   ]
  },
  {
   "cell_type": "markdown",
   "metadata": {},
   "source": [
    "Также посмотрим общую информацию о таблице и формате данных."
   ]
  },
  {
   "cell_type": "code",
   "execution_count": 4,
   "metadata": {},
   "outputs": [
    {
     "name": "stdout",
     "output_type": "stream",
     "text": [
      "<class 'pandas.core.frame.DataFrame'>\n",
      "RangeIndex: 21525 entries, 0 to 21524\n",
      "Data columns (total 12 columns):\n",
      " #   Column            Non-Null Count  Dtype  \n",
      "---  ------            --------------  -----  \n",
      " 0   children          21525 non-null  int64  \n",
      " 1   days_employed     19351 non-null  float64\n",
      " 2   dob_years         21525 non-null  int64  \n",
      " 3   education         21525 non-null  object \n",
      " 4   education_id      21525 non-null  int64  \n",
      " 5   family_status     21525 non-null  object \n",
      " 6   family_status_id  21525 non-null  int64  \n",
      " 7   gender            21525 non-null  object \n",
      " 8   income_type       21525 non-null  object \n",
      " 9   debt              21525 non-null  int64  \n",
      " 10  total_income      19351 non-null  float64\n",
      " 11  purpose           21525 non-null  object \n",
      "dtypes: float64(2), int64(5), object(5)\n",
      "memory usage: 2.0+ MB\n"
     ]
    }
   ],
   "source": [
    "# получение общей информации о данных в таблице df\n",
    "df.info()"
   ]
  },
  {
   "cell_type": "markdown",
   "metadata": {},
   "source": [
    "Итак, в таблице - двенадцать столбцов. \n",
    "\n",
    "Согласно документации к данным:\n",
    "\n",
    "* `children` — количество детей в семье\n",
    "* `days_employed` — общий трудовой стаж в днях\n",
    "* `dob_years` — возраст клиента в годах\n",
    "* `education` — уровень образования клиента\n",
    "* `education_id` — идентификатор уровня образования\n",
    "* `family_status` — семейное положение\n",
    "* `family_status_id` — идентификатор семейного положения\n",
    "* `gender` — пол клиента\n",
    "* `income_type` — тип занятости\n",
    "* `debt` — имел ли задолженность по возврату кредитов\n",
    "* `total_income` — ежемесячный доход\n",
    "* `purpose` — цель получения кредита\n",
    "\n",
    "В названиях колонок нарушений стиля не выявлено: нет ни лишних проблелов, ни нарушения регистра. А вот к значениям есть вопросы: уже по первым 10 строчкам видно, что некоторые категориальные значения прописаны разным регистром, а числовые данные имеют вещественный вид, что в данном случае неудобно для анализа.\n",
    "\n",
    "Количество значений в столбцах различается. Значит, в данных есть пропущенные значения."
   ]
  },
  {
   "cell_type": "markdown",
   "metadata": {},
   "source": [
    "**Вывод** <a id='Step_1_conclusion'></a>"
   ]
  },
  {
   "cell_type": "markdown",
   "metadata": {},
   "source": [
    "В каждой строке таблицы - информация о заемщике, его возрасте, доходе, семейном положении, образовании и т.д. Не все данные нам пригодятся для текущего анализа.\n",
    "\n",
    "Исходя из беглого обзора данных таблицы, требуется предобработка данных:\n",
    "- необходимо привести числовые данные к единому читаемому типу и формату;\n",
    "- исключать дубликаты;\n",
    "- исключить пропуски;\n",
    "- исключить артефакты (отрицательные значения в стаже работы);\n",
    "- и тд.\n",
    "\n",
    "Предварительно можно утверждать, что, данных достаточно для проверки гипотез, но чтобы двигаться дальше, нужно устранить проблемы в данных."
   ]
  },
  {
   "cell_type": "markdown",
   "metadata": {},
   "source": [
    "## Шаг 2. Предобработка данных"
   ]
  },
  {
   "cell_type": "markdown",
   "metadata": {},
   "source": [
    "### Обработка пропусков и изменение типа данных"
   ]
  },
  {
   "cell_type": "markdown",
   "metadata": {},
   "source": [
    "Посчитаем количество пропусков в данных."
   ]
  },
  {
   "cell_type": "code",
   "execution_count": 5,
   "metadata": {},
   "outputs": [
    {
     "data": {
      "text/plain": [
       "children               0\n",
       "days_employed       2174\n",
       "dob_years              0\n",
       "education              0\n",
       "education_id           0\n",
       "family_status          0\n",
       "family_status_id       0\n",
       "gender                 0\n",
       "income_type            0\n",
       "debt                   0\n",
       "total_income        2174\n",
       "purpose                0\n",
       "dtype: int64"
      ]
     },
     "execution_count": 5,
     "metadata": {},
     "output_type": "execute_result"
    }
   ],
   "source": [
    "# найдем количество пропусков с помощью методов pandas\n",
    "df.isna().sum()"
   ]
  },
  {
   "cell_type": "markdown",
   "metadata": {},
   "source": [
    "Как мы видим пропуски есть в столбце со стажем работы и общим доходом, данные там количественные и составляют 10% от всех данных таблицы, а значит их удаление может повлиять на результаты исследования.\n",
    "\n",
    "Столбец с трудовым стажем `days_employed` нам не нужен для опровержения или доказательства выдвинутых гипотез, но он может понадобиться для заполнения пропущенных значений в столбце `dob_years`.\n",
    "\n",
    "Но чтобы адекватно заполнить пропуски в столбце `days_employed`, следует очистить данные от артефактов и привести их в читаемый вид.\n",
    "\n",
    "Насчет причины появления артефактов в данных сказать сложно, но могу допускать, что при форматировании файла (предположительно из excel) используемые формулы для расчета стажа работы, дали отрицательные значения. Т.е. скорее всего ошибка носит технический характер."
   ]
  },
  {
   "cell_type": "code",
   "execution_count": 6,
   "metadata": {},
   "outputs": [],
   "source": [
    "# избавимся от отрицательных значений в столбце 'days_employed'\n",
    "df['days_employed'] = df['days_employed'].abs()"
   ]
  },
  {
   "cell_type": "code",
   "execution_count": 7,
   "metadata": {},
   "outputs": [
    {
     "data": {
      "text/html": [
       "<div>\n",
       "<style scoped>\n",
       "    .dataframe tbody tr th:only-of-type {\n",
       "        vertical-align: middle;\n",
       "    }\n",
       "\n",
       "    .dataframe tbody tr th {\n",
       "        vertical-align: top;\n",
       "    }\n",
       "\n",
       "    .dataframe thead th {\n",
       "        text-align: right;\n",
       "    }\n",
       "</style>\n",
       "<table border=\"1\" class=\"dataframe\">\n",
       "  <thead>\n",
       "    <tr style=\"text-align: right;\">\n",
       "      <th></th>\n",
       "      <th>children</th>\n",
       "      <th>days_employed</th>\n",
       "      <th>dob_years</th>\n",
       "      <th>education</th>\n",
       "      <th>education_id</th>\n",
       "      <th>family_status</th>\n",
       "      <th>family_status_id</th>\n",
       "      <th>gender</th>\n",
       "      <th>income_type</th>\n",
       "      <th>debt</th>\n",
       "      <th>total_income</th>\n",
       "      <th>purpose</th>\n",
       "    </tr>\n",
       "  </thead>\n",
       "  <tbody>\n",
       "    <tr>\n",
       "      <th>0</th>\n",
       "      <td>1</td>\n",
       "      <td>8437.673028</td>\n",
       "      <td>42</td>\n",
       "      <td>высшее</td>\n",
       "      <td>0</td>\n",
       "      <td>женат / замужем</td>\n",
       "      <td>0</td>\n",
       "      <td>F</td>\n",
       "      <td>сотрудник</td>\n",
       "      <td>0</td>\n",
       "      <td>253875.639453</td>\n",
       "      <td>покупка жилья</td>\n",
       "    </tr>\n",
       "    <tr>\n",
       "      <th>1</th>\n",
       "      <td>1</td>\n",
       "      <td>4024.803754</td>\n",
       "      <td>36</td>\n",
       "      <td>среднее</td>\n",
       "      <td>1</td>\n",
       "      <td>женат / замужем</td>\n",
       "      <td>0</td>\n",
       "      <td>F</td>\n",
       "      <td>сотрудник</td>\n",
       "      <td>0</td>\n",
       "      <td>112080.014102</td>\n",
       "      <td>приобретение автомобиля</td>\n",
       "    </tr>\n",
       "    <tr>\n",
       "      <th>2</th>\n",
       "      <td>0</td>\n",
       "      <td>5623.422610</td>\n",
       "      <td>33</td>\n",
       "      <td>Среднее</td>\n",
       "      <td>1</td>\n",
       "      <td>женат / замужем</td>\n",
       "      <td>0</td>\n",
       "      <td>M</td>\n",
       "      <td>сотрудник</td>\n",
       "      <td>0</td>\n",
       "      <td>145885.952297</td>\n",
       "      <td>покупка жилья</td>\n",
       "    </tr>\n",
       "    <tr>\n",
       "      <th>3</th>\n",
       "      <td>3</td>\n",
       "      <td>4124.747207</td>\n",
       "      <td>32</td>\n",
       "      <td>среднее</td>\n",
       "      <td>1</td>\n",
       "      <td>женат / замужем</td>\n",
       "      <td>0</td>\n",
       "      <td>M</td>\n",
       "      <td>сотрудник</td>\n",
       "      <td>0</td>\n",
       "      <td>267628.550329</td>\n",
       "      <td>дополнительное образование</td>\n",
       "    </tr>\n",
       "    <tr>\n",
       "      <th>4</th>\n",
       "      <td>0</td>\n",
       "      <td>340266.072047</td>\n",
       "      <td>53</td>\n",
       "      <td>среднее</td>\n",
       "      <td>1</td>\n",
       "      <td>гражданский брак</td>\n",
       "      <td>1</td>\n",
       "      <td>F</td>\n",
       "      <td>пенсионер</td>\n",
       "      <td>0</td>\n",
       "      <td>158616.077870</td>\n",
       "      <td>сыграть свадьбу</td>\n",
       "    </tr>\n",
       "    <tr>\n",
       "      <th>5</th>\n",
       "      <td>0</td>\n",
       "      <td>926.185831</td>\n",
       "      <td>27</td>\n",
       "      <td>высшее</td>\n",
       "      <td>0</td>\n",
       "      <td>гражданский брак</td>\n",
       "      <td>1</td>\n",
       "      <td>M</td>\n",
       "      <td>компаньон</td>\n",
       "      <td>0</td>\n",
       "      <td>255763.565419</td>\n",
       "      <td>покупка жилья</td>\n",
       "    </tr>\n",
       "    <tr>\n",
       "      <th>6</th>\n",
       "      <td>0</td>\n",
       "      <td>2879.202052</td>\n",
       "      <td>43</td>\n",
       "      <td>высшее</td>\n",
       "      <td>0</td>\n",
       "      <td>женат / замужем</td>\n",
       "      <td>0</td>\n",
       "      <td>F</td>\n",
       "      <td>компаньон</td>\n",
       "      <td>0</td>\n",
       "      <td>240525.971920</td>\n",
       "      <td>операции с жильем</td>\n",
       "    </tr>\n",
       "    <tr>\n",
       "      <th>7</th>\n",
       "      <td>0</td>\n",
       "      <td>152.779569</td>\n",
       "      <td>50</td>\n",
       "      <td>СРЕДНЕЕ</td>\n",
       "      <td>1</td>\n",
       "      <td>женат / замужем</td>\n",
       "      <td>0</td>\n",
       "      <td>M</td>\n",
       "      <td>сотрудник</td>\n",
       "      <td>0</td>\n",
       "      <td>135823.934197</td>\n",
       "      <td>образование</td>\n",
       "    </tr>\n",
       "    <tr>\n",
       "      <th>8</th>\n",
       "      <td>2</td>\n",
       "      <td>6929.865299</td>\n",
       "      <td>35</td>\n",
       "      <td>ВЫСШЕЕ</td>\n",
       "      <td>0</td>\n",
       "      <td>гражданский брак</td>\n",
       "      <td>1</td>\n",
       "      <td>F</td>\n",
       "      <td>сотрудник</td>\n",
       "      <td>0</td>\n",
       "      <td>95856.832424</td>\n",
       "      <td>на проведение свадьбы</td>\n",
       "    </tr>\n",
       "    <tr>\n",
       "      <th>9</th>\n",
       "      <td>0</td>\n",
       "      <td>2188.756445</td>\n",
       "      <td>41</td>\n",
       "      <td>среднее</td>\n",
       "      <td>1</td>\n",
       "      <td>женат / замужем</td>\n",
       "      <td>0</td>\n",
       "      <td>M</td>\n",
       "      <td>сотрудник</td>\n",
       "      <td>0</td>\n",
       "      <td>144425.938277</td>\n",
       "      <td>покупка жилья для семьи</td>\n",
       "    </tr>\n",
       "  </tbody>\n",
       "</table>\n",
       "</div>"
      ],
      "text/plain": [
       "   children  days_employed  dob_years education  education_id  \\\n",
       "0         1    8437.673028         42    высшее             0   \n",
       "1         1    4024.803754         36   среднее             1   \n",
       "2         0    5623.422610         33   Среднее             1   \n",
       "3         3    4124.747207         32   среднее             1   \n",
       "4         0  340266.072047         53   среднее             1   \n",
       "5         0     926.185831         27    высшее             0   \n",
       "6         0    2879.202052         43    высшее             0   \n",
       "7         0     152.779569         50   СРЕДНЕЕ             1   \n",
       "8         2    6929.865299         35    ВЫСШЕЕ             0   \n",
       "9         0    2188.756445         41   среднее             1   \n",
       "\n",
       "      family_status  family_status_id gender income_type  debt   total_income  \\\n",
       "0   женат / замужем                 0      F   сотрудник     0  253875.639453   \n",
       "1   женат / замужем                 0      F   сотрудник     0  112080.014102   \n",
       "2   женат / замужем                 0      M   сотрудник     0  145885.952297   \n",
       "3   женат / замужем                 0      M   сотрудник     0  267628.550329   \n",
       "4  гражданский брак                 1      F   пенсионер     0  158616.077870   \n",
       "5  гражданский брак                 1      M   компаньон     0  255763.565419   \n",
       "6   женат / замужем                 0      F   компаньон     0  240525.971920   \n",
       "7   женат / замужем                 0      M   сотрудник     0  135823.934197   \n",
       "8  гражданский брак                 1      F   сотрудник     0   95856.832424   \n",
       "9   женат / замужем                 0      M   сотрудник     0  144425.938277   \n",
       "\n",
       "                      purpose  \n",
       "0               покупка жилья  \n",
       "1     приобретение автомобиля  \n",
       "2               покупка жилья  \n",
       "3  дополнительное образование  \n",
       "4             сыграть свадьбу  \n",
       "5               покупка жилья  \n",
       "6           операции с жильем  \n",
       "7                 образование  \n",
       "8       на проведение свадьбы  \n",
       "9     покупка жилья для семьи  "
      ]
     },
     "execution_count": 7,
     "metadata": {},
     "output_type": "execute_result"
    }
   ],
   "source": [
    "# выведем еще раз первые строки таблицы, чтобы убедиться, что отрицательных значений нет\n",
    "df.head(10)"
   ]
  },
  {
   "cell_type": "markdown",
   "metadata": {},
   "source": [
    "Артефактов больше нет."
   ]
  },
  {
   "cell_type": "markdown",
   "metadata": {},
   "source": [
    "Данные в столбце `days_employed` представляют собой вещественные числовые данные, с которым, во-первых, не очень удобно работать, во-вторых, в рамках данного исследования нас не особо интересует та часть, которая идет после запятой, поэтому предлагаем сразу привести значения столбца к типу  'int', заменив пропуски на 0.\n",
    "\n",
    "Мы можем без зазрения совести заменить пропущенные значения на ноль, т.к. для дальнейшего исследования данные столбца `days_employed` нам не понадобятся."
   ]
  },
  {
   "cell_type": "code",
   "execution_count": 9,
   "metadata": {},
   "outputs": [],
   "source": [
    "# заполняем пропуски столбца 'days_employed' на 0\n",
    "df['days_employed'] = df['days_employed'].fillna(0)"
   ]
  },
  {
   "cell_type": "code",
   "execution_count": 10,
   "metadata": {},
   "outputs": [],
   "source": [
    "# переводим float в int\n",
    "df['days_employed'] = df['days_employed'].astype('int')"
   ]
  },
  {
   "cell_type": "markdown",
   "metadata": {},
   "source": [
    "Выбрали именно метод .astype('int), т.к. во-первых, мы имеем дело с данными float, во-вторых, нас в рамках проекта не интересуют значения после запятой, а так значения по-умолчанию округляются до целых."
   ]
  },
  {
   "cell_type": "code",
   "execution_count": 11,
   "metadata": {},
   "outputs": [
    {
     "data": {
      "text/plain": [
       "<AxesSubplot:xlabel='dob_years', ylabel='days_employed'>"
      ]
     },
     "execution_count": 11,
     "metadata": {},
     "output_type": "execute_result"
    },
    {
     "data": {
      "image/png": "[encoded data removed]",
      "text/plain": [
       "<Figure size 1800x720 with 1 Axes>"
      ]
     },
     "metadata": {},
     "output_type": "display_data"
    }
   ],
   "source": [
    "# построим столбчатую диаграмму, на которой по оси X отмечен возраст заемщиков, а по оси Y - трудовой стаж\n",
    "import seaborn\n",
    "seaborn.set(rc={'figure.figsize':(25,10)})\n",
    "seaborn.barplot(x = df['dob_years'] , y = df['days_employed'])"
   ]
  },
  {
   "cell_type": "markdown",
   "metadata": {},
   "source": [
    "По графику мы видим, что у нас присутствуют нереалистичные данные не только в столбце со стажем работы, но и с возрастом заемщиков, т.к. есть отметка возраста равная нулю.\n",
    "Проверим, есть ли в столбце с возрастом заемщиков еще значения меньше 18 лет (мы предполагаем, что кредит может взять только совершеннолетний гражданин)."
   ]
  },
  {
   "cell_type": "code",
   "execution_count": 12,
   "metadata": {},
   "outputs": [
    {
     "data": {
      "text/plain": [
       "[0,\n",
       " 19,\n",
       " 20,\n",
       " 21,\n",
       " 22,\n",
       " 23,\n",
       " 24,\n",
       " 25,\n",
       " 26,\n",
       " 27,\n",
       " 28,\n",
       " 29,\n",
       " 30,\n",
       " 31,\n",
       " 32,\n",
       " 33,\n",
       " 34,\n",
       " 35,\n",
       " 36,\n",
       " 37,\n",
       " 38,\n",
       " 39,\n",
       " 40,\n",
       " 41,\n",
       " 42,\n",
       " 43,\n",
       " 44,\n",
       " 45,\n",
       " 46,\n",
       " 47,\n",
       " 48,\n",
       " 49,\n",
       " 50,\n",
       " 51,\n",
       " 52,\n",
       " 53,\n",
       " 54,\n",
       " 55,\n",
       " 56,\n",
       " 57,\n",
       " 58,\n",
       " 59,\n",
       " 60,\n",
       " 61,\n",
       " 62,\n",
       " 63,\n",
       " 64,\n",
       " 65,\n",
       " 66,\n",
       " 67,\n",
       " 68,\n",
       " 69,\n",
       " 70,\n",
       " 71,\n",
       " 72,\n",
       " 73,\n",
       " 74,\n",
       " 75]"
      ]
     },
     "execution_count": 12,
     "metadata": {},
     "output_type": "execute_result"
    }
   ],
   "source": [
    "# находим уникальные значения столбца 'dob_years'\n",
    "sorted(df['dob_years'].unique())"
   ]
  },
  {
   "cell_type": "code",
   "execution_count": 13,
   "metadata": {},
   "outputs": [
    {
     "data": {
      "text/html": [
       "<div>\n",
       "<style scoped>\n",
       "    .dataframe tbody tr th:only-of-type {\n",
       "        vertical-align: middle;\n",
       "    }\n",
       "\n",
       "    .dataframe tbody tr th {\n",
       "        vertical-align: top;\n",
       "    }\n",
       "\n",
       "    .dataframe thead th {\n",
       "        text-align: right;\n",
       "    }\n",
       "</style>\n",
       "<table border=\"1\" class=\"dataframe\">\n",
       "  <thead>\n",
       "    <tr style=\"text-align: right;\">\n",
       "      <th></th>\n",
       "      <th>children</th>\n",
       "      <th>days_employed</th>\n",
       "      <th>dob_years</th>\n",
       "      <th>education</th>\n",
       "      <th>education_id</th>\n",
       "      <th>family_status</th>\n",
       "      <th>family_status_id</th>\n",
       "      <th>gender</th>\n",
       "      <th>income_type</th>\n",
       "      <th>debt</th>\n",
       "      <th>total_income</th>\n",
       "      <th>purpose</th>\n",
       "    </tr>\n",
       "  </thead>\n",
       "  <tbody>\n",
       "    <tr>\n",
       "      <th>99</th>\n",
       "      <td>0</td>\n",
       "      <td>346541</td>\n",
       "      <td>0</td>\n",
       "      <td>Среднее</td>\n",
       "      <td>1</td>\n",
       "      <td>женат / замужем</td>\n",
       "      <td>0</td>\n",
       "      <td>F</td>\n",
       "      <td>пенсионер</td>\n",
       "      <td>0</td>\n",
       "      <td>71291.522491</td>\n",
       "      <td>автомобиль</td>\n",
       "    </tr>\n",
       "    <tr>\n",
       "      <th>149</th>\n",
       "      <td>0</td>\n",
       "      <td>2664</td>\n",
       "      <td>0</td>\n",
       "      <td>среднее</td>\n",
       "      <td>1</td>\n",
       "      <td>в разводе</td>\n",
       "      <td>3</td>\n",
       "      <td>F</td>\n",
       "      <td>сотрудник</td>\n",
       "      <td>0</td>\n",
       "      <td>70176.435951</td>\n",
       "      <td>операции с жильем</td>\n",
       "    </tr>\n",
       "    <tr>\n",
       "      <th>270</th>\n",
       "      <td>3</td>\n",
       "      <td>1872</td>\n",
       "      <td>0</td>\n",
       "      <td>среднее</td>\n",
       "      <td>1</td>\n",
       "      <td>женат / замужем</td>\n",
       "      <td>0</td>\n",
       "      <td>F</td>\n",
       "      <td>сотрудник</td>\n",
       "      <td>0</td>\n",
       "      <td>102166.458894</td>\n",
       "      <td>ремонт жилью</td>\n",
       "    </tr>\n",
       "    <tr>\n",
       "      <th>578</th>\n",
       "      <td>0</td>\n",
       "      <td>397856</td>\n",
       "      <td>0</td>\n",
       "      <td>среднее</td>\n",
       "      <td>1</td>\n",
       "      <td>женат / замужем</td>\n",
       "      <td>0</td>\n",
       "      <td>F</td>\n",
       "      <td>пенсионер</td>\n",
       "      <td>0</td>\n",
       "      <td>97620.687042</td>\n",
       "      <td>строительство собственной недвижимости</td>\n",
       "    </tr>\n",
       "    <tr>\n",
       "      <th>1040</th>\n",
       "      <td>0</td>\n",
       "      <td>1158</td>\n",
       "      <td>0</td>\n",
       "      <td>высшее</td>\n",
       "      <td>0</td>\n",
       "      <td>в разводе</td>\n",
       "      <td>3</td>\n",
       "      <td>F</td>\n",
       "      <td>компаньон</td>\n",
       "      <td>0</td>\n",
       "      <td>303994.134987</td>\n",
       "      <td>свой автомобиль</td>\n",
       "    </tr>\n",
       "    <tr>\n",
       "      <th>...</th>\n",
       "      <td>...</td>\n",
       "      <td>...</td>\n",
       "      <td>...</td>\n",
       "      <td>...</td>\n",
       "      <td>...</td>\n",
       "      <td>...</td>\n",
       "      <td>...</td>\n",
       "      <td>...</td>\n",
       "      <td>...</td>\n",
       "      <td>...</td>\n",
       "      <td>...</td>\n",
       "      <td>...</td>\n",
       "    </tr>\n",
       "    <tr>\n",
       "      <th>19829</th>\n",
       "      <td>0</td>\n",
       "      <td>0</td>\n",
       "      <td>0</td>\n",
       "      <td>среднее</td>\n",
       "      <td>1</td>\n",
       "      <td>женат / замужем</td>\n",
       "      <td>0</td>\n",
       "      <td>F</td>\n",
       "      <td>сотрудник</td>\n",
       "      <td>0</td>\n",
       "      <td>NaN</td>\n",
       "      <td>жилье</td>\n",
       "    </tr>\n",
       "    <tr>\n",
       "      <th>20462</th>\n",
       "      <td>0</td>\n",
       "      <td>338734</td>\n",
       "      <td>0</td>\n",
       "      <td>среднее</td>\n",
       "      <td>1</td>\n",
       "      <td>женат / замужем</td>\n",
       "      <td>0</td>\n",
       "      <td>F</td>\n",
       "      <td>пенсионер</td>\n",
       "      <td>0</td>\n",
       "      <td>259193.920299</td>\n",
       "      <td>покупка своего жилья</td>\n",
       "    </tr>\n",
       "    <tr>\n",
       "      <th>20577</th>\n",
       "      <td>0</td>\n",
       "      <td>331741</td>\n",
       "      <td>0</td>\n",
       "      <td>среднее</td>\n",
       "      <td>1</td>\n",
       "      <td>Не женат / не замужем</td>\n",
       "      <td>4</td>\n",
       "      <td>F</td>\n",
       "      <td>пенсионер</td>\n",
       "      <td>0</td>\n",
       "      <td>129788.762899</td>\n",
       "      <td>недвижимость</td>\n",
       "    </tr>\n",
       "    <tr>\n",
       "      <th>21179</th>\n",
       "      <td>2</td>\n",
       "      <td>108</td>\n",
       "      <td>0</td>\n",
       "      <td>высшее</td>\n",
       "      <td>0</td>\n",
       "      <td>женат / замужем</td>\n",
       "      <td>0</td>\n",
       "      <td>M</td>\n",
       "      <td>компаньон</td>\n",
       "      <td>0</td>\n",
       "      <td>240702.007382</td>\n",
       "      <td>строительство жилой недвижимости</td>\n",
       "    </tr>\n",
       "    <tr>\n",
       "      <th>21313</th>\n",
       "      <td>0</td>\n",
       "      <td>1268</td>\n",
       "      <td>0</td>\n",
       "      <td>среднее</td>\n",
       "      <td>1</td>\n",
       "      <td>Не женат / не замужем</td>\n",
       "      <td>4</td>\n",
       "      <td>M</td>\n",
       "      <td>сотрудник</td>\n",
       "      <td>0</td>\n",
       "      <td>152419.184851</td>\n",
       "      <td>операции с жильем</td>\n",
       "    </tr>\n",
       "  </tbody>\n",
       "</table>\n",
       "<p>101 rows × 12 columns</p>\n",
       "</div>"
      ],
      "text/plain": [
       "       children  days_employed  dob_years education  education_id  \\\n",
       "99            0         346541          0   Среднее             1   \n",
       "149           0           2664          0   среднее             1   \n",
       "270           3           1872          0   среднее             1   \n",
       "578           0         397856          0   среднее             1   \n",
       "1040          0           1158          0    высшее             0   \n",
       "...         ...            ...        ...       ...           ...   \n",
       "19829         0              0          0   среднее             1   \n",
       "20462         0         338734          0   среднее             1   \n",
       "20577         0         331741          0   среднее             1   \n",
       "21179         2            108          0    высшее             0   \n",
       "21313         0           1268          0   среднее             1   \n",
       "\n",
       "               family_status  family_status_id gender income_type  debt  \\\n",
       "99           женат / замужем                 0      F   пенсионер     0   \n",
       "149                в разводе                 3      F   сотрудник     0   \n",
       "270          женат / замужем                 0      F   сотрудник     0   \n",
       "578          женат / замужем                 0      F   пенсионер     0   \n",
       "1040               в разводе                 3      F   компаньон     0   \n",
       "...                      ...               ...    ...         ...   ...   \n",
       "19829        женат / замужем                 0      F   сотрудник     0   \n",
       "20462        женат / замужем                 0      F   пенсионер     0   \n",
       "20577  Не женат / не замужем                 4      F   пенсионер     0   \n",
       "21179        женат / замужем                 0      M   компаньон     0   \n",
       "21313  Не женат / не замужем                 4      M   сотрудник     0   \n",
       "\n",
       "        total_income                                 purpose  \n",
       "99      71291.522491                              автомобиль  \n",
       "149     70176.435951                       операции с жильем  \n",
       "270    102166.458894                            ремонт жилью  \n",
       "578     97620.687042  строительство собственной недвижимости  \n",
       "1040   303994.134987                         свой автомобиль  \n",
       "...              ...                                     ...  \n",
       "19829            NaN                                   жилье  \n",
       "20462  259193.920299                    покупка своего жилья  \n",
       "20577  129788.762899                            недвижимость  \n",
       "21179  240702.007382        строительство жилой недвижимости  \n",
       "21313  152419.184851                       операции с жильем  \n",
       "\n",
       "[101 rows x 12 columns]"
      ]
     },
     "metadata": {},
     "output_type": "display_data"
    }
   ],
   "source": [
    "# выведем на экран строки таблицы, в которых возраст заещиков равен 0\n",
    "min_age = df[df['dob_years'] == df['dob_years'].min()]\n",
    "display(min_age)"
   ]
  },
  {
   "cell_type": "markdown",
   "metadata": {},
   "source": [
    "101 строка в таблице с данными заемщиков, чей возраст равен 0. К сожалению, по данным таблицы невозможно восстановить данные о возрасте заемщиков, т.к. на стаж работы мы не можем положиться при расчете предположительного возраста. К тому же 101 строка - менее 5% данных, которыми мы можем пренебречь."
   ]
  },
  {
   "cell_type": "code",
   "execution_count": 14,
   "metadata": {},
   "outputs": [],
   "source": [
    "#удаляем 101 строку, где возраст заемщика равен 0\n",
    "df.drop(df[df[\"dob_years\"] == 0].index, inplace=True)"
   ]
  },
  {
   "cell_type": "markdown",
   "metadata": {},
   "source": [
    "Теперь займемся заполнением пропусков с толбце `total_income`. Единственные данные, которые мы можем взять в качестве основы для расчета предположительного дохода заемщиков - данные о способе дохода `income_type`, т.к. ни пол, ни возраст, ни стаж работы (который к тому же содержит не совсем корректные данные) не могут, к сожалению, стать отправной точкой для создания условий, определяющих заполнение пропусков теми или иными значениями.\n",
    "\n",
    "Предлагаем заполнять пропуски в столбце с общим доходом медианным значением дохода среди заемщиков с одинаковым способом дохода."
   ]
  },
  {
   "cell_type": "code",
   "execution_count": 15,
   "metadata": {},
   "outputs": [
    {
     "data": {
      "text/plain": [
       "['безработный',\n",
       " 'в декрете',\n",
       " 'госслужащий',\n",
       " 'компаньон',\n",
       " 'пенсионер',\n",
       " 'предприниматель',\n",
       " 'сотрудник',\n",
       " 'студент']"
      ]
     },
     "execution_count": 15,
     "metadata": {},
     "output_type": "execute_result"
    }
   ],
   "source": [
    "#найдем уникальные значения столбца с типом занятости\n",
    "sorted(df['income_type'].unique())"
   ]
  },
  {
   "cell_type": "markdown",
   "metadata": {},
   "source": [
    "Предлагаем все-таки заполнить пропуски столбца `total_income` на типизированное значение меньше самого минимального значения данного столбца (ну чтобы исключить возможность ошибочного перезаписывания уже существующих значений). \n",
    "\n",
    "А заменить необходимо именно на числовое значение, чтобы у столбца тип данных сохранялся float или int."
   ]
  },
  {
   "cell_type": "code",
   "execution_count": 16,
   "metadata": {},
   "outputs": [
    {
     "data": {
      "text/plain": [
       "20667.26379327158"
      ]
     },
     "execution_count": 16,
     "metadata": {},
     "output_type": "execute_result"
    }
   ],
   "source": [
    "#найдем минимальное значение\n",
    "df['total_income'].min()"
   ]
  },
  {
   "cell_type": "code",
   "execution_count": 17,
   "metadata": {},
   "outputs": [],
   "source": [
    "# создадим цикл для заполнения пропусков в столбце с `total_income` медианами дохода по перечисленным в данных видам занятости\n",
    "for inc_type in df['income_type'].unique():\n",
    "    median = df.loc[df['income_type'] == inc_type, 'total_income'].median()\n",
    "    df.loc[(df['total_income'].isna()) & (df['income_type'] == inc_type), 'total_income'] = median"
   ]
  },
  {
   "cell_type": "code",
   "execution_count": 18,
   "metadata": {},
   "outputs": [],
   "source": [
    "#заменим тип данных на int с помощью метода astype()\n",
    "df['total_income'] = df['total_income'].astype('int')"
   ]
  },
  {
   "cell_type": "markdown",
   "metadata": {},
   "source": [
    "Выбрали именно метод astype(), т.к. имеем дело с типом данном float в столбце, а также можем позволить себе округлить значения столбца."
   ]
  },
  {
   "cell_type": "code",
   "execution_count": 19,
   "metadata": {
    "scrolled": true
   },
   "outputs": [
    {
     "name": "stdout",
     "output_type": "stream",
     "text": [
      "<class 'pandas.core.frame.DataFrame'>\n",
      "Int64Index: 21424 entries, 0 to 21524\n",
      "Data columns (total 12 columns):\n",
      " #   Column            Non-Null Count  Dtype \n",
      "---  ------            --------------  ----- \n",
      " 0   children          21424 non-null  int64 \n",
      " 1   days_employed     21424 non-null  int64 \n",
      " 2   dob_years         21424 non-null  int64 \n",
      " 3   education         21424 non-null  object\n",
      " 4   education_id      21424 non-null  int64 \n",
      " 5   family_status     21424 non-null  object\n",
      " 6   family_status_id  21424 non-null  int64 \n",
      " 7   gender            21424 non-null  object\n",
      " 8   income_type       21424 non-null  object\n",
      " 9   debt              21424 non-null  int64 \n",
      " 10  total_income      21424 non-null  int64 \n",
      " 11  purpose           21424 non-null  object\n",
      "dtypes: int64(7), object(5)\n",
      "memory usage: 2.1+ MB\n"
     ]
    }
   ],
   "source": [
    "#проверим наличие пропусков и тип данных столбцов\n",
    "df.info()"
   ]
  },
  {
   "cell_type": "markdown",
   "metadata": {},
   "source": [
    "**Вывод**"
   ]
  },
  {
   "cell_type": "markdown",
   "metadata": {},
   "source": [
    "В процессе предобработки пропусков были выявены следующие пропущенные значения в столбцах `total_income` и `days_employed`.\n",
    "\n",
    "В процессе предобработки пришлось пожертвовать 101 строкой таблицы, так как данные в них не удалось восстановить, но 101 строка составляют менее 5% всей информации в таблице, поэтому это не повлияет на результаты исследования.\n",
    "\n",
    "Скорее всего пропуски в данной выгрузке обусловлены случайностью и человеческим фактором, т.к. даже если заемщик утаивает от банка свои реальные доходы и стаж работы, он обязан предоставить хоть какие-то данные, подтвержденные хоть какой-то бумажкой, т.к. банк не заинтересован в том, чтобы выдавать деньги неплатежеспособным заемщикам, и внутринние процедуры всегда подразумевают сбор информации о трудовой жизни и доходах птенциального получателя займа.\n",
    "\n",
    "Заполнили пропуски столбца `total_income` медианными значения дохода по типу дохода заемщиков, т.к. это были единственные данные, на которые можно было положиться в вычислении предположительного дохода заемщиков.\n",
    "\n",
    "Пропуски в столбце `days_employed` решили не заполнять, т.к. во-первых, данные столбца бесполезны в рамках текущего исследования, во-вторых, в таблице недостаточно данных для восстановления значений даже предположительного стажа работы (отсутствует инфо по региону, сфере и месту работы в рамках одной сферы тоже есть различия по начисляемому стажу и зп, например, диспетчеры в аэропорту сталкиваются с меньшим коэффициентом вредного воздействия, чем наземные службы обслуживания воздушных судов и т.д.)\n",
    "\n",
    "Также мы изменили тип данных столбцов `days_employed` и `total_income` на целочисленный методом .astype(), так как, во-первых, мы имели дело с данными float, во-вторых, нас в рамках проекта не интересуют значения после запятой, а так значения по-умолчанию округляются до целых. Округленные целочисленные значения визуально легче воспринимаются, чем вещественные числа с большим количеством знаков после запятой.\n",
    "\n",
    "Тип данных столбца `total_income` мы конвертировали в целочисленный после заполнения пропусков медианами дохода соответствующих категорий, так как сам метод .median() подразумевает возможность получения значения типа float."
   ]
  },
  {
   "cell_type": "markdown",
   "metadata": {},
   "source": [
    "### Обработка дубликатов"
   ]
  },
  {
   "cell_type": "markdown",
   "metadata": {},
   "source": [
    "Подсчитаем количество явных дубликатов в таблице:"
   ]
  },
  {
   "cell_type": "code",
   "execution_count": 20,
   "metadata": {},
   "outputs": [
    {
     "data": {
      "text/plain": [
       "54"
      ]
     },
     "execution_count": 20,
     "metadata": {},
     "output_type": "execute_result"
    }
   ],
   "source": [
    "# подсчёт явных дубликатов\n",
    "df.duplicated().sum()"
   ]
  },
  {
   "cell_type": "code",
   "execution_count": 21,
   "metadata": {},
   "outputs": [],
   "source": [
    "# удаление явных дубликатов (с удалением старых индексов и формированием новых)\n",
    "df = df.drop_duplicates().reset_index(drop=True)"
   ]
  },
  {
   "cell_type": "code",
   "execution_count": 22,
   "metadata": {},
   "outputs": [
    {
     "data": {
      "text/plain": [
       "0"
      ]
     },
     "execution_count": 22,
     "metadata": {},
     "output_type": "execute_result"
    }
   ],
   "source": [
    "# проверка на отсутствие дубликатов\n",
    "df.duplicated().sum()"
   ]
  },
  {
   "cell_type": "markdown",
   "metadata": {},
   "source": [
    "Теперь найдем неявные дубликаты в столбцах с категориальными значения (`education`, `family_status`, `income_type`, `purpose`). "
   ]
  },
  {
   "cell_type": "code",
   "execution_count": 23,
   "metadata": {},
   "outputs": [
    {
     "data": {
      "text/plain": [
       "['ВЫСШЕЕ',\n",
       " 'Высшее',\n",
       " 'НАЧАЛЬНОЕ',\n",
       " 'НЕОКОНЧЕННОЕ ВЫСШЕЕ',\n",
       " 'Начальное',\n",
       " 'Неоконченное высшее',\n",
       " 'СРЕДНЕЕ',\n",
       " 'Среднее',\n",
       " 'УЧЕНАЯ СТЕПЕНЬ',\n",
       " 'Ученая степень',\n",
       " 'высшее',\n",
       " 'начальное',\n",
       " 'неоконченное высшее',\n",
       " 'среднее',\n",
       " 'ученая степень']"
      ]
     },
     "execution_count": 23,
     "metadata": {},
     "output_type": "execute_result"
    }
   ],
   "source": [
    "# найдем уникальные значения столбца с уровнем образования\n",
    "sorted(df['education'].unique())"
   ]
  },
  {
   "cell_type": "markdown",
   "metadata": {},
   "source": [
    "Как мы видим, столбец содержит неявные дубликаты: многие значения полностью идентичны по своему значению, но записаны разным регистром. Это может усложнить работу с таблицей, поэтому приведем все значения столбца к общему виду с помощью метода str.lower()."
   ]
  },
  {
   "cell_type": "code",
   "execution_count": 24,
   "metadata": {},
   "outputs": [],
   "source": [
    "# приводим все значения к нижнему регистру\n",
    "df['education'] = df['education'].str.lower()"
   ]
  },
  {
   "cell_type": "code",
   "execution_count": 25,
   "metadata": {},
   "outputs": [
    {
     "data": {
      "text/plain": [
       "['высшее', 'начальное', 'неоконченное высшее', 'среднее', 'ученая степень']"
      ]
     },
     "execution_count": 25,
     "metadata": {},
     "output_type": "execute_result"
    }
   ],
   "source": [
    "# проверим теперь уникальные значения\n",
    "sorted(df['education'].unique())"
   ]
  },
  {
   "cell_type": "markdown",
   "metadata": {},
   "source": [
    "Неявных дубликатов больше нет. Теперь снова необходимо проверить данные на наличие явных дубликатов."
   ]
  },
  {
   "cell_type": "code",
   "execution_count": 26,
   "metadata": {},
   "outputs": [
    {
     "data": {
      "text/plain": [
       "17"
      ]
     },
     "execution_count": 26,
     "metadata": {},
     "output_type": "execute_result"
    }
   ],
   "source": [
    "# подсчёт явных дубликатов\n",
    "df.duplicated().sum()"
   ]
  },
  {
   "cell_type": "code",
   "execution_count": 27,
   "metadata": {},
   "outputs": [],
   "source": [
    "# удаление явных дубликатов (с удалением старых индексов и формированием новых)\n",
    "df = df.drop_duplicates().reset_index(drop=True)"
   ]
  },
  {
   "cell_type": "code",
   "execution_count": 28,
   "metadata": {},
   "outputs": [
    {
     "data": {
      "text/plain": [
       "['Не женат / не замужем',\n",
       " 'в разводе',\n",
       " 'вдовец / вдова',\n",
       " 'гражданский брак',\n",
       " 'женат / замужем']"
      ]
     },
     "execution_count": 28,
     "metadata": {},
     "output_type": "execute_result"
    }
   ],
   "source": [
    "# найдем уникальные значения столбца с семейным положением\n",
    "sorted(df['family_status'].unique())"
   ]
  },
  {
   "cell_type": "markdown",
   "metadata": {},
   "source": [
    "В данном столбце неявных дубликатов нет."
   ]
  },
  {
   "cell_type": "code",
   "execution_count": 29,
   "metadata": {},
   "outputs": [
    {
     "data": {
      "text/plain": [
       "['безработный',\n",
       " 'в декрете',\n",
       " 'госслужащий',\n",
       " 'компаньон',\n",
       " 'пенсионер',\n",
       " 'предприниматель',\n",
       " 'сотрудник',\n",
       " 'студент']"
      ]
     },
     "execution_count": 29,
     "metadata": {},
     "output_type": "execute_result"
    }
   ],
   "source": [
    "# найдем уникальные значения столбца с типом дохода\n",
    "sorted(df['income_type'].unique())"
   ]
  },
  {
   "cell_type": "markdown",
   "metadata": {},
   "source": [
    "Неявных дубликатов нет."
   ]
  },
  {
   "cell_type": "code",
   "execution_count": 30,
   "metadata": {},
   "outputs": [
    {
     "data": {
      "text/plain": [
       "свадьба                                   786\n",
       "на проведение свадьбы                     764\n",
       "сыграть свадьбу                           760\n",
       "операции с недвижимостью                  672\n",
       "покупка коммерческой недвижимости         658\n",
       "покупка жилья для сдачи                   649\n",
       "операции с коммерческой недвижимостью     648\n",
       "операции с жильем                         646\n",
       "покупка жилья                             640\n",
       "жилье                                     640\n",
       "покупка жилья для семьи                   637\n",
       "строительство собственной недвижимости    633\n",
       "недвижимость                              629\n",
       "операции со своей недвижимостью           627\n",
       "строительство жилой недвижимости          621\n",
       "строительство недвижимости                619\n",
       "покупка своего жилья                      619\n",
       "покупка недвижимости                      618\n",
       "ремонт жилью                              605\n",
       "покупка жилой недвижимости                603\n",
       "на покупку своего автомобиля              502\n",
       "заняться высшим образованием              493\n",
       "автомобиль                                490\n",
       "сделка с подержанным автомобилем          484\n",
       "на покупку подержанного автомобиля        478\n",
       "автомобили                                476\n",
       "свой автомобиль                           475\n",
       "на покупку автомобиля                     466\n",
       "приобретение автомобиля                   459\n",
       "дополнительное образование                458\n",
       "сделка с автомобилем                      454\n",
       "высшее образование                        449\n",
       "получение дополнительного образования     444\n",
       "образование                               444\n",
       "получение образования                     441\n",
       "профильное образование                    435\n",
       "получение высшего образования             424\n",
       "заняться образованием                     407\n",
       "Name: purpose, dtype: int64"
      ]
     },
     "execution_count": 30,
     "metadata": {},
     "output_type": "execute_result"
    }
   ],
   "source": [
    "# найдем уникальные значения столбца с целью кредита\n",
    "df['purpose'].value_counts()"
   ]
  },
  {
   "cell_type": "markdown",
   "metadata": {},
   "source": [
    "Уникальных значений, конечно, много, но все они не уникальны, большинство из них объединяет какая-то общая тематика: недвижимость, свадьба, автомобиль, образование, строительство и ремонт. Поэтому в следующем разделе предобработки данных предлагаем с помощью лемматизации разбить цели кредитов на 6 вышеупомянутых категории."
   ]
  },
  {
   "cell_type": "code",
   "execution_count": 31,
   "metadata": {},
   "outputs": [
    {
     "name": "stdout",
     "output_type": "stream",
     "text": [
      "<class 'pandas.core.frame.DataFrame'>\n",
      "RangeIndex: 21353 entries, 0 to 21352\n",
      "Data columns (total 12 columns):\n",
      " #   Column            Non-Null Count  Dtype \n",
      "---  ------            --------------  ----- \n",
      " 0   children          21353 non-null  int64 \n",
      " 1   days_employed     21353 non-null  int64 \n",
      " 2   dob_years         21353 non-null  int64 \n",
      " 3   education         21353 non-null  object\n",
      " 4   education_id      21353 non-null  int64 \n",
      " 5   family_status     21353 non-null  object\n",
      " 6   family_status_id  21353 non-null  int64 \n",
      " 7   gender            21353 non-null  object\n",
      " 8   income_type       21353 non-null  object\n",
      " 9   debt              21353 non-null  int64 \n",
      " 10  total_income      21353 non-null  int64 \n",
      " 11  purpose           21353 non-null  object\n",
      "dtypes: int64(7), object(5)\n",
      "memory usage: 2.0+ MB\n"
     ]
    }
   ],
   "source": [
    "df.info()"
   ]
  },
  {
   "cell_type": "markdown",
   "metadata": {},
   "source": [
    "**Вывод**"
   ]
  },
  {
   "cell_type": "markdown",
   "metadata": {},
   "source": [
    "Во время предобработки данных были выявлены явные и неявные дубликаты, которые могут быть обусловлены человеческим фактором (скорее всего значения категориальных переменных вводились вручную по каждому клиенту, соответственно, несмотря на то, что информативно данные сообщают +- одно и то же, но единообразия в них нет.\n",
    "\n",
    "Явные дубликаты просто удаляли, т.к. наличие явных дубликатов не добавит исследованию достоверности.\n",
    "\n",
    "Неявные дубликаты исключали с помощью поиска уникальных значений в столбцах и приведению всех значений к единому стилю.\n",
    "\n",
    "Сейчас ни явных, ни неявных дубликатов нет, осталось только решить проблему со столбцом `purpose`."
   ]
  },
  {
   "cell_type": "markdown",
   "metadata": {},
   "source": [
    "### Лемматизация"
   ]
  },
  {
   "cell_type": "markdown",
   "metadata": {},
   "source": [
    "Выделим в столбце с целью кредита шесть общих категорий, которые мы указали выше.\n",
    "\n",
    "Будем это выполнять с помощью функции, которая ищет соответствующую смысловую лемму в лемматизированной ячейке столбца `purpose`.\n",
    "\n",
    "Иными словами, мы приведем все слова в нужных ячейках солбца `purpose` к начальным формам, чтобы упростить поиск и вместо всех возможных словоформ парадигмы использовать для фильтрации данных и классификации заемщиков всего одну начальную форму."
   ]
  },
  {
   "cell_type": "code",
   "execution_count": 32,
   "metadata": {},
   "outputs": [],
   "source": [
    "# импортируем pymystem3 (Одна из библиотек с функцией лемматизации на русском языке):\n",
    "from pymystem3 import Mystem\n",
    "m = Mystem() "
   ]
  },
  {
   "cell_type": "code",
   "execution_count": 33,
   "metadata": {},
   "outputs": [],
   "source": [
    "# объявим функцию, которая будет искать соотвутствующую лемму в каждой строке таблице по столбцу с данными о цели кредита\n",
    "# внутри функции лемматизируем значения соответствующей ячейки\n",
    "\n",
    "def purpose_category(row):\n",
    "    purpose = row['purpose']\n",
    "    purpose_lemmatized = m.lemmatize(purpose)\n",
    "    if (('недвижимость' in purpose_lemmatized) or ('жилье' in purpose_lemmatized)) and (('строительство' or 'ремонт') not in purpose_lemmatized):\n",
    "        return 'недвижимость'\n",
    "    if 'ремонт' in purpose_lemmatized:\n",
    "        return 'ремонт'\n",
    "    if 'свадьба' in purpose_lemmatized:\n",
    "        return 'свадьба'\n",
    "    if 'образование' in purpose_lemmatized:\n",
    "        return 'образование'\n",
    "    if 'автомобиль' in purpose_lemmatized:\n",
    "        return 'автокредит'\n",
    "    if 'строительство' in purpose_lemmatized:\n",
    "        return 'строительство'  \n",
    "    "
   ]
  },
  {
   "cell_type": "markdown",
   "metadata": {},
   "source": [
    "Было решено выделить именно 6 групп в целях кредита, т.к. по нашей теории, если между целью и просрочками по кредитам действительно есть корреляция, то эта корреляция должна быть связано с рентабельностью самих целей. Авто, ремонт (только не в том случае, если это косметический ремонт перед сдачей квартиры в аренду) и свадьба - самые нерентабельные цели для кредита.\n",
    "\n",
    "Со строительством уже сложнее, но все же мы решили операции с недвижимостью поделить на ремонт, покупку готовой недвижимости (и коммерческой и некоммерческой, в любом случае хорошо) и строительство недвижимости. Строительство - это больше про вложение частями, плюс это сложнее в плане получения прибыли и покрытия расходов (зависит от ситуации, но в большинстве случае). \n",
    "\n",
    "Поэтому предварительно среди рентабельных целей кредита мы выделили недвижимость и образование. С натяжкой строительство."
   ]
  },
  {
   "cell_type": "code",
   "execution_count": 34,
   "metadata": {},
   "outputs": [],
   "source": [
    "# добавим в таблицу новый столбец, где указана категория цели кредита. Столбец создается на основе применения функции\n",
    "# 'purpose_category' к столбцу 'purpose'\n",
    "df['purpose_category'] = df.apply(purpose_category, axis=1)"
   ]
  },
  {
   "cell_type": "code",
   "execution_count": 35,
   "metadata": {},
   "outputs": [
    {
     "data": {
      "text/plain": [
       "недвижимость     8891\n",
       "автокредит       4284\n",
       "образование      3995\n",
       "свадьба          2310\n",
       "строительство    1873\n",
       "Name: purpose_category, dtype: int64"
      ]
     },
     "execution_count": 35,
     "metadata": {},
     "output_type": "execute_result"
    }
   ],
   "source": [
    "# посмотрим значения нового столбца и кол-во этих значений\n",
    "df['purpose_category'].value_counts()"
   ]
  },
  {
   "cell_type": "markdown",
   "metadata": {},
   "source": [
    "**Вывод**"
   ]
  },
  {
   "cell_type": "markdown",
   "metadata": {},
   "source": [
    "Теперь с помощью анализа лемм в цели кредита функция построчно отсортировала заемщиков в 6 разных категорий.\n",
    "\n",
    "Введение категорий цели упорядочит дальнейший анализ данных."
   ]
  },
  {
   "cell_type": "markdown",
   "metadata": {},
   "source": [
    "### Категоризация данных"
   ]
  },
  {
   "cell_type": "markdown",
   "metadata": {},
   "source": [
    "В предыдущем пункте предобработки данных мы уже ввели новую категорию - `purpose_category`. \n",
    "\n",
    "Также для дальнейшей работы сданными предлагаем выделить пять категорий заемщиков по уровню общего дохода: низкий доход, доход ниже среднего, средний доход, доход выше среднего, высокий доход.\n",
    "\n",
    "Разделим заемщиков по категориям дахода мы с помощью метода `pd.qcut`. `qcut` делит сходные данные на равные в процентном соотношении интервалы."
   ]
  },
  {
   "cell_type": "code",
   "execution_count": 36,
   "metadata": {},
   "outputs": [],
   "source": [
    "# зададим названия для пяти новых категорий дохода\n",
    "category_labels = ['низкий доход', 'доход ниже среднего', 'средний доход', 'доход выше среднего', 'высокий доход']\n",
    "# применим qcut к столбцу с общим доходом, чтобы выделить пять равных интервалов. Запишем все в новый столбец таблицы\n",
    "df['total_income_category'] = pd.qcut(df['total_income'], q=[0, .2, .4, .6, .8, 1], labels=category_labels)"
   ]
  },
  {
   "cell_type": "markdown",
   "metadata": {},
   "source": [
    "Также неплохо было бы создать категории по наличию детей в семье."
   ]
  },
  {
   "cell_type": "markdown",
   "metadata": {},
   "source": [
    "Для начала посмотрим, какие есть значения в данном столбце."
   ]
  },
  {
   "cell_type": "code",
   "execution_count": 37,
   "metadata": {},
   "outputs": [
    {
     "data": {
      "text/plain": [
       " 0     14022\n",
       " 1      4792\n",
       " 2      2039\n",
       " 3       328\n",
       " 20       75\n",
       "-1        47\n",
       " 4        41\n",
       " 5         9\n",
       "Name: children, dtype: int64"
      ]
     },
     "execution_count": 37,
     "metadata": {},
     "output_type": "execute_result"
    }
   ],
   "source": [
    "# выведем на экран все уникальные значения столбца и частоту их встречаемости в таблице\n",
    "df['children'].value_counts()"
   ]
  },
  {
   "cell_type": "markdown",
   "metadata": {},
   "source": [
    "Как мы видим, тут тоже есть случайные ошибки, которые были пропущены раннее, т.к. наврядли у нас так много семей с 20 детьми, а тем более с -1 ребенком. \n",
    "\n",
    "Под 20 детьми, скорее всего, имелось в виду 2 ребенка (в нынешней экономической обстановке мало кто решится на такой эксперимент), а под -1 - только один ребенок. \n",
    "\n",
    "Произведем необходимые изменения."
   ]
  },
  {
   "cell_type": "code",
   "execution_count": 38,
   "metadata": {},
   "outputs": [],
   "source": [
    "# избавимся от артефактов в виде -\n",
    "df['children'] = df['children'].abs()"
   ]
  },
  {
   "cell_type": "code",
   "execution_count": 39,
   "metadata": {},
   "outputs": [],
   "source": [
    "# заменим нереалистичное 20 на вполне себе реалистичное 2\n",
    "df.loc[(df['children'] == 20), 'children'] = 2"
   ]
  },
  {
   "cell_type": "code",
   "execution_count": 40,
   "metadata": {},
   "outputs": [
    {
     "data": {
      "text/plain": [
       "0    14022\n",
       "1     4839\n",
       "2     2114\n",
       "3      328\n",
       "4       41\n",
       "5        9\n",
       "Name: children, dtype: int64"
      ]
     },
     "execution_count": 40,
     "metadata": {},
     "output_type": "execute_result"
    }
   ],
   "source": [
    "#снова выведем значения столбца\n",
    "df['children'].value_counts()"
   ]
  },
  {
   "cell_type": "markdown",
   "metadata": {},
   "source": [
    "Выделим две группы - без детей и с детьми."
   ]
  },
  {
   "cell_type": "code",
   "execution_count": 41,
   "metadata": {},
   "outputs": [],
   "source": [
    "# объявим функцию children_num_category, которая разделит заемщиков на 3 категории в соответствии с кол-вом детей\n",
    "\n",
    "def children_num_category(children):\n",
    "    if children == 0:\n",
    "        return 'нет детей'\n",
    "    if 1 <= children :\n",
    "        return 'есть дети'"
   ]
  },
  {
   "cell_type": "code",
   "execution_count": 42,
   "metadata": {},
   "outputs": [],
   "source": [
    "# создадим новый столбей с категориями заемщиков по кол-ву детей, который заполним значениями с помощью применения функции\n",
    "\n",
    "df['children_num_category'] = df['children'].apply(children_num_category)"
   ]
  },
  {
   "cell_type": "markdown",
   "metadata": {},
   "source": [
    "Еще нужна категория для статуса наличия/отсутствия просрочки по кредиту, т.к. мы, например знаем, что 0 - отсутствие задолженности, а 1 - ее наличие, но в сводной таблице такой подход может повлиять на наглядность и доступность результата исследования."
   ]
  },
  {
   "cell_type": "code",
   "execution_count": 43,
   "metadata": {},
   "outputs": [],
   "source": [
    "# объявим функцию, которая определит категорию заемщика исходя из наличия или отсутствия просрочки по кредиту\n",
    "\n",
    "def debt_status(debt):\n",
    "    if debt == 0:\n",
    "        return 'задолженности нет'\n",
    "    if debt == 1:\n",
    "        return 'есть задолженность'"
   ]
  },
  {
   "cell_type": "code",
   "execution_count": 44,
   "metadata": {},
   "outputs": [],
   "source": [
    "# создадим новый столбец, в который сохраним категории. Классифицируем заемщиков с помощью функции выше по столбцу 'debt'\n",
    "df['debt_status'] = df['debt'].apply(debt_status)"
   ]
  },
  {
   "cell_type": "markdown",
   "metadata": {},
   "source": [
    "**Вывод**"
   ]
  },
  {
   "cell_type": "markdown",
   "metadata": {},
   "source": [
    "Таким образом для облегчения и упорядычевания дальнейшей работы с данными и подверждения/опровержения первоначальных гипотез мы ввели в таблицу 4 дополнительных категорий, в которых заемщики делятся на основании их дохода, цели кредита, наличию детей и  наличию задолженности.\n",
    "\n",
    "Предполагаем, что такое разделение не только упростит нам работу при анализе, но облегчит понимание результатов исследования для неподготовленного конечного потребителя."
   ]
  },
  {
   "cell_type": "markdown",
   "metadata": {},
   "source": [
    "## Шаг 3. Ответьте на вопросы"
   ]
  },
  {
   "cell_type": "markdown",
   "metadata": {},
   "source": [
    "- Есть ли зависимость между наличием детей и возвратом кредита в срок?"
   ]
  },
  {
   "cell_type": "markdown",
   "metadata": {},
   "source": [
    "Для нахождения ответа на первый вопрос предлагаем построить свобную таблицу, где строки - категории заемщиков по кол-ву детей, а столбцы - информация о задолженности."
   ]
  },
  {
   "cell_type": "code",
   "execution_count": 45,
   "metadata": {},
   "outputs": [],
   "source": [
    "# создаем сводную таблицу для получения наглядной информации о наличии/отсутствии корреляции\n",
    "chldrn_n_debt_correlation_tbl = df.pivot_table(index='children_num_category', columns='debt_status', values='debt', aggfunc='count')"
   ]
  },
  {
   "cell_type": "code",
   "execution_count": 46,
   "metadata": {
    "scrolled": true
   },
   "outputs": [
    {
     "data": {
      "text/html": [
       "<div>\n",
       "<style scoped>\n",
       "    .dataframe tbody tr th:only-of-type {\n",
       "        vertical-align: middle;\n",
       "    }\n",
       "\n",
       "    .dataframe tbody tr th {\n",
       "        vertical-align: top;\n",
       "    }\n",
       "\n",
       "    .dataframe thead th {\n",
       "        text-align: right;\n",
       "    }\n",
       "</style>\n",
       "<table border=\"1\" class=\"dataframe\">\n",
       "  <thead>\n",
       "    <tr style=\"text-align: right;\">\n",
       "      <th>debt_status</th>\n",
       "      <th>есть задолженность</th>\n",
       "      <th>задолженности нет</th>\n",
       "    </tr>\n",
       "    <tr>\n",
       "      <th>children_num_category</th>\n",
       "      <th></th>\n",
       "      <th></th>\n",
       "    </tr>\n",
       "  </thead>\n",
       "  <tbody>\n",
       "    <tr>\n",
       "      <th>есть дети</th>\n",
       "      <td>675</td>\n",
       "      <td>6656</td>\n",
       "    </tr>\n",
       "    <tr>\n",
       "      <th>нет детей</th>\n",
       "      <td>1058</td>\n",
       "      <td>12964</td>\n",
       "    </tr>\n",
       "  </tbody>\n",
       "</table>\n",
       "</div>"
      ],
      "text/plain": [
       "debt_status            есть задолженность  задолженности нет\n",
       "children_num_category                                       \n",
       "есть дети                             675               6656\n",
       "нет детей                            1058              12964"
      ]
     },
     "metadata": {},
     "output_type": "display_data"
    }
   ],
   "source": [
    "# выводим таблицу на экран\n",
    "display(chldrn_n_debt_correlation_tbl)"
   ]
  },
  {
   "cell_type": "markdown",
   "metadata": {},
   "source": [
    "Предлагаем также найти отношение кол-ва заемщиков с задолженностью к кол-ву заемщиков без задолженности в каждой категории. Для этого разделим данные первого столбца на данные второго столбца, а результат занесем в новый столбец сводной таблицы."
   ]
  },
  {
   "cell_type": "code",
   "execution_count": 47,
   "metadata": {},
   "outputs": [],
   "source": [
    "# добавим новый столбец 'ratio' с отношением двух столбцов\n",
    "chldrn_n_debt_correlation_tbl['ratio'] = chldrn_n_debt_correlation_tbl['есть задолженность'] / chldrn_n_debt_correlation_tbl['задолженности нет']"
   ]
  },
  {
   "cell_type": "code",
   "execution_count": 48,
   "metadata": {
    "scrolled": true
   },
   "outputs": [
    {
     "data": {
      "text/html": [
       "<div>\n",
       "<style scoped>\n",
       "    .dataframe tbody tr th:only-of-type {\n",
       "        vertical-align: middle;\n",
       "    }\n",
       "\n",
       "    .dataframe tbody tr th {\n",
       "        vertical-align: top;\n",
       "    }\n",
       "\n",
       "    .dataframe thead th {\n",
       "        text-align: right;\n",
       "    }\n",
       "</style>\n",
       "<table border=\"1\" class=\"dataframe\">\n",
       "  <thead>\n",
       "    <tr style=\"text-align: right;\">\n",
       "      <th>debt_status</th>\n",
       "      <th>есть задолженность</th>\n",
       "      <th>задолженности нет</th>\n",
       "      <th>ratio</th>\n",
       "    </tr>\n",
       "    <tr>\n",
       "      <th>children_num_category</th>\n",
       "      <th></th>\n",
       "      <th></th>\n",
       "      <th></th>\n",
       "    </tr>\n",
       "  </thead>\n",
       "  <tbody>\n",
       "    <tr>\n",
       "      <th>есть дети</th>\n",
       "      <td>675</td>\n",
       "      <td>6656</td>\n",
       "      <td>0.101412</td>\n",
       "    </tr>\n",
       "    <tr>\n",
       "      <th>нет детей</th>\n",
       "      <td>1058</td>\n",
       "      <td>12964</td>\n",
       "      <td>0.081611</td>\n",
       "    </tr>\n",
       "  </tbody>\n",
       "</table>\n",
       "</div>"
      ],
      "text/plain": [
       "debt_status            есть задолженность  задолженности нет     ratio\n",
       "children_num_category                                                 \n",
       "есть дети                             675               6656  0.101412\n",
       "нет детей                            1058              12964  0.081611"
      ]
     },
     "metadata": {},
     "output_type": "display_data"
    }
   ],
   "source": [
    "# выведем результат на экран\n",
    "display(chldrn_n_debt_correlation_tbl)"
   ]
  },
  {
   "cell_type": "markdown",
   "metadata": {},
   "source": [
    "Уже по сводной таблице видим, что у заемщиков с детьми - больше проблем со своевременным возвратом кредитов в срок. Но давайте также найдем процентное соотношение заемщиков с просрочками в обеих группах."
   ]
  },
  {
   "cell_type": "code",
   "execution_count": 49,
   "metadata": {},
   "outputs": [
    {
     "name": "stdout",
     "output_type": "stream",
     "text": [
      "Процент просрочек по кредитам среди заемщиков с детьми составляет 9.25%\n",
      "Процент просрочек по кредитам среди заемщиков без детей составляет 7.54%\n"
     ]
    }
   ],
   "source": [
    "#посчитаем процентное соотношение заемщиков с просрочками (будем использовать именно числа из сводной таблицы, т.к. это быстрее,\n",
    "# чем строить формулы с длинными названиями столбцов)\n",
    "\n",
    "debtors_with_children_n_with_debt_part = 674 / (674 + 6611)\n",
    "debtors_without_children_n_with_debt_part = 1058 / (1058 + 12980)\n",
    "\n",
    "print(f'Процент просрочек по кредитам среди заемщиков с детьми составляет {debtors_with_children_n_with_debt_part:.2%}')\n",
    "print(f'Процент просрочек по кредитам среди заемщиков без детей составляет {debtors_without_children_n_with_debt_part:.2%}')"
   ]
  },
  {
   "cell_type": "markdown",
   "metadata": {},
   "source": [
    "Как мы видим, заещики с детьми чаще нарушают сроки выплаты по кредиту. Однако разница между группами не так велика."
   ]
  },
  {
   "cell_type": "markdown",
   "metadata": {},
   "source": [
    "**Вывод**"
   ]
  },
  {
   "cell_type": "markdown",
   "metadata": {},
   "source": [
    "По данным, приведенным в таблице, можно сказать, что наличие детей влияет на возврат кредита в срок. Наличие детей повышает вероятность невозврата кредита в срок."
   ]
  },
  {
   "cell_type": "markdown",
   "metadata": {},
   "source": [
    "- Есть ли зависимость между семейным положением и возвратом кредита в срок?"
   ]
  },
  {
   "cell_type": "markdown",
   "metadata": {},
   "source": [
    "Также построим сводную таблицу, где строки - категории заемщиков, выделенные по их семейному положению, столбцы - информация о задолженности."
   ]
  },
  {
   "cell_type": "code",
   "execution_count": 50,
   "metadata": {},
   "outputs": [],
   "source": [
    "# создаем сводную таблицу для получения наглядной информации о наличии/отсутствии корреляции\n",
    "family_status_n_debt_correlation = df.pivot_table(index='family_status', columns='debt_status', values='debt', aggfunc='count')"
   ]
  },
  {
   "cell_type": "code",
   "execution_count": 51,
   "metadata": {},
   "outputs": [
    {
     "data": {
      "text/html": [
       "<div>\n",
       "<style scoped>\n",
       "    .dataframe tbody tr th:only-of-type {\n",
       "        vertical-align: middle;\n",
       "    }\n",
       "\n",
       "    .dataframe tbody tr th {\n",
       "        vertical-align: top;\n",
       "    }\n",
       "\n",
       "    .dataframe thead th {\n",
       "        text-align: right;\n",
       "    }\n",
       "</style>\n",
       "<table border=\"1\" class=\"dataframe\">\n",
       "  <thead>\n",
       "    <tr style=\"text-align: right;\">\n",
       "      <th>debt_status</th>\n",
       "      <th>есть задолженность</th>\n",
       "      <th>задолженности нет</th>\n",
       "    </tr>\n",
       "    <tr>\n",
       "      <th>family_status</th>\n",
       "      <th></th>\n",
       "      <th></th>\n",
       "    </tr>\n",
       "  </thead>\n",
       "  <tbody>\n",
       "    <tr>\n",
       "      <th>Не женат / не замужем</th>\n",
       "      <td>273</td>\n",
       "      <td>2521</td>\n",
       "    </tr>\n",
       "    <tr>\n",
       "      <th>в разводе</th>\n",
       "      <td>85</td>\n",
       "      <td>1100</td>\n",
       "    </tr>\n",
       "    <tr>\n",
       "      <th>вдовец / вдова</th>\n",
       "      <td>62</td>\n",
       "      <td>892</td>\n",
       "    </tr>\n",
       "    <tr>\n",
       "      <th>гражданский брак</th>\n",
       "      <td>386</td>\n",
       "      <td>3744</td>\n",
       "    </tr>\n",
       "    <tr>\n",
       "      <th>женат / замужем</th>\n",
       "      <td>927</td>\n",
       "      <td>11363</td>\n",
       "    </tr>\n",
       "  </tbody>\n",
       "</table>\n",
       "</div>"
      ],
      "text/plain": [
       "debt_status            есть задолженность  задолженности нет\n",
       "family_status                                               \n",
       "Не женат / не замужем                 273               2521\n",
       "в разводе                              85               1100\n",
       "вдовец / вдова                         62                892\n",
       "гражданский брак                      386               3744\n",
       "женат / замужем                       927              11363"
      ]
     },
     "metadata": {},
     "output_type": "display_data"
    }
   ],
   "source": [
    "# выводим таблицу на экран\n",
    "display(family_status_n_debt_correlation)"
   ]
  },
  {
   "cell_type": "markdown",
   "metadata": {},
   "source": [
    "Предлагаем также найти отношение кол-ва заемщиков с задолженностью к кол-ву заемщиков без задолженности в каждой категории. Для этого разделим данные первого столбца на данные второго столбца, а результат занесем в новый столбец сводной таблицы."
   ]
  },
  {
   "cell_type": "code",
   "execution_count": 52,
   "metadata": {},
   "outputs": [],
   "source": [
    "# добавим новый столбец 'ratio' с отношением двух столбцов\n",
    "family_status_n_debt_correlation['ratio'] = family_status_n_debt_correlation['есть задолженность'] / family_status_n_debt_correlation['задолженности нет']"
   ]
  },
  {
   "cell_type": "code",
   "execution_count": 53,
   "metadata": {},
   "outputs": [
    {
     "data": {
      "text/html": [
       "<div>\n",
       "<style scoped>\n",
       "    .dataframe tbody tr th:only-of-type {\n",
       "        vertical-align: middle;\n",
       "    }\n",
       "\n",
       "    .dataframe tbody tr th {\n",
       "        vertical-align: top;\n",
       "    }\n",
       "\n",
       "    .dataframe thead th {\n",
       "        text-align: right;\n",
       "    }\n",
       "</style>\n",
       "<table border=\"1\" class=\"dataframe\">\n",
       "  <thead>\n",
       "    <tr style=\"text-align: right;\">\n",
       "      <th>debt_status</th>\n",
       "      <th>есть задолженность</th>\n",
       "      <th>задолженности нет</th>\n",
       "      <th>ratio</th>\n",
       "    </tr>\n",
       "    <tr>\n",
       "      <th>family_status</th>\n",
       "      <th></th>\n",
       "      <th></th>\n",
       "      <th></th>\n",
       "    </tr>\n",
       "  </thead>\n",
       "  <tbody>\n",
       "    <tr>\n",
       "      <th>Не женат / не замужем</th>\n",
       "      <td>273</td>\n",
       "      <td>2521</td>\n",
       "      <td>0.108290</td>\n",
       "    </tr>\n",
       "    <tr>\n",
       "      <th>в разводе</th>\n",
       "      <td>85</td>\n",
       "      <td>1100</td>\n",
       "      <td>0.077273</td>\n",
       "    </tr>\n",
       "    <tr>\n",
       "      <th>вдовец / вдова</th>\n",
       "      <td>62</td>\n",
       "      <td>892</td>\n",
       "      <td>0.069507</td>\n",
       "    </tr>\n",
       "    <tr>\n",
       "      <th>гражданский брак</th>\n",
       "      <td>386</td>\n",
       "      <td>3744</td>\n",
       "      <td>0.103098</td>\n",
       "    </tr>\n",
       "    <tr>\n",
       "      <th>женат / замужем</th>\n",
       "      <td>927</td>\n",
       "      <td>11363</td>\n",
       "      <td>0.081581</td>\n",
       "    </tr>\n",
       "  </tbody>\n",
       "</table>\n",
       "</div>"
      ],
      "text/plain": [
       "debt_status            есть задолженность  задолженности нет     ratio\n",
       "family_status                                                         \n",
       "Не женат / не замужем                 273               2521  0.108290\n",
       "в разводе                              85               1100  0.077273\n",
       "вдовец / вдова                         62                892  0.069507\n",
       "гражданский брак                      386               3744  0.103098\n",
       "женат / замужем                       927              11363  0.081581"
      ]
     },
     "metadata": {},
     "output_type": "display_data"
    }
   ],
   "source": [
    "# выведем результат на экран\n",
    "display(family_status_n_debt_correlation)"
   ]
  },
  {
   "cell_type": "markdown",
   "metadata": {},
   "source": [
    "Уже по сводной таблице видим, что среди незамужних/неженатых заемщиков и заемщиков, состоящих в гражданском браке, дела с возвратом кредитов в срок обстоят несколько хуже. Но предлагаем найти процент просрочек в каждой группе заемщиков."
   ]
  },
  {
   "cell_type": "code",
   "execution_count": 54,
   "metadata": {},
   "outputs": [
    {
     "name": "stdout",
     "output_type": "stream",
     "text": [
      "Процент просрочек по кредитам среди неженатых/незамужних заемщиков составляет 9.75%\n",
      "Процент просрочек по кредитам среди разведенных заемщиков составляет 7.11%\n",
      "Процент просрочек по кредитам среди заемщиков-вдовцов составляет 6.57%\n",
      "Процент просрочек по кредитам среди заемщиков в гражданском браке составляет 9.35%\n",
      "Процент просрочек по кредитам среди женатых/замужних заемщиков составляет 7.55%\n"
     ]
    }
   ],
   "source": [
    "#посчитаем процентное соотношение заемщиков с просрочками (будем использовать именно числа из сводной таблицы, т.к. это быстрее,\n",
    "# чем строить формулы с длинными названиями столбцов)\n",
    "\n",
    "single_n_debt = 274 / (2535 + 274)\n",
    "married_n_debt = 931 / (931 + 11404)\n",
    "divorced_n_debt = 85 / (85 + 1110)\n",
    "widower_n_debt = 63 / (63 + 896)\n",
    "cohabitation_n_debt = 388 / (388 + 3760)\n",
    "\n",
    "print(f'Процент просрочек по кредитам среди неженатых/незамужних заемщиков составляет {single_n_debt:.2%}')\n",
    "print(f'Процент просрочек по кредитам среди разведенных заемщиков составляет {divorced_n_debt:.2%}')\n",
    "print(f'Процент просрочек по кредитам среди заемщиков-вдовцов составляет {widower_n_debt:.2%}')\n",
    "print(f'Процент просрочек по кредитам среди заемщиков в гражданском браке составляет {cohabitation_n_debt:.2%}')\n",
    "print(f'Процент просрочек по кредитам среди женатых/замужних заемщиков составляет {married_n_debt:.2%}')"
   ]
  },
  {
   "cell_type": "markdown",
   "metadata": {},
   "source": [
    "Опять же из данных таблицы мы видим, что заемщики, не состоящие в законном браке, безответственнее относятся к выплате кредита в срок."
   ]
  },
  {
   "cell_type": "markdown",
   "metadata": {},
   "source": [
    "**Вывод**"
   ]
  },
  {
   "cell_type": "markdown",
   "metadata": {},
   "source": [
    "По данным таблицы можно сказать, что есть небольшая взаимосвязь между семейным положением и возвратом кредита в срок."
   ]
  },
  {
   "cell_type": "markdown",
   "metadata": {},
   "source": [
    "- Есть ли зависимость между уровнем дохода и возвратом кредита в срок?"
   ]
  },
  {
   "cell_type": "markdown",
   "metadata": {},
   "source": [
    "Построим сводную таблицу, где строки - категории заемщиков, выделенные по их уровню дохода, столбцы - информация о задолженности."
   ]
  },
  {
   "cell_type": "code",
   "execution_count": 55,
   "metadata": {},
   "outputs": [
    {
     "data": {
      "text/html": [
       "<div>\n",
       "<style scoped>\n",
       "    .dataframe tbody tr th:only-of-type {\n",
       "        vertical-align: middle;\n",
       "    }\n",
       "\n",
       "    .dataframe tbody tr th {\n",
       "        vertical-align: top;\n",
       "    }\n",
       "\n",
       "    .dataframe thead th {\n",
       "        text-align: right;\n",
       "    }\n",
       "</style>\n",
       "<table border=\"1\" class=\"dataframe\">\n",
       "  <thead>\n",
       "    <tr style=\"text-align: right;\">\n",
       "      <th>debt_status</th>\n",
       "      <th>есть задолженность</th>\n",
       "      <th>задолженности нет</th>\n",
       "    </tr>\n",
       "    <tr>\n",
       "      <th>total_income_category</th>\n",
       "      <th></th>\n",
       "      <th></th>\n",
       "    </tr>\n",
       "  </thead>\n",
       "  <tbody>\n",
       "    <tr>\n",
       "      <th>низкий доход</th>\n",
       "      <td>343</td>\n",
       "      <td>3928</td>\n",
       "    </tr>\n",
       "    <tr>\n",
       "      <th>доход ниже среднего</th>\n",
       "      <td>358</td>\n",
       "      <td>3913</td>\n",
       "    </tr>\n",
       "    <tr>\n",
       "      <th>средний доход</th>\n",
       "      <td>374</td>\n",
       "      <td>3896</td>\n",
       "    </tr>\n",
       "    <tr>\n",
       "      <th>доход выше среднего</th>\n",
       "      <td>359</td>\n",
       "      <td>3911</td>\n",
       "    </tr>\n",
       "    <tr>\n",
       "      <th>высокий доход</th>\n",
       "      <td>299</td>\n",
       "      <td>3972</td>\n",
       "    </tr>\n",
       "  </tbody>\n",
       "</table>\n",
       "</div>"
      ],
      "text/plain": [
       "debt_status            есть задолженность  задолженности нет\n",
       "total_income_category                                       \n",
       "низкий доход                          343               3928\n",
       "доход ниже среднего                   358               3913\n",
       "средний доход                         374               3896\n",
       "доход выше среднего                   359               3911\n",
       "высокий доход                         299               3972"
      ]
     },
     "metadata": {},
     "output_type": "display_data"
    }
   ],
   "source": [
    "# создаем сводную таблицу для получения наглядной информации о наличии/отсутствии корреляции\n",
    "# и выведем ее на экран\n",
    "ttl_income_n_debt_correlation = df.pivot_table(index='total_income_category', columns='debt_status', values='debt', aggfunc='count')\n",
    "display(ttl_income_n_debt_correlation)"
   ]
  },
  {
   "cell_type": "markdown",
   "metadata": {},
   "source": [
    "Найдем отношение кол-ва заемщиков с задолженностью к кол-ву заемщиков без задолженности в каждой категории. Для этого разделим данные первого столбца на данные второго столбца, а результат занесем в новый столбец сводной таблицы."
   ]
  },
  {
   "cell_type": "code",
   "execution_count": 56,
   "metadata": {},
   "outputs": [
    {
     "data": {
      "text/html": [
       "<div>\n",
       "<style scoped>\n",
       "    .dataframe tbody tr th:only-of-type {\n",
       "        vertical-align: middle;\n",
       "    }\n",
       "\n",
       "    .dataframe tbody tr th {\n",
       "        vertical-align: top;\n",
       "    }\n",
       "\n",
       "    .dataframe thead th {\n",
       "        text-align: right;\n",
       "    }\n",
       "</style>\n",
       "<table border=\"1\" class=\"dataframe\">\n",
       "  <thead>\n",
       "    <tr style=\"text-align: right;\">\n",
       "      <th>debt_status</th>\n",
       "      <th>есть задолженность</th>\n",
       "      <th>задолженности нет</th>\n",
       "      <th>ratio</th>\n",
       "    </tr>\n",
       "    <tr>\n",
       "      <th>total_income_category</th>\n",
       "      <th></th>\n",
       "      <th></th>\n",
       "      <th></th>\n",
       "    </tr>\n",
       "  </thead>\n",
       "  <tbody>\n",
       "    <tr>\n",
       "      <th>низкий доход</th>\n",
       "      <td>343</td>\n",
       "      <td>3928</td>\n",
       "      <td>0.087322</td>\n",
       "    </tr>\n",
       "    <tr>\n",
       "      <th>доход ниже среднего</th>\n",
       "      <td>358</td>\n",
       "      <td>3913</td>\n",
       "      <td>0.091490</td>\n",
       "    </tr>\n",
       "    <tr>\n",
       "      <th>средний доход</th>\n",
       "      <td>374</td>\n",
       "      <td>3896</td>\n",
       "      <td>0.095996</td>\n",
       "    </tr>\n",
       "    <tr>\n",
       "      <th>доход выше среднего</th>\n",
       "      <td>359</td>\n",
       "      <td>3911</td>\n",
       "      <td>0.091792</td>\n",
       "    </tr>\n",
       "    <tr>\n",
       "      <th>высокий доход</th>\n",
       "      <td>299</td>\n",
       "      <td>3972</td>\n",
       "      <td>0.075277</td>\n",
       "    </tr>\n",
       "  </tbody>\n",
       "</table>\n",
       "</div>"
      ],
      "text/plain": [
       "debt_status            есть задолженность  задолженности нет     ratio\n",
       "total_income_category                                                 \n",
       "низкий доход                          343               3928  0.087322\n",
       "доход ниже среднего                   358               3913  0.091490\n",
       "средний доход                         374               3896  0.095996\n",
       "доход выше среднего                   359               3911  0.091792\n",
       "высокий доход                         299               3972  0.075277"
      ]
     },
     "metadata": {},
     "output_type": "display_data"
    }
   ],
   "source": [
    "# добавим новый столбец 'ratio' с отношением двух столбцов\n",
    "ttl_income_n_debt_correlation['ratio'] = ttl_income_n_debt_correlation['есть задолженность'] / ttl_income_n_debt_correlation['задолженности нет']\n",
    "# и выведем результат на экран\n",
    "display(ttl_income_n_debt_correlation)"
   ]
  },
  {
   "cell_type": "markdown",
   "metadata": {},
   "source": [
    "Уже по сводной таблице видим, что среди заемщиков со средним доходом и доходом выше среднего дела с возвратом кредитов в срок обстоят несколько хуже. Но предлагаем найти процент просрочек в каждой группе заемщиков."
   ]
  },
  {
   "cell_type": "code",
   "execution_count": 57,
   "metadata": {},
   "outputs": [
    {
     "name": "stdout",
     "output_type": "stream",
     "text": [
      "Процент просрочек по кредитам среди заемщиков с низким доходом составляет 8.02%\n",
      "Процент просрочек по кредитам среди заемщиков с доходом ниже среднего составляет 8.09%\n",
      "Процент просрочек по кредитам среди заемщиков со средним доходом составляет 8.86%\n",
      "Процент просрочек по кредитам среди заемщиков с доходом выше среднего составляет 8.65%\n",
      "Процент просрочек по кредитам среди заемщиков с высоким доходом составляет 6.99%\n"
     ]
    }
   ],
   "source": [
    "#посчитаем процентное соотношение заемщиков с просрочками (будем использовать именно числа из сводной таблицы, т.к. это быстрее,\n",
    "# чем строить формулы с длинными названиями столбцов)\n",
    "\n",
    "poor_n_debt = 344 / (344 + 3946)\n",
    "not_so_poor_n_debt = 347 / (347 + 3942)\n",
    "not_poor_not_rich_n_debt = 380 / (380 + 3909)\n",
    "lttl_bit_less_than_rich_n_debt = 370 / (370 + 3909)\n",
    "rich_n_debt = 300 / (300 + 3989)\n",
    "\n",
    "print(f'Процент просрочек по кредитам среди заемщиков с низким доходом составляет {poor_n_debt:.2%}')\n",
    "print(f'Процент просрочек по кредитам среди заемщиков с доходом ниже среднего составляет {not_so_poor_n_debt:.2%}')\n",
    "print(f'Процент просрочек по кредитам среди заемщиков со средним доходом составляет {not_poor_not_rich_n_debt:.2%}')\n",
    "print(f'Процент просрочек по кредитам среди заемщиков с доходом выше среднего составляет {lttl_bit_less_than_rich_n_debt:.2%}')\n",
    "print(f'Процент просрочек по кредитам среди заемщиков с высоким доходом составляет {rich_n_debt:.2%}')"
   ]
  },
  {
   "cell_type": "markdown",
   "metadata": {},
   "source": [
    "Проценты говорят, что меньше всего просрочек среди заемщиков с высоким доходом. У заемщиков с низким доходом и доходом ниже среднего с возвратом чуть лучше, чем у заемщиков со средним доходом и доходов выше среднего."
   ]
  },
  {
   "cell_type": "markdown",
   "metadata": {},
   "source": [
    "**Вывод**"
   ]
  },
  {
   "cell_type": "markdown",
   "metadata": {},
   "source": [
    "Есть небольшая взаимосвязь между уровнем дохода и возватом кредита в срок."
   ]
  },
  {
   "cell_type": "markdown",
   "metadata": {},
   "source": [
    "- Как разные цели кредита влияют на его возврат в срок?"
   ]
  },
  {
   "cell_type": "markdown",
   "metadata": {},
   "source": [
    "Построим сводную таблицу, где строки - категории заемщиков, выделенные по их целям на кредит, столбцы - информация о задолженности."
   ]
  },
  {
   "cell_type": "code",
   "execution_count": 58,
   "metadata": {},
   "outputs": [
    {
     "data": {
      "text/html": [
       "<div>\n",
       "<style scoped>\n",
       "    .dataframe tbody tr th:only-of-type {\n",
       "        vertical-align: middle;\n",
       "    }\n",
       "\n",
       "    .dataframe tbody tr th {\n",
       "        vertical-align: top;\n",
       "    }\n",
       "\n",
       "    .dataframe thead th {\n",
       "        text-align: right;\n",
       "    }\n",
       "</style>\n",
       "<table border=\"1\" class=\"dataframe\">\n",
       "  <thead>\n",
       "    <tr style=\"text-align: right;\">\n",
       "      <th>debt_status</th>\n",
       "      <th>есть задолженность</th>\n",
       "      <th>задолженности нет</th>\n",
       "    </tr>\n",
       "    <tr>\n",
       "      <th>purpose_category</th>\n",
       "      <th></th>\n",
       "      <th></th>\n",
       "    </tr>\n",
       "  </thead>\n",
       "  <tbody>\n",
       "    <tr>\n",
       "      <th>автокредит</th>\n",
       "      <td>400</td>\n",
       "      <td>3884</td>\n",
       "    </tr>\n",
       "    <tr>\n",
       "      <th>недвижимость</th>\n",
       "      <td>635</td>\n",
       "      <td>8256</td>\n",
       "    </tr>\n",
       "    <tr>\n",
       "      <th>образование</th>\n",
       "      <td>370</td>\n",
       "      <td>3625</td>\n",
       "    </tr>\n",
       "    <tr>\n",
       "      <th>свадьба</th>\n",
       "      <td>184</td>\n",
       "      <td>2126</td>\n",
       "    </tr>\n",
       "    <tr>\n",
       "      <th>строительство</th>\n",
       "      <td>144</td>\n",
       "      <td>1729</td>\n",
       "    </tr>\n",
       "  </tbody>\n",
       "</table>\n",
       "</div>"
      ],
      "text/plain": [
       "debt_status       есть задолженность  задолженности нет\n",
       "purpose_category                                       \n",
       "автокредит                       400               3884\n",
       "недвижимость                     635               8256\n",
       "образование                      370               3625\n",
       "свадьба                          184               2126\n",
       "строительство                    144               1729"
      ]
     },
     "metadata": {},
     "output_type": "display_data"
    }
   ],
   "source": [
    "# создаем сводную таблицу для получения наглядной информации о наличии/отсутствии корреляции\n",
    "# и выведем ее на экран\n",
    "purpose_n_debt_correlation = df.pivot_table(index='purpose_category', columns='debt_status', values='debt', aggfunc='count')\n",
    "display(purpose_n_debt_correlation)"
   ]
  },
  {
   "cell_type": "markdown",
   "metadata": {},
   "source": [
    "Найдем отношение кол-ва заемщиков с задолженностью к кол-ву заемщиков без задолженности в каждой категории. Для этого разделим данные первого столбца на данные второго столбца, а результат занесем в новый столбец сводной таблицы."
   ]
  },
  {
   "cell_type": "code",
   "execution_count": 59,
   "metadata": {},
   "outputs": [
    {
     "data": {
      "text/html": [
       "<div>\n",
       "<style scoped>\n",
       "    .dataframe tbody tr th:only-of-type {\n",
       "        vertical-align: middle;\n",
       "    }\n",
       "\n",
       "    .dataframe tbody tr th {\n",
       "        vertical-align: top;\n",
       "    }\n",
       "\n",
       "    .dataframe thead th {\n",
       "        text-align: right;\n",
       "    }\n",
       "</style>\n",
       "<table border=\"1\" class=\"dataframe\">\n",
       "  <thead>\n",
       "    <tr style=\"text-align: right;\">\n",
       "      <th>debt_status</th>\n",
       "      <th>есть задолженность</th>\n",
       "      <th>задолженности нет</th>\n",
       "      <th>ratio</th>\n",
       "    </tr>\n",
       "    <tr>\n",
       "      <th>purpose_category</th>\n",
       "      <th></th>\n",
       "      <th></th>\n",
       "      <th></th>\n",
       "    </tr>\n",
       "  </thead>\n",
       "  <tbody>\n",
       "    <tr>\n",
       "      <th>автокредит</th>\n",
       "      <td>400</td>\n",
       "      <td>3884</td>\n",
       "      <td>0.102987</td>\n",
       "    </tr>\n",
       "    <tr>\n",
       "      <th>недвижимость</th>\n",
       "      <td>635</td>\n",
       "      <td>8256</td>\n",
       "      <td>0.076914</td>\n",
       "    </tr>\n",
       "    <tr>\n",
       "      <th>образование</th>\n",
       "      <td>370</td>\n",
       "      <td>3625</td>\n",
       "      <td>0.102069</td>\n",
       "    </tr>\n",
       "    <tr>\n",
       "      <th>свадьба</th>\n",
       "      <td>184</td>\n",
       "      <td>2126</td>\n",
       "      <td>0.086548</td>\n",
       "    </tr>\n",
       "    <tr>\n",
       "      <th>строительство</th>\n",
       "      <td>144</td>\n",
       "      <td>1729</td>\n",
       "      <td>0.083285</td>\n",
       "    </tr>\n",
       "  </tbody>\n",
       "</table>\n",
       "</div>"
      ],
      "text/plain": [
       "debt_status       есть задолженность  задолженности нет     ratio\n",
       "purpose_category                                                 \n",
       "автокредит                       400               3884  0.102987\n",
       "недвижимость                     635               8256  0.076914\n",
       "образование                      370               3625  0.102069\n",
       "свадьба                          184               2126  0.086548\n",
       "строительство                    144               1729  0.083285"
      ]
     },
     "metadata": {},
     "output_type": "display_data"
    }
   ],
   "source": [
    "# добавим новый столбец 'ratio' с отношением двух столбцов\n",
    "purpose_n_debt_correlation['ratio'] = purpose_n_debt_correlation['есть задолженность'] / purpose_n_debt_correlation['задолженности нет']\n",
    "# и выведем результат на экран\n",
    "display(purpose_n_debt_correlation)"
   ]
  },
  {
   "cell_type": "markdown",
   "metadata": {},
   "source": [
    "По таблице мы видим, что коэффициент задолженности выше у тех заемщиков, кто берут кредиты на покупку автомобиля и получение образования, но опять же этот коэффициент слишком незначителен. Предлагаем также найти процент просрочек для каждой категории целей кредита."
   ]
  },
  {
   "cell_type": "code",
   "execution_count": 60,
   "metadata": {},
   "outputs": [
    {
     "name": "stdout",
     "output_type": "stream",
     "text": [
      "Процент просрочек по кредитам, взятым на покупку автомобиля, составляет 9.36%\n",
      "Процент просрочек по кредитам, взятых на покупку недвижимости, составляет 7.25%\n",
      "Процент просрочек по кредитам, взятым на получение образования, составляет 9.22%\n",
      "Процент просрочек по кредитам, взятым на ремонт, составляет 5.78%\n",
      "Процент просрочек по кредитам, взятым на свадьбу, составляет 8.01%\n",
      "Процент просрочек по кредитам, взятым на строительство дома, составляет 7.67%\n"
     ]
    }
   ],
   "source": [
    "#посчитаем процентное соотношение заемщиков с просрочками (будем использовать именно числа из сводной таблицы, т.к. это быстрее,\n",
    "# чем строить формулы с длинными названиями столбцов)\n",
    "\n",
    "car_n_debt = 403 / (403 + 3903)\n",
    "real_estate_n_debt = 603 / (603 + 7717)\n",
    "education_n_debt = 370 / (370 + 3643)\n",
    "repairs_n_debt = 35 / (35 + 571)\n",
    "wedding_n_debt = 186 / (186 + 2137)\n",
    "contsruction_n_debt = 144 / (144 + 1734)\n",
    "\n",
    "print(f'Процент просрочек по кредитам, взятым на покупку автомобиля, составляет {car_n_debt:.2%}')\n",
    "print(f'Процент просрочек по кредитам, взятых на покупку недвижимости, составляет {real_estate_n_debt:.2%}')\n",
    "print(f'Процент просрочек по кредитам, взятым на получение образования, составляет {education_n_debt:.2%}')\n",
    "print(f'Процент просрочек по кредитам, взятым на ремонт, составляет {repairs_n_debt:.2%}')\n",
    "print(f'Процент просрочек по кредитам, взятым на свадьбу, составляет {wedding_n_debt:.2%}')\n",
    "print(f'Процент просрочек по кредитам, взятым на строительство дома, составляет {contsruction_n_debt:.2%}')"
   ]
  },
  {
   "cell_type": "markdown",
   "metadata": {},
   "source": [
    "Самый высокий процент просрочек по кредитам на авто и образование. Третье место - у свадеб."
   ]
  },
  {
   "cell_type": "markdown",
   "metadata": {},
   "source": [
    "**Вывод**"
   ]
  },
  {
   "cell_type": "markdown",
   "metadata": {},
   "source": [
    "Возможно, есть взаимосвязь между целью кредита и возвратом кредита в срок, а возможно, это просто статистическая погрешность."
   ]
  },
  {
   "cell_type": "markdown",
   "metadata": {},
   "source": [
    "## Шаг 4. Общий вывод"
   ]
  },
  {
   "cell_type": "markdown",
   "metadata": {},
   "source": [
    "В рамках данного исследования перед нами стояла задача подтвердить 4 гипотезы относительно взаимосвязи некоторых фактов биографии жизни заемщика и возвратом его кредита в срок:\n",
    "\n",
    "**1. Есть ли взаимосвязь между количеством детей и возвратом кредита в срок?**\n",
    "\n",
    "Гипотеза частично подтверждается значением коэффициента корреляции фактора и задолженности: заемщики с детьми чаще нарушают срок оплаты, чем земщики, у которых нет детей.\n",
    "\n",
    "*Однако коэффициент корреляции слишком уж невелик, чтобы заявлять о том, что это решающая взаимосвязь, которую стоит ставить в топ критериев при скоринге потенциальных заемщиков.*\n",
    "\n",
    "**2. Есть ли взаимосвязь между семейным статусом заемщика и возвратом кредита в срок?**\n",
    "\n",
    "Гипотеза тоже частично подтвердилась, люди семейные или хотя бы уже бывшие в браке и познавшие груз ответственности чаще выплачивают кредит в срок.\n",
    "\n",
    "*Однако коэффициент корреляции слишком уж невелик, чтобы заявлять о том, что это решающая взаимосвязь, которую стоит ставить в топ критериев при скоринге потенциальных заемщиков.*\n",
    "\n",
    "**3. Есть ли взаимосвязь между уровнем дохода и возвратом кредита в срок?**\n",
    "\n",
    "Гипотеза не подтвердилась. Исходя из данных таблицы уровень дохода особо не влияет на наличие или отсутствие задолженности. Да, среди заемщиков с высоким доходом самый маленький процент просрочек, но вот среди заемщиков с доходом средним и выше среднего процент просрочек выше, чем у других.\n",
    "\n",
    "**4. Есть ли взаимосвязь между целью кредита и возвратом кредита в срок?**\n",
    "\n",
    "Можно сказать, что наша гипотеза не подтвердилась, потому что по нашим ожиданиям заемщики, берущие кредит на свадьбу, ремонт и автомобиль, реже выплачивают кредит в срок, а заемщики, берущие кредит на недвижимость и образование - чаще. Но судя по данным, самые ответственные и надежные в этом плане - те, кто планирует ремонт.\n",
    "\n",
    "*Однако коэффициент корреляции слишком уж невелик, чтобы заявлять о том, что это решающая взаимосвязь, которую стоит ставить в топ критериев при скоринге потенциальных заемщиков.*\n"
   ]
  }
 ],
 "metadata": {
  "ExecuteTimeLog": [
   {
    "duration": 660,
    "start_time": "2021-11-29T10:31:32.615Z"
   },
   {
    "duration": 6459,
    "start_time": "2021-11-29T10:37:40.736Z"
   },
   {
    "duration": 64,
    "start_time": "2021-11-29T10:38:00.966Z"
   },
   {
    "duration": 19,
    "start_time": "2021-11-29T10:58:17.735Z"
   },
   {
    "duration": 11,
    "start_time": "2021-11-29T11:03:04.906Z"
   },
   {
    "duration": 297,
    "start_time": "2021-11-29T18:13:44.118Z"
   },
   {
    "duration": 572,
    "start_time": "2021-11-29T18:13:50.866Z"
   },
   {
    "duration": 49,
    "start_time": "2021-11-29T18:13:52.412Z"
   },
   {
    "duration": 18,
    "start_time": "2021-11-29T18:13:53.856Z"
   },
   {
    "duration": 10,
    "start_time": "2021-11-29T18:14:00.579Z"
   },
   {
    "duration": 13,
    "start_time": "2021-11-29T19:30:49.946Z"
   },
   {
    "duration": 296,
    "start_time": "2021-11-29T20:00:27.664Z"
   },
   {
    "duration": 266,
    "start_time": "2021-11-29T20:00:51.497Z"
   },
   {
    "duration": 22,
    "start_time": "2021-11-29T20:01:27.776Z"
   },
   {
    "duration": 4,
    "start_time": "2021-11-29T20:02:16.196Z"
   },
   {
    "duration": 507,
    "start_time": "2021-11-30T08:21:13.893Z"
   },
   {
    "duration": 780,
    "start_time": "2021-11-30T08:21:21.737Z"
   },
   {
    "duration": 67,
    "start_time": "2021-11-30T08:21:24.066Z"
   },
   {
    "duration": 29,
    "start_time": "2021-11-30T08:21:24.626Z"
   },
   {
    "duration": 15,
    "start_time": "2021-11-30T08:21:25.575Z"
   },
   {
    "duration": 12,
    "start_time": "2021-11-30T08:21:28.525Z"
   },
   {
    "duration": 20,
    "start_time": "2021-11-30T08:21:29.742Z"
   },
   {
    "duration": 19,
    "start_time": "2021-11-30T08:22:12.322Z"
   },
   {
    "duration": 609,
    "start_time": "2021-11-30T18:15:31.214Z"
   },
   {
    "duration": 51,
    "start_time": "2021-11-30T18:15:32.874Z"
   },
   {
    "duration": 22,
    "start_time": "2021-11-30T18:15:33.548Z"
   },
   {
    "duration": 15,
    "start_time": "2021-11-30T18:15:34.272Z"
   },
   {
    "duration": 14,
    "start_time": "2021-11-30T18:15:36.497Z"
   },
   {
    "duration": 11,
    "start_time": "2021-11-30T18:15:38.133Z"
   },
   {
    "duration": 4,
    "start_time": "2021-11-30T18:15:39.066Z"
   },
   {
    "duration": 13,
    "start_time": "2021-11-30T18:15:56.668Z"
   },
   {
    "duration": 5,
    "start_time": "2021-11-30T18:18:24.196Z"
   },
   {
    "duration": 395,
    "start_time": "2021-11-30T18:20:07.721Z"
   },
   {
    "duration": 273,
    "start_time": "2021-11-30T18:22:59.263Z"
   },
   {
    "duration": 10,
    "start_time": "2021-11-30T18:23:36.765Z"
   },
   {
    "duration": 257,
    "start_time": "2021-11-30T18:32:33.925Z"
   },
   {
    "duration": 5,
    "start_time": "2021-11-30T18:34:10.457Z"
   },
   {
    "duration": 291,
    "start_time": "2021-11-30T18:35:18.662Z"
   },
   {
    "duration": 5,
    "start_time": "2021-11-30T18:38:26.604Z"
   },
   {
    "duration": 4,
    "start_time": "2021-11-30T18:39:12.085Z"
   },
   {
    "duration": 101,
    "start_time": "2021-11-30T18:46:45.312Z"
   },
   {
    "duration": 284,
    "start_time": "2021-11-30T18:47:01.365Z"
   },
   {
    "duration": 6908,
    "start_time": "2021-11-30T18:50:27.135Z"
   },
   {
    "duration": 21138,
    "start_time": "2021-11-30T18:56:48.506Z"
   },
   {
    "duration": 91,
    "start_time": "2021-11-30T19:00:32.985Z"
   },
   {
    "duration": 10,
    "start_time": "2021-11-30T19:00:56.127Z"
   },
   {
    "duration": 12,
    "start_time": "2021-11-30T19:01:06.142Z"
   },
   {
    "duration": 2539,
    "start_time": "2021-12-01T17:46:39.297Z"
   },
   {
    "duration": 4,
    "start_time": "2021-12-01T17:46:48.933Z"
   },
   {
    "duration": 89,
    "start_time": "2021-12-01T17:46:50.250Z"
   },
   {
    "duration": 39,
    "start_time": "2021-12-01T17:46:53.260Z"
   },
   {
    "duration": 23,
    "start_time": "2021-12-01T17:46:55.526Z"
   },
   {
    "duration": 12,
    "start_time": "2021-12-01T17:47:00.198Z"
   },
   {
    "duration": 35,
    "start_time": "2021-12-01T17:47:02.177Z"
   },
   {
    "duration": 6,
    "start_time": "2021-12-01T17:47:03.059Z"
   },
   {
    "duration": 20,
    "start_time": "2021-12-01T17:47:04.323Z"
   },
   {
    "duration": 5,
    "start_time": "2021-12-01T17:47:07.554Z"
   },
   {
    "duration": 19,
    "start_time": "2021-12-01T17:47:08.601Z"
   },
   {
    "duration": 4743,
    "start_time": "2021-12-01T17:47:13.512Z"
   },
   {
    "duration": 7392,
    "start_time": "2021-12-01T17:48:45.317Z"
   },
   {
    "duration": 37,
    "start_time": "2021-12-01T17:49:30.969Z"
   },
   {
    "duration": 37,
    "start_time": "2021-12-01T17:56:25.395Z"
   },
   {
    "duration": 8,
    "start_time": "2021-12-01T17:56:36.219Z"
   },
   {
    "duration": 11,
    "start_time": "2021-12-01T17:58:56.926Z"
   },
   {
    "duration": 170,
    "start_time": "2021-12-01T18:08:26.184Z"
   },
   {
    "duration": 9,
    "start_time": "2021-12-01T18:14:55.296Z"
   },
   {
    "duration": 326,
    "start_time": "2021-12-01T18:17:11.082Z"
   },
   {
    "duration": 56,
    "start_time": "2021-12-01T18:17:56.968Z"
   },
   {
    "duration": 20,
    "start_time": "2021-12-01T18:21:16.959Z"
   },
   {
    "duration": 57,
    "start_time": "2021-12-01T18:26:05.423Z"
   },
   {
    "duration": 5,
    "start_time": "2021-12-01T18:28:44.322Z"
   },
   {
    "duration": 316,
    "start_time": "2021-12-01T18:35:51.343Z"
   },
   {
    "duration": 106,
    "start_time": "2021-12-01T19:06:26.146Z"
   },
   {
    "duration": 829,
    "start_time": "2021-12-01T19:07:08.657Z"
   },
   {
    "duration": 109,
    "start_time": "2021-12-01T19:11:35.466Z"
   },
   {
    "duration": 99,
    "start_time": "2021-12-01T19:11:49.703Z"
   },
   {
    "duration": 389,
    "start_time": "2021-12-01T19:19:40.901Z"
   },
   {
    "duration": 19,
    "start_time": "2021-12-01T19:26:59.082Z"
   },
   {
    "duration": 11,
    "start_time": "2021-12-01T19:27:15.323Z"
   },
   {
    "duration": 7,
    "start_time": "2021-12-01T19:28:38.787Z"
   },
   {
    "duration": 35,
    "start_time": "2021-12-01T19:28:55.208Z"
   },
   {
    "duration": 9,
    "start_time": "2021-12-01T19:29:25.043Z"
   },
   {
    "duration": 21,
    "start_time": "2021-12-01T19:29:34.629Z"
   },
   {
    "duration": 12,
    "start_time": "2021-12-01T19:30:34.129Z"
   },
   {
    "duration": 7,
    "start_time": "2021-12-01T19:31:06.086Z"
   },
   {
    "duration": 5,
    "start_time": "2021-12-01T19:31:28.826Z"
   },
   {
    "duration": 22,
    "start_time": "2021-12-01T19:31:36.195Z"
   },
   {
    "duration": 6,
    "start_time": "2021-12-01T19:31:49.757Z"
   },
   {
    "duration": 6,
    "start_time": "2021-12-01T19:32:03.637Z"
   },
   {
    "duration": 18,
    "start_time": "2021-12-01T19:32:11.262Z"
   },
   {
    "duration": 97,
    "start_time": "2021-12-01T19:39:21.144Z"
   },
   {
    "duration": 13,
    "start_time": "2021-12-01T19:50:08.427Z"
   },
   {
    "duration": 7203,
    "start_time": "2021-12-01T19:50:41.522Z"
   },
   {
    "duration": 292,
    "start_time": "2021-12-01T19:50:53.739Z"
   },
   {
    "duration": 7245,
    "start_time": "2021-12-01T19:51:03.322Z"
   },
   {
    "duration": 31,
    "start_time": "2021-12-01T19:52:07.373Z"
   },
   {
    "duration": 118,
    "start_time": "2021-12-01T19:52:40.519Z"
   },
   {
    "duration": 8488,
    "start_time": "2021-12-01T19:52:49.291Z"
   },
   {
    "duration": 8,
    "start_time": "2021-12-01T19:54:22.361Z"
   },
   {
    "duration": 14,
    "start_time": "2021-12-01T20:01:51.897Z"
   },
   {
    "duration": 7,
    "start_time": "2021-12-01T20:14:11.467Z"
   },
   {
    "duration": 8,
    "start_time": "2021-12-01T20:14:59.238Z"
   },
   {
    "duration": 13,
    "start_time": "2021-12-01T20:20:52.099Z"
   },
   {
    "duration": 33,
    "start_time": "2021-12-01T20:22:34.202Z"
   },
   {
    "duration": 8,
    "start_time": "2021-12-01T20:27:11.448Z"
   },
   {
    "duration": 32,
    "start_time": "2021-12-01T20:27:41.597Z"
   },
   {
    "duration": 103,
    "start_time": "2021-12-01T21:01:32.561Z"
   },
   {
    "duration": 20,
    "start_time": "2021-12-01T21:02:28.136Z"
   },
   {
    "duration": 39,
    "start_time": "2021-12-01T21:13:59.882Z"
   },
   {
    "duration": 95,
    "start_time": "2021-12-01T21:18:14.301Z"
   },
   {
    "duration": 5,
    "start_time": "2021-12-01T21:22:13.495Z"
   },
   {
    "duration": 1850,
    "start_time": "2021-12-01T21:24:30.255Z"
   },
   {
    "duration": 298,
    "start_time": "2021-12-01T21:25:56.214Z"
   },
   {
    "duration": 5,
    "start_time": "2021-12-01T21:26:07.050Z"
   },
   {
    "duration": 1576,
    "start_time": "2021-12-01T21:26:08.519Z"
   },
   {
    "duration": 105,
    "start_time": "2021-12-01T21:27:15.151Z"
   },
   {
    "duration": 5,
    "start_time": "2021-12-01T21:28:06.474Z"
   },
   {
    "duration": 294,
    "start_time": "2021-12-01T21:28:15.696Z"
   },
   {
    "duration": 5,
    "start_time": "2021-12-01T21:28:54.660Z"
   },
   {
    "duration": 15,
    "start_time": "2021-12-01T21:29:19.194Z"
   },
   {
    "duration": 31,
    "start_time": "2021-12-01T21:29:27.920Z"
   },
   {
    "duration": 85,
    "start_time": "2021-12-01T21:35:55.119Z"
   },
   {
    "duration": 12,
    "start_time": "2021-12-01T21:36:21.024Z"
   },
   {
    "duration": 90,
    "start_time": "2021-12-01T21:45:03.305Z"
   },
   {
    "duration": 6,
    "start_time": "2021-12-01T21:45:30.190Z"
   },
   {
    "duration": 46,
    "start_time": "2021-12-01T21:46:11.596Z"
   },
   {
    "duration": 16,
    "start_time": "2021-12-01T21:46:33.774Z"
   },
   {
    "duration": 17,
    "start_time": "2021-12-01T21:46:41.953Z"
   },
   {
    "duration": 4384,
    "start_time": "2021-12-01T21:47:40.530Z"
   },
   {
    "duration": 6,
    "start_time": "2021-12-01T21:49:00.360Z"
   },
   {
    "duration": 4,
    "start_time": "2021-12-01T21:50:40.425Z"
   },
   {
    "duration": 63,
    "start_time": "2021-12-01T21:50:41.262Z"
   },
   {
    "duration": 21,
    "start_time": "2021-12-01T21:50:44.378Z"
   },
   {
    "duration": 21,
    "start_time": "2021-12-01T21:50:49.186Z"
   },
   {
    "duration": 17,
    "start_time": "2021-12-01T21:50:53.738Z"
   },
   {
    "duration": 36,
    "start_time": "2021-12-01T21:50:55.567Z"
   },
   {
    "duration": 6,
    "start_time": "2021-12-01T21:50:56.189Z"
   },
   {
    "duration": 37,
    "start_time": "2021-12-01T21:50:57.391Z"
   },
   {
    "duration": 6,
    "start_time": "2021-12-01T21:51:00.125Z"
   },
   {
    "duration": 5,
    "start_time": "2021-12-01T21:51:00.691Z"
   },
   {
    "duration": 14,
    "start_time": "2021-12-01T21:51:03.656Z"
   },
   {
    "duration": 5,
    "start_time": "2021-12-01T21:51:06.034Z"
   },
   {
    "duration": 19,
    "start_time": "2021-12-01T21:51:07.371Z"
   },
   {
    "duration": 4195,
    "start_time": "2021-12-01T21:51:11.512Z"
   },
   {
    "duration": 10,
    "start_time": "2021-12-01T21:51:25.837Z"
   },
   {
    "duration": 34,
    "start_time": "2021-12-01T21:51:30.531Z"
   },
   {
    "duration": 6,
    "start_time": "2021-12-01T21:51:35.838Z"
   },
   {
    "duration": 17,
    "start_time": "2021-12-01T21:51:36.256Z"
   },
   {
    "duration": 33,
    "start_time": "2021-12-01T21:51:39.247Z"
   },
   {
    "duration": 6,
    "start_time": "2021-12-01T21:51:40.186Z"
   },
   {
    "duration": 6,
    "start_time": "2021-12-01T21:51:43.832Z"
   },
   {
    "duration": 17,
    "start_time": "2021-12-01T21:51:45.389Z"
   },
   {
    "duration": 29,
    "start_time": "2021-12-01T21:51:50.909Z"
   },
   {
    "duration": 29,
    "start_time": "2021-12-01T21:52:00.322Z"
   },
   {
    "duration": 21,
    "start_time": "2021-12-01T21:52:02.131Z"
   },
   {
    "duration": 31,
    "start_time": "2021-12-01T21:52:25.842Z"
   },
   {
    "duration": 5,
    "start_time": "2021-12-01T21:52:28.673Z"
   },
   {
    "duration": 14,
    "start_time": "2021-12-01T21:52:29.223Z"
   },
   {
    "duration": 40,
    "start_time": "2021-12-01T21:52:31.579Z"
   },
   {
    "duration": 55,
    "start_time": "2021-12-01T21:53:11.552Z"
   },
   {
    "duration": 15,
    "start_time": "2021-12-01T21:53:12.779Z"
   },
   {
    "duration": 32,
    "start_time": "2021-12-01T21:53:44.239Z"
   },
   {
    "duration": 6,
    "start_time": "2021-12-01T21:53:45.397Z"
   },
   {
    "duration": 3877,
    "start_time": "2021-12-01T21:54:11.974Z"
   },
   {
    "duration": 6,
    "start_time": "2021-12-01T21:55:18.367Z"
   },
   {
    "duration": 20,
    "start_time": "2021-12-01T21:55:55.923Z"
   },
   {
    "duration": 10,
    "start_time": "2021-12-01T21:56:56.440Z"
   },
   {
    "duration": 338,
    "start_time": "2021-12-01T21:57:09.880Z"
   },
   {
    "duration": 4,
    "start_time": "2021-12-01T21:58:11.460Z"
   },
   {
    "duration": 62,
    "start_time": "2021-12-01T21:58:12.508Z"
   },
   {
    "duration": 18,
    "start_time": "2021-12-01T21:58:12.916Z"
   },
   {
    "duration": 18,
    "start_time": "2021-12-01T21:58:13.288Z"
   },
   {
    "duration": 19,
    "start_time": "2021-12-01T21:58:14.774Z"
   },
   {
    "duration": 30,
    "start_time": "2021-12-01T21:58:15.199Z"
   },
   {
    "duration": 6,
    "start_time": "2021-12-01T21:58:15.401Z"
   },
   {
    "duration": 20,
    "start_time": "2021-12-01T21:58:15.612Z"
   },
   {
    "duration": 4,
    "start_time": "2021-12-01T21:58:16.251Z"
   },
   {
    "duration": 5,
    "start_time": "2021-12-01T21:58:16.474Z"
   },
   {
    "duration": 18,
    "start_time": "2021-12-01T21:58:16.933Z"
   },
   {
    "duration": 5,
    "start_time": "2021-12-01T21:58:17.364Z"
   },
   {
    "duration": 25,
    "start_time": "2021-12-01T21:58:18.478Z"
   },
   {
    "duration": 6281,
    "start_time": "2021-12-01T21:58:18.931Z"
   },
   {
    "duration": 7,
    "start_time": "2021-12-01T21:58:25.215Z"
   },
   {
    "duration": 59,
    "start_time": "2021-12-01T21:58:25.226Z"
   },
   {
    "duration": 7,
    "start_time": "2021-12-01T21:58:25.288Z"
   },
   {
    "duration": 23,
    "start_time": "2021-12-01T21:58:25.298Z"
   },
   {
    "duration": 12,
    "start_time": "2021-12-01T21:58:25.324Z"
   },
   {
    "duration": 6,
    "start_time": "2021-12-01T21:58:25.338Z"
   },
   {
    "duration": 333,
    "start_time": "2021-12-01T21:58:31.434Z"
   },
   {
    "duration": 3,
    "start_time": "2021-12-01T21:58:39.110Z"
   },
   {
    "duration": 64,
    "start_time": "2021-12-01T21:58:39.609Z"
   },
   {
    "duration": 21,
    "start_time": "2021-12-01T21:58:39.954Z"
   },
   {
    "duration": 15,
    "start_time": "2021-12-01T21:58:40.297Z"
   },
   {
    "duration": 12,
    "start_time": "2021-12-01T21:58:41.637Z"
   },
   {
    "duration": 20,
    "start_time": "2021-12-01T21:58:42.027Z"
   },
   {
    "duration": 4,
    "start_time": "2021-12-01T21:58:42.234Z"
   },
   {
    "duration": 29,
    "start_time": "2021-12-01T21:58:42.439Z"
   },
   {
    "duration": 6,
    "start_time": "2021-12-01T21:58:43.074Z"
   },
   {
    "duration": 6,
    "start_time": "2021-12-01T21:58:43.284Z"
   },
   {
    "duration": 17,
    "start_time": "2021-12-01T21:58:43.700Z"
   },
   {
    "duration": 7,
    "start_time": "2021-12-01T21:58:44.095Z"
   },
   {
    "duration": 27,
    "start_time": "2021-12-01T21:58:44.315Z"
   },
   {
    "duration": 4000,
    "start_time": "2021-12-01T21:58:44.822Z"
   },
   {
    "duration": 7,
    "start_time": "2021-12-01T21:58:48.824Z"
   },
   {
    "duration": 56,
    "start_time": "2021-12-01T21:58:48.834Z"
   },
   {
    "duration": 8,
    "start_time": "2021-12-01T21:58:48.893Z"
   },
   {
    "duration": 21,
    "start_time": "2021-12-01T21:58:48.904Z"
   },
   {
    "duration": 34,
    "start_time": "2021-12-01T21:58:51.124Z"
   },
   {
    "duration": 5,
    "start_time": "2021-12-01T21:58:58.267Z"
   },
   {
    "duration": 5,
    "start_time": "2021-12-01T21:58:59.385Z"
   },
   {
    "duration": 17,
    "start_time": "2021-12-01T21:59:03.807Z"
   },
   {
    "duration": 10,
    "start_time": "2021-12-01T22:00:30.256Z"
   },
   {
    "duration": 5,
    "start_time": "2021-12-01T22:00:34.369Z"
   },
   {
    "duration": 5,
    "start_time": "2021-12-01T22:00:34.856Z"
   },
   {
    "duration": 20,
    "start_time": "2021-12-01T22:00:36.180Z"
   },
   {
    "duration": 23,
    "start_time": "2021-12-01T22:00:39.856Z"
   },
   {
    "duration": 132,
    "start_time": "2021-12-01T22:00:40.779Z"
   },
   {
    "duration": 26,
    "start_time": "2021-12-01T22:00:41.275Z"
   },
   {
    "duration": 34,
    "start_time": "2021-12-01T22:00:42.141Z"
   },
   {
    "duration": 5,
    "start_time": "2021-12-01T22:00:43.279Z"
   },
   {
    "duration": 20,
    "start_time": "2021-12-01T22:00:43.782Z"
   },
   {
    "duration": 37,
    "start_time": "2021-12-01T22:00:44.262Z"
   },
   {
    "duration": 37,
    "start_time": "2021-12-01T22:00:46.750Z"
   },
   {
    "duration": 13,
    "start_time": "2021-12-01T22:00:48.837Z"
   },
   {
    "duration": 34,
    "start_time": "2021-12-01T22:00:50.929Z"
   },
   {
    "duration": 22,
    "start_time": "2021-12-01T22:00:52.224Z"
   },
   {
    "duration": 10,
    "start_time": "2021-12-01T22:01:08.076Z"
   },
   {
    "duration": 5,
    "start_time": "2021-12-01T22:01:10.235Z"
   },
   {
    "duration": 19,
    "start_time": "2021-12-01T22:01:10.719Z"
   },
   {
    "duration": 46,
    "start_time": "2021-12-01T22:01:11.937Z"
   },
   {
    "duration": 44,
    "start_time": "2021-12-01T22:01:28.379Z"
   },
   {
    "duration": 15,
    "start_time": "2021-12-01T22:01:29.487Z"
   },
   {
    "duration": 33,
    "start_time": "2021-12-01T22:01:31.010Z"
   },
   {
    "duration": 18,
    "start_time": "2021-12-01T22:01:33.302Z"
   },
   {
    "duration": 4,
    "start_time": "2021-12-01T22:02:55.173Z"
   },
   {
    "duration": 66,
    "start_time": "2021-12-01T22:02:55.541Z"
   },
   {
    "duration": 31,
    "start_time": "2021-12-01T22:02:56.171Z"
   },
   {
    "duration": 15,
    "start_time": "2021-12-01T22:02:56.542Z"
   },
   {
    "duration": 14,
    "start_time": "2021-12-01T22:02:57.924Z"
   },
   {
    "duration": 20,
    "start_time": "2021-12-01T22:02:58.327Z"
   },
   {
    "duration": 5,
    "start_time": "2021-12-01T22:02:58.535Z"
   },
   {
    "duration": 19,
    "start_time": "2021-12-01T22:02:58.735Z"
   },
   {
    "duration": 5,
    "start_time": "2021-12-01T22:02:59.418Z"
   },
   {
    "duration": 5,
    "start_time": "2021-12-01T22:02:59.632Z"
   },
   {
    "duration": 15,
    "start_time": "2021-12-01T22:03:00.110Z"
   },
   {
    "duration": 6,
    "start_time": "2021-12-01T22:03:00.589Z"
   },
   {
    "duration": 18,
    "start_time": "2021-12-01T22:03:00.832Z"
   },
   {
    "duration": 3983,
    "start_time": "2021-12-01T22:03:01.323Z"
   },
   {
    "duration": 8,
    "start_time": "2021-12-01T22:03:05.309Z"
   },
   {
    "duration": 73,
    "start_time": "2021-12-01T22:03:05.321Z"
   },
   {
    "duration": 8,
    "start_time": "2021-12-01T22:03:05.398Z"
   },
   {
    "duration": 19,
    "start_time": "2021-12-01T22:03:05.409Z"
   },
   {
    "duration": 10,
    "start_time": "2021-12-01T22:03:05.431Z"
   },
   {
    "duration": 49,
    "start_time": "2021-12-01T22:03:05.444Z"
   },
   {
    "duration": 5,
    "start_time": "2021-12-01T22:03:05.498Z"
   },
   {
    "duration": 23,
    "start_time": "2021-12-01T22:03:05.506Z"
   },
   {
    "duration": 21,
    "start_time": "2021-12-01T22:03:05.531Z"
   },
   {
    "duration": 29,
    "start_time": "2021-12-01T22:03:05.819Z"
   },
   {
    "duration": 19,
    "start_time": "2021-12-01T22:03:06.345Z"
   },
   {
    "duration": 8,
    "start_time": "2021-12-01T22:03:11.397Z"
   },
   {
    "duration": 6,
    "start_time": "2021-12-01T22:03:12.692Z"
   },
   {
    "duration": 13,
    "start_time": "2021-12-01T22:03:13.105Z"
   },
   {
    "duration": 36,
    "start_time": "2021-12-01T22:03:13.513Z"
   },
   {
    "duration": 12,
    "start_time": "2021-12-01T22:03:13.975Z"
   },
   {
    "duration": 34,
    "start_time": "2021-12-01T22:03:20.623Z"
   },
   {
    "duration": 13,
    "start_time": "2021-12-01T22:03:21.658Z"
   },
   {
    "duration": 3923,
    "start_time": "2021-12-01T22:03:58.394Z"
   },
   {
    "duration": 220,
    "start_time": "2021-12-02T12:37:28.276Z"
   },
   {
    "duration": 559,
    "start_time": "2021-12-02T12:37:36.000Z"
   },
   {
    "duration": 52,
    "start_time": "2021-12-02T12:37:37.140Z"
   },
   {
    "duration": 20,
    "start_time": "2021-12-02T12:37:38.433Z"
   },
   {
    "duration": 12,
    "start_time": "2021-12-02T12:37:40.194Z"
   },
   {
    "duration": 10,
    "start_time": "2021-12-02T12:37:47.503Z"
   },
   {
    "duration": 42,
    "start_time": "2021-12-02T12:37:47.514Z"
   },
   {
    "duration": 32,
    "start_time": "2021-12-02T12:38:29.883Z"
   },
   {
    "duration": 15,
    "start_time": "2021-12-02T12:38:53.978Z"
   },
   {
    "duration": 21,
    "start_time": "2021-12-02T12:40:32.137Z"
   },
   {
    "duration": 24,
    "start_time": "2021-12-02T12:41:25.334Z"
   },
   {
    "duration": 5,
    "start_time": "2021-12-02T12:49:54.440Z"
   },
   {
    "duration": 1076,
    "start_time": "2021-12-02T12:51:36.921Z"
   },
   {
    "duration": 16,
    "start_time": "2021-12-02T12:51:50.884Z"
   },
   {
    "duration": 3,
    "start_time": "2021-12-02T13:56:24.588Z"
   },
   {
    "duration": 49,
    "start_time": "2021-12-02T13:56:25.700Z"
   },
   {
    "duration": 14,
    "start_time": "2021-12-02T13:56:28.355Z"
   },
   {
    "duration": 10,
    "start_time": "2021-12-02T13:56:30.611Z"
   },
   {
    "duration": 9,
    "start_time": "2021-12-02T13:56:35.475Z"
   },
   {
    "duration": 13,
    "start_time": "2021-12-02T13:56:37.536Z"
   },
   {
    "duration": 4,
    "start_time": "2021-12-02T13:56:38.879Z"
   },
   {
    "duration": 13,
    "start_time": "2021-12-02T13:56:40.171Z"
   },
   {
    "duration": 6,
    "start_time": "2021-12-02T13:57:58.800Z"
   },
   {
    "duration": 4,
    "start_time": "2021-12-02T14:00:34.076Z"
   },
   {
    "duration": 3,
    "start_time": "2021-12-02T14:01:05.833Z"
   },
   {
    "duration": 4,
    "start_time": "2021-12-02T14:01:35.124Z"
   },
   {
    "duration": 13,
    "start_time": "2021-12-02T14:01:51.090Z"
   },
   {
    "duration": 11,
    "start_time": "2021-12-02T14:02:25.554Z"
   },
   {
    "duration": 2884,
    "start_time": "2021-12-02T14:02:31.668Z"
   },
   {
    "duration": 6,
    "start_time": "2021-12-02T14:03:10.438Z"
   },
   {
    "duration": 20,
    "start_time": "2021-12-02T14:03:17.548Z"
   },
   {
    "duration": 5,
    "start_time": "2021-12-02T14:03:25.065Z"
   },
   {
    "duration": 12,
    "start_time": "2021-12-02T14:03:27.082Z"
   },
   {
    "duration": 6,
    "start_time": "2021-12-02T14:03:50.973Z"
   },
   {
    "duration": 14,
    "start_time": "2021-12-02T14:51:45.721Z"
   },
   {
    "duration": 20,
    "start_time": "2021-12-02T14:52:56.136Z"
   },
   {
    "duration": 14,
    "start_time": "2021-12-02T14:52:57.089Z"
   },
   {
    "duration": 7,
    "start_time": "2021-12-02T14:53:03.452Z"
   },
   {
    "duration": 3,
    "start_time": "2021-12-02T14:53:06.788Z"
   },
   {
    "duration": 9,
    "start_time": "2021-12-02T14:53:08.152Z"
   },
   {
    "duration": 25,
    "start_time": "2021-12-02T14:53:09.053Z"
   },
   {
    "duration": 10,
    "start_time": "2021-12-02T14:53:10.298Z"
   },
   {
    "duration": 22,
    "start_time": "2021-12-02T14:53:17.048Z"
   },
   {
    "duration": 2305,
    "start_time": "2021-12-02T14:53:23.423Z"
   },
   {
    "duration": 17,
    "start_time": "2021-12-02T15:14:38.108Z"
   },
   {
    "duration": 20,
    "start_time": "2021-12-02T15:15:04.152Z"
   },
   {
    "duration": 17,
    "start_time": "2021-12-02T15:15:18.518Z"
   },
   {
    "duration": 5,
    "start_time": "2021-12-02T15:20:41.528Z"
   },
   {
    "duration": 12,
    "start_time": "2021-12-02T15:28:21.900Z"
   },
   {
    "duration": 7,
    "start_time": "2021-12-02T15:28:59.913Z"
   },
   {
    "duration": 19,
    "start_time": "2021-12-02T15:29:20.544Z"
   },
   {
    "duration": 6,
    "start_time": "2021-12-02T15:29:51.422Z"
   },
   {
    "duration": 16,
    "start_time": "2021-12-02T15:31:11.592Z"
   },
   {
    "duration": 18,
    "start_time": "2021-12-02T15:31:21.481Z"
   },
   {
    "duration": 6,
    "start_time": "2021-12-02T15:33:42.936Z"
   },
   {
    "duration": -2035,
    "start_time": "2021-12-02T15:34:19.011Z"
   },
   {
    "duration": 5,
    "start_time": "2021-12-02T15:34:41.543Z"
   },
   {
    "duration": 5,
    "start_time": "2021-12-02T15:35:57.957Z"
   },
   {
    "duration": 332,
    "start_time": "2021-12-02T15:36:20.550Z"
   },
   {
    "duration": 6,
    "start_time": "2021-12-02T15:38:43.128Z"
   },
   {
    "duration": 3,
    "start_time": "2021-12-02T17:45:10.542Z"
   },
   {
    "duration": 50,
    "start_time": "2021-12-02T17:45:11.837Z"
   },
   {
    "duration": 14,
    "start_time": "2021-12-02T17:45:12.374Z"
   },
   {
    "duration": 13,
    "start_time": "2021-12-02T17:45:13.034Z"
   },
   {
    "duration": 13,
    "start_time": "2021-12-02T17:45:15.051Z"
   },
   {
    "duration": 13,
    "start_time": "2021-12-02T17:45:15.612Z"
   },
   {
    "duration": 4,
    "start_time": "2021-12-02T17:45:15.878Z"
   },
   {
    "duration": 13,
    "start_time": "2021-12-02T17:45:16.188Z"
   },
   {
    "duration": 4,
    "start_time": "2021-12-02T17:45:17.081Z"
   },
   {
    "duration": 4,
    "start_time": "2021-12-02T17:45:17.335Z"
   },
   {
    "duration": 4,
    "start_time": "2021-12-02T17:45:18.132Z"
   },
   {
    "duration": 14,
    "start_time": "2021-12-02T17:45:18.416Z"
   },
   {
    "duration": 2425,
    "start_time": "2021-12-02T17:45:19.212Z"
   },
   {
    "duration": 7,
    "start_time": "2021-12-02T17:45:21.639Z"
   },
   {
    "duration": 22,
    "start_time": "2021-12-02T17:45:21.648Z"
   },
   {
    "duration": 6,
    "start_time": "2021-12-02T17:45:21.693Z"
   },
   {
    "duration": 13,
    "start_time": "2021-12-02T17:45:21.701Z"
   },
   {
    "duration": 7,
    "start_time": "2021-12-02T17:45:21.716Z"
   },
   {
    "duration": 17,
    "start_time": "2021-12-02T17:45:21.725Z"
   },
   {
    "duration": 20,
    "start_time": "2021-12-02T17:45:22.148Z"
   },
   {
    "duration": 14,
    "start_time": "2021-12-02T17:45:22.450Z"
   },
   {
    "duration": 6,
    "start_time": "2021-12-02T17:45:23.060Z"
   },
   {
    "duration": 3,
    "start_time": "2021-12-02T17:45:23.669Z"
   },
   {
    "duration": 9,
    "start_time": "2021-12-02T17:45:23.870Z"
   },
   {
    "duration": 26,
    "start_time": "2021-12-02T17:45:24.097Z"
   },
   {
    "duration": 9,
    "start_time": "2021-12-02T17:45:24.433Z"
   },
   {
    "duration": 23,
    "start_time": "2021-12-02T17:45:24.995Z"
   },
   {
    "duration": 2334,
    "start_time": "2021-12-02T17:45:25.274Z"
   },
   {
    "duration": 17,
    "start_time": "2021-12-02T17:45:27.610Z"
   },
   {
    "duration": 19,
    "start_time": "2021-12-02T17:45:27.630Z"
   },
   {
    "duration": 3,
    "start_time": "2021-12-02T17:45:39.062Z"
   },
   {
    "duration": 51,
    "start_time": "2021-12-02T17:45:39.655Z"
   },
   {
    "duration": 14,
    "start_time": "2021-12-02T17:45:40.084Z"
   },
   {
    "duration": 12,
    "start_time": "2021-12-02T17:45:40.560Z"
   },
   {
    "duration": 11,
    "start_time": "2021-12-02T17:45:42.701Z"
   },
   {
    "duration": 15,
    "start_time": "2021-12-02T17:45:43.263Z"
   },
   {
    "duration": 4,
    "start_time": "2021-12-02T17:45:43.575Z"
   },
   {
    "duration": 13,
    "start_time": "2021-12-02T17:45:43.894Z"
   },
   {
    "duration": 4,
    "start_time": "2021-12-02T17:45:44.736Z"
   },
   {
    "duration": 4,
    "start_time": "2021-12-02T17:45:45.011Z"
   },
   {
    "duration": 4,
    "start_time": "2021-12-02T17:45:45.816Z"
   },
   {
    "duration": 13,
    "start_time": "2021-12-02T17:45:46.089Z"
   },
   {
    "duration": 2314,
    "start_time": "2021-12-02T17:45:46.655Z"
   },
   {
    "duration": 5,
    "start_time": "2021-12-02T17:45:48.970Z"
   },
   {
    "duration": 19,
    "start_time": "2021-12-02T17:45:48.992Z"
   },
   {
    "duration": 5,
    "start_time": "2021-12-02T17:45:49.013Z"
   },
   {
    "duration": 13,
    "start_time": "2021-12-02T17:45:49.020Z"
   },
   {
    "duration": 9,
    "start_time": "2021-12-02T17:45:49.034Z"
   },
   {
    "duration": 15,
    "start_time": "2021-12-02T17:45:49.137Z"
   },
   {
    "duration": 21,
    "start_time": "2021-12-02T17:45:49.994Z"
   },
   {
    "duration": 13,
    "start_time": "2021-12-02T17:45:50.313Z"
   },
   {
    "duration": 6,
    "start_time": "2021-12-02T17:45:50.923Z"
   },
   {
    "duration": 4,
    "start_time": "2021-12-02T17:45:51.525Z"
   },
   {
    "duration": 10,
    "start_time": "2021-12-02T17:45:51.847Z"
   },
   {
    "duration": 25,
    "start_time": "2021-12-02T17:45:52.169Z"
   },
   {
    "duration": 9,
    "start_time": "2021-12-02T17:45:52.449Z"
   },
   {
    "duration": 22,
    "start_time": "2021-12-02T17:45:53.080Z"
   },
   {
    "duration": 2254,
    "start_time": "2021-12-02T17:45:53.470Z"
   },
   {
    "duration": 18,
    "start_time": "2021-12-02T17:45:58.198Z"
   },
   {
    "duration": 18,
    "start_time": "2021-12-02T17:46:49.643Z"
   },
   {
    "duration": 15,
    "start_time": "2021-12-02T17:47:19.924Z"
   },
   {
    "duration": 195,
    "start_time": "2021-12-02T17:47:29.807Z"
   },
   {
    "duration": 20,
    "start_time": "2021-12-02T17:49:43.313Z"
   },
   {
    "duration": 17,
    "start_time": "2021-12-02T17:49:45.578Z"
   },
   {
    "duration": 6,
    "start_time": "2021-12-02T17:49:48.842Z"
   },
   {
    "duration": 12,
    "start_time": "2021-12-02T17:49:54.781Z"
   },
   {
    "duration": 8,
    "start_time": "2021-12-02T17:49:55.968Z"
   },
   {
    "duration": 17,
    "start_time": "2021-12-02T17:50:07.730Z"
   },
   {
    "duration": 18,
    "start_time": "2021-12-02T17:50:08.689Z"
   },
   {
    "duration": 5,
    "start_time": "2021-12-02T17:50:13.407Z"
   },
   {
    "duration": 6,
    "start_time": "2021-12-02T17:50:19.556Z"
   },
   {
    "duration": 343,
    "start_time": "2021-12-04T07:36:32.397Z"
   },
   {
    "duration": 1320,
    "start_time": "2021-12-04T07:36:41.467Z"
   },
   {
    "duration": 68,
    "start_time": "2021-12-04T07:36:42.790Z"
   },
   {
    "duration": 31,
    "start_time": "2021-12-04T07:36:42.861Z"
   },
   {
    "duration": 21,
    "start_time": "2021-12-04T07:36:42.894Z"
   },
   {
    "duration": 12,
    "start_time": "2021-12-04T07:36:44.368Z"
   },
   {
    "duration": 20,
    "start_time": "2021-12-04T07:36:44.908Z"
   },
   {
    "duration": 5,
    "start_time": "2021-12-04T07:36:45.130Z"
   },
   {
    "duration": 22,
    "start_time": "2021-12-04T07:36:45.296Z"
   },
   {
    "duration": 5,
    "start_time": "2021-12-04T07:36:45.876Z"
   },
   {
    "duration": 5,
    "start_time": "2021-12-04T07:36:46.246Z"
   },
   {
    "duration": 4,
    "start_time": "2021-12-04T07:36:46.858Z"
   },
   {
    "duration": 19,
    "start_time": "2021-12-04T07:36:47.069Z"
   },
   {
    "duration": 4711,
    "start_time": "2021-12-04T07:36:47.492Z"
   },
   {
    "duration": 7,
    "start_time": "2021-12-04T07:36:52.205Z"
   },
   {
    "duration": 44,
    "start_time": "2021-12-04T07:36:52.215Z"
   },
   {
    "duration": 12,
    "start_time": "2021-12-04T07:36:52.262Z"
   },
   {
    "duration": 19,
    "start_time": "2021-12-04T07:36:52.277Z"
   },
   {
    "duration": 37,
    "start_time": "2021-12-04T07:36:52.298Z"
   },
   {
    "duration": 22,
    "start_time": "2021-12-04T07:36:52.338Z"
   },
   {
    "duration": 28,
    "start_time": "2021-12-04T07:36:52.363Z"
   },
   {
    "duration": 52,
    "start_time": "2021-12-04T07:36:52.394Z"
   },
   {
    "duration": 10,
    "start_time": "2021-12-04T07:36:52.449Z"
   },
   {
    "duration": 5,
    "start_time": "2021-12-04T07:36:52.465Z"
   },
   {
    "duration": 16,
    "start_time": "2021-12-04T07:36:52.472Z"
   },
   {
    "duration": 36,
    "start_time": "2021-12-04T07:36:52.680Z"
   },
   {
    "duration": 12,
    "start_time": "2021-12-04T07:36:53.059Z"
   },
   {
    "duration": 33,
    "start_time": "2021-12-04T07:36:53.670Z"
   },
   {
    "duration": 3907,
    "start_time": "2021-12-04T07:36:53.997Z"
   },
   {
    "duration": 38,
    "start_time": "2021-12-04T07:36:57.907Z"
   },
   {
    "duration": 29,
    "start_time": "2021-12-04T07:36:57.948Z"
   },
   {
    "duration": 53,
    "start_time": "2021-12-04T07:36:57.979Z"
   },
   {
    "duration": 7,
    "start_time": "2021-12-04T07:36:58.035Z"
   },
   {
    "duration": 19,
    "start_time": "2021-12-04T07:36:58.045Z"
   },
   {
    "duration": 10,
    "start_time": "2021-12-04T07:36:58.066Z"
   },
   {
    "duration": 27,
    "start_time": "2021-12-04T07:36:58.676Z"
   },
   {
    "duration": 26,
    "start_time": "2021-12-04T07:36:58.980Z"
   },
   {
    "duration": 8,
    "start_time": "2021-12-04T07:36:59.312Z"
   },
   {
    "duration": 6,
    "start_time": "2021-12-04T07:37:00.266Z"
   },
   {
    "duration": 10,
    "start_time": "2021-12-04T07:37:01.290Z"
   },
   {
    "duration": 16,
    "start_time": "2021-12-04T07:37:04.600Z"
   },
   {
    "duration": 4,
    "start_time": "2021-12-04T07:53:02.097Z"
   },
   {
    "duration": 5,
    "start_time": "2021-12-04T07:53:57.760Z"
   },
   {
    "duration": 5,
    "start_time": "2021-12-04T07:54:23.146Z"
   },
   {
    "duration": 394,
    "start_time": "2021-12-04T08:38:48.232Z"
   },
   {
    "duration": 4,
    "start_time": "2021-12-04T08:39:01.172Z"
   },
   {
    "duration": 6,
    "start_time": "2021-12-04T08:39:12.630Z"
   },
   {
    "duration": 6,
    "start_time": "2021-12-04T08:39:25.437Z"
   },
   {
    "duration": 7,
    "start_time": "2021-12-04T08:41:46.262Z"
   },
   {
    "duration": 29,
    "start_time": "2021-12-04T08:46:25.411Z"
   },
   {
    "duration": 11,
    "start_time": "2021-12-04T08:46:49.480Z"
   },
   {
    "duration": 10,
    "start_time": "2021-12-04T08:48:43.062Z"
   },
   {
    "duration": 11,
    "start_time": "2021-12-04T08:49:10.959Z"
   },
   {
    "duration": 44,
    "start_time": "2021-12-04T09:18:28.607Z"
   },
   {
    "duration": 16,
    "start_time": "2021-12-04T09:19:42.058Z"
   },
   {
    "duration": 6,
    "start_time": "2021-12-04T09:20:45.120Z"
   },
   {
    "duration": 16,
    "start_time": "2021-12-04T09:20:49.554Z"
   },
   {
    "duration": 4,
    "start_time": "2021-12-04T09:26:42.074Z"
   },
   {
    "duration": 61,
    "start_time": "2021-12-04T09:26:42.535Z"
   },
   {
    "duration": 19,
    "start_time": "2021-12-04T09:26:42.944Z"
   },
   {
    "duration": 14,
    "start_time": "2021-12-04T09:26:43.348Z"
   },
   {
    "duration": 12,
    "start_time": "2021-12-04T09:26:45.177Z"
   },
   {
    "duration": 20,
    "start_time": "2021-12-04T09:26:45.855Z"
   },
   {
    "duration": 5,
    "start_time": "2021-12-04T09:26:46.140Z"
   },
   {
    "duration": 20,
    "start_time": "2021-12-04T09:26:46.412Z"
   },
   {
    "duration": 5,
    "start_time": "2021-12-04T09:26:47.187Z"
   },
   {
    "duration": 5,
    "start_time": "2021-12-04T09:26:47.425Z"
   },
   {
    "duration": 6,
    "start_time": "2021-12-04T09:26:48.181Z"
   },
   {
    "duration": 20,
    "start_time": "2021-12-04T09:26:48.486Z"
   },
   {
    "duration": 4073,
    "start_time": "2021-12-04T09:26:49.184Z"
   },
   {
    "duration": 10,
    "start_time": "2021-12-04T09:26:53.261Z"
   },
   {
    "duration": 65,
    "start_time": "2021-12-04T09:26:53.274Z"
   },
   {
    "duration": 8,
    "start_time": "2021-12-04T09:26:53.342Z"
   },
   {
    "duration": 21,
    "start_time": "2021-12-04T09:26:53.353Z"
   },
   {
    "duration": 24,
    "start_time": "2021-12-04T09:26:53.377Z"
   },
   {
    "duration": 55,
    "start_time": "2021-12-04T09:26:53.410Z"
   },
   {
    "duration": 30,
    "start_time": "2021-12-04T09:26:57.456Z"
   },
   {
    "duration": 19,
    "start_time": "2021-12-04T09:26:58.705Z"
   },
   {
    "duration": 9,
    "start_time": "2021-12-04T09:27:00.170Z"
   },
   {
    "duration": 6,
    "start_time": "2021-12-04T09:27:00.977Z"
   },
   {
    "duration": 14,
    "start_time": "2021-12-04T09:27:01.450Z"
   },
   {
    "duration": 37,
    "start_time": "2021-12-04T09:27:01.937Z"
   },
   {
    "duration": 13,
    "start_time": "2021-12-04T09:27:02.502Z"
   },
   {
    "duration": 37,
    "start_time": "2021-12-04T09:27:03.969Z"
   },
   {
    "duration": 3794,
    "start_time": "2021-12-04T09:27:04.441Z"
   },
   {
    "duration": 5,
    "start_time": "2021-12-04T09:27:08.237Z"
   },
   {
    "duration": 8,
    "start_time": "2021-12-04T09:27:08.245Z"
   },
   {
    "duration": 50,
    "start_time": "2021-12-04T09:27:09.746Z"
   },
   {
    "duration": 17,
    "start_time": "2021-12-04T09:27:11.296Z"
   },
   {
    "duration": 6,
    "start_time": "2021-12-04T09:27:35.066Z"
   },
   {
    "duration": 3,
    "start_time": "2021-12-04T09:32:51.471Z"
   },
   {
    "duration": 17,
    "start_time": "2021-12-04T09:33:01.720Z"
   },
   {
    "duration": 23,
    "start_time": "2021-12-04T09:34:16.444Z"
   },
   {
    "duration": 29,
    "start_time": "2021-12-04T09:34:17.230Z"
   },
   {
    "duration": 23,
    "start_time": "2021-12-04T09:34:18.159Z"
   },
   {
    "duration": 6,
    "start_time": "2021-12-04T09:34:19.241Z"
   },
   {
    "duration": 16,
    "start_time": "2021-12-04T09:34:20.238Z"
   },
   {
    "duration": 10,
    "start_time": "2021-12-04T09:34:20.679Z"
   },
   {
    "duration": 25,
    "start_time": "2021-12-04T09:34:21.426Z"
   },
   {
    "duration": 28,
    "start_time": "2021-12-04T09:34:21.836Z"
   },
   {
    "duration": 8,
    "start_time": "2021-12-04T09:34:22.230Z"
   },
   {
    "duration": 8,
    "start_time": "2021-12-04T09:34:23.183Z"
   },
   {
    "duration": 8,
    "start_time": "2021-12-04T09:34:24.219Z"
   },
   {
    "duration": 16,
    "start_time": "2021-12-04T09:34:26.399Z"
   },
   {
    "duration": 13,
    "start_time": "2021-12-04T10:43:25.581Z"
   },
   {
    "duration": 7,
    "start_time": "2021-12-04T10:44:51.165Z"
   },
   {
    "duration": 1349,
    "start_time": "2021-12-04T10:46:02.903Z"
   },
   {
    "duration": 572,
    "start_time": "2021-12-04T10:46:55.200Z"
   },
   {
    "duration": 10,
    "start_time": "2021-12-04T10:47:17.915Z"
   },
   {
    "duration": 5,
    "start_time": "2021-12-04T10:47:19.061Z"
   },
   {
    "duration": 5617,
    "start_time": "2021-12-04T10:47:22.565Z"
   },
   {
    "duration": 12,
    "start_time": "2021-12-04T10:47:45.366Z"
   },
   {
    "duration": 6,
    "start_time": "2021-12-04T11:03:25.009Z"
   },
   {
    "duration": 4794,
    "start_time": "2021-12-04T11:03:27.000Z"
   },
   {
    "duration": 10,
    "start_time": "2021-12-04T11:03:33.802Z"
   },
   {
    "duration": 6,
    "start_time": "2021-12-04T11:05:34.262Z"
   },
   {
    "duration": 4716,
    "start_time": "2021-12-04T11:05:35.813Z"
   },
   {
    "duration": 10,
    "start_time": "2021-12-04T11:05:41.463Z"
   },
   {
    "duration": 6,
    "start_time": "2021-12-04T11:07:50.668Z"
   },
   {
    "duration": 4733,
    "start_time": "2021-12-04T11:07:52.345Z"
   },
   {
    "duration": 10,
    "start_time": "2021-12-04T11:07:58.142Z"
   },
   {
    "duration": 6,
    "start_time": "2021-12-04T11:10:24.435Z"
   },
   {
    "duration": 4898,
    "start_time": "2021-12-04T11:10:27.478Z"
   },
   {
    "duration": 10,
    "start_time": "2021-12-04T11:10:33.453Z"
   },
   {
    "duration": 95,
    "start_time": "2021-12-04T11:20:30.589Z"
   },
   {
    "duration": 8,
    "start_time": "2021-12-04T11:41:10.868Z"
   },
   {
    "duration": 14,
    "start_time": "2021-12-04T11:41:32.346Z"
   },
   {
    "duration": 14,
    "start_time": "2021-12-04T12:40:58.891Z"
   },
   {
    "duration": 36,
    "start_time": "2021-12-04T12:41:18.114Z"
   },
   {
    "duration": 10,
    "start_time": "2021-12-04T12:51:04.437Z"
   },
   {
    "duration": 38,
    "start_time": "2021-12-04T12:51:08.537Z"
   },
   {
    "duration": 10,
    "start_time": "2021-12-04T12:52:40.761Z"
   },
   {
    "duration": 35,
    "start_time": "2021-12-04T12:52:43.811Z"
   },
   {
    "duration": 15,
    "start_time": "2021-12-04T12:54:42.717Z"
   },
   {
    "duration": 6,
    "start_time": "2021-12-04T12:55:20.142Z"
   },
   {
    "duration": 9896,
    "start_time": "2021-12-04T12:55:21.333Z"
   },
   {
    "duration": 10,
    "start_time": "2021-12-04T12:55:32.187Z"
   },
   {
    "duration": 10,
    "start_time": "2021-12-04T12:55:43.991Z"
   },
   {
    "duration": 15,
    "start_time": "2021-12-04T12:55:49.632Z"
   },
   {
    "duration": 6,
    "start_time": "2021-12-04T12:58:05.534Z"
   },
   {
    "duration": 9786,
    "start_time": "2021-12-04T12:58:07.186Z"
   },
   {
    "duration": 9,
    "start_time": "2021-12-04T12:58:16.975Z"
   },
   {
    "duration": 5,
    "start_time": "2021-12-04T12:59:09.451Z"
   },
   {
    "duration": 9995,
    "start_time": "2021-12-04T12:59:15.481Z"
   },
   {
    "duration": 10,
    "start_time": "2021-12-04T12:59:26.986Z"
   },
   {
    "duration": 6,
    "start_time": "2021-12-04T12:59:34.702Z"
   },
   {
    "duration": 9603,
    "start_time": "2021-12-04T12:59:39.658Z"
   },
   {
    "duration": 10,
    "start_time": "2021-12-04T12:59:50.198Z"
   },
   {
    "duration": 332,
    "start_time": "2021-12-04T13:05:05.812Z"
   },
   {
    "duration": 329,
    "start_time": "2021-12-04T13:05:22.858Z"
   },
   {
    "duration": 97,
    "start_time": "2021-12-04T13:05:59.466Z"
   },
   {
    "duration": 282,
    "start_time": "2021-12-04T13:06:04.925Z"
   },
   {
    "duration": 319,
    "start_time": "2021-12-04T13:07:57.220Z"
   },
   {
    "duration": 5,
    "start_time": "2021-12-04T13:11:55.601Z"
   },
   {
    "duration": 6,
    "start_time": "2021-12-04T13:12:38.127Z"
   },
   {
    "duration": 100,
    "start_time": "2021-12-04T13:14:43.807Z"
   },
   {
    "duration": 7,
    "start_time": "2021-12-04T13:15:05.099Z"
   },
   {
    "duration": 11107,
    "start_time": "2021-12-04T13:15:09.597Z"
   },
   {
    "duration": 10,
    "start_time": "2021-12-04T13:15:22.119Z"
   },
   {
    "duration": 16,
    "start_time": "2021-12-04T13:15:26.394Z"
   },
   {
    "duration": 5,
    "start_time": "2021-12-04T13:17:34.936Z"
   },
   {
    "duration": 10004,
    "start_time": "2021-12-04T13:17:38.834Z"
   },
   {
    "duration": 11,
    "start_time": "2021-12-04T13:17:51.006Z"
   },
   {
    "duration": 6,
    "start_time": "2021-12-04T13:18:16.417Z"
   },
   {
    "duration": 10094,
    "start_time": "2021-12-04T13:18:19.457Z"
   },
   {
    "duration": 9,
    "start_time": "2021-12-04T13:18:29.554Z"
   },
   {
    "duration": 9,
    "start_time": "2021-12-04T13:20:52.011Z"
   },
   {
    "duration": 10178,
    "start_time": "2021-12-04T13:21:15.425Z"
   },
   {
    "duration": 10,
    "start_time": "2021-12-04T13:21:27.170Z"
   },
   {
    "duration": 16,
    "start_time": "2021-12-04T13:21:29.817Z"
   },
   {
    "duration": 35,
    "start_time": "2021-12-04T13:21:41.001Z"
   },
   {
    "duration": 11,
    "start_time": "2021-12-04T13:33:34.976Z"
   },
   {
    "duration": 10,
    "start_time": "2021-12-04T13:33:58.301Z"
   },
   {
    "duration": 8,
    "start_time": "2021-12-04T13:36:13.141Z"
   },
   {
    "duration": 11,
    "start_time": "2021-12-04T13:36:28.164Z"
   },
   {
    "duration": 10,
    "start_time": "2021-12-04T13:56:52.815Z"
   },
   {
    "duration": 5,
    "start_time": "2021-12-04T14:04:27.501Z"
   },
   {
    "duration": 9,
    "start_time": "2021-12-04T14:04:36.225Z"
   },
   {
    "duration": 106,
    "start_time": "2021-12-04T14:07:02.128Z"
   },
   {
    "duration": 320,
    "start_time": "2021-12-04T14:07:32.729Z"
   },
   {
    "duration": 8,
    "start_time": "2021-12-04T14:08:20.420Z"
   },
   {
    "duration": 8,
    "start_time": "2021-12-04T14:08:35.251Z"
   },
   {
    "duration": 5,
    "start_time": "2021-12-04T14:36:06.971Z"
   },
   {
    "duration": 1438,
    "start_time": "2021-12-04T14:37:07.465Z"
   },
   {
    "duration": 584,
    "start_time": "2021-12-04T14:37:55.786Z"
   },
   {
    "duration": 5,
    "start_time": "2021-12-04T14:40:37.163Z"
   },
   {
    "duration": 17,
    "start_time": "2021-12-04T14:40:52.668Z"
   },
   {
    "duration": 23,
    "start_time": "2021-12-04T14:41:01.409Z"
   },
   {
    "duration": 4,
    "start_time": "2021-12-04T14:46:20.293Z"
   },
   {
    "duration": 8,
    "start_time": "2021-12-04T14:46:32.564Z"
   },
   {
    "duration": 11,
    "start_time": "2021-12-04T14:47:07.164Z"
   },
   {
    "duration": 26,
    "start_time": "2021-12-04T14:47:23.130Z"
   },
   {
    "duration": 27,
    "start_time": "2021-12-04T14:52:15.524Z"
   },
   {
    "duration": 9,
    "start_time": "2021-12-04T14:52:36.207Z"
   },
   {
    "duration": 7183,
    "start_time": "2021-12-04T15:00:44.146Z"
   },
   {
    "duration": 7971,
    "start_time": "2021-12-04T15:01:49.236Z"
   },
   {
    "duration": 7244,
    "start_time": "2021-12-04T15:02:30.693Z"
   },
   {
    "duration": 62,
    "start_time": "2021-12-04T15:23:42.504Z"
   },
   {
    "duration": 9,
    "start_time": "2021-12-04T15:23:54.596Z"
   },
   {
    "duration": 5,
    "start_time": "2021-12-04T15:42:13.360Z"
   },
   {
    "duration": 24,
    "start_time": "2021-12-04T16:01:56.680Z"
   },
   {
    "duration": 9,
    "start_time": "2021-12-04T16:02:15.311Z"
   },
   {
    "duration": 7354,
    "start_time": "2021-12-04T16:03:38.694Z"
   },
   {
    "duration": 8075,
    "start_time": "2021-12-04T16:04:01.259Z"
   },
   {
    "duration": 5,
    "start_time": "2021-12-04T16:04:27.416Z"
   },
   {
    "duration": 10,
    "start_time": "2021-12-04T16:04:30.927Z"
   },
   {
    "duration": 5,
    "start_time": "2021-12-04T16:54:47.185Z"
   },
   {
    "duration": 5,
    "start_time": "2021-12-04T16:54:47.799Z"
   },
   {
    "duration": 4,
    "start_time": "2021-12-04T17:14:33.654Z"
   },
   {
    "duration": 5,
    "start_time": "2021-12-04T18:14:40.900Z"
   },
   {
    "duration": 10,
    "start_time": "2021-12-04T18:14:57.025Z"
   },
   {
    "duration": 280,
    "start_time": "2021-12-04T18:16:32.778Z"
   },
   {
    "duration": 25,
    "start_time": "2021-12-04T18:30:14.250Z"
   },
   {
    "duration": 29,
    "start_time": "2021-12-04T18:30:50.312Z"
   },
   {
    "duration": 11,
    "start_time": "2021-12-04T18:33:16.229Z"
   },
   {
    "duration": 28,
    "start_time": "2021-12-04T18:40:17.052Z"
   },
   {
    "duration": 14,
    "start_time": "2021-12-04T18:41:27.806Z"
   },
   {
    "duration": 93,
    "start_time": "2021-12-04T18:45:08.695Z"
   },
   {
    "duration": 619,
    "start_time": "2021-12-05T09:24:53.679Z"
   },
   {
    "duration": 49,
    "start_time": "2021-12-05T09:24:54.300Z"
   },
   {
    "duration": 18,
    "start_time": "2021-12-05T09:24:54.351Z"
   },
   {
    "duration": 11,
    "start_time": "2021-12-05T09:24:54.371Z"
   },
   {
    "duration": 24,
    "start_time": "2021-12-05T09:24:54.383Z"
   },
   {
    "duration": 3,
    "start_time": "2021-12-05T09:24:54.409Z"
   },
   {
    "duration": 14,
    "start_time": "2021-12-05T09:24:54.414Z"
   },
   {
    "duration": 6,
    "start_time": "2021-12-05T09:24:54.430Z"
   },
   {
    "duration": 3,
    "start_time": "2021-12-05T09:24:54.439Z"
   },
   {
    "duration": 4,
    "start_time": "2021-12-05T09:24:54.444Z"
   },
   {
    "duration": 15,
    "start_time": "2021-12-05T09:24:54.449Z"
   },
   {
    "duration": 3241,
    "start_time": "2021-12-05T09:24:54.465Z"
   },
   {
    "duration": 5,
    "start_time": "2021-12-05T09:24:57.708Z"
   },
   {
    "duration": 24,
    "start_time": "2021-12-05T09:24:57.714Z"
   },
   {
    "duration": 5,
    "start_time": "2021-12-05T09:24:57.740Z"
   },
   {
    "duration": 15,
    "start_time": "2021-12-05T09:24:57.747Z"
   },
   {
    "duration": 7,
    "start_time": "2021-12-05T09:24:57.763Z"
   },
   {
    "duration": 45,
    "start_time": "2021-12-05T09:24:57.772Z"
   },
   {
    "duration": 19,
    "start_time": "2021-12-05T09:24:57.819Z"
   },
   {
    "duration": 12,
    "start_time": "2021-12-05T09:24:57.840Z"
   },
   {
    "duration": 8,
    "start_time": "2021-12-05T09:24:57.853Z"
   },
   {
    "duration": 3,
    "start_time": "2021-12-05T09:24:57.862Z"
   },
   {
    "duration": 41,
    "start_time": "2021-12-05T09:24:57.867Z"
   },
   {
    "duration": 25,
    "start_time": "2021-12-05T09:24:57.910Z"
   },
   {
    "duration": 8,
    "start_time": "2021-12-05T09:24:57.937Z"
   },
   {
    "duration": 22,
    "start_time": "2021-12-05T09:24:57.946Z"
   },
   {
    "duration": 2245,
    "start_time": "2021-12-05T09:24:57.973Z"
   },
   {
    "duration": 3,
    "start_time": "2021-12-05T09:25:00.221Z"
   },
   {
    "duration": 123,
    "start_time": "2021-12-05T09:25:00.226Z"
   },
   {
    "duration": 45,
    "start_time": "2021-12-05T09:25:00.351Z"
   },
   {
    "duration": 74,
    "start_time": "2021-12-05T09:25:00.397Z"
   },
   {
    "duration": 21,
    "start_time": "2021-12-05T09:25:00.473Z"
   },
   {
    "duration": 20,
    "start_time": "2021-12-05T09:25:00.496Z"
   },
   {
    "duration": 35,
    "start_time": "2021-12-05T09:25:00.517Z"
   },
   {
    "duration": 4,
    "start_time": "2021-12-05T09:25:00.554Z"
   },
   {
    "duration": 14,
    "start_time": "2021-12-05T09:25:00.560Z"
   },
   {
    "duration": 54,
    "start_time": "2021-12-05T09:25:00.576Z"
   },
   {
    "duration": 22,
    "start_time": "2021-12-05T09:25:00.632Z"
   },
   {
    "duration": 21,
    "start_time": "2021-12-05T09:25:00.656Z"
   },
   {
    "duration": 5,
    "start_time": "2021-12-05T09:25:00.679Z"
   },
   {
    "duration": 12,
    "start_time": "2021-12-05T09:25:00.686Z"
   },
   {
    "duration": 13,
    "start_time": "2021-12-05T09:25:00.699Z"
   },
   {
    "duration": 19,
    "start_time": "2021-12-05T09:25:00.713Z"
   },
   {
    "duration": 21,
    "start_time": "2021-12-05T09:25:00.734Z"
   },
   {
    "duration": 4,
    "start_time": "2021-12-05T09:25:00.757Z"
   },
   {
    "duration": 4730,
    "start_time": "2021-12-05T09:25:00.763Z"
   },
   {
    "duration": 16,
    "start_time": "2021-12-05T09:25:05.495Z"
   },
   {
    "duration": 16,
    "start_time": "2021-12-05T09:25:05.513Z"
   },
   {
    "duration": 6,
    "start_time": "2021-12-05T09:25:05.530Z"
   },
   {
    "duration": 3,
    "start_time": "2021-12-05T09:25:05.538Z"
   },
   {
    "duration": 10,
    "start_time": "2021-12-05T09:25:05.543Z"
   },
   {
    "duration": 8,
    "start_time": "2021-12-05T09:25:05.555Z"
   },
   {
    "duration": 4,
    "start_time": "2021-12-05T09:25:05.564Z"
   },
   {
    "duration": 38,
    "start_time": "2021-12-05T09:25:05.570Z"
   },
   {
    "duration": 5,
    "start_time": "2021-12-05T09:25:05.610Z"
   },
   {
    "duration": 11,
    "start_time": "2021-12-05T09:25:05.616Z"
   },
   {
    "duration": 22,
    "start_time": "2021-12-05T09:25:05.629Z"
   },
   {
    "duration": 6,
    "start_time": "2021-12-05T09:25:05.653Z"
   },
   {
    "duration": 10,
    "start_time": "2021-12-05T09:25:05.661Z"
   },
   {
    "duration": 6,
    "start_time": "2021-12-05T09:25:05.673Z"
   },
   {
    "duration": 40,
    "start_time": "2021-12-05T09:25:05.681Z"
   },
   {
    "duration": 6,
    "start_time": "2021-12-05T09:25:05.723Z"
   },
   {
    "duration": 3,
    "start_time": "2021-12-05T09:25:05.731Z"
   },
   {
    "duration": 10,
    "start_time": "2021-12-05T09:25:05.736Z"
   },
   {
    "duration": 22,
    "start_time": "2021-12-05T09:25:05.748Z"
   },
   {
    "duration": 40,
    "start_time": "2021-12-05T09:25:05.772Z"
   },
   {
    "duration": 19,
    "start_time": "2021-12-05T09:25:05.814Z"
   },
   {
    "duration": 8,
    "start_time": "2021-12-05T09:25:05.835Z"
   },
   {
    "duration": 664,
    "start_time": "2021-12-05T17:13:55.996Z"
   },
   {
    "duration": 67,
    "start_time": "2021-12-05T17:13:56.662Z"
   },
   {
    "duration": 23,
    "start_time": "2021-12-05T17:13:56.731Z"
   },
   {
    "duration": 10,
    "start_time": "2021-12-05T17:13:56.756Z"
   },
   {
    "duration": 24,
    "start_time": "2021-12-05T17:13:56.767Z"
   },
   {
    "duration": 3,
    "start_time": "2021-12-05T17:13:56.792Z"
   },
   {
    "duration": 19,
    "start_time": "2021-12-05T17:13:56.797Z"
   },
   {
    "duration": 11,
    "start_time": "2021-12-05T17:13:56.819Z"
   },
   {
    "duration": 7,
    "start_time": "2021-12-05T17:13:56.832Z"
   },
   {
    "duration": 5,
    "start_time": "2021-12-05T17:13:56.840Z"
   },
   {
    "duration": 13,
    "start_time": "2021-12-05T17:13:56.847Z"
   },
   {
    "duration": 2781,
    "start_time": "2021-12-05T17:13:56.862Z"
   },
   {
    "duration": 5,
    "start_time": "2021-12-05T17:13:59.645Z"
   },
   {
    "duration": 38,
    "start_time": "2021-12-05T17:13:59.652Z"
   },
   {
    "duration": 5,
    "start_time": "2021-12-05T17:13:59.692Z"
   },
   {
    "duration": 13,
    "start_time": "2021-12-05T17:13:59.699Z"
   },
   {
    "duration": 6,
    "start_time": "2021-12-05T17:13:59.714Z"
   },
   {
    "duration": 15,
    "start_time": "2021-12-05T17:13:59.721Z"
   },
   {
    "duration": 17,
    "start_time": "2021-12-05T17:13:59.738Z"
   },
   {
    "duration": 39,
    "start_time": "2021-12-05T17:13:59.757Z"
   },
   {
    "duration": 7,
    "start_time": "2021-12-05T17:13:59.798Z"
   },
   {
    "duration": 3,
    "start_time": "2021-12-05T17:13:59.806Z"
   },
   {
    "duration": 11,
    "start_time": "2021-12-05T17:13:59.813Z"
   },
   {
    "duration": 24,
    "start_time": "2021-12-05T17:13:59.827Z"
   },
   {
    "duration": 7,
    "start_time": "2021-12-05T17:13:59.853Z"
   },
   {
    "duration": 47,
    "start_time": "2021-12-05T17:13:59.861Z"
   },
   {
    "duration": 2179,
    "start_time": "2021-12-05T17:13:59.910Z"
   },
   {
    "duration": 3,
    "start_time": "2021-12-05T17:14:02.091Z"
   },
   {
    "duration": 30,
    "start_time": "2021-12-05T17:14:02.096Z"
   },
   {
    "duration": 3,
    "start_time": "2021-12-05T17:14:02.128Z"
   },
   {
    "duration": 21,
    "start_time": "2021-12-05T17:14:02.133Z"
   },
   {
    "duration": 32,
    "start_time": "2021-12-05T17:14:02.156Z"
   },
   {
    "duration": 17,
    "start_time": "2021-12-05T17:14:02.190Z"
   },
   {
    "duration": 14,
    "start_time": "2021-12-05T17:14:02.209Z"
   },
   {
    "duration": 4,
    "start_time": "2021-12-05T17:14:02.225Z"
   },
   {
    "duration": 19,
    "start_time": "2021-12-05T17:14:02.230Z"
   },
   {
    "duration": 8,
    "start_time": "2021-12-05T17:14:02.250Z"
   },
   {
    "duration": 37,
    "start_time": "2021-12-05T17:14:02.259Z"
   },
   {
    "duration": 16,
    "start_time": "2021-12-05T17:14:02.297Z"
   },
   {
    "duration": 4,
    "start_time": "2021-12-05T17:14:02.314Z"
   },
   {
    "duration": 9,
    "start_time": "2021-12-05T17:14:02.320Z"
   },
   {
    "duration": 12,
    "start_time": "2021-12-05T17:14:02.330Z"
   },
   {
    "duration": 11,
    "start_time": "2021-12-05T17:14:02.343Z"
   },
   {
    "duration": 7,
    "start_time": "2021-12-05T17:14:02.356Z"
   },
   {
    "duration": 6,
    "start_time": "2021-12-05T17:14:02.364Z"
   },
   {
    "duration": 3773,
    "start_time": "2021-12-05T17:14:02.388Z"
   },
   {
    "duration": 7,
    "start_time": "2021-12-05T17:14:06.163Z"
   },
   {
    "duration": 21,
    "start_time": "2021-12-05T17:14:06.172Z"
   },
   {
    "duration": 9,
    "start_time": "2021-12-05T17:14:06.194Z"
   },
   {
    "duration": 3,
    "start_time": "2021-12-05T17:14:06.205Z"
   },
   {
    "duration": 11,
    "start_time": "2021-12-05T17:14:06.210Z"
   },
   {
    "duration": 5,
    "start_time": "2021-12-05T17:14:06.223Z"
   },
   {
    "duration": 5,
    "start_time": "2021-12-05T17:14:06.229Z"
   },
   {
    "duration": 8,
    "start_time": "2021-12-05T17:14:06.236Z"
   },
   {
    "duration": 9,
    "start_time": "2021-12-05T17:14:06.245Z"
   },
   {
    "duration": 10,
    "start_time": "2021-12-05T17:14:06.255Z"
   },
   {
    "duration": 34,
    "start_time": "2021-12-05T17:14:06.267Z"
   },
   {
    "duration": 6,
    "start_time": "2021-12-05T17:14:06.302Z"
   },
   {
    "duration": 8,
    "start_time": "2021-12-05T17:14:06.309Z"
   },
   {
    "duration": 6,
    "start_time": "2021-12-05T17:14:06.319Z"
   },
   {
    "duration": 14,
    "start_time": "2021-12-05T17:14:06.326Z"
   },
   {
    "duration": 5,
    "start_time": "2021-12-05T17:14:06.342Z"
   },
   {
    "duration": 4,
    "start_time": "2021-12-05T17:14:06.349Z"
   },
   {
    "duration": 38,
    "start_time": "2021-12-05T17:14:06.354Z"
   },
   {
    "duration": 19,
    "start_time": "2021-12-05T17:14:06.394Z"
   },
   {
    "duration": 7,
    "start_time": "2021-12-05T17:14:06.415Z"
   },
   {
    "duration": 19,
    "start_time": "2021-12-05T17:14:06.424Z"
   },
   {
    "duration": 40,
    "start_time": "2021-12-05T17:14:06.448Z"
   },
   {
    "duration": 77,
    "start_time": "2021-12-07T14:08:55.732Z"
   },
   {
    "duration": 545,
    "start_time": "2021-12-07T14:32:48.274Z"
   },
   {
    "duration": 47,
    "start_time": "2021-12-07T14:32:51.734Z"
   },
   {
    "duration": 16,
    "start_time": "2021-12-07T14:32:54.103Z"
   },
   {
    "duration": 10,
    "start_time": "2021-12-07T14:32:58.136Z"
   },
   {
    "duration": 9,
    "start_time": "2021-12-07T14:33:10.222Z"
   },
   {
    "duration": 3,
    "start_time": "2021-12-07T14:33:13.227Z"
   },
   {
    "duration": 17,
    "start_time": "2021-12-07T14:33:15.761Z"
   },
   {
    "duration": 5,
    "start_time": "2021-12-07T14:48:02.566Z"
   },
   {
    "duration": 5,
    "start_time": "2021-12-07T14:48:16.042Z"
   },
   {
    "duration": 8,
    "start_time": "2021-12-07T15:01:50.215Z"
   },
   {
    "duration": 2131,
    "start_time": "2021-12-07T15:02:12.795Z"
   },
   {
    "duration": 3,
    "start_time": "2021-12-07T15:05:27.147Z"
   },
   {
    "duration": 4,
    "start_time": "2021-12-07T15:05:41.787Z"
   },
   {
    "duration": 76,
    "start_time": "2021-12-07T15:22:56.945Z"
   },
   {
    "duration": 58,
    "start_time": "2021-12-07T15:39:33.607Z"
   },
   {
    "duration": 66,
    "start_time": "2021-12-07T15:40:11.553Z"
   },
   {
    "duration": 5,
    "start_time": "2021-12-07T15:41:39.778Z"
   },
   {
    "duration": 62,
    "start_time": "2021-12-07T15:42:11.158Z"
   },
   {
    "duration": 18,
    "start_time": "2021-12-07T15:42:34.239Z"
   },
   {
    "duration": 9,
    "start_time": "2021-12-07T15:42:42.510Z"
   },
   {
    "duration": 7,
    "start_time": "2021-12-07T15:43:18.729Z"
   },
   {
    "duration": 15,
    "start_time": "2021-12-07T15:43:42.699Z"
   },
   {
    "duration": 7,
    "start_time": "2021-12-07T15:44:37.032Z"
   },
   {
    "duration": 9,
    "start_time": "2021-12-07T15:44:47.924Z"
   },
   {
    "duration": 234,
    "start_time": "2021-12-07T15:44:54.554Z"
   },
   {
    "duration": 8,
    "start_time": "2021-12-07T15:44:59.821Z"
   },
   {
    "duration": 251,
    "start_time": "2021-12-07T15:45:56.105Z"
   },
   {
    "duration": 7,
    "start_time": "2021-12-07T15:46:07.085Z"
   },
   {
    "duration": 9,
    "start_time": "2021-12-07T15:46:25.037Z"
   },
   {
    "duration": 2,
    "start_time": "2021-12-07T15:46:31.603Z"
   },
   {
    "duration": 47,
    "start_time": "2021-12-07T15:46:32.668Z"
   },
   {
    "duration": 12,
    "start_time": "2021-12-07T15:46:33.519Z"
   },
   {
    "duration": 10,
    "start_time": "2021-12-07T15:46:37.106Z"
   },
   {
    "duration": 9,
    "start_time": "2021-12-07T15:46:43.542Z"
   },
   {
    "duration": 3,
    "start_time": "2021-12-07T15:46:47.862Z"
   },
   {
    "duration": 12,
    "start_time": "2021-12-07T15:46:49.133Z"
   },
   {
    "duration": 3,
    "start_time": "2021-12-07T15:46:53.323Z"
   },
   {
    "duration": 3,
    "start_time": "2021-12-07T15:46:54.174Z"
   },
   {
    "duration": 2604,
    "start_time": "2021-12-07T15:47:01.252Z"
   },
   {
    "duration": 5,
    "start_time": "2021-12-07T15:47:08.378Z"
   },
   {
    "duration": 20,
    "start_time": "2021-12-07T15:47:10.925Z"
   },
   {
    "duration": 6,
    "start_time": "2021-12-07T15:57:26.670Z"
   },
   {
    "duration": 317,
    "start_time": "2021-12-07T15:57:51.452Z"
   },
   {
    "duration": 255,
    "start_time": "2021-12-07T15:58:06.303Z"
   },
   {
    "duration": 243,
    "start_time": "2021-12-07T15:58:13.378Z"
   },
   {
    "duration": 3,
    "start_time": "2021-12-07T15:58:33.601Z"
   },
   {
    "duration": 2,
    "start_time": "2021-12-07T15:59:12.342Z"
   },
   {
    "duration": 46,
    "start_time": "2021-12-07T15:59:13.084Z"
   },
   {
    "duration": 11,
    "start_time": "2021-12-07T15:59:13.555Z"
   },
   {
    "duration": 13,
    "start_time": "2021-12-07T15:59:14.427Z"
   },
   {
    "duration": 8,
    "start_time": "2021-12-07T15:59:22.271Z"
   },
   {
    "duration": 3,
    "start_time": "2021-12-07T15:59:25.304Z"
   },
   {
    "duration": 10,
    "start_time": "2021-12-07T15:59:27.058Z"
   },
   {
    "duration": 3,
    "start_time": "2021-12-07T15:59:31.548Z"
   },
   {
    "duration": 4,
    "start_time": "2021-12-07T15:59:31.927Z"
   },
   {
    "duration": 2259,
    "start_time": "2021-12-07T15:59:36.424Z"
   },
   {
    "duration": 5,
    "start_time": "2021-12-07T15:59:41.414Z"
   },
   {
    "duration": 19,
    "start_time": "2021-12-07T15:59:42.057Z"
   },
   {
    "duration": 6,
    "start_time": "2021-12-07T15:59:47.542Z"
   },
   {
    "duration": 18,
    "start_time": "2021-12-07T15:59:48.787Z"
   },
   {
    "duration": 11,
    "start_time": "2021-12-07T16:00:01.139Z"
   },
   {
    "duration": 4,
    "start_time": "2021-12-07T16:00:51.983Z"
   },
   {
    "duration": 94,
    "start_time": "2021-12-07T16:00:53.482Z"
   },
   {
    "duration": 7,
    "start_time": "2021-12-07T16:01:03.163Z"
   },
   {
    "duration": 46,
    "start_time": "2021-12-07T16:01:47.805Z"
   },
   {
    "duration": 7,
    "start_time": "2021-12-07T16:01:50.579Z"
   },
   {
    "duration": 10,
    "start_time": "2021-12-07T16:01:57.707Z"
   },
   {
    "duration": 2045,
    "start_time": "2021-12-07T16:04:03.033Z"
   },
   {
    "duration": 15,
    "start_time": "2021-12-07T16:04:05.151Z"
   },
   {
    "duration": 48,
    "start_time": "2021-12-07T16:14:48.734Z"
   },
   {
    "duration": 11,
    "start_time": "2021-12-07T16:14:51.822Z"
   },
   {
    "duration": 7483,
    "start_time": "2021-12-07T16:15:05.306Z"
   },
   {
    "duration": 5,
    "start_time": "2021-12-07T16:15:16.322Z"
   },
   {
    "duration": 268,
    "start_time": "2021-12-07T16:15:19.149Z"
   },
   {
    "duration": 1757,
    "start_time": "2021-12-07T16:16:25.194Z"
   },
   {
    "duration": 232,
    "start_time": "2021-12-07T16:17:13.985Z"
   },
   {
    "duration": 10,
    "start_time": "2021-12-07T16:17:34.284Z"
   },
   {
    "duration": 2,
    "start_time": "2021-12-07T16:18:27.778Z"
   },
   {
    "duration": 48,
    "start_time": "2021-12-07T16:18:30.119Z"
   },
   {
    "duration": 11,
    "start_time": "2021-12-07T16:18:35.397Z"
   },
   {
    "duration": 8,
    "start_time": "2021-12-07T16:18:42.625Z"
   },
   {
    "duration": 3,
    "start_time": "2021-12-07T16:18:45.651Z"
   },
   {
    "duration": 3,
    "start_time": "2021-12-07T16:18:51.788Z"
   },
   {
    "duration": 3,
    "start_time": "2021-12-07T16:18:52.277Z"
   },
   {
    "duration": 7,
    "start_time": "2021-12-07T16:19:03.075Z"
   },
   {
    "duration": 5,
    "start_time": "2021-12-07T16:19:11.537Z"
   },
   {
    "duration": 4,
    "start_time": "2021-12-07T16:19:16.814Z"
   },
   {
    "duration": 235,
    "start_time": "2021-12-07T16:19:27.991Z"
   },
   {
    "duration": 10,
    "start_time": "2021-12-07T16:20:05.805Z"
   },
   {
    "duration": 1651,
    "start_time": "2021-12-07T16:20:46.038Z"
   },
   {
    "duration": 3,
    "start_time": "2021-12-07T16:21:20.938Z"
   },
   {
    "duration": 47,
    "start_time": "2021-12-07T16:21:22.003Z"
   },
   {
    "duration": 11,
    "start_time": "2021-12-07T16:21:22.514Z"
   },
   {
    "duration": 10,
    "start_time": "2021-12-07T16:21:22.955Z"
   },
   {
    "duration": 9,
    "start_time": "2021-12-07T16:21:25.318Z"
   },
   {
    "duration": 4,
    "start_time": "2021-12-07T16:21:26.587Z"
   },
   {
    "duration": 18,
    "start_time": "2021-12-07T16:21:27.030Z"
   },
   {
    "duration": 3,
    "start_time": "2021-12-07T16:21:29.191Z"
   },
   {
    "duration": 3,
    "start_time": "2021-12-07T16:21:29.515Z"
   },
   {
    "duration": 3585,
    "start_time": "2021-12-07T16:21:31.503Z"
   },
   {
    "duration": 6,
    "start_time": "2021-12-07T16:21:35.090Z"
   },
   {
    "duration": 20,
    "start_time": "2021-12-07T16:21:35.098Z"
   },
   {
    "duration": 7,
    "start_time": "2021-12-07T16:21:35.211Z"
   },
   {
    "duration": 6,
    "start_time": "2021-12-07T16:21:41.634Z"
   },
   {
    "duration": 3,
    "start_time": "2021-12-07T16:22:17.102Z"
   },
   {
    "duration": 5,
    "start_time": "2021-12-07T16:23:39.007Z"
   },
   {
    "duration": 4,
    "start_time": "2021-12-07T16:25:04.719Z"
   },
   {
    "duration": 4,
    "start_time": "2021-12-07T16:25:47.682Z"
   },
   {
    "duration": 47,
    "start_time": "2021-12-07T16:26:32.513Z"
   },
   {
    "duration": 10,
    "start_time": "2021-12-07T16:26:34.932Z"
   },
   {
    "duration": 9,
    "start_time": "2021-12-07T16:28:51.376Z"
   },
   {
    "duration": 4,
    "start_time": "2021-12-07T16:28:55.657Z"
   },
   {
    "duration": 9,
    "start_time": "2021-12-07T16:29:21.653Z"
   },
   {
    "duration": 17,
    "start_time": "2021-12-07T17:30:29.422Z"
   },
   {
    "duration": 17,
    "start_time": "2021-12-07T17:30:32.917Z"
   },
   {
    "duration": 14,
    "start_time": "2021-12-07T17:30:35.499Z"
   },
   {
    "duration": 5,
    "start_time": "2021-12-07T17:30:39.673Z"
   },
   {
    "duration": 13,
    "start_time": "2021-12-07T17:30:51.712Z"
   },
   {
    "duration": 10,
    "start_time": "2021-12-07T17:30:56.368Z"
   },
   {
    "duration": 97,
    "start_time": "2021-12-07T17:32:30.080Z"
   },
   {
    "duration": 4,
    "start_time": "2021-12-07T17:32:55.496Z"
   },
   {
    "duration": 512,
    "start_time": "2021-12-07T17:33:02.298Z"
   },
   {
    "duration": 7,
    "start_time": "2021-12-07T17:33:20.203Z"
   },
   {
    "duration": 7,
    "start_time": "2021-12-07T17:33:21.222Z"
   },
   {
    "duration": 4261,
    "start_time": "2021-12-07T17:33:24.855Z"
   },
   {
    "duration": 8,
    "start_time": "2021-12-07T17:33:29.118Z"
   },
   {
    "duration": 12,
    "start_time": "2021-12-07T17:34:16.669Z"
   },
   {
    "duration": 3,
    "start_time": "2021-12-07T17:44:19.968Z"
   },
   {
    "duration": 25,
    "start_time": "2021-12-07T17:44:24.106Z"
   },
   {
    "duration": 240,
    "start_time": "2021-12-07T17:53:40.265Z"
   },
   {
    "duration": 4,
    "start_time": "2021-12-07T17:54:00.400Z"
   },
   {
    "duration": 7,
    "start_time": "2021-12-07T17:54:00.601Z"
   },
   {
    "duration": 27,
    "start_time": "2021-12-07T17:54:04.250Z"
   },
   {
    "duration": 8,
    "start_time": "2021-12-07T17:54:10.381Z"
   },
   {
    "duration": 9,
    "start_time": "2021-12-07T17:54:21.613Z"
   },
   {
    "duration": 6,
    "start_time": "2021-12-07T17:54:25.625Z"
   },
   {
    "duration": 76,
    "start_time": "2021-12-07T18:07:59.799Z"
   },
   {
    "duration": 79,
    "start_time": "2021-12-07T18:14:25.981Z"
   },
   {
    "duration": 79,
    "start_time": "2021-12-07T18:15:25.315Z"
   },
   {
    "duration": 110,
    "start_time": "2021-12-07T18:15:31.948Z"
   },
   {
    "duration": 4,
    "start_time": "2021-12-07T18:15:40.009Z"
   },
   {
    "duration": 3,
    "start_time": "2021-12-07T18:18:16.802Z"
   },
   {
    "duration": 5,
    "start_time": "2021-12-07T18:33:34.883Z"
   },
   {
    "duration": 6,
    "start_time": "2021-12-07T18:49:00.929Z"
   },
   {
    "duration": 5,
    "start_time": "2021-12-07T19:05:47.704Z"
   },
   {
    "duration": 5,
    "start_time": "2021-12-07T19:06:05.618Z"
   },
   {
    "duration": 26,
    "start_time": "2021-12-07T19:23:26.546Z"
   },
   {
    "duration": 829,
    "start_time": "2021-12-08T16:46:22.246Z"
   },
   {
    "duration": 67,
    "start_time": "2021-12-08T16:46:23.078Z"
   },
   {
    "duration": 28,
    "start_time": "2021-12-08T16:46:23.147Z"
   },
   {
    "duration": 15,
    "start_time": "2021-12-08T16:46:23.178Z"
   },
   {
    "duration": 14,
    "start_time": "2021-12-08T16:46:23.216Z"
   },
   {
    "duration": 6,
    "start_time": "2021-12-08T16:46:23.233Z"
   },
   {
    "duration": 28,
    "start_time": "2021-12-08T16:46:23.242Z"
   },
   {
    "duration": 42,
    "start_time": "2021-12-08T16:46:23.275Z"
   },
   {
    "duration": 5,
    "start_time": "2021-12-08T16:46:23.321Z"
   },
   {
    "duration": 4804,
    "start_time": "2021-12-08T16:46:23.329Z"
   },
   {
    "duration": 9,
    "start_time": "2021-12-08T16:46:28.136Z"
   },
   {
    "duration": 39,
    "start_time": "2021-12-08T16:46:28.147Z"
   },
   {
    "duration": 34,
    "start_time": "2021-12-08T16:46:28.189Z"
   },
   {
    "duration": 16,
    "start_time": "2021-12-08T16:46:28.225Z"
   },
   {
    "duration": 8,
    "start_time": "2021-12-08T16:46:28.243Z"
   },
   {
    "duration": 14,
    "start_time": "2021-12-08T16:46:28.254Z"
   },
   {
    "duration": 109,
    "start_time": "2021-12-08T16:46:28.270Z"
   },
   {
    "duration": 4,
    "start_time": "2021-12-08T16:46:28.381Z"
   },
   {
    "duration": 33,
    "start_time": "2021-12-08T16:46:28.388Z"
   },
   {
    "duration": 13,
    "start_time": "2021-12-08T16:46:28.424Z"
   },
   {
    "duration": 21,
    "start_time": "2021-12-08T16:46:28.440Z"
   },
   {
    "duration": 66,
    "start_time": "2021-12-08T16:46:28.463Z"
   },
   {
    "duration": 22,
    "start_time": "2021-12-08T16:46:28.535Z"
   },
   {
    "duration": 6,
    "start_time": "2021-12-08T16:46:28.560Z"
   },
   {
    "duration": 51,
    "start_time": "2021-12-08T16:46:28.569Z"
   },
   {
    "duration": 9,
    "start_time": "2021-12-08T16:46:28.622Z"
   },
   {
    "duration": 22,
    "start_time": "2021-12-08T16:46:28.634Z"
   },
   {
    "duration": 24,
    "start_time": "2021-12-08T16:46:28.659Z"
   },
   {
    "duration": 7,
    "start_time": "2021-12-08T16:46:28.720Z"
   },
   {
    "duration": 6,
    "start_time": "2021-12-08T16:46:28.730Z"
   },
   {
    "duration": 12,
    "start_time": "2021-12-08T16:46:28.739Z"
   },
   {
    "duration": 14,
    "start_time": "2021-12-08T16:46:28.753Z"
   },
   {
    "duration": 9,
    "start_time": "2021-12-08T16:46:28.818Z"
   },
   {
    "duration": 6,
    "start_time": "2021-12-08T16:46:28.830Z"
   },
   {
    "duration": 6178,
    "start_time": "2021-12-08T16:46:28.839Z"
   },
   {
    "duration": 12,
    "start_time": "2021-12-08T16:46:35.020Z"
   },
   {
    "duration": 14,
    "start_time": "2021-12-08T16:46:35.035Z"
   },
   {
    "duration": 11,
    "start_time": "2021-12-08T16:46:35.051Z"
   },
   {
    "duration": 11,
    "start_time": "2021-12-08T16:46:35.065Z"
   },
   {
    "duration": 12,
    "start_time": "2021-12-08T16:46:35.118Z"
   },
   {
    "duration": 9,
    "start_time": "2021-12-08T16:46:35.133Z"
   },
   {
    "duration": 10,
    "start_time": "2021-12-08T16:46:35.145Z"
   },
   {
    "duration": 19,
    "start_time": "2021-12-08T16:46:35.158Z"
   },
   {
    "duration": 38,
    "start_time": "2021-12-08T16:46:35.179Z"
   },
   {
    "duration": 15,
    "start_time": "2021-12-08T16:46:35.221Z"
   },
   {
    "duration": 35,
    "start_time": "2021-12-08T16:46:35.238Z"
   },
   {
    "duration": 11,
    "start_time": "2021-12-08T16:46:35.275Z"
   },
   {
    "duration": 53,
    "start_time": "2021-12-08T16:46:35.290Z"
   },
   {
    "duration": 12,
    "start_time": "2021-12-08T16:46:35.346Z"
   },
   {
    "duration": 7,
    "start_time": "2021-12-08T16:46:35.361Z"
   },
   {
    "duration": 51,
    "start_time": "2021-12-08T16:46:35.372Z"
   },
   {
    "duration": 8,
    "start_time": "2021-12-08T16:46:35.426Z"
   },
   {
    "duration": 7,
    "start_time": "2021-12-08T16:46:35.437Z"
   },
   {
    "duration": 11,
    "start_time": "2021-12-08T16:46:35.447Z"
   },
   {
    "duration": 9,
    "start_time": "2021-12-08T16:46:35.461Z"
   },
   {
    "duration": 73,
    "start_time": "2021-12-08T16:46:35.473Z"
   },
   {
    "duration": 15,
    "start_time": "2021-12-08T16:46:35.553Z"
   },
   {
    "duration": 17,
    "start_time": "2021-12-08T16:46:35.572Z"
   },
   {
    "duration": 37,
    "start_time": "2021-12-08T16:46:35.617Z"
   },
   {
    "duration": 16,
    "start_time": "2021-12-08T16:46:35.657Z"
   },
   {
    "duration": 9,
    "start_time": "2021-12-08T16:46:35.675Z"
   },
   {
    "duration": 569,
    "start_time": "2021-12-08T17:02:47.908Z"
   },
   {
    "duration": 796,
    "start_time": "2021-12-08T17:02:54.571Z"
   },
   {
    "duration": 61,
    "start_time": "2021-12-08T17:02:55.370Z"
   },
   {
    "duration": 28,
    "start_time": "2021-12-08T17:02:55.434Z"
   },
   {
    "duration": 16,
    "start_time": "2021-12-08T17:02:55.464Z"
   },
   {
    "duration": 34,
    "start_time": "2021-12-08T17:02:55.483Z"
   },
   {
    "duration": 4,
    "start_time": "2021-12-08T17:02:55.520Z"
   },
   {
    "duration": 21,
    "start_time": "2021-12-08T17:02:55.526Z"
   },
   {
    "duration": 5,
    "start_time": "2021-12-08T17:02:55.551Z"
   },
   {
    "duration": 6,
    "start_time": "2021-12-08T17:02:55.559Z"
   },
   {
    "duration": 1261,
    "start_time": "2021-12-08T17:02:55.567Z"
   },
   {
    "duration": -2128,
    "start_time": "2021-12-08T17:02:58.960Z"
   },
   {
    "duration": -2128,
    "start_time": "2021-12-08T17:02:58.962Z"
   },
   {
    "duration": -2132,
    "start_time": "2021-12-08T17:02:58.967Z"
   },
   {
    "duration": -2136,
    "start_time": "2021-12-08T17:02:58.973Z"
   },
   {
    "duration": -2136,
    "start_time": "2021-12-08T17:02:58.975Z"
   },
   {
    "duration": -2137,
    "start_time": "2021-12-08T17:02:58.977Z"
   },
   {
    "duration": -2138,
    "start_time": "2021-12-08T17:02:58.980Z"
   },
   {
    "duration": -2140,
    "start_time": "2021-12-08T17:02:58.983Z"
   },
   {
    "duration": -2144,
    "start_time": "2021-12-08T17:02:58.988Z"
   },
   {
    "duration": -2146,
    "start_time": "2021-12-08T17:02:58.991Z"
   },
   {
    "duration": -2146,
    "start_time": "2021-12-08T17:02:58.993Z"
   },
   {
    "duration": -2146,
    "start_time": "2021-12-08T17:02:58.995Z"
   },
   {
    "duration": -2148,
    "start_time": "2021-12-08T17:02:58.998Z"
   },
   {
    "duration": -2149,
    "start_time": "2021-12-08T17:02:59.000Z"
   },
   {
    "duration": -2186,
    "start_time": "2021-12-08T17:02:59.039Z"
   },
   {
    "duration": -2186,
    "start_time": "2021-12-08T17:02:59.041Z"
   },
   {
    "duration": -2187,
    "start_time": "2021-12-08T17:02:59.044Z"
   },
   {
    "duration": -2188,
    "start_time": "2021-12-08T17:02:59.046Z"
   },
   {
    "duration": -2188,
    "start_time": "2021-12-08T17:02:59.048Z"
   },
   {
    "duration": -2192,
    "start_time": "2021-12-08T17:02:59.053Z"
   },
   {
    "duration": -2193,
    "start_time": "2021-12-08T17:02:59.056Z"
   },
   {
    "duration": -2194,
    "start_time": "2021-12-08T17:02:59.058Z"
   },
   {
    "duration": -2195,
    "start_time": "2021-12-08T17:02:59.061Z"
   },
   {
    "duration": -2205,
    "start_time": "2021-12-08T17:02:59.072Z"
   },
   {
    "duration": -2221,
    "start_time": "2021-12-08T17:02:59.089Z"
   },
   {
    "duration": -2241,
    "start_time": "2021-12-08T17:02:59.110Z"
   },
   {
    "duration": -2242,
    "start_time": "2021-12-08T17:02:59.113Z"
   },
   {
    "duration": -2243,
    "start_time": "2021-12-08T17:02:59.115Z"
   },
   {
    "duration": -2245,
    "start_time": "2021-12-08T17:02:59.118Z"
   },
   {
    "duration": -2247,
    "start_time": "2021-12-08T17:02:59.121Z"
   },
   {
    "duration": -2288,
    "start_time": "2021-12-08T17:02:59.163Z"
   },
   {
    "duration": -2250,
    "start_time": "2021-12-08T17:02:59.166Z"
   },
   {
    "duration": -2251,
    "start_time": "2021-12-08T17:02:59.169Z"
   },
   {
    "duration": -2252,
    "start_time": "2021-12-08T17:02:59.171Z"
   },
   {
    "duration": -2299,
    "start_time": "2021-12-08T17:02:59.220Z"
   },
   {
    "duration": -2311,
    "start_time": "2021-12-08T17:02:59.233Z"
   },
   {
    "duration": -2312,
    "start_time": "2021-12-08T17:02:59.236Z"
   },
   {
    "duration": -2313,
    "start_time": "2021-12-08T17:02:59.238Z"
   },
   {
    "duration": -2314,
    "start_time": "2021-12-08T17:02:59.240Z"
   },
   {
    "duration": -2314,
    "start_time": "2021-12-08T17:02:59.242Z"
   },
   {
    "duration": -2326,
    "start_time": "2021-12-08T17:02:59.255Z"
   },
   {
    "duration": -2332,
    "start_time": "2021-12-08T17:02:59.262Z"
   },
   {
    "duration": -2334,
    "start_time": "2021-12-08T17:02:59.265Z"
   },
   {
    "duration": -2335,
    "start_time": "2021-12-08T17:02:59.267Z"
   },
   {
    "duration": -2335,
    "start_time": "2021-12-08T17:02:59.269Z"
   },
   {
    "duration": -2336,
    "start_time": "2021-12-08T17:02:59.271Z"
   },
   {
    "duration": -2337,
    "start_time": "2021-12-08T17:02:59.274Z"
   },
   {
    "duration": -2338,
    "start_time": "2021-12-08T17:02:59.276Z"
   },
   {
    "duration": -2339,
    "start_time": "2021-12-08T17:02:59.278Z"
   },
   {
    "duration": -2339,
    "start_time": "2021-12-08T17:02:59.280Z"
   },
   {
    "duration": -2340,
    "start_time": "2021-12-08T17:02:59.282Z"
   },
   {
    "duration": 5524,
    "start_time": "2021-12-08T17:03:03.726Z"
   },
   {
    "duration": 5799,
    "start_time": "2021-12-08T17:03:23.789Z"
   },
   {
    "duration": 5675,
    "start_time": "2021-12-08T17:03:37.195Z"
   },
   {
    "duration": 5623,
    "start_time": "2021-12-08T17:03:47.785Z"
   },
   {
    "duration": 803,
    "start_time": "2021-12-08T17:15:49.410Z"
   },
   {
    "duration": 63,
    "start_time": "2021-12-08T17:15:50.217Z"
   },
   {
    "duration": 32,
    "start_time": "2021-12-08T17:15:50.286Z"
   },
   {
    "duration": 15,
    "start_time": "2021-12-08T17:15:50.321Z"
   },
   {
    "duration": 12,
    "start_time": "2021-12-08T17:15:50.338Z"
   },
   {
    "duration": 5,
    "start_time": "2021-12-08T17:15:50.352Z"
   },
   {
    "duration": 61,
    "start_time": "2021-12-08T17:15:50.360Z"
   },
   {
    "duration": 5,
    "start_time": "2021-12-08T17:15:50.427Z"
   },
   {
    "duration": 5,
    "start_time": "2021-12-08T17:15:50.436Z"
   },
   {
    "duration": 6209,
    "start_time": "2021-12-08T17:15:50.444Z"
   },
   {
    "duration": 8,
    "start_time": "2021-12-08T17:15:56.655Z"
   },
   {
    "duration": 61,
    "start_time": "2021-12-08T17:15:56.666Z"
   },
   {
    "duration": 9,
    "start_time": "2021-12-08T17:15:56.729Z"
   },
   {
    "duration": 7,
    "start_time": "2021-12-08T17:15:56.740Z"
   },
   {
    "duration": 6,
    "start_time": "2021-12-08T17:15:56.751Z"
   },
   {
    "duration": 5,
    "start_time": "2021-12-08T17:15:56.760Z"
   },
   {
    "duration": 126,
    "start_time": "2021-12-08T17:15:56.768Z"
   },
   {
    "duration": 23,
    "start_time": "2021-12-08T17:15:56.898Z"
   },
   {
    "duration": 17,
    "start_time": "2021-12-08T17:15:56.923Z"
   },
   {
    "duration": 13,
    "start_time": "2021-12-08T17:15:56.943Z"
   },
   {
    "duration": 21,
    "start_time": "2021-12-08T17:15:56.958Z"
   },
   {
    "duration": 57,
    "start_time": "2021-12-08T17:15:56.981Z"
   },
   {
    "duration": 22,
    "start_time": "2021-12-08T17:15:57.040Z"
   },
   {
    "duration": 7,
    "start_time": "2021-12-08T17:15:57.064Z"
   },
   {
    "duration": 49,
    "start_time": "2021-12-08T17:15:57.073Z"
   },
   {
    "duration": 9,
    "start_time": "2021-12-08T17:15:57.127Z"
   },
   {
    "duration": 27,
    "start_time": "2021-12-08T17:15:57.140Z"
   },
   {
    "duration": 48,
    "start_time": "2021-12-08T17:15:57.169Z"
   },
   {
    "duration": 6,
    "start_time": "2021-12-08T17:15:57.220Z"
   },
   {
    "duration": 8,
    "start_time": "2021-12-08T17:15:57.229Z"
   },
   {
    "duration": 10,
    "start_time": "2021-12-08T17:15:57.239Z"
   },
   {
    "duration": 18,
    "start_time": "2021-12-08T17:15:57.252Z"
   },
   {
    "duration": 48,
    "start_time": "2021-12-08T17:15:57.272Z"
   },
   {
    "duration": 6,
    "start_time": "2021-12-08T17:15:57.322Z"
   },
   {
    "duration": 5777,
    "start_time": "2021-12-08T17:15:57.330Z"
   },
   {
    "duration": 11,
    "start_time": "2021-12-08T17:16:03.118Z"
   },
   {
    "duration": 12,
    "start_time": "2021-12-08T17:16:03.131Z"
   },
   {
    "duration": 8,
    "start_time": "2021-12-08T17:16:03.146Z"
   },
   {
    "duration": 5,
    "start_time": "2021-12-08T17:16:03.157Z"
   },
   {
    "duration": 62,
    "start_time": "2021-12-08T17:16:03.164Z"
   },
   {
    "duration": 9,
    "start_time": "2021-12-08T17:16:03.228Z"
   },
   {
    "duration": 4,
    "start_time": "2021-12-08T17:16:03.239Z"
   },
   {
    "duration": 12,
    "start_time": "2021-12-08T17:16:03.245Z"
   },
   {
    "duration": 4,
    "start_time": "2021-12-08T17:16:03.259Z"
   },
   {
    "duration": 14,
    "start_time": "2021-12-08T17:16:03.266Z"
   },
   {
    "duration": 59,
    "start_time": "2021-12-08T17:16:03.283Z"
   },
   {
    "duration": 9,
    "start_time": "2021-12-08T17:16:03.345Z"
   },
   {
    "duration": 12,
    "start_time": "2021-12-08T17:16:03.358Z"
   },
   {
    "duration": 45,
    "start_time": "2021-12-08T17:16:03.372Z"
   },
   {
    "duration": 7,
    "start_time": "2021-12-08T17:16:03.420Z"
   },
   {
    "duration": 39,
    "start_time": "2021-12-08T17:16:03.430Z"
   },
   {
    "duration": 9,
    "start_time": "2021-12-08T17:16:03.472Z"
   },
   {
    "duration": 6,
    "start_time": "2021-12-08T17:16:03.518Z"
   },
   {
    "duration": 13,
    "start_time": "2021-12-08T17:16:03.527Z"
   },
   {
    "duration": 9,
    "start_time": "2021-12-08T17:16:03.542Z"
   },
   {
    "duration": 65,
    "start_time": "2021-12-08T17:16:03.554Z"
   },
   {
    "duration": 14,
    "start_time": "2021-12-08T17:16:03.622Z"
   },
   {
    "duration": 9,
    "start_time": "2021-12-08T17:16:03.639Z"
   },
   {
    "duration": 72,
    "start_time": "2021-12-08T17:16:03.652Z"
   },
   {
    "duration": 14,
    "start_time": "2021-12-08T17:16:03.727Z"
   },
   {
    "duration": 9,
    "start_time": "2021-12-08T17:16:03.744Z"
   },
   {
    "duration": 850,
    "start_time": "2021-12-08T17:19:45.388Z"
   },
   {
    "duration": 62,
    "start_time": "2021-12-08T17:19:46.240Z"
   },
   {
    "duration": 32,
    "start_time": "2021-12-08T17:19:46.305Z"
   },
   {
    "duration": 16,
    "start_time": "2021-12-08T17:19:46.725Z"
   },
   {
    "duration": 13,
    "start_time": "2021-12-08T17:19:48.757Z"
   },
   {
    "duration": 5,
    "start_time": "2021-12-08T17:19:49.602Z"
   },
   {
    "duration": 19,
    "start_time": "2021-12-08T17:19:50.172Z"
   },
   {
    "duration": 5,
    "start_time": "2021-12-08T17:19:52.464Z"
   },
   {
    "duration": 6,
    "start_time": "2021-12-08T17:19:52.964Z"
   },
   {
    "duration": 6536,
    "start_time": "2021-12-08T17:19:54.863Z"
   },
   {
    "duration": 17,
    "start_time": "2021-12-08T17:20:01.402Z"
   },
   {
    "duration": 33,
    "start_time": "2021-12-08T17:20:01.422Z"
   },
   {
    "duration": 12,
    "start_time": "2021-12-08T17:20:06.223Z"
   },
   {
    "duration": 8,
    "start_time": "2021-12-08T17:20:15.900Z"
   },
   {
    "duration": 7,
    "start_time": "2021-12-08T17:20:17.155Z"
   },
   {
    "duration": 68,
    "start_time": "2021-12-08T17:20:17.664Z"
   },
   {
    "duration": 876,
    "start_time": "2021-12-08T17:20:43.094Z"
   },
   {
    "duration": 69,
    "start_time": "2021-12-08T17:20:43.974Z"
   },
   {
    "duration": 30,
    "start_time": "2021-12-08T17:20:44.046Z"
   },
   {
    "duration": 16,
    "start_time": "2021-12-08T17:20:44.079Z"
   },
   {
    "duration": 13,
    "start_time": "2021-12-08T17:20:44.118Z"
   },
   {
    "duration": 15,
    "start_time": "2021-12-08T17:20:44.134Z"
   },
   {
    "duration": 28,
    "start_time": "2021-12-08T17:20:44.151Z"
   },
   {
    "duration": 37,
    "start_time": "2021-12-08T17:20:44.183Z"
   },
   {
    "duration": 6,
    "start_time": "2021-12-08T17:20:44.224Z"
   },
   {
    "duration": 6385,
    "start_time": "2021-12-08T17:20:44.233Z"
   },
   {
    "duration": 8,
    "start_time": "2021-12-08T17:20:50.620Z"
   },
   {
    "duration": 38,
    "start_time": "2021-12-08T17:20:50.630Z"
   },
   {
    "duration": 10,
    "start_time": "2021-12-08T17:20:50.671Z"
   },
   {
    "duration": 40,
    "start_time": "2021-12-08T17:20:50.683Z"
   },
   {
    "duration": 10,
    "start_time": "2021-12-08T17:20:50.725Z"
   },
   {
    "duration": 12,
    "start_time": "2021-12-08T17:20:50.737Z"
   },
   {
    "duration": 103,
    "start_time": "2021-12-08T17:20:50.751Z"
   },
   {
    "duration": 5,
    "start_time": "2021-12-08T17:20:50.856Z"
   },
   {
    "duration": 22,
    "start_time": "2021-12-08T17:20:50.863Z"
   },
   {
    "duration": 39,
    "start_time": "2021-12-08T17:20:50.887Z"
   },
   {
    "duration": 24,
    "start_time": "2021-12-08T17:20:50.929Z"
   },
   {
    "duration": 26,
    "start_time": "2021-12-08T17:20:50.956Z"
   },
   {
    "duration": 25,
    "start_time": "2021-12-08T17:20:51.016Z"
   },
   {
    "duration": 6,
    "start_time": "2021-12-08T17:20:51.044Z"
   },
   {
    "duration": 16,
    "start_time": "2021-12-08T17:20:51.053Z"
   },
   {
    "duration": 10,
    "start_time": "2021-12-08T17:20:51.071Z"
   },
   {
    "duration": 55,
    "start_time": "2021-12-08T17:20:51.083Z"
   },
   {
    "duration": 23,
    "start_time": "2021-12-08T17:20:51.141Z"
   },
   {
    "duration": 7,
    "start_time": "2021-12-08T17:20:51.166Z"
   },
   {
    "duration": 9,
    "start_time": "2021-12-08T17:20:51.176Z"
   },
   {
    "duration": 10,
    "start_time": "2021-12-08T17:20:51.218Z"
   },
   {
    "duration": 17,
    "start_time": "2021-12-08T17:20:51.231Z"
   },
   {
    "duration": 10,
    "start_time": "2021-12-08T17:20:51.251Z"
   },
   {
    "duration": 6,
    "start_time": "2021-12-08T17:20:51.263Z"
   },
   {
    "duration": 5650,
    "start_time": "2021-12-08T17:20:51.271Z"
   },
   {
    "duration": 11,
    "start_time": "2021-12-08T17:20:56.924Z"
   },
   {
    "duration": 11,
    "start_time": "2021-12-08T17:20:56.937Z"
   },
   {
    "duration": 7,
    "start_time": "2021-12-08T17:20:56.951Z"
   },
   {
    "duration": 4,
    "start_time": "2021-12-08T17:20:56.961Z"
   },
   {
    "duration": 55,
    "start_time": "2021-12-08T17:20:56.967Z"
   },
   {
    "duration": 10,
    "start_time": "2021-12-08T17:20:57.024Z"
   },
   {
    "duration": 5,
    "start_time": "2021-12-08T17:20:57.037Z"
   },
   {
    "duration": 13,
    "start_time": "2021-12-08T17:20:57.044Z"
   },
   {
    "duration": 5,
    "start_time": "2021-12-08T17:20:57.060Z"
   },
   {
    "duration": 56,
    "start_time": "2021-12-08T17:20:57.068Z"
   },
   {
    "duration": 28,
    "start_time": "2021-12-08T17:20:57.126Z"
   },
   {
    "duration": 10,
    "start_time": "2021-12-08T17:20:57.157Z"
   },
   {
    "duration": 12,
    "start_time": "2021-12-08T17:20:57.170Z"
   },
   {
    "duration": 39,
    "start_time": "2021-12-08T17:20:57.185Z"
   },
   {
    "duration": 6,
    "start_time": "2021-12-08T17:20:57.226Z"
   },
   {
    "duration": 29,
    "start_time": "2021-12-08T17:20:57.234Z"
   },
   {
    "duration": 9,
    "start_time": "2021-12-08T17:20:57.265Z"
   },
   {
    "duration": 45,
    "start_time": "2021-12-08T17:20:57.276Z"
   },
   {
    "duration": 11,
    "start_time": "2021-12-08T17:20:57.324Z"
   },
   {
    "duration": 7,
    "start_time": "2021-12-08T17:20:57.338Z"
   },
   {
    "duration": 33,
    "start_time": "2021-12-08T17:20:57.348Z"
   },
   {
    "duration": 41,
    "start_time": "2021-12-08T17:20:57.384Z"
   },
   {
    "duration": 11,
    "start_time": "2021-12-08T17:20:57.429Z"
   },
   {
    "duration": 28,
    "start_time": "2021-12-08T17:20:57.443Z"
   },
   {
    "duration": 52,
    "start_time": "2021-12-08T17:20:57.474Z"
   },
   {
    "duration": 11,
    "start_time": "2021-12-08T17:20:57.529Z"
   },
   {
    "duration": 340,
    "start_time": "2021-12-09T02:55:49.962Z"
   },
   {
    "duration": 465,
    "start_time": "2022-03-19T22:00:41.164Z"
   },
   {
    "duration": 74,
    "start_time": "2022-03-19T22:00:44.097Z"
   },
   {
    "duration": 23,
    "start_time": "2022-03-19T22:00:46.333Z"
   },
   {
    "duration": 17,
    "start_time": "2022-03-19T22:00:46.762Z"
   },
   {
    "duration": 12,
    "start_time": "2022-03-19T22:00:48.439Z"
   },
   {
    "duration": 3,
    "start_time": "2022-03-19T22:00:48.931Z"
   },
   {
    "duration": 19,
    "start_time": "2022-03-19T22:00:49.208Z"
   },
   {
    "duration": 83,
    "start_time": "2022-03-19T22:00:50.373Z"
   },
   {
    "duration": 3,
    "start_time": "2022-03-19T22:02:39.187Z"
   },
   {
    "duration": 5,
    "start_time": "2022-03-19T22:02:41.929Z"
   },
   {
    "duration": 4723,
    "start_time": "2022-03-19T22:02:45.937Z"
   },
   {
    "duration": 7,
    "start_time": "2022-03-19T22:03:04.185Z"
   },
   {
    "duration": 36,
    "start_time": "2022-03-19T22:03:12.181Z"
   },
   {
    "duration": 12,
    "start_time": "2022-03-19T22:03:26.301Z"
   },
   {
    "duration": 9,
    "start_time": "2022-03-19T22:03:28.231Z"
   },
   {
    "duration": 10,
    "start_time": "2022-03-19T22:03:34.124Z"
   },
   {
    "duration": 54,
    "start_time": "2022-03-19T22:03:38.885Z"
   },
   {
    "duration": 6,
    "start_time": "2022-03-19T22:04:19.310Z"
   },
   {
    "duration": 18,
    "start_time": "2022-03-19T22:04:34.634Z"
   },
   {
    "duration": 26,
    "start_time": "2022-03-19T22:07:16.690Z"
   },
   {
    "duration": 24,
    "start_time": "2022-03-19T22:07:17.686Z"
   },
   {
    "duration": 20,
    "start_time": "2022-03-19T22:07:18.642Z"
   },
   {
    "duration": 7,
    "start_time": "2022-03-19T22:07:20.539Z"
   },
   {
    "duration": 12,
    "start_time": "2022-03-19T22:07:21.973Z"
   },
   {
    "duration": 8,
    "start_time": "2022-03-19T22:07:22.632Z"
   },
   {
    "duration": 21,
    "start_time": "2022-03-19T22:07:31.837Z"
   },
   {
    "duration": 26,
    "start_time": "2022-03-19T22:07:32.386Z"
   },
   {
    "duration": 7,
    "start_time": "2022-03-19T22:07:32.936Z"
   },
   {
    "duration": 6,
    "start_time": "2022-03-19T22:07:35.862Z"
   },
   {
    "duration": 13,
    "start_time": "2022-03-19T22:07:37.507Z"
   },
   {
    "duration": 21,
    "start_time": "2022-03-19T22:07:38.792Z"
   },
   {
    "duration": 6,
    "start_time": "2022-03-19T22:07:47.852Z"
   },
   {
    "duration": 5,
    "start_time": "2022-03-19T22:07:48.456Z"
   },
   {
    "duration": 5329,
    "start_time": "2022-03-19T22:07:55.187Z"
   },
   {
    "duration": 15,
    "start_time": "2022-03-19T22:08:00.520Z"
   },
   {
    "duration": 9,
    "start_time": "2022-03-19T22:08:03.750Z"
   },
   {
    "duration": 7,
    "start_time": "2022-03-19T22:08:09.055Z"
   },
   {
    "duration": 5,
    "start_time": "2022-03-19T22:08:12.328Z"
   },
   {
    "duration": 11,
    "start_time": "2022-03-19T22:08:12.709Z"
   },
   {
    "duration": 6,
    "start_time": "2022-03-19T22:08:13.070Z"
   },
   {
    "duration": 4,
    "start_time": "2022-03-19T22:08:21.230Z"
   },
   {
    "duration": 9,
    "start_time": "2022-03-19T22:08:25.467Z"
   },
   {
    "duration": 4,
    "start_time": "2022-03-19T22:08:27.056Z"
   },
   {
    "duration": 11,
    "start_time": "2022-03-19T22:08:27.860Z"
   },
   {
    "duration": 22,
    "start_time": "2022-03-19T22:08:30.416Z"
   },
   {
    "duration": 8,
    "start_time": "2022-03-19T22:08:30.981Z"
   },
   {
    "duration": 5,
    "start_time": "2022-03-19T22:08:31.890Z"
   },
   {
    "duration": 9,
    "start_time": "2022-03-19T22:08:32.234Z"
   },
   {
    "duration": 4,
    "start_time": "2022-03-19T22:08:32.995Z"
   },
   {
    "duration": 26,
    "start_time": "2022-03-19T22:08:41.369Z"
   },
   {
    "duration": 10,
    "start_time": "2022-03-19T22:08:41.646Z"
   },
   {
    "duration": 5,
    "start_time": "2022-03-19T22:08:42.882Z"
   },
   {
    "duration": 16,
    "start_time": "2022-03-19T22:08:43.299Z"
   },
   {
    "duration": 7,
    "start_time": "2022-03-19T22:08:44.828Z"
   },
   {
    "duration": 27,
    "start_time": "2022-03-19T22:08:57.911Z"
   },
   {
    "duration": 15,
    "start_time": "2022-03-19T22:08:59.233Z"
   },
   {
    "duration": 6,
    "start_time": "2022-03-19T22:09:00.780Z"
   },
   {
    "duration": 29,
    "start_time": "2022-03-19T22:09:22.098Z"
   },
   {
    "duration": 9,
    "start_time": "2022-03-19T22:09:24.580Z"
   },
   {
    "duration": 10,
    "start_time": "2022-03-19T22:09:27.300Z"
   }
  ],
  "kernelspec": {
   "display_name": "Python 3 (ipykernel)",
   "language": "python",
   "name": "python3"
  },
  "language_info": {
   "codemirror_mode": {
    "name": "ipython",
    "version": 3
   },
   "file_extension": ".py",
   "mimetype": "text/x-python",
   "name": "python",
   "nbconvert_exporter": "python",
   "pygments_lexer": "ipython3",
   "version": "3.9.5"
  },
  "toc": {
   "base_numbering": 1,
   "nav_menu": {},
   "number_sections": true,
   "sideBar": true,
   "skip_h1_title": true,
   "title_cell": "Table of Contents",
   "title_sidebar": "Contents",
   "toc_cell": false,
   "toc_position": {},
   "toc_section_display": true,
   "toc_window_display": false
  }
 },
 "nbformat": 4,
 "nbformat_minor": 2
}
