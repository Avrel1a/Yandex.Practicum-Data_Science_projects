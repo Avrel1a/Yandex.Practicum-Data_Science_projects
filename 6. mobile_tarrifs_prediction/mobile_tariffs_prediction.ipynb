{
 "cells": [
  {
   "cell_type": "markdown",
   "metadata": {},
   "source": [
    "# Рекомендация тарифов"
   ]
  },
  {
   "cell_type": "markdown",
   "metadata": {},
   "source": [
    "В нашем распоряжении данные о поведении клиентов, которые уже перешли на тарифы оператора \"Мегалайн\" - \"Ультра\" и \"Смарт\". Нужно построить модель для задачи классификации, которая выберет подходящий для абонента тариф. Предобработка данных не понадобится — она уже была выполнена в более раннем проекте.\n",
    "\n",
    "Необходимо построить модель с максимально большим значением *accuracy*. Цель - довести долю правильных ответов по крайней мере до 0.75."
   ]
  },
  {
   "cell_type": "markdown",
   "metadata": {},
   "source": [
    "## Откройте и изучите файл"
   ]
  },
  {
   "cell_type": "code",
   "execution_count": 1,
   "metadata": {},
   "outputs": [],
   "source": [
    "# импортируем все необходимое\n",
    "import pandas as pd\n",
    "from sklearn.model_selection import train_test_split\n",
    "from sklearn.ensemble import RandomForestClassifier\n",
    "from sklearn.tree import DecisionTreeClassifier\n",
    "from sklearn.metrics import accuracy_score\n",
    "from sklearn.dummy import DummyClassifier"
   ]
  },
  {
   "cell_type": "code",
   "execution_count": 2,
   "metadata": {},
   "outputs": [],
   "source": [
    "# читаем таблицу и сохраняем ее в переменную df\n",
    "df = pd.read_csv('/datasets/users_behavior.csv')"
   ]
  },
  {
   "cell_type": "code",
   "execution_count": 3,
   "metadata": {},
   "outputs": [
    {
     "data": {
      "text/html": [
       "<div>\n",
       "<style scoped>\n",
       "    .dataframe tbody tr th:only-of-type {\n",
       "        vertical-align: middle;\n",
       "    }\n",
       "\n",
       "    .dataframe tbody tr th {\n",
       "        vertical-align: top;\n",
       "    }\n",
       "\n",
       "    .dataframe thead th {\n",
       "        text-align: right;\n",
       "    }\n",
       "</style>\n",
       "<table border=\"1\" class=\"dataframe\">\n",
       "  <thead>\n",
       "    <tr style=\"text-align: right;\">\n",
       "      <th></th>\n",
       "      <th>calls</th>\n",
       "      <th>minutes</th>\n",
       "      <th>messages</th>\n",
       "      <th>mb_used</th>\n",
       "      <th>is_ultra</th>\n",
       "    </tr>\n",
       "  </thead>\n",
       "  <tbody>\n",
       "    <tr>\n",
       "      <th>0</th>\n",
       "      <td>40.0</td>\n",
       "      <td>311.90</td>\n",
       "      <td>83.0</td>\n",
       "      <td>19915.42</td>\n",
       "      <td>0</td>\n",
       "    </tr>\n",
       "    <tr>\n",
       "      <th>1</th>\n",
       "      <td>85.0</td>\n",
       "      <td>516.75</td>\n",
       "      <td>56.0</td>\n",
       "      <td>22696.96</td>\n",
       "      <td>0</td>\n",
       "    </tr>\n",
       "    <tr>\n",
       "      <th>2</th>\n",
       "      <td>77.0</td>\n",
       "      <td>467.66</td>\n",
       "      <td>86.0</td>\n",
       "      <td>21060.45</td>\n",
       "      <td>0</td>\n",
       "    </tr>\n",
       "    <tr>\n",
       "      <th>3</th>\n",
       "      <td>106.0</td>\n",
       "      <td>745.53</td>\n",
       "      <td>81.0</td>\n",
       "      <td>8437.39</td>\n",
       "      <td>1</td>\n",
       "    </tr>\n",
       "    <tr>\n",
       "      <th>4</th>\n",
       "      <td>66.0</td>\n",
       "      <td>418.74</td>\n",
       "      <td>1.0</td>\n",
       "      <td>14502.75</td>\n",
       "      <td>0</td>\n",
       "    </tr>\n",
       "  </tbody>\n",
       "</table>\n",
       "</div>"
      ],
      "text/plain": [
       "   calls  minutes  messages   mb_used  is_ultra\n",
       "0   40.0   311.90      83.0  19915.42         0\n",
       "1   85.0   516.75      56.0  22696.96         0\n",
       "2   77.0   467.66      86.0  21060.45         0\n",
       "3  106.0   745.53      81.0   8437.39         1\n",
       "4   66.0   418.74       1.0  14502.75         0"
      ]
     },
     "execution_count": 3,
     "metadata": {},
     "output_type": "execute_result"
    }
   ],
   "source": [
    "# выведем первые 5 строк таблицы\n",
    "df.head()"
   ]
  },
  {
   "cell_type": "code",
   "execution_count": 4,
   "metadata": {
    "scrolled": true
   },
   "outputs": [
    {
     "name": "stdout",
     "output_type": "stream",
     "text": [
      "<class 'pandas.core.frame.DataFrame'>\n",
      "RangeIndex: 3214 entries, 0 to 3213\n",
      "Data columns (total 5 columns):\n",
      " #   Column    Non-Null Count  Dtype  \n",
      "---  ------    --------------  -----  \n",
      " 0   calls     3214 non-null   float64\n",
      " 1   minutes   3214 non-null   float64\n",
      " 2   messages  3214 non-null   float64\n",
      " 3   mb_used   3214 non-null   float64\n",
      " 4   is_ultra  3214 non-null   int64  \n",
      "dtypes: float64(4), int64(1)\n",
      "memory usage: 125.7 KB\n"
     ]
    }
   ],
   "source": [
    "# посмотрим информацию по типу данных в столбцах и кол-ву пропусков, если они есть\n",
    "df.info()"
   ]
  },
  {
   "cell_type": "markdown",
   "metadata": {},
   "source": [
    "В столбцах `messages` и `calls` можем заменить тип данных на int, т.к. в данных столбцах могут быть только целые значения."
   ]
  },
  {
   "cell_type": "code",
   "execution_count": 5,
   "metadata": {},
   "outputs": [],
   "source": [
    "# заменим тип данных в столбцах с кол-вом сообщений и звонков на int\n",
    "df['messages'] = df['messages'].astype(\"int\")\n",
    "df['calls'] = df['calls'].astype(\"int\")"
   ]
  },
  {
   "cell_type": "markdown",
   "metadata": {},
   "source": [
    "И, если я все правильно понимаю, в рамках данного исследования нам не нужно округлять значения израсходованных пакетов услуг (как это на практике делает оператор), т.к. от нас не требуется вычислять, сколько каждый абонент тратит на услуги связи и, соответственно, приносит прибыли компании. Поэтому дополнительная предобработка значений не требуется."
   ]
  },
  {
   "cell_type": "code",
   "execution_count": 6,
   "metadata": {},
   "outputs": [
    {
     "data": {
      "text/plain": [
       "0"
      ]
     },
     "execution_count": 6,
     "metadata": {},
     "output_type": "execute_result"
    }
   ],
   "source": [
    "# проверим, есть ли явные дубликаты\n",
    "df.duplicated().sum()"
   ]
  },
  {
   "cell_type": "markdown",
   "metadata": {},
   "source": [
    "**Выводы:**\n",
    "\n",
    "- Данные полные, пропусков нет;\n",
    "- Выборка небольшая, чуть больше трех тысяч пользователей;\n",
    "- Корректные наименования столбцов (все в нижнем регистре, нет лишних пробелов и т.д.);\n",
    "- Нет дубликатов."
   ]
  },
  {
   "cell_type": "markdown",
   "metadata": {},
   "source": [
    "## Разбейте данные на выборки"
   ]
  },
  {
   "cell_type": "markdown",
   "metadata": {},
   "source": [
    "Для начала разобьем датафрейм на признаки и целевой признак. Целевым признаком у нас будет столбец с информацией о тарифе абонента: \"сидит\" на тарифе \"Ультра\" или нет. Соответственно, раз у нас выделен целевой признак, обучение модели будет проходить \"с учителем\"."
   ]
  },
  {
   "cell_type": "code",
   "execution_count": 7,
   "metadata": {},
   "outputs": [],
   "source": [
    "# разделим датафрейм на features - все признаки, кроме целевого и target - целевой признак\n",
    "features = df.drop('is_ultra', axis=1)\n",
    "target = df['is_ultra']"
   ]
  },
  {
   "cell_type": "markdown",
   "metadata": {},
   "source": [
    "Далее разделим данные на 3 выборки - обучающую, тестовую и валидацинную в пропорции 3:1:1, т.е. 60%, 20% и 20%."
   ]
  },
  {
   "cell_type": "code",
   "execution_count": 8,
   "metadata": {},
   "outputs": [],
   "source": [
    "# сначала разделим данные на обучающую и тестовую выборки. В random_state запишем 12345\n",
    "features_train, features_test, target_train, target_test = train_test_split(features, target, test_size=0.4, random_state=12345)"
   ]
  },
  {
   "cell_type": "code",
   "execution_count": 9,
   "metadata": {},
   "outputs": [],
   "source": [
    "# теперь разделим тестовую выборку на тестовую и валидационную:\n",
    "features_test, features_valid, target_test, target_valid = train_test_split(features_test, target_test, test_size=0.5, random_state=12345)"
   ]
  },
  {
   "cell_type": "markdown",
   "metadata": {},
   "source": [
    "## Исследуйте модели"
   ]
  },
  {
   "cell_type": "markdown",
   "metadata": {},
   "source": [
    "В рамках теории нами были изучены три модели - \"Случайный лес\", \"Дерево решений\" и \"Линейная регрессия\". Как я понимаю, две из них (Лес и Дерево) используются как раз таки для решения задач классификации, \"Линейная регрессия\" - для задач регрессии (однако нашла пару статей, где говорится, что в теории можно использовать и для бинарной классификации, как у нас в исследовании, но показали далеки от адекватности). Поэтому будем рассматривать две модели - \"Случайный лес\" и \"Дерево Решений\".\n",
    "\n",
    "С помощью цикла найдем для каждой модели оптимальное соотношение заданных значений гиперпараметров, чтобы оценить максимальное значение точности для каждой модели и выбрать наилучшую."
   ]
  },
  {
   "cell_type": "markdown",
   "metadata": {},
   "source": [
    "### Random Forest"
   ]
  },
  {
   "cell_type": "code",
   "execution_count": 10,
   "metadata": {},
   "outputs": [],
   "source": [
    "best_model_RF = None\n",
    "best_accuracy_RF = 0\n",
    "best_est_RF = 0\n",
    "best_depth_RF = 0\n",
    "for est in range(2,51):\n",
    "    for depth in range(2,25):\n",
    "        model_RF = RandomForestClassifier(random_state = 12345, n_estimators = est, max_depth = depth)\n",
    "        model_RF.fit(features_train, target_train)\n",
    "        prediction_valid_RF = model_RF.predict(features_valid)\n",
    "        accuracy_RF = accuracy_score(prediction_valid_RF, target_valid)\n",
    "        if best_accuracy_RF < accuracy_RF:\n",
    "            best_model_RF = model_RF\n",
    "            best_depth_RF = depth\n",
    "            best_est_RF = est\n",
    "            best_accuracy_RF = accuracy_RF"
   ]
  },
  {
   "cell_type": "code",
   "execution_count": 11,
   "metadata": {},
   "outputs": [
    {
     "name": "stdout",
     "output_type": "stream",
     "text": [
      "Наибольшая точность модели Random Forest: 0.8149300155520995\n"
     ]
    }
   ],
   "source": [
    "print(f\"Наибольшая точность модели Random Forest: {best_accuracy_RF}\")"
   ]
  },
  {
   "cell_type": "markdown",
   "metadata": {},
   "source": [
    "### Decision Tree"
   ]
  },
  {
   "cell_type": "code",
   "execution_count": 12,
   "metadata": {},
   "outputs": [],
   "source": [
    "best_model_DT = None\n",
    "best_accuracy_DT = 0\n",
    "best_depth_DT = 0\n",
    "for depth in range(2,50):\n",
    "    model_DT = DecisionTreeClassifier(random_state = 12345, max_depth = depth)\n",
    "    model_DT.fit(features_train, target_train)\n",
    "    prediction_valid_DT = model_DT.predict(features_valid)\n",
    "    accuracy_DT = accuracy_score(prediction_valid_DT, target_valid)\n",
    "    if best_accuracy_DT < accuracy_DT:\n",
    "        best_model_DT = model_DT\n",
    "        best_accuracy_DT = accuracy_DT\n",
    "        best_depth_DT = depth"
   ]
  },
  {
   "cell_type": "code",
   "execution_count": 13,
   "metadata": {
    "scrolled": true
   },
   "outputs": [
    {
     "name": "stdout",
     "output_type": "stream",
     "text": [
      "Наибольшая точность модели Decision Tree: 0.7993779160186625\n"
     ]
    }
   ],
   "source": [
    "print(f\"Наибольшая точность модели Decision Tree: {best_accuracy_DT}\")"
   ]
  },
  {
   "cell_type": "markdown",
   "metadata": {},
   "source": [
    "**Вывод:**\n",
    "\n",
    "Основываясь на показателе точности, можно прийти к выводу, что наиболее качественные результаты прогнозирует Random Forest"
   ]
  },
  {
   "cell_type": "markdown",
   "metadata": {},
   "source": [
    "## Проверьте модель на тестовой выборке"
   ]
  },
  {
   "cell_type": "code",
   "execution_count": 14,
   "metadata": {},
   "outputs": [],
   "source": [
    "# получим предсказания обеих моделей на тестовой выборке\n",
    "prediction_test_RF = best_model_RF.predict(features_test)\n",
    "prediction_test_DT = best_model_DT.predict(features_test)"
   ]
  },
  {
   "cell_type": "code",
   "execution_count": 15,
   "metadata": {},
   "outputs": [],
   "source": [
    "# оценим точность предсказаний каждой модели\n",
    "accuracy_RF_test = accuracy_score(prediction_test_RF, target_test)\n",
    "accuracy_DT_test = accuracy_score(prediction_test_DT, target_test)"
   ]
  },
  {
   "cell_type": "code",
   "execution_count": 16,
   "metadata": {},
   "outputs": [
    {
     "name": "stdout",
     "output_type": "stream",
     "text": [
      "Random Forest: 0.7900466562986003\n",
      "Decision Tree: 0.7822706065318819\n"
     ]
    }
   ],
   "source": [
    "# выведем на экран результаты\n",
    "print(f\"Random Forest: {accuracy_RF_test}\")\n",
    "print(f\"Decision Tree: {accuracy_DT_test}\")"
   ]
  },
  {
   "cell_type": "markdown",
   "metadata": {},
   "source": [
    "**Вывод:**\n",
    "\n",
    "По точности предсказаний на валидационной и на тестовой выборках, можем утверждать, что модель Random Forest делает наиболее адекватные предсказания.    "
   ]
  },
  {
   "cell_type": "markdown",
   "metadata": {},
   "source": [
    "## (бонус) Проверьте модели на адекватность"
   ]
  },
  {
   "cell_type": "markdown",
   "metadata": {},
   "source": [
    "Для проверки модели на адекватность сравним точность предсказаний модели Random Forest с точностью предсказаний случайной модели на основе инструмента той же библиотеки `sklearn` - `DummyClassifier`."
   ]
  },
  {
   "cell_type": "code",
   "execution_count": 17,
   "metadata": {},
   "outputs": [
    {
     "name": "stdout",
     "output_type": "stream",
     "text": [
      "Точность предсказаний случайной модели на валидационной выборке: 0.6842923794712286\n",
      "Точность предсказаний случайной модели на тестовой выборке: 0.7060653188180405\n"
     ]
    }
   ],
   "source": [
    "# обучим случайную модель на обучающей выборке\n",
    "dummy_csf = DummyClassifier(strategy='most_frequent').fit(features_train, target_train)\n",
    "# получим предсказания от случайной модели на валидационной и тестовой выборках\n",
    "dummy_prediction_valid = dummy_csf.predict(features_valid)\n",
    "dummy_prediction_test = dummy_csf.predict(features_test)\n",
    "# оценим точность предсказаний на обеих выборках\n",
    "dummy_accuracy_valid = accuracy_score(dummy_prediction_valid, target_valid)\n",
    "dummy_accuracy_test = accuracy_score(dummy_prediction_test, target_test)\n",
    "# выведем результаты\n",
    "print(f\"Точность предсказаний случайной модели на валидационной выборке: {dummy_accuracy_valid}\")\n",
    "print(f\"Точность предсказаний случайной модели на тестовой выборке: {dummy_accuracy_test}\")"
   ]
  },
  {
   "cell_type": "markdown",
   "metadata": {},
   "source": [
    "Т.к. точность предсканий модели Random Forest была выше как на валидационной, так и на тестовой выборке, делаем вывод о том, что модель делает адекватные предсказания."
   ]
  }
 ],
 "metadata": {
  "ExecuteTimeLog": [
   {
    "duration": 750,
    "start_time": "2022-01-30T15:19:35.835Z"
   },
   {
    "duration": 21,
    "start_time": "2022-01-30T15:20:50.456Z"
   },
   {
    "duration": 22,
    "start_time": "2022-01-30T15:21:07.379Z"
   },
   {
    "duration": 9,
    "start_time": "2022-01-30T15:36:37.508Z"
   },
   {
    "duration": 9,
    "start_time": "2022-01-30T15:37:22.446Z"
   },
   {
    "duration": 15,
    "start_time": "2022-01-30T16:32:46.984Z"
   },
   {
    "duration": 106,
    "start_time": "2022-01-30T16:35:23.387Z"
   },
   {
    "duration": 452,
    "start_time": "2022-01-30T16:35:27.877Z"
   },
   {
    "duration": 6,
    "start_time": "2022-01-30T16:35:36.567Z"
   },
   {
    "duration": 13,
    "start_time": "2022-01-30T16:37:57.187Z"
   },
   {
    "duration": 6,
    "start_time": "2022-01-30T16:48:23.667Z"
   },
   {
    "duration": 284,
    "start_time": "2022-01-30T16:55:43.946Z"
   },
   {
    "duration": 537,
    "start_time": "2022-01-30T16:55:49.107Z"
   },
   {
    "duration": 403,
    "start_time": "2022-01-30T16:55:53.264Z"
   },
   {
    "duration": 8,
    "start_time": "2022-01-30T16:56:00.250Z"
   },
   {
    "duration": 8,
    "start_time": "2022-01-30T16:58:04.609Z"
   },
   {
    "duration": 314,
    "start_time": "2022-01-30T17:48:36.382Z"
   },
   {
    "duration": 549,
    "start_time": "2022-01-30T17:48:49.815Z"
   },
   {
    "duration": 49,
    "start_time": "2022-01-30T17:48:55.604Z"
   },
   {
    "duration": 135889,
    "start_time": "2022-01-30T17:48:58.511Z"
   },
   {
    "duration": 4,
    "start_time": "2022-01-30T17:51:37.671Z"
   },
   {
    "duration": 134609,
    "start_time": "2022-01-30T17:53:22.757Z"
   },
   {
    "duration": 4,
    "start_time": "2022-01-30T18:39:21.154Z"
   },
   {
    "duration": 132330,
    "start_time": "2022-01-30T18:39:31.396Z"
   },
   {
    "duration": 310,
    "start_time": "2022-01-30T18:41:43.729Z"
   },
   {
    "duration": 540,
    "start_time": "2022-01-30T18:46:00.966Z"
   },
   {
    "duration": 4,
    "start_time": "2022-01-30T19:07:14.522Z"
   },
   {
    "duration": 4,
    "start_time": "2022-01-30T19:08:21.204Z"
   },
   {
    "duration": 5,
    "start_time": "2022-01-30T19:08:46.992Z"
   },
   {
    "duration": 298,
    "start_time": "2022-01-30T19:08:56.454Z"
   },
   {
    "duration": 293,
    "start_time": "2022-01-30T19:09:09.015Z"
   },
   {
    "duration": 6,
    "start_time": "2022-01-30T19:09:12.151Z"
   },
   {
    "duration": 317,
    "start_time": "2022-01-30T19:09:17.987Z"
   },
   {
    "duration": 344,
    "start_time": "2022-01-30T19:09:31.096Z"
   },
   {
    "duration": 811,
    "start_time": "2022-01-30T19:09:40.915Z"
   },
   {
    "duration": 10,
    "start_time": "2022-01-30T19:29:11.765Z"
   },
   {
    "duration": 5,
    "start_time": "2022-01-30T19:30:12.584Z"
   },
   {
    "duration": 5,
    "start_time": "2022-01-30T19:30:35.834Z"
   },
   {
    "duration": 4,
    "start_time": "2022-01-30T19:39:14.230Z"
   },
   {
    "duration": 6,
    "start_time": "2022-01-30T19:40:26.552Z"
   },
   {
    "duration": 9,
    "start_time": "2022-01-30T19:44:56.307Z"
   },
   {
    "duration": 1329,
    "start_time": "2022-03-20T13:51:40.391Z"
   },
   {
    "duration": 19,
    "start_time": "2022-03-20T13:51:41.722Z"
   },
   {
    "duration": 15,
    "start_time": "2022-03-20T13:51:42.310Z"
   },
   {
    "duration": 10,
    "start_time": "2022-03-20T13:51:43.739Z"
   },
   {
    "duration": 4,
    "start_time": "2022-03-20T13:51:44.576Z"
   },
   {
    "duration": 7,
    "start_time": "2022-03-20T13:51:45.339Z"
   },
   {
    "duration": 5,
    "start_time": "2022-03-20T13:51:47.015Z"
   },
   {
    "duration": 5,
    "start_time": "2022-03-20T13:51:47.716Z"
   },
   {
    "duration": 5,
    "start_time": "2022-03-20T13:51:48.096Z"
   },
   {
    "duration": 90670,
    "start_time": "2022-03-20T13:51:49.546Z"
   },
   {
    "duration": 3,
    "start_time": "2022-03-20T13:53:20.219Z"
   },
   {
    "duration": 460,
    "start_time": "2022-03-20T13:53:20.224Z"
   },
   {
    "duration": 3,
    "start_time": "2022-03-20T13:53:20.686Z"
   },
   {
    "duration": 59,
    "start_time": "2022-03-20T13:53:20.700Z"
   },
   {
    "duration": 4,
    "start_time": "2022-03-20T13:53:20.760Z"
   },
   {
    "duration": 4,
    "start_time": "2022-03-20T13:53:20.766Z"
   },
   {
    "duration": 10,
    "start_time": "2022-03-20T13:53:20.771Z"
   }
  ],
  "kernelspec": {
   "display_name": "Python 3 (ipykernel)",
   "language": "python",
   "name": "python3"
  },
  "language_info": {
   "codemirror_mode": {
    "name": "ipython",
    "version": 3
   },
   "file_extension": ".py",
   "mimetype": "text/x-python",
   "name": "python",
   "nbconvert_exporter": "python",
   "pygments_lexer": "ipython3",
   "version": "3.9.5"
  },
  "toc": {
   "base_numbering": 1,
   "nav_menu": {},
   "number_sections": true,
   "sideBar": true,
   "skip_h1_title": true,
   "title_cell": "Table of Contents",
   "title_sidebar": "Contents",
   "toc_cell": false,
   "toc_position": {},
   "toc_section_display": true,
   "toc_window_display": false
  }
 },
 "nbformat": 4,
 "nbformat_minor": 2
}
