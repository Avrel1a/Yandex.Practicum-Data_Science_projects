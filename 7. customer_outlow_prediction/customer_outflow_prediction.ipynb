{
 "cells": [
  {
   "cell_type": "markdown",
   "metadata": {
    "toc": true
   },
   "source": [
    "<h1>Содержание<span class=\"tocSkip\"></span></h1>\n",
    "<div class=\"toc\"><ul class=\"toc-item\"><li><span><a href=\"#Подготовка-данных\" data-toc-modified-id=\"Подготовка-данных-1\"><span class=\"toc-item-num\">1&nbsp;&nbsp;</span>Подготовка данных</a></span><ul class=\"toc-item\"><li><span><a href=\"#Импортируем-все-нужные-библиотеки-и-инструменты\" data-toc-modified-id=\"Импортируем-все-нужные-библиотеки-и-инструменты-1.1\"><span class=\"toc-item-num\">1.1&nbsp;&nbsp;</span>Импортируем все нужные библиотеки и инструменты</a></span></li><li><span><a href=\"#Загружаем-данные-и-проводим-первичный-обзор\" data-toc-modified-id=\"Загружаем-данные-и-проводим-первичный-обзор-1.2\"><span class=\"toc-item-num\">1.2&nbsp;&nbsp;</span>Загружаем данные и проводим первичный обзор</a></span></li><li><span><a href=\"#Изучаем-типы-данных-в-таблице-и-преобразуем-категориальные-данные-с-помощью-прямого-кодирования\" data-toc-modified-id=\"Изучаем-типы-данных-в-таблице-и-преобразуем-категориальные-данные-с-помощью-прямого-кодирования-1.3\"><span class=\"toc-item-num\">1.3&nbsp;&nbsp;</span>Изучаем типы данных в таблице и преобразуем категориальные данные с помощью прямого кодирования</a></span></li><li><span><a href=\"#Проверим-данные-на-наличие-дубликатов\" data-toc-modified-id=\"Проверим-данные-на-наличие-дубликатов-1.4\"><span class=\"toc-item-num\">1.4&nbsp;&nbsp;</span>Проверим данные на наличие дубликатов</a></span></li><li><span><a href=\"#Пропуски-в-данных\" data-toc-modified-id=\"Пропуски-в-данных-1.5\"><span class=\"toc-item-num\">1.5&nbsp;&nbsp;</span>Пропуски в данных</a></span></li><li><span><a href=\"#Делим-данные-на-обучающую,-валидационную-и-тестовую-выборки\" data-toc-modified-id=\"Делим-данные-на-обучающую,-валидационную-и-тестовую-выборки-1.6\"><span class=\"toc-item-num\">1.6&nbsp;&nbsp;</span>Делим данные на обучающую, валидационную и тестовую выборки</a></span></li><li><span><a href=\"#Масштабирование-признаков\" data-toc-modified-id=\"Масштабирование-признаков-1.7\"><span class=\"toc-item-num\">1.7&nbsp;&nbsp;</span>Масштабирование признаков</a></span></li></ul></li><li><span><a href=\"#Исследование-задачи\" data-toc-modified-id=\"Исследование-задачи-2\"><span class=\"toc-item-num\">2&nbsp;&nbsp;</span>Исследование задачи</a></span><ul class=\"toc-item\"><li><span><a href=\"#Проверка-трех-моделей-на-точность-по-имеющимся-данным\" data-toc-modified-id=\"Проверка-трех-моделей-на-точность-по-имеющимся-данным-2.1\"><span class=\"toc-item-num\">2.1&nbsp;&nbsp;</span>Проверка трех моделей на точность по имеющимся данным</a></span></li><li><span><a href=\"#Проверка-других-метрик\" data-toc-modified-id=\"Проверка-других-метрик-2.2\"><span class=\"toc-item-num\">2.2&nbsp;&nbsp;</span>Проверка других метрик</a></span></li><li><span><a href=\"#Проверка-моделей-на-адекватность\" data-toc-modified-id=\"Проверка-моделей-на-адекватность-2.3\"><span class=\"toc-item-num\">2.3&nbsp;&nbsp;</span>Проверка моделей на адекватность</a></span></li><li><span><a href=\"#Проверяем-баланс-классов\" data-toc-modified-id=\"Проверяем-баланс-классов-2.4\"><span class=\"toc-item-num\">2.4&nbsp;&nbsp;</span>Проверяем баланс классов</a></span></li></ul></li><li><span><a href=\"#Борьба-с-дисбалансом\" data-toc-modified-id=\"Борьба-с-дисбалансом-3\"><span class=\"toc-item-num\">3&nbsp;&nbsp;</span>Борьба с дисбалансом</a></span><ul class=\"toc-item\"><li><span><a href=\"#Upsampling\" data-toc-modified-id=\"Upsampling-3.1\"><span class=\"toc-item-num\">3.1&nbsp;&nbsp;</span>Upsampling</a></span></li><li><span><a href=\"#Downsampling\" data-toc-modified-id=\"Downsampling-3.2\"><span class=\"toc-item-num\">3.2&nbsp;&nbsp;</span>Downsampling</a></span></li><li><span><a href=\"#Обучение-моделей-на-сбаланированных-выборках\" data-toc-modified-id=\"Обучение-моделей-на-сбаланированных-выборках-3.3\"><span class=\"toc-item-num\">3.3&nbsp;&nbsp;</span>Обучение моделей на сбаланированных выборках</a></span><ul class=\"toc-item\"><li><span><a href=\"#Модель-дерева-решений\" data-toc-modified-id=\"Модель-дерева-решений-3.3.1\"><span class=\"toc-item-num\">3.3.1&nbsp;&nbsp;</span>Модель дерева решений</a></span><ul class=\"toc-item\"><li><span><a href=\"#Сбалансированные-выборки-df_nan_dropped\" data-toc-modified-id=\"Сбалансированные-выборки-df_nan_dropped-3.3.1.1\"><span class=\"toc-item-num\">3.3.1.1&nbsp;&nbsp;</span>Сбалансированные выборки df_nan_dropped</a></span></li><li><span><a href=\"#Сбалансированные-выборки-df_nan_nan_replaced_with_min\" data-toc-modified-id=\"Сбалансированные-выборки-df_nan_nan_replaced_with_min-3.3.1.2\"><span class=\"toc-item-num\">3.3.1.2&nbsp;&nbsp;</span>Сбалансированные выборки df_nan_nan_replaced_with_min</a></span></li><li><span><a href=\"#Сбалансированные-выборки-df_nan_nan_replaced_with_median\" data-toc-modified-id=\"Сбалансированные-выборки-df_nan_nan_replaced_with_median-3.3.1.3\"><span class=\"toc-item-num\">3.3.1.3&nbsp;&nbsp;</span>Сбалансированные выборки df_nan_nan_replaced_with_median</a></span></li></ul></li><li><span><a href=\"#Модель-случайного-леса\" data-toc-modified-id=\"Модель-случайного-леса-3.3.2\"><span class=\"toc-item-num\">3.3.2&nbsp;&nbsp;</span>Модель случайного леса</a></span><ul class=\"toc-item\"><li><span><a href=\"#Сбалансированные-выборки-df_nan_dropped\" data-toc-modified-id=\"Сбалансированные-выборки-df_nan_dropped-3.3.2.1\"><span class=\"toc-item-num\">3.3.2.1&nbsp;&nbsp;</span>Сбалансированные выборки df_nan_dropped</a></span></li><li><span><a href=\"#Сбалансированные-выборки-df_nan_nan_replaced_with_min\" data-toc-modified-id=\"Сбалансированные-выборки-df_nan_nan_replaced_with_min-3.3.2.2\"><span class=\"toc-item-num\">3.3.2.2&nbsp;&nbsp;</span>Сбалансированные выборки df_nan_nan_replaced_with_min</a></span></li><li><span><a href=\"#Сбалансированные-выборки-df_nan_nan_replaced_with_median\" data-toc-modified-id=\"Сбалансированные-выборки-df_nan_nan_replaced_with_median-3.3.2.3\"><span class=\"toc-item-num\">3.3.2.3&nbsp;&nbsp;</span>Сбалансированные выборки df_nan_nan_replaced_with_median</a></span></li></ul></li><li><span><a href=\"#Модель-логистической-регрессии\" data-toc-modified-id=\"Модель-логистической-регрессии-3.3.3\"><span class=\"toc-item-num\">3.3.3&nbsp;&nbsp;</span>Модель логистической регрессии</a></span><ul class=\"toc-item\"><li><span><a href=\"#Сбалансированные-выборки-df_nan_dropped\" data-toc-modified-id=\"Сбалансированные-выборки-df_nan_dropped-3.3.3.1\"><span class=\"toc-item-num\">3.3.3.1&nbsp;&nbsp;</span>Сбалансированные выборки df_nan_dropped</a></span></li><li><span><a href=\"#Сбалансированные-выборки-df_nan_nan_replaced_with_min\" data-toc-modified-id=\"Сбалансированные-выборки-df_nan_nan_replaced_with_min-3.3.3.2\"><span class=\"toc-item-num\">3.3.3.2&nbsp;&nbsp;</span>Сбалансированные выборки df_nan_nan_replaced_with_min</a></span></li><li><span><a href=\"#Сбалансированные-выборки-df_nan_nan_replaced_with_median\" data-toc-modified-id=\"Сбалансированные-выборки-df_nan_nan_replaced_with_median-3.3.3.3\"><span class=\"toc-item-num\">3.3.3.3&nbsp;&nbsp;</span>Сбалансированные выборки df_nan_nan_replaced_with_median</a></span></li></ul></li></ul></li><li><span><a href=\"#Выбор-модели\" data-toc-modified-id=\"Выбор-модели-3.4\"><span class=\"toc-item-num\">3.4&nbsp;&nbsp;</span>Выбор модели</a></span></li><li><span><a href=\"#Улучшение-модели\" data-toc-modified-id=\"Улучшение-модели-3.5\"><span class=\"toc-item-num\">3.5&nbsp;&nbsp;</span>Улучшение модели</a></span></li><li><span><a href=\"#Проверка-финальной-модели-на-адекватность\" data-toc-modified-id=\"Проверка-финальной-модели-на-адекватность-3.6\"><span class=\"toc-item-num\">3.6&nbsp;&nbsp;</span>Проверка финальной модели на адекватность</a></span></li><li><span><a href=\"#Выводы-в-ходе-исследования\" data-toc-modified-id=\"Выводы-в-ходе-исследования-3.7\"><span class=\"toc-item-num\">3.7&nbsp;&nbsp;</span>Выводы в ходе исследования</a></span></li></ul></li><li><span><a href=\"#Тестирование-модели\" data-toc-modified-id=\"Тестирование-модели-4\"><span class=\"toc-item-num\">4&nbsp;&nbsp;</span>Тестирование модели</a></span></li><li><span><a href=\"#Итоговый-вывод\" data-toc-modified-id=\"Итоговый-вывод-5\"><span class=\"toc-item-num\">5&nbsp;&nbsp;</span>Итоговый вывод</a></span><ul class=\"toc-item\"><li><span><a href=\"#Сводная-таблица-по-результатам\" data-toc-modified-id=\"Сводная-таблица-по-результатам-5.1\"><span class=\"toc-item-num\">5.1&nbsp;&nbsp;</span>Сводная таблица по результатам</a></span></li></ul></li><li><span><a href=\"#Чек-лист-готовности-проекта\" data-toc-modified-id=\"Чек-лист-готовности-проекта-6\"><span class=\"toc-item-num\">6&nbsp;&nbsp;</span>Чек-лист готовности проекта</a></span></li></ul></div>"
   ]
  },
  {
   "cell_type": "markdown",
   "metadata": {},
   "source": [
    "# Отток клиентов"
   ]
  },
  {
   "cell_type": "markdown",
   "metadata": {},
   "source": [
    "Из «Бета-Банка» стали уходить клиенты. Каждый месяц. Немного, но заметно. Банковские маркетологи посчитали: сохранять текущих клиентов дешевле, чем привлекать новых.\n",
    "\n",
    "Нужно спрогнозировать, уйдёт клиент из банка в ближайшее время или нет. У нас есть исторические данные о поведении клиентов и расторжении договоров с банком. \n",
    "\n",
    "Перед нами стоит задача построить модель с предельно большим значением *F1*-меры (не менее 0.59). \n",
    "Дополнительно измерим *AUC-ROC*, сравним её значение с *F1*-мерой.\n",
    "\n",
    "Источник данных: [https://www.kaggle.com/barelydedicated/bank-customer-churn-modeling](https://www.kaggle.com/barelydedicated/bank-customer-churn-modeling)"
   ]
  },
  {
   "cell_type": "markdown",
   "metadata": {},
   "source": [
    "## Подготовка данных"
   ]
  },
  {
   "cell_type": "markdown",
   "metadata": {},
   "source": [
    "### Импортируем все нужные библиотеки и инструменты"
   ]
  },
  {
   "cell_type": "code",
   "execution_count": 37,
   "metadata": {},
   "outputs": [],
   "source": [
    "# импортируем все необходимые библиотеки и инструменты для исследования\n",
    "import pandas as pd\n",
    "import numpy as np\n",
    "# импортируем метрики\n",
    "# F-1 мера\n",
    "from sklearn.metrics import f1_score\n",
    "\n",
    "from sklearn.metrics import auc\n",
    "# ROC-кривая\n",
    "from sklearn.metrics import roc_curve\n",
    "# метрика accuracy\n",
    "from sklearn.metrics import accuracy_score\n",
    "# матрица ошибок\n",
    "from sklearn.metrics import confusion_matrix\n",
    "# полнота\n",
    "from sklearn.metrics import recall_score\n",
    "# точность\n",
    "from sklearn.metrics import precision_score\n",
    "# AUC-ROC\n",
    "from sklearn.metrics import roc_auc_score\n",
    "\n",
    "#для построения графиков\n",
    "import matplotlib.pyplot as plt\n",
    "\n",
    "# импортируем модели\n",
    "# логистическая регрессия\n",
    "from sklearn.linear_model import LogisticRegression\n",
    "# случайный лес\n",
    "from sklearn.ensemble import RandomForestClassifier\n",
    "# дерево решений\n",
    "from sklearn.tree import DecisionTreeClassifier\n",
    "\n",
    "# подготовка данных для обучения модели\n",
    "from sklearn.model_selection import train_test_split\n",
    "from sklearn.utils import shuffle\n",
    "from sklearn.preprocessing import StandardScaler"
   ]
  },
  {
   "cell_type": "markdown",
   "metadata": {},
   "source": [
    "### Загружаем данные и проводим первичный обзор"
   ]
  },
  {
   "cell_type": "code",
   "execution_count": 38,
   "metadata": {},
   "outputs": [],
   "source": [
    "# прочитаем таблицу и сохраним данные в переменную data\n",
    "data = pd.read_csv(\"/datasets/Churn.csv\")"
   ]
  },
  {
   "cell_type": "code",
   "execution_count": 39,
   "metadata": {},
   "outputs": [
    {
     "data": {
      "text/html": [
       "<div>\n",
       "<style scoped>\n",
       "    .dataframe tbody tr th:only-of-type {\n",
       "        vertical-align: middle;\n",
       "    }\n",
       "\n",
       "    .dataframe tbody tr th {\n",
       "        vertical-align: top;\n",
       "    }\n",
       "\n",
       "    .dataframe thead th {\n",
       "        text-align: right;\n",
       "    }\n",
       "</style>\n",
       "<table border=\"1\" class=\"dataframe\">\n",
       "  <thead>\n",
       "    <tr style=\"text-align: right;\">\n",
       "      <th></th>\n",
       "      <th>RowNumber</th>\n",
       "      <th>CustomerId</th>\n",
       "      <th>Surname</th>\n",
       "      <th>CreditScore</th>\n",
       "      <th>Geography</th>\n",
       "      <th>Gender</th>\n",
       "      <th>Age</th>\n",
       "      <th>Tenure</th>\n",
       "      <th>Balance</th>\n",
       "      <th>NumOfProducts</th>\n",
       "      <th>HasCrCard</th>\n",
       "      <th>IsActiveMember</th>\n",
       "      <th>EstimatedSalary</th>\n",
       "      <th>Exited</th>\n",
       "    </tr>\n",
       "  </thead>\n",
       "  <tbody>\n",
       "    <tr>\n",
       "      <td>0</td>\n",
       "      <td>1</td>\n",
       "      <td>15634602</td>\n",
       "      <td>Hargrave</td>\n",
       "      <td>619</td>\n",
       "      <td>France</td>\n",
       "      <td>Female</td>\n",
       "      <td>42</td>\n",
       "      <td>2.0</td>\n",
       "      <td>0.00</td>\n",
       "      <td>1</td>\n",
       "      <td>1</td>\n",
       "      <td>1</td>\n",
       "      <td>101348.88</td>\n",
       "      <td>1</td>\n",
       "    </tr>\n",
       "    <tr>\n",
       "      <td>1</td>\n",
       "      <td>2</td>\n",
       "      <td>15647311</td>\n",
       "      <td>Hill</td>\n",
       "      <td>608</td>\n",
       "      <td>Spain</td>\n",
       "      <td>Female</td>\n",
       "      <td>41</td>\n",
       "      <td>1.0</td>\n",
       "      <td>83807.86</td>\n",
       "      <td>1</td>\n",
       "      <td>0</td>\n",
       "      <td>1</td>\n",
       "      <td>112542.58</td>\n",
       "      <td>0</td>\n",
       "    </tr>\n",
       "    <tr>\n",
       "      <td>2</td>\n",
       "      <td>3</td>\n",
       "      <td>15619304</td>\n",
       "      <td>Onio</td>\n",
       "      <td>502</td>\n",
       "      <td>France</td>\n",
       "      <td>Female</td>\n",
       "      <td>42</td>\n",
       "      <td>8.0</td>\n",
       "      <td>159660.80</td>\n",
       "      <td>3</td>\n",
       "      <td>1</td>\n",
       "      <td>0</td>\n",
       "      <td>113931.57</td>\n",
       "      <td>1</td>\n",
       "    </tr>\n",
       "    <tr>\n",
       "      <td>3</td>\n",
       "      <td>4</td>\n",
       "      <td>15701354</td>\n",
       "      <td>Boni</td>\n",
       "      <td>699</td>\n",
       "      <td>France</td>\n",
       "      <td>Female</td>\n",
       "      <td>39</td>\n",
       "      <td>1.0</td>\n",
       "      <td>0.00</td>\n",
       "      <td>2</td>\n",
       "      <td>0</td>\n",
       "      <td>0</td>\n",
       "      <td>93826.63</td>\n",
       "      <td>0</td>\n",
       "    </tr>\n",
       "    <tr>\n",
       "      <td>4</td>\n",
       "      <td>5</td>\n",
       "      <td>15737888</td>\n",
       "      <td>Mitchell</td>\n",
       "      <td>850</td>\n",
       "      <td>Spain</td>\n",
       "      <td>Female</td>\n",
       "      <td>43</td>\n",
       "      <td>2.0</td>\n",
       "      <td>125510.82</td>\n",
       "      <td>1</td>\n",
       "      <td>1</td>\n",
       "      <td>1</td>\n",
       "      <td>79084.10</td>\n",
       "      <td>0</td>\n",
       "    </tr>\n",
       "    <tr>\n",
       "      <td>5</td>\n",
       "      <td>6</td>\n",
       "      <td>15574012</td>\n",
       "      <td>Chu</td>\n",
       "      <td>645</td>\n",
       "      <td>Spain</td>\n",
       "      <td>Male</td>\n",
       "      <td>44</td>\n",
       "      <td>8.0</td>\n",
       "      <td>113755.78</td>\n",
       "      <td>2</td>\n",
       "      <td>1</td>\n",
       "      <td>0</td>\n",
       "      <td>149756.71</td>\n",
       "      <td>1</td>\n",
       "    </tr>\n",
       "    <tr>\n",
       "      <td>6</td>\n",
       "      <td>7</td>\n",
       "      <td>15592531</td>\n",
       "      <td>Bartlett</td>\n",
       "      <td>822</td>\n",
       "      <td>France</td>\n",
       "      <td>Male</td>\n",
       "      <td>50</td>\n",
       "      <td>7.0</td>\n",
       "      <td>0.00</td>\n",
       "      <td>2</td>\n",
       "      <td>1</td>\n",
       "      <td>1</td>\n",
       "      <td>10062.80</td>\n",
       "      <td>0</td>\n",
       "    </tr>\n",
       "    <tr>\n",
       "      <td>7</td>\n",
       "      <td>8</td>\n",
       "      <td>15656148</td>\n",
       "      <td>Obinna</td>\n",
       "      <td>376</td>\n",
       "      <td>Germany</td>\n",
       "      <td>Female</td>\n",
       "      <td>29</td>\n",
       "      <td>4.0</td>\n",
       "      <td>115046.74</td>\n",
       "      <td>4</td>\n",
       "      <td>1</td>\n",
       "      <td>0</td>\n",
       "      <td>119346.88</td>\n",
       "      <td>1</td>\n",
       "    </tr>\n",
       "    <tr>\n",
       "      <td>8</td>\n",
       "      <td>9</td>\n",
       "      <td>15792365</td>\n",
       "      <td>He</td>\n",
       "      <td>501</td>\n",
       "      <td>France</td>\n",
       "      <td>Male</td>\n",
       "      <td>44</td>\n",
       "      <td>4.0</td>\n",
       "      <td>142051.07</td>\n",
       "      <td>2</td>\n",
       "      <td>0</td>\n",
       "      <td>1</td>\n",
       "      <td>74940.50</td>\n",
       "      <td>0</td>\n",
       "    </tr>\n",
       "    <tr>\n",
       "      <td>9</td>\n",
       "      <td>10</td>\n",
       "      <td>15592389</td>\n",
       "      <td>H?</td>\n",
       "      <td>684</td>\n",
       "      <td>France</td>\n",
       "      <td>Male</td>\n",
       "      <td>27</td>\n",
       "      <td>2.0</td>\n",
       "      <td>134603.88</td>\n",
       "      <td>1</td>\n",
       "      <td>1</td>\n",
       "      <td>1</td>\n",
       "      <td>71725.73</td>\n",
       "      <td>0</td>\n",
       "    </tr>\n",
       "  </tbody>\n",
       "</table>\n",
       "</div>"
      ],
      "text/plain": [
       "   RowNumber  CustomerId   Surname  CreditScore Geography  Gender  Age  \\\n",
       "0          1    15634602  Hargrave          619    France  Female   42   \n",
       "1          2    15647311      Hill          608     Spain  Female   41   \n",
       "2          3    15619304      Onio          502    France  Female   42   \n",
       "3          4    15701354      Boni          699    France  Female   39   \n",
       "4          5    15737888  Mitchell          850     Spain  Female   43   \n",
       "5          6    15574012       Chu          645     Spain    Male   44   \n",
       "6          7    15592531  Bartlett          822    France    Male   50   \n",
       "7          8    15656148    Obinna          376   Germany  Female   29   \n",
       "8          9    15792365        He          501    France    Male   44   \n",
       "9         10    15592389        H?          684    France    Male   27   \n",
       "\n",
       "   Tenure    Balance  NumOfProducts  HasCrCard  IsActiveMember  \\\n",
       "0     2.0       0.00              1          1               1   \n",
       "1     1.0   83807.86              1          0               1   \n",
       "2     8.0  159660.80              3          1               0   \n",
       "3     1.0       0.00              2          0               0   \n",
       "4     2.0  125510.82              1          1               1   \n",
       "5     8.0  113755.78              2          1               0   \n",
       "6     7.0       0.00              2          1               1   \n",
       "7     4.0  115046.74              4          1               0   \n",
       "8     4.0  142051.07              2          0               1   \n",
       "9     2.0  134603.88              1          1               1   \n",
       "\n",
       "   EstimatedSalary  Exited  \n",
       "0        101348.88       1  \n",
       "1        112542.58       0  \n",
       "2        113931.57       1  \n",
       "3         93826.63       0  \n",
       "4         79084.10       0  \n",
       "5        149756.71       1  \n",
       "6         10062.80       0  \n",
       "7        119346.88       1  \n",
       "8         74940.50       0  \n",
       "9         71725.73       0  "
      ]
     },
     "execution_count": 39,
     "metadata": {},
     "output_type": "execute_result"
    }
   ],
   "source": [
    "# посмотрим первые 10 строк таблицы\n",
    "data.head(10)"
   ]
  },
  {
   "cell_type": "markdown",
   "metadata": {},
   "source": [
    "В таблице - 14 столбцов: один из них - целевой признак, остальные - признаки:\n",
    "\n",
    "**Признаки**:\n",
    "- `RowNumber` — индекс строки в данных\n",
    "- `CustomerId` — уникальный идентификатор клиента\n",
    "- `Surname` — фамилия\n",
    "- `CreditScore` — кредитный рейтинг\n",
    "- `Geography` — страна проживания\n",
    "- `Gender` — пол\n",
    "- `Age` — возраст\n",
    "- `Tenure` — сколько лет человек является клиентом банка\n",
    "- `Balance` — баланс на счёте\n",
    "- `NumOfProducts` — количество продуктов банка, используемых клиентом\n",
    "- `HasCrCard` — наличие кредитной карты\n",
    "- `IsActiveMember` — активность клиента\n",
    "- `EstimatedSalary` — предполагаемая зарплата\n",
    "\n",
    "**Целевой признак**\n",
    "- `Exited` — факт ухода клиента\n",
    "\n",
    "Однако не все признаки нам нужны в рамках текущего исследования, т.к. данные в столбцах `RowNumber`, `CustomerId` и `Surname` не имеют отношения к прогнозу оттока клиентов, т.к. не дают никаких важных для модели данных о клиенте."
   ]
  },
  {
   "cell_type": "code",
   "execution_count": 40,
   "metadata": {},
   "outputs": [],
   "source": [
    "# избавимся от ненужных признаков\n",
    "data = data.drop([\"RowNumber\",\"CustomerId\",\"Surname\"], axis = 1)"
   ]
  },
  {
   "cell_type": "markdown",
   "metadata": {},
   "source": [
    "### Изучаем типы данных в таблице и преобразуем категориальные данные с помощью прямого кодирования"
   ]
  },
  {
   "cell_type": "code",
   "execution_count": 41,
   "metadata": {
    "scrolled": true
   },
   "outputs": [
    {
     "name": "stdout",
     "output_type": "stream",
     "text": [
      "<class 'pandas.core.frame.DataFrame'>\n",
      "RangeIndex: 10000 entries, 0 to 9999\n",
      "Data columns (total 11 columns):\n",
      "CreditScore        10000 non-null int64\n",
      "Geography          10000 non-null object\n",
      "Gender             10000 non-null object\n",
      "Age                10000 non-null int64\n",
      "Tenure             9091 non-null float64\n",
      "Balance            10000 non-null float64\n",
      "NumOfProducts      10000 non-null int64\n",
      "HasCrCard          10000 non-null int64\n",
      "IsActiveMember     10000 non-null int64\n",
      "EstimatedSalary    10000 non-null float64\n",
      "Exited             10000 non-null int64\n",
      "dtypes: float64(3), int64(6), object(2)\n",
      "memory usage: 859.5+ KB\n"
     ]
    }
   ],
   "source": [
    "# посмотрим на типы данных в таблице\n",
    "data.info()"
   ]
  },
  {
   "cell_type": "markdown",
   "metadata": {},
   "source": [
    "Как мы видим, в двух столбцах - `Geography` и `Gender` - представлены данные типа `object`, что не подходит для моделей, призванных решать задачу бинарной классификации, т.к. все признаки должны быть численными. \n",
    "\n",
    "Преобразовать категориальные признаки в численные поможет техника прямого кодирования, или отображения (англ. One-Hot Encoding, OHE)."
   ]
  },
  {
   "cell_type": "code",
   "execution_count": 42,
   "metadata": {},
   "outputs": [],
   "source": [
    "# получим новые признаки с помощью функции pd.get_dummies()\n",
    "new_df = pd.get_dummies(data, drop_first=True)"
   ]
  },
  {
   "cell_type": "code",
   "execution_count": 43,
   "metadata": {},
   "outputs": [
    {
     "data": {
      "text/html": [
       "<div>\n",
       "<style scoped>\n",
       "    .dataframe tbody tr th:only-of-type {\n",
       "        vertical-align: middle;\n",
       "    }\n",
       "\n",
       "    .dataframe tbody tr th {\n",
       "        vertical-align: top;\n",
       "    }\n",
       "\n",
       "    .dataframe thead th {\n",
       "        text-align: right;\n",
       "    }\n",
       "</style>\n",
       "<table border=\"1\" class=\"dataframe\">\n",
       "  <thead>\n",
       "    <tr style=\"text-align: right;\">\n",
       "      <th></th>\n",
       "      <th>CreditScore</th>\n",
       "      <th>Age</th>\n",
       "      <th>Tenure</th>\n",
       "      <th>Balance</th>\n",
       "      <th>NumOfProducts</th>\n",
       "      <th>HasCrCard</th>\n",
       "      <th>IsActiveMember</th>\n",
       "      <th>EstimatedSalary</th>\n",
       "      <th>Exited</th>\n",
       "      <th>Geography_Germany</th>\n",
       "      <th>Geography_Spain</th>\n",
       "      <th>Gender_Male</th>\n",
       "    </tr>\n",
       "  </thead>\n",
       "  <tbody>\n",
       "    <tr>\n",
       "      <td>0</td>\n",
       "      <td>619</td>\n",
       "      <td>42</td>\n",
       "      <td>2.0</td>\n",
       "      <td>0.00</td>\n",
       "      <td>1</td>\n",
       "      <td>1</td>\n",
       "      <td>1</td>\n",
       "      <td>101348.88</td>\n",
       "      <td>1</td>\n",
       "      <td>0</td>\n",
       "      <td>0</td>\n",
       "      <td>0</td>\n",
       "    </tr>\n",
       "    <tr>\n",
       "      <td>1</td>\n",
       "      <td>608</td>\n",
       "      <td>41</td>\n",
       "      <td>1.0</td>\n",
       "      <td>83807.86</td>\n",
       "      <td>1</td>\n",
       "      <td>0</td>\n",
       "      <td>1</td>\n",
       "      <td>112542.58</td>\n",
       "      <td>0</td>\n",
       "      <td>0</td>\n",
       "      <td>1</td>\n",
       "      <td>0</td>\n",
       "    </tr>\n",
       "    <tr>\n",
       "      <td>2</td>\n",
       "      <td>502</td>\n",
       "      <td>42</td>\n",
       "      <td>8.0</td>\n",
       "      <td>159660.80</td>\n",
       "      <td>3</td>\n",
       "      <td>1</td>\n",
       "      <td>0</td>\n",
       "      <td>113931.57</td>\n",
       "      <td>1</td>\n",
       "      <td>0</td>\n",
       "      <td>0</td>\n",
       "      <td>0</td>\n",
       "    </tr>\n",
       "    <tr>\n",
       "      <td>3</td>\n",
       "      <td>699</td>\n",
       "      <td>39</td>\n",
       "      <td>1.0</td>\n",
       "      <td>0.00</td>\n",
       "      <td>2</td>\n",
       "      <td>0</td>\n",
       "      <td>0</td>\n",
       "      <td>93826.63</td>\n",
       "      <td>0</td>\n",
       "      <td>0</td>\n",
       "      <td>0</td>\n",
       "      <td>0</td>\n",
       "    </tr>\n",
       "    <tr>\n",
       "      <td>4</td>\n",
       "      <td>850</td>\n",
       "      <td>43</td>\n",
       "      <td>2.0</td>\n",
       "      <td>125510.82</td>\n",
       "      <td>1</td>\n",
       "      <td>1</td>\n",
       "      <td>1</td>\n",
       "      <td>79084.10</td>\n",
       "      <td>0</td>\n",
       "      <td>0</td>\n",
       "      <td>1</td>\n",
       "      <td>0</td>\n",
       "    </tr>\n",
       "  </tbody>\n",
       "</table>\n",
       "</div>"
      ],
      "text/plain": [
       "   CreditScore  Age  Tenure    Balance  NumOfProducts  HasCrCard  \\\n",
       "0          619   42     2.0       0.00              1          1   \n",
       "1          608   41     1.0   83807.86              1          0   \n",
       "2          502   42     8.0  159660.80              3          1   \n",
       "3          699   39     1.0       0.00              2          0   \n",
       "4          850   43     2.0  125510.82              1          1   \n",
       "\n",
       "   IsActiveMember  EstimatedSalary  Exited  Geography_Germany  \\\n",
       "0               1        101348.88       1                  0   \n",
       "1               1        112542.58       0                  0   \n",
       "2               0        113931.57       1                  0   \n",
       "3               0         93826.63       0                  0   \n",
       "4               1         79084.10       0                  0   \n",
       "\n",
       "   Geography_Spain  Gender_Male  \n",
       "0                0            0  \n",
       "1                1            0  \n",
       "2                0            0  \n",
       "3                0            0  \n",
       "4                1            0  "
      ]
     },
     "execution_count": 43,
     "metadata": {},
     "output_type": "execute_result"
    }
   ],
   "source": [
    "new_df.head()"
   ]
  },
  {
   "cell_type": "markdown",
   "metadata": {},
   "source": [
    "У нас появилось три новых столбца - `Geography_Germany`, `Geography_Spain`, `Gender_Male`, в которых указано с помощью двух категорий - 0 или 1 - локацию клиента, а также пока. Столбцов `Geography_France` и `Gender_female` в таблице после преобразований нет, т.к. мы специально задали параметр *drop_first=True*, чтобы избежать лишних столбцов и предотвратить переобучение модели (локацию и пол клиента и так можно установить исходя из соседних столбцов). "
   ]
  },
  {
   "cell_type": "markdown",
   "metadata": {},
   "source": [
    "### Проверим данные на наличие дубликатов"
   ]
  },
  {
   "cell_type": "code",
   "execution_count": 44,
   "metadata": {},
   "outputs": [
    {
     "data": {
      "text/plain": [
       "0"
      ]
     },
     "execution_count": 44,
     "metadata": {},
     "output_type": "execute_result"
    }
   ],
   "source": [
    "new_df.duplicated().sum()"
   ]
  },
  {
   "cell_type": "markdown",
   "metadata": {},
   "source": [
    "Явных дубликатов в данных нет."
   ]
  },
  {
   "cell_type": "markdown",
   "metadata": {},
   "source": [
    "### Пропуски в данных"
   ]
  },
  {
   "cell_type": "markdown",
   "metadata": {},
   "source": [
    "Как мы заметили ранее, в одном из столбцов (`Tenure`) есть пропуски."
   ]
  },
  {
   "cell_type": "code",
   "execution_count": 45,
   "metadata": {
    "scrolled": true
   },
   "outputs": [
    {
     "name": "stdout",
     "output_type": "stream",
     "text": [
      "<class 'pandas.core.frame.DataFrame'>\n",
      "RangeIndex: 10000 entries, 0 to 9999\n",
      "Data columns (total 12 columns):\n",
      "CreditScore          10000 non-null int64\n",
      "Age                  10000 non-null int64\n",
      "Tenure               9091 non-null float64\n",
      "Balance              10000 non-null float64\n",
      "NumOfProducts        10000 non-null int64\n",
      "HasCrCard            10000 non-null int64\n",
      "IsActiveMember       10000 non-null int64\n",
      "EstimatedSalary      10000 non-null float64\n",
      "Exited               10000 non-null int64\n",
      "Geography_Germany    10000 non-null uint8\n",
      "Geography_Spain      10000 non-null uint8\n",
      "Gender_Male          10000 non-null uint8\n",
      "dtypes: float64(3), int64(6), uint8(3)\n",
      "memory usage: 732.5 KB\n"
     ]
    }
   ],
   "source": [
    "new_df.info()"
   ]
  },
  {
   "cell_type": "code",
   "execution_count": 46,
   "metadata": {},
   "outputs": [
    {
     "name": "stdout",
     "output_type": "stream",
     "text": [
      "Доля пропусков в столбце: 0.0909\n"
     ]
    }
   ],
   "source": [
    "print('Доля пропусков в столбце:', (new_df['Tenure'].isna().sum())/ len(new_df))"
   ]
  },
  {
   "cell_type": "markdown",
   "metadata": {},
   "source": [
    "У нас есть несколько вариантов обработки пропусков в таблице с данными:\n",
    "\n",
    "- удалить пропуски, т.к. пропуски составляют менее 10% выборки;\n",
    "- заменить пропуски минимальными значения;\n",
    "- заменить пропуски медианным значением по столбцу.\n",
    "\n",
    "Так как мы заинтересованы в достижении наилучшего качества модели, предлагаем ввести три новые таблицы с тремя разными вариантами обработки пропусков, чтобы в дальнейшем определить, какой способ предобработки наилучшим образом влияет на конечное качество модели."
   ]
  },
  {
   "cell_type": "code",
   "execution_count": 47,
   "metadata": {},
   "outputs": [],
   "source": [
    "# создадим новый Датафрейм с удалением пропусков\n",
    "df_nan_dropped = new_df.dropna(subset=['Tenure'], axis=0)\n",
    "# создадим новый Датафрейм с заполнением пропусков минимальным значением столбца\n",
    "df_nan_replaced_with_min = new_df.copy()\n",
    "tenure_min = df_nan_replaced_with_min['Tenure'].min()\n",
    "df_nan_replaced_with_min = df_nan_replaced_with_min = new_df.fillna(tenure_min)\n",
    "# создадим новый Датафрем с заполнением пропусков медианным значением по столбцу\n",
    "df_nan_replaced_with_median = new_df.copy()\n",
    "df_nan_replaced_with_median['Tenure'] = df_nan_replaced_with_median['Tenure'].fillna(df_nan_replaced_with_median['Tenure'].median())"
   ]
  },
  {
   "cell_type": "markdown",
   "metadata": {},
   "source": [
    "### Делим данные на обучающую, валидационную и тестовую выборки"
   ]
  },
  {
   "cell_type": "markdown",
   "metadata": {},
   "source": [
    "Поделим выборку на обучающую, валидационную и тестовую в соотношении 60%, 20% и 20% соответственно.\n",
    "\n",
    "Так как у нас три исходные выборки (из-за разного способа заполнения пропусков), предлагаем объявить функцию, чтобы избежать повторных действий."
   ]
  },
  {
   "cell_type": "code",
   "execution_count": 48,
   "metadata": {},
   "outputs": [],
   "source": [
    "def split_data(features, target):\n",
    "    (features_train,\n",
    "     features_valid,\n",
    "     target_train,\n",
    "     target_valid) = train_test_split(features,\n",
    "                                      target,\n",
    "                                      test_size = 0.4,\n",
    "                                      random_state = 12345)\n",
    "    (features_test,\n",
    "     features_valid,\n",
    "     target_test,\n",
    "     target_valid) = train_test_split(features_valid,\n",
    "                                      target_valid,\n",
    "                                      test_size = 0.5,\n",
    "                                      random_state = 12345)\n",
    "    \n",
    "    return (features_train,\n",
    "            features_valid,\n",
    "            features_test,\n",
    "            target_train,\n",
    "            target_valid,\n",
    "            target_test)"
   ]
  },
  {
   "cell_type": "code",
   "execution_count": 49,
   "metadata": {},
   "outputs": [],
   "source": [
    "# разделим выборки с помощью функции\n",
    "# исключим из features целевой признак, а также вынесем целевой признак в target\n",
    "(features_nan_dropped_train,\n",
    " features_nan_dropped_valid,\n",
    " features_nan_dropped_test,\n",
    " target_nan_dropped_train,\n",
    " target_nan_dropped_valid,\n",
    " target_nan_dropped_test) = split_data(df_nan_dropped.drop([\"Exited\"], axis = 1),\n",
    "                              df_nan_dropped[\"Exited\"])\n",
    "\n",
    "(features_nan_replaced_with_min_train,\n",
    " features_nan_replaced_with_min_valid,\n",
    " features_nan_replaced_with_min_test,\n",
    " target_nan_replaced_with_min_train,\n",
    " target_nan_replaced_with_min_valid,\n",
    " target_nan_replaced_with_min_test) = split_data(df_nan_replaced_with_min.drop([\"Exited\"], axis = 1),\n",
    "                              df_nan_replaced_with_min[\"Exited\"])\n",
    "\n",
    "(features_nan_replaced_with_median_train,\n",
    " features_nan_replaced_with_median_valid,\n",
    " features_nan_replaced_with_median_test,\n",
    " target_nan_replaced_with_median_train,\n",
    " target_nan_replaced_with_median_valid,\n",
    " target_nan_replaced_with_median_test) = split_data(df_nan_replaced_with_median.drop([\"Exited\"], axis = 1),\n",
    "                              df_nan_replaced_with_median[\"Exited\"])"
   ]
  },
  {
   "cell_type": "code",
   "execution_count": 50,
   "metadata": {
    "scrolled": true
   },
   "outputs": [
    {
     "name": "stdout",
     "output_type": "stream",
     "text": [
      "Размер обучающих выборок:\n",
      "    df_nan_dropped_train: 5454, \n",
      "    df_nan_replaced_with_min_train: 6000, \n",
      "    df_nan_replaced_with_median_train: 6000\n",
      "Размер валидационных выборок:\n",
      "    df_nan_dropped_valid: 1819, \n",
      "    df_nan_replaced_with_min_valid: 2000, \n",
      "    df_nan_replaced_with_median_valid: 2000\n",
      "Размер тестовых выборок:\n",
      "    df_nan_dropped_test: 1818, \n",
      "    df_nan_replaced_with_min_test: 2000, \n",
      "    df_nan_replaced_with_median_test: 2000\n"
     ]
    }
   ],
   "source": [
    "#посмотрим на размер получившихся выборок\n",
    "print('''Размер обучающих выборок:\n",
    "    df_nan_dropped_train: {}, \n",
    "    df_nan_replaced_with_min_train: {}, \n",
    "    df_nan_replaced_with_median_train: {}'''.format(len(features_nan_dropped_train),\n",
    "                              len(features_nan_replaced_with_min_train),\n",
    "                              len(features_nan_replaced_with_median_train)))\n",
    "\n",
    "print('''Размер валидационных выборок:\n",
    "    df_nan_dropped_valid: {}, \n",
    "    df_nan_replaced_with_min_valid: {}, \n",
    "    df_nan_replaced_with_median_valid: {}'''.format(len(features_nan_dropped_valid),\n",
    "                              len(features_nan_replaced_with_min_valid),\n",
    "                              len(features_nan_replaced_with_median_valid)))\n",
    "\n",
    "print('''Размер тестовых выборок:\n",
    "    df_nan_dropped_test: {}, \n",
    "    df_nan_replaced_with_min_test: {}, \n",
    "    df_nan_replaced_with_median_test: {}'''.format(len(features_nan_dropped_test),\n",
    "                              len(features_nan_replaced_with_min_test),\n",
    "                              len(features_nan_replaced_with_median_test)))\n",
    "\n"
   ]
  },
  {
   "cell_type": "markdown",
   "metadata": {},
   "source": [
    "### Масштабирование признаков"
   ]
  },
  {
   "cell_type": "code",
   "execution_count": 51,
   "metadata": {},
   "outputs": [
    {
     "data": {
      "text/html": [
       "<div>\n",
       "<style scoped>\n",
       "    .dataframe tbody tr th:only-of-type {\n",
       "        vertical-align: middle;\n",
       "    }\n",
       "\n",
       "    .dataframe tbody tr th {\n",
       "        vertical-align: top;\n",
       "    }\n",
       "\n",
       "    .dataframe thead th {\n",
       "        text-align: right;\n",
       "    }\n",
       "</style>\n",
       "<table border=\"1\" class=\"dataframe\">\n",
       "  <thead>\n",
       "    <tr style=\"text-align: right;\">\n",
       "      <th></th>\n",
       "      <th>CreditScore</th>\n",
       "      <th>Age</th>\n",
       "      <th>Tenure</th>\n",
       "      <th>Balance</th>\n",
       "      <th>NumOfProducts</th>\n",
       "      <th>HasCrCard</th>\n",
       "      <th>IsActiveMember</th>\n",
       "      <th>EstimatedSalary</th>\n",
       "      <th>Exited</th>\n",
       "      <th>Geography_Germany</th>\n",
       "      <th>Geography_Spain</th>\n",
       "      <th>Gender_Male</th>\n",
       "    </tr>\n",
       "  </thead>\n",
       "  <tbody>\n",
       "    <tr>\n",
       "      <td>count</td>\n",
       "      <td>10000.000000</td>\n",
       "      <td>10000.000000</td>\n",
       "      <td>9091.000000</td>\n",
       "      <td>10000.000000</td>\n",
       "      <td>10000.000000</td>\n",
       "      <td>10000.00000</td>\n",
       "      <td>10000.000000</td>\n",
       "      <td>10000.000000</td>\n",
       "      <td>10000.000000</td>\n",
       "      <td>10000.000000</td>\n",
       "      <td>10000.000000</td>\n",
       "      <td>10000.000000</td>\n",
       "    </tr>\n",
       "    <tr>\n",
       "      <td>mean</td>\n",
       "      <td>650.528800</td>\n",
       "      <td>38.921800</td>\n",
       "      <td>4.997690</td>\n",
       "      <td>76485.889288</td>\n",
       "      <td>1.530200</td>\n",
       "      <td>0.70550</td>\n",
       "      <td>0.515100</td>\n",
       "      <td>100090.239881</td>\n",
       "      <td>0.203700</td>\n",
       "      <td>0.250900</td>\n",
       "      <td>0.247700</td>\n",
       "      <td>0.545700</td>\n",
       "    </tr>\n",
       "    <tr>\n",
       "      <td>std</td>\n",
       "      <td>96.653299</td>\n",
       "      <td>10.487806</td>\n",
       "      <td>2.894723</td>\n",
       "      <td>62397.405202</td>\n",
       "      <td>0.581654</td>\n",
       "      <td>0.45584</td>\n",
       "      <td>0.499797</td>\n",
       "      <td>57510.492818</td>\n",
       "      <td>0.402769</td>\n",
       "      <td>0.433553</td>\n",
       "      <td>0.431698</td>\n",
       "      <td>0.497932</td>\n",
       "    </tr>\n",
       "    <tr>\n",
       "      <td>min</td>\n",
       "      <td>350.000000</td>\n",
       "      <td>18.000000</td>\n",
       "      <td>0.000000</td>\n",
       "      <td>0.000000</td>\n",
       "      <td>1.000000</td>\n",
       "      <td>0.00000</td>\n",
       "      <td>0.000000</td>\n",
       "      <td>11.580000</td>\n",
       "      <td>0.000000</td>\n",
       "      <td>0.000000</td>\n",
       "      <td>0.000000</td>\n",
       "      <td>0.000000</td>\n",
       "    </tr>\n",
       "    <tr>\n",
       "      <td>25%</td>\n",
       "      <td>584.000000</td>\n",
       "      <td>32.000000</td>\n",
       "      <td>2.000000</td>\n",
       "      <td>0.000000</td>\n",
       "      <td>1.000000</td>\n",
       "      <td>0.00000</td>\n",
       "      <td>0.000000</td>\n",
       "      <td>51002.110000</td>\n",
       "      <td>0.000000</td>\n",
       "      <td>0.000000</td>\n",
       "      <td>0.000000</td>\n",
       "      <td>0.000000</td>\n",
       "    </tr>\n",
       "    <tr>\n",
       "      <td>50%</td>\n",
       "      <td>652.000000</td>\n",
       "      <td>37.000000</td>\n",
       "      <td>5.000000</td>\n",
       "      <td>97198.540000</td>\n",
       "      <td>1.000000</td>\n",
       "      <td>1.00000</td>\n",
       "      <td>1.000000</td>\n",
       "      <td>100193.915000</td>\n",
       "      <td>0.000000</td>\n",
       "      <td>0.000000</td>\n",
       "      <td>0.000000</td>\n",
       "      <td>1.000000</td>\n",
       "    </tr>\n",
       "    <tr>\n",
       "      <td>75%</td>\n",
       "      <td>718.000000</td>\n",
       "      <td>44.000000</td>\n",
       "      <td>7.000000</td>\n",
       "      <td>127644.240000</td>\n",
       "      <td>2.000000</td>\n",
       "      <td>1.00000</td>\n",
       "      <td>1.000000</td>\n",
       "      <td>149388.247500</td>\n",
       "      <td>0.000000</td>\n",
       "      <td>1.000000</td>\n",
       "      <td>0.000000</td>\n",
       "      <td>1.000000</td>\n",
       "    </tr>\n",
       "    <tr>\n",
       "      <td>max</td>\n",
       "      <td>850.000000</td>\n",
       "      <td>92.000000</td>\n",
       "      <td>10.000000</td>\n",
       "      <td>250898.090000</td>\n",
       "      <td>4.000000</td>\n",
       "      <td>1.00000</td>\n",
       "      <td>1.000000</td>\n",
       "      <td>199992.480000</td>\n",
       "      <td>1.000000</td>\n",
       "      <td>1.000000</td>\n",
       "      <td>1.000000</td>\n",
       "      <td>1.000000</td>\n",
       "    </tr>\n",
       "  </tbody>\n",
       "</table>\n",
       "</div>"
      ],
      "text/plain": [
       "        CreditScore           Age       Tenure        Balance  NumOfProducts  \\\n",
       "count  10000.000000  10000.000000  9091.000000   10000.000000   10000.000000   \n",
       "mean     650.528800     38.921800     4.997690   76485.889288       1.530200   \n",
       "std       96.653299     10.487806     2.894723   62397.405202       0.581654   \n",
       "min      350.000000     18.000000     0.000000       0.000000       1.000000   \n",
       "25%      584.000000     32.000000     2.000000       0.000000       1.000000   \n",
       "50%      652.000000     37.000000     5.000000   97198.540000       1.000000   \n",
       "75%      718.000000     44.000000     7.000000  127644.240000       2.000000   \n",
       "max      850.000000     92.000000    10.000000  250898.090000       4.000000   \n",
       "\n",
       "         HasCrCard  IsActiveMember  EstimatedSalary        Exited  \\\n",
       "count  10000.00000    10000.000000     10000.000000  10000.000000   \n",
       "mean       0.70550        0.515100    100090.239881      0.203700   \n",
       "std        0.45584        0.499797     57510.492818      0.402769   \n",
       "min        0.00000        0.000000        11.580000      0.000000   \n",
       "25%        0.00000        0.000000     51002.110000      0.000000   \n",
       "50%        1.00000        1.000000    100193.915000      0.000000   \n",
       "75%        1.00000        1.000000    149388.247500      0.000000   \n",
       "max        1.00000        1.000000    199992.480000      1.000000   \n",
       "\n",
       "       Geography_Germany  Geography_Spain   Gender_Male  \n",
       "count       10000.000000     10000.000000  10000.000000  \n",
       "mean            0.250900         0.247700      0.545700  \n",
       "std             0.433553         0.431698      0.497932  \n",
       "min             0.000000         0.000000      0.000000  \n",
       "25%             0.000000         0.000000      0.000000  \n",
       "50%             0.000000         0.000000      1.000000  \n",
       "75%             1.000000         0.000000      1.000000  \n",
       "max             1.000000         1.000000      1.000000  "
      ]
     },
     "execution_count": 51,
     "metadata": {},
     "output_type": "execute_result"
    }
   ],
   "source": [
    "new_df.describe()"
   ]
  },
  {
   "cell_type": "markdown",
   "metadata": {},
   "source": [
    "Для некоторых признаков (`CreditScore`, `Balance`, `EstimatedSalary`) значения и их разброс больше, чем для других. Алгоритм автоматически решит, что этот признак важнее остальных. А это не так: все признаки значимы.\n",
    "\n",
    "Чтобы избежать этой ловушки, признаки масштабируются — приводятся к одному масштабу с помощью стандартизации данных."
   ]
  },
  {
   "cell_type": "code",
   "execution_count": 52,
   "metadata": {},
   "outputs": [],
   "source": [
    "# выделяем численные признаки\n",
    "numeric_columns = ['CreditScore', 'Age', 'Tenure', 'Balance', 'NumOfProducts', 'EstimatedSalary',]\n",
    "\n",
    "# создадим структуру для стандартного масштабирования\n",
    "scaler_for_df_nan_dropped = StandardScaler()\n",
    "scaler_for_df_nan_replaced_with_min = StandardScaler()\n",
    "scaler_for_df_nan_replaced_with_median = StandardScaler()\n",
    "\n",
    "# настроим структуру на обучающих данных\n",
    "scaler_for_df_nan_dropped.fit(features_nan_dropped_train[numeric_columns])\n",
    "scaler_for_df_nan_replaced_with_min.fit(features_nan_replaced_with_min_train[numeric_columns])\n",
    "scaler_for_df_nan_replaced_with_median.fit(features_nan_replaced_with_median_train[numeric_columns])\n",
    "\n",
    "# масштабируем численные признаки обучающей выборки \n",
    "features_nan_dropped_train[numeric_columns] = scaler_for_df_nan_dropped.transform(features_nan_dropped_train[numeric_columns])\n",
    "features_nan_replaced_with_min_train[numeric_columns] = scaler_for_df_nan_replaced_with_min.transform(features_nan_replaced_with_min_train[numeric_columns])\n",
    "features_nan_replaced_with_median_train[numeric_columns] = scaler_for_df_nan_replaced_with_median.transform(features_nan_replaced_with_median_train[numeric_columns])\n",
    "\n",
    "#Масштабируем численные признаки валидационной выборки \n",
    "features_nan_dropped_valid[numeric_columns] = scaler_for_df_nan_dropped.transform(features_nan_dropped_valid[numeric_columns])\n",
    "features_nan_replaced_with_min_valid[numeric_columns] = scaler_for_df_nan_replaced_with_min.transform(features_nan_replaced_with_min_valid[numeric_columns])\n",
    "features_nan_replaced_with_median_valid[numeric_columns] = scaler_for_df_nan_replaced_with_median.transform(features_nan_replaced_with_median_valid[numeric_columns])\n",
    "\n",
    "# масштабируем численные признаки тестовой выборки \n",
    "features_nan_dropped_test[numeric_columns] = scaler_for_df_nan_dropped.transform(features_nan_dropped_test[numeric_columns])\n",
    "features_nan_replaced_with_min_test[numeric_columns] = scaler_for_df_nan_replaced_with_min.transform(features_nan_replaced_with_min_test[numeric_columns])\n",
    "features_nan_replaced_with_median_test[numeric_columns] = scaler_for_df_nan_replaced_with_median.transform(features_nan_replaced_with_median_test[numeric_columns])"
   ]
  },
  {
   "cell_type": "markdown",
   "metadata": {},
   "source": [
    "## Исследование задачи"
   ]
  },
  {
   "cell_type": "markdown",
   "metadata": {},
   "source": [
    "### Проверка трех моделей на точность по имеющимся данным"
   ]
  },
  {
   "cell_type": "code",
   "execution_count": 53,
   "metadata": {},
   "outputs": [],
   "source": [
    "def all_models_accuracy(features_train, target_train, features_valid, target_valid):\n",
    "    model_DTC = DecisionTreeClassifier(random_state=12345)\n",
    "    DTC_score = model_DTC.fit(features_train, target_train).score(features_valid, target_valid)\n",
    "    \n",
    "    model_RFC = RandomForestClassifier(random_state=12345, n_estimators = 100)\n",
    "    RFC_score = model_RFC.fit(features_train, target_train).score(features_valid, target_valid)\n",
    "    \n",
    "    model_LgR = LogisticRegression(solver = 'liblinear')\n",
    "    LgR_score = model_LgR.fit(features_train, target_train).score(features_valid, target_valid)\n",
    "    \n",
    "    print('''Accuracy разных моделей:\n",
    "        Дерево решений: {}\n",
    "        Случайный лес: {} \n",
    "        Логистческая регрессия: {}'''.format(DTC_score,\n",
    "                              RFC_score,\n",
    "                              LgR_score))"
   ]
  },
  {
   "cell_type": "code",
   "execution_count": 54,
   "metadata": {},
   "outputs": [
    {
     "name": "stdout",
     "output_type": "stream",
     "text": [
      "Accuracy разных моделей:\n",
      "        Дерево решений: 0.799890049477735\n",
      "        Случайный лес: 0.8680593732820231 \n",
      "        Логистческая регрессия: 0.8251786695986806\n"
     ]
    }
   ],
   "source": [
    "# Accuracy моделей на обучающей выборке с удаленными пропусками\n",
    "all_models_accuracy(features_nan_dropped_train, target_nan_dropped_train, features_nan_dropped_valid, target_nan_dropped_valid)"
   ]
  },
  {
   "cell_type": "code",
   "execution_count": 55,
   "metadata": {},
   "outputs": [
    {
     "name": "stdout",
     "output_type": "stream",
     "text": [
      "Accuracy разных моделей:\n",
      "        Дерево решений: 0.7845\n",
      "        Случайный лес: 0.846 \n",
      "        Логистческая регрессия: 0.791\n"
     ]
    }
   ],
   "source": [
    "# Accuracy моделей на обучающей выборке с заменой пропусков минимальными значениями\n",
    "all_models_accuracy(features_nan_replaced_with_min_train, target_nan_replaced_with_min_train, features_nan_replaced_with_min_valid, target_nan_replaced_with_min_valid)"
   ]
  },
  {
   "cell_type": "code",
   "execution_count": 56,
   "metadata": {
    "scrolled": true
   },
   "outputs": [
    {
     "name": "stdout",
     "output_type": "stream",
     "text": [
      "Accuracy разных моделей:\n",
      "        Дерево решений: 0.7865\n",
      "        Случайный лес: 0.8495 \n",
      "        Логистческая регрессия: 0.7915\n"
     ]
    }
   ],
   "source": [
    "# Accuracy моделей на обучающей выборке с заменой пропусков медианным значением по столбцу\n",
    "all_models_accuracy(features_nan_replaced_with_median_train, target_nan_replaced_with_median_train, features_nan_replaced_with_median_valid, target_nan_replaced_with_median_valid)"
   ]
  },
  {
   "cell_type": "markdown",
   "metadata": {},
   "source": [
    "Саммый высокий показатель Accuracy выдает модель случайного леса ~ 0,846-0,86, но следует проверить модели на адекватность."
   ]
  },
  {
   "cell_type": "markdown",
   "metadata": {},
   "source": [
    "### Проверка других метрик"
   ]
  },
  {
   "cell_type": "code",
   "execution_count": 57,
   "metadata": {},
   "outputs": [
    {
     "name": "stdout",
     "output_type": "stream",
     "text": [
      "DecisionTreeClassifier\n",
      "\n",
      "Recall 0.50997150997151\n",
      "Precision 0.48247978436657685\n",
      "F1-мера 0.4958448753462604\n",
      "AUC-ROC 0.6895906596179077\n",
      "\n",
      "RandomForestClassifier\n",
      "\n",
      "Recall 0.45584045584045585\n",
      "Precision 0.7655502392344498\n",
      "F1-мера 0.5714285714285714\n",
      "AUC-ROC 0.7112308546232252\n",
      "\n",
      "LogisticRegression\n",
      "\n",
      "Recall 0.21082621082621084\n",
      "Precision 0.6434782608695652\n",
      "F1-мера 0.3175965665236052\n",
      "AUC-ROC 0.5914485277564296\n"
     ]
    }
   ],
   "source": [
    "model_DTC = DecisionTreeClassifier(random_state=12345)\n",
    "model_DTC.fit(features_nan_dropped_train, target_nan_dropped_train)\n",
    "DTC_prediction = model_DTC.predict(features_nan_dropped_valid)\n",
    "print('DecisionTreeClassifier')\n",
    "print()\n",
    "print(\"Recall\" , recall_score(target_nan_dropped_valid, DTC_prediction))\n",
    "print(\"Precision\", precision_score(target_nan_dropped_valid, DTC_prediction))\n",
    "print(\"F1-мера\", f1_score(target_nan_dropped_valid, DTC_prediction))\n",
    "print(\"AUC-ROC\", roc_auc_score(target_nan_dropped_valid, DTC_prediction))\n",
    "print()\n",
    "model_RFC = RandomForestClassifier(random_state=12345, n_estimators = 100)\n",
    "model_RFC.fit(features_nan_dropped_train, target_nan_dropped_train)\n",
    "RFC_prediction = model_RFC.predict(features_nan_dropped_valid)\n",
    "print('RandomForestClassifier')\n",
    "print()\n",
    "print(\"Recall\" , recall_score(target_nan_dropped_valid, RFC_prediction))\n",
    "print(\"Precision\", precision_score(target_nan_dropped_valid, RFC_prediction))\n",
    "print(\"F1-мера\", f1_score(target_nan_dropped_valid, RFC_prediction))\n",
    "print(\"AUC-ROC\", roc_auc_score(target_nan_dropped_valid, RFC_prediction))\n",
    "print()\n",
    "model_LgR = LogisticRegression(solver = 'liblinear')\n",
    "model_LgR.fit(features_nan_dropped_train, target_nan_dropped_train)\n",
    "LgR_prediction = model_LgR.predict(features_nan_dropped_valid)\n",
    "print('LogisticRegression')\n",
    "print()\n",
    "print(\"Recall\" , recall_score(target_nan_dropped_valid, LgR_prediction))\n",
    "print(\"Precision\", precision_score(target_nan_dropped_valid, LgR_prediction))\n",
    "print(\"F1-мера\", f1_score(target_nan_dropped_valid, LgR_prediction))\n",
    "print(\"AUC-ROC\", roc_auc_score(target_nan_dropped_valid, LgR_prediction))"
   ]
  },
  {
   "cell_type": "markdown",
   "metadata": {},
   "source": [
    "Несмотря на высокий показатель Accuracy, F1-мера моделей, обученных на несбаласированных данных не достигает целевого значения в 0,59."
   ]
  },
  {
   "cell_type": "markdown",
   "metadata": {},
   "source": [
    "### Проверка моделей на адекватность"
   ]
  },
  {
   "cell_type": "markdown",
   "metadata": {},
   "source": [
    "Проверим какое соотношение ответов выдает каждая модель."
   ]
  },
  {
   "cell_type": "code",
   "execution_count": 58,
   "metadata": {},
   "outputs": [],
   "source": [
    "def all_models_share(features_train, target_train, features_valid, target_valid):\n",
    "    model_DTC = DecisionTreeClassifier(random_state=12345)\n",
    "    model_DTC.fit(features_train, target_train)\n",
    "    DTC_share = pd.Series(model_DTC.predict(features_valid)).value_counts(normalize = 1)\n",
    "    \n",
    "    \n",
    "    \n",
    "    model_RFC = RandomForestClassifier(random_state=12345, n_estimators = 100)\n",
    "    model_RFC.fit(features_train, target_train)\n",
    "    RFC_share = pd.Series(model_RFC.predict(features_valid)).value_counts(normalize = 1)\n",
    "    \n",
    "    model_LgR = LogisticRegression(solver = 'liblinear', random_state=12345)\n",
    "    model_LgR.fit(features_train, target_train)\n",
    "    LgR_share = pd.Series(model_LgR.predict(features_valid)).value_counts(normalize = 1)\n",
    "    \n",
    "\n",
    "    \n",
    "    print('''Доли ответов у разных моделей:\n",
    "        Дерево решений: {}\n",
    "        Случайный лес: {} \n",
    "        Логистческая регрессия: {}'''.format(DTC_share,\n",
    "                              RFC_share,\n",
    "                              LgR_share))"
   ]
  },
  {
   "cell_type": "code",
   "execution_count": 59,
   "metadata": {},
   "outputs": [
    {
     "name": "stdout",
     "output_type": "stream",
     "text": [
      "Доли ответов у разных моделей:\n",
      "        Дерево решений: 0    0.796042\n",
      "1    0.203958\n",
      "dtype: float64\n",
      "        Случайный лес: 0    0.885102\n",
      "1    0.114898\n",
      "dtype: float64 \n",
      "        Логистческая регрессия: 0    0.936778\n",
      "1    0.063222\n",
      "dtype: float64\n"
     ]
    }
   ],
   "source": [
    "# проверим долю ответ на выборке с удаленными пропуска\n",
    "all_models_share(features_nan_dropped_train, target_nan_dropped_train, features_nan_dropped_valid, target_nan_dropped_valid)"
   ]
  },
  {
   "cell_type": "code",
   "execution_count": 60,
   "metadata": {},
   "outputs": [
    {
     "name": "stdout",
     "output_type": "stream",
     "text": [
      "Доли ответов у разных моделей:\n",
      "        Дерево решений: 0    0.798\n",
      "1    0.202\n",
      "dtype: float64\n",
      "        Случайный лес: 0    0.8795\n",
      "1    0.1205\n",
      "dtype: float64 \n",
      "        Логистческая регрессия: 0    0.9235\n",
      "1    0.0765\n",
      "dtype: float64\n"
     ]
    }
   ],
   "source": [
    "# проверим долю ответ на выборке с заменой пропусков на минимальное значение\n",
    "all_models_share(features_nan_replaced_with_min_train, target_nan_replaced_with_min_train, features_nan_replaced_with_min_valid, target_nan_replaced_with_min_valid)"
   ]
  },
  {
   "cell_type": "code",
   "execution_count": 61,
   "metadata": {},
   "outputs": [
    {
     "name": "stdout",
     "output_type": "stream",
     "text": [
      "Доли ответов у разных моделей:\n",
      "        Дерево решений: 0    0.804\n",
      "1    0.196\n",
      "dtype: float64\n",
      "        Случайный лес: 0    0.879\n",
      "1    0.121\n",
      "dtype: float64 \n",
      "        Логистческая регрессия: 0    0.924\n",
      "1    0.076\n",
      "dtype: float64\n"
     ]
    }
   ],
   "source": [
    "# проверим долю ответ на выборке с заменой пропусков на медиану\n",
    "all_models_share(features_nan_replaced_with_median_train, target_nan_replaced_with_median_train, features_nan_replaced_with_median_valid, target_nan_replaced_with_median_valid)"
   ]
  },
  {
   "cell_type": "markdown",
   "metadata": {},
   "source": [
    "В большинстве случаев модели выдают класс 0.\n",
    "\n",
    "Сравним качество предсказаний с константной моделью. За константу примем пример 0, так как это значение встречается 80% случаев. Проверим только на одной из выборок - df_nan_dropped - т.к. идентичная проблема наблюдается во всех трех выборках, скорее всего имеем проблему с дисбалансом классов в исходных данных."
   ]
  },
  {
   "cell_type": "code",
   "execution_count": 62,
   "metadata": {},
   "outputs": [
    {
     "data": {
      "text/plain": [
       "0.8070368334249588"
      ]
     },
     "execution_count": 62,
     "metadata": {},
     "output_type": "execute_result"
    }
   ],
   "source": [
    "target_pred_constant = pd.Series(0, index=target_nan_dropped_valid.index)\n",
    "accuracy_score_constant = accuracy_score(target_nan_dropped_valid, target_pred_constant)\n",
    "accuracy_score_constant"
   ]
  },
  {
   "cell_type": "markdown",
   "metadata": {},
   "source": [
    "Как мы видим, Accuracy константной модели оказалась выше, чем у дерева решений и несильно ниже, чем у случайного леса и логистической регресии.\n",
    "\n",
    "Проверим баланс классов."
   ]
  },
  {
   "cell_type": "markdown",
   "metadata": {},
   "source": [
    "### Проверяем баланс классов"
   ]
  },
  {
   "cell_type": "code",
   "execution_count": 63,
   "metadata": {},
   "outputs": [
    {
     "name": "stdout",
     "output_type": "stream",
     "text": [
      "Баланс классов обучающей выборки: \n",
      "    df_nan_dropped_train: [0.7935460212687936, 0.20645397873120647], \n",
      "    df_nan_replaced_with_min: [0.8006666666666666, 0.19933333333333333], \n",
      "    df_nan_replaced_with_median: [0.8006666666666666, 0.19933333333333333]\n",
      "Баланс классов валидационной выборки: \n",
      "    df_nan_dropped_train: [0.8070368334249588, 0.19296316657504123], \n",
      "    df_nan_replaced_with_min: [0.7885, 0.2115], \n",
      "    df_nan_replaced_with_median: [0.7885, 0.2115]\n",
      "Баланс классов тестовой выборки: \n",
      "    df_nan_dropped_train: [0.7926292629262927, 0.20737073707370737], \n",
      "    df_nan_replaced_with_min: [0.791, 0.209], \n",
      "    df_nan_replaced_with_median: [0.791, 0.209]\n"
     ]
    }
   ],
   "source": [
    "balance_rate_df_nan_dropped_train = list(target_nan_dropped_train.value_counts(normalize=True))\n",
    "balance_rate_df_nan_replaced_with_min_train = list(target_nan_replaced_with_min_train.value_counts(normalize=True))\n",
    "balance_rate_df_nan_replaced_with_median_train = list(target_nan_replaced_with_median_train.value_counts(normalize=True))\n",
    "print(\"\"\"Баланс классов обучающей выборки: \n",
    "    df_nan_dropped_train: {}, \n",
    "    df_nan_replaced_with_min: {}, \n",
    "    df_nan_replaced_with_median: {}\"\"\".format(balance_rate_df_nan_dropped_train,\n",
    "                              balance_rate_df_nan_replaced_with_min_train,\n",
    "                              balance_rate_df_nan_replaced_with_median_train))\n",
    "\n",
    "balance_rate_df_nan_dropped_valid = list(target_nan_dropped_valid.value_counts(normalize=True))\n",
    "balance_rate_df_nan_replaced_with_min_valid = list(target_nan_replaced_with_min_valid.value_counts(normalize=True))\n",
    "balance_rate_df_nan_replaced_with_median_valid = list(target_nan_replaced_with_median_valid.value_counts(normalize=True))\n",
    "print(\"\"\"Баланс классов валидационной выборки: \n",
    "    df_nan_dropped_train: {}, \n",
    "    df_nan_replaced_with_min: {}, \n",
    "    df_nan_replaced_with_median: {}\"\"\".format(balance_rate_df_nan_dropped_valid,\n",
    "                              balance_rate_df_nan_replaced_with_min_valid,\n",
    "                              balance_rate_df_nan_replaced_with_median_valid))\n",
    "\n",
    "balance_rate_df_nan_dropped_test = list(target_nan_dropped_test.value_counts(normalize=True))\n",
    "balance_rate_df_nan_replaced_with_min_test = list(target_nan_replaced_with_min_test.value_counts(normalize=True))\n",
    "balance_rate_df_nan_replaced_with_median_test = list(target_nan_replaced_with_median_test.value_counts(normalize=True))\n",
    "print(\"\"\"Баланс классов тестовой выборки: \n",
    "    df_nan_dropped_train: {}, \n",
    "    df_nan_replaced_with_min: {}, \n",
    "    df_nan_replaced_with_median: {}\"\"\".format(balance_rate_df_nan_dropped_test,\n",
    "                              balance_rate_df_nan_replaced_with_min_test,\n",
    "                              balance_rate_df_nan_replaced_with_median_test))"
   ]
  },
  {
   "cell_type": "markdown",
   "metadata": {},
   "source": [
    "Баланс классов для всех выборок одинаковый: 79-80% - отрицательный класс, 19-20% - положительный. Т.е. мы видим сильный дисбаланс в классах."
   ]
  },
  {
   "cell_type": "markdown",
   "metadata": {},
   "source": [
    "## Борьба с дисбалансом"
   ]
  },
  {
   "cell_type": "markdown",
   "metadata": {},
   "source": [
    "Чтобы увеличить качество модели при дисбалансе классов, мы можем использовать следующие методы:\n",
    "\n",
    "- увеличение выборки (upsampling);\n",
    "- уменьшение выборки (downsampling);\n",
    "\n",
    "Проверим, какой метод сбалансирует классы лучше и будем в дальнейшем использовать его."
   ]
  },
  {
   "cell_type": "markdown",
   "metadata": {},
   "source": [
    "### Upsampling"
   ]
  },
  {
   "cell_type": "code",
   "execution_count": 64,
   "metadata": {},
   "outputs": [],
   "source": [
    "def upsample(features, target, repeat):\n",
    "    features_zeros = features[target == 0]\n",
    "    features_ones = features[target == 1]\n",
    "    target_zeros = target[target == 0]\n",
    "    target_ones = target[target == 1]\n",
    "\n",
    "    features_upsampled = pd.concat([features_zeros] + [features_ones] * repeat)\n",
    "    target_upsampled = pd.concat([target_zeros] + [target_ones] * repeat)\n",
    "    \n",
    "    features_upsampled, target_upsampled = shuffle(\n",
    "        features_upsampled, target_upsampled, random_state=12345)\n",
    "    \n",
    "    return features_upsampled, target_upsampled"
   ]
  },
  {
   "cell_type": "markdown",
   "metadata": {},
   "source": [
    "Нам необходмо увеличить количество положительных ответов в 4 раза для достижения баланса."
   ]
  },
  {
   "cell_type": "code",
   "execution_count": 65,
   "metadata": {},
   "outputs": [],
   "source": [
    "features_nan_dropped_train_upsampled, target_nan_dropped_train_upsampled = upsample(features_nan_dropped_train,\n",
    "                                          target_nan_dropped_train,\n",
    "                                          4)\n",
    "features_nan_replaced_with_min_train_upsampled, target_nan_replaced_with_min_train_upsampled = upsample(features_nan_replaced_with_min_train,\n",
    "                                          target_nan_replaced_with_min_train,\n",
    "                                          4)\n",
    "features_nan_replaced_with_median_train_upsampled, target_nan_replaced_with_median_train_upsampled = upsample(features_nan_replaced_with_median_train,\n",
    "                                          target_nan_replaced_with_median_train,\n",
    "                                          4)"
   ]
  },
  {
   "cell_type": "code",
   "execution_count": 66,
   "metadata": {
    "scrolled": true
   },
   "outputs": [
    {
     "name": "stdout",
     "output_type": "stream",
     "text": [
      "1    0.509964\n",
      "0    0.490036\n",
      "Name: Exited, dtype: float64\n"
     ]
    }
   ],
   "source": [
    "# проверим результат для выборки с удаленными пропусками\n",
    "print(target_nan_dropped_train_upsampled.value_counts(normalize = 1))"
   ]
  },
  {
   "cell_type": "code",
   "execution_count": 67,
   "metadata": {},
   "outputs": [
    {
     "name": "stdout",
     "output_type": "stream",
     "text": [
      "0    0.501043\n",
      "1    0.498957\n",
      "Name: Exited, dtype: float64\n"
     ]
    }
   ],
   "source": [
    "# проверим результат для выборки с заменой пропусков на мин. значения\n",
    "print(target_nan_replaced_with_min_train_upsampled.value_counts(normalize = 1))"
   ]
  },
  {
   "cell_type": "code",
   "execution_count": 68,
   "metadata": {},
   "outputs": [
    {
     "name": "stdout",
     "output_type": "stream",
     "text": [
      "0    0.501043\n",
      "1    0.498957\n",
      "Name: Exited, dtype: float64\n"
     ]
    }
   ],
   "source": [
    "# проверим результат для выборки с заменой пропусков на медианное значение\n",
    "print(target_nan_replaced_with_median_train_upsampled.value_counts(normalize = 1))"
   ]
  },
  {
   "cell_type": "markdown",
   "metadata": {},
   "source": [
    "Мы получили сбалансированное количество классов."
   ]
  },
  {
   "cell_type": "markdown",
   "metadata": {},
   "source": [
    "### Downsampling"
   ]
  },
  {
   "cell_type": "code",
   "execution_count": 69,
   "metadata": {},
   "outputs": [],
   "source": [
    "def downsample(features, target, fraction):\n",
    "    features_zeros = features[target == 0]\n",
    "    features_ones = features[target == 1]\n",
    "    target_zeros = target[target == 0]\n",
    "    target_ones = target[target == 1]\n",
    "\n",
    "    features_downsampled = pd.concat(\n",
    "        [features_zeros.sample(frac=fraction, random_state=12345)] + [features_ones])\n",
    "    target_downsampled = pd.concat(\n",
    "        [target_zeros.sample(frac=fraction, random_state=12345)] + [target_ones])\n",
    "    \n",
    "    features_downsampled, target_downsampled = shuffle(\n",
    "        features_downsampled, target_downsampled, random_state=12345)\n",
    "    \n",
    "    return features_downsampled, target_downsampled"
   ]
  },
  {
   "cell_type": "code",
   "execution_count": 70,
   "metadata": {},
   "outputs": [],
   "source": [
    "features_nan_dropped_train_downsampled, target_nan_dropped_train_downsampled = downsample(features_nan_dropped_train,\n",
    "                                          target_nan_dropped_train,\n",
    "                                          0.3)\n",
    "features_nan_replaced_with_min_train_downsampled, target_nan_replaced_with_min_train_downsampled = downsample(features_nan_replaced_with_min_train,\n",
    "                                          target_nan_replaced_with_min_train,\n",
    "                                          0.3)\n",
    "features_nan_replaced_with_median_train_downsampled, target_nan_replaced_with_median_train_downsampled = downsample(features_nan_replaced_with_median_train,\n",
    "                                          target_nan_replaced_with_median_train,\n",
    "                                          0.3)"
   ]
  },
  {
   "cell_type": "code",
   "execution_count": 71,
   "metadata": {},
   "outputs": [
    {
     "name": "stdout",
     "output_type": "stream",
     "text": [
      "0    0.535479\n",
      "1    0.464521\n",
      "Name: Exited, dtype: float64\n"
     ]
    }
   ],
   "source": [
    "# проверим результат для выборки с удаленными пропусками\n",
    "print(target_nan_dropped_train_downsampled.value_counts(normalize = 1))"
   ]
  },
  {
   "cell_type": "code",
   "execution_count": 72,
   "metadata": {},
   "outputs": [
    {
     "name": "stdout",
     "output_type": "stream",
     "text": [
      "0    0.546454\n",
      "1    0.453546\n",
      "Name: Exited, dtype: float64\n"
     ]
    }
   ],
   "source": [
    "# проверим результат для выборки с заменой пропусков на мин. значения\n",
    "print(target_nan_replaced_with_min_train_downsampled.value_counts(normalize = 1))"
   ]
  },
  {
   "cell_type": "code",
   "execution_count": 73,
   "metadata": {},
   "outputs": [
    {
     "name": "stdout",
     "output_type": "stream",
     "text": [
      "0    0.546454\n",
      "1    0.453546\n",
      "Name: Exited, dtype: float64\n"
     ]
    }
   ],
   "source": [
    "# проверим результат для выборки с заменой пропусков на медианное значение\n",
    "print(target_nan_replaced_with_median_train_downsampled.value_counts(normalize = 1))"
   ]
  },
  {
   "cell_type": "markdown",
   "metadata": {},
   "source": [
    "Мы получили сбалансированное количество классов, но способ увеличения выборки показал себя лучше."
   ]
  },
  {
   "cell_type": "markdown",
   "metadata": {},
   "source": [
    "### Обучение моделей на сбаланированных выборках"
   ]
  },
  {
   "cell_type": "code",
   "execution_count": 74,
   "metadata": {},
   "outputs": [],
   "source": [
    "# объявим функцию для оценки качества моделей\n",
    "def rec_prec_f1(target_valid, prediction):\n",
    "    print(\"Accuracy\", accuracy_score(target_valid, prediction))\n",
    "    print(\"Recall\" , recall_score(target_valid, prediction))\n",
    "    print(\"Precision\", precision_score(target_valid, prediction))\n",
    "    print(\"F1-мера\", f1_score(target_valid, prediction))\n",
    "    print(\"AUC-ROC\", roc_auc_score(target_valid, prediction))"
   ]
  },
  {
   "cell_type": "markdown",
   "metadata": {},
   "source": [
    "#### Модель дерева решений"
   ]
  },
  {
   "cell_type": "markdown",
   "metadata": {},
   "source": [
    "##### Сбалансированные выборки df_nan_dropped"
   ]
  },
  {
   "cell_type": "code",
   "execution_count": 75,
   "metadata": {},
   "outputs": [
    {
     "name": "stdout",
     "output_type": "stream",
     "text": [
      "Accuracy 0.7883452446399121\n",
      "Recall 0.4843304843304843\n",
      "Precision 0.45454545454545453\n",
      "F1-мера 0.46896551724137925\n",
      "AUC-ROC 0.6726829533369044\n"
     ]
    }
   ],
   "source": [
    "# посмотрим метрики модели дерева решений на базе сбалансированной выборки с удаленными пропусками\n",
    "model_DTC_upsampled = DecisionTreeClassifier(random_state=12345)\n",
    "model_DTC_upsampled.fit(features_nan_dropped_train_upsampled, target_nan_dropped_train_upsampled)\n",
    "DTC_prediction_upsampled = model_DTC_upsampled.predict(features_nan_dropped_valid)\n",
    "rec_prec_f1(target_nan_dropped_valid, DTC_prediction_upsampled)"
   ]
  },
  {
   "cell_type": "code",
   "execution_count": 76,
   "metadata": {
    "scrolled": true
   },
   "outputs": [
    {
     "name": "stdout",
     "output_type": "stream",
     "text": [
      "Accuracy 0.6926882902693787\n",
      "Recall 0.6581196581196581\n",
      "Precision 0.3447761194029851\n",
      "F1-мера 0.4524975514201763\n",
      "AUC-ROC 0.6795366682968862\n"
     ]
    }
   ],
   "source": [
    "# посмотрим метрики модели дерева решений на базе сбалансированной выборки с удаленными пропусками\n",
    "model_DTC_downsampled = DecisionTreeClassifier(random_state=12345)\n",
    "model_DTC_downsampled.fit(features_nan_dropped_train_downsampled, target_nan_dropped_train_downsampled)\n",
    "DTC_prediction_downsampled = model_DTC_downsampled.predict(features_nan_dropped_valid)\n",
    "rec_prec_f1(target_nan_dropped_valid, DTC_prediction_downsampled)"
   ]
  },
  {
   "cell_type": "markdown",
   "metadata": {},
   "source": [
    "##### Сбалансированные выборки df_nan_nan_replaced_with_min"
   ]
  },
  {
   "cell_type": "code",
   "execution_count": 77,
   "metadata": {},
   "outputs": [
    {
     "name": "stdout",
     "output_type": "stream",
     "text": [
      "Accuracy 0.7935\n",
      "Recall 0.4799054373522459\n",
      "Precision 0.5126262626262627\n",
      "F1-мера 0.4957264957264958\n",
      "AUC-ROC 0.6787605817071947\n"
     ]
    }
   ],
   "source": [
    "# посмотрим метрики модели дерева решений на базе сбалансированной выборки с заменой пропусков на мин значения\n",
    "model_DTC_upsampled = DecisionTreeClassifier(random_state=12345)\n",
    "model_DTC_upsampled.fit(features_nan_replaced_with_min_train_upsampled, target_nan_replaced_with_min_train_upsampled)\n",
    "DTC_prediction_upsampled = model_DTC_upsampled.predict(features_nan_replaced_with_min_valid)\n",
    "rec_prec_f1(target_nan_replaced_with_min_valid, DTC_prediction_upsampled)"
   ]
  },
  {
   "cell_type": "code",
   "execution_count": 78,
   "metadata": {},
   "outputs": [
    {
     "name": "stdout",
     "output_type": "stream",
     "text": [
      "Accuracy 0.6925\n",
      "Recall 0.6761229314420804\n",
      "Precision 0.3743455497382199\n",
      "F1-мера 0.48188711036225773\n",
      "AUC-ROC 0.6865078829689794\n"
     ]
    }
   ],
   "source": [
    "# посмотрим метрики модели дерева решений на базе сбалансированной выборки с заменой пропусков на мин значения\n",
    "model_DTC_downsampled = DecisionTreeClassifier(random_state=12345)\n",
    "model_DTC_downsampled.fit(features_nan_replaced_with_min_train_downsampled, target_nan_replaced_with_min_train_downsampled)\n",
    "DTC_prediction_downsampled = model_DTC_downsampled.predict(features_nan_replaced_with_min_valid)\n",
    "rec_prec_f1(target_nan_replaced_with_min_valid, DTC_prediction_downsampled)"
   ]
  },
  {
   "cell_type": "markdown",
   "metadata": {},
   "source": [
    "##### Сбалансированные выборки df_nan_nan_replaced_with_median"
   ]
  },
  {
   "cell_type": "code",
   "execution_count": 79,
   "metadata": {},
   "outputs": [
    {
     "name": "stdout",
     "output_type": "stream",
     "text": [
      "Accuracy 0.787\n",
      "Recall 0.46808510638297873\n",
      "Precision 0.49624060150375937\n",
      "F1-мера 0.48175182481751827\n",
      "AUC-ROC 0.6703139545865433\n"
     ]
    }
   ],
   "source": [
    "# посмотрим метрики модели дерева решений на базе сбалансированной выборки с заменой пропусков на медианное значение\n",
    "model_DTC_upsampled = DecisionTreeClassifier(random_state=12345)\n",
    "model_DTC_upsampled.fit(features_nan_replaced_with_median_train_upsampled, target_nan_replaced_with_median_train_upsampled)\n",
    "DTC_prediction_upsampled = model_DTC_upsampled.predict(features_nan_replaced_with_median_valid)\n",
    "rec_prec_f1(target_nan_replaced_with_median_valid, DTC_prediction_upsampled)"
   ]
  },
  {
   "cell_type": "code",
   "execution_count": 80,
   "metadata": {
    "scrolled": true
   },
   "outputs": [
    {
     "name": "stdout",
     "output_type": "stream",
     "text": [
      "Accuracy 0.7045\n",
      "Recall 0.6903073286052009\n",
      "Precision 0.3882978723404255\n",
      "F1-мера 0.49702127659574463\n",
      "AUC-ROC 0.6993071202315795\n"
     ]
    }
   ],
   "source": [
    "# посмотрим метрики модели дерева решений на базе сбалансированной выборки с заменой пропусков на медианное значение\n",
    "model_DTC_downsampled = DecisionTreeClassifier(random_state=12345)\n",
    "model_DTC_downsampled.fit(features_nan_replaced_with_median_train_downsampled, target_nan_replaced_with_median_train_downsampled)\n",
    "DTC_prediction_downsampled = model_DTC_downsampled.predict(features_nan_replaced_with_median_valid)\n",
    "rec_prec_f1(target_nan_replaced_with_median_valid, DTC_prediction_downsampled)"
   ]
  },
  {
   "cell_type": "markdown",
   "metadata": {},
   "source": [
    "#### Модель случайного леса"
   ]
  },
  {
   "cell_type": "markdown",
   "metadata": {},
   "source": [
    "##### Сбалансированные выборки df_nan_dropped"
   ]
  },
  {
   "cell_type": "code",
   "execution_count": 81,
   "metadata": {},
   "outputs": [
    {
     "name": "stdout",
     "output_type": "stream",
     "text": [
      "Accuracy 0.8614623419461243\n",
      "Recall 0.5669515669515669\n",
      "Precision 0.6655518394648829\n",
      "F1-мера 0.6123076923076923\n",
      "AUC-ROC 0.7494158379716963\n"
     ]
    }
   ],
   "source": [
    "# посмотрим метрики модели случайного леса на базе сбалансированной выборки с удаленными пропусками\n",
    "model_RFC_upsampled = RandomForestClassifier(random_state=12345, n_estimators = 100)\n",
    "model_RFC_upsampled.fit(features_nan_dropped_train_upsampled, target_nan_dropped_train_upsampled)\n",
    "RFC_prediction_upsampled = model_RFC_upsampled.predict(features_nan_dropped_valid)\n",
    "rec_prec_f1(target_nan_dropped_valid, RFC_prediction_upsampled)"
   ]
  },
  {
   "cell_type": "code",
   "execution_count": 83,
   "metadata": {},
   "outputs": [
    {
     "name": "stdout",
     "output_type": "stream",
     "text": [
      "Accuracy 0.7932930181418362\n",
      "Recall 0.7606837606837606\n",
      "Precision 0.4776386404293381\n",
      "F1-мера 0.5868131868131867\n",
      "AUC-ROC 0.7808868394699457\n"
     ]
    }
   ],
   "source": [
    "# посмотрим метрики модели случайного леса на базе сбалансированной выборки с удаленными пропусками\n",
    "model_RFC_downsampled = RandomForestClassifier(random_state=12345, n_estimators = 100)\n",
    "model_RFC_downsampled.fit(features_nan_dropped_train_downsampled, target_nan_dropped_train_downsampled)\n",
    "RFC_prediction_downsampled = model_RFC_downsampled.predict(features_nan_dropped_valid)\n",
    "rec_prec_f1(target_nan_dropped_valid, RFC_prediction_downsampled)"
   ]
  },
  {
   "cell_type": "markdown",
   "metadata": {},
   "source": [
    "##### Сбалансированные выборки df_nan_nan_replaced_with_min"
   ]
  },
  {
   "cell_type": "code",
   "execution_count": 84,
   "metadata": {},
   "outputs": [
    {
     "name": "stdout",
     "output_type": "stream",
     "text": [
      "Accuracy 0.8425\n",
      "Recall 0.5177304964539007\n",
      "Precision 0.6636363636363637\n",
      "F1-мера 0.5816733067729083\n",
      "AUC-ROC 0.7236718430272041\n"
     ]
    }
   ],
   "source": [
    "# посмотрим метрики модели случайного леса на базе сбалансированной выборки с заменой пропусков на медианное значение\n",
    "model_RFC_upsampled = RandomForestClassifier(random_state=12345, n_estimators = 100)\n",
    "model_RFC_upsampled.fit(features_nan_replaced_with_min_train_upsampled, target_nan_replaced_with_min_train_upsampled)\n",
    "RFC_prediction_upsampled = model_RFC_upsampled.predict(features_nan_replaced_with_min_valid)\n",
    "rec_prec_f1(target_nan_replaced_with_min_valid, RFC_prediction_upsampled)"
   ]
  },
  {
   "cell_type": "code",
   "execution_count": 85,
   "metadata": {},
   "outputs": [
    {
     "name": "stdout",
     "output_type": "stream",
     "text": [
      "Accuracy 0.797\n",
      "Recall 0.6997635933806147\n",
      "Precision 0.5147826086956522\n",
      "F1-мера 0.593186372745491\n",
      "AUC-ROC 0.7614226971341882\n"
     ]
    }
   ],
   "source": [
    "# посмотрим метрики модели случайного леса на базе сбалансированной выборки с заменой пропусков на медианное значение\n",
    "model_RFC_downsampled = RandomForestClassifier(random_state=12345, n_estimators = 100)\n",
    "model_RFC_downsampled.fit(features_nan_replaced_with_median_train_downsampled, target_nan_replaced_with_median_train_downsampled)\n",
    "RFC_prediction_downsampled = model_RFC_downsampled.predict(features_nan_replaced_with_median_valid)\n",
    "rec_prec_f1(target_nan_replaced_with_median_valid, RFC_prediction_downsampled)"
   ]
  },
  {
   "cell_type": "markdown",
   "metadata": {},
   "source": [
    "##### Сбалансированные выборки df_nan_nan_replaced_with_median"
   ]
  },
  {
   "cell_type": "code",
   "execution_count": 86,
   "metadata": {},
   "outputs": [
    {
     "name": "stdout",
     "output_type": "stream",
     "text": [
      "Accuracy 0.8435\n",
      "Recall 0.5319148936170213\n",
      "Precision 0.6617647058823529\n",
      "F1-мера 0.5897771952817825\n",
      "AUC-ROC 0.7294958107907554\n"
     ]
    }
   ],
   "source": [
    "# посмотрим метрики модели случайного леса на базе сбалансированной выборки с заменой пропусков на медианное значение\n",
    "model_RFC_upsampled = RandomForestClassifier(random_state=12345, n_estimators = 100)\n",
    "model_RFC_upsampled.fit(features_nan_replaced_with_median_train_upsampled, target_nan_replaced_with_median_train_upsampled)\n",
    "RFC_prediction_upsampled = model_RFC_upsampled.predict(features_nan_replaced_with_median_valid)\n",
    "rec_prec_f1(target_nan_replaced_with_median_valid, RFC_prediction_upsampled)"
   ]
  },
  {
   "cell_type": "code",
   "execution_count": 87,
   "metadata": {},
   "outputs": [
    {
     "name": "stdout",
     "output_type": "stream",
     "text": [
      "Accuracy 0.797\n",
      "Recall 0.6997635933806147\n",
      "Precision 0.5147826086956522\n",
      "F1-мера 0.593186372745491\n",
      "AUC-ROC 0.7614226971341882\n"
     ]
    }
   ],
   "source": [
    "# посмотрим метрики модели случайного леса на базе сбалансированной выборки с заменой пропусков на медианное значение\n",
    "model_RFC_downsampled = RandomForestClassifier(random_state=12345, n_estimators = 100)\n",
    "model_RFC_downsampled.fit(features_nan_replaced_with_median_train_downsampled, target_nan_replaced_with_median_train_downsampled)\n",
    "RFC_prediction_downsampled = model_RFC_downsampled.predict(features_nan_replaced_with_median_valid)\n",
    "rec_prec_f1(target_nan_replaced_with_median_valid, RFC_prediction_downsampled)"
   ]
  },
  {
   "cell_type": "markdown",
   "metadata": {},
   "source": [
    "#### Модель логистической регрессии"
   ]
  },
  {
   "cell_type": "markdown",
   "metadata": {},
   "source": [
    "##### Сбалансированные выборки df_nan_dropped"
   ]
  },
  {
   "cell_type": "code",
   "execution_count": 88,
   "metadata": {},
   "outputs": [
    {
     "name": "stdout",
     "output_type": "stream",
     "text": [
      "Accuracy 0.720175920835624\n",
      "Recall 0.7150997150997151\n",
      "Precision 0.3803030303030303\n",
      "F1-мера 0.49653808110781406\n",
      "AUC-ROC 0.7182446804381409\n"
     ]
    }
   ],
   "source": [
    "# посмотрим метрики модели логистической регрессии на базе сбалансированной выборки с удаленными пропусками\n",
    "model_LgR_upsampled = LogisticRegression(solver = 'liblinear', random_state=12345)\n",
    "model_LgR_upsampled.fit(features_nan_dropped_train_upsampled, target_nan_dropped_train_upsampled)\n",
    "LgR_prediction_upsampled = model_LgR_upsampled.predict(features_nan_dropped_valid)\n",
    "rec_prec_f1(target_nan_dropped_valid, LgR_prediction_upsampled)"
   ]
  },
  {
   "cell_type": "code",
   "execution_count": 89,
   "metadata": {},
   "outputs": [
    {
     "name": "stdout",
     "output_type": "stream",
     "text": [
      "Accuracy 0.7410665200659703\n",
      "Recall 0.6381766381766382\n",
      "Precision 0.39436619718309857\n",
      "F1-мера 0.4874863982589771\n",
      "AUC-ROC 0.7019221065542592\n"
     ]
    }
   ],
   "source": [
    "# посмотрим метрики модели логистической регрессии на базе сбалансированной выборки с удаленными пропусками\n",
    "model_LgR_downsampled = LogisticRegression(solver = 'liblinear', random_state=12345)\n",
    "model_LgR_downsampled.fit(features_nan_dropped_train_downsampled, target_nan_dropped_train_downsampled)\n",
    "LgR_prediction_downsampled = model_LgR_downsampled.predict(features_nan_dropped_valid)\n",
    "rec_prec_f1(target_nan_dropped_valid, LgR_prediction_downsampled)"
   ]
  },
  {
   "cell_type": "markdown",
   "metadata": {},
   "source": [
    "##### Сбалансированные выборки df_nan_nan_replaced_with_min"
   ]
  },
  {
   "cell_type": "code",
   "execution_count": 90,
   "metadata": {},
   "outputs": [
    {
     "name": "stdout",
     "output_type": "stream",
     "text": [
      "Accuracy 0.6985\n",
      "Recall 0.6524822695035462\n",
      "Precision 0.3770491803278688\n",
      "F1-мера 0.4779220779220779\n",
      "AUC-ROC 0.681662821498761\n"
     ]
    }
   ],
   "source": [
    "# посмотрим метрики модели логистической регрессии на базе сбалансированной выборки с заменой пропусков на медианное значение\n",
    "model_LgR_upsampled = LogisticRegression(solver = 'liblinear', random_state=12345)\n",
    "model_LgR_upsampled.fit(features_nan_replaced_with_min_train_upsampled, target_nan_replaced_with_min_train_upsampled)\n",
    "LgR_prediction_upsampled = model_LgR_upsampled.predict(features_nan_replaced_with_min_valid)\n",
    "rec_prec_f1(target_nan_replaced_with_min_valid, LgR_prediction_upsampled)"
   ]
  },
  {
   "cell_type": "code",
   "execution_count": 91,
   "metadata": {},
   "outputs": [
    {
     "name": "stdout",
     "output_type": "stream",
     "text": [
      "Accuracy 0.7225\n",
      "Recall 0.5933806146572104\n",
      "Precision 0.39589905362776023\n",
      "F1-мера 0.4749290444654683\n",
      "AUC-ROC 0.675257206504255\n"
     ]
    }
   ],
   "source": [
    "# посмотрим метрики модели логистической регрессии на базе сбалансированной выборки с заменой пропусков на медианное значение\n",
    "model_LgR_downsampled = LogisticRegression(solver = 'liblinear', random_state=12345)\n",
    "model_LgR_downsampled.fit(features_nan_replaced_with_median_train_downsampled, target_nan_replaced_with_median_train_downsampled)\n",
    "LgR_prediction_downsampled = model_LgR_downsampled.predict(features_nan_replaced_with_median_valid)\n",
    "rec_prec_f1(target_nan_replaced_with_median_valid, LgR_prediction_downsampled)"
   ]
  },
  {
   "cell_type": "markdown",
   "metadata": {},
   "source": [
    "##### Сбалансированные выборки df_nan_nan_replaced_with_median"
   ]
  },
  {
   "cell_type": "code",
   "execution_count": 92,
   "metadata": {},
   "outputs": [
    {
     "name": "stdout",
     "output_type": "stream",
     "text": [
      "Accuracy 0.6975\n",
      "Recall 0.6501182033096927\n",
      "Precision 0.3756830601092896\n",
      "F1-мера 0.47619047619047616\n",
      "AUC-ROC 0.680163730697332\n"
     ]
    }
   ],
   "source": [
    "# посмотрим метрики модели логистической регрессии на базе сбалансированной выборки с заменой пропусков на медианное значение\n",
    "model_LgR_upsampled = LogisticRegression(solver = 'liblinear', random_state=12345)\n",
    "model_LgR_upsampled.fit(features_nan_replaced_with_median_train_upsampled, target_nan_replaced_with_median_train_upsampled)\n",
    "LgR_prediction_upsampled = model_LgR_upsampled.predict(features_nan_replaced_with_median_valid)\n",
    "rec_prec_f1(target_nan_replaced_with_median_valid, LgR_prediction_upsampled)"
   ]
  },
  {
   "cell_type": "code",
   "execution_count": 93,
   "metadata": {},
   "outputs": [
    {
     "name": "stdout",
     "output_type": "stream",
     "text": [
      "Accuracy 0.7225\n",
      "Recall 0.5933806146572104\n",
      "Precision 0.39589905362776023\n",
      "F1-мера 0.4749290444654683\n",
      "AUC-ROC 0.675257206504255\n"
     ]
    }
   ],
   "source": [
    "# посмотрим метрики модели логистической регрессии на базе сбалансированной выборки с заменой пропусков на медианное значение\n",
    "model_LgR_downsampled = LogisticRegression(solver = 'liblinear', random_state=12345)\n",
    "model_LgR_downsampled.fit(features_nan_replaced_with_median_train_downsampled, target_nan_replaced_with_median_train_downsampled)\n",
    "LgR_prediction_downsampled = model_LgR_downsampled.predict(features_nan_replaced_with_median_valid)\n",
    "rec_prec_f1(target_nan_replaced_with_median_valid, LgR_prediction_downsampled)"
   ]
  },
  {
   "cell_type": "markdown",
   "metadata": {},
   "source": [
    "### Выбор модели"
   ]
  },
  {
   "cell_type": "markdown",
   "metadata": {},
   "source": [
    "Практика показала, что наилучшие показатели у модели случайного леса, которая была обучена на сбалансированной методов ~~downsampling~~ upsampling выборке, где пропуски были удалены на этапе предобработки.\n",
    "\n",
    "Посмотрим, сможем ли мы улучшить модель."
   ]
  },
  {
   "cell_type": "markdown",
   "metadata": {},
   "source": [
    "### Улучшение модели"
   ]
  },
  {
   "cell_type": "code",
   "execution_count": 114,
   "metadata": {
    "scrolled": true
   },
   "outputs": [
    {
     "name": "stdout",
     "output_type": "stream",
     "text": [
      "0.7223749312809236\n",
      "0.7619571192963167\n",
      "0.7691039032435404\n",
      "0.7817482133040132\n",
      "0.7932930181418362\n",
      "0.7993402968664101\n",
      "0.7976910390324354\n",
      "0.8042880703683343\n",
      "0.816932380428807\n",
      "0.8196811434854315\n",
      "0.8295766904892798\n",
      "0.8361737218251787\n",
      "0.8488180318856514\n",
      "0.8499175371083013\n",
      "0.8554150632215503\n"
     ]
    }
   ],
   "source": [
    "# создадим цикл для поиска наилучших параметров модели\n",
    "features_train = features_nan_dropped_train_upsampled\n",
    "target_train = target_nan_dropped_train_upsampled\n",
    "features_valid = features_nan_dropped_valid\n",
    "target_valid = target_nan_dropped_valid\n",
    "features_test = features_nan_dropped_test\n",
    "target_test = target_nan_dropped_test\n",
    "\n",
    "for depth in range(1, 16, 1):\n",
    "    model = RandomForestClassifier(n_estimators=100, max_depth=depth, random_state=12345)\n",
    "    model.fit(features_train, target_train)\n",
    "    print(model.score(features_valid, target_valid))"
   ]
  },
  {
   "cell_type": "markdown",
   "metadata": {},
   "source": [
    "Наилучший результат дала модель с параметрами глубиной равной 15 и кол-ом деревьев равным 100."
   ]
  },
  {
   "cell_type": "code",
   "execution_count": 115,
   "metadata": {},
   "outputs": [
    {
     "name": "stdout",
     "output_type": "stream",
     "text": [
      "0.8554150632215503\n"
     ]
    }
   ],
   "source": [
    "model = RandomForestClassifier(n_estimators=100, max_depth=15, random_state=12345)\n",
    "model.fit(features_train, target_train)\n",
    "print(model.score(features_valid, target_valid))"
   ]
  },
  {
   "cell_type": "code",
   "execution_count": 116,
   "metadata": {
    "scrolled": true
   },
   "outputs": [
    {
     "name": "stdout",
     "output_type": "stream",
     "text": [
      "Accuracy 0.8554150632215503\n",
      "Recall 0.5982905982905983\n",
      "Precision 0.6325301204819277\n",
      "F1-мера 0.6149341142020498\n",
      "AUC-ROC 0.7575921656303128\n",
      "None\n"
     ]
    }
   ],
   "source": [
    "predictions = model.predict(features_valid) \n",
    "print(rec_prec_f1(target_valid, predictions))"
   ]
  },
  {
   "cell_type": "markdown",
   "metadata": {},
   "source": [
    "Метрики модели улучшились, но несильно."
   ]
  },
  {
   "cell_type": "markdown",
   "metadata": {},
   "source": [
    "Проверим также модель на той же, но несбалансированной выборке. Сбалансируем ее, задав параметр `class_weight = 'balanced'` (также один из трех способов сбалансировать классы выборки)."
   ]
  },
  {
   "cell_type": "code",
   "execution_count": 119,
   "metadata": {},
   "outputs": [
    {
     "name": "stdout",
     "output_type": "stream",
     "text": [
      "0.7471137987905443\n",
      "0.7784496976360638\n",
      "0.7795492028587135\n",
      "0.7905442550852116\n",
      "0.7987905442550852\n",
      "0.8048378229796591\n",
      "0.8125343595382079\n",
      "0.8301264431006047\n",
      "0.8372732270478285\n",
      "0.8488180318856514\n",
      "0.8565145684442002\n",
      "0.8581638262781748\n",
      "0.8614623419461243\n",
      "0.8642111050027488\n",
      "0.8697086311159978\n"
     ]
    }
   ],
   "source": [
    "features_train_not_blnced = features_nan_dropped_train\n",
    "target_train_not_blnced = target_nan_dropped_train\n",
    "features_valid_not_blnced = features_nan_dropped_valid\n",
    "target_valid_not_blnced = target_nan_dropped_valid\n",
    "features_test_not_blnced = features_nan_dropped_test\n",
    "target_test_not_blnced = target_nan_dropped_test\n",
    "\n",
    "for depth in range(1, 16, 1):\n",
    "    model_plan_b = RandomForestClassifier(n_estimators=100, max_depth=depth, random_state=12345, class_weight = 'balanced')\n",
    "    model_plan_b.fit(features_train_not_blnced, target_train_not_blnced)\n",
    "    print(model_plan_b.score(features_valid_not_blnced, target_valid_not_blnced))"
   ]
  },
  {
   "cell_type": "code",
   "execution_count": 120,
   "metadata": {},
   "outputs": [
    {
     "name": "stdout",
     "output_type": "stream",
     "text": [
      "0.8697086311159978\n"
     ]
    }
   ],
   "source": [
    "model_plan_b = RandomForestClassifier(n_estimators=100, max_depth=15, random_state=12345, class_weight = 'balanced')\n",
    "model_plan_b.fit(features_train_not_blnced, target_train_not_blnced)\n",
    "print(model_plan_b.score(features_valid_not_blnced, target_valid_not_blnced))"
   ]
  },
  {
   "cell_type": "code",
   "execution_count": 121,
   "metadata": {
    "scrolled": false
   },
   "outputs": [
    {
     "name": "stdout",
     "output_type": "stream",
     "text": [
      "Accuracy 0.8697086311159978\n",
      "Recall 0.48148148148148145\n",
      "Precision 0.7544642857142857\n",
      "F1-мера 0.5878260869565217\n",
      "AUC-ROC 0.7220077707134928\n",
      "None\n"
     ]
    }
   ],
   "source": [
    "predictions_plan_b = model_plan_b.predict(features_valid_not_blnced) \n",
    "print(rec_prec_f1(target_valid_not_blnced, predictions_plan_b))"
   ]
  },
  {
   "cell_type": "markdown",
   "metadata": {},
   "source": [
    "Несмотря на то, что Accuracy увеличилась, F1-мера ниже, чем у предыдущей модели, обученной на сбалансированной выборке."
   ]
  },
  {
   "cell_type": "markdown",
   "metadata": {},
   "source": [
    "### Проверка финальной модели на адекватность"
   ]
  },
  {
   "cell_type": "code",
   "execution_count": 122,
   "metadata": {},
   "outputs": [
    {
     "name": "stdout",
     "output_type": "stream",
     "text": [
      "accuracy_score константой модели: 0.8070368334249588\n",
      "accuracy_score финальной модели: 0.8554150632215503\n",
      "AUC-ROC константой модели: 0.5\n",
      "AUC-ROC финальной модели: 0.7575921656303128\n"
     ]
    }
   ],
   "source": [
    "# создаем константную модель\n",
    "target_predict_constant = pd.Series(0, index=target_valid.index)\n",
    "# сравним показатель точности (accuracy_score) константной модели и финальной\n",
    "print('accuracy_score константой модели:', accuracy_score(target_valid, target_predict_constant))\n",
    "print('accuracy_score финальной модели:', accuracy_score(target_valid, predictions))\n",
    "# дополнительно сравним AUC-ROC — единственный параметр подающийся сравнению, потому что константная подель содержит только негативные ответы\n",
    "print('AUC-ROC константой модели:', roc_auc_score(target_valid, target_predict_constant))\n",
    "print('AUC-ROC финальной модели:', roc_auc_score(target_valid, predictions))"
   ]
  },
  {
   "cell_type": "markdown",
   "metadata": {},
   "source": [
    "Финальная модель показывает результаты лучше, чем константная модель — модель можно считать адекватной."
   ]
  },
  {
   "cell_type": "markdown",
   "metadata": {},
   "source": [
    "### Выводы в ходе исследования"
   ]
  },
  {
   "cell_type": "markdown",
   "metadata": {},
   "source": [
    "- В первоначальные данных наблюдался значительный дисбаланс (80% ответов целевого признака были негативными и только 20% позитивными), из-за чего обученная на этих данных модель не проходила проверку на адекватность;\n",
    "\n",
    "- Опытным путем мы пытались устранить дисбаланс классов тремя разными способами: upsampling, downsampling, параметр `class_weight = 'balanced'` при обучении модели. Как показали метрики финальной модели, в нашем случае метрики лучше при балансе классов способом ~~уменьшения выборки (downsampling)~~ увеличения выборки (upsampling);\n",
    "\n",
    "- также опытным путем мы выяснили, что наилучшие метрики достигаются на выборке, где пропуски ничем не заменялись, а просто удалялись;\n",
    "\n",
    "- на сбалансированных данных все модели показали результат выше, чем на несбалансированной выборке. Лучшие показатели были у модели случайного леса;\n",
    "\n",
    "- было принято решение продолжать улучшение модели RandomForestClassifier путем подбора параметров через цикл. Улучшение метрик зафиксировано при глубине - 15 и кол-ве деревьев - 100;\n",
    "\n",
    "- при проверке финальной модели на адекватность с помощью сравнения метрик с метриками константной модели была подтверждена адекватность финальной модели."
   ]
  },
  {
   "cell_type": "markdown",
   "metadata": {},
   "source": [
    "## Тестирование модели"
   ]
  },
  {
   "cell_type": "code",
   "execution_count": 123,
   "metadata": {},
   "outputs": [
    {
     "name": "stdout",
     "output_type": "stream",
     "text": [
      "Accuracy 0.8492849284928493\n",
      "Recall 0.5809018567639257\n",
      "Precision 0.6537313432835821\n",
      "F1-мера 0.6151685393258427\n",
      "AUC-ROC 0.7502011018725944\n",
      "None\n"
     ]
    }
   ],
   "source": [
    "# найдем предсказания для тестовой выборки\n",
    "predictions_test = model.predict(features_test) \n",
    "# проверим основные метрики\n",
    "print(rec_prec_f1(target_test, predictions_test))"
   ]
  },
  {
   "cell_type": "code",
   "execution_count": 124,
   "metadata": {},
   "outputs": [
    {
     "data": {
      "image/png": "[encoded data removed]",
      "text/plain": [
       "<Figure size 432x288 with 1 Axes>"
      ]
     },
     "metadata": {
      "needs_background": "light"
     },
     "output_type": "display_data"
    }
   ],
   "source": [
    "# построим roc-кривую\n",
    "probabilities = model.predict_proba(features_test)[:, 1]\n",
    "fpr, tpr, thresholds = roc_curve(target_test, probabilities)\n",
    "plt.figure()\n",
    "plt.plot(fpr, tpr)\n",
    "plt.plot([0, 1], [0, 1], linestyle='--')\n",
    "plt.xlim([0.0, 1.0])\n",
    "plt.ylim([0.0, 1.0])\n",
    "plt.xlabel('False Positive Rate')\n",
    "plt.ylabel('True Positive Rate')\n",
    "plt.title('ROC-кривая')\n",
    "plt.legend(['RandomForestClassifier roc curve', 'Constant model roc curve'])\n",
    "plt.show()"
   ]
  },
  {
   "cell_type": "markdown",
   "metadata": {},
   "source": [
    "## Итоговый вывод"
   ]
  },
  {
   "cell_type": "markdown",
   "metadata": {},
   "source": [
    "- Финальная достигла заданой метрики (F1 > 0.59) и показывает адекватные результаты (F1-мера = 0.615);\n",
    "- AUC-ROC = 0.75;\n",
    "- Данная модель может помочь маркетологам лучше определять клиентов, которые могут уйти в ближайшее время;\n",
    "- Для улучшения модели следует использовать данные, отражающие отношения клиента с банком в динамике."
   ]
  },
  {
   "cell_type": "markdown",
   "metadata": {},
   "source": [
    "### Сводная таблица по результатам\n",
    "\n",
    "|     Model Name    |              Sample Name            |Accuracy|Recall|Precision|F1-score|AUC-ROC|\n",
    "|:-----------------:|:-----------------------------------:|:------:|:----:|:-------:|:------:|:-----:|\n",
    "|    RandomForest   |Upsampled NaN dropped DF             |0.861462|0.5669|0.6655518|0.612307|0.74941|\n",
    "|    RandomForest   |Downsampled NaN dropped DF           |0.793293|0.7606|0.4776386|0.586813|0.78088|\n",
    "|    RandomForest   |Upsampled NaN rplcd with min. DF     |0.8425  |0.5177|0.6636363|0.581673|0.72367|\n",
    "|    RandomForest   |Downsampled NaN rplcd with min. DF   |0.797   |0.6997|0.5147826|0.593186|0.76142|\n",
    "|    RandomForest   |Upsampled NaN rplcd with median. DF  |0.8435  |0.5319|0.6617647|0.589777|0.72949|\n",
    "|    RandomForest   |Downsampled NaN rplcd with median DF |0.797   |0.6997|0.5147826|0.593186|0.76142|\n",
    "|    DecisionTree   |Upsampled NaN dropped DF             |0.788345|0.4843|0.4545454|0.468965|0.67268|\n",
    "|    DecisionTree   |Downsampled NaN dropped DF           |0.692688|0.6581|0.3447761|0.452497|0.67953|\n",
    "|    DecisionTree   |Upsampled NaN rplcd with min. DF     |0.7935  |0.4799|0.5126262|0.495726|0.67876|\n",
    "|    DecisionTree   |Downsampled NaN rplcd with min. DF   |0.6925  |0.6761|0.3743455|0.481887|0.68650|\n",
    "|    DecisionTree   |Upsampled NaN rplcd with median. DF  |0.787   |0.4680|0.4962406|0.481751|0.67031|\n",
    "|    DecisionTree   |Downsampled NaN rplcd with median DF |0.7045  |0.6903|0.3882978|0.497021|0.69930|\n",
    "|LogisticRegression |Upsampled NaN dropped DF             |0.720175|0.7150|0.3803030|0.496538|0.71824|\n",
    "|LogisticRegression |Downsampled NaN dropped DF           |0.741066|0.6381|0.3943661|0.487486|0.70192|\n",
    "|LogisticRegression |Upsampled NaN rplcd with min. DF     |0.6985  |0.6524|0.3770491|0.477922|0.68166|\n",
    "|LogisticRegression |Downsampled NaN rplcd with min. DF   |0.7225  |0.5933|0.3958990|0.474929|0.67525|\n",
    "|LogisticRegression |Upsampled NaN rplcd with median. DF  |0.6975  |0.6501|0.3756830|0.476190|0.68016|\n",
    "|LogisticRegression |Downsampled NaN rplcd with median DF |0.7225  |0.5933|0.3958990|0.474929|0.67525|"
   ]
  }
 ],
 "metadata": {
  "ExecuteTimeLog": [
   {
    "duration": 267,
    "start_time": "2022-02-14T10:29:48.114Z"
   },
   {
    "duration": 1200,
    "start_time": "2022-02-14T10:29:50.567Z"
   },
   {
    "duration": 30,
    "start_time": "2022-02-14T10:29:52.417Z"
   },
   {
    "duration": 17,
    "start_time": "2022-02-14T10:30:01.265Z"
   },
   {
    "duration": 10,
    "start_time": "2022-02-14T10:32:21.427Z"
   },
   {
    "duration": 4,
    "start_time": "2022-02-14T10:41:58.555Z"
   },
   {
    "duration": 9,
    "start_time": "2022-02-14T11:23:15.363Z"
   },
   {
    "duration": 23,
    "start_time": "2022-02-14T11:29:59.173Z"
   },
   {
    "duration": 18,
    "start_time": "2022-02-14T11:30:16.412Z"
   },
   {
    "duration": 19,
    "start_time": "2022-02-14T11:31:19.297Z"
   },
   {
    "duration": 5,
    "start_time": "2022-02-14T11:31:52.658Z"
   },
   {
    "duration": 5,
    "start_time": "2022-02-14T11:32:24.442Z"
   },
   {
    "duration": 16,
    "start_time": "2022-02-14T11:33:06.665Z"
   },
   {
    "duration": 14,
    "start_time": "2022-02-14T11:33:07.180Z"
   },
   {
    "duration": 13,
    "start_time": "2022-02-14T11:33:44.453Z"
   },
   {
    "duration": 12,
    "start_time": "2022-02-14T11:33:45.587Z"
   },
   {
    "duration": 11,
    "start_time": "2022-02-14T11:43:46.236Z"
   },
   {
    "duration": 8,
    "start_time": "2022-02-14T11:45:27.853Z"
   },
   {
    "duration": 289,
    "start_time": "2022-02-14T11:47:55.677Z"
   },
   {
    "duration": 69,
    "start_time": "2022-02-14T11:48:17.079Z"
   },
   {
    "duration": 67,
    "start_time": "2022-02-14T11:48:37.467Z"
   },
   {
    "duration": 76,
    "start_time": "2022-02-14T11:48:55.507Z"
   },
   {
    "duration": 5,
    "start_time": "2022-02-14T11:48:59.458Z"
   },
   {
    "duration": 64,
    "start_time": "2022-02-14T11:49:16.800Z"
   },
   {
    "duration": 4,
    "start_time": "2022-02-14T11:49:22.562Z"
   },
   {
    "duration": 1278,
    "start_time": "2022-02-14T20:25:44.866Z"
   },
   {
    "duration": 29,
    "start_time": "2022-02-14T20:25:47.584Z"
   },
   {
    "duration": 16,
    "start_time": "2022-02-14T20:25:47.888Z"
   },
   {
    "duration": 5,
    "start_time": "2022-02-14T20:25:48.650Z"
   },
   {
    "duration": 8,
    "start_time": "2022-02-14T20:25:49.360Z"
   },
   {
    "duration": 15,
    "start_time": "2022-02-14T20:25:50.261Z"
   },
   {
    "duration": 12,
    "start_time": "2022-02-14T20:25:51.074Z"
   },
   {
    "duration": 11,
    "start_time": "2022-02-14T20:25:57.519Z"
   },
   {
    "duration": 8,
    "start_time": "2022-02-14T20:25:59.014Z"
   },
   {
    "duration": 4,
    "start_time": "2022-02-14T20:25:59.084Z"
   },
   {
    "duration": 301,
    "start_time": "2022-02-14T20:25:59.645Z"
   },
   {
    "duration": 25,
    "start_time": "2022-02-14T20:29:54.633Z"
   },
   {
    "duration": 14,
    "start_time": "2022-02-14T20:29:55.465Z"
   },
   {
    "duration": 5,
    "start_time": "2022-02-14T20:29:56.313Z"
   },
   {
    "duration": 8,
    "start_time": "2022-02-14T20:29:56.762Z"
   },
   {
    "duration": 13,
    "start_time": "2022-02-14T20:29:57.121Z"
   },
   {
    "duration": 11,
    "start_time": "2022-02-14T20:29:57.319Z"
   },
   {
    "duration": 10,
    "start_time": "2022-02-14T20:29:57.909Z"
   },
   {
    "duration": 9,
    "start_time": "2022-02-14T20:29:59.493Z"
   },
   {
    "duration": 5,
    "start_time": "2022-02-14T20:29:59.818Z"
   },
   {
    "duration": 217,
    "start_time": "2022-02-14T20:30:00.967Z"
   },
   {
    "duration": 206,
    "start_time": "2022-02-14T20:30:28.733Z"
   },
   {
    "duration": 215,
    "start_time": "2022-02-14T20:31:24.915Z"
   },
   {
    "duration": 266,
    "start_time": "2022-02-14T20:32:06.144Z"
   },
   {
    "duration": 211,
    "start_time": "2022-02-14T20:33:18.246Z"
   },
   {
    "duration": 214,
    "start_time": "2022-02-14T20:34:00.458Z"
   },
   {
    "duration": 11,
    "start_time": "2022-02-14T20:34:39.792Z"
   },
   {
    "duration": 8,
    "start_time": "2022-02-14T20:35:08.705Z"
   },
   {
    "duration": 7,
    "start_time": "2022-02-14T20:35:27.584Z"
   },
   {
    "duration": 8,
    "start_time": "2022-02-14T20:35:38.276Z"
   },
   {
    "duration": 6,
    "start_time": "2022-02-14T20:42:03.200Z"
   },
   {
    "duration": 33,
    "start_time": "2022-02-14T20:48:17.504Z"
   },
   {
    "duration": 176,
    "start_time": "2022-02-16T20:23:53.392Z"
   },
   {
    "duration": 1121,
    "start_time": "2022-02-16T20:24:46.484Z"
   },
   {
    "duration": 25,
    "start_time": "2022-02-16T20:24:47.750Z"
   },
   {
    "duration": 16,
    "start_time": "2022-02-16T20:24:48.231Z"
   },
   {
    "duration": 5,
    "start_time": "2022-02-16T20:24:49.255Z"
   },
   {
    "duration": 8,
    "start_time": "2022-02-16T20:24:50.206Z"
   },
   {
    "duration": 14,
    "start_time": "2022-02-16T20:24:50.313Z"
   },
   {
    "duration": 12,
    "start_time": "2022-02-16T20:24:50.664Z"
   },
   {
    "duration": 10,
    "start_time": "2022-02-16T20:24:51.610Z"
   },
   {
    "duration": 8,
    "start_time": "2022-02-16T20:24:52.484Z"
   },
   {
    "duration": 4,
    "start_time": "2022-02-16T20:24:52.766Z"
   },
   {
    "duration": 12,
    "start_time": "2022-02-16T20:24:53.236Z"
   },
   {
    "duration": 4,
    "start_time": "2022-02-16T20:24:54.255Z"
   },
   {
    "duration": 23,
    "start_time": "2022-02-16T20:24:54.731Z"
   },
   {
    "duration": 196,
    "start_time": "2022-02-16T20:24:56.384Z"
   },
   {
    "duration": 134,
    "start_time": "2022-02-16T20:25:27.405Z"
   },
   {
    "duration": 132,
    "start_time": "2022-02-16T20:25:31.042Z"
   },
   {
    "duration": 13,
    "start_time": "2022-02-16T20:25:47.131Z"
   },
   {
    "duration": 16,
    "start_time": "2022-02-16T20:28:28.450Z"
   },
   {
    "duration": 44,
    "start_time": "2022-02-16T20:53:11.191Z"
   },
   {
    "duration": 128,
    "start_time": "2022-02-16T21:14:37.212Z"
   },
   {
    "duration": 91,
    "start_time": "2022-02-16T21:21:42.054Z"
   },
   {
    "duration": 4,
    "start_time": "2022-02-16T21:34:44.033Z"
   },
   {
    "duration": 4,
    "start_time": "2022-02-16T21:36:57.635Z"
   },
   {
    "duration": 4,
    "start_time": "2022-02-16T21:41:37.154Z"
   },
   {
    "duration": 4,
    "start_time": "2022-02-16T21:41:47.245Z"
   },
   {
    "duration": 3,
    "start_time": "2022-02-16T21:45:15.754Z"
   },
   {
    "duration": 31,
    "start_time": "2022-02-16T21:51:09.978Z"
   },
   {
    "duration": 4,
    "start_time": "2022-02-16T21:55:50.710Z"
   },
   {
    "duration": 1626,
    "start_time": "2022-02-17T13:22:20.061Z"
   },
   {
    "duration": 34,
    "start_time": "2022-02-17T13:22:21.740Z"
   },
   {
    "duration": 26,
    "start_time": "2022-02-17T13:22:22.664Z"
   },
   {
    "duration": 6,
    "start_time": "2022-02-17T13:22:23.976Z"
   },
   {
    "duration": 15,
    "start_time": "2022-02-17T13:22:24.850Z"
   },
   {
    "duration": 21,
    "start_time": "2022-02-17T13:22:25.840Z"
   },
   {
    "duration": 19,
    "start_time": "2022-02-17T13:22:26.442Z"
   },
   {
    "duration": 17,
    "start_time": "2022-02-17T13:22:28.108Z"
   },
   {
    "duration": 14,
    "start_time": "2022-02-17T13:22:30.232Z"
   },
   {
    "duration": 6,
    "start_time": "2022-02-17T13:22:31.173Z"
   },
   {
    "duration": 15,
    "start_time": "2022-02-17T13:22:33.028Z"
   },
   {
    "duration": 5,
    "start_time": "2022-02-17T13:22:35.794Z"
   },
   {
    "duration": 36,
    "start_time": "2022-02-17T13:22:37.545Z"
   },
   {
    "duration": 5,
    "start_time": "2022-02-17T13:22:38.925Z"
   },
   {
    "duration": 123,
    "start_time": "2022-02-17T13:25:00.027Z"
   },
   {
    "duration": 98,
    "start_time": "2022-02-17T13:25:45.512Z"
   },
   {
    "duration": 110,
    "start_time": "2022-02-17T13:26:40.213Z"
   },
   {
    "duration": 131,
    "start_time": "2022-02-17T13:28:24.875Z"
   },
   {
    "duration": 108,
    "start_time": "2022-02-17T13:29:14.651Z"
   },
   {
    "duration": 6,
    "start_time": "2022-02-17T13:29:46.545Z"
   },
   {
    "duration": 7,
    "start_time": "2022-02-17T13:29:58.034Z"
   },
   {
    "duration": 7,
    "start_time": "2022-02-17T13:30:07.562Z"
   },
   {
    "duration": 66,
    "start_time": "2022-02-17T13:32:20.360Z"
   },
   {
    "duration": 147,
    "start_time": "2022-02-17T13:37:00.944Z"
   },
   {
    "duration": 10,
    "start_time": "2022-02-17T13:43:24.582Z"
   },
   {
    "duration": 6,
    "start_time": "2022-02-17T14:12:06.059Z"
   },
   {
    "duration": 1034,
    "start_time": "2022-02-17T14:14:09.097Z"
   },
   {
    "duration": 1054,
    "start_time": "2022-02-17T14:16:15.995Z"
   },
   {
    "duration": 1069,
    "start_time": "2022-02-17T14:18:26.680Z"
   },
   {
    "duration": 461,
    "start_time": "2022-02-17T14:33:45.405Z"
   },
   {
    "duration": 7,
    "start_time": "2022-02-17T14:33:51.304Z"
   },
   {
    "duration": 3636,
    "start_time": "2022-02-17T14:33:52.200Z"
   },
   {
    "duration": 7,
    "start_time": "2022-02-17T14:34:26.240Z"
   },
   {
    "duration": 3509,
    "start_time": "2022-02-17T14:34:27.927Z"
   },
   {
    "duration": 1083,
    "start_time": "2022-02-17T14:35:24.842Z"
   },
   {
    "duration": 1217,
    "start_time": "2022-02-17T14:35:25.929Z"
   },
   {
    "duration": 1297,
    "start_time": "2022-02-17T14:35:27.229Z"
   },
   {
    "duration": 137,
    "start_time": "2022-02-17T14:37:04.581Z"
   },
   {
    "duration": 4,
    "start_time": "2022-02-17T14:45:00.171Z"
   },
   {
    "duration": 304,
    "start_time": "2022-02-17T14:45:40.676Z"
   },
   {
    "duration": 8,
    "start_time": "2022-02-17T14:45:55.175Z"
   },
   {
    "duration": 25,
    "start_time": "2022-02-17T14:51:27.311Z"
   },
   {
    "duration": 5,
    "start_time": "2022-02-17T14:54:17.123Z"
   },
   {
    "duration": 303,
    "start_time": "2022-02-17T14:54:19.484Z"
   },
   {
    "duration": 43,
    "start_time": "2022-02-17T14:54:39.080Z"
   },
   {
    "duration": 7,
    "start_time": "2022-02-17T14:56:20.282Z"
   },
   {
    "duration": 8,
    "start_time": "2022-02-17T14:59:03.527Z"
   },
   {
    "duration": 300,
    "start_time": "2022-02-17T14:59:06.024Z"
   },
   {
    "duration": 8,
    "start_time": "2022-02-17T14:59:12.367Z"
   },
   {
    "duration": 6,
    "start_time": "2022-02-17T15:04:22.668Z"
   },
   {
    "duration": 1768,
    "start_time": "2022-02-17T15:05:58.564Z"
   },
   {
    "duration": 40,
    "start_time": "2022-02-17T15:09:41.148Z"
   },
   {
    "duration": 7,
    "start_time": "2022-02-17T15:10:02.457Z"
   },
   {
    "duration": 39,
    "start_time": "2022-02-17T15:10:15.093Z"
   },
   {
    "duration": 8,
    "start_time": "2022-02-17T15:10:16.100Z"
   },
   {
    "duration": 39,
    "start_time": "2022-02-17T15:10:30.683Z"
   },
   {
    "duration": 7,
    "start_time": "2022-02-17T15:10:31.257Z"
   },
   {
    "duration": 50,
    "start_time": "2022-02-17T15:10:41.735Z"
   },
   {
    "duration": 8,
    "start_time": "2022-02-17T15:10:43.949Z"
   },
   {
    "duration": 54,
    "start_time": "2022-02-17T15:11:02.039Z"
   },
   {
    "duration": 10,
    "start_time": "2022-02-17T15:11:03.659Z"
   },
   {
    "duration": 37,
    "start_time": "2022-02-17T15:11:15.413Z"
   },
   {
    "duration": 8,
    "start_time": "2022-02-17T15:11:16.514Z"
   },
   {
    "duration": 39,
    "start_time": "2022-02-17T15:11:24.994Z"
   },
   {
    "duration": 8,
    "start_time": "2022-02-17T15:11:25.617Z"
   },
   {
    "duration": 39,
    "start_time": "2022-02-17T15:11:36.318Z"
   },
   {
    "duration": 8,
    "start_time": "2022-02-17T15:11:37.011Z"
   },
   {
    "duration": 11,
    "start_time": "2022-02-17T15:12:22.279Z"
   },
   {
    "duration": 7,
    "start_time": "2022-02-17T15:12:23.496Z"
   },
   {
    "duration": 99,
    "start_time": "2022-02-17T15:13:08.640Z"
   },
   {
    "duration": 1241,
    "start_time": "2022-02-17T17:28:53.846Z"
   },
   {
    "duration": 36,
    "start_time": "2022-02-17T17:28:55.089Z"
   },
   {
    "duration": 20,
    "start_time": "2022-02-17T17:28:55.128Z"
   },
   {
    "duration": 6,
    "start_time": "2022-02-17T17:28:55.433Z"
   },
   {
    "duration": 9,
    "start_time": "2022-02-17T17:28:55.931Z"
   },
   {
    "duration": 15,
    "start_time": "2022-02-17T17:28:56.407Z"
   },
   {
    "duration": 14,
    "start_time": "2022-02-17T17:28:56.659Z"
   },
   {
    "duration": 9,
    "start_time": "2022-02-17T17:28:57.732Z"
   },
   {
    "duration": 10,
    "start_time": "2022-02-17T17:28:58.431Z"
   },
   {
    "duration": 4,
    "start_time": "2022-02-17T17:28:58.689Z"
   },
   {
    "duration": 12,
    "start_time": "2022-02-17T17:28:59.212Z"
   },
   {
    "duration": 5,
    "start_time": "2022-02-17T17:29:00.035Z"
   },
   {
    "duration": 30,
    "start_time": "2022-02-17T17:29:00.296Z"
   },
   {
    "duration": 5,
    "start_time": "2022-02-17T17:29:00.552Z"
   },
   {
    "duration": 43,
    "start_time": "2022-02-17T17:29:01.038Z"
   },
   {
    "duration": 67,
    "start_time": "2022-02-17T17:29:01.770Z"
   },
   {
    "duration": 4,
    "start_time": "2022-02-17T17:29:20.355Z"
   },
   {
    "duration": 929,
    "start_time": "2022-02-17T17:29:21.204Z"
   },
   {
    "duration": 989,
    "start_time": "2022-02-17T17:29:22.861Z"
   },
   {
    "duration": 1197,
    "start_time": "2022-02-17T17:29:23.926Z"
   },
   {
    "duration": 5,
    "start_time": "2022-02-17T17:29:26.653Z"
   },
   {
    "duration": 743,
    "start_time": "2022-02-17T17:29:27.490Z"
   },
   {
    "duration": 799,
    "start_time": "2022-02-17T17:29:28.439Z"
   },
   {
    "duration": 1019,
    "start_time": "2022-02-17T17:29:29.712Z"
   },
   {
    "duration": 102,
    "start_time": "2022-02-17T17:29:30.821Z"
   },
   {
    "duration": 18,
    "start_time": "2022-02-17T17:29:33.988Z"
   },
   {
    "duration": 4,
    "start_time": "2022-02-17T17:29:45.482Z"
   },
   {
    "duration": 29,
    "start_time": "2022-02-17T17:29:46.046Z"
   },
   {
    "duration": 7,
    "start_time": "2022-02-17T17:29:46.910Z"
   },
   {
    "duration": 5,
    "start_time": "2022-02-17T17:29:47.498Z"
   },
   {
    "duration": 6,
    "start_time": "2022-02-17T17:29:47.811Z"
   },
   {
    "duration": 5,
    "start_time": "2022-02-17T17:29:50.709Z"
   },
   {
    "duration": 25,
    "start_time": "2022-02-17T17:29:50.982Z"
   },
   {
    "duration": 6,
    "start_time": "2022-02-17T17:29:51.275Z"
   },
   {
    "duration": 5,
    "start_time": "2022-02-17T17:29:51.554Z"
   },
   {
    "duration": 6,
    "start_time": "2022-02-17T17:29:51.777Z"
   },
   {
    "duration": 4,
    "start_time": "2022-02-17T17:46:00.814Z"
   },
   {
    "duration": 313,
    "start_time": "2022-02-17T17:56:34.761Z"
   },
   {
    "duration": 6,
    "start_time": "2022-02-17T18:05:44.491Z"
   },
   {
    "duration": 78,
    "start_time": "2022-02-17T18:15:10.530Z"
   },
   {
    "duration": 71,
    "start_time": "2022-02-17T18:15:23.164Z"
   },
   {
    "duration": 82,
    "start_time": "2022-02-17T18:15:48.989Z"
   },
   {
    "duration": 68,
    "start_time": "2022-02-17T18:16:19.838Z"
   },
   {
    "duration": 72,
    "start_time": "2022-02-17T18:23:33.561Z"
   },
   {
    "duration": 68,
    "start_time": "2022-02-17T18:23:44.007Z"
   },
   {
    "duration": 82,
    "start_time": "2022-02-17T18:24:39.215Z"
   },
   {
    "duration": 284,
    "start_time": "2022-02-17T18:24:48.311Z"
   },
   {
    "duration": 327,
    "start_time": "2022-02-17T18:24:59.468Z"
   },
   {
    "duration": 321,
    "start_time": "2022-02-17T18:26:18.018Z"
   },
   {
    "duration": 2209,
    "start_time": "2022-02-17T18:30:49.652Z"
   },
   {
    "duration": 32,
    "start_time": "2022-02-17T18:30:57.289Z"
   },
   {
    "duration": 25,
    "start_time": "2022-02-17T18:31:48.163Z"
   },
   {
    "duration": 25,
    "start_time": "2022-02-17T18:35:02.055Z"
   },
   {
    "duration": 27,
    "start_time": "2022-02-17T18:38:36.846Z"
   },
   {
    "duration": 216,
    "start_time": "2022-02-17T18:38:59.646Z"
   },
   {
    "duration": 29,
    "start_time": "2022-02-17T18:39:08.512Z"
   },
   {
    "duration": 28,
    "start_time": "2022-02-17T18:39:52.058Z"
   },
   {
    "duration": 32,
    "start_time": "2022-02-17T18:40:00.811Z"
   },
   {
    "duration": 29,
    "start_time": "2022-02-17T18:40:39.207Z"
   },
   {
    "duration": 4,
    "start_time": "2022-02-17T18:42:46.177Z"
   },
   {
    "duration": 2233,
    "start_time": "2022-02-17T18:42:46.989Z"
   },
   {
    "duration": 197,
    "start_time": "2022-02-17T18:42:49.225Z"
   },
   {
    "duration": 4,
    "start_time": "2022-02-17T19:03:54.363Z"
   },
   {
    "duration": 234,
    "start_time": "2022-02-17T19:07:46.823Z"
   },
   {
    "duration": 5,
    "start_time": "2022-02-17T19:08:43.071Z"
   },
   {
    "duration": 29,
    "start_time": "2022-02-17T19:08:45.077Z"
   },
   {
    "duration": 65,
    "start_time": "2022-02-17T19:13:32.761Z"
   },
   {
    "duration": 73,
    "start_time": "2022-02-17T19:16:09.362Z"
   },
   {
    "duration": 377,
    "start_time": "2022-02-17T19:16:14.798Z"
   },
   {
    "duration": 61,
    "start_time": "2022-02-17T19:16:47.907Z"
   },
   {
    "duration": 49,
    "start_time": "2022-02-17T19:16:53.772Z"
   },
   {
    "duration": 3,
    "start_time": "2022-02-17T19:17:21.389Z"
   },
   {
    "duration": 50,
    "start_time": "2022-02-17T19:17:21.639Z"
   },
   {
    "duration": 48,
    "start_time": "2022-02-17T19:18:19.507Z"
   },
   {
    "duration": 24,
    "start_time": "2022-02-17T19:20:56.700Z"
   },
   {
    "duration": 51,
    "start_time": "2022-02-17T19:29:07.891Z"
   },
   {
    "duration": 1890,
    "start_time": "2022-02-17T19:29:09.535Z"
   },
   {
    "duration": 262,
    "start_time": "2022-02-17T19:29:32.102Z"
   },
   {
    "duration": 378,
    "start_time": "2022-02-17T19:29:49.124Z"
   },
   {
    "duration": 52,
    "start_time": "2022-02-17T19:29:56.701Z"
   },
   {
    "duration": 238,
    "start_time": "2022-02-17T19:30:21.279Z"
   },
   {
    "duration": 27,
    "start_time": "2022-02-17T19:30:34.663Z"
   },
   {
    "duration": 217,
    "start_time": "2022-02-17T19:35:30.277Z"
   },
   {
    "duration": 254,
    "start_time": "2022-02-17T19:35:53.917Z"
   },
   {
    "duration": 217,
    "start_time": "2022-02-17T19:36:19.059Z"
   },
   {
    "duration": 232,
    "start_time": "2022-02-17T19:36:48.877Z"
   },
   {
    "duration": 969,
    "start_time": "2022-02-17T19:36:57.420Z"
   },
   {
    "duration": 23,
    "start_time": "2022-02-17T19:37:17.664Z"
   },
   {
    "duration": 65,
    "start_time": "2022-02-17T19:40:16.806Z"
   },
   {
    "duration": 24,
    "start_time": "2022-02-17T19:40:19.334Z"
   },
   {
    "duration": 938,
    "start_time": "2022-02-17T19:43:44.699Z"
   },
   {
    "duration": 341,
    "start_time": "2022-02-17T19:43:50.367Z"
   },
   {
    "duration": 1011,
    "start_time": "2022-02-17T19:44:56.123Z"
   },
   {
    "duration": 392,
    "start_time": "2022-02-17T19:46:07.308Z"
   },
   {
    "duration": 966,
    "start_time": "2022-02-17T19:55:25.498Z"
   },
   {
    "duration": 1221,
    "start_time": "2022-02-17T19:55:30.699Z"
   },
   {
    "duration": 4215,
    "start_time": "2022-02-17T19:55:37.953Z"
   },
   {
    "duration": 8432,
    "start_time": "2022-02-17T19:55:42.171Z"
   },
   {
    "duration": 1784,
    "start_time": "2022-02-17T19:55:50.606Z"
   },
   {
    "duration": 379,
    "start_time": "2022-02-17T19:55:52.392Z"
   },
   {
    "duration": 3,
    "start_time": "2022-02-17T19:55:52.773Z"
   },
   {
    "duration": 246,
    "start_time": "2022-02-17T19:55:52.778Z"
   },
   {
    "duration": -276,
    "start_time": "2022-02-17T19:55:53.302Z"
   },
   {
    "duration": -291,
    "start_time": "2022-02-17T19:55:53.318Z"
   },
   {
    "duration": -307,
    "start_time": "2022-02-17T19:55:53.335Z"
   },
   {
    "duration": -317,
    "start_time": "2022-02-17T19:55:53.346Z"
   },
   {
    "duration": -327,
    "start_time": "2022-02-17T19:55:53.357Z"
   },
   {
    "duration": -335,
    "start_time": "2022-02-17T19:55:53.366Z"
   },
   {
    "duration": 199,
    "start_time": "2022-02-17T19:56:15.620Z"
   },
   {
    "duration": 18,
    "start_time": "2022-02-17T19:56:24.242Z"
   },
   {
    "duration": 180,
    "start_time": "2022-02-17T19:56:33.940Z"
   },
   {
    "duration": 8880,
    "start_time": "2022-02-17T19:56:36.042Z"
   },
   {
    "duration": 14100,
    "start_time": "2022-02-17T19:56:44.927Z"
   },
   {
    "duration": 2297,
    "start_time": "2022-02-17T19:56:59.029Z"
   },
   {
    "duration": 380,
    "start_time": "2022-02-17T20:19:34.999Z"
   },
   {
    "duration": 1532,
    "start_time": "2022-02-17T20:19:38.956Z"
   },
   {
    "duration": 39,
    "start_time": "2022-02-17T20:19:40.491Z"
   },
   {
    "duration": 26,
    "start_time": "2022-02-17T20:19:42.314Z"
   },
   {
    "duration": 6,
    "start_time": "2022-02-17T20:19:48.167Z"
   },
   {
    "duration": 12,
    "start_time": "2022-02-17T20:19:51.177Z"
   },
   {
    "duration": 21,
    "start_time": "2022-02-17T20:19:57.482Z"
   },
   {
    "duration": 19,
    "start_time": "2022-02-17T20:20:13.868Z"
   },
   {
    "duration": 15,
    "start_time": "2022-02-17T20:20:20.107Z"
   },
   {
    "duration": 16,
    "start_time": "2022-02-17T20:20:22.020Z"
   },
   {
    "duration": 5,
    "start_time": "2022-02-17T20:20:22.741Z"
   },
   {
    "duration": 15,
    "start_time": "2022-02-17T20:20:23.223Z"
   },
   {
    "duration": 6,
    "start_time": "2022-02-17T20:20:25.527Z"
   },
   {
    "duration": 33,
    "start_time": "2022-02-17T20:20:26.061Z"
   },
   {
    "duration": 6,
    "start_time": "2022-02-17T20:20:26.686Z"
   },
   {
    "duration": 69,
    "start_time": "2022-02-17T20:20:27.678Z"
   },
   {
    "duration": 125,
    "start_time": "2022-02-17T20:20:29.099Z"
   },
   {
    "duration": 6,
    "start_time": "2022-02-17T20:20:30.763Z"
   },
   {
    "duration": 985,
    "start_time": "2022-02-17T20:20:31.534Z"
   },
   {
    "duration": 1152,
    "start_time": "2022-02-17T20:20:32.614Z"
   },
   {
    "duration": 1153,
    "start_time": "2022-02-17T20:20:33.813Z"
   },
   {
    "duration": 7,
    "start_time": "2022-02-17T20:20:35.644Z"
   },
   {
    "duration": 991,
    "start_time": "2022-02-17T20:20:36.221Z"
   },
   {
    "duration": 1395,
    "start_time": "2022-02-17T20:20:37.216Z"
   },
   {
    "duration": 1062,
    "start_time": "2022-02-17T20:20:38.853Z"
   },
   {
    "duration": 8,
    "start_time": "2022-02-17T20:20:48.498Z"
   },
   {
    "duration": 25,
    "start_time": "2022-02-17T20:20:53.352Z"
   },
   {
    "duration": 5,
    "start_time": "2022-02-17T20:21:06.295Z"
   },
   {
    "duration": 97,
    "start_time": "2022-02-17T20:21:07.660Z"
   },
   {
    "duration": 7,
    "start_time": "2022-02-17T20:21:08.952Z"
   },
   {
    "duration": 8,
    "start_time": "2022-02-17T20:21:10.296Z"
   },
   {
    "duration": 8,
    "start_time": "2022-02-17T20:21:10.713Z"
   },
   {
    "duration": 7,
    "start_time": "2022-02-17T20:21:14.223Z"
   },
   {
    "duration": 111,
    "start_time": "2022-02-17T20:21:14.233Z"
   },
   {
    "duration": 8,
    "start_time": "2022-02-17T20:21:14.347Z"
   },
   {
    "duration": 8,
    "start_time": "2022-02-17T20:21:14.724Z"
   },
   {
    "duration": 9,
    "start_time": "2022-02-17T20:21:15.338Z"
   },
   {
    "duration": 5,
    "start_time": "2022-02-17T20:21:17.203Z"
   },
   {
    "duration": 66,
    "start_time": "2022-02-17T20:21:19.943Z"
   },
   {
    "duration": 35,
    "start_time": "2022-02-17T20:21:20.552Z"
   },
   {
    "duration": 74,
    "start_time": "2022-02-17T20:21:21.716Z"
   },
   {
    "duration": 36,
    "start_time": "2022-02-17T20:21:23.212Z"
   },
   {
    "duration": 72,
    "start_time": "2022-02-17T20:21:24.411Z"
   },
   {
    "duration": 33,
    "start_time": "2022-02-17T20:21:25.650Z"
   },
   {
    "duration": 1356,
    "start_time": "2022-02-17T20:21:28.326Z"
   },
   {
    "duration": 540,
    "start_time": "2022-02-17T20:21:29.684Z"
   },
   {
    "duration": 1488,
    "start_time": "2022-02-17T20:21:34.136Z"
   },
   {
    "duration": 525,
    "start_time": "2022-02-17T20:21:35.627Z"
   },
   {
    "duration": 1466,
    "start_time": "2022-02-17T20:21:36.155Z"
   },
   {
    "duration": 707,
    "start_time": "2022-02-17T20:21:37.623Z"
   },
   {
    "duration": 184,
    "start_time": "2022-02-17T20:21:38.334Z"
   },
   {
    "duration": 27,
    "start_time": "2022-02-17T20:21:38.521Z"
   },
   {
    "duration": 88,
    "start_time": "2022-02-17T20:21:39.433Z"
   },
   {
    "duration": 199,
    "start_time": "2022-02-17T20:21:39.613Z"
   },
   {
    "duration": 106,
    "start_time": "2022-02-17T20:21:40.914Z"
   },
   {
    "duration": 86,
    "start_time": "2022-02-17T20:21:41.632Z"
   },
   {
    "duration": 431,
    "start_time": "2022-02-17T20:26:02.027Z"
   },
   {
    "duration": 1228,
    "start_time": "2022-02-17T20:26:32.017Z"
   },
   {
    "duration": 319,
    "start_time": "2022-02-17T20:27:47.541Z"
   },
   {
    "duration": 198,
    "start_time": "2022-02-17T20:28:02.862Z"
   },
   {
    "duration": 312,
    "start_time": "2022-02-17T20:28:11.171Z"
   },
   {
    "duration": 466,
    "start_time": "2022-02-17T20:28:25.192Z"
   },
   {
    "duration": 5854,
    "start_time": "2022-02-17T20:28:40.981Z"
   },
   {
    "duration": 480,
    "start_time": "2022-02-17T20:28:56.711Z"
   },
   {
    "duration": 2131,
    "start_time": "2022-02-17T20:35:40.377Z"
   },
   {
    "duration": 660,
    "start_time": "2022-02-17T20:36:26.107Z"
   },
   {
    "duration": 5779,
    "start_time": "2022-02-17T20:38:57.756Z"
   },
   {
    "duration": 17,
    "start_time": "2022-02-17T20:40:28.800Z"
   },
   {
    "duration": 39,
    "start_time": "2022-02-17T20:40:30.948Z"
   },
   {
    "duration": 20,
    "start_time": "2022-02-17T20:40:31.446Z"
   },
   {
    "duration": 5,
    "start_time": "2022-02-17T20:40:32.086Z"
   },
   {
    "duration": 10,
    "start_time": "2022-02-17T20:40:32.510Z"
   },
   {
    "duration": 20,
    "start_time": "2022-02-17T20:40:32.912Z"
   },
   {
    "duration": 24,
    "start_time": "2022-02-17T20:40:33.135Z"
   },
   {
    "duration": 14,
    "start_time": "2022-02-17T20:40:33.722Z"
   },
   {
    "duration": 12,
    "start_time": "2022-02-17T20:40:34.491Z"
   },
   {
    "duration": 6,
    "start_time": "2022-02-17T20:40:34.770Z"
   },
   {
    "duration": 14,
    "start_time": "2022-02-17T20:40:35.548Z"
   },
   {
    "duration": 5,
    "start_time": "2022-02-17T20:40:36.399Z"
   },
   {
    "duration": 29,
    "start_time": "2022-02-17T20:40:36.411Z"
   },
   {
    "duration": 6,
    "start_time": "2022-02-17T20:40:36.443Z"
   },
   {
    "duration": 68,
    "start_time": "2022-02-17T20:40:37.480Z"
   },
   {
    "duration": 101,
    "start_time": "2022-02-17T20:40:37.551Z"
   },
   {
    "duration": 6,
    "start_time": "2022-02-17T20:40:37.827Z"
   },
   {
    "duration": 992,
    "start_time": "2022-02-17T20:40:38.029Z"
   },
   {
    "duration": 1206,
    "start_time": "2022-02-17T20:40:39.113Z"
   },
   {
    "duration": 1256,
    "start_time": "2022-02-17T20:40:40.324Z"
   },
   {
    "duration": 7,
    "start_time": "2022-02-17T20:40:41.612Z"
   },
   {
    "duration": 1111,
    "start_time": "2022-02-17T20:40:41.621Z"
   },
   {
    "duration": 1298,
    "start_time": "2022-02-17T20:40:42.813Z"
   },
   {
    "duration": 1204,
    "start_time": "2022-02-17T20:40:44.114Z"
   },
   {
    "duration": 99,
    "start_time": "2022-02-17T20:40:45.412Z"
   },
   {
    "duration": 25,
    "start_time": "2022-02-17T20:40:45.514Z"
   },
   {
    "duration": 6,
    "start_time": "2022-02-17T20:40:45.542Z"
   },
   {
    "duration": 129,
    "start_time": "2022-02-17T20:40:45.551Z"
   },
   {
    "duration": 7,
    "start_time": "2022-02-17T20:40:45.682Z"
   },
   {
    "duration": 21,
    "start_time": "2022-02-17T20:40:45.691Z"
   },
   {
    "duration": 7,
    "start_time": "2022-02-17T20:40:45.714Z"
   },
   {
    "duration": 6,
    "start_time": "2022-02-17T20:40:45.724Z"
   },
   {
    "duration": 95,
    "start_time": "2022-02-17T20:40:45.861Z"
   },
   {
    "duration": 8,
    "start_time": "2022-02-17T20:40:46.215Z"
   },
   {
    "duration": 8,
    "start_time": "2022-02-17T20:40:46.500Z"
   },
   {
    "duration": 7,
    "start_time": "2022-02-17T20:40:46.791Z"
   },
   {
    "duration": 5,
    "start_time": "2022-02-17T20:40:47.635Z"
   },
   {
    "duration": 67,
    "start_time": "2022-02-17T20:40:48.473Z"
   },
   {
    "duration": 32,
    "start_time": "2022-02-17T20:40:48.653Z"
   },
   {
    "duration": 67,
    "start_time": "2022-02-17T20:40:49.334Z"
   },
   {
    "duration": 35,
    "start_time": "2022-02-17T20:40:49.580Z"
   },
   {
    "duration": 67,
    "start_time": "2022-02-17T20:40:50.089Z"
   },
   {
    "duration": 33,
    "start_time": "2022-02-17T20:40:50.283Z"
   },
   {
    "duration": 1338,
    "start_time": "2022-02-17T20:40:51.531Z"
   },
   {
    "duration": 505,
    "start_time": "2022-02-17T20:40:52.872Z"
   },
   {
    "duration": 1494,
    "start_time": "2022-02-17T20:40:53.379Z"
   },
   {
    "duration": 645,
    "start_time": "2022-02-17T20:40:54.876Z"
   },
   {
    "duration": 1502,
    "start_time": "2022-02-17T20:40:55.523Z"
   },
   {
    "duration": 566,
    "start_time": "2022-02-17T20:40:57.028Z"
   },
   {
    "duration": 215,
    "start_time": "2022-02-17T20:40:57.597Z"
   },
   {
    "duration": 27,
    "start_time": "2022-02-17T20:40:57.814Z"
   },
   {
    "duration": 183,
    "start_time": "2022-02-17T20:40:57.844Z"
   },
   {
    "duration": 199,
    "start_time": "2022-02-17T20:40:58.111Z"
   },
   {
    "duration": 105,
    "start_time": "2022-02-17T20:40:58.314Z"
   },
   {
    "duration": 198,
    "start_time": "2022-02-17T20:40:58.423Z"
   },
   {
    "duration": 48,
    "start_time": "2022-02-17T20:41:56.821Z"
   },
   {
    "duration": 10695,
    "start_time": "2022-02-17T20:44:20.960Z"
   },
   {
    "duration": 7429,
    "start_time": "2022-02-17T20:47:07.147Z"
   },
   {
    "duration": 14989,
    "start_time": "2022-02-17T20:48:11.115Z"
   },
   {
    "duration": 10166,
    "start_time": "2022-02-17T20:56:33.204Z"
   },
   {
    "duration": 70,
    "start_time": "2022-02-17T20:56:57.473Z"
   },
   {
    "duration": 6122,
    "start_time": "2022-02-17T21:03:22.236Z"
   },
   {
    "duration": 91,
    "start_time": "2022-02-17T21:03:28.361Z"
   },
   {
    "duration": 10444,
    "start_time": "2022-02-17T21:03:28.456Z"
   },
   {
    "duration": 74,
    "start_time": "2022-02-17T21:03:38.902Z"
   },
   {
    "duration": 121,
    "start_time": "2022-02-17T21:04:50.096Z"
   },
   {
    "duration": 542,
    "start_time": "2022-02-17T21:05:07.242Z"
   },
   {
    "duration": 55,
    "start_time": "2022-02-17T21:05:15.842Z"
   },
   {
    "duration": 872,
    "start_time": "2022-02-17T21:06:01.367Z"
   },
   {
    "duration": 66,
    "start_time": "2022-02-17T21:06:11.227Z"
   },
   {
    "duration": 9,
    "start_time": "2022-02-17T21:11:35.022Z"
   },
   {
    "duration": 419,
    "start_time": "2022-02-17T21:12:42.332Z"
   },
   {
    "duration": 16,
    "start_time": "2022-02-17T21:13:13.409Z"
   },
   {
    "duration": 46,
    "start_time": "2022-02-17T21:16:45.046Z"
   },
   {
    "duration": 530,
    "start_time": "2022-02-17T21:23:03.334Z"
   },
   {
    "duration": 309,
    "start_time": "2022-02-17T21:30:26.325Z"
   },
   {
    "duration": 304,
    "start_time": "2022-02-17T21:33:31.278Z"
   },
   {
    "duration": 627,
    "start_time": "2022-02-17T21:33:51.207Z"
   },
   {
    "duration": 300,
    "start_time": "2022-02-17T21:34:12.838Z"
   },
   {
    "duration": 731,
    "start_time": "2022-02-17T21:36:28.283Z"
   },
   {
    "duration": 319,
    "start_time": "2022-02-17T21:36:38.077Z"
   },
   {
    "duration": 330,
    "start_time": "2022-02-17T21:38:00.771Z"
   },
   {
    "duration": 1122,
    "start_time": "2022-02-17T22:13:49.797Z"
   },
   {
    "duration": 1060,
    "start_time": "2022-02-17T22:15:14.965Z"
   },
   {
    "duration": 1266,
    "start_time": "2022-02-17T22:15:37.164Z"
   },
   {
    "duration": 1169,
    "start_time": "2022-02-17T22:15:49.443Z"
   },
   {
    "duration": 3,
    "start_time": "2022-02-17T22:16:01.907Z"
   },
   {
    "duration": 1205,
    "start_time": "2022-02-18T12:57:29.444Z"
   },
   {
    "duration": 28,
    "start_time": "2022-02-18T12:57:32.663Z"
   },
   {
    "duration": 16,
    "start_time": "2022-02-18T12:57:33.335Z"
   },
   {
    "duration": 4,
    "start_time": "2022-02-18T12:58:10.446Z"
   },
   {
    "duration": 8,
    "start_time": "2022-02-18T12:58:30.764Z"
   },
   {
    "duration": 13,
    "start_time": "2022-02-18T12:58:33.246Z"
   },
   {
    "duration": 11,
    "start_time": "2022-02-18T12:58:33.682Z"
   },
   {
    "duration": 12,
    "start_time": "2022-02-18T12:58:58.788Z"
   },
   {
    "duration": 9,
    "start_time": "2022-02-18T12:59:01.581Z"
   },
   {
    "duration": 5,
    "start_time": "2022-02-18T12:59:08.816Z"
   },
   {
    "duration": 10,
    "start_time": "2022-02-18T12:59:50.272Z"
   },
   {
    "duration": 4,
    "start_time": "2022-02-18T12:59:54.329Z"
   },
   {
    "duration": 23,
    "start_time": "2022-02-18T12:59:57.906Z"
   },
   {
    "duration": 4,
    "start_time": "2022-02-18T13:00:01.780Z"
   },
   {
    "duration": 38,
    "start_time": "2022-02-18T13:00:28.269Z"
   },
   {
    "duration": 56,
    "start_time": "2022-02-18T13:00:40.978Z"
   },
   {
    "duration": 4,
    "start_time": "2022-02-18T13:01:05.139Z"
   },
   {
    "duration": 621,
    "start_time": "2022-02-18T13:01:10.453Z"
   },
   {
    "duration": 690,
    "start_time": "2022-02-18T13:01:14.160Z"
   },
   {
    "duration": 793,
    "start_time": "2022-02-18T13:01:14.854Z"
   },
   {
    "duration": 926,
    "start_time": "2022-02-18T13:02:25.230Z"
   },
   {
    "duration": 4,
    "start_time": "2022-02-18T13:02:57.211Z"
   },
   {
    "duration": 625,
    "start_time": "2022-02-18T13:02:57.828Z"
   },
   {
    "duration": 716,
    "start_time": "2022-02-18T13:02:58.732Z"
   },
   {
    "duration": 685,
    "start_time": "2022-02-18T13:03:00.097Z"
   },
   {
    "duration": 7,
    "start_time": "2022-02-18T13:03:01.356Z"
   },
   {
    "duration": 16,
    "start_time": "2022-02-18T13:04:08.440Z"
   },
   {
    "duration": 3,
    "start_time": "2022-02-18T13:04:42.421Z"
   },
   {
    "duration": 498,
    "start_time": "2022-02-18T13:06:49.453Z"
   },
   {
    "duration": 65,
    "start_time": "2022-02-18T13:06:54.830Z"
   },
   {
    "duration": 5,
    "start_time": "2022-02-18T13:06:56.142Z"
   },
   {
    "duration": 5,
    "start_time": "2022-02-18T13:06:56.824Z"
   },
   {
    "duration": 6,
    "start_time": "2022-02-18T13:06:57.233Z"
   },
   {
    "duration": 3,
    "start_time": "2022-02-18T13:07:02.229Z"
   },
   {
    "duration": 58,
    "start_time": "2022-02-18T13:07:03.638Z"
   },
   {
    "duration": 5,
    "start_time": "2022-02-18T13:07:12.389Z"
   },
   {
    "duration": 6,
    "start_time": "2022-02-18T13:07:12.844Z"
   },
   {
    "duration": 5,
    "start_time": "2022-02-18T13:07:13.133Z"
   },
   {
    "duration": 3,
    "start_time": "2022-02-18T13:07:27.790Z"
   },
   {
    "duration": 44,
    "start_time": "2022-02-18T13:07:36.466Z"
   },
   {
    "duration": 23,
    "start_time": "2022-02-18T13:07:38.436Z"
   },
   {
    "duration": 55,
    "start_time": "2022-02-18T13:07:48.416Z"
   },
   {
    "duration": 24,
    "start_time": "2022-02-18T13:07:49.614Z"
   },
   {
    "duration": 52,
    "start_time": "2022-02-18T13:07:50.567Z"
   },
   {
    "duration": 23,
    "start_time": "2022-02-18T13:07:51.058Z"
   },
   {
    "duration": 817,
    "start_time": "2022-02-18T13:07:52.557Z"
   },
   {
    "duration": 313,
    "start_time": "2022-02-18T13:07:53.375Z"
   },
   {
    "duration": 911,
    "start_time": "2022-02-18T13:07:53.690Z"
   },
   {
    "duration": 338,
    "start_time": "2022-02-18T13:07:54.602Z"
   },
   {
    "duration": 949,
    "start_time": "2022-02-18T13:07:54.945Z"
   },
   {
    "duration": 326,
    "start_time": "2022-02-18T13:07:55.896Z"
   },
   {
    "duration": 37,
    "start_time": "2022-02-18T13:07:56.223Z"
   },
   {
    "duration": 104,
    "start_time": "2022-02-18T13:07:56.347Z"
   },
   {
    "duration": 92,
    "start_time": "2022-02-18T13:07:56.663Z"
   },
   {
    "duration": 99,
    "start_time": "2022-02-18T13:07:56.847Z"
   },
   {
    "duration": 58,
    "start_time": "2022-02-18T13:07:57.195Z"
   },
   {
    "duration": 60,
    "start_time": "2022-02-18T13:07:57.387Z"
   },
   {
    "duration": 3809,
    "start_time": "2022-02-18T13:07:58.364Z"
   },
   {
    "duration": 449,
    "start_time": "2022-02-18T13:08:02.175Z"
   },
   {
    "duration": 41,
    "start_time": "2022-02-18T13:08:02.626Z"
   },
   {
    "duration": 6266,
    "start_time": "2022-02-18T13:08:02.669Z"
   },
   {
    "duration": 613,
    "start_time": "2022-02-18T13:08:08.937Z"
   },
   {
    "duration": 45,
    "start_time": "2022-02-18T13:08:09.551Z"
   },
   {
    "duration": 9,
    "start_time": "2022-02-18T13:08:09.598Z"
   },
   {
    "duration": 51,
    "start_time": "2022-02-18T13:08:09.610Z"
   },
   {
    "duration": 241,
    "start_time": "2022-02-18T13:08:09.662Z"
   },
   {
    "duration": 130,
    "start_time": "2022-02-21T18:50:17.495Z"
   },
   {
    "duration": 112,
    "start_time": "2022-02-21T18:51:15.134Z"
   },
   {
    "duration": 132,
    "start_time": "2022-02-21T18:57:41.113Z"
   },
   {
    "duration": 380,
    "start_time": "2022-02-21T18:58:19.821Z"
   },
   {
    "duration": 1513,
    "start_time": "2022-02-21T18:58:30.957Z"
   },
   {
    "duration": 169,
    "start_time": "2022-02-21T18:58:32.851Z"
   },
   {
    "duration": 26,
    "start_time": "2022-02-21T18:58:33.850Z"
   },
   {
    "duration": 6,
    "start_time": "2022-02-21T18:58:37.688Z"
   },
   {
    "duration": 12,
    "start_time": "2022-02-21T18:58:38.633Z"
   },
   {
    "duration": 21,
    "start_time": "2022-02-21T18:58:39.219Z"
   },
   {
    "duration": 17,
    "start_time": "2022-02-21T18:58:39.517Z"
   },
   {
    "duration": 13,
    "start_time": "2022-02-21T18:58:40.695Z"
   },
   {
    "duration": 12,
    "start_time": "2022-02-21T18:58:41.462Z"
   },
   {
    "duration": 6,
    "start_time": "2022-02-21T18:58:41.638Z"
   },
   {
    "duration": 15,
    "start_time": "2022-02-21T18:58:42.513Z"
   },
   {
    "duration": 6,
    "start_time": "2022-02-21T18:58:47.388Z"
   },
   {
    "duration": 47,
    "start_time": "2022-02-21T18:58:48.159Z"
   },
   {
    "duration": 7,
    "start_time": "2022-02-21T18:58:49.048Z"
   },
   {
    "duration": 67,
    "start_time": "2022-02-21T18:58:52.363Z"
   },
   {
    "duration": 88,
    "start_time": "2022-02-21T18:58:56.994Z"
   },
   {
    "duration": 7,
    "start_time": "2022-02-21T18:59:02.044Z"
   },
   {
    "duration": 1289,
    "start_time": "2022-02-21T18:59:06.925Z"
   },
   {
    "duration": 1059,
    "start_time": "2022-02-21T18:59:08.607Z"
   },
   {
    "duration": 1072,
    "start_time": "2022-02-21T18:59:09.869Z"
   },
   {
    "duration": 124,
    "start_time": "2022-02-21T19:01:02.894Z"
   },
   {
    "duration": 1027,
    "start_time": "2022-02-21T19:06:46.689Z"
   },
   {
    "duration": 7,
    "start_time": "2022-02-21T19:06:57.373Z"
   },
   {
    "duration": 1093,
    "start_time": "2022-02-21T19:06:58.822Z"
   },
   {
    "duration": 1100,
    "start_time": "2022-02-21T19:07:00.112Z"
   },
   {
    "duration": 1133,
    "start_time": "2022-02-21T19:07:02.578Z"
   },
   {
    "duration": 8,
    "start_time": "2022-02-21T19:07:03.812Z"
   },
   {
    "duration": 25,
    "start_time": "2022-02-21T19:07:08.944Z"
   },
   {
    "duration": 113,
    "start_time": "2022-02-21T19:10:02.952Z"
   },
   {
    "duration": 416,
    "start_time": "2022-02-21T19:10:14.530Z"
   },
   {
    "duration": 369,
    "start_time": "2022-02-21T19:10:38.611Z"
   },
   {
    "duration": 6,
    "start_time": "2022-02-21T19:10:46.654Z"
   },
   {
    "duration": 6,
    "start_time": "2022-02-21T19:10:56.799Z"
   },
   {
    "duration": 32,
    "start_time": "2022-02-21T19:10:57.773Z"
   },
   {
    "duration": 21,
    "start_time": "2022-02-21T19:10:58.068Z"
   },
   {
    "duration": 6,
    "start_time": "2022-02-21T19:10:58.994Z"
   },
   {
    "duration": 11,
    "start_time": "2022-02-21T19:10:59.421Z"
   },
   {
    "duration": 22,
    "start_time": "2022-02-21T19:10:59.844Z"
   },
   {
    "duration": 22,
    "start_time": "2022-02-21T19:11:00.063Z"
   },
   {
    "duration": 15,
    "start_time": "2022-02-21T19:11:00.962Z"
   },
   {
    "duration": 12,
    "start_time": "2022-02-21T19:11:01.890Z"
   },
   {
    "duration": 5,
    "start_time": "2022-02-21T19:11:02.116Z"
   },
   {
    "duration": 15,
    "start_time": "2022-02-21T19:11:02.569Z"
   },
   {
    "duration": 5,
    "start_time": "2022-02-21T19:11:04.103Z"
   },
   {
    "duration": 29,
    "start_time": "2022-02-21T19:11:04.585Z"
   },
   {
    "duration": 6,
    "start_time": "2022-02-21T19:11:04.973Z"
   },
   {
    "duration": 65,
    "start_time": "2022-02-21T19:11:05.815Z"
   },
   {
    "duration": 89,
    "start_time": "2022-02-21T19:11:06.378Z"
   },
   {
    "duration": 6,
    "start_time": "2022-02-21T19:11:07.826Z"
   },
   {
    "duration": 1006,
    "start_time": "2022-02-21T19:11:09.913Z"
   },
   {
    "duration": 1389,
    "start_time": "2022-02-21T19:11:10.924Z"
   },
   {
    "duration": 1295,
    "start_time": "2022-02-21T19:11:12.317Z"
   },
   {
    "duration": 1301,
    "start_time": "2022-02-21T19:11:13.616Z"
   },
   {
    "duration": 6,
    "start_time": "2022-02-21T19:11:15.881Z"
   },
   {
    "duration": 969,
    "start_time": "2022-02-21T19:11:16.367Z"
   },
   {
    "duration": 1199,
    "start_time": "2022-02-21T19:11:17.415Z"
   },
   {
    "duration": 1199,
    "start_time": "2022-02-21T19:11:18.617Z"
   },
   {
    "duration": 9,
    "start_time": "2022-02-21T19:11:20.933Z"
   },
   {
    "duration": 25,
    "start_time": "2022-02-21T19:11:23.710Z"
   },
   {
    "duration": 6,
    "start_time": "2022-02-21T19:29:28.603Z"
   },
   {
    "duration": 40,
    "start_time": "2022-02-21T19:29:31.400Z"
   },
   {
    "duration": 8,
    "start_time": "2022-02-21T19:29:36.710Z"
   },
   {
    "duration": 8,
    "start_time": "2022-02-21T19:29:40.103Z"
   },
   {
    "duration": 8,
    "start_time": "2022-02-21T19:29:40.864Z"
   },
   {
    "duration": 7,
    "start_time": "2022-02-21T19:29:49.486Z"
   },
   {
    "duration": 39,
    "start_time": "2022-02-21T19:30:38.241Z"
   },
   {
    "duration": 7,
    "start_time": "2022-02-21T19:30:40.998Z"
   },
   {
    "duration": 7,
    "start_time": "2022-02-21T19:30:41.460Z"
   },
   {
    "duration": 7,
    "start_time": "2022-02-21T19:30:41.856Z"
   },
   {
    "duration": 5,
    "start_time": "2022-02-21T19:30:46.890Z"
   },
   {
    "duration": 80,
    "start_time": "2022-02-21T19:31:38.045Z"
   },
   {
    "duration": 35,
    "start_time": "2022-02-21T19:32:31.383Z"
   },
   {
    "duration": 69,
    "start_time": "2022-02-21T19:32:51.880Z"
   },
   {
    "duration": 35,
    "start_time": "2022-02-21T19:33:18.780Z"
   },
   {
    "duration": 68,
    "start_time": "2022-02-21T19:33:53.371Z"
   },
   {
    "duration": 39,
    "start_time": "2022-02-21T19:34:03.966Z"
   },
   {
    "duration": 1345,
    "start_time": "2022-02-21T19:34:29.444Z"
   },
   {
    "duration": 806,
    "start_time": "2022-02-21T19:34:38.735Z"
   },
   {
    "duration": 516,
    "start_time": "2022-02-21T19:34:43.529Z"
   },
   {
    "duration": 1569,
    "start_time": "2022-02-21T19:35:07.866Z"
   },
   {
    "duration": 553,
    "start_time": "2022-02-21T19:35:24.743Z"
   },
   {
    "duration": 1437,
    "start_time": "2022-02-21T19:35:43.068Z"
   },
   {
    "duration": 598,
    "start_time": "2022-02-21T19:35:57.153Z"
   },
   {
    "duration": 230,
    "start_time": "2022-02-21T19:36:26.180Z"
   },
   {
    "duration": 213,
    "start_time": "2022-02-21T19:36:34.099Z"
   },
   {
    "duration": 219,
    "start_time": "2022-02-21T19:36:48.293Z"
   },
   {
    "duration": 176,
    "start_time": "2022-02-21T19:36:59.936Z"
   },
   {
    "duration": 111,
    "start_time": "2022-02-21T19:37:18.305Z"
   },
   {
    "duration": 159,
    "start_time": "2022-02-21T19:37:29.753Z"
   },
   {
    "duration": 6794,
    "start_time": "2022-02-21T19:44:30.286Z"
   },
   {
    "duration": 3914,
    "start_time": "2022-02-21T19:45:20.459Z"
   },
   {
    "duration": 10094,
    "start_time": "2022-02-21T19:45:39.936Z"
   },
   {
    "duration": 1893,
    "start_time": "2022-02-21T19:45:52.000Z"
   },
   {
    "duration": 73333,
    "start_time": "2022-02-21T19:51:39.412Z"
   },
   {
    "duration": 6,
    "start_time": "2022-02-21T19:55:31.879Z"
   },
   {
    "duration": 491,
    "start_time": "2022-02-21T19:56:47.660Z"
   },
   {
    "duration": 117,
    "start_time": "2022-02-21T19:57:03.504Z"
   },
   {
    "duration": 27,
    "start_time": "2022-02-21T19:57:09.934Z"
   },
   {
    "duration": 453,
    "start_time": "2022-02-21T19:57:22.965Z"
   },
   {
    "duration": 52,
    "start_time": "2022-02-21T19:57:23.548Z"
   },
   {
    "duration": 788,
    "start_time": "2022-02-21T19:57:34.103Z"
   },
   {
    "duration": 87,
    "start_time": "2022-02-21T19:57:36.630Z"
   },
   {
    "duration": 128,
    "start_time": "2022-02-21T19:57:46.537Z"
   },
   {
    "duration": 28,
    "start_time": "2022-02-21T19:57:47.187Z"
   },
   {
    "duration": 4282,
    "start_time": "2022-02-21T19:58:20.737Z"
   },
   {
    "duration": 8393,
    "start_time": "2022-02-21T19:58:34.680Z"
   },
   {
    "duration": 13971,
    "start_time": "2022-02-21T19:58:49.930Z"
   },
   {
    "duration": 8284,
    "start_time": "2022-02-21T19:59:34.088Z"
   },
   {
    "duration": 11476,
    "start_time": "2022-02-21T19:59:48.675Z"
   },
   {
    "duration": 21749,
    "start_time": "2022-02-21T20:00:07.327Z"
   },
   {
    "duration": 1326,
    "start_time": "2022-02-21T20:01:11.362Z"
   },
   {
    "duration": 70,
    "start_time": "2022-02-21T20:01:17.618Z"
   },
   {
    "duration": 11156,
    "start_time": "2022-02-21T20:02:09.337Z"
   },
   {
    "duration": 17306,
    "start_time": "2022-02-21T20:02:28.583Z"
   },
   {
    "duration": 11143,
    "start_time": "2022-02-21T20:03:07.436Z"
   },
   {
    "duration": 1275,
    "start_time": "2022-02-21T20:03:31.054Z"
   },
   {
    "duration": 69,
    "start_time": "2022-02-21T20:03:34.471Z"
   },
   {
    "duration": 20,
    "start_time": "2022-02-21T20:04:18.595Z"
   },
   {
    "duration": 70,
    "start_time": "2022-02-21T20:05:34.657Z"
   },
   {
    "duration": 362,
    "start_time": "2022-02-21T20:05:41.554Z"
   }
  ],
  "kernelspec": {
   "display_name": "Python 3 (ipykernel)",
   "language": "python",
   "name": "python3"
  },
  "language_info": {
   "codemirror_mode": {
    "name": "ipython",
    "version": 3
   },
   "file_extension": ".py",
   "mimetype": "text/x-python",
   "name": "python",
   "nbconvert_exporter": "python",
   "pygments_lexer": "ipython3",
   "version": "3.9.5"
  },
  "toc": {
   "base_numbering": 1,
   "nav_menu": {},
   "number_sections": true,
   "sideBar": true,
   "skip_h1_title": true,
   "title_cell": "Содержание",
   "title_sidebar": "Contents",
   "toc_cell": true,
   "toc_position": {},
   "toc_section_display": true,
   "toc_window_display": true
  }
 },
 "nbformat": 4,
 "nbformat_minor": 2
}
