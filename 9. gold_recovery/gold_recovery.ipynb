{
 "cells": [
  {
   "cell_type": "markdown",
   "metadata": {
    "toc": true
   },
   "source": [
    "<h1>Содержание<span class=\"tocSkip\"></span></h1>\n",
    "<div class=\"toc\"><ul class=\"toc-item\"><li><span><a href=\"#Подготовка-данных\" data-toc-modified-id=\"Подготовка-данных-1\"><span class=\"toc-item-num\">1&nbsp;&nbsp;</span>Подготовка данных</a></span><ul class=\"toc-item\"><li><span><a href=\"#Проверим-корректность-расчета-параметра-эффективности-обогащения-(recovery)\" data-toc-modified-id=\"Проверим-корректность-расчета-параметра-эффективности-обогащения-(recovery)-1.1\"><span class=\"toc-item-num\">1.1&nbsp;&nbsp;</span>Проверим корректность расчета параметра эффективности обогащения (recovery)</a></span></li><li><span><a href=\"#Посмотрим-на-состав-признаков-в-обучающей-и-тестовой-выборках\" data-toc-modified-id=\"Посмотрим-на-состав-признаков-в-обучающей-и-тестовой-выборках-1.2\"><span class=\"toc-item-num\">1.2&nbsp;&nbsp;</span>Посмотрим на состав признаков в обучающей и тестовой выборках</a></span></li><li><span><a href=\"#Предобработка-данных\" data-toc-modified-id=\"Предобработка-данных-1.3\"><span class=\"toc-item-num\">1.3&nbsp;&nbsp;</span>Предобработка данных</a></span></li><li><span><a href=\"#Выводы\" data-toc-modified-id=\"Выводы-1.4\"><span class=\"toc-item-num\">1.4&nbsp;&nbsp;</span>Выводы</a></span></li></ul></li><li><span><a href=\"#Анализ-данных\" data-toc-modified-id=\"Анализ-данных-2\"><span class=\"toc-item-num\">2&nbsp;&nbsp;</span>Анализ данных</a></span><ul class=\"toc-item\"><li><span><a href=\"#Изменение-концентрации-металлов-(Au,-Ag,-Pb)-на-различных-этапах-очистки\" data-toc-modified-id=\"Изменение-концентрации-металлов-(Au,-Ag,-Pb)-на-различных-этапах-очистки-2.1\"><span class=\"toc-item-num\">2.1&nbsp;&nbsp;</span>Изменение концентрации металлов (Au, Ag, Pb) на различных этапах очистки</a></span><ul class=\"toc-item\"><li><span><a href=\"#Концентрация-серебра\" data-toc-modified-id=\"Концентрация-серебра-2.1.1\"><span class=\"toc-item-num\">2.1.1&nbsp;&nbsp;</span>Концентрация серебра</a></span></li><li><span><a href=\"#Концентрация-свинца\" data-toc-modified-id=\"Концентрация-свинца-2.1.2\"><span class=\"toc-item-num\">2.1.2&nbsp;&nbsp;</span>Концентрация свинца</a></span></li><li><span><a href=\"#Концентрация-золота\" data-toc-modified-id=\"Концентрация-золота-2.1.3\"><span class=\"toc-item-num\">2.1.3&nbsp;&nbsp;</span>Концентрация золота</a></span></li><li><span><a href=\"#Выводы\" data-toc-modified-id=\"Выводы-2.1.4\"><span class=\"toc-item-num\">2.1.4&nbsp;&nbsp;</span>Выводы</a></span></li></ul></li><li><span><a href=\"#Сравнение-распределения-размеров-гранул-сырья-на-обучающей-и-тестовой-выборках\" data-toc-modified-id=\"Сравнение-распределения-размеров-гранул-сырья-на-обучающей-и-тестовой-выборках-2.2\"><span class=\"toc-item-num\">2.2&nbsp;&nbsp;</span>Сравнение распределения размеров гранул сырья на обучающей и тестовой выборках</a></span></li><li><span><a href=\"#Изучение-суммарной-концентрации-всех-веществ-на-разных-стадиях:-в-сырье,-в-черновом-и-финальном-концентратах\" data-toc-modified-id=\"Изучение-суммарной-концентрации-всех-веществ-на-разных-стадиях:-в-сырье,-в-черновом-и-финальном-концентратах-2.3\"><span class=\"toc-item-num\">2.3&nbsp;&nbsp;</span>Изучение суммарной концентрации всех веществ на разных стадиях: в сырье, в черновом и финальном концентратах</a></span></li><li><span><a href=\"#Выводы\" data-toc-modified-id=\"Выводы-2.4\"><span class=\"toc-item-num\">2.4&nbsp;&nbsp;</span>Выводы</a></span></li></ul></li><li><span><a href=\"#Модель\" data-toc-modified-id=\"Модель-3\"><span class=\"toc-item-num\">3&nbsp;&nbsp;</span>Модель</a></span><ul class=\"toc-item\"><li><span><a href=\"#Метрика-sMAPE\" data-toc-modified-id=\"Метрика-sMAPE-3.1\"><span class=\"toc-item-num\">3.1&nbsp;&nbsp;</span>Метрика sMAPE</a></span></li><li><span><a href=\"#Удалим-выбросы,-которые-помешают-качественному-обучанию-модели\" data-toc-modified-id=\"Удалим-выбросы,-которые-помешают-качественному-обучанию-модели-3.2\"><span class=\"toc-item-num\">3.2&nbsp;&nbsp;</span>Удалим выбросы, которые помешают качественному обучанию модели</a></span></li><li><span><a href=\"#Поделим-выборки-на-features-и-target\" data-toc-modified-id=\"Поделим-выборки-на-features-и-target-3.3\"><span class=\"toc-item-num\">3.3&nbsp;&nbsp;</span>Поделим выборки на features и target</a></span></li><li><span><a href=\"#Масштабируем-признаки\" data-toc-modified-id=\"Масштабируем-признаки-3.4\"><span class=\"toc-item-num\">3.4&nbsp;&nbsp;</span>Масштабируем признаки</a></span></li><li><span><a href=\"#Оценка-моделей-и-выбор-наилучшей-модели\" data-toc-modified-id=\"Оценка-моделей-и-выбор-наилучшей-модели-3.5\"><span class=\"toc-item-num\">3.5&nbsp;&nbsp;</span>Оценка моделей и выбор наилучшей модели</a></span><ul class=\"toc-item\"><li><span><a href=\"#Дерево-решений\" data-toc-modified-id=\"Дерево-решений-3.5.1\"><span class=\"toc-item-num\">3.5.1&nbsp;&nbsp;</span>Дерево решений</a></span></li><li><span><a href=\"#Случайный-лес\" data-toc-modified-id=\"Случайный-лес-3.5.2\"><span class=\"toc-item-num\">3.5.2&nbsp;&nbsp;</span>Случайный лес</a></span></li><li><span><a href=\"#Линейная-регрессия\" data-toc-modified-id=\"Линейная-регрессия-3.5.3\"><span class=\"toc-item-num\">3.5.3&nbsp;&nbsp;</span>Линейная регрессия</a></span></li></ul></li><li><span><a href=\"#Проверка-лучшей-модели-на-тестовой-выборке\" data-toc-modified-id=\"Проверка-лучшей-модели-на-тестовой-выборке-3.6\"><span class=\"toc-item-num\">3.6&nbsp;&nbsp;</span>Проверка лучшей модели на тестовой выборке</a></span></li><li><span><a href=\"#Проверка-модели-на-адекватность\" data-toc-modified-id=\"Проверка-модели-на-адекватность-3.7\"><span class=\"toc-item-num\">3.7&nbsp;&nbsp;</span>Проверка модели на адекватность</a></span></li></ul></li></ul></div>"
   ]
  },
  {
   "cell_type": "markdown",
   "metadata": {},
   "source": [
    "# Восстановление золота из руды"
   ]
  },
  {
   "cell_type": "markdown",
   "metadata": {},
   "source": [
    "Перед нами стоит задача построить модель, которая сможет предсказать коэффициент восстановления золота из золотосодержащей руды. \n",
    "\n",
    "Такая модель поможет оптимизировать производство, чтобы не запускать предприятие с убыточными характеристиками."
   ]
  },
  {
   "cell_type": "markdown",
   "metadata": {},
   "source": [
    "# Описание данных\n",
    "\n",
    "**Технологический процесс**\n",
    "\n",
    "- Rougher feed — исходное сырье\n",
    "- Rougher additions (или reagent additions) — флотационные реагенты: Xanthate, Sulphate, Depressant\n",
    "- Xanthate — ксантогенат (промотер, или активатор флотации);\n",
    "- Sulphate — сульфат (на данном производстве сульфид натрия);\n",
    "- Depressant — депрессант (силикат натрия).\n",
    "- Rougher process (англ. «грубый процесс») — флотация\n",
    "- Rougher tails — отвальные хвосты\n",
    "- Float banks — флотационная установка\n",
    "- Cleaner process — очистка\n",
    "- Rougher Au — черновой концентрат золота\n",
    "- Final Au — финальный концентрат золота\n",
    "\n",
    "**Параметры этапов**\n",
    "\n",
    "- air amount — объём воздуха\n",
    "- fluid levels — уровень жидкости\n",
    "- feed size — размер гранул сырья\n",
    "- feed rate — скорость подачи\n",
    "\n",
    "**Наименование признаков**\n",
    "\n",
    "[этап].[тип_параметра].[название_параметра] Пример: rougher.input.feed_ag\n",
    "\n",
    "Возможные значения для блока [этап]:\n",
    "\n",
    "- rougher — флотация\n",
    "- primary_cleaner — первичная очистка\n",
    "- secondary_cleaner — вторичная очистка\n",
    "- final — финальные характеристики\n",
    "\n",
    "Возможные значения для блока [тип_параметра]:\n",
    "\n",
    "- input — параметры сырья\n",
    "- output — параметры продукта \n",
    "- state — параметры, характеризующие текущее состояние этапа \n",
    "- calculation — расчётные характеристики"
   ]
  },
  {
   "cell_type": "markdown",
   "metadata": {},
   "source": [
    "## Подготовка данных"
   ]
  },
  {
   "cell_type": "code",
   "execution_count": 1,
   "metadata": {},
   "outputs": [],
   "source": [
    "import pandas as pd\n",
    "import numpy as np\n",
    "import matplotlib.pyplot as plt\n",
    "# с помощью средней абсолютной ошибки проверим корректность расчета параметра recovery\n",
    "from sklearn.metrics import mean_absolute_error\n",
    "# инструмент для масштабирования данных\n",
    "from sklearn.preprocessing import StandardScaler\n",
    "# для проверки метрик модели методом кросс-валидации\n",
    "from sklearn.model_selection import cross_val_score\n",
    "# импортируем три модели, которые будем рассматривать: случайный лес, дерево решений и линейную регрессию\n",
    "from sklearn.ensemble import RandomForestRegressor\n",
    "from sklearn.tree import DecisionTreeRegressor\n",
    "from sklearn.linear_model import LinearRegression\n",
    "# инструмент для создания параметра оценки модели при кросс-валидации\n",
    "from sklearn.metrics import make_scorer\n",
    "# случайная модель, на ней будем проверять лучшую модель на адекватность\n",
    "from sklearn.dummy import DummyRegressor"
   ]
  },
  {
   "cell_type": "code",
   "execution_count": 2,
   "metadata": {},
   "outputs": [],
   "source": [
    "# прочитаем данные и сохраним датафреймы в переменные\n",
    "train_sample, test_sample, full_data = (pd.read_csv('/datasets/gold_recovery_train_new.csv'),\n",
    "                                        pd.read_csv('/datasets/gold_recovery_test_new.csv'),\n",
    "                                        pd.read_csv('/datasets/gold_recovery_full_new.csv'))"
   ]
  },
  {
   "cell_type": "code",
   "execution_count": 3,
   "metadata": {
    "scrolled": true
   },
   "outputs": [
    {
     "name": "stdout",
     "output_type": "stream",
     "text": [
      "Объем данных в обучающей выборке: (14149, 87)\n",
      "\n",
      "Объем данных в тестовой выборке: (5290, 53)\n",
      "\n",
      "Общий объем данных: (19439, 87)\n"
     ]
    }
   ],
   "source": [
    "# посмотрим на объем данных в выборках\n",
    "print('Объем данных в обучающей выборке:', train_sample.shape)\n",
    "print()\n",
    "print('Объем данных в тестовой выборке:', test_sample.shape)\n",
    "print()\n",
    "print('Общий объем данных:', full_data.shape)"
   ]
  },
  {
   "cell_type": "code",
   "execution_count": 4,
   "metadata": {},
   "outputs": [
    {
     "name": "stdout",
     "output_type": "stream",
     "text": [
      "0.2721333401923967\n",
      "0.7278666598076032\n"
     ]
    }
   ],
   "source": [
    "print(5290/19439)\n",
    "print(14149/19439)"
   ]
  },
  {
   "cell_type": "markdown",
   "metadata": {},
   "source": [
    "Как можем заметить, обучающая выборка составляет ~73% от всех данных, а тестовая - 27%. Также видим, что в тестовой выборке отсутствуют некоторые признаки, которые есть в обучающей (а именно 34 признака), нам предсоит узнать, чем это вызвано.\n",
    "\n",
    "Теперь проверим тип данных "
   ]
  },
  {
   "cell_type": "code",
   "execution_count": 5,
   "metadata": {
    "scrolled": true
   },
   "outputs": [
    {
     "name": "stdout",
     "output_type": "stream",
     "text": [
      "<class 'pandas.core.frame.DataFrame'>\n",
      "RangeIndex: 14149 entries, 0 to 14148\n",
      "Data columns (total 87 columns):\n",
      " #   Column                                              Non-Null Count  Dtype  \n",
      "---  ------                                              --------------  -----  \n",
      " 0   date                                                14149 non-null  object \n",
      " 1   final.output.concentrate_ag                         14148 non-null  float64\n",
      " 2   final.output.concentrate_pb                         14148 non-null  float64\n",
      " 3   final.output.concentrate_sol                        13938 non-null  float64\n",
      " 4   final.output.concentrate_au                         14149 non-null  float64\n",
      " 5   final.output.recovery                               14149 non-null  float64\n",
      " 6   final.output.tail_ag                                14149 non-null  float64\n",
      " 7   final.output.tail_pb                                14049 non-null  float64\n",
      " 8   final.output.tail_sol                               14144 non-null  float64\n",
      " 9   final.output.tail_au                                14149 non-null  float64\n",
      " 10  primary_cleaner.input.sulfate                       14129 non-null  float64\n",
      " 11  primary_cleaner.input.depressant                    14117 non-null  float64\n",
      " 12  primary_cleaner.input.feed_size                     14149 non-null  float64\n",
      " 13  primary_cleaner.input.xanthate                      14049 non-null  float64\n",
      " 14  primary_cleaner.output.concentrate_ag               14149 non-null  float64\n",
      " 15  primary_cleaner.output.concentrate_pb               14063 non-null  float64\n",
      " 16  primary_cleaner.output.concentrate_sol              13863 non-null  float64\n",
      " 17  primary_cleaner.output.concentrate_au               14149 non-null  float64\n",
      " 18  primary_cleaner.output.tail_ag                      14148 non-null  float64\n",
      " 19  primary_cleaner.output.tail_pb                      14134 non-null  float64\n",
      " 20  primary_cleaner.output.tail_sol                     14103 non-null  float64\n",
      " 21  primary_cleaner.output.tail_au                      14149 non-null  float64\n",
      " 22  primary_cleaner.state.floatbank8_a_air              14145 non-null  float64\n",
      " 23  primary_cleaner.state.floatbank8_a_level            14148 non-null  float64\n",
      " 24  primary_cleaner.state.floatbank8_b_air              14145 non-null  float64\n",
      " 25  primary_cleaner.state.floatbank8_b_level            14148 non-null  float64\n",
      " 26  primary_cleaner.state.floatbank8_c_air              14147 non-null  float64\n",
      " 27  primary_cleaner.state.floatbank8_c_level            14148 non-null  float64\n",
      " 28  primary_cleaner.state.floatbank8_d_air              14146 non-null  float64\n",
      " 29  primary_cleaner.state.floatbank8_d_level            14148 non-null  float64\n",
      " 30  rougher.calculation.sulfate_to_au_concentrate       14148 non-null  float64\n",
      " 31  rougher.calculation.floatbank10_sulfate_to_au_feed  14148 non-null  float64\n",
      " 32  rougher.calculation.floatbank11_sulfate_to_au_feed  14148 non-null  float64\n",
      " 33  rougher.calculation.au_pb_ratio                     14149 non-null  float64\n",
      " 34  rougher.input.feed_ag                               14149 non-null  float64\n",
      " 35  rougher.input.feed_pb                               14049 non-null  float64\n",
      " 36  rougher.input.feed_rate                             14141 non-null  float64\n",
      " 37  rougher.input.feed_size                             14005 non-null  float64\n",
      " 38  rougher.input.feed_sol                              14071 non-null  float64\n",
      " 39  rougher.input.feed_au                               14149 non-null  float64\n",
      " 40  rougher.input.floatbank10_sulfate                   14120 non-null  float64\n",
      " 41  rougher.input.floatbank10_xanthate                  14141 non-null  float64\n",
      " 42  rougher.input.floatbank11_sulfate                   14113 non-null  float64\n",
      " 43  rougher.input.floatbank11_xanthate                  13721 non-null  float64\n",
      " 44  rougher.output.concentrate_ag                       14149 non-null  float64\n",
      " 45  rougher.output.concentrate_pb                       14149 non-null  float64\n",
      " 46  rougher.output.concentrate_sol                      14127 non-null  float64\n",
      " 47  rougher.output.concentrate_au                       14149 non-null  float64\n",
      " 48  rougher.output.recovery                             14149 non-null  float64\n",
      " 49  rougher.output.tail_ag                              14148 non-null  float64\n",
      " 50  rougher.output.tail_pb                              14149 non-null  float64\n",
      " 51  rougher.output.tail_sol                             14149 non-null  float64\n",
      " 52  rougher.output.tail_au                              14149 non-null  float64\n",
      " 53  rougher.state.floatbank10_a_air                     14148 non-null  float64\n",
      " 54  rougher.state.floatbank10_a_level                   14148 non-null  float64\n",
      " 55  rougher.state.floatbank10_b_air                     14148 non-null  float64\n",
      " 56  rougher.state.floatbank10_b_level                   14148 non-null  float64\n",
      " 57  rougher.state.floatbank10_c_air                     14148 non-null  float64\n",
      " 58  rougher.state.floatbank10_c_level                   14148 non-null  float64\n",
      " 59  rougher.state.floatbank10_d_air                     14149 non-null  float64\n",
      " 60  rougher.state.floatbank10_d_level                   14149 non-null  float64\n",
      " 61  rougher.state.floatbank10_e_air                     13713 non-null  float64\n",
      " 62  rougher.state.floatbank10_e_level                   14149 non-null  float64\n",
      " 63  rougher.state.floatbank10_f_air                     14149 non-null  float64\n",
      " 64  rougher.state.floatbank10_f_level                   14149 non-null  float64\n",
      " 65  secondary_cleaner.output.tail_ag                    14147 non-null  float64\n",
      " 66  secondary_cleaner.output.tail_pb                    14139 non-null  float64\n",
      " 67  secondary_cleaner.output.tail_sol                   12544 non-null  float64\n",
      " 68  secondary_cleaner.output.tail_au                    14149 non-null  float64\n",
      " 69  secondary_cleaner.state.floatbank2_a_air            13932 non-null  float64\n",
      " 70  secondary_cleaner.state.floatbank2_a_level          14148 non-null  float64\n",
      " 71  secondary_cleaner.state.floatbank2_b_air            14128 non-null  float64\n",
      " 72  secondary_cleaner.state.floatbank2_b_level          14148 non-null  float64\n",
      " 73  secondary_cleaner.state.floatbank3_a_air            14145 non-null  float64\n",
      " 74  secondary_cleaner.state.floatbank3_a_level          14148 non-null  float64\n",
      " 75  secondary_cleaner.state.floatbank3_b_air            14148 non-null  float64\n",
      " 76  secondary_cleaner.state.floatbank3_b_level          14148 non-null  float64\n",
      " 77  secondary_cleaner.state.floatbank4_a_air            14143 non-null  float64\n",
      " 78  secondary_cleaner.state.floatbank4_a_level          14148 non-null  float64\n",
      " 79  secondary_cleaner.state.floatbank4_b_air            14148 non-null  float64\n",
      " 80  secondary_cleaner.state.floatbank4_b_level          14148 non-null  float64\n",
      " 81  secondary_cleaner.state.floatbank5_a_air            14148 non-null  float64\n",
      " 82  secondary_cleaner.state.floatbank5_a_level          14148 non-null  float64\n",
      " 83  secondary_cleaner.state.floatbank5_b_air            14148 non-null  float64\n",
      " 84  secondary_cleaner.state.floatbank5_b_level          14148 non-null  float64\n",
      " 85  secondary_cleaner.state.floatbank6_a_air            14147 non-null  float64\n",
      " 86  secondary_cleaner.state.floatbank6_a_level          14148 non-null  float64\n",
      "dtypes: float64(86), object(1)\n",
      "memory usage: 9.4+ MB\n"
     ]
    }
   ],
   "source": [
    "train_sample.info()"
   ]
  },
  {
   "cell_type": "markdown",
   "metadata": {},
   "source": [
    "Кроме даты, все данные числового типа - `float`. В данных есть пропуски."
   ]
  },
  {
   "cell_type": "code",
   "execution_count": 6,
   "metadata": {},
   "outputs": [
    {
     "name": "stdout",
     "output_type": "stream",
     "text": [
      "<class 'pandas.core.frame.DataFrame'>\n",
      "RangeIndex: 5290 entries, 0 to 5289\n",
      "Data columns (total 53 columns):\n",
      " #   Column                                      Non-Null Count  Dtype  \n",
      "---  ------                                      --------------  -----  \n",
      " 0   date                                        5290 non-null   object \n",
      " 1   primary_cleaner.input.sulfate               5286 non-null   float64\n",
      " 2   primary_cleaner.input.depressant            5285 non-null   float64\n",
      " 3   primary_cleaner.input.feed_size             5290 non-null   float64\n",
      " 4   primary_cleaner.input.xanthate              5286 non-null   float64\n",
      " 5   primary_cleaner.state.floatbank8_a_air      5290 non-null   float64\n",
      " 6   primary_cleaner.state.floatbank8_a_level    5290 non-null   float64\n",
      " 7   primary_cleaner.state.floatbank8_b_air      5290 non-null   float64\n",
      " 8   primary_cleaner.state.floatbank8_b_level    5290 non-null   float64\n",
      " 9   primary_cleaner.state.floatbank8_c_air      5290 non-null   float64\n",
      " 10  primary_cleaner.state.floatbank8_c_level    5290 non-null   float64\n",
      " 11  primary_cleaner.state.floatbank8_d_air      5290 non-null   float64\n",
      " 12  primary_cleaner.state.floatbank8_d_level    5290 non-null   float64\n",
      " 13  rougher.input.feed_ag                       5290 non-null   float64\n",
      " 14  rougher.input.feed_pb                       5290 non-null   float64\n",
      " 15  rougher.input.feed_rate                     5287 non-null   float64\n",
      " 16  rougher.input.feed_size                     5289 non-null   float64\n",
      " 17  rougher.input.feed_sol                      5269 non-null   float64\n",
      " 18  rougher.input.feed_au                       5290 non-null   float64\n",
      " 19  rougher.input.floatbank10_sulfate           5285 non-null   float64\n",
      " 20  rougher.input.floatbank10_xanthate          5290 non-null   float64\n",
      " 21  rougher.input.floatbank11_sulfate           5282 non-null   float64\n",
      " 22  rougher.input.floatbank11_xanthate          5265 non-null   float64\n",
      " 23  rougher.state.floatbank10_a_air             5290 non-null   float64\n",
      " 24  rougher.state.floatbank10_a_level           5290 non-null   float64\n",
      " 25  rougher.state.floatbank10_b_air             5290 non-null   float64\n",
      " 26  rougher.state.floatbank10_b_level           5290 non-null   float64\n",
      " 27  rougher.state.floatbank10_c_air             5290 non-null   float64\n",
      " 28  rougher.state.floatbank10_c_level           5290 non-null   float64\n",
      " 29  rougher.state.floatbank10_d_air             5290 non-null   float64\n",
      " 30  rougher.state.floatbank10_d_level           5290 non-null   float64\n",
      " 31  rougher.state.floatbank10_e_air             5290 non-null   float64\n",
      " 32  rougher.state.floatbank10_e_level           5290 non-null   float64\n",
      " 33  rougher.state.floatbank10_f_air             5290 non-null   float64\n",
      " 34  rougher.state.floatbank10_f_level           5290 non-null   float64\n",
      " 35  secondary_cleaner.state.floatbank2_a_air    5287 non-null   float64\n",
      " 36  secondary_cleaner.state.floatbank2_a_level  5290 non-null   float64\n",
      " 37  secondary_cleaner.state.floatbank2_b_air    5288 non-null   float64\n",
      " 38  secondary_cleaner.state.floatbank2_b_level  5290 non-null   float64\n",
      " 39  secondary_cleaner.state.floatbank3_a_air    5281 non-null   float64\n",
      " 40  secondary_cleaner.state.floatbank3_a_level  5290 non-null   float64\n",
      " 41  secondary_cleaner.state.floatbank3_b_air    5290 non-null   float64\n",
      " 42  secondary_cleaner.state.floatbank3_b_level  5290 non-null   float64\n",
      " 43  secondary_cleaner.state.floatbank4_a_air    5290 non-null   float64\n",
      " 44  secondary_cleaner.state.floatbank4_a_level  5290 non-null   float64\n",
      " 45  secondary_cleaner.state.floatbank4_b_air    5290 non-null   float64\n",
      " 46  secondary_cleaner.state.floatbank4_b_level  5290 non-null   float64\n",
      " 47  secondary_cleaner.state.floatbank5_a_air    5290 non-null   float64\n",
      " 48  secondary_cleaner.state.floatbank5_a_level  5290 non-null   float64\n",
      " 49  secondary_cleaner.state.floatbank5_b_air    5290 non-null   float64\n",
      " 50  secondary_cleaner.state.floatbank5_b_level  5290 non-null   float64\n",
      " 51  secondary_cleaner.state.floatbank6_a_air    5290 non-null   float64\n",
      " 52  secondary_cleaner.state.floatbank6_a_level  5290 non-null   float64\n",
      "dtypes: float64(52), object(1)\n",
      "memory usage: 2.1+ MB\n"
     ]
    }
   ],
   "source": [
    "test_sample.info()"
   ]
  },
  {
   "cell_type": "markdown",
   "metadata": {},
   "source": [
    "В тестовой выборке также все данные числового типа, есть пропуски."
   ]
  },
  {
   "cell_type": "code",
   "execution_count": 7,
   "metadata": {
    "scrolled": true
   },
   "outputs": [
    {
     "data": {
      "text/html": [
       "<div>\n",
       "<style scoped>\n",
       "    .dataframe tbody tr th:only-of-type {\n",
       "        vertical-align: middle;\n",
       "    }\n",
       "\n",
       "    .dataframe tbody tr th {\n",
       "        vertical-align: top;\n",
       "    }\n",
       "\n",
       "    .dataframe thead th {\n",
       "        text-align: right;\n",
       "    }\n",
       "</style>\n",
       "<table border=\"1\" class=\"dataframe\">\n",
       "  <thead>\n",
       "    <tr style=\"text-align: right;\">\n",
       "      <th></th>\n",
       "      <th>date</th>\n",
       "      <th>final.output.concentrate_ag</th>\n",
       "      <th>final.output.concentrate_pb</th>\n",
       "      <th>final.output.concentrate_sol</th>\n",
       "      <th>final.output.concentrate_au</th>\n",
       "      <th>final.output.recovery</th>\n",
       "      <th>final.output.tail_ag</th>\n",
       "      <th>final.output.tail_pb</th>\n",
       "      <th>final.output.tail_sol</th>\n",
       "      <th>final.output.tail_au</th>\n",
       "      <th>...</th>\n",
       "      <th>secondary_cleaner.state.floatbank4_a_air</th>\n",
       "      <th>secondary_cleaner.state.floatbank4_a_level</th>\n",
       "      <th>secondary_cleaner.state.floatbank4_b_air</th>\n",
       "      <th>secondary_cleaner.state.floatbank4_b_level</th>\n",
       "      <th>secondary_cleaner.state.floatbank5_a_air</th>\n",
       "      <th>secondary_cleaner.state.floatbank5_a_level</th>\n",
       "      <th>secondary_cleaner.state.floatbank5_b_air</th>\n",
       "      <th>secondary_cleaner.state.floatbank5_b_level</th>\n",
       "      <th>secondary_cleaner.state.floatbank6_a_air</th>\n",
       "      <th>secondary_cleaner.state.floatbank6_a_level</th>\n",
       "    </tr>\n",
       "  </thead>\n",
       "  <tbody>\n",
       "    <tr>\n",
       "      <th>0</th>\n",
       "      <td>2016-01-15 00:00:00</td>\n",
       "      <td>6.055403</td>\n",
       "      <td>9.889648</td>\n",
       "      <td>5.507324</td>\n",
       "      <td>42.192020</td>\n",
       "      <td>70.541216</td>\n",
       "      <td>10.411962</td>\n",
       "      <td>0.895447</td>\n",
       "      <td>16.904297</td>\n",
       "      <td>2.143149</td>\n",
       "      <td>...</td>\n",
       "      <td>14.016835</td>\n",
       "      <td>-502.488007</td>\n",
       "      <td>12.099931</td>\n",
       "      <td>-504.715942</td>\n",
       "      <td>9.925633</td>\n",
       "      <td>-498.310211</td>\n",
       "      <td>8.079666</td>\n",
       "      <td>-500.470978</td>\n",
       "      <td>14.151341</td>\n",
       "      <td>-605.841980</td>\n",
       "    </tr>\n",
       "    <tr>\n",
       "      <th>1</th>\n",
       "      <td>2016-01-15 01:00:00</td>\n",
       "      <td>6.029369</td>\n",
       "      <td>9.968944</td>\n",
       "      <td>5.257781</td>\n",
       "      <td>42.701629</td>\n",
       "      <td>69.266198</td>\n",
       "      <td>10.462676</td>\n",
       "      <td>0.927452</td>\n",
       "      <td>16.634514</td>\n",
       "      <td>2.224930</td>\n",
       "      <td>...</td>\n",
       "      <td>13.992281</td>\n",
       "      <td>-505.503262</td>\n",
       "      <td>11.950531</td>\n",
       "      <td>-501.331529</td>\n",
       "      <td>10.039245</td>\n",
       "      <td>-500.169983</td>\n",
       "      <td>7.984757</td>\n",
       "      <td>-500.582168</td>\n",
       "      <td>13.998353</td>\n",
       "      <td>-599.787184</td>\n",
       "    </tr>\n",
       "    <tr>\n",
       "      <th>2</th>\n",
       "      <td>2016-01-15 02:00:00</td>\n",
       "      <td>6.055926</td>\n",
       "      <td>10.213995</td>\n",
       "      <td>5.383759</td>\n",
       "      <td>42.657501</td>\n",
       "      <td>68.116445</td>\n",
       "      <td>10.507046</td>\n",
       "      <td>0.953716</td>\n",
       "      <td>16.208849</td>\n",
       "      <td>2.257889</td>\n",
       "      <td>...</td>\n",
       "      <td>14.015015</td>\n",
       "      <td>-502.520901</td>\n",
       "      <td>11.912783</td>\n",
       "      <td>-501.133383</td>\n",
       "      <td>10.070913</td>\n",
       "      <td>-500.129135</td>\n",
       "      <td>8.013877</td>\n",
       "      <td>-500.517572</td>\n",
       "      <td>14.028663</td>\n",
       "      <td>-601.427363</td>\n",
       "    </tr>\n",
       "    <tr>\n",
       "      <th>3</th>\n",
       "      <td>2016-01-15 03:00:00</td>\n",
       "      <td>6.047977</td>\n",
       "      <td>9.977019</td>\n",
       "      <td>4.858634</td>\n",
       "      <td>42.689819</td>\n",
       "      <td>68.347543</td>\n",
       "      <td>10.422762</td>\n",
       "      <td>0.883763</td>\n",
       "      <td>16.532835</td>\n",
       "      <td>2.146849</td>\n",
       "      <td>...</td>\n",
       "      <td>14.036510</td>\n",
       "      <td>-500.857308</td>\n",
       "      <td>11.999550</td>\n",
       "      <td>-501.193686</td>\n",
       "      <td>9.970366</td>\n",
       "      <td>-499.201640</td>\n",
       "      <td>7.977324</td>\n",
       "      <td>-500.255908</td>\n",
       "      <td>14.005551</td>\n",
       "      <td>-599.996129</td>\n",
       "    </tr>\n",
       "    <tr>\n",
       "      <th>4</th>\n",
       "      <td>2016-01-15 04:00:00</td>\n",
       "      <td>6.148599</td>\n",
       "      <td>10.142511</td>\n",
       "      <td>4.939416</td>\n",
       "      <td>42.774141</td>\n",
       "      <td>66.927016</td>\n",
       "      <td>10.360302</td>\n",
       "      <td>0.792826</td>\n",
       "      <td>16.525686</td>\n",
       "      <td>2.055292</td>\n",
       "      <td>...</td>\n",
       "      <td>14.027298</td>\n",
       "      <td>-499.838632</td>\n",
       "      <td>11.953070</td>\n",
       "      <td>-501.053894</td>\n",
       "      <td>9.925709</td>\n",
       "      <td>-501.686727</td>\n",
       "      <td>7.894242</td>\n",
       "      <td>-500.356035</td>\n",
       "      <td>13.996647</td>\n",
       "      <td>-601.496691</td>\n",
       "    </tr>\n",
       "    <tr>\n",
       "      <th>5</th>\n",
       "      <td>2016-01-15 05:00:00</td>\n",
       "      <td>6.482968</td>\n",
       "      <td>10.049416</td>\n",
       "      <td>5.480257</td>\n",
       "      <td>41.633678</td>\n",
       "      <td>69.465816</td>\n",
       "      <td>10.182708</td>\n",
       "      <td>0.664118</td>\n",
       "      <td>16.999638</td>\n",
       "      <td>1.918586</td>\n",
       "      <td>...</td>\n",
       "      <td>13.938497</td>\n",
       "      <td>-500.970168</td>\n",
       "      <td>11.883350</td>\n",
       "      <td>-500.395298</td>\n",
       "      <td>10.054147</td>\n",
       "      <td>-496.374715</td>\n",
       "      <td>7.965083</td>\n",
       "      <td>-499.364752</td>\n",
       "      <td>14.017067</td>\n",
       "      <td>-599.707915</td>\n",
       "    </tr>\n",
       "    <tr>\n",
       "      <th>6</th>\n",
       "      <td>2016-01-15 06:00:00</td>\n",
       "      <td>6.533849</td>\n",
       "      <td>10.058141</td>\n",
       "      <td>4.569100</td>\n",
       "      <td>41.995316</td>\n",
       "      <td>69.300835</td>\n",
       "      <td>10.304598</td>\n",
       "      <td>0.807342</td>\n",
       "      <td>16.723575</td>\n",
       "      <td>2.058913</td>\n",
       "      <td>...</td>\n",
       "      <td>14.046819</td>\n",
       "      <td>-500.971133</td>\n",
       "      <td>12.091543</td>\n",
       "      <td>-500.501426</td>\n",
       "      <td>10.003247</td>\n",
       "      <td>-497.083180</td>\n",
       "      <td>8.010890</td>\n",
       "      <td>-500.002423</td>\n",
       "      <td>14.029649</td>\n",
       "      <td>-600.905470</td>\n",
       "    </tr>\n",
       "    <tr>\n",
       "      <th>7</th>\n",
       "      <td>2016-01-15 07:00:00</td>\n",
       "      <td>6.130823</td>\n",
       "      <td>9.935481</td>\n",
       "      <td>4.389813</td>\n",
       "      <td>42.452727</td>\n",
       "      <td>70.230976</td>\n",
       "      <td>10.443288</td>\n",
       "      <td>0.949346</td>\n",
       "      <td>16.689959</td>\n",
       "      <td>2.143437</td>\n",
       "      <td>...</td>\n",
       "      <td>13.974691</td>\n",
       "      <td>-501.819696</td>\n",
       "      <td>12.101324</td>\n",
       "      <td>-500.583446</td>\n",
       "      <td>9.873169</td>\n",
       "      <td>-499.171928</td>\n",
       "      <td>7.993381</td>\n",
       "      <td>-499.794518</td>\n",
       "      <td>13.984498</td>\n",
       "      <td>-600.411070</td>\n",
       "    </tr>\n",
       "    <tr>\n",
       "      <th>8</th>\n",
       "      <td>2016-01-15 08:00:00</td>\n",
       "      <td>5.834140</td>\n",
       "      <td>10.071156</td>\n",
       "      <td>4.876389</td>\n",
       "      <td>43.404078</td>\n",
       "      <td>69.688595</td>\n",
       "      <td>10.420140</td>\n",
       "      <td>1.065453</td>\n",
       "      <td>17.201948</td>\n",
       "      <td>2.209881</td>\n",
       "      <td>...</td>\n",
       "      <td>13.964030</td>\n",
       "      <td>-504.252450</td>\n",
       "      <td>12.060738</td>\n",
       "      <td>-501.174549</td>\n",
       "      <td>10.033838</td>\n",
       "      <td>-501.178133</td>\n",
       "      <td>7.881604</td>\n",
       "      <td>-499.729434</td>\n",
       "      <td>13.967135</td>\n",
       "      <td>-599.061188</td>\n",
       "    </tr>\n",
       "    <tr>\n",
       "      <th>9</th>\n",
       "      <td>2016-01-15 09:00:00</td>\n",
       "      <td>5.687063</td>\n",
       "      <td>9.980404</td>\n",
       "      <td>5.282514</td>\n",
       "      <td>43.235220</td>\n",
       "      <td>70.279619</td>\n",
       "      <td>10.487013</td>\n",
       "      <td>1.159805</td>\n",
       "      <td>17.483979</td>\n",
       "      <td>2.209593</td>\n",
       "      <td>...</td>\n",
       "      <td>13.989632</td>\n",
       "      <td>-503.195299</td>\n",
       "      <td>12.052233</td>\n",
       "      <td>-500.928547</td>\n",
       "      <td>9.962574</td>\n",
       "      <td>-502.986357</td>\n",
       "      <td>7.979219</td>\n",
       "      <td>-500.146835</td>\n",
       "      <td>13.981614</td>\n",
       "      <td>-598.070855</td>\n",
       "    </tr>\n",
       "    <tr>\n",
       "      <th>10</th>\n",
       "      <td>2016-01-15 10:00:00</td>\n",
       "      <td>5.706261</td>\n",
       "      <td>10.242511</td>\n",
       "      <td>5.214161</td>\n",
       "      <td>43.487291</td>\n",
       "      <td>70.973641</td>\n",
       "      <td>10.473539</td>\n",
       "      <td>1.171183</td>\n",
       "      <td>17.717049</td>\n",
       "      <td>2.200997</td>\n",
       "      <td>...</td>\n",
       "      <td>14.008944</td>\n",
       "      <td>-504.170807</td>\n",
       "      <td>11.995903</td>\n",
       "      <td>-501.269181</td>\n",
       "      <td>10.043100</td>\n",
       "      <td>-498.529996</td>\n",
       "      <td>8.002633</td>\n",
       "      <td>-499.761922</td>\n",
       "      <td>14.004767</td>\n",
       "      <td>-599.595324</td>\n",
       "    </tr>\n",
       "    <tr>\n",
       "      <th>11</th>\n",
       "      <td>2016-01-15 11:00:00</td>\n",
       "      <td>5.582300</td>\n",
       "      <td>10.029878</td>\n",
       "      <td>5.751567</td>\n",
       "      <td>43.467440</td>\n",
       "      <td>71.380681</td>\n",
       "      <td>10.394314</td>\n",
       "      <td>1.087722</td>\n",
       "      <td>18.059770</td>\n",
       "      <td>2.098777</td>\n",
       "      <td>...</td>\n",
       "      <td>14.029704</td>\n",
       "      <td>-503.940828</td>\n",
       "      <td>12.022296</td>\n",
       "      <td>-501.238477</td>\n",
       "      <td>10.020094</td>\n",
       "      <td>-500.061845</td>\n",
       "      <td>7.964024</td>\n",
       "      <td>-499.283982</td>\n",
       "      <td>14.003011</td>\n",
       "      <td>-599.879856</td>\n",
       "    </tr>\n",
       "    <tr>\n",
       "      <th>12</th>\n",
       "      <td>2016-01-15 12:00:00</td>\n",
       "      <td>5.664983</td>\n",
       "      <td>10.168953</td>\n",
       "      <td>5.484318</td>\n",
       "      <td>43.339714</td>\n",
       "      <td>72.659046</td>\n",
       "      <td>10.475957</td>\n",
       "      <td>1.050592</td>\n",
       "      <td>17.525656</td>\n",
       "      <td>2.064422</td>\n",
       "      <td>...</td>\n",
       "      <td>13.983963</td>\n",
       "      <td>-503.675714</td>\n",
       "      <td>11.928745</td>\n",
       "      <td>-500.583183</td>\n",
       "      <td>9.970359</td>\n",
       "      <td>-498.822343</td>\n",
       "      <td>8.016377</td>\n",
       "      <td>-499.013145</td>\n",
       "      <td>14.000032</td>\n",
       "      <td>-600.024741</td>\n",
       "    </tr>\n",
       "    <tr>\n",
       "      <th>13</th>\n",
       "      <td>2016-01-15 13:00:00</td>\n",
       "      <td>5.474776</td>\n",
       "      <td>9.813218</td>\n",
       "      <td>5.587525</td>\n",
       "      <td>44.099758</td>\n",
       "      <td>73.588844</td>\n",
       "      <td>10.378293</td>\n",
       "      <td>0.900833</td>\n",
       "      <td>17.464201</td>\n",
       "      <td>1.975039</td>\n",
       "      <td>...</td>\n",
       "      <td>13.981325</td>\n",
       "      <td>-504.947519</td>\n",
       "      <td>12.014060</td>\n",
       "      <td>-500.647565</td>\n",
       "      <td>10.000087</td>\n",
       "      <td>-499.306972</td>\n",
       "      <td>8.002007</td>\n",
       "      <td>-499.970754</td>\n",
       "      <td>14.019977</td>\n",
       "      <td>-599.986714</td>\n",
       "    </tr>\n",
       "    <tr>\n",
       "      <th>14</th>\n",
       "      <td>2016-01-15 14:00:00</td>\n",
       "      <td>5.437716</td>\n",
       "      <td>9.781181</td>\n",
       "      <td>6.057627</td>\n",
       "      <td>44.284117</td>\n",
       "      <td>70.847012</td>\n",
       "      <td>10.324415</td>\n",
       "      <td>0.961210</td>\n",
       "      <td>18.185262</td>\n",
       "      <td>2.161256</td>\n",
       "      <td>...</td>\n",
       "      <td>13.996317</td>\n",
       "      <td>-502.995300</td>\n",
       "      <td>11.980055</td>\n",
       "      <td>-500.607751</td>\n",
       "      <td>9.964501</td>\n",
       "      <td>-499.261719</td>\n",
       "      <td>8.065048</td>\n",
       "      <td>-499.492395</td>\n",
       "      <td>13.997801</td>\n",
       "      <td>-600.621416</td>\n",
       "    </tr>\n",
       "    <tr>\n",
       "      <th>15</th>\n",
       "      <td>2016-01-15 15:00:00</td>\n",
       "      <td>5.454277</td>\n",
       "      <td>10.019066</td>\n",
       "      <td>5.744694</td>\n",
       "      <td>44.081600</td>\n",
       "      <td>68.753219</td>\n",
       "      <td>10.352547</td>\n",
       "      <td>1.137378</td>\n",
       "      <td>18.431646</td>\n",
       "      <td>2.336759</td>\n",
       "      <td>...</td>\n",
       "      <td>14.015223</td>\n",
       "      <td>-503.202022</td>\n",
       "      <td>11.994299</td>\n",
       "      <td>-500.337803</td>\n",
       "      <td>10.037149</td>\n",
       "      <td>-499.395047</td>\n",
       "      <td>8.056439</td>\n",
       "      <td>-499.479716</td>\n",
       "      <td>13.977626</td>\n",
       "      <td>-600.075029</td>\n",
       "    </tr>\n",
       "    <tr>\n",
       "      <th>16</th>\n",
       "      <td>2016-01-15 16:00:00</td>\n",
       "      <td>5.410126</td>\n",
       "      <td>10.868937</td>\n",
       "      <td>6.258693</td>\n",
       "      <td>43.440341</td>\n",
       "      <td>67.839536</td>\n",
       "      <td>10.382891</td>\n",
       "      <td>1.239738</td>\n",
       "      <td>18.544924</td>\n",
       "      <td>2.423143</td>\n",
       "      <td>...</td>\n",
       "      <td>14.031220</td>\n",
       "      <td>-503.471307</td>\n",
       "      <td>11.966426</td>\n",
       "      <td>-500.656842</td>\n",
       "      <td>10.051620</td>\n",
       "      <td>-498.318772</td>\n",
       "      <td>8.018091</td>\n",
       "      <td>-499.696138</td>\n",
       "      <td>13.958937</td>\n",
       "      <td>-599.213013</td>\n",
       "    </tr>\n",
       "    <tr>\n",
       "      <th>17</th>\n",
       "      <td>2016-01-15 17:00:00</td>\n",
       "      <td>5.572499</td>\n",
       "      <td>10.841483</td>\n",
       "      <td>6.841936</td>\n",
       "      <td>42.844534</td>\n",
       "      <td>69.633763</td>\n",
       "      <td>10.349616</td>\n",
       "      <td>1.179975</td>\n",
       "      <td>18.748028</td>\n",
       "      <td>2.327442</td>\n",
       "      <td>...</td>\n",
       "      <td>14.019768</td>\n",
       "      <td>-541.569984</td>\n",
       "      <td>12.021831</td>\n",
       "      <td>-545.572166</td>\n",
       "      <td>10.021058</td>\n",
       "      <td>-501.386982</td>\n",
       "      <td>7.947110</td>\n",
       "      <td>-500.062750</td>\n",
       "      <td>14.014991</td>\n",
       "      <td>-600.670573</td>\n",
       "    </tr>\n",
       "    <tr>\n",
       "      <th>18</th>\n",
       "      <td>2016-01-15 18:00:00</td>\n",
       "      <td>5.719113</td>\n",
       "      <td>10.621027</td>\n",
       "      <td>6.459561</td>\n",
       "      <td>42.435181</td>\n",
       "      <td>68.786981</td>\n",
       "      <td>10.286797</td>\n",
       "      <td>1.171459</td>\n",
       "      <td>19.131121</td>\n",
       "      <td>2.314786</td>\n",
       "      <td>...</td>\n",
       "      <td>14.003057</td>\n",
       "      <td>-503.152258</td>\n",
       "      <td>12.016724</td>\n",
       "      <td>-501.136446</td>\n",
       "      <td>10.041864</td>\n",
       "      <td>-499.338844</td>\n",
       "      <td>8.007022</td>\n",
       "      <td>-500.279583</td>\n",
       "      <td>14.001271</td>\n",
       "      <td>-602.072365</td>\n",
       "    </tr>\n",
       "    <tr>\n",
       "      <th>19</th>\n",
       "      <td>2016-01-15 19:00:00</td>\n",
       "      <td>5.658943</td>\n",
       "      <td>10.436002</td>\n",
       "      <td>5.942418</td>\n",
       "      <td>42.509402</td>\n",
       "      <td>70.348300</td>\n",
       "      <td>10.232392</td>\n",
       "      <td>1.174845</td>\n",
       "      <td>19.498566</td>\n",
       "      <td>2.272460</td>\n",
       "      <td>...</td>\n",
       "      <td>14.001632</td>\n",
       "      <td>-509.808331</td>\n",
       "      <td>12.087669</td>\n",
       "      <td>-510.782166</td>\n",
       "      <td>10.032043</td>\n",
       "      <td>-499.128183</td>\n",
       "      <td>8.016140</td>\n",
       "      <td>-499.806844</td>\n",
       "      <td>13.949790</td>\n",
       "      <td>-600.140776</td>\n",
       "    </tr>\n",
       "  </tbody>\n",
       "</table>\n",
       "<p>20 rows × 87 columns</p>\n",
       "</div>"
      ],
      "text/plain": [
       "                   date  final.output.concentrate_ag  \\\n",
       "0   2016-01-15 00:00:00                     6.055403   \n",
       "1   2016-01-15 01:00:00                     6.029369   \n",
       "2   2016-01-15 02:00:00                     6.055926   \n",
       "3   2016-01-15 03:00:00                     6.047977   \n",
       "4   2016-01-15 04:00:00                     6.148599   \n",
       "5   2016-01-15 05:00:00                     6.482968   \n",
       "6   2016-01-15 06:00:00                     6.533849   \n",
       "7   2016-01-15 07:00:00                     6.130823   \n",
       "8   2016-01-15 08:00:00                     5.834140   \n",
       "9   2016-01-15 09:00:00                     5.687063   \n",
       "10  2016-01-15 10:00:00                     5.706261   \n",
       "11  2016-01-15 11:00:00                     5.582300   \n",
       "12  2016-01-15 12:00:00                     5.664983   \n",
       "13  2016-01-15 13:00:00                     5.474776   \n",
       "14  2016-01-15 14:00:00                     5.437716   \n",
       "15  2016-01-15 15:00:00                     5.454277   \n",
       "16  2016-01-15 16:00:00                     5.410126   \n",
       "17  2016-01-15 17:00:00                     5.572499   \n",
       "18  2016-01-15 18:00:00                     5.719113   \n",
       "19  2016-01-15 19:00:00                     5.658943   \n",
       "\n",
       "    final.output.concentrate_pb  final.output.concentrate_sol  \\\n",
       "0                      9.889648                      5.507324   \n",
       "1                      9.968944                      5.257781   \n",
       "2                     10.213995                      5.383759   \n",
       "3                      9.977019                      4.858634   \n",
       "4                     10.142511                      4.939416   \n",
       "5                     10.049416                      5.480257   \n",
       "6                     10.058141                      4.569100   \n",
       "7                      9.935481                      4.389813   \n",
       "8                     10.071156                      4.876389   \n",
       "9                      9.980404                      5.282514   \n",
       "10                    10.242511                      5.214161   \n",
       "11                    10.029878                      5.751567   \n",
       "12                    10.168953                      5.484318   \n",
       "13                     9.813218                      5.587525   \n",
       "14                     9.781181                      6.057627   \n",
       "15                    10.019066                      5.744694   \n",
       "16                    10.868937                      6.258693   \n",
       "17                    10.841483                      6.841936   \n",
       "18                    10.621027                      6.459561   \n",
       "19                    10.436002                      5.942418   \n",
       "\n",
       "    final.output.concentrate_au  final.output.recovery  final.output.tail_ag  \\\n",
       "0                     42.192020              70.541216             10.411962   \n",
       "1                     42.701629              69.266198             10.462676   \n",
       "2                     42.657501              68.116445             10.507046   \n",
       "3                     42.689819              68.347543             10.422762   \n",
       "4                     42.774141              66.927016             10.360302   \n",
       "5                     41.633678              69.465816             10.182708   \n",
       "6                     41.995316              69.300835             10.304598   \n",
       "7                     42.452727              70.230976             10.443288   \n",
       "8                     43.404078              69.688595             10.420140   \n",
       "9                     43.235220              70.279619             10.487013   \n",
       "10                    43.487291              70.973641             10.473539   \n",
       "11                    43.467440              71.380681             10.394314   \n",
       "12                    43.339714              72.659046             10.475957   \n",
       "13                    44.099758              73.588844             10.378293   \n",
       "14                    44.284117              70.847012             10.324415   \n",
       "15                    44.081600              68.753219             10.352547   \n",
       "16                    43.440341              67.839536             10.382891   \n",
       "17                    42.844534              69.633763             10.349616   \n",
       "18                    42.435181              68.786981             10.286797   \n",
       "19                    42.509402              70.348300             10.232392   \n",
       "\n",
       "    final.output.tail_pb  final.output.tail_sol  final.output.tail_au  ...  \\\n",
       "0               0.895447              16.904297              2.143149  ...   \n",
       "1               0.927452              16.634514              2.224930  ...   \n",
       "2               0.953716              16.208849              2.257889  ...   \n",
       "3               0.883763              16.532835              2.146849  ...   \n",
       "4               0.792826              16.525686              2.055292  ...   \n",
       "5               0.664118              16.999638              1.918586  ...   \n",
       "6               0.807342              16.723575              2.058913  ...   \n",
       "7               0.949346              16.689959              2.143437  ...   \n",
       "8               1.065453              17.201948              2.209881  ...   \n",
       "9               1.159805              17.483979              2.209593  ...   \n",
       "10              1.171183              17.717049              2.200997  ...   \n",
       "11              1.087722              18.059770              2.098777  ...   \n",
       "12              1.050592              17.525656              2.064422  ...   \n",
       "13              0.900833              17.464201              1.975039  ...   \n",
       "14              0.961210              18.185262              2.161256  ...   \n",
       "15              1.137378              18.431646              2.336759  ...   \n",
       "16              1.239738              18.544924              2.423143  ...   \n",
       "17              1.179975              18.748028              2.327442  ...   \n",
       "18              1.171459              19.131121              2.314786  ...   \n",
       "19              1.174845              19.498566              2.272460  ...   \n",
       "\n",
       "    secondary_cleaner.state.floatbank4_a_air  \\\n",
       "0                                  14.016835   \n",
       "1                                  13.992281   \n",
       "2                                  14.015015   \n",
       "3                                  14.036510   \n",
       "4                                  14.027298   \n",
       "5                                  13.938497   \n",
       "6                                  14.046819   \n",
       "7                                  13.974691   \n",
       "8                                  13.964030   \n",
       "9                                  13.989632   \n",
       "10                                 14.008944   \n",
       "11                                 14.029704   \n",
       "12                                 13.983963   \n",
       "13                                 13.981325   \n",
       "14                                 13.996317   \n",
       "15                                 14.015223   \n",
       "16                                 14.031220   \n",
       "17                                 14.019768   \n",
       "18                                 14.003057   \n",
       "19                                 14.001632   \n",
       "\n",
       "    secondary_cleaner.state.floatbank4_a_level  \\\n",
       "0                                  -502.488007   \n",
       "1                                  -505.503262   \n",
       "2                                  -502.520901   \n",
       "3                                  -500.857308   \n",
       "4                                  -499.838632   \n",
       "5                                  -500.970168   \n",
       "6                                  -500.971133   \n",
       "7                                  -501.819696   \n",
       "8                                  -504.252450   \n",
       "9                                  -503.195299   \n",
       "10                                 -504.170807   \n",
       "11                                 -503.940828   \n",
       "12                                 -503.675714   \n",
       "13                                 -504.947519   \n",
       "14                                 -502.995300   \n",
       "15                                 -503.202022   \n",
       "16                                 -503.471307   \n",
       "17                                 -541.569984   \n",
       "18                                 -503.152258   \n",
       "19                                 -509.808331   \n",
       "\n",
       "    secondary_cleaner.state.floatbank4_b_air  \\\n",
       "0                                  12.099931   \n",
       "1                                  11.950531   \n",
       "2                                  11.912783   \n",
       "3                                  11.999550   \n",
       "4                                  11.953070   \n",
       "5                                  11.883350   \n",
       "6                                  12.091543   \n",
       "7                                  12.101324   \n",
       "8                                  12.060738   \n",
       "9                                  12.052233   \n",
       "10                                 11.995903   \n",
       "11                                 12.022296   \n",
       "12                                 11.928745   \n",
       "13                                 12.014060   \n",
       "14                                 11.980055   \n",
       "15                                 11.994299   \n",
       "16                                 11.966426   \n",
       "17                                 12.021831   \n",
       "18                                 12.016724   \n",
       "19                                 12.087669   \n",
       "\n",
       "    secondary_cleaner.state.floatbank4_b_level  \\\n",
       "0                                  -504.715942   \n",
       "1                                  -501.331529   \n",
       "2                                  -501.133383   \n",
       "3                                  -501.193686   \n",
       "4                                  -501.053894   \n",
       "5                                  -500.395298   \n",
       "6                                  -500.501426   \n",
       "7                                  -500.583446   \n",
       "8                                  -501.174549   \n",
       "9                                  -500.928547   \n",
       "10                                 -501.269181   \n",
       "11                                 -501.238477   \n",
       "12                                 -500.583183   \n",
       "13                                 -500.647565   \n",
       "14                                 -500.607751   \n",
       "15                                 -500.337803   \n",
       "16                                 -500.656842   \n",
       "17                                 -545.572166   \n",
       "18                                 -501.136446   \n",
       "19                                 -510.782166   \n",
       "\n",
       "    secondary_cleaner.state.floatbank5_a_air  \\\n",
       "0                                   9.925633   \n",
       "1                                  10.039245   \n",
       "2                                  10.070913   \n",
       "3                                   9.970366   \n",
       "4                                   9.925709   \n",
       "5                                  10.054147   \n",
       "6                                  10.003247   \n",
       "7                                   9.873169   \n",
       "8                                  10.033838   \n",
       "9                                   9.962574   \n",
       "10                                 10.043100   \n",
       "11                                 10.020094   \n",
       "12                                  9.970359   \n",
       "13                                 10.000087   \n",
       "14                                  9.964501   \n",
       "15                                 10.037149   \n",
       "16                                 10.051620   \n",
       "17                                 10.021058   \n",
       "18                                 10.041864   \n",
       "19                                 10.032043   \n",
       "\n",
       "    secondary_cleaner.state.floatbank5_a_level  \\\n",
       "0                                  -498.310211   \n",
       "1                                  -500.169983   \n",
       "2                                  -500.129135   \n",
       "3                                  -499.201640   \n",
       "4                                  -501.686727   \n",
       "5                                  -496.374715   \n",
       "6                                  -497.083180   \n",
       "7                                  -499.171928   \n",
       "8                                  -501.178133   \n",
       "9                                  -502.986357   \n",
       "10                                 -498.529996   \n",
       "11                                 -500.061845   \n",
       "12                                 -498.822343   \n",
       "13                                 -499.306972   \n",
       "14                                 -499.261719   \n",
       "15                                 -499.395047   \n",
       "16                                 -498.318772   \n",
       "17                                 -501.386982   \n",
       "18                                 -499.338844   \n",
       "19                                 -499.128183   \n",
       "\n",
       "    secondary_cleaner.state.floatbank5_b_air  \\\n",
       "0                                   8.079666   \n",
       "1                                   7.984757   \n",
       "2                                   8.013877   \n",
       "3                                   7.977324   \n",
       "4                                   7.894242   \n",
       "5                                   7.965083   \n",
       "6                                   8.010890   \n",
       "7                                   7.993381   \n",
       "8                                   7.881604   \n",
       "9                                   7.979219   \n",
       "10                                  8.002633   \n",
       "11                                  7.964024   \n",
       "12                                  8.016377   \n",
       "13                                  8.002007   \n",
       "14                                  8.065048   \n",
       "15                                  8.056439   \n",
       "16                                  8.018091   \n",
       "17                                  7.947110   \n",
       "18                                  8.007022   \n",
       "19                                  8.016140   \n",
       "\n",
       "    secondary_cleaner.state.floatbank5_b_level  \\\n",
       "0                                  -500.470978   \n",
       "1                                  -500.582168   \n",
       "2                                  -500.517572   \n",
       "3                                  -500.255908   \n",
       "4                                  -500.356035   \n",
       "5                                  -499.364752   \n",
       "6                                  -500.002423   \n",
       "7                                  -499.794518   \n",
       "8                                  -499.729434   \n",
       "9                                  -500.146835   \n",
       "10                                 -499.761922   \n",
       "11                                 -499.283982   \n",
       "12                                 -499.013145   \n",
       "13                                 -499.970754   \n",
       "14                                 -499.492395   \n",
       "15                                 -499.479716   \n",
       "16                                 -499.696138   \n",
       "17                                 -500.062750   \n",
       "18                                 -500.279583   \n",
       "19                                 -499.806844   \n",
       "\n",
       "    secondary_cleaner.state.floatbank6_a_air  \\\n",
       "0                                  14.151341   \n",
       "1                                  13.998353   \n",
       "2                                  14.028663   \n",
       "3                                  14.005551   \n",
       "4                                  13.996647   \n",
       "5                                  14.017067   \n",
       "6                                  14.029649   \n",
       "7                                  13.984498   \n",
       "8                                  13.967135   \n",
       "9                                  13.981614   \n",
       "10                                 14.004767   \n",
       "11                                 14.003011   \n",
       "12                                 14.000032   \n",
       "13                                 14.019977   \n",
       "14                                 13.997801   \n",
       "15                                 13.977626   \n",
       "16                                 13.958937   \n",
       "17                                 14.014991   \n",
       "18                                 14.001271   \n",
       "19                                 13.949790   \n",
       "\n",
       "    secondary_cleaner.state.floatbank6_a_level  \n",
       "0                                  -605.841980  \n",
       "1                                  -599.787184  \n",
       "2                                  -601.427363  \n",
       "3                                  -599.996129  \n",
       "4                                  -601.496691  \n",
       "5                                  -599.707915  \n",
       "6                                  -600.905470  \n",
       "7                                  -600.411070  \n",
       "8                                  -599.061188  \n",
       "9                                  -598.070855  \n",
       "10                                 -599.595324  \n",
       "11                                 -599.879856  \n",
       "12                                 -600.024741  \n",
       "13                                 -599.986714  \n",
       "14                                 -600.621416  \n",
       "15                                 -600.075029  \n",
       "16                                 -599.213013  \n",
       "17                                 -600.670573  \n",
       "18                                 -602.072365  \n",
       "19                                 -600.140776  \n",
       "\n",
       "[20 rows x 87 columns]"
      ]
     },
     "execution_count": 7,
     "metadata": {},
     "output_type": "execute_result"
    }
   ],
   "source": [
    "full_data.head(20)"
   ]
  },
  {
   "cell_type": "markdown",
   "metadata": {},
   "source": [
    "Также мы можем заметить, что наблюдения в выборках привязаны ко времени и перечислены по возрастанию. Это стоит иметь в виду,  т.к. может помочь в заполнении пропусков."
   ]
  },
  {
   "cell_type": "markdown",
   "metadata": {},
   "source": [
    "### Проверим корректность расчета параметра эффективности обогащения (recovery)"
   ]
  },
  {
   "cell_type": "code",
   "execution_count": 8,
   "metadata": {},
   "outputs": [],
   "source": [
    "# объявим функцию для расчета параметра\n",
    "\n",
    "#C — доля золота в концентрате после флотации/очистки;\n",
    "#F — доля золота в сырье/концентрате до флотации/очистки;\n",
    "#T — доля золота в отвальных хвостах после флотации/очистки.\n",
    "\n",
    "# recovery = (C*(F-T)) / (F*(C-T)) * 100\n",
    "\n",
    "(input_au,\n",
    " output_au,\n",
    " output_tail) = (train_sample['rougher.input.feed_au'],\n",
    "                 train_sample['rougher.output.concentrate_au'],\n",
    "                 train_sample['rougher.output.tail_au'])\n",
    "\n",
    "calculated_recovery = (((output_au) * ((input_au) - (output_tail)))/\n",
    "                      (((input_au) * ((output_au) - (output_tail))))) * 100"
   ]
  },
  {
   "cell_type": "code",
   "execution_count": 9,
   "metadata": {},
   "outputs": [
    {
     "name": "stdout",
     "output_type": "stream",
     "text": [
      "0        87.107763\n",
      "1        86.843261\n",
      "2        86.842308\n",
      "3        87.226430\n",
      "4        86.688794\n",
      "           ...    \n",
      "14144    89.574376\n",
      "14145    87.724007\n",
      "14146    88.890579\n",
      "14147    89.858126\n",
      "14148    89.514960\n",
      "Length: 14149, dtype: float64\n"
     ]
    }
   ],
   "source": [
    "print(calculated_recovery)"
   ]
  },
  {
   "cell_type": "code",
   "execution_count": 10,
   "metadata": {},
   "outputs": [
    {
     "data": {
      "text/plain": [
       "9.73512347450521e-15"
      ]
     },
     "execution_count": 10,
     "metadata": {},
     "output_type": "execute_result"
    }
   ],
   "source": [
    "# найдем среднюю абсолютную ошибку между нашими расчетами и значениями признака в датафрейме\n",
    "\n",
    "target_recovery = train_sample['rougher.output.recovery']\n",
    "\n",
    "mean_absolute_error(target_recovery, calculated_recovery)"
   ]
  },
  {
   "cell_type": "markdown",
   "metadata": {},
   "source": [
    "Значение средей абсолютной ошибки очень мало, поэтому будем считать, что параметр recovery рассчитан верно."
   ]
  },
  {
   "cell_type": "markdown",
   "metadata": {},
   "source": [
    "### Посмотрим на состав признаков в обучающей и тестовой выборках"
   ]
  },
  {
   "cell_type": "code",
   "execution_count": 11,
   "metadata": {},
   "outputs": [],
   "source": [
    "# попробуем найти признаки, отсутствующие в тестовой выборке через set'ы\n",
    "\n",
    "train_cols = set(train_sample.columns)\n",
    "test_cols = set(test_sample.columns)\n",
    "\n",
    "discrepancies_in_columns = train_cols - test_cols"
   ]
  },
  {
   "cell_type": "code",
   "execution_count": 12,
   "metadata": {},
   "outputs": [
    {
     "data": {
      "text/plain": [
       "{'final.output.concentrate_ag',\n",
       " 'final.output.concentrate_au',\n",
       " 'final.output.concentrate_pb',\n",
       " 'final.output.concentrate_sol',\n",
       " 'final.output.recovery',\n",
       " 'final.output.tail_ag',\n",
       " 'final.output.tail_au',\n",
       " 'final.output.tail_pb',\n",
       " 'final.output.tail_sol',\n",
       " 'primary_cleaner.output.concentrate_ag',\n",
       " 'primary_cleaner.output.concentrate_au',\n",
       " 'primary_cleaner.output.concentrate_pb',\n",
       " 'primary_cleaner.output.concentrate_sol',\n",
       " 'primary_cleaner.output.tail_ag',\n",
       " 'primary_cleaner.output.tail_au',\n",
       " 'primary_cleaner.output.tail_pb',\n",
       " 'primary_cleaner.output.tail_sol',\n",
       " 'rougher.calculation.au_pb_ratio',\n",
       " 'rougher.calculation.floatbank10_sulfate_to_au_feed',\n",
       " 'rougher.calculation.floatbank11_sulfate_to_au_feed',\n",
       " 'rougher.calculation.sulfate_to_au_concentrate',\n",
       " 'rougher.output.concentrate_ag',\n",
       " 'rougher.output.concentrate_au',\n",
       " 'rougher.output.concentrate_pb',\n",
       " 'rougher.output.concentrate_sol',\n",
       " 'rougher.output.recovery',\n",
       " 'rougher.output.tail_ag',\n",
       " 'rougher.output.tail_au',\n",
       " 'rougher.output.tail_pb',\n",
       " 'rougher.output.tail_sol',\n",
       " 'secondary_cleaner.output.tail_ag',\n",
       " 'secondary_cleaner.output.tail_au',\n",
       " 'secondary_cleaner.output.tail_pb',\n",
       " 'secondary_cleaner.output.tail_sol'}"
      ]
     },
     "execution_count": 12,
     "metadata": {},
     "output_type": "execute_result"
    }
   ],
   "source": [
    "discrepancies_in_columns"
   ]
  },
  {
   "cell_type": "markdown",
   "metadata": {},
   "source": [
    "**Выводы:**\n",
    "\n",
    "- 30 из 34 пропущенных признаков относятся к параметрам продукта, 4 оставшихся - к расчетным характеристикам;\n",
    "- 9 пропущенных признаков относятся к этапу final, 8 - к primary_cleaner, 9 - к rougher, 4 - к secondary_cleaner, все они относятся к параметрам продукта;\n",
    "- 4 пропущенных признака этапа rougher относятся к расчетным характеристикам;\n",
    "- На всех этапах отсутствует информация об отвальных хвостах;\n",
    "- На всех этапах, кроме повторной очистки отсутствует информация о доле металлов;\n",
    "- У финального этапа и этапа флотации отсутствуют признаки обогащения;\n",
    "- Так же отсутствуют данные о некоторых флоатационных реагентах.\n",
    "\n",
    "Возможно, данные этих признаков рассчитываются позднее или их нельзя получить/измерить во время выполнения технологического процесса.\n",
    "\n",
    "Можем сделать вывод о том, что нам необходимо очистить обучающую выборку от лишних признаков, т.к. в модели мы сможем использовать только те признаки, которые есть в обеих выборках."
   ]
  },
  {
   "cell_type": "code",
   "execution_count": 13,
   "metadata": {},
   "outputs": [
    {
     "data": {
      "text/plain": [
       "(14149, 55)"
      ]
     },
     "execution_count": 13,
     "metadata": {},
     "output_type": "execute_result"
    }
   ],
   "source": [
    "# скорректируем обучающую выборку\n",
    "\n",
    "# выделим те признаки, которые отсутствуют в тестовой выборке\n",
    "missing_columns = train_sample.columns.drop(test_sample.columns)\n",
    "# удалим из списка \"лишних признаков\" таргеты (их тоже нет в тестовой выборке, но они нам нужны)\n",
    "columns_to_drop = missing_columns.drop(['final.output.recovery', 'rougher.output.recovery'])\n",
    "# выделяем признаки, которые необходимы оставить\n",
    "columns_to_remain = train_sample.columns.drop(columns_to_drop)\n",
    "# оставим в обучающей выборке только необходимые для обучения модели признаки\n",
    "train_sample = train_sample[columns_to_remain]\n",
    "# посмотрим на размер скорректированной обучающей выборки\n",
    "train_sample.shape"
   ]
  },
  {
   "cell_type": "code",
   "execution_count": 14,
   "metadata": {},
   "outputs": [
    {
     "data": {
      "text/plain": [
       "(5290, 55)"
      ]
     },
     "execution_count": 14,
     "metadata": {},
     "output_type": "execute_result"
    }
   ],
   "source": [
    "# скорректируем тестовую выборку, восстановив из full_data для наблюдений выборки таргеты\n",
    "\n",
    "target_features_to_join = full_data[['date', 'final.output.recovery', 'rougher.output.recovery']].copy()\n",
    "test_sample = test_sample.join(target_features_to_join.set_index('date'), on='date')\n",
    "test_sample.shape"
   ]
  },
  {
   "cell_type": "markdown",
   "metadata": {},
   "source": [
    "### Предобработка данных"
   ]
  },
  {
   "cell_type": "code",
   "execution_count": 15,
   "metadata": {},
   "outputs": [
    {
     "name": "stdout",
     "output_type": "stream",
     "text": [
      "train_sample : 1705\n",
      "test_sample : 90\n",
      "full_data : 4481\n"
     ]
    }
   ],
   "source": [
    "# проверим выборки на количество пропусков\n",
    "data_list = [train_sample, test_sample, full_data]\n",
    "data_name = ['train_sample', 'test_sample', 'full_data']\n",
    "\n",
    "for data,name in zip(data_list, data_name):\n",
    "    nan_sum = (data.isna().sum())\n",
    "    total_nan = pd.Series(nan_sum).sum()\n",
    "    print(name, ':' ,  total_nan)"
   ]
  },
  {
   "cell_type": "code",
   "execution_count": 16,
   "metadata": {},
   "outputs": [
    {
     "name": "stdout",
     "output_type": "stream",
     "text": [
      "train_sample : 0\n",
      "test_sample : 0\n",
      "full_data : 0\n"
     ]
    }
   ],
   "source": [
    "# проверим выборки на количество дубликатов\n",
    "\n",
    "for data,name in zip(data_list, data_name):\n",
    "    duplicates = data.duplicated().sum()\n",
    "    print(name, ':' ,  duplicates)"
   ]
  },
  {
   "cell_type": "code",
   "execution_count": 17,
   "metadata": {},
   "outputs": [],
   "source": [
    "# пропуски в столбцах с параметрами эффективности обогощения удалим, т.к. на пропусках модель не обучится\n",
    "train_sample = train_sample.dropna(subset=[\"rougher.output.recovery\",\"final.output.recovery\"], axis = 0)\n",
    "test_sample = test_sample.dropna(subset=[\"rougher.output.recovery\",\"final.output.recovery\"], axis = 0)"
   ]
  },
  {
   "cell_type": "code",
   "execution_count": 18,
   "metadata": {},
   "outputs": [],
   "source": [
    "# заполним пропуски в выборках\n",
    "\n",
    "train_sample_clean = train_sample.fillna(method = 'ffill')\n",
    "test_sample_clean = test_sample.fillna(method = 'ffill')\n",
    "full_data_clean = full_data.fillna(method = 'ffill')"
   ]
  },
  {
   "cell_type": "code",
   "execution_count": 19,
   "metadata": {},
   "outputs": [
    {
     "name": "stdout",
     "output_type": "stream",
     "text": [
      "train_sample_clean : 0\n",
      "test_sample_clean : 0\n",
      "full_data_clean : 0\n"
     ]
    }
   ],
   "source": [
    "# проверим на наличие Nan значений в \"очищенных\" датасетах\n",
    "\n",
    "clean_data_list = [train_sample_clean, test_sample_clean, full_data_clean]\n",
    "clean_data_name = ['train_sample_clean', 'test_sample_clean', 'full_data_clean']\n",
    "\n",
    "for data,name in zip(clean_data_list, clean_data_name):\n",
    "    nan_sum = (data.isna().sum())\n",
    "    total_nan = pd.Series(nan_sum).sum()\n",
    "    print(name, ':' ,  total_nan)"
   ]
  },
  {
   "cell_type": "code",
   "execution_count": 20,
   "metadata": {
    "scrolled": true
   },
   "outputs": [
    {
     "name": "stdout",
     "output_type": "stream",
     "text": [
      "Объем данных в обучающей выборке: (14149, 55)\n",
      "\n",
      "Объем данных в тестовой выборке: (5290, 55)\n",
      "\n",
      "Общий объем данных: (19439, 87)\n"
     ]
    }
   ],
   "source": [
    "# посмотрим на размеры \"очищенных\" датафреймов\n",
    "print('Объем данных в обучающей выборке:', train_sample_clean.shape)\n",
    "print()\n",
    "print('Объем данных в тестовой выборке:', test_sample_clean.shape)\n",
    "print()\n",
    "print('Общий объем данных:', full_data_clean.shape)"
   ]
  },
  {
   "cell_type": "markdown",
   "metadata": {},
   "source": [
    "### Выводы"
   ]
  },
  {
   "cell_type": "markdown",
   "metadata": {},
   "source": [
    "- Параметр recovery рассчитан верно;\n",
    "- Проанализированы характер и возможные причины различий в признаках для обучающей и тестовой выборках;\n",
    "- Обучающая выборка \"очищена\" от \"лишних\" признаков, а в тестовую добавлены 2 таргета (индекс по дате зарамера признаков);\n",
    "- Дубликатов в данных нет;\n",
    "- Пропуски в данных заполнены по принципу схожести значений признаков, замеры которых происходили с наименьшей разницей во времени;\n",
    "- Пропуски в целевых признаках удалены."
   ]
  },
  {
   "cell_type": "markdown",
   "metadata": {},
   "source": [
    "## Анализ данных"
   ]
  },
  {
   "cell_type": "markdown",
   "metadata": {},
   "source": [
    "### Изменение концентрации металлов (Au, Ag, Pb) на различных этапах очистки"
   ]
  },
  {
   "cell_type": "markdown",
   "metadata": {},
   "source": [
    "#### Концентрация серебра"
   ]
  },
  {
   "cell_type": "code",
   "execution_count": 21,
   "metadata": {},
   "outputs": [
    {
     "data": {
      "image/png": "[encoded data removed]",
      "text/plain": [
       "<Figure size 1080x360 with 1 Axes>"
      ]
     },
     "metadata": {
      "needs_background": "light"
     },
     "output_type": "display_data"
    }
   ],
   "source": [
    "fig, ax = plt.subplots()\n",
    "full_data_clean['rougher.input.feed_ag'].plot(kind ='kde', figsize = (15,5), linewidth = 2)\n",
    "full_data_clean['rougher.output.concentrate_ag'].plot(kind ='kde', linewidth = 2)\n",
    "full_data_clean['primary_cleaner.output.concentrate_ag'].plot(kind ='kde', linewidth = 2)\n",
    "full_data_clean['final.output.concentrate_ag'].plot(kind ='kde', linewidth = 2)\n",
    "ax.minorticks_on()\n",
    "ax.grid(which='major',\n",
    "        color = 'k', \n",
    "        linewidth = 1)\n",
    "ax.grid(which='minor', \n",
    "        color = 'k', \n",
    "        linestyle = ':')\n",
    "fig.suptitle('Изменение концентрации серебра (Ag) на различных этапах очистки', fontsize=20)\n",
    "plt.legend()\n",
    "plt.xlim(-3,20)\n",
    "plt.show()"
   ]
  },
  {
   "cell_type": "markdown",
   "metadata": {},
   "source": [
    "Концентрация серебра с каждым этапом технологического процесса уменьшается. Наблюдается аномальные значения около нуля, которые могут быть связаны с отсутствием данных от приборов или остановкой производства."
   ]
  },
  {
   "cell_type": "code",
   "execution_count": 22,
   "metadata": {},
   "outputs": [
    {
     "data": {
      "image/png": "[encoded data removed]",
      "text/plain": [
       "<Figure size 1080x360 with 1 Axes>"
      ]
     },
     "metadata": {
      "needs_background": "light"
     },
     "output_type": "display_data"
    }
   ],
   "source": [
    "fig, ax = plt.subplots()\n",
    "full_data_clean['rougher.output.tail_ag'].plot(kind ='kde', figsize = (15,5), linewidth = 2)\n",
    "full_data_clean['primary_cleaner.output.tail_ag'].plot(kind ='kde', linewidth = 2)\n",
    "full_data_clean['secondary_cleaner.output.tail_ag'].plot(kind ='kde', linewidth = 2)\n",
    "full_data_clean['final.output.tail_ag'].plot(kind ='kde', linewidth = 2)\n",
    "ax.minorticks_on()\n",
    "ax.grid(which='major',\n",
    "        color = 'k', \n",
    "        linewidth = 1)\n",
    "ax.grid(which='minor', \n",
    "        color = 'k', \n",
    "        linestyle = ':')\n",
    "fig.suptitle('Изменение концентрации серебра (Ag) в отвальных хвостах на различных этапах очистки', fontsize=20)\n",
    "plt.legend()\n",
    "plt.xlim(-3,30)\n",
    "plt.show()"
   ]
  },
  {
   "cell_type": "markdown",
   "metadata": {},
   "source": [
    "Концентрация серебра в отвальных хвостах сначала возрастает, затем уменьшается. Наблюдаются аномальные значения в районе нуля."
   ]
  },
  {
   "cell_type": "markdown",
   "metadata": {},
   "source": [
    "#### Концентрация свинца"
   ]
  },
  {
   "cell_type": "code",
   "execution_count": 23,
   "metadata": {},
   "outputs": [
    {
     "data": {
      "image/png": "[encoded data removed]",
      "text/plain": [
       "<Figure size 1080x360 with 1 Axes>"
      ]
     },
     "metadata": {
      "needs_background": "light"
     },
     "output_type": "display_data"
    }
   ],
   "source": [
    "fig, ax = plt.subplots()\n",
    "full_data_clean['rougher.input.feed_pb'].plot(kind ='kde', figsize = (15,5), linewidth = 2)\n",
    "full_data_clean['rougher.output.concentrate_pb'].plot(kind ='kde', linewidth = 2)\n",
    "full_data_clean['primary_cleaner.output.concentrate_pb'].plot(kind ='kde', linewidth = 2)\n",
    "full_data_clean['final.output.concentrate_pb'].plot(kind ='kde', linewidth = 2)\n",
    "ax.minorticks_on()\n",
    "ax.grid(which='major',\n",
    "        color = 'k', \n",
    "        linewidth = 1)\n",
    "ax.grid(which='minor', \n",
    "        color = 'k', \n",
    "        linestyle = ':')\n",
    "fig.suptitle('Изменение концентрации свинца (Pb) на различных этапах очистки', fontsize=20)\n",
    "plt.legend()\n",
    "plt.xlim(-3,20)\n",
    "plt.show()"
   ]
  },
  {
   "cell_type": "markdown",
   "metadata": {},
   "source": [
    "Концентрация свинца с каждым этапом технологического процесса увеличивается. Наблюдается аномальные значения около нуля, которые могут быть связаны с отсутствием данных от приборов или остановкой производства."
   ]
  },
  {
   "cell_type": "code",
   "execution_count": 24,
   "metadata": {},
   "outputs": [
    {
     "data": {
      "image/png": "[encoded data removed]",
      "text/plain": [
       "<Figure size 1080x360 with 1 Axes>"
      ]
     },
     "metadata": {
      "needs_background": "light"
     },
     "output_type": "display_data"
    }
   ],
   "source": [
    "fig, ax = plt.subplots()\n",
    "full_data_clean['rougher.output.tail_pb'].plot(kind ='kde', figsize = (15,5), linewidth = 2)\n",
    "full_data_clean['primary_cleaner.output.tail_pb'].plot(kind ='kde', linewidth = 2)\n",
    "full_data_clean['secondary_cleaner.output.tail_pb'].plot(kind ='kde', linewidth = 2)\n",
    "full_data_clean['final.output.tail_pb'].plot(kind ='kde', linewidth = 2)\n",
    "ax.minorticks_on()\n",
    "ax.grid(which='major',\n",
    "        color = 'k', \n",
    "        linewidth = 1)\n",
    "ax.grid(which='minor', \n",
    "        color = 'k', \n",
    "        linestyle = ':')\n",
    "fig.suptitle('Изменение концентрации свинца (Pb) в отвальных хвостах на различных этапах очистки', fontsize=20)\n",
    "plt.legend()\n",
    "plt.xlim(-3,15)\n",
    "plt.show()"
   ]
  },
  {
   "cell_type": "markdown",
   "metadata": {},
   "source": [
    "Концентрация свинца (Pb) в отвальных хвостах увеличивается с каждым этапом технологического процесса, а значение дисперсии увеличивается, это говорит о том, что мы имеем дело процесс рассеяния концентрации свинца. Также наблюдаются выбросы в районе нулевого значения."
   ]
  },
  {
   "cell_type": "markdown",
   "metadata": {},
   "source": [
    "#### Концентрация золота"
   ]
  },
  {
   "cell_type": "code",
   "execution_count": 25,
   "metadata": {},
   "outputs": [
    {
     "data": {
      "image/png": "[encoded data removed]",
      "text/plain": [
       "<Figure size 1080x360 with 1 Axes>"
      ]
     },
     "metadata": {
      "needs_background": "light"
     },
     "output_type": "display_data"
    }
   ],
   "source": [
    "fig, ax = plt.subplots()\n",
    "full_data_clean['rougher.input.feed_au'].plot(kind ='kde', figsize = (15,5), linewidth = 2)\n",
    "full_data_clean['rougher.output.concentrate_au'].plot(kind ='kde', linewidth = 2)\n",
    "full_data_clean['primary_cleaner.output.concentrate_au'].plot(kind ='kde', linewidth = 2)\n",
    "full_data_clean['final.output.concentrate_au'].plot(kind ='kde', linewidth = 2)\n",
    "ax.minorticks_on()\n",
    "ax.grid(which='major',\n",
    "        color = 'k', \n",
    "        linewidth = 1)\n",
    "ax.grid(which='minor', \n",
    "        color = 'k', \n",
    "        linestyle = ':')\n",
    "fig.suptitle('Изменение концентрации золота (Au) на различных этапах очистки', fontsize=20)\n",
    "plt.legend()\n",
    "plt.xlim(-3,60)\n",
    "plt.show()"
   ]
  },
  {
   "cell_type": "markdown",
   "metadata": {},
   "source": [
    "Концентрация золота (Au) на каждом этапе технологического процесса увеличивается. Наблюдается аномальные значения около нуля, которые могут быть связаны с отсутствием данных от приборов или остановкой производства."
   ]
  },
  {
   "cell_type": "code",
   "execution_count": 26,
   "metadata": {},
   "outputs": [
    {
     "data": {
      "image/png": "[encoded data removed]",
      "text/plain": [
       "<Figure size 1080x360 with 1 Axes>"
      ]
     },
     "metadata": {
      "needs_background": "light"
     },
     "output_type": "display_data"
    }
   ],
   "source": [
    "fig, ax = plt.subplots()\n",
    "full_data_clean['rougher.output.tail_au'].plot(kind ='kde', figsize = (15,5), linewidth = 2)\n",
    "full_data_clean['primary_cleaner.output.tail_au'].plot(kind ='kde', linewidth = 2)\n",
    "full_data_clean['secondary_cleaner.output.tail_au'].plot(kind ='kde', linewidth = 2)\n",
    "full_data_clean['final.output.tail_au'].plot(kind ='kde', linewidth = 2)\n",
    "ax.minorticks_on()\n",
    "ax.grid(which='major',\n",
    "        color = 'k', \n",
    "        linewidth = 1)\n",
    "ax.grid(which='minor', \n",
    "        color = 'k', \n",
    "        linestyle = ':')\n",
    "fig.suptitle('Изменение концентрации золота (Au) в отвальных хвостах на различных этапах очистки', fontsize=20)\n",
    "plt.legend()\n",
    "plt.xlim(-3,15)\n",
    "plt.show()"
   ]
  },
  {
   "cell_type": "markdown",
   "metadata": {},
   "source": [
    "Концентрация золота (Au) в отвальных хвостах на каждом этапе технологического процесса увеличивается. Наблюдается аномальные значения около нуля, которые могут быть связаны с отсутствием данных от приборов или остановкой производства."
   ]
  },
  {
   "cell_type": "code",
   "execution_count": 27,
   "metadata": {},
   "outputs": [
    {
     "name": "stdout",
     "output_type": "stream",
     "text": [
      "Концентрация до флотации\n",
      "Концентрация Серебра: 8.79,Свинца: 3.59,Золота: 8.27\n",
      "\n",
      "Концентрация после флотации\n",
      "Коцентрация Серебра: 11.99,Свинца: 7.61,Золота: 19.77\n",
      "\n",
      "Концентрация после первичной очистки\n",
      "Концентрация Серебра: 8.44,Свинца: 9.81,Золота: 32.12\n",
      "\n",
      "Концентрация поле вторичной очистки\n",
      "Концентрация Серебра: 5.17,Свинца: 9.98,Золота: 44.08\n"
     ]
    }
   ],
   "source": [
    "# представим также информацию о концентрации металлов в виде числовых данных\n",
    "print(\"Концентрация до флотации\")\n",
    "print(\"Концентрация Серебра:{: 0.2f},Свинца:{: 0.2f},Золота:{: 0.2f}\".\n",
    "format(full_data_clean[\"rougher.input.feed_ag\"].mean(),\n",
    "full_data_clean[\"rougher.input.feed_pb\"].mean(),\n",
    "full_data_clean[\"rougher.input.feed_au\"].mean()))\n",
    "print()\n",
    "print(\"Концентрация после флотации\")\n",
    "print(\"Коцентрация Серебра:{: 0.2f},Свинца:{: 0.2f},Золота:{: 0.2f}\".\n",
    "format(full_data_clean[\"rougher.output.concentrate_ag\"].mean(),\n",
    "full_data_clean[\"rougher.output.concentrate_pb\"].mean(),\n",
    "full_data_clean[\"rougher.output.concentrate_au\"].mean()))\n",
    "print()\n",
    "print(\"Концентрация после первичной очистки\")\n",
    "print(\"Концентрация Серебра:{: 0.2f},Свинца:{: 0.2f},Золота:{: 0.2f}\".\n",
    "format(full_data_clean[\"primary_cleaner.output.concentrate_ag\"].mean(),\n",
    "full_data_clean[\"primary_cleaner.output.concentrate_pb\"].mean(),\n",
    "full_data_clean[\"primary_cleaner.output.concentrate_au\"].mean()))\n",
    "print()\n",
    "print(\"Концентрация поле вторичной очистки\")\n",
    "print(\"Концентрация Серебра:{: 0.2f},Свинца:{: 0.2f},Золота:{: 0.2f}\".\n",
    "format(full_data_clean[\"final.output.concentrate_ag\"].mean(),\n",
    "full_data_clean[\"final.output.concentrate_pb\"].mean(),\n",
    "full_data_clean[\"final.output.concentrate_au\"].mean()))"
   ]
  },
  {
   "cell_type": "code",
   "execution_count": 28,
   "metadata": {
    "scrolled": true
   },
   "outputs": [
    {
     "name": "stdout",
     "output_type": "stream",
     "text": [
      "Концентрация металлов в отвальных хвостах до флотации\n",
      "Концентрация Серебра: 5.59, Свинца: 0.65, Золота: 1.82\n",
      "\n",
      "Концентрация после флотации\n",
      "Коцентрация Серебра: 16.15,Свинца: 3.43,Золота: 3.91\n",
      "\n",
      "Концентрация после первичной очистки\n",
      "Концентрация Серебра: 14.59,Свинца: 5.78,Золота: 4.34\n",
      "\n",
      "Концентрация поле вторичной очистки\n",
      "Концентрация Серебра: 9.69,Свинца: 2.69,Золота: 3.04\n"
     ]
    }
   ],
   "source": [
    "# представим также информацию о концентрации металлов в отвальных хвостах в виде числовых данных\n",
    "print(\"Концентрация металлов в отвальных хвостах до флотации\")\n",
    "print(\"Концентрация Серебра:{: 0.2f}, Свинца:{: 0.2f}, Золота:{: 0.2f}\".\n",
    "format(full_data_clean[\"rougher.output.tail_ag\"].mean(),\n",
    "full_data_clean[\"rougher.output.tail_pb\"].mean(),\n",
    "full_data_clean[\"rougher.output.tail_au\"].mean()))\n",
    "print()\n",
    "print(\"Концентрация после флотации\")\n",
    "print(\"Коцентрация Серебра:{: 0.2f},Свинца:{: 0.2f},Золота:{: 0.2f}\".\n",
    "format(full_data_clean[\"primary_cleaner.output.tail_ag\"].mean(),\n",
    "full_data_clean[\"primary_cleaner.output.tail_pb\"].mean(),\n",
    "full_data_clean[\"primary_cleaner.output.tail_au\"].mean()))\n",
    "print()\n",
    "print(\"Концентрация после первичной очистки\")\n",
    "print(\"Концентрация Серебра:{: 0.2f},Свинца:{: 0.2f},Золота:{: 0.2f}\".\n",
    "format(full_data_clean[\"secondary_cleaner.output.tail_ag\"].mean(),\n",
    "full_data_clean[\"secondary_cleaner.output.tail_pb\"].mean(),\n",
    "full_data_clean[\"secondary_cleaner.output.tail_au\"].mean()))\n",
    "print()\n",
    "print(\"Концентрация поле вторичной очистки\")\n",
    "print(\"Концентрация Серебра:{: 0.2f},Свинца:{: 0.2f},Золота:{: 0.2f}\".\n",
    "format(full_data_clean[\"final.output.tail_ag\"].mean(),\n",
    "full_data_clean[\"final.output.tail_pb\"].mean(),\n",
    "full_data_clean[\"final.output.tail_au\"].mean()))"
   ]
  },
  {
   "cell_type": "markdown",
   "metadata": {},
   "source": [
    "#### Выводы"
   ]
  },
  {
   "cell_type": "markdown",
   "metadata": {},
   "source": [
    "- С каждым этапом технологического процесса увеличивается концентрация золота и свинца, а концентрация серебра снижается;\n",
    "- Концентрация всех трех металлов в отвальных хвостах после флотации резко возрастает, затем идет на спад, но финальное значение больше первоначального;\n",
    "- На всех этапах технологического процесса наблюдается аномальные значения около нуля, которые могут быть связаны с отсутствием данных от приборов или остановкой производства."
   ]
  },
  {
   "cell_type": "markdown",
   "metadata": {},
   "source": [
    "### Сравнение распределения размеров гранул сырья на обучающей и тестовой выборках"
   ]
  },
  {
   "cell_type": "code",
   "execution_count": 29,
   "metadata": {},
   "outputs": [
    {
     "data": {
      "image/png": "[encoded data removed]",
      "text/plain": [
       "<Figure size 1080x360 with 1 Axes>"
      ]
     },
     "metadata": {
      "needs_background": "light"
     },
     "output_type": "display_data"
    }
   ],
   "source": [
    "x = train_sample_clean['rougher.input.feed_size'].copy()\n",
    "y = test_sample_clean['rougher.input.feed_size'].copy()\n",
    "\n",
    "fig, ax = plt.subplots()\n",
    "\n",
    "x.plot(kind = 'kde', figsize = (15,5), label = 'Размер гранул в обуч. выборке')\n",
    "y = test_sample_clean['rougher.input.feed_size']\n",
    "y.plot(kind = 'kde', label = 'Размер гранул в тест. выборке')\n",
    "\n",
    "ax.axvline(51.2, color=\"blue\", linestyle=\"--\", label = 'Средний размер гранул в обуч. выборке')\n",
    "ax.axvline(44.4, color=\"orange\", linestyle=\"--\", label = 'Средний размер гранул в тест. выборке')\n",
    "ax.minorticks_on()\n",
    "ax.grid(which='major',\n",
    "        color = 'k', \n",
    "        linewidth = 2)\n",
    "ax.grid(which='minor', \n",
    "        color = 'k', \n",
    "        linestyle = ':')\n",
    "plt.legend()\n",
    "plt.xlim(0,100)\n",
    "\n",
    "plt.show()"
   ]
  },
  {
   "cell_type": "markdown",
   "metadata": {},
   "source": [
    "Как мы видим, распределения в выборках немного отличаются. В тренировочной выборке преобладают значения около порога 50 и выше, в то же время как в тестовой выборке достаточно большое количество объектов сконцентрированы до порога 50. Так же это заметно и на средних значениях, среднее значение тренировочной выборки на 6 пунктов больше среднего по тестовой выборке.\n",
    "\n",
    "Однако разница в распределении не настолько значительна, чтобы повлиять на оценку модели."
   ]
  },
  {
   "cell_type": "markdown",
   "metadata": {},
   "source": [
    "### Изучение суммарной концентрации всех веществ на разных стадиях: в сырье, в черновом и финальном концентратах"
   ]
  },
  {
   "cell_type": "code",
   "execution_count": 30,
   "metadata": {},
   "outputs": [],
   "source": [
    "concentrate_data = full_data[['date','rougher.input.feed_ag', 'rougher.input.feed_pb', 'rougher.input.feed_sol', \n",
    "                              'rougher.input.feed_au', 'primary_cleaner.output.concentrate_ag', 'primary_cleaner.output.concentrate_pb', \n",
    "                              'primary_cleaner.output.concentrate_sol', 'primary_cleaner.output.concentrate_au', 'final.output.concentrate_ag', \n",
    "                              'final.output.concentrate_pb', 'final.output.concentrate_sol', 'final.output.concentrate_au']].copy()\n",
    "concentrate_data['concentrate_sum_rougher'] = concentrate_data['rougher.input.feed_ag'] + concentrate_data['rougher.input.feed_pb'] + concentrate_data['rougher.input.feed_sol'] + concentrate_data['rougher.input.feed_au']\n",
    "concentrate_data['concentrate_sum_primary'] = concentrate_data['primary_cleaner.output.concentrate_ag'] + concentrate_data['primary_cleaner.output.concentrate_pb'] + concentrate_data['primary_cleaner.output.concentrate_sol'] + concentrate_data['primary_cleaner.output.concentrate_au']\n",
    "concentrate_data['concentrate_sum_final'] = concentrate_data['final.output.concentrate_ag'] + concentrate_data['final.output.concentrate_pb'] + concentrate_data['final.output.concentrate_sol'] + concentrate_data['final.output.concentrate_au']"
   ]
  },
  {
   "cell_type": "code",
   "execution_count": 31,
   "metadata": {},
   "outputs": [],
   "source": [
    "# сумма концентраций всех веществ в сырьевом концентрате\n",
    "rougher_concentrate = concentrate_data['concentrate_sum_rougher']\n",
    "\n",
    "# сумма концентраций всех веществ в черновом концентрате\n",
    "primary_concentrate = concentrate_data['concentrate_sum_primary']\n",
    "\n",
    "# Сумма концентраций всех веществ в финальном концентраций.\n",
    "final_concentrate = concentrate_data['concentrate_sum_final']"
   ]
  },
  {
   "cell_type": "code",
   "execution_count": 32,
   "metadata": {},
   "outputs": [
    {
     "data": {
      "image/png": "[encoded data removed]",
      "text/plain": [
       "<Figure size 1080x360 with 1 Axes>"
      ]
     },
     "metadata": {
      "needs_background": "light"
     },
     "output_type": "display_data"
    }
   ],
   "source": [
    "fig, ax = plt.subplots()\n",
    "\n",
    "rougher_concentrate.plot(kind = 'kde', figsize = (15,5), label = 'Сырьевой концентрат')\n",
    "primary_concentrate.plot(kind = 'kde', label = 'Черновой концентрат')\n",
    "final_concentrate.plot(kind = 'kde', label = 'Финальный концентрат')\n",
    "\n",
    "ax.minorticks_on()\n",
    "ax.grid(which='major',\n",
    "        color = 'k', \n",
    "        linewidth = 2)\n",
    "ax.grid(which='minor', \n",
    "        color = 'k', \n",
    "        linestyle = ':')\n",
    "plt.legend()\n",
    "plt.xlim(-10,90)\n",
    "\n",
    "plt.show()"
   ]
  },
  {
   "cell_type": "markdown",
   "metadata": {},
   "source": [
    "Значение суммарной концентрации веществ в сырьевом концентрате меньше, чем после флотации и в финальном концентрате.\n",
    "Во всех распределениях присутствует пик около нулевого значения. Этот пик очень далек от общего распределения, т.е. это выбросы, которые будут мешать модели обучаться. Следовательно, их стоит удалить."
   ]
  },
  {
   "cell_type": "code",
   "execution_count": 33,
   "metadata": {},
   "outputs": [],
   "source": [
    "# данные без аномальных значений\n",
    "\n",
    "rougher_concentrate_without_outliers = rougher_concentrate[rougher_concentrate > 1]\n",
    "\n",
    "primary_concentrate_without_outliers = primary_concentrate[primary_concentrate > 1]\n",
    "\n",
    "final_concentrate_without_outliers = final_concentrate[final_concentrate > 1]"
   ]
  },
  {
   "cell_type": "code",
   "execution_count": 34,
   "metadata": {},
   "outputs": [
    {
     "data": {
      "image/png": "[encoded data removed]",
      "text/plain": [
       "<Figure size 1080x360 with 1 Axes>"
      ]
     },
     "metadata": {
      "needs_background": "light"
     },
     "output_type": "display_data"
    }
   ],
   "source": [
    "fig, ax = plt.subplots()\n",
    "\n",
    "rougher_concentrate_without_outliers.plot(kind = 'kde', figsize = (15,5), label = 'Сырьевой концентрат')\n",
    "primary_concentrate_without_outliers.plot(kind = 'kde', label = 'Черновой концентрат')\n",
    "final_concentrate_without_outliers.plot(kind = 'kde', label = 'Финальный концентрат')\n",
    "\n",
    "ax.minorticks_on()\n",
    "ax.grid(which='major',\n",
    "        color = 'k', \n",
    "        linewidth = 2)\n",
    "ax.grid(which='minor', \n",
    "        color = 'k', \n",
    "        linestyle = ':')\n",
    "plt.legend()\n",
    "plt.xlim(30,90)\n",
    "\n",
    "plt.show()"
   ]
  },
  {
   "cell_type": "markdown",
   "metadata": {},
   "source": [
    "В графиках по данным без выбросов мы видим ту же тенденцию: значение суммарной концентрации веществ в сырьевом концентрате меньше, чем после флотации и в финальном концентрате. В финальном концентрате  распределение стремится к нормальному, что свидетельстует об эффективности технологического процесса. "
   ]
  },
  {
   "cell_type": "markdown",
   "metadata": {},
   "source": [
    "### Выводы"
   ]
  },
  {
   "cell_type": "markdown",
   "metadata": {},
   "source": [
    "- С каждым этапом технологического процесса увеличивается концентрация золота и свинца, а концентрация серебра снижается;\n",
    "- Средний размер гранул сырья в обучающей и тестовой выборках отличется незначительно;\n",
    "- Суммарная концентрация веществ на разных этапах отличается: концентрации веществ в сырьевом концентрате меньше, чем после флотации и в финальном концентрате;\n",
    "- Аномальные нулевые значения (выбросы) содержания вещест требуется удалить."
   ]
  },
  {
   "cell_type": "markdown",
   "metadata": {},
   "source": [
    "## Модель"
   ]
  },
  {
   "cell_type": "markdown",
   "metadata": {},
   "source": [
    "### Метрика sMAPE"
   ]
  },
  {
   "cell_type": "code",
   "execution_count": 35,
   "metadata": {},
   "outputs": [],
   "source": [
    "# объявим функцию для вычисления итоговой sMAPE\n",
    "\n",
    "def sMAPE(target, predictions):\n",
    "    return (((abs(target - predictions) * 2 * 100) /\n",
    "              (abs(target) + abs(predictions))).sum()) / len(target)\n",
    "\n",
    "def total_sMAPE(sMAPE_R, sMAPE_F):\n",
    "    return 0.25 * sMAPE_R.item() + 0.75 * sMAPE_F.item()\n",
    "\n",
    "\n",
    "# введем скорер, чтобы задать параметр оценки в кросс-валидации вместо стандартного\n",
    "sMAPE_scorer = make_scorer(sMAPE, greater_is_better=False)"
   ]
  },
  {
   "cell_type": "markdown",
   "metadata": {},
   "source": [
    "### Удалим выбросы, которые помешают качественному обучанию модели"
   ]
  },
  {
   "cell_type": "code",
   "execution_count": 36,
   "metadata": {},
   "outputs": [],
   "source": [
    "# создадим в полном датасете столбцы со значениями суммарной концентрации веществ по этапам:\n",
    "# для сырьевого концентрата\n",
    "full_data_clean['rougher_concentrate'] = full_data_clean['rougher.input.feed_ag'] + full_data_clean['rougher.input.feed_pb'] + full_data_clean['rougher.input.feed_sol'] + full_data_clean['rougher.input.feed_au']\n",
    "# для чернового концентрата\n",
    "full_data_clean['primary_concentrate'] = full_data_clean['primary_cleaner.output.concentrate_ag'] + full_data_clean['primary_cleaner.output.concentrate_pb'] + full_data_clean['primary_cleaner.output.concentrate_sol'] + full_data_clean['primary_cleaner.output.concentrate_au']\n",
    "# для финального концентрата\n",
    "full_data_clean['final_concentrate'] = full_data_clean['final.output.concentrate_ag'] + full_data_clean['final.output.concentrate_pb'] + full_data_clean['final.output.concentrate_sol'] + full_data_clean['final.output.concentrate_au']"
   ]
  },
  {
   "cell_type": "code",
   "execution_count": 37,
   "metadata": {},
   "outputs": [],
   "source": [
    "# отфильтруем данные\n",
    "full_data_clean = full_data_clean.query('rougher_concentrate > 1 and primary_concentrate > 1 and final_concentrate > 1')"
   ]
  },
  {
   "cell_type": "code",
   "execution_count": 38,
   "metadata": {},
   "outputs": [],
   "source": [
    "# отфильтруем также данные в обучающей выборке по индексам даты \n",
    "train_sample_clean = train_sample_clean.loc[train_sample_clean['date'].isin(full_data_clean['date'])]"
   ]
  },
  {
   "cell_type": "code",
   "execution_count": 39,
   "metadata": {},
   "outputs": [],
   "source": [
    "# отфильтруем также данные в тестовой выборке по индексам даты \n",
    "test_sample_clean = test_sample_clean.loc[test_sample_clean['date'].isin(full_data_clean['date'])]"
   ]
  },
  {
   "cell_type": "markdown",
   "metadata": {},
   "source": [
    "### Поделим выборки на features и target"
   ]
  },
  {
   "cell_type": "code",
   "execution_count": 40,
   "metadata": {},
   "outputs": [],
   "source": [
    "# разделим выборки на признаки и таргеты\n",
    "# обучающую выборку\n",
    "features_train = train_sample_clean.drop(['date', 'rougher.output.recovery', 'final.output.recovery'], axis = 1)\n",
    "target_train_rougher = train_sample_clean['rougher.output.recovery']\n",
    "target_train_final = train_sample_clean['final.output.recovery']\n",
    "# тестовую выборку\n",
    "features_test = test_sample_clean.drop(['date', 'rougher.output.recovery', 'final.output.recovery'], axis = 1)\n",
    "target_test_rougher = test_sample_clean['rougher.output.recovery']\n",
    "target_test_final = test_sample_clean['final.output.recovery']"
   ]
  },
  {
   "cell_type": "markdown",
   "metadata": {},
   "source": [
    "### Масштабируем признаки"
   ]
  },
  {
   "cell_type": "code",
   "execution_count": 41,
   "metadata": {},
   "outputs": [],
   "source": [
    "# создаем структуру скелера\n",
    "scaler_for_train_sample = StandardScaler()\n",
    "scaler_for_test_sample = StandardScaler()\n",
    "# обучаем структуру на признаках\n",
    "scaler_for_train_sample.fit(features_train)\n",
    "scaler_for_test_sample.fit(features_train)\n",
    "# масштабируем признаки\n",
    "features_train = scaler_for_train_sample.transform(features_train)\n",
    "features_test = scaler_for_test_sample.transform(features_test)"
   ]
  },
  {
   "cell_type": "markdown",
   "metadata": {},
   "source": [
    "### Оценка моделей и выбор наилучшей модели"
   ]
  },
  {
   "cell_type": "markdown",
   "metadata": {},
   "source": [
    "#### Дерево решений"
   ]
  },
  {
   "cell_type": "code",
   "execution_count": 42,
   "metadata": {},
   "outputs": [
    {
     "name": "stdout",
     "output_type": "stream",
     "text": [
      "Лучший показатель итоговой sMAPE: 9.987670631151364\n",
      "Лучший результат при глубине модели: 2\n"
     ]
    }
   ],
   "source": [
    "#через цикл найдем параметры модели дерева решений, которая выдает наилучший показатель sMAPE\n",
    "best_model_DT = None\n",
    "best_final_sMAPE = 10\n",
    "best_depth = 0\n",
    "\n",
    "for depth in range(1, 10):\n",
    "    model_DT = DecisionTreeRegressor(random_state=12345, max_depth=depth)\n",
    "    \n",
    "    sMAPE_rougher_DT = cross_val_score(model_DT, features_train, target_train_rougher, cv=5, scoring=sMAPE_scorer).mean() * -1\n",
    "    sMAPE_final_DT = cross_val_score(model_DT, features_train, target_train_final, cv=5, scoring=sMAPE_scorer).mean() * -1\n",
    "    final_sMAPE_DT = total_sMAPE(sMAPE_rougher_DT, sMAPE_final_DT)\n",
    "        \n",
    "    if final_sMAPE_DT < best_final_sMAPE:\n",
    "        best_model_DT = model_DT\n",
    "        best_final_sMAPE = final_sMAPE_DT\n",
    "        best_depth = depth\n",
    "            \n",
    "print('Лучший показатель итоговой sMAPE:', best_final_sMAPE)\n",
    "print('Лучший результат при глубине модели:', best_depth)"
   ]
  },
  {
   "cell_type": "markdown",
   "metadata": {},
   "source": [
    "#### Случайный лес"
   ]
  },
  {
   "cell_type": "code",
   "execution_count": 48,
   "metadata": {},
   "outputs": [
    {
     "name": "stderr",
     "output_type": "stream",
     "text": [
      "100%|██████████| 4/4 [13:22<00:00, 200.66s/it]"
     ]
    },
    {
     "name": "stdout",
     "output_type": "stream",
     "text": [
      "Лучший показатель итоговой sMAPE: 9.547983325197968\n",
      "Лучший результат при глубине модели: 5\n",
      "Лучший результат при кол-ве деревьев: 40\n"
     ]
    },
    {
     "name": "stderr",
     "output_type": "stream",
     "text": [
      "\n"
     ]
    }
   ],
   "source": [
    "#также найдем через цикл наилучшие параметры для случайного леса\n",
    "from tqdm import tqdm\n",
    "\n",
    "best_model_RF = None\n",
    "best_final_sMAPE = 9.6\n",
    "best_est = 0\n",
    "best_depth = 0\n",
    "\n",
    "for est in tqdm(range(10, 50, 10)):\n",
    "    for depth in range(1, 10, 2):\n",
    "        model_RF = RandomForestRegressor(random_state=12345, max_depth=depth, n_estimators=est)\n",
    "        \n",
    "        sMAPE_rougher_RF = cross_val_score(model_RF, features_train, target_train_rougher, cv=5, scoring=sMAPE_scorer).mean() * -1\n",
    "        sMAPE_final_RF = cross_val_score(model_RF, features_train, target_train_final, cv=5, scoring=sMAPE_scorer).mean() * -1\n",
    "        final_sMAPE_RF = total_sMAPE(sMAPE_rougher_RF, sMAPE_final_RF)\n",
    "        \n",
    "        if final_sMAPE_RF < best_final_sMAPE:\n",
    "            best_model_RF = model_RF\n",
    "            best_final_sMAPE = final_sMAPE_RF\n",
    "            best_est = est\n",
    "            best_depth = depth\n",
    "            \n",
    "print('Лучший показатель итоговой sMAPE:', best_final_sMAPE)\n",
    "print('Лучший результат при глубине модели:', best_depth)\n",
    "print('Лучший результат при кол-ве деревьев:', best_est)"
   ]
  },
  {
   "cell_type": "markdown",
   "metadata": {},
   "source": [
    "#### Линейная регрессия"
   ]
  },
  {
   "cell_type": "code",
   "execution_count": 49,
   "metadata": {
    "scrolled": true
   },
   "outputs": [
    {
     "data": {
      "text/plain": [
       "sMAPE_rougher    13.112389\n",
       "sMAPE_final      10.760944\n",
       "final_sMAPE      11.348805\n",
       "dtype: float64"
      ]
     },
     "execution_count": 49,
     "metadata": {},
     "output_type": "execute_result"
    }
   ],
   "source": [
    "# найдем sMAPE модели линейной регрессии\n",
    "model_LR = LinearRegression()\n",
    "\n",
    "sMAPE_rougher = cross_val_score(model_LR, features_train, target_train_rougher, cv=5, scoring=sMAPE_scorer).mean() * -1\n",
    "sMAPE_final = cross_val_score(model_LR, features_train, target_train_final, cv=5, scoring=sMAPE_scorer).mean() * -1\n",
    "final_sMAPE = total_sMAPE(sMAPE_rougher, sMAPE_final)\n",
    "\n",
    "data_lr_temp = pd.Series({'sMAPE_rougher': sMAPE_rougher,\n",
    "                           'sMAPE_final': sMAPE_final,\n",
    "                           'final_sMAPE': final_sMAPE}) \n",
    "data_lr_temp"
   ]
  },
  {
   "cell_type": "markdown",
   "metadata": {},
   "source": [
    "Видно, что лучше всего справляется модель Случайного леса, так что возьмем именно его в качестве лучшей модели."
   ]
  },
  {
   "cell_type": "markdown",
   "metadata": {},
   "source": [
    "### Проверка лучшей модели на тестовой выборке"
   ]
  },
  {
   "cell_type": "code",
   "execution_count": 50,
   "metadata": {},
   "outputs": [],
   "source": [
    "# в этот раз нет смысла проводить кросс-валидацию, самостоятельно обучим модель случайного леса на обучающих признаках и \n",
    "# таргетах, найдем предсказания\n",
    "model_rougher_RF = RandomForestRegressor(max_depth=5, n_estimators=40, random_state=12345)\n",
    "model_final_RF =  RandomForestRegressor(max_depth=5, n_estimators=40, random_state=12345)\n",
    "\n",
    "model_rougher_RF.fit(features_train, target_train_rougher)\n",
    "model_final_RF.fit(features_train, target_train_final)\n",
    "\n",
    "test_predictions_rougher_RF = model_rougher_RF.predict(features_test)\n",
    "test_predictions_final_RF = model_final_RF.predict(features_test)"
   ]
  },
  {
   "cell_type": "code",
   "execution_count": 51,
   "metadata": {},
   "outputs": [
    {
     "data": {
      "text/plain": [
       "sMAPE_rougher    10.039513\n",
       "sMAPE_final       8.290972\n",
       "final_sMAPE       8.728108\n",
       "dtype: float64"
      ]
     },
     "execution_count": 51,
     "metadata": {},
     "output_type": "execute_result"
    }
   ],
   "source": [
    "# найдем метрики обученной модели\n",
    "\n",
    "sMAPE_rougher = sMAPE(target_test_rougher, test_predictions_rougher_RF)\n",
    "sMAPE_final = sMAPE(target_test_final, test_predictions_final_RF)\n",
    "final_sMAPE = total_sMAPE(sMAPE_rougher, sMAPE_final)\n",
    "\n",
    "data_rf_temp = pd.Series({'sMAPE_rougher': sMAPE_rougher,\n",
    "                           'sMAPE_final': sMAPE_final,\n",
    "                           'final_sMAPE': final_sMAPE}) \n",
    "data_rf_temp"
   ]
  },
  {
   "cell_type": "markdown",
   "metadata": {},
   "source": [
    "На тестовой выборке финальная sMAPE лучше - 8.728."
   ]
  },
  {
   "cell_type": "markdown",
   "metadata": {},
   "source": [
    "### Проверка модели на адекватность"
   ]
  },
  {
   "cell_type": "markdown",
   "metadata": {},
   "source": [
    "Проверим модель на адекватность с помощью DummyRegressor."
   ]
  },
  {
   "cell_type": "code",
   "execution_count": 52,
   "metadata": {},
   "outputs": [
    {
     "data": {
      "text/plain": [
       "sMAPE_rougher    12.181579\n",
       "sMAPE_final      10.372214\n",
       "final_sMAPE      10.824556\n",
       "dtype: float64"
      ]
     },
     "execution_count": 52,
     "metadata": {},
     "output_type": "execute_result"
    }
   ],
   "source": [
    "sMAPE_scorer = make_scorer(sMAPE, greater_is_better=False)\n",
    "sMAPE_scorer = make_scorer(sMAPE, greater_is_better=False)\n",
    "model_DR_rougher = DummyRegressor(strategy=\"mean\")\n",
    "model_DR_final = DummyRegressor(strategy=\"mean\")\n",
    "\n",
    "sMAPE_rougher = cross_val_score(model_DR_rougher, features_train, target_train_rougher, cv=5, scoring=sMAPE_scorer).mean() * -1\n",
    "sMAPE_final = cross_val_score(model_DR_final, features_train, target_train_final, cv=5, scoring=sMAPE_scorer).mean() * -1\n",
    "final_sMAPE = total_sMAPE(sMAPE_rougher, sMAPE_final)\n",
    "\n",
    "drm = pd.Series({'sMAPE_rougher': sMAPE_rougher,\n",
    "                 'sMAPE_final': sMAPE_final,\n",
    "                 'final_sMAPE': final_sMAPE}) \n",
    "drm"
   ]
  },
  {
   "cell_type": "markdown",
   "metadata": {},
   "source": [
    "Сравнение со случайной моделью показало адекватность нашей модели, т.к. итоговая sMAPE модели случайного леса с параметром глубины, равным 5, и кол-ом деревьев, равным 40, меньше - 8.728."
   ]
  }
 ],
 "metadata": {
  "ExecuteTimeLog": [
   {
    "duration": 607,
    "start_time": "2022-03-07T12:51:35.220Z"
   },
   {
    "duration": 1227,
    "start_time": "2022-03-07T12:53:42.977Z"
   },
   {
    "duration": 1429,
    "start_time": "2022-03-07T12:54:23.066Z"
   },
   {
    "duration": 673,
    "start_time": "2022-03-07T12:55:58.103Z"
   },
   {
    "duration": 169,
    "start_time": "2022-03-07T12:58:27.098Z"
   },
   {
    "duration": 226,
    "start_time": "2022-03-07T12:59:12.489Z"
   },
   {
    "duration": 4,
    "start_time": "2022-03-07T12:59:15.033Z"
   },
   {
    "duration": 4,
    "start_time": "2022-03-07T13:14:13.938Z"
   },
   {
    "duration": 178,
    "start_time": "2022-03-07T13:18:37.643Z"
   },
   {
    "duration": 3,
    "start_time": "2022-03-07T13:19:04.340Z"
   },
   {
    "duration": 16,
    "start_time": "2022-03-07T13:19:25.595Z"
   },
   {
    "duration": 3,
    "start_time": "2022-03-07T13:20:05.287Z"
   },
   {
    "duration": 9888,
    "start_time": "2022-03-07T13:24:36.927Z"
   },
   {
    "duration": 470,
    "start_time": "2022-03-07T13:25:41.588Z"
   },
   {
    "duration": 42017,
    "start_time": "2022-03-07T13:25:59.332Z"
   },
   {
    "duration": 569,
    "start_time": "2022-03-08T18:24:04.970Z"
   },
   {
    "duration": 696,
    "start_time": "2022-03-08T18:24:06.221Z"
   },
   {
    "duration": 4,
    "start_time": "2022-03-08T18:24:08.018Z"
   },
   {
    "duration": 3,
    "start_time": "2022-03-08T18:24:16.668Z"
   },
   {
    "duration": 14,
    "start_time": "2022-03-08T18:24:20.488Z"
   },
   {
    "duration": 9,
    "start_time": "2022-03-08T18:29:46.124Z"
   },
   {
    "duration": 17,
    "start_time": "2022-03-08T18:30:05.985Z"
   },
   {
    "duration": 4,
    "start_time": "2022-03-08T18:55:48.088Z"
   },
   {
    "duration": 3431,
    "start_time": "2022-03-08T19:06:52.952Z"
   },
   {
    "duration": 361,
    "start_time": "2022-03-08T19:07:17.861Z"
   },
   {
    "duration": 3,
    "start_time": "2022-03-08T19:14:55.999Z"
   },
   {
    "duration": 255,
    "start_time": "2022-03-08T19:15:43.490Z"
   },
   {
    "duration": 412,
    "start_time": "2022-03-08T19:16:12.280Z"
   },
   {
    "duration": 8,
    "start_time": "2022-03-08T19:16:17.629Z"
   },
   {
    "duration": 2,
    "start_time": "2022-03-08T19:19:56.275Z"
   },
   {
    "duration": 22,
    "start_time": "2022-03-08T19:24:19.591Z"
   },
   {
    "duration": 14,
    "start_time": "2022-03-08T19:24:30.089Z"
   },
   {
    "duration": 377,
    "start_time": "2022-03-08T19:24:55.417Z"
   },
   {
    "duration": 6,
    "start_time": "2022-03-08T19:24:56.934Z"
   },
   {
    "duration": 14,
    "start_time": "2022-03-08T19:27:33.845Z"
   },
   {
    "duration": 298,
    "start_time": "2022-03-08T19:27:34.468Z"
   },
   {
    "duration": 8,
    "start_time": "2022-03-08T19:27:36.305Z"
   },
   {
    "duration": 5,
    "start_time": "2022-03-08T19:28:31.593Z"
   },
   {
    "duration": 8,
    "start_time": "2022-03-08T19:29:31.930Z"
   },
   {
    "duration": 8,
    "start_time": "2022-03-08T19:30:19.476Z"
   },
   {
    "duration": 55,
    "start_time": "2022-03-08T19:30:54.402Z"
   },
   {
    "duration": 23,
    "start_time": "2022-03-08T19:31:07.690Z"
   },
   {
    "duration": 261,
    "start_time": "2022-03-08T19:46:07.936Z"
   },
   {
    "duration": 3,
    "start_time": "2022-03-08T19:46:42.379Z"
   },
   {
    "duration": 7,
    "start_time": "2022-03-08T19:47:40.723Z"
   },
   {
    "duration": 8,
    "start_time": "2022-03-08T19:47:49.914Z"
   },
   {
    "duration": 5,
    "start_time": "2022-03-08T19:48:05.343Z"
   },
   {
    "duration": 4,
    "start_time": "2022-03-08T19:48:42.311Z"
   },
   {
    "duration": 4,
    "start_time": "2022-03-08T19:49:06.251Z"
   },
   {
    "duration": 3,
    "start_time": "2022-03-08T19:49:22.320Z"
   },
   {
    "duration": 84,
    "start_time": "2022-03-08T19:50:21.333Z"
   },
   {
    "duration": 4,
    "start_time": "2022-03-08T19:51:25.043Z"
   },
   {
    "duration": 3,
    "start_time": "2022-03-08T19:52:12.370Z"
   },
   {
    "duration": 3,
    "start_time": "2022-03-08T19:52:22.134Z"
   },
   {
    "duration": 2,
    "start_time": "2022-03-08T20:11:45.576Z"
   },
   {
    "duration": 247,
    "start_time": "2022-03-08T20:12:20.741Z"
   },
   {
    "duration": 246,
    "start_time": "2022-03-08T20:15:48.185Z"
   },
   {
    "duration": 13,
    "start_time": "2022-03-08T20:15:57.377Z"
   },
   {
    "duration": 1269,
    "start_time": "2022-03-13T12:34:57.418Z"
   },
   {
    "duration": 960,
    "start_time": "2022-03-13T12:35:00.999Z"
   },
   {
    "duration": 6,
    "start_time": "2022-03-13T12:35:05.109Z"
   },
   {
    "duration": 5,
    "start_time": "2022-03-13T12:35:09.092Z"
   },
   {
    "duration": 24,
    "start_time": "2022-03-13T12:35:15.391Z"
   },
   {
    "duration": 16,
    "start_time": "2022-03-13T12:35:19.351Z"
   },
   {
    "duration": 5,
    "start_time": "2022-03-13T12:35:24.883Z"
   },
   {
    "duration": 873,
    "start_time": "2022-03-13T12:35:27.178Z"
   },
   {
    "duration": 15,
    "start_time": "2022-03-13T12:35:31.198Z"
   },
   {
    "duration": 15,
    "start_time": "2022-03-13T12:35:38.310Z"
   },
   {
    "duration": 6,
    "start_time": "2022-03-13T12:35:44.158Z"
   },
   {
    "duration": 5,
    "start_time": "2022-03-13T12:35:49.458Z"
   },
   {
    "duration": 6,
    "start_time": "2022-03-13T12:35:52.591Z"
   },
   {
    "duration": 5,
    "start_time": "2022-03-13T12:35:54.419Z"
   },
   {
    "duration": 21,
    "start_time": "2022-03-13T12:36:03.097Z"
   },
   {
    "duration": 370,
    "start_time": "2022-03-13T12:38:36.875Z"
   },
   {
    "duration": 22,
    "start_time": "2022-03-13T12:39:21.832Z"
   },
   {
    "duration": 354,
    "start_time": "2022-03-13T12:39:23.056Z"
   },
   {
    "duration": 21,
    "start_time": "2022-03-13T12:41:30.853Z"
   },
   {
    "duration": 356,
    "start_time": "2022-03-13T12:41:53.736Z"
   },
   {
    "duration": 13,
    "start_time": "2022-03-13T13:48:17.672Z"
   },
   {
    "duration": 4,
    "start_time": "2022-03-13T13:48:44.364Z"
   },
   {
    "duration": 44,
    "start_time": "2022-03-13T13:53:48.511Z"
   },
   {
    "duration": 39,
    "start_time": "2022-03-13T13:54:23.657Z"
   },
   {
    "duration": 48,
    "start_time": "2022-03-13T13:55:30.077Z"
   },
   {
    "duration": 439,
    "start_time": "2022-03-13T14:03:13.164Z"
   },
   {
    "duration": 43,
    "start_time": "2022-03-13T14:03:22.476Z"
   },
   {
    "duration": 309,
    "start_time": "2022-03-13T14:07:59.627Z"
   },
   {
    "duration": 21,
    "start_time": "2022-03-13T14:10:02.209Z"
   },
   {
    "duration": 6,
    "start_time": "2022-03-13T14:13:31.080Z"
   },
   {
    "duration": 129,
    "start_time": "2022-03-13T16:09:32.089Z"
   },
   {
    "duration": 1950,
    "start_time": "2022-03-13T16:14:55.199Z"
   },
   {
    "duration": 2722,
    "start_time": "2022-03-13T16:15:09.069Z"
   },
   {
    "duration": 9970,
    "start_time": "2022-03-13T16:15:59.160Z"
   },
   {
    "duration": 3418,
    "start_time": "2022-03-13T16:24:41.420Z"
   },
   {
    "duration": 3561,
    "start_time": "2022-03-13T16:28:08.842Z"
   },
   {
    "duration": 3584,
    "start_time": "2022-03-13T16:40:09.625Z"
   },
   {
    "duration": 3433,
    "start_time": "2022-03-13T16:44:29.407Z"
   },
   {
    "duration": 3444,
    "start_time": "2022-03-13T16:44:47.451Z"
   },
   {
    "duration": 5028,
    "start_time": "2022-03-13T16:56:27.916Z"
   },
   {
    "duration": 3983,
    "start_time": "2022-03-13T17:04:30.572Z"
   },
   {
    "duration": 3996,
    "start_time": "2022-03-13T17:53:26.027Z"
   },
   {
    "duration": 3782,
    "start_time": "2022-03-13T17:55:41.262Z"
   },
   {
    "duration": 3481,
    "start_time": "2022-03-13T17:56:00.320Z"
   },
   {
    "duration": 3605,
    "start_time": "2022-03-13T17:56:17.502Z"
   },
   {
    "duration": 3530,
    "start_time": "2022-03-13T17:58:23.589Z"
   },
   {
    "duration": 4078,
    "start_time": "2022-03-13T17:58:41.325Z"
   },
   {
    "duration": 3599,
    "start_time": "2022-03-13T17:58:46.837Z"
   },
   {
    "duration": 3988,
    "start_time": "2022-03-13T17:59:12.062Z"
   },
   {
    "duration": 3777,
    "start_time": "2022-03-13T18:00:59.820Z"
   },
   {
    "duration": 3654,
    "start_time": "2022-03-13T18:01:24.699Z"
   },
   {
    "duration": 3903,
    "start_time": "2022-03-13T18:10:21.922Z"
   },
   {
    "duration": 3680,
    "start_time": "2022-03-13T18:10:50.804Z"
   },
   {
    "duration": 3660,
    "start_time": "2022-03-13T18:10:55.642Z"
   },
   {
    "duration": 3946,
    "start_time": "2022-03-13T18:19:44.012Z"
   },
   {
    "duration": 20,
    "start_time": "2022-03-13T19:02:04.205Z"
   },
   {
    "duration": 15,
    "start_time": "2022-03-13T19:05:33.534Z"
   },
   {
    "duration": 1465,
    "start_time": "2022-03-13T19:39:43.072Z"
   },
   {
    "duration": 1364,
    "start_time": "2022-03-13T19:40:29.775Z"
   },
   {
    "duration": 1473,
    "start_time": "2022-03-13T19:43:37.700Z"
   },
   {
    "duration": 1518,
    "start_time": "2022-03-13T19:48:06.141Z"
   },
   {
    "duration": 1429,
    "start_time": "2022-03-13T19:49:44.718Z"
   },
   {
    "duration": 1330,
    "start_time": "2022-03-13T19:55:42.971Z"
   },
   {
    "duration": 385,
    "start_time": "2022-03-13T19:56:11.390Z"
   },
   {
    "duration": 9,
    "start_time": "2022-03-13T19:57:12.770Z"
   },
   {
    "duration": 1345,
    "start_time": "2022-03-13T19:57:54.709Z"
   },
   {
    "duration": 8,
    "start_time": "2022-03-13T19:59:00.117Z"
   },
   {
    "duration": 9,
    "start_time": "2022-03-13T19:59:03.194Z"
   },
   {
    "duration": 1475,
    "start_time": "2022-03-13T19:59:21.997Z"
   },
   {
    "duration": 1504,
    "start_time": "2022-03-13T19:59:47.770Z"
   },
   {
    "duration": 1442,
    "start_time": "2022-03-13T20:00:57.097Z"
   },
   {
    "duration": 1618,
    "start_time": "2022-03-13T20:01:16.653Z"
   },
   {
    "duration": 1559,
    "start_time": "2022-03-13T20:01:28.346Z"
   },
   {
    "duration": 1504,
    "start_time": "2022-03-13T20:01:39.673Z"
   },
   {
    "duration": 1563,
    "start_time": "2022-03-13T20:01:54.438Z"
   },
   {
    "duration": 54,
    "start_time": "2022-03-13T20:32:52.647Z"
   },
   {
    "duration": 2807,
    "start_time": "2022-03-13T20:38:14.383Z"
   },
   {
    "duration": 9,
    "start_time": "2022-03-13T20:43:22.315Z"
   },
   {
    "duration": 3104,
    "start_time": "2022-03-13T20:49:49.757Z"
   },
   {
    "duration": 3119,
    "start_time": "2022-03-13T20:50:09.148Z"
   },
   {
    "duration": 5,
    "start_time": "2022-03-13T21:43:00.265Z"
   },
   {
    "duration": 4408,
    "start_time": "2022-03-13T21:43:35.279Z"
   },
   {
    "duration": 607,
    "start_time": "2022-03-13T21:44:17.035Z"
   },
   {
    "duration": 4268,
    "start_time": "2022-03-13T21:45:22.529Z"
   },
   {
    "duration": 18,
    "start_time": "2022-03-13T21:47:30.159Z"
   },
   {
    "duration": 4,
    "start_time": "2022-03-13T23:12:28.567Z"
   },
   {
    "duration": 1247,
    "start_time": "2022-03-14T15:21:59.155Z"
   },
   {
    "duration": 795,
    "start_time": "2022-03-14T15:22:04.482Z"
   },
   {
    "duration": 5,
    "start_time": "2022-03-14T15:25:08.697Z"
   },
   {
    "duration": 3,
    "start_time": "2022-03-14T15:25:11.546Z"
   },
   {
    "duration": 16,
    "start_time": "2022-03-14T15:25:51.088Z"
   },
   {
    "duration": 11,
    "start_time": "2022-03-14T15:26:47.023Z"
   },
   {
    "duration": 32,
    "start_time": "2022-03-14T15:26:48.596Z"
   },
   {
    "duration": 4,
    "start_time": "2022-03-14T15:26:51.119Z"
   },
   {
    "duration": 474,
    "start_time": "2022-03-14T15:26:57.471Z"
   },
   {
    "duration": 7,
    "start_time": "2022-03-14T15:27:00.743Z"
   },
   {
    "duration": 17,
    "start_time": "2022-03-14T15:27:06.369Z"
   },
   {
    "duration": 5,
    "start_time": "2022-03-14T15:27:17.492Z"
   },
   {
    "duration": 4,
    "start_time": "2022-03-14T15:27:20.605Z"
   },
   {
    "duration": 4,
    "start_time": "2022-03-14T15:27:21.062Z"
   },
   {
    "duration": 5,
    "start_time": "2022-03-14T15:27:21.888Z"
   },
   {
    "duration": 27,
    "start_time": "2022-03-14T15:45:47.763Z"
   },
   {
    "duration": 375,
    "start_time": "2022-03-14T15:49:28.811Z"
   },
   {
    "duration": 9,
    "start_time": "2022-03-14T15:49:34.370Z"
   },
   {
    "duration": 10,
    "start_time": "2022-03-14T15:58:12.167Z"
   },
   {
    "duration": 10,
    "start_time": "2022-03-14T15:58:39.251Z"
   },
   {
    "duration": 15,
    "start_time": "2022-03-14T16:01:44.923Z"
   },
   {
    "duration": 16,
    "start_time": "2022-03-14T16:01:54.631Z"
   },
   {
    "duration": 201,
    "start_time": "2022-03-14T16:02:16.830Z"
   },
   {
    "duration": 11,
    "start_time": "2022-03-14T16:02:51.605Z"
   },
   {
    "duration": 3,
    "start_time": "2022-03-14T16:03:14.455Z"
   },
   {
    "duration": 3,
    "start_time": "2022-03-14T16:03:22.350Z"
   },
   {
    "duration": 4,
    "start_time": "2022-03-14T16:03:26.209Z"
   },
   {
    "duration": 17,
    "start_time": "2022-03-14T16:09:29.253Z"
   },
   {
    "duration": 183,
    "start_time": "2022-03-14T16:09:46.016Z"
   },
   {
    "duration": 11,
    "start_time": "2022-03-14T16:09:49.041Z"
   },
   {
    "duration": 4,
    "start_time": "2022-03-14T16:09:52.301Z"
   },
   {
    "duration": 28,
    "start_time": "2022-03-14T16:09:52.534Z"
   },
   {
    "duration": 17,
    "start_time": "2022-03-14T16:09:59.986Z"
   },
   {
    "duration": 5,
    "start_time": "2022-03-14T16:10:06.069Z"
   },
   {
    "duration": 2031,
    "start_time": "2022-03-14T16:13:13.677Z"
   },
   {
    "duration": 1959,
    "start_time": "2022-03-14T16:13:20.328Z"
   },
   {
    "duration": 916,
    "start_time": "2022-03-14T16:13:34.186Z"
   },
   {
    "duration": 949,
    "start_time": "2022-03-14T16:14:19.885Z"
   },
   {
    "duration": 848,
    "start_time": "2022-03-14T16:14:29.074Z"
   },
   {
    "duration": 895,
    "start_time": "2022-03-14T16:14:40.662Z"
   },
   {
    "duration": 5,
    "start_time": "2022-03-14T16:15:34.876Z"
   },
   {
    "duration": 7,
    "start_time": "2022-03-14T16:15:55.274Z"
   },
   {
    "duration": 6,
    "start_time": "2022-03-14T16:16:08.956Z"
   },
   {
    "duration": 6,
    "start_time": "2022-03-14T16:16:09.981Z"
   },
   {
    "duration": 936,
    "start_time": "2022-03-14T16:16:24.913Z"
   },
   {
    "duration": 963,
    "start_time": "2022-03-14T16:16:30.614Z"
   },
   {
    "duration": 930,
    "start_time": "2022-03-14T16:16:52.032Z"
   },
   {
    "duration": 996,
    "start_time": "2022-03-14T16:17:03.479Z"
   },
   {
    "duration": 8,
    "start_time": "2022-03-14T16:17:43.508Z"
   },
   {
    "duration": 1499,
    "start_time": "2022-03-14T16:17:44.766Z"
   },
   {
    "duration": 6,
    "start_time": "2022-03-14T16:17:49.189Z"
   },
   {
    "duration": 4,
    "start_time": "2022-03-14T16:18:01.223Z"
   },
   {
    "duration": 4,
    "start_time": "2022-03-14T16:18:16.446Z"
   },
   {
    "duration": 572,
    "start_time": "2022-03-14T16:18:19.165Z"
   },
   {
    "duration": 13,
    "start_time": "2022-03-14T16:34:43.215Z"
   },
   {
    "duration": 1474,
    "start_time": "2022-03-14T16:36:01.053Z"
   },
   {
    "duration": 1699,
    "start_time": "2022-03-14T17:43:28.253Z"
   },
   {
    "duration": 918,
    "start_time": "2022-03-14T17:54:31.499Z"
   },
   {
    "duration": 3,
    "start_time": "2022-03-14T17:55:03.251Z"
   },
   {
    "duration": 1543,
    "start_time": "2022-03-14T17:55:04.004Z"
   },
   {
    "duration": 1605,
    "start_time": "2022-03-14T17:55:12.943Z"
   },
   {
    "duration": 384,
    "start_time": "2022-03-14T17:56:14.516Z"
   },
   {
    "duration": 7,
    "start_time": "2022-03-14T17:57:50.720Z"
   },
   {
    "duration": 1585,
    "start_time": "2022-03-14T18:06:14.097Z"
   },
   {
    "duration": 3,
    "start_time": "2022-03-14T18:11:31.319Z"
   },
   {
    "duration": 3,
    "start_time": "2022-03-14T18:12:07.467Z"
   },
   {
    "duration": 424,
    "start_time": "2022-03-14T18:12:12.691Z"
   },
   {
    "duration": 14,
    "start_time": "2022-03-14T18:20:59.024Z"
   },
   {
    "duration": 1243,
    "start_time": "2022-03-14T18:22:02.404Z"
   },
   {
    "duration": 753,
    "start_time": "2022-03-14T18:22:05.000Z"
   },
   {
    "duration": 5,
    "start_time": "2022-03-14T18:22:13.673Z"
   },
   {
    "duration": 3,
    "start_time": "2022-03-14T18:22:15.207Z"
   },
   {
    "duration": 17,
    "start_time": "2022-03-14T18:22:18.046Z"
   },
   {
    "duration": 11,
    "start_time": "2022-03-14T18:23:48.599Z"
   },
   {
    "duration": 33,
    "start_time": "2022-03-14T18:50:00.623Z"
   },
   {
    "duration": 5,
    "start_time": "2022-03-14T18:50:01.851Z"
   },
   {
    "duration": 454,
    "start_time": "2022-03-14T18:50:03.782Z"
   },
   {
    "duration": 6,
    "start_time": "2022-03-14T18:50:04.238Z"
   },
   {
    "duration": 16,
    "start_time": "2022-03-14T18:50:04.466Z"
   },
   {
    "duration": 4,
    "start_time": "2022-03-14T18:50:07.775Z"
   },
   {
    "duration": 5,
    "start_time": "2022-03-14T18:50:08.199Z"
   },
   {
    "duration": 5,
    "start_time": "2022-03-14T18:50:08.365Z"
   },
   {
    "duration": 5,
    "start_time": "2022-03-14T18:50:08.554Z"
   },
   {
    "duration": 10,
    "start_time": "2022-03-14T18:50:08.938Z"
   },
   {
    "duration": 16,
    "start_time": "2022-03-14T18:50:09.121Z"
   },
   {
    "duration": 17,
    "start_time": "2022-03-14T18:50:09.516Z"
   },
   {
    "duration": 195,
    "start_time": "2022-03-14T18:50:09.752Z"
   },
   {
    "duration": 11,
    "start_time": "2022-03-14T18:50:10.620Z"
   },
   {
    "duration": 3,
    "start_time": "2022-03-14T18:50:11.101Z"
   },
   {
    "duration": 22,
    "start_time": "2022-03-14T18:50:11.547Z"
   },
   {
    "duration": 16,
    "start_time": "2022-03-14T18:50:12.875Z"
   },
   {
    "duration": 5,
    "start_time": "2022-03-14T18:50:13.613Z"
   },
   {
    "duration": 1977,
    "start_time": "2022-03-14T18:50:17.025Z"
   },
   {
    "duration": 2065,
    "start_time": "2022-03-14T18:50:19.004Z"
   },
   {
    "duration": 2097,
    "start_time": "2022-03-14T18:50:21.071Z"
   },
   {
    "duration": 1874,
    "start_time": "2022-03-14T18:50:23.170Z"
   },
   {
    "duration": 2006,
    "start_time": "2022-03-14T18:50:25.046Z"
   },
   {
    "duration": 1887,
    "start_time": "2022-03-14T18:50:27.054Z"
   },
   {
    "duration": 13,
    "start_time": "2022-03-14T18:51:01.799Z"
   },
   {
    "duration": 15,
    "start_time": "2022-03-14T18:51:02.861Z"
   },
   {
    "duration": 980,
    "start_time": "2022-03-14T18:51:06.754Z"
   },
   {
    "duration": 15,
    "start_time": "2022-03-14T18:51:14.353Z"
   },
   {
    "duration": 3,
    "start_time": "2022-03-14T18:53:56.981Z"
   },
   {
    "duration": 1542,
    "start_time": "2022-03-14T18:54:07.885Z"
   },
   {
    "duration": 6,
    "start_time": "2022-03-14T18:54:33.737Z"
   },
   {
    "duration": 1547,
    "start_time": "2022-03-14T18:54:38.017Z"
   },
   {
    "duration": 4,
    "start_time": "2022-03-14T19:00:00.228Z"
   },
   {
    "duration": 596,
    "start_time": "2022-03-14T19:00:03.217Z"
   },
   {
    "duration": 9,
    "start_time": "2022-03-14T19:30:04.415Z"
   },
   {
    "duration": 27,
    "start_time": "2022-03-14T19:36:38.860Z"
   },
   {
    "duration": 3,
    "start_time": "2022-03-14T19:37:20.980Z"
   },
   {
    "duration": 7290,
    "start_time": "2022-03-14T19:38:04.305Z"
   },
   {
    "duration": 5,
    "start_time": "2022-03-14T19:38:45.093Z"
   },
   {
    "duration": 1344,
    "start_time": "2022-03-14T20:06:53.791Z"
   },
   {
    "duration": 779,
    "start_time": "2022-03-14T20:06:55.801Z"
   },
   {
    "duration": 6,
    "start_time": "2022-03-14T20:06:56.582Z"
   },
   {
    "duration": 4,
    "start_time": "2022-03-14T20:06:57.503Z"
   },
   {
    "duration": 19,
    "start_time": "2022-03-14T20:07:00.145Z"
   },
   {
    "duration": 13,
    "start_time": "2022-03-14T20:07:01.021Z"
   },
   {
    "duration": 47,
    "start_time": "2022-03-14T20:07:02.344Z"
   },
   {
    "duration": 4,
    "start_time": "2022-03-14T20:07:04.567Z"
   },
   {
    "duration": 559,
    "start_time": "2022-03-14T20:07:05.098Z"
   },
   {
    "duration": 8,
    "start_time": "2022-03-14T20:07:05.660Z"
   },
   {
    "duration": 17,
    "start_time": "2022-03-14T20:07:08.264Z"
   },
   {
    "duration": 4,
    "start_time": "2022-03-14T20:07:12.014Z"
   },
   {
    "duration": 5,
    "start_time": "2022-03-14T20:07:13.555Z"
   },
   {
    "duration": 4,
    "start_time": "2022-03-14T20:07:13.982Z"
   },
   {
    "duration": 5,
    "start_time": "2022-03-14T20:07:14.272Z"
   },
   {
    "duration": 12,
    "start_time": "2022-03-14T20:07:18.644Z"
   },
   {
    "duration": 21,
    "start_time": "2022-03-14T20:07:24.997Z"
   },
   {
    "duration": 17,
    "start_time": "2022-03-14T20:07:28.869Z"
   },
   {
    "duration": 200,
    "start_time": "2022-03-14T20:07:29.712Z"
   },
   {
    "duration": 11,
    "start_time": "2022-03-14T20:07:30.560Z"
   },
   {
    "duration": 3,
    "start_time": "2022-03-14T20:07:33.022Z"
   },
   {
    "duration": 23,
    "start_time": "2022-03-14T20:07:39.144Z"
   },
   {
    "duration": 17,
    "start_time": "2022-03-14T20:07:42.472Z"
   },
   {
    "duration": 5,
    "start_time": "2022-03-14T20:07:43.898Z"
   },
   {
    "duration": 2161,
    "start_time": "2022-03-14T20:09:10.412Z"
   },
   {
    "duration": 927,
    "start_time": "2022-03-14T20:09:12.575Z"
   },
   {
    "duration": 6,
    "start_time": "2022-03-14T20:09:13.505Z"
   },
   {
    "duration": 7,
    "start_time": "2022-03-14T20:09:13.513Z"
   },
   {
    "duration": 20,
    "start_time": "2022-03-14T20:09:13.537Z"
   },
   {
    "duration": 12,
    "start_time": "2022-03-14T20:09:13.560Z"
   },
   {
    "duration": 37,
    "start_time": "2022-03-14T20:09:13.705Z"
   },
   {
    "duration": 5,
    "start_time": "2022-03-14T20:09:15.009Z"
   },
   {
    "duration": 518,
    "start_time": "2022-03-14T20:09:15.747Z"
   },
   {
    "duration": 6,
    "start_time": "2022-03-14T20:09:16.659Z"
   },
   {
    "duration": 16,
    "start_time": "2022-03-14T20:09:17.349Z"
   },
   {
    "duration": 4,
    "start_time": "2022-03-14T20:09:20.195Z"
   },
   {
    "duration": 4,
    "start_time": "2022-03-14T20:09:21.954Z"
   },
   {
    "duration": 4,
    "start_time": "2022-03-14T20:09:22.457Z"
   },
   {
    "duration": 4,
    "start_time": "2022-03-14T20:09:23.285Z"
   },
   {
    "duration": 12,
    "start_time": "2022-03-14T20:09:25.567Z"
   },
   {
    "duration": 17,
    "start_time": "2022-03-14T20:09:29.978Z"
   },
   {
    "duration": 21,
    "start_time": "2022-03-14T20:09:36.089Z"
   },
   {
    "duration": 228,
    "start_time": "2022-03-14T20:09:39.711Z"
   },
   {
    "duration": 12,
    "start_time": "2022-03-14T20:10:03.711Z"
   },
   {
    "duration": 22,
    "start_time": "2022-03-14T20:10:20.436Z"
   },
   {
    "duration": 14,
    "start_time": "2022-03-14T20:11:32.694Z"
   },
   {
    "duration": 691,
    "start_time": "2022-03-14T20:11:33.844Z"
   },
   {
    "duration": 777,
    "start_time": "2022-03-14T20:12:36.023Z"
   },
   {
    "duration": 583,
    "start_time": "2022-03-14T20:12:45.194Z"
   },
   {
    "duration": 419,
    "start_time": "2022-03-14T20:12:48.406Z"
   },
   {
    "duration": 4,
    "start_time": "2022-03-14T20:13:28.961Z"
   },
   {
    "duration": 811,
    "start_time": "2022-03-14T20:13:30.379Z"
   },
   {
    "duration": 5,
    "start_time": "2022-03-14T20:13:31.962Z"
   },
   {
    "duration": 4,
    "start_time": "2022-03-14T20:13:33.883Z"
   },
   {
    "duration": 20,
    "start_time": "2022-03-14T20:13:34.647Z"
   },
   {
    "duration": 12,
    "start_time": "2022-03-14T20:13:35.239Z"
   },
   {
    "duration": 31,
    "start_time": "2022-03-14T20:13:35.937Z"
   },
   {
    "duration": 4,
    "start_time": "2022-03-14T20:13:36.547Z"
   },
   {
    "duration": 460,
    "start_time": "2022-03-14T20:13:36.740Z"
   },
   {
    "duration": 6,
    "start_time": "2022-03-14T20:13:37.201Z"
   },
   {
    "duration": 17,
    "start_time": "2022-03-14T20:13:39.030Z"
   },
   {
    "duration": 5,
    "start_time": "2022-03-14T20:13:39.979Z"
   },
   {
    "duration": 5,
    "start_time": "2022-03-14T20:13:40.989Z"
   },
   {
    "duration": 7,
    "start_time": "2022-03-14T20:13:40.996Z"
   },
   {
    "duration": 6,
    "start_time": "2022-03-14T20:13:41.429Z"
   },
   {
    "duration": 15,
    "start_time": "2022-03-14T20:13:42.447Z"
   },
   {
    "duration": 21,
    "start_time": "2022-03-14T20:13:43.909Z"
   },
   {
    "duration": 26,
    "start_time": "2022-03-14T20:13:46.848Z"
   },
   {
    "duration": 206,
    "start_time": "2022-03-14T20:13:48.045Z"
   },
   {
    "duration": 12,
    "start_time": "2022-03-14T20:13:55.310Z"
   },
   {
    "duration": 22,
    "start_time": "2022-03-14T20:13:57.344Z"
   },
   {
    "duration": 8,
    "start_time": "2022-03-14T20:14:08.493Z"
   },
   {
    "duration": 16,
    "start_time": "2022-03-14T20:14:32.399Z"
   },
   {
    "duration": 12,
    "start_time": "2022-03-14T20:17:45.210Z"
   },
   {
    "duration": 880,
    "start_time": "2022-03-14T20:17:47.804Z"
   },
   {
    "duration": 1364,
    "start_time": "2022-03-14T20:18:29.250Z"
   },
   {
    "duration": 872,
    "start_time": "2022-03-14T20:18:31.582Z"
   },
   {
    "duration": 5,
    "start_time": "2022-03-14T20:18:32.456Z"
   },
   {
    "duration": 12,
    "start_time": "2022-03-14T20:18:32.464Z"
   },
   {
    "duration": 22,
    "start_time": "2022-03-14T20:18:34.238Z"
   },
   {
    "duration": 13,
    "start_time": "2022-03-14T20:18:39.697Z"
   },
   {
    "duration": 36,
    "start_time": "2022-03-14T20:18:44.648Z"
   },
   {
    "duration": 13,
    "start_time": "2022-03-14T20:19:09.444Z"
   },
   {
    "duration": 20,
    "start_time": "2022-03-14T20:19:29.769Z"
   },
   {
    "duration": 4,
    "start_time": "2022-03-14T20:20:37.651Z"
   },
   {
    "duration": 459,
    "start_time": "2022-03-14T20:20:38.226Z"
   },
   {
    "duration": 8,
    "start_time": "2022-03-14T20:20:40.930Z"
   },
   {
    "duration": 15,
    "start_time": "2022-03-14T20:20:42.603Z"
   },
   {
    "duration": 6,
    "start_time": "2022-03-14T20:20:49.591Z"
   },
   {
    "duration": 5,
    "start_time": "2022-03-14T20:20:50.877Z"
   },
   {
    "duration": 6,
    "start_time": "2022-03-14T20:20:51.144Z"
   },
   {
    "duration": 5,
    "start_time": "2022-03-14T20:20:51.407Z"
   },
   {
    "duration": 10,
    "start_time": "2022-03-14T20:20:53.487Z"
   },
   {
    "duration": 17,
    "start_time": "2022-03-14T20:20:53.905Z"
   },
   {
    "duration": 18,
    "start_time": "2022-03-14T20:20:56.998Z"
   },
   {
    "duration": 194,
    "start_time": "2022-03-14T20:20:58.688Z"
   },
   {
    "duration": 17,
    "start_time": "2022-03-14T20:21:10.327Z"
   },
   {
    "duration": 3,
    "start_time": "2022-03-14T20:21:19.782Z"
   },
   {
    "duration": 23,
    "start_time": "2022-03-14T20:21:25.980Z"
   },
   {
    "duration": 17,
    "start_time": "2022-03-14T20:21:41.071Z"
   },
   {
    "duration": 4,
    "start_time": "2022-03-14T20:21:47.582Z"
   },
   {
    "duration": 1901,
    "start_time": "2022-03-14T20:22:01.655Z"
   },
   {
    "duration": 1868,
    "start_time": "2022-03-14T20:22:03.558Z"
   },
   {
    "duration": 2143,
    "start_time": "2022-03-14T20:22:05.428Z"
   },
   {
    "duration": 1941,
    "start_time": "2022-03-14T20:22:07.573Z"
   },
   {
    "duration": 1970,
    "start_time": "2022-03-14T20:22:09.516Z"
   },
   {
    "duration": 1841,
    "start_time": "2022-03-14T20:22:11.488Z"
   },
   {
    "duration": 11,
    "start_time": "2022-03-14T20:22:13.331Z"
   },
   {
    "duration": 10,
    "start_time": "2022-03-14T20:22:13.345Z"
   },
   {
    "duration": 917,
    "start_time": "2022-03-14T20:22:13.357Z"
   },
   {
    "duration": 15,
    "start_time": "2022-03-14T20:22:14.275Z"
   },
   {
    "duration": 4,
    "start_time": "2022-03-14T20:22:15.720Z"
   },
   {
    "duration": 1704,
    "start_time": "2022-03-14T20:22:18.049Z"
   },
   {
    "duration": 6,
    "start_time": "2022-03-14T20:22:21.851Z"
   },
   {
    "duration": 1635,
    "start_time": "2022-03-14T20:22:23.329Z"
   },
   {
    "duration": 4,
    "start_time": "2022-03-14T20:22:27.016Z"
   },
   {
    "duration": 8,
    "start_time": "2022-03-14T20:22:34.637Z"
   },
   {
    "duration": 34,
    "start_time": "2022-03-14T20:22:37.012Z"
   },
   {
    "duration": 4,
    "start_time": "2022-03-14T20:22:53.366Z"
   },
   {
    "duration": 12,
    "start_time": "2022-03-14T20:26:05.914Z"
   },
   {
    "duration": 4,
    "start_time": "2022-03-14T20:26:27.249Z"
   },
   {
    "duration": 11,
    "start_time": "2022-03-14T20:27:24.951Z"
   },
   {
    "duration": 4,
    "start_time": "2022-03-14T20:27:25.786Z"
   },
   {
    "duration": 7,
    "start_time": "2022-03-14T20:27:39.378Z"
   },
   {
    "duration": 4,
    "start_time": "2022-03-14T20:27:53.986Z"
   },
   {
    "duration": 1024,
    "start_time": "2022-03-14T20:30:45.889Z"
   },
   {
    "duration": 836,
    "start_time": "2022-03-14T20:31:37.878Z"
   },
   {
    "duration": 10,
    "start_time": "2022-03-14T20:34:25.964Z"
   },
   {
    "duration": 927,
    "start_time": "2022-03-14T20:55:27.306Z"
   },
   {
    "duration": 25,
    "start_time": "2022-03-14T20:56:10.704Z"
   },
   {
    "duration": 4,
    "start_time": "2022-03-14T21:57:02.718Z"
   },
   {
    "duration": 875,
    "start_time": "2022-03-14T22:09:41.822Z"
   },
   {
    "duration": 809,
    "start_time": "2022-03-14T22:10:38.852Z"
   },
   {
    "duration": 3,
    "start_time": "2022-03-14T22:11:44.100Z"
   },
   {
    "duration": 856,
    "start_time": "2022-03-14T22:12:58.581Z"
   },
   {
    "duration": 1013,
    "start_time": "2022-03-14T22:13:58.432Z"
   },
   {
    "duration": 966,
    "start_time": "2022-03-14T22:14:11.655Z"
   },
   {
    "duration": 348,
    "start_time": "2022-03-14T22:14:57.481Z"
   },
   {
    "duration": 6,
    "start_time": "2022-03-14T22:15:04.669Z"
   },
   {
    "duration": 571,
    "start_time": "2022-03-14T22:15:16.403Z"
   },
   {
    "duration": 4,
    "start_time": "2022-03-14T22:16:18.559Z"
   },
   {
    "duration": 9,
    "start_time": "2022-03-14T22:18:05.321Z"
   },
   {
    "duration": 1369,
    "start_time": "2022-03-14T22:19:24.072Z"
   },
   {
    "duration": 1802,
    "start_time": "2022-03-14T22:20:19.430Z"
   },
   {
    "duration": 5,
    "start_time": "2022-03-14T22:27:24.401Z"
   },
   {
    "duration": 41,
    "start_time": "2022-03-14T22:29:21.340Z"
   },
   {
    "duration": 4,
    "start_time": "2022-03-14T22:29:34.762Z"
   },
   {
    "duration": 2368,
    "start_time": "2022-03-14T22:29:35.969Z"
   },
   {
    "duration": 597,
    "start_time": "2022-03-14T22:30:00.341Z"
   },
   {
    "duration": 1862,
    "start_time": "2022-03-14T22:30:11.510Z"
   },
   {
    "duration": 1516,
    "start_time": "2022-03-15T18:28:21.771Z"
   },
   {
    "duration": 924,
    "start_time": "2022-03-15T18:28:26.527Z"
   },
   {
    "duration": 7,
    "start_time": "2022-03-15T18:28:28.817Z"
   },
   {
    "duration": 5,
    "start_time": "2022-03-15T18:28:30.558Z"
   },
   {
    "duration": 25,
    "start_time": "2022-03-15T18:28:33.047Z"
   },
   {
    "duration": 16,
    "start_time": "2022-03-15T18:28:34.869Z"
   },
   {
    "duration": 47,
    "start_time": "2022-03-15T18:28:37.562Z"
   },
   {
    "duration": 5,
    "start_time": "2022-03-15T18:28:47.281Z"
   },
   {
    "duration": 702,
    "start_time": "2022-03-15T18:28:49.193Z"
   },
   {
    "duration": 8,
    "start_time": "2022-03-15T18:33:22.373Z"
   },
   {
    "duration": 18,
    "start_time": "2022-03-15T18:33:24.659Z"
   },
   {
    "duration": 6,
    "start_time": "2022-03-15T18:33:27.004Z"
   },
   {
    "duration": 6,
    "start_time": "2022-03-15T18:33:27.955Z"
   },
   {
    "duration": 6,
    "start_time": "2022-03-15T18:33:28.155Z"
   },
   {
    "duration": 6,
    "start_time": "2022-03-15T18:33:28.363Z"
   },
   {
    "duration": 12,
    "start_time": "2022-03-15T18:33:28.757Z"
   },
   {
    "duration": 28,
    "start_time": "2022-03-15T18:33:31.574Z"
   },
   {
    "duration": 22,
    "start_time": "2022-03-15T18:50:52.531Z"
   },
   {
    "duration": 323,
    "start_time": "2022-03-15T18:50:56.896Z"
   },
   {
    "duration": 15,
    "start_time": "2022-03-15T18:51:08.481Z"
   },
   {
    "duration": 4,
    "start_time": "2022-03-15T18:51:10.450Z"
   },
   {
    "duration": 23,
    "start_time": "2022-03-15T18:51:12.452Z"
   },
   {
    "duration": 20,
    "start_time": "2022-03-15T18:51:14.289Z"
   },
   {
    "duration": 6,
    "start_time": "2022-03-15T18:51:15.833Z"
   },
   {
    "duration": 3466,
    "start_time": "2022-03-15T18:51:26.388Z"
   },
   {
    "duration": 3392,
    "start_time": "2022-03-15T18:51:29.857Z"
   },
   {
    "duration": 3569,
    "start_time": "2022-03-15T18:51:33.252Z"
   },
   {
    "duration": 3631,
    "start_time": "2022-03-15T18:51:36.824Z"
   },
   {
    "duration": 3607,
    "start_time": "2022-03-15T18:51:40.458Z"
   },
   {
    "duration": 3559,
    "start_time": "2022-03-15T18:51:44.068Z"
   },
   {
    "duration": 15,
    "start_time": "2022-03-15T18:51:47.630Z"
   },
   {
    "duration": 38,
    "start_time": "2022-03-15T18:51:47.649Z"
   },
   {
    "duration": 1422,
    "start_time": "2022-03-15T18:51:47.689Z"
   },
   {
    "duration": 20,
    "start_time": "2022-03-15T18:51:49.113Z"
   },
   {
    "duration": 15,
    "start_time": "2022-03-15T18:51:49.136Z"
   },
   {
    "duration": 2767,
    "start_time": "2022-03-15T18:51:49.153Z"
   },
   {
    "duration": 8,
    "start_time": "2022-03-15T18:51:51.922Z"
   },
   {
    "duration": 2910,
    "start_time": "2022-03-15T18:51:53.608Z"
   },
   {
    "duration": 5,
    "start_time": "2022-03-15T18:57:48.375Z"
   },
   {
    "duration": 11,
    "start_time": "2022-03-15T18:57:53.021Z"
   },
   {
    "duration": 36,
    "start_time": "2022-03-15T18:57:54.084Z"
   },
   {
    "duration": 16,
    "start_time": "2022-03-15T18:57:55.348Z"
   },
   {
    "duration": 10,
    "start_time": "2022-03-15T18:57:56.466Z"
   },
   {
    "duration": 13,
    "start_time": "2022-03-15T18:57:59.816Z"
   },
   {
    "duration": 30,
    "start_time": "2022-03-15T18:58:03.727Z"
   },
   {
    "duration": 3170,
    "start_time": "2022-03-15T19:00:21.309Z"
   },
   {
    "duration": 748,
    "start_time": "2022-03-15T19:01:35.143Z"
   },
   {
    "duration": 6063,
    "start_time": "2022-03-15T19:01:40.975Z"
   },
   {
    "duration": 1335,
    "start_time": "2022-03-15T19:01:55.600Z"
   },
   {
    "duration": 3051,
    "start_time": "2022-03-15T19:02:01.793Z"
   },
   {
    "duration": 18429,
    "start_time": "2022-03-15T19:03:21.000Z"
   },
   {
    "duration": 350,
    "start_time": "2022-03-15T20:14:31.779Z"
   },
   {
    "duration": 5,
    "start_time": "2022-03-15T20:14:41.016Z"
   },
   {
    "duration": 185,
    "start_time": "2022-03-15T20:14:50.379Z"
   },
   {
    "duration": 5,
    "start_time": "2022-03-15T20:15:40.149Z"
   },
   {
    "duration": 3,
    "start_time": "2022-03-15T20:15:50.490Z"
   },
   {
    "duration": 4,
    "start_time": "2022-03-15T20:21:47.757Z"
   },
   {
    "duration": 5,
    "start_time": "2022-03-15T20:21:48.780Z"
   },
   {
    "duration": 270,
    "start_time": "2022-03-15T20:21:49.732Z"
   },
   {
    "duration": 306,
    "start_time": "2022-03-15T20:23:02.125Z"
   },
   {
    "duration": 7,
    "start_time": "2022-03-15T20:23:47.838Z"
   },
   {
    "duration": 546,
    "start_time": "2022-03-15T20:23:51.308Z"
   },
   {
    "duration": 5,
    "start_time": "2022-03-15T20:24:32.116Z"
   },
   {
    "duration": 548,
    "start_time": "2022-03-15T20:24:33.171Z"
   },
   {
    "duration": 5,
    "start_time": "2022-03-15T20:26:35.485Z"
   },
   {
    "duration": 3,
    "start_time": "2022-03-15T20:26:39.419Z"
   },
   {
    "duration": 4,
    "start_time": "2022-03-15T20:26:41.137Z"
   },
   {
    "duration": 5,
    "start_time": "2022-03-15T20:26:41.781Z"
   },
   {
    "duration": 480,
    "start_time": "2022-03-15T20:26:43.289Z"
   },
   {
    "duration": 5,
    "start_time": "2022-03-15T20:28:20.356Z"
   },
   {
    "duration": 13,
    "start_time": "2022-03-15T20:28:23.188Z"
   },
   {
    "duration": 21,
    "start_time": "2022-03-15T20:28:23.379Z"
   },
   {
    "duration": 13,
    "start_time": "2022-03-15T20:28:23.556Z"
   },
   {
    "duration": 9,
    "start_time": "2022-03-15T20:28:23.739Z"
   },
   {
    "duration": 10,
    "start_time": "2022-03-15T20:28:35.585Z"
   },
   {
    "duration": 29,
    "start_time": "2022-03-15T20:28:38.043Z"
   },
   {
    "duration": 4,
    "start_time": "2022-03-15T20:28:38.942Z"
   },
   {
    "duration": 4,
    "start_time": "2022-03-15T20:28:40.460Z"
   },
   {
    "duration": 5,
    "start_time": "2022-03-15T20:28:40.963Z"
   },
   {
    "duration": 4043,
    "start_time": "2022-03-15T20:28:41.971Z"
   },
   {
    "duration": 9,
    "start_time": "2022-03-15T20:29:26.910Z"
   },
   {
    "duration": 6,
    "start_time": "2022-03-15T20:29:46.095Z"
   },
   {
    "duration": 209,
    "start_time": "2022-03-15T20:29:47.003Z"
   },
   {
    "duration": 4,
    "start_time": "2022-03-15T20:38:54.670Z"
   },
   {
    "duration": 373,
    "start_time": "2022-03-15T20:38:55.756Z"
   },
   {
    "duration": 5,
    "start_time": "2022-03-15T20:39:21.367Z"
   },
   {
    "duration": 640,
    "start_time": "2022-03-15T20:39:22.202Z"
   },
   {
    "duration": 1048,
    "start_time": "2022-03-15T20:40:08.164Z"
   },
   {
    "duration": 72152,
    "start_time": "2022-03-15T20:40:21.935Z"
   },
   {
    "duration": 32574,
    "start_time": "2022-03-15T21:00:39.701Z"
   },
   {
    "duration": 241924,
    "start_time": "2022-03-15T21:04:13.948Z"
   },
   {
    "duration": 178524,
    "start_time": "2022-03-15T22:53:10.000Z"
   },
   {
    "duration": 259411,
    "start_time": "2022-03-15T22:57:05.012Z"
   },
   {
    "duration": 1038,
    "start_time": "2022-03-16T06:38:32.116Z"
   },
   {
    "duration": 668,
    "start_time": "2022-03-16T06:38:33.804Z"
   },
   {
    "duration": 4,
    "start_time": "2022-03-16T06:38:35.065Z"
   },
   {
    "duration": 4,
    "start_time": "2022-03-16T06:38:36.402Z"
   },
   {
    "duration": 16,
    "start_time": "2022-03-16T06:38:39.123Z"
   },
   {
    "duration": 10,
    "start_time": "2022-03-16T06:38:40.055Z"
   },
   {
    "duration": 27,
    "start_time": "2022-03-16T06:38:41.106Z"
   },
   {
    "duration": 4,
    "start_time": "2022-03-16T06:38:42.679Z"
   },
   {
    "duration": 395,
    "start_time": "2022-03-16T06:38:43.346Z"
   },
   {
    "duration": 5,
    "start_time": "2022-03-16T06:38:44.099Z"
   },
   {
    "duration": 15,
    "start_time": "2022-03-16T06:38:46.541Z"
   },
   {
    "duration": 4,
    "start_time": "2022-03-16T06:38:47.407Z"
   },
   {
    "duration": 4,
    "start_time": "2022-03-16T06:38:48.394Z"
   },
   {
    "duration": 4,
    "start_time": "2022-03-16T06:38:48.639Z"
   },
   {
    "duration": 4,
    "start_time": "2022-03-16T06:38:48.859Z"
   },
   {
    "duration": 8,
    "start_time": "2022-03-16T06:38:49.237Z"
   },
   {
    "duration": 15,
    "start_time": "2022-03-16T06:38:49.643Z"
   },
   {
    "duration": 15,
    "start_time": "2022-03-16T06:38:50.983Z"
   },
   {
    "duration": 161,
    "start_time": "2022-03-16T06:38:51.311Z"
   },
   {
    "duration": 10,
    "start_time": "2022-03-16T06:38:51.542Z"
   },
   {
    "duration": 2,
    "start_time": "2022-03-16T06:38:51.736Z"
   },
   {
    "duration": 22,
    "start_time": "2022-03-16T06:38:51.936Z"
   },
   {
    "duration": 14,
    "start_time": "2022-03-16T06:38:52.284Z"
   },
   {
    "duration": 4,
    "start_time": "2022-03-16T06:38:52.501Z"
   },
   {
    "duration": 2269,
    "start_time": "2022-03-16T06:38:54.380Z"
   },
   {
    "duration": 2217,
    "start_time": "2022-03-16T06:38:56.651Z"
   },
   {
    "duration": 2353,
    "start_time": "2022-03-16T06:38:58.870Z"
   },
   {
    "duration": 2433,
    "start_time": "2022-03-16T06:39:01.225Z"
   },
   {
    "duration": 2286,
    "start_time": "2022-03-16T06:39:03.660Z"
   },
   {
    "duration": 2514,
    "start_time": "2022-03-16T06:39:05.948Z"
   },
   {
    "duration": 9,
    "start_time": "2022-03-16T06:39:08.463Z"
   },
   {
    "duration": 9,
    "start_time": "2022-03-16T06:39:08.474Z"
   },
   {
    "duration": 1058,
    "start_time": "2022-03-16T06:39:08.485Z"
   },
   {
    "duration": 13,
    "start_time": "2022-03-16T06:39:09.545Z"
   },
   {
    "duration": 6,
    "start_time": "2022-03-16T06:39:09.559Z"
   },
   {
    "duration": 1716,
    "start_time": "2022-03-16T06:39:09.567Z"
   },
   {
    "duration": 6,
    "start_time": "2022-03-16T06:39:11.285Z"
   },
   {
    "duration": 1853,
    "start_time": "2022-03-16T06:39:11.292Z"
   },
   {
    "duration": 3,
    "start_time": "2022-03-16T06:42:14.896Z"
   },
   {
    "duration": 8,
    "start_time": "2022-03-16T06:42:16.578Z"
   },
   {
    "duration": 30,
    "start_time": "2022-03-16T06:42:18.475Z"
   },
   {
    "duration": 11,
    "start_time": "2022-03-16T06:42:18.992Z"
   },
   {
    "duration": 6,
    "start_time": "2022-03-16T06:42:19.385Z"
   },
   {
    "duration": 9,
    "start_time": "2022-03-16T06:42:20.986Z"
   },
   {
    "duration": 223,
    "start_time": "2022-03-16T06:42:24.345Z"
   },
   {
    "duration": 5,
    "start_time": "2022-03-16T06:42:59.693Z"
   },
   {
    "duration": 1617,
    "start_time": "2022-03-16T06:43:03.956Z"
   },
   {
    "duration": 423,
    "start_time": "2022-03-16T06:43:57.741Z"
   },
   {
    "duration": 5,
    "start_time": "2022-03-16T06:45:43.493Z"
   },
   {
    "duration": 175616,
    "start_time": "2022-03-16T06:45:49.867Z"
   },
   {
    "duration": 10,
    "start_time": "2022-03-16T06:52:09.381Z"
   },
   {
    "duration": 177,
    "start_time": "2022-03-16T06:59:29.914Z"
   },
   {
    "duration": 4,
    "start_time": "2022-03-16T07:00:00.237Z"
   },
   {
    "duration": 7,
    "start_time": "2022-03-16T07:00:07.622Z"
   },
   {
    "duration": 15,
    "start_time": "2022-03-16T07:00:41.777Z"
   },
   {
    "duration": 7,
    "start_time": "2022-03-16T07:00:42.629Z"
   },
   {
    "duration": 6,
    "start_time": "2022-03-16T07:00:43.155Z"
   },
   {
    "duration": 5,
    "start_time": "2022-03-16T07:00:50.641Z"
   },
   {
    "duration": 179281,
    "start_time": "2022-03-16T07:00:52.510Z"
   },
   {
    "duration": 1081,
    "start_time": "2022-03-16T07:08:51.774Z"
   },
   {
    "duration": 710,
    "start_time": "2022-03-16T07:08:53.565Z"
   },
   {
    "duration": 5,
    "start_time": "2022-03-16T07:08:54.277Z"
   },
   {
    "duration": 4,
    "start_time": "2022-03-16T07:08:54.483Z"
   },
   {
    "duration": 16,
    "start_time": "2022-03-16T07:08:55.072Z"
   },
   {
    "duration": 11,
    "start_time": "2022-03-16T07:08:55.722Z"
   },
   {
    "duration": 30,
    "start_time": "2022-03-16T07:08:56.129Z"
   },
   {
    "duration": 3,
    "start_time": "2022-03-16T07:08:56.724Z"
   },
   {
    "duration": 410,
    "start_time": "2022-03-16T07:08:56.931Z"
   },
   {
    "duration": 5,
    "start_time": "2022-03-16T07:08:57.343Z"
   },
   {
    "duration": 15,
    "start_time": "2022-03-16T07:08:57.718Z"
   },
   {
    "duration": 5,
    "start_time": "2022-03-16T07:08:58.111Z"
   },
   {
    "duration": 4,
    "start_time": "2022-03-16T07:08:58.519Z"
   },
   {
    "duration": 4,
    "start_time": "2022-03-16T07:08:58.718Z"
   },
   {
    "duration": 4,
    "start_time": "2022-03-16T07:08:58.916Z"
   },
   {
    "duration": 9,
    "start_time": "2022-03-16T07:08:59.338Z"
   },
   {
    "duration": 14,
    "start_time": "2022-03-16T07:08:59.548Z"
   },
   {
    "duration": 18,
    "start_time": "2022-03-16T07:08:59.956Z"
   },
   {
    "duration": 175,
    "start_time": "2022-03-16T07:09:00.178Z"
   },
   {
    "duration": 11,
    "start_time": "2022-03-16T07:09:00.375Z"
   },
   {
    "duration": 3,
    "start_time": "2022-03-16T07:09:00.589Z"
   },
   {
    "duration": 21,
    "start_time": "2022-03-16T07:09:00.806Z"
   },
   {
    "duration": 16,
    "start_time": "2022-03-16T07:09:01.023Z"
   },
   {
    "duration": 4,
    "start_time": "2022-03-16T07:09:01.221Z"
   },
   {
    "duration": 3311,
    "start_time": "2022-03-16T07:09:02.398Z"
   },
   {
    "duration": 3253,
    "start_time": "2022-03-16T07:09:05.711Z"
   },
   {
    "duration": 2545,
    "start_time": "2022-03-16T07:09:08.966Z"
   },
   {
    "duration": 2424,
    "start_time": "2022-03-16T07:09:11.513Z"
   },
   {
    "duration": 2421,
    "start_time": "2022-03-16T07:09:13.939Z"
   },
   {
    "duration": 2404,
    "start_time": "2022-03-16T07:09:16.361Z"
   },
   {
    "duration": 12,
    "start_time": "2022-03-16T07:09:18.767Z"
   },
   {
    "duration": 20,
    "start_time": "2022-03-16T07:09:18.787Z"
   },
   {
    "duration": 1014,
    "start_time": "2022-03-16T07:09:18.809Z"
   },
   {
    "duration": 13,
    "start_time": "2022-03-16T07:09:19.832Z"
   },
   {
    "duration": 4,
    "start_time": "2022-03-16T07:09:19.847Z"
   },
   {
    "duration": 1774,
    "start_time": "2022-03-16T07:09:19.852Z"
   },
   {
    "duration": 8,
    "start_time": "2022-03-16T07:09:21.628Z"
   },
   {
    "duration": 2721,
    "start_time": "2022-03-16T07:09:21.637Z"
   },
   {
    "duration": 3,
    "start_time": "2022-03-16T07:09:24.360Z"
   },
   {
    "duration": 9,
    "start_time": "2022-03-16T07:09:24.365Z"
   },
   {
    "duration": 29,
    "start_time": "2022-03-16T07:09:36.978Z"
   },
   {
    "duration": 11,
    "start_time": "2022-03-16T07:09:37.543Z"
   },
   {
    "duration": 7,
    "start_time": "2022-03-16T07:09:37.860Z"
   },
   {
    "duration": 10,
    "start_time": "2022-03-16T07:09:41.059Z"
   },
   {
    "duration": 26,
    "start_time": "2022-03-16T07:10:06.180Z"
   },
   {
    "duration": 2,
    "start_time": "2022-03-16T07:10:19.202Z"
   },
   {
    "duration": 1157,
    "start_time": "2022-03-16T10:16:15.141Z"
   },
   {
    "duration": 658,
    "start_time": "2022-03-16T10:16:20.927Z"
   },
   {
    "duration": 4,
    "start_time": "2022-03-16T10:16:22.539Z"
   },
   {
    "duration": 3,
    "start_time": "2022-03-16T10:16:23.279Z"
   },
   {
    "duration": 16,
    "start_time": "2022-03-16T10:16:24.170Z"
   },
   {
    "duration": 11,
    "start_time": "2022-03-16T10:16:24.589Z"
   },
   {
    "duration": 31,
    "start_time": "2022-03-16T10:16:25.028Z"
   },
   {
    "duration": 4,
    "start_time": "2022-03-16T10:16:25.716Z"
   },
   {
    "duration": 424,
    "start_time": "2022-03-16T10:16:26.028Z"
   },
   {
    "duration": 10,
    "start_time": "2022-03-16T10:16:26.454Z"
   },
   {
    "duration": 15,
    "start_time": "2022-03-16T10:16:26.750Z"
   },
   {
    "duration": 5,
    "start_time": "2022-03-16T10:16:27.077Z"
   },
   {
    "duration": 4,
    "start_time": "2022-03-16T10:16:27.380Z"
   },
   {
    "duration": 4,
    "start_time": "2022-03-16T10:16:27.559Z"
   },
   {
    "duration": 4,
    "start_time": "2022-03-16T10:16:27.795Z"
   },
   {
    "duration": 9,
    "start_time": "2022-03-16T10:16:28.191Z"
   },
   {
    "duration": 15,
    "start_time": "2022-03-16T10:16:28.414Z"
   },
   {
    "duration": 18,
    "start_time": "2022-03-16T10:16:28.840Z"
   },
   {
    "duration": 214,
    "start_time": "2022-03-16T10:16:29.044Z"
   },
   {
    "duration": 11,
    "start_time": "2022-03-16T10:16:29.263Z"
   },
   {
    "duration": 3,
    "start_time": "2022-03-16T10:16:29.449Z"
   },
   {
    "duration": 26,
    "start_time": "2022-03-16T10:16:29.703Z"
   },
   {
    "duration": 19,
    "start_time": "2022-03-16T10:16:29.902Z"
   },
   {
    "duration": 5,
    "start_time": "2022-03-16T10:16:30.144Z"
   },
   {
    "duration": 3545,
    "start_time": "2022-03-16T10:16:31.393Z"
   },
   {
    "duration": 3593,
    "start_time": "2022-03-16T10:16:34.941Z"
   },
   {
    "duration": 3770,
    "start_time": "2022-03-16T10:16:38.537Z"
   },
   {
    "duration": 2885,
    "start_time": "2022-03-16T10:16:42.309Z"
   },
   {
    "duration": 2436,
    "start_time": "2022-03-16T10:16:45.196Z"
   },
   {
    "duration": 2984,
    "start_time": "2022-03-16T10:16:47.634Z"
   },
   {
    "duration": 10,
    "start_time": "2022-03-16T10:16:50.620Z"
   },
   {
    "duration": 18,
    "start_time": "2022-03-16T10:16:50.632Z"
   },
   {
    "duration": 999,
    "start_time": "2022-03-16T10:16:50.652Z"
   },
   {
    "duration": 18,
    "start_time": "2022-03-16T10:16:51.653Z"
   },
   {
    "duration": 40,
    "start_time": "2022-03-16T10:16:51.673Z"
   },
   {
    "duration": 1875,
    "start_time": "2022-03-16T10:16:51.714Z"
   },
   {
    "duration": 5,
    "start_time": "2022-03-16T10:16:53.591Z"
   },
   {
    "duration": 2161,
    "start_time": "2022-03-16T10:16:53.598Z"
   },
   {
    "duration": 4,
    "start_time": "2022-03-16T10:16:55.760Z"
   },
   {
    "duration": 32,
    "start_time": "2022-03-16T10:16:55.765Z"
   },
   {
    "duration": 39,
    "start_time": "2022-03-16T10:16:55.799Z"
   },
   {
    "duration": 10,
    "start_time": "2022-03-16T10:16:55.840Z"
   },
   {
    "duration": 265,
    "start_time": "2022-03-16T10:19:54.825Z"
   },
   {
    "duration": 4,
    "start_time": "2022-03-16T10:20:07.030Z"
   },
   {
    "duration": 8,
    "start_time": "2022-03-16T10:20:07.978Z"
   },
   {
    "duration": 17,
    "start_time": "2022-03-16T10:20:08.277Z"
   },
   {
    "duration": 9,
    "start_time": "2022-03-16T10:20:10.998Z"
   },
   {
    "duration": 7,
    "start_time": "2022-03-16T10:20:11.558Z"
   },
   {
    "duration": 8,
    "start_time": "2022-03-16T10:20:12.709Z"
   },
   {
    "duration": 29,
    "start_time": "2022-03-16T10:20:15.022Z"
   },
   {
    "duration": 3,
    "start_time": "2022-03-16T10:20:16.034Z"
   },
   {
    "duration": 183,
    "start_time": "2022-03-16T10:20:17.522Z"
   },
   {
    "duration": 512,
    "start_time": "2022-03-16T10:21:46.409Z"
   },
   {
    "duration": 3,
    "start_time": "2022-03-16T10:22:19.892Z"
   },
   {
    "duration": 683,
    "start_time": "2022-03-16T10:22:20.439Z"
   },
   {
    "duration": 4,
    "start_time": "2022-03-16T10:22:21.124Z"
   },
   {
    "duration": 9,
    "start_time": "2022-03-16T10:22:21.130Z"
   },
   {
    "duration": 17,
    "start_time": "2022-03-16T10:22:21.197Z"
   },
   {
    "duration": 11,
    "start_time": "2022-03-16T10:22:21.641Z"
   },
   {
    "duration": 25,
    "start_time": "2022-03-16T10:22:22.017Z"
   },
   {
    "duration": 4,
    "start_time": "2022-03-16T10:22:22.511Z"
   },
   {
    "duration": 380,
    "start_time": "2022-03-16T10:22:22.691Z"
   },
   {
    "duration": 4,
    "start_time": "2022-03-16T10:22:23.073Z"
   },
   {
    "duration": 11,
    "start_time": "2022-03-16T10:22:23.243Z"
   },
   {
    "duration": 4,
    "start_time": "2022-03-16T10:22:23.625Z"
   },
   {
    "duration": 4,
    "start_time": "2022-03-16T10:22:23.991Z"
   },
   {
    "duration": 4,
    "start_time": "2022-03-16T10:22:24.203Z"
   },
   {
    "duration": 6,
    "start_time": "2022-03-16T10:22:24.392Z"
   },
   {
    "duration": 10,
    "start_time": "2022-03-16T10:22:24.788Z"
   },
   {
    "duration": 16,
    "start_time": "2022-03-16T10:22:24.946Z"
   },
   {
    "duration": 17,
    "start_time": "2022-03-16T10:22:25.333Z"
   },
   {
    "duration": 166,
    "start_time": "2022-03-16T10:22:25.544Z"
   },
   {
    "duration": 11,
    "start_time": "2022-03-16T10:22:25.760Z"
   },
   {
    "duration": 3,
    "start_time": "2022-03-16T10:22:25.956Z"
   },
   {
    "duration": 19,
    "start_time": "2022-03-16T10:22:26.164Z"
   },
   {
    "duration": 19,
    "start_time": "2022-03-16T10:22:26.382Z"
   },
   {
    "duration": 4,
    "start_time": "2022-03-16T10:22:26.584Z"
   },
   {
    "duration": 2361,
    "start_time": "2022-03-16T10:22:27.802Z"
   },
   {
    "duration": 2381,
    "start_time": "2022-03-16T10:22:30.165Z"
   },
   {
    "duration": 2415,
    "start_time": "2022-03-16T10:22:32.548Z"
   },
   {
    "duration": 2419,
    "start_time": "2022-03-16T10:22:34.964Z"
   },
   {
    "duration": 2428,
    "start_time": "2022-03-16T10:22:37.385Z"
   },
   {
    "duration": 2478,
    "start_time": "2022-03-16T10:22:39.815Z"
   },
   {
    "duration": 10,
    "start_time": "2022-03-16T10:22:42.295Z"
   },
   {
    "duration": 12,
    "start_time": "2022-03-16T10:22:42.307Z"
   },
   {
    "duration": 1036,
    "start_time": "2022-03-16T10:22:42.321Z"
   },
   {
    "duration": 11,
    "start_time": "2022-03-16T10:22:43.358Z"
   },
   {
    "duration": 4,
    "start_time": "2022-03-16T10:22:43.371Z"
   },
   {
    "duration": 1838,
    "start_time": "2022-03-16T10:22:43.376Z"
   },
   {
    "duration": 6,
    "start_time": "2022-03-16T10:22:45.216Z"
   },
   {
    "duration": 2013,
    "start_time": "2022-03-16T10:22:45.224Z"
   },
   {
    "duration": 3,
    "start_time": "2022-03-16T10:22:47.239Z"
   },
   {
    "duration": 20,
    "start_time": "2022-03-16T10:22:47.243Z"
   },
   {
    "duration": 19,
    "start_time": "2022-03-16T10:22:47.264Z"
   },
   {
    "duration": 8,
    "start_time": "2022-03-16T10:22:47.285Z"
   },
   {
    "duration": 7,
    "start_time": "2022-03-16T11:04:32.809Z"
   },
   {
    "duration": 10,
    "start_time": "2022-03-16T11:04:34.708Z"
   },
   {
    "duration": 25,
    "start_time": "2022-03-16T11:36:32.250Z"
   },
   {
    "duration": 3,
    "start_time": "2022-03-16T11:36:34.582Z"
   },
   {
    "duration": 6230,
    "start_time": "2022-03-16T11:36:40.204Z"
   },
   {
    "duration": 3,
    "start_time": "2022-03-16T11:43:07.637Z"
   },
   {
    "duration": 4,
    "start_time": "2022-03-16T11:47:00.476Z"
   },
   {
    "duration": 4,
    "start_time": "2022-03-16T11:47:11.944Z"
   },
   {
    "duration": 25565,
    "start_time": "2022-03-16T11:47:34.464Z"
   },
   {
    "duration": 5,
    "start_time": "2022-03-16T11:50:59.560Z"
   },
   {
    "duration": 4,
    "start_time": "2022-03-16T11:51:06.691Z"
   },
   {
    "duration": 25940,
    "start_time": "2022-03-16T11:51:16.731Z"
   },
   {
    "duration": 5,
    "start_time": "2022-03-16T11:52:58.605Z"
   },
   {
    "duration": 4,
    "start_time": "2022-03-16T11:53:09.859Z"
   },
   {
    "duration": 25275,
    "start_time": "2022-03-16T11:53:11.125Z"
   },
   {
    "duration": 5,
    "start_time": "2022-03-16T11:54:47.203Z"
   },
   {
    "duration": 20,
    "start_time": "2022-03-16T11:54:51.658Z"
   },
   {
    "duration": 4,
    "start_time": "2022-03-16T11:54:53.752Z"
   },
   {
    "duration": 24936,
    "start_time": "2022-03-16T11:54:56.446Z"
   },
   {
    "duration": 4,
    "start_time": "2022-03-16T11:55:46.255Z"
   },
   {
    "duration": 25099,
    "start_time": "2022-03-16T11:55:48.668Z"
   },
   {
    "duration": 142577,
    "start_time": "2022-03-16T11:58:17.333Z"
   },
   {
    "duration": 331331,
    "start_time": "2022-03-16T12:00:55.205Z"
   },
   {
    "duration": 173,
    "start_time": "2022-03-16T12:06:26.538Z"
   },
   {
    "duration": 76,
    "start_time": "2022-03-16T12:32:45.981Z"
   },
   {
    "duration": 181,
    "start_time": "2022-03-16T12:33:04.972Z"
   },
   {
    "duration": 816778,
    "start_time": "2022-03-16T12:33:20.256Z"
   },
   {
    "duration": 3,
    "start_time": "2022-03-16T12:50:42.215Z"
   },
   {
    "duration": 832557,
    "start_time": "2022-03-16T12:50:55.043Z"
   },
   {
    "duration": 829341,
    "start_time": "2022-03-16T13:05:28.123Z"
   },
   {
    "duration": 17737,
    "start_time": "2022-03-16T15:14:38.235Z"
   },
   {
    "duration": 14120,
    "start_time": "2022-03-16T15:19:46.091Z"
   },
   {
    "duration": 26611,
    "start_time": "2022-03-16T15:37:54.839Z"
   },
   {
    "duration": 208,
    "start_time": "2022-03-16T15:39:04.229Z"
   },
   {
    "duration": 4,
    "start_time": "2022-03-16T15:40:21.825Z"
   },
   {
    "duration": 3698,
    "start_time": "2022-03-16T15:40:28.969Z"
   },
   {
    "duration": 3822,
    "start_time": "2022-03-16T15:41:52.473Z"
   },
   {
    "duration": 187,
    "start_time": "2022-03-16T15:42:58.296Z"
   },
   {
    "duration": 3524,
    "start_time": "2022-03-16T15:43:09.424Z"
   },
   {
    "duration": 3404,
    "start_time": "2022-03-16T15:43:47.170Z"
   },
   {
    "duration": 2469,
    "start_time": "2022-03-16T15:51:56.409Z"
   },
   {
    "duration": 4,
    "start_time": "2022-03-16T15:54:49.610Z"
   },
   {
    "duration": 25774,
    "start_time": "2022-03-16T15:55:08.939Z"
   },
   {
    "duration": 957371,
    "start_time": "2022-03-16T15:55:38.129Z"
   },
   {
    "duration": 3663,
    "start_time": "2022-03-16T16:11:35.502Z"
   },
   {
    "duration": 2118,
    "start_time": "2022-03-16T16:27:53.400Z"
   },
   {
    "duration": 3977,
    "start_time": "2022-03-16T16:28:16.802Z"
   },
   {
    "duration": 4114,
    "start_time": "2022-03-16T16:28:34.474Z"
   },
   {
    "duration": 3806,
    "start_time": "2022-03-16T16:28:59.360Z"
   },
   {
    "duration": 24391,
    "start_time": "2022-03-16T16:40:25.045Z"
   },
   {
    "duration": 27575,
    "start_time": "2022-03-16T16:46:02.017Z"
   },
   {
    "duration": 18073,
    "start_time": "2022-03-16T17:03:36.567Z"
   },
   {
    "duration": 17660,
    "start_time": "2022-03-16T17:09:10.887Z"
   },
   {
    "duration": 18088,
    "start_time": "2022-03-16T17:10:09.024Z"
   },
   {
    "duration": 24494,
    "start_time": "2022-03-16T17:13:06.699Z"
   },
   {
    "duration": 18020,
    "start_time": "2022-03-16T17:15:40.165Z"
   },
   {
    "duration": 24586,
    "start_time": "2022-03-16T17:18:47.511Z"
   },
   {
    "duration": 24528,
    "start_time": "2022-03-16T17:19:28.945Z"
   },
   {
    "duration": 4,
    "start_time": "2022-03-16T17:21:10.905Z"
   },
   {
    "duration": 18183,
    "start_time": "2022-03-16T17:21:19.280Z"
   },
   {
    "duration": 5654,
    "start_time": "2022-03-16T17:46:12.148Z"
   },
   {
    "duration": 1441,
    "start_time": "2022-03-16T17:47:42.669Z"
   },
   {
    "duration": 732,
    "start_time": "2022-03-16T17:47:45.931Z"
   },
   {
    "duration": 5,
    "start_time": "2022-03-16T17:47:47.185Z"
   },
   {
    "duration": 4,
    "start_time": "2022-03-16T17:47:47.457Z"
   },
   {
    "duration": 17,
    "start_time": "2022-03-16T17:47:47.808Z"
   },
   {
    "duration": 11,
    "start_time": "2022-03-16T17:47:48.363Z"
   },
   {
    "duration": 30,
    "start_time": "2022-03-16T17:47:48.766Z"
   },
   {
    "duration": 5,
    "start_time": "2022-03-16T17:47:49.341Z"
   },
   {
    "duration": 437,
    "start_time": "2022-03-16T17:47:49.526Z"
   },
   {
    "duration": 5,
    "start_time": "2022-03-16T17:47:49.965Z"
   },
   {
    "duration": 230,
    "start_time": "2022-03-16T17:47:50.022Z"
   },
   {
    "duration": 97,
    "start_time": "2022-03-16T17:47:50.381Z"
   },
   {
    "duration": 92,
    "start_time": "2022-03-16T17:47:50.705Z"
   },
   {
    "duration": 4,
    "start_time": "2022-03-16T17:47:51.055Z"
   },
   {
    "duration": 275,
    "start_time": "2022-03-16T17:47:51.263Z"
   },
   {
    "duration": 93,
    "start_time": "2022-03-16T17:47:51.643Z"
   },
   {
    "duration": 86,
    "start_time": "2022-03-16T17:47:51.838Z"
   },
   {
    "duration": 23,
    "start_time": "2022-03-16T17:47:52.216Z"
   },
   {
    "duration": 389,
    "start_time": "2022-03-16T17:47:52.405Z"
   },
   {
    "duration": 11,
    "start_time": "2022-03-16T17:47:52.796Z"
   },
   {
    "duration": 248,
    "start_time": "2022-03-16T17:47:52.810Z"
   },
   {
    "duration": 194,
    "start_time": "2022-03-16T17:47:53.060Z"
   },
   {
    "duration": 178,
    "start_time": "2022-03-16T17:47:53.256Z"
   },
   {
    "duration": 143,
    "start_time": "2022-03-16T17:47:53.437Z"
   },
   {
    "duration": 2614,
    "start_time": "2022-03-16T17:47:54.804Z"
   },
   {
    "duration": 2571,
    "start_time": "2022-03-16T17:47:57.420Z"
   },
   {
    "duration": 3795,
    "start_time": "2022-03-16T17:47:59.994Z"
   },
   {
    "duration": 3832,
    "start_time": "2022-03-16T17:48:03.791Z"
   },
   {
    "duration": 3729,
    "start_time": "2022-03-16T17:48:07.625Z"
   },
   {
    "duration": 2535,
    "start_time": "2022-03-16T17:48:11.356Z"
   },
   {
    "duration": 13,
    "start_time": "2022-03-16T17:48:13.894Z"
   },
   {
    "duration": 1200,
    "start_time": "2022-03-16T17:48:13.911Z"
   },
   {
    "duration": 2039,
    "start_time": "2022-03-16T17:48:15.114Z"
   },
   {
    "duration": 398,
    "start_time": "2022-03-16T17:48:17.155Z"
   },
   {
    "duration": 437,
    "start_time": "2022-03-16T17:48:17.556Z"
   },
   {
    "duration": 2968,
    "start_time": "2022-03-16T17:48:17.995Z"
   },
   {
    "duration": 9,
    "start_time": "2022-03-16T17:48:20.966Z"
   },
   {
    "duration": 2656,
    "start_time": "2022-03-16T17:48:20.977Z"
   },
   {
    "duration": 5,
    "start_time": "2022-03-16T17:48:23.635Z"
   },
   {
    "duration": 942,
    "start_time": "2022-03-16T17:48:23.643Z"
   },
   {
    "duration": 1016,
    "start_time": "2022-03-16T17:48:24.587Z"
   },
   {
    "duration": 502,
    "start_time": "2022-03-16T17:48:25.605Z"
   },
   {
    "duration": 737,
    "start_time": "2022-03-16T17:48:26.109Z"
   },
   {
    "duration": 476,
    "start_time": "2022-03-16T17:48:26.848Z"
   },
   {
    "duration": 10,
    "start_time": "2022-03-16T18:01:09.704Z"
   },
   {
    "duration": 35,
    "start_time": "2022-03-16T18:01:36.544Z"
   },
   {
    "duration": 34911,
    "start_time": "2022-03-16T18:02:59.781Z"
   },
   {
    "duration": 4,
    "start_time": "2022-03-16T18:06:58.315Z"
   },
   {
    "duration": 336,
    "start_time": "2022-03-16T18:09:00.168Z"
   },
   {
    "duration": 4,
    "start_time": "2022-03-16T18:09:12.946Z"
   },
   {
    "duration": 31785,
    "start_time": "2022-03-16T18:09:16.025Z"
   },
   {
    "duration": 26182,
    "start_time": "2022-03-16T18:11:04.375Z"
   },
   {
    "duration": 271,
    "start_time": "2022-03-16T18:19:50.378Z"
   },
   {
    "duration": 206,
    "start_time": "2022-03-16T18:21:03.244Z"
   },
   {
    "duration": 1175,
    "start_time": "2022-03-16T18:44:09.524Z"
   },
   {
    "duration": 756,
    "start_time": "2022-03-16T18:44:12.046Z"
   },
   {
    "duration": 5,
    "start_time": "2022-03-16T18:44:13.083Z"
   },
   {
    "duration": 4,
    "start_time": "2022-03-16T18:44:20.312Z"
   },
   {
    "duration": 17,
    "start_time": "2022-03-16T18:44:22.315Z"
   },
   {
    "duration": 11,
    "start_time": "2022-03-16T18:44:25.483Z"
   },
   {
    "duration": 30,
    "start_time": "2022-03-16T18:44:33.728Z"
   },
   {
    "duration": 3,
    "start_time": "2022-03-16T18:45:43.398Z"
   },
   {
    "duration": 444,
    "start_time": "2022-03-16T18:45:45.230Z"
   },
   {
    "duration": 6,
    "start_time": "2022-03-16T18:45:46.628Z"
   },
   {
    "duration": 17,
    "start_time": "2022-03-16T18:45:48.480Z"
   },
   {
    "duration": 5,
    "start_time": "2022-03-16T18:45:56.346Z"
   },
   {
    "duration": 5,
    "start_time": "2022-03-16T18:45:59.329Z"
   },
   {
    "duration": 6,
    "start_time": "2022-03-16T18:45:59.337Z"
   },
   {
    "duration": 10,
    "start_time": "2022-03-16T18:45:59.345Z"
   },
   {
    "duration": 10,
    "start_time": "2022-03-16T18:46:04.414Z"
   },
   {
    "duration": 18,
    "start_time": "2022-03-16T18:46:04.650Z"
   },
   {
    "duration": 18,
    "start_time": "2022-03-16T18:46:05.030Z"
   },
   {
    "duration": 181,
    "start_time": "2022-03-16T18:46:05.191Z"
   },
   {
    "duration": 12,
    "start_time": "2022-03-16T18:46:05.373Z"
   },
   {
    "duration": 3,
    "start_time": "2022-03-16T18:46:05.517Z"
   },
   {
    "duration": 22,
    "start_time": "2022-03-16T18:46:05.724Z"
   },
   {
    "duration": 16,
    "start_time": "2022-03-16T18:46:05.907Z"
   },
   {
    "duration": 4,
    "start_time": "2022-03-16T18:46:06.102Z"
   },
   {
    "duration": 2430,
    "start_time": "2022-03-16T18:46:10.073Z"
   },
   {
    "duration": 2272,
    "start_time": "2022-03-16T18:46:12.505Z"
   },
   {
    "duration": 2417,
    "start_time": "2022-03-16T18:46:14.780Z"
   },
   {
    "duration": 2499,
    "start_time": "2022-03-16T18:46:17.200Z"
   },
   {
    "duration": 2411,
    "start_time": "2022-03-16T18:46:19.701Z"
   },
   {
    "duration": 2493,
    "start_time": "2022-03-16T18:46:22.114Z"
   },
   {
    "duration": 11,
    "start_time": "2022-03-16T18:46:24.609Z"
   },
   {
    "duration": 13,
    "start_time": "2022-03-16T18:46:24.623Z"
   },
   {
    "duration": 1027,
    "start_time": "2022-03-16T18:46:24.638Z"
   },
   {
    "duration": 17,
    "start_time": "2022-03-16T18:46:25.667Z"
   },
   {
    "duration": 3,
    "start_time": "2022-03-16T18:46:25.686Z"
   },
   {
    "duration": 1860,
    "start_time": "2022-03-16T18:46:25.690Z"
   },
   {
    "duration": 6,
    "start_time": "2022-03-16T18:46:27.552Z"
   },
   {
    "duration": 2089,
    "start_time": "2022-03-16T18:46:27.563Z"
   },
   {
    "duration": 8,
    "start_time": "2022-03-16T18:46:29.911Z"
   },
   {
    "duration": 30,
    "start_time": "2022-03-16T18:46:32.386Z"
   },
   {
    "duration": 4,
    "start_time": "2022-03-16T18:46:39.794Z"
   },
   {
    "duration": 12,
    "start_time": "2022-03-16T18:46:44.437Z"
   },
   {
    "duration": 8,
    "start_time": "2022-03-16T18:46:45.078Z"
   },
   {
    "duration": 12,
    "start_time": "2022-03-16T18:46:47.969Z"
   },
   {
    "duration": 399,
    "start_time": "2022-03-16T18:47:21.956Z"
   },
   {
    "duration": 255,
    "start_time": "2022-03-16T18:51:05.099Z"
   },
   {
    "duration": 215,
    "start_time": "2022-03-16T18:53:20.427Z"
   },
   {
    "duration": 209,
    "start_time": "2022-03-16T18:54:33.643Z"
   },
   {
    "duration": 197,
    "start_time": "2022-03-16T18:58:34.616Z"
   },
   {
    "duration": 20,
    "start_time": "2022-03-16T18:58:55.469Z"
   },
   {
    "duration": 34628,
    "start_time": "2022-03-16T18:59:22.400Z"
   },
   {
    "duration": 4,
    "start_time": "2022-03-16T19:02:56.579Z"
   },
   {
    "duration": 11,
    "start_time": "2022-03-16T19:03:03.049Z"
   },
   {
    "duration": 20,
    "start_time": "2022-03-16T19:03:03.421Z"
   },
   {
    "duration": 1112,
    "start_time": "2022-03-16T19:03:40.504Z"
   },
   {
    "duration": 774,
    "start_time": "2022-03-16T19:03:42.229Z"
   },
   {
    "duration": 5,
    "start_time": "2022-03-16T19:03:43.005Z"
   },
   {
    "duration": 26,
    "start_time": "2022-03-16T19:03:43.013Z"
   },
   {
    "duration": 16,
    "start_time": "2022-03-16T19:03:43.121Z"
   },
   {
    "duration": 12,
    "start_time": "2022-03-16T19:03:43.502Z"
   },
   {
    "duration": 31,
    "start_time": "2022-03-16T19:03:43.830Z"
   },
   {
    "duration": 4,
    "start_time": "2022-03-16T19:03:44.365Z"
   },
   {
    "duration": 430,
    "start_time": "2022-03-16T19:03:44.534Z"
   },
   {
    "duration": 5,
    "start_time": "2022-03-16T19:03:44.966Z"
   },
   {
    "duration": 15,
    "start_time": "2022-03-16T19:03:45.074Z"
   },
   {
    "duration": 4,
    "start_time": "2022-03-16T19:03:45.423Z"
   },
   {
    "duration": 4,
    "start_time": "2022-03-16T19:03:45.773Z"
   },
   {
    "duration": 5,
    "start_time": "2022-03-16T19:03:45.959Z"
   },
   {
    "duration": 5,
    "start_time": "2022-03-16T19:03:46.151Z"
   },
   {
    "duration": 10,
    "start_time": "2022-03-16T19:03:46.551Z"
   },
   {
    "duration": 16,
    "start_time": "2022-03-16T19:03:46.700Z"
   },
   {
    "duration": 24,
    "start_time": "2022-03-16T19:03:47.080Z"
   },
   {
    "duration": 267,
    "start_time": "2022-03-16T19:03:47.233Z"
   },
   {
    "duration": 16,
    "start_time": "2022-03-16T19:03:47.503Z"
   },
   {
    "duration": 4,
    "start_time": "2022-03-16T19:03:47.640Z"
   },
   {
    "duration": 21,
    "start_time": "2022-03-16T19:03:47.839Z"
   },
   {
    "duration": 15,
    "start_time": "2022-03-16T19:03:48.022Z"
   },
   {
    "duration": 5,
    "start_time": "2022-03-16T19:03:48.227Z"
   },
   {
    "duration": 3042,
    "start_time": "2022-03-16T19:03:49.396Z"
   },
   {
    "duration": 2764,
    "start_time": "2022-03-16T19:03:52.440Z"
   },
   {
    "duration": 2893,
    "start_time": "2022-03-16T19:03:55.206Z"
   },
   {
    "duration": 3386,
    "start_time": "2022-03-16T19:03:58.101Z"
   },
   {
    "duration": 2873,
    "start_time": "2022-03-16T19:04:01.490Z"
   },
   {
    "duration": 2557,
    "start_time": "2022-03-16T19:04:04.365Z"
   },
   {
    "duration": 10,
    "start_time": "2022-03-16T19:04:06.924Z"
   },
   {
    "duration": 30,
    "start_time": "2022-03-16T19:04:06.936Z"
   },
   {
    "duration": 1012,
    "start_time": "2022-03-16T19:04:06.968Z"
   },
   {
    "duration": 16,
    "start_time": "2022-03-16T19:04:07.982Z"
   },
   {
    "duration": 3,
    "start_time": "2022-03-16T19:04:08.000Z"
   },
   {
    "duration": 1906,
    "start_time": "2022-03-16T19:04:08.005Z"
   },
   {
    "duration": 7,
    "start_time": "2022-03-16T19:04:09.913Z"
   },
   {
    "duration": 2005,
    "start_time": "2022-03-16T19:04:09.922Z"
   },
   {
    "duration": 261,
    "start_time": "2022-03-16T19:04:11.930Z"
   },
   {
    "duration": -1015,
    "start_time": "2022-03-16T19:04:13.208Z"
   },
   {
    "duration": 4,
    "start_time": "2022-03-16T19:04:28.884Z"
   },
   {
    "duration": 9,
    "start_time": "2022-03-16T19:04:32.737Z"
   },
   {
    "duration": 29,
    "start_time": "2022-03-16T19:04:34.633Z"
   },
   {
    "duration": 10,
    "start_time": "2022-03-16T19:04:34.963Z"
   },
   {
    "duration": 6,
    "start_time": "2022-03-16T19:04:35.206Z"
   },
   {
    "duration": 11,
    "start_time": "2022-03-16T19:04:37.633Z"
   },
   {
    "duration": 28,
    "start_time": "2022-03-16T19:04:39.393Z"
   },
   {
    "duration": 25938,
    "start_time": "2022-03-16T19:04:45.604Z"
   },
   {
    "duration": 185,
    "start_time": "2022-03-16T19:05:42.518Z"
   },
   {
    "duration": 4,
    "start_time": "2022-03-16T19:05:51.463Z"
   },
   {
    "duration": 25437,
    "start_time": "2022-03-16T19:06:06.181Z"
   },
   {
    "duration": 829828,
    "start_time": "2022-03-16T19:09:11.625Z"
   },
   {
    "duration": 3669,
    "start_time": "2022-03-16T20:13:03.297Z"
   },
   {
    "duration": 171,
    "start_time": "2022-03-16T20:13:59.375Z"
   },
   {
    "duration": 17741,
    "start_time": "2022-03-16T20:14:17.116Z"
   },
   {
    "duration": 6,
    "start_time": "2022-03-16T20:19:02.594Z"
   },
   {
    "duration": 182,
    "start_time": "2022-03-16T20:19:08.058Z"
   },
   {
    "duration": 17137,
    "start_time": "2022-03-16T20:19:24.335Z"
   },
   {
    "duration": 4445,
    "start_time": "2022-03-16T20:19:55.811Z"
   },
   {
    "duration": 4,
    "start_time": "2022-03-16T20:26:13.671Z"
   },
   {
    "duration": 820190,
    "start_time": "2022-03-16T20:26:18.436Z"
   },
   {
    "duration": 3081,
    "start_time": "2022-03-16T20:41:09.694Z"
   },
   {
    "duration": 17618,
    "start_time": "2022-03-16T20:41:18.439Z"
   },
   {
    "duration": 17887,
    "start_time": "2022-03-16T20:43:07.937Z"
   },
   {
    "duration": 17110,
    "start_time": "2022-03-16T20:44:34.967Z"
   },
   {
    "duration": 17575,
    "start_time": "2022-03-16T20:55:17.229Z"
   },
   {
    "duration": 4,
    "start_time": "2022-03-16T20:57:54.098Z"
   },
   {
    "duration": 16714,
    "start_time": "2022-03-16T20:58:01.304Z"
   },
   {
    "duration": 4000,
    "start_time": "2022-03-16T20:58:52.731Z"
   },
   {
    "duration": 3,
    "start_time": "2022-03-16T21:00:27.862Z"
   },
   {
    "duration": 810608,
    "start_time": "2022-03-16T21:00:44.042Z"
   },
   {
    "duration": 25328,
    "start_time": "2022-03-16T21:17:51.109Z"
   },
   {
    "duration": 2326,
    "start_time": "2022-03-16T21:18:16.439Z"
   },
   {
    "duration": 17867,
    "start_time": "2022-03-16T21:18:29.128Z"
   },
   {
    "duration": -1057,
    "start_time": "2022-03-16T21:19:38.463Z"
   },
   {
    "duration": 17867,
    "start_time": "2022-03-16T21:20:04.525Z"
   },
   {
    "duration": 4,
    "start_time": "2022-03-16T21:21:07.341Z"
   },
   {
    "duration": 25798,
    "start_time": "2022-03-16T21:21:13.544Z"
   },
   {
    "duration": 837738,
    "start_time": "2022-03-16T21:21:48.643Z"
   },
   {
    "duration": 3091,
    "start_time": "2022-03-16T21:41:11.171Z"
   },
   {
    "duration": 17504,
    "start_time": "2022-03-16T21:41:17.464Z"
   },
   {
    "duration": 18132,
    "start_time": "2022-03-16T21:49:03.785Z"
   },
   {
    "duration": 17277,
    "start_time": "2022-03-16T21:51:01.238Z"
   },
   {
    "duration": 168,
    "start_time": "2022-03-16T21:51:21.126Z"
   },
   {
    "duration": 168,
    "start_time": "2022-03-16T21:52:04.609Z"
   },
   {
    "duration": 172,
    "start_time": "2022-03-16T21:52:51.002Z"
   },
   {
    "duration": 179,
    "start_time": "2022-03-16T21:54:15.954Z"
   },
   {
    "duration": 176,
    "start_time": "2022-03-16T21:54:30.680Z"
   },
   {
    "duration": 163,
    "start_time": "2022-03-16T21:54:44.350Z"
   },
   {
    "duration": 4,
    "start_time": "2022-03-16T21:56:13.758Z"
   },
   {
    "duration": 8,
    "start_time": "2022-03-16T21:56:40.613Z"
   },
   {
    "duration": 10,
    "start_time": "2022-03-16T21:57:34.456Z"
   },
   {
    "duration": 179,
    "start_time": "2022-03-16T21:58:27.093Z"
   },
   {
    "duration": 3,
    "start_time": "2022-03-16T21:58:42.069Z"
   },
   {
    "duration": 8,
    "start_time": "2022-03-16T21:58:53.664Z"
   },
   {
    "duration": 17539,
    "start_time": "2022-03-16T21:59:01.512Z"
   },
   {
    "duration": 175,
    "start_time": "2022-03-16T21:59:23.108Z"
   },
   {
    "duration": 9,
    "start_time": "2022-03-16T21:59:55.431Z"
   },
   {
    "duration": 246,
    "start_time": "2022-03-16T22:02:03.452Z"
   },
   {
    "duration": 414,
    "start_time": "2022-03-16T22:02:13.605Z"
   },
   {
    "duration": 67,
    "start_time": "2022-03-16T22:02:37.001Z"
   },
   {
    "duration": 233,
    "start_time": "2022-03-16T22:03:18.401Z"
   },
   {
    "duration": 62,
    "start_time": "2022-03-16T22:03:48.358Z"
   },
   {
    "duration": 232887,
    "start_time": "2022-03-17T21:58:27.014Z"
   },
   {
    "duration": 920,
    "start_time": "2022-03-17T22:02:19.904Z"
   },
   {
    "duration": 6,
    "start_time": "2022-03-17T22:02:20.826Z"
   },
   {
    "duration": 9,
    "start_time": "2022-03-17T22:02:20.835Z"
   },
   {
    "duration": 52,
    "start_time": "2022-03-17T22:02:20.847Z"
   },
   {
    "duration": 21,
    "start_time": "2022-03-17T22:02:20.902Z"
   },
   {
    "duration": 78,
    "start_time": "2022-03-17T22:02:20.925Z"
   },
   {
    "duration": 6,
    "start_time": "2022-03-17T22:02:21.005Z"
   },
   {
    "duration": 672,
    "start_time": "2022-03-17T22:02:21.013Z"
   },
   {
    "duration": 8,
    "start_time": "2022-03-17T22:02:21.688Z"
   },
   {
    "duration": 23,
    "start_time": "2022-03-17T22:02:21.699Z"
   },
   {
    "duration": 9,
    "start_time": "2022-03-17T22:02:21.724Z"
   },
   {
    "duration": 11,
    "start_time": "2022-03-17T22:02:21.735Z"
   },
   {
    "duration": 5,
    "start_time": "2022-03-17T22:02:21.777Z"
   },
   {
    "duration": 9,
    "start_time": "2022-03-17T22:02:21.784Z"
   },
   {
    "duration": 16,
    "start_time": "2022-03-17T22:02:21.795Z"
   },
   {
    "duration": 29,
    "start_time": "2022-03-17T22:02:21.814Z"
   },
   {
    "duration": 46,
    "start_time": "2022-03-17T22:02:21.845Z"
   },
   {
    "duration": 380,
    "start_time": "2022-03-17T22:02:21.893Z"
   },
   {
    "duration": 66,
    "start_time": "2022-03-17T22:02:22.275Z"
   },
   {
    "duration": 5,
    "start_time": "2022-03-17T22:02:22.344Z"
   },
   {
    "duration": 27,
    "start_time": "2022-03-17T22:02:22.351Z"
   },
   {
    "duration": 22,
    "start_time": "2022-03-17T22:02:22.380Z"
   },
   {
    "duration": 7,
    "start_time": "2022-03-17T22:02:22.405Z"
   },
   {
    "duration": 3161,
    "start_time": "2022-03-17T22:02:22.414Z"
   },
   {
    "duration": 3064,
    "start_time": "2022-03-17T22:02:25.577Z"
   },
   {
    "duration": 3210,
    "start_time": "2022-03-17T22:02:28.643Z"
   },
   {
    "duration": 3037,
    "start_time": "2022-03-17T22:02:31.855Z"
   },
   {
    "duration": 3046,
    "start_time": "2022-03-17T22:02:34.895Z"
   },
   {
    "duration": 3248,
    "start_time": "2022-03-17T22:02:37.944Z"
   },
   {
    "duration": 14,
    "start_time": "2022-03-17T22:02:41.195Z"
   },
   {
    "duration": 21,
    "start_time": "2022-03-17T22:02:41.212Z"
   },
   {
    "duration": 1239,
    "start_time": "2022-03-17T22:02:41.235Z"
   },
   {
    "duration": 15,
    "start_time": "2022-03-17T22:02:42.476Z"
   },
   {
    "duration": 4,
    "start_time": "2022-03-17T22:02:42.494Z"
   },
   {
    "duration": 2562,
    "start_time": "2022-03-17T22:02:42.501Z"
   },
   {
    "duration": 7,
    "start_time": "2022-03-17T22:02:45.072Z"
   },
   {
    "duration": 2518,
    "start_time": "2022-03-17T22:02:45.081Z"
   },
   {
    "duration": 7,
    "start_time": "2022-03-17T22:02:47.602Z"
   },
   {
    "duration": 13,
    "start_time": "2022-03-17T22:02:47.611Z"
   },
   {
    "duration": 68,
    "start_time": "2022-03-17T22:02:47.630Z"
   },
   {
    "duration": 12,
    "start_time": "2022-03-17T22:02:47.701Z"
   },
   {
    "duration": 12,
    "start_time": "2022-03-17T22:02:47.716Z"
   },
   {
    "duration": 15,
    "start_time": "2022-03-17T22:02:47.730Z"
   },
   {
    "duration": 7,
    "start_time": "2022-03-17T22:02:47.774Z"
   },
   {
    "duration": 33,
    "start_time": "2022-03-17T22:02:47.783Z"
   },
   {
    "duration": 31897,
    "start_time": "2022-03-17T22:02:47.818Z"
   },
   {
    "duration": 4,
    "start_time": "2022-03-17T22:03:19.718Z"
   },
   {
    "duration": 3384,
    "start_time": "2022-03-17T22:03:19.725Z"
   },
   {
    "duration": 31889,
    "start_time": "2022-03-17T22:03:23.112Z"
   },
   {
    "duration": 21,
    "start_time": "2022-03-17T22:03:55.004Z"
   },
   {
    "duration": 115,
    "start_time": "2022-03-17T22:03:55.027Z"
   },
   {
    "duration": 7,
    "start_time": "2022-03-17T22:04:05.431Z"
   },
   {
    "duration": 7,
    "start_time": "2022-03-17T22:04:16.460Z"
   },
   {
    "duration": 230868,
    "start_time": "2022-03-17T22:09:54.697Z"
   },
   {
    "duration": 961,
    "start_time": "2022-03-17T22:13:45.573Z"
   },
   {
    "duration": 7,
    "start_time": "2022-03-17T22:13:46.539Z"
   },
   {
    "duration": 23,
    "start_time": "2022-03-17T22:13:46.552Z"
   },
   {
    "duration": 32,
    "start_time": "2022-03-17T22:13:46.582Z"
   },
   {
    "duration": 67,
    "start_time": "2022-03-17T22:13:46.620Z"
   },
   {
    "duration": 53,
    "start_time": "2022-03-17T22:13:46.694Z"
   },
   {
    "duration": 7,
    "start_time": "2022-03-17T22:13:46.775Z"
   },
   {
    "duration": 582,
    "start_time": "2022-03-17T22:13:46.787Z"
   },
   {
    "duration": 9,
    "start_time": "2022-03-17T22:13:47.376Z"
   },
   {
    "duration": 16,
    "start_time": "2022-03-17T22:13:47.392Z"
   },
   {
    "duration": 6,
    "start_time": "2022-03-17T22:13:47.414Z"
   },
   {
    "duration": 6,
    "start_time": "2022-03-17T22:13:47.475Z"
   },
   {
    "duration": 7,
    "start_time": "2022-03-17T22:13:47.486Z"
   },
   {
    "duration": 6,
    "start_time": "2022-03-17T22:13:47.498Z"
   },
   {
    "duration": 66,
    "start_time": "2022-03-17T22:13:47.510Z"
   },
   {
    "duration": 24,
    "start_time": "2022-03-17T22:13:47.583Z"
   },
   {
    "duration": 22,
    "start_time": "2022-03-17T22:13:47.612Z"
   },
   {
    "duration": 372,
    "start_time": "2022-03-17T22:13:47.678Z"
   },
   {
    "duration": 48,
    "start_time": "2022-03-17T22:13:48.055Z"
   },
   {
    "duration": 4,
    "start_time": "2022-03-17T22:13:48.108Z"
   },
   {
    "duration": 26,
    "start_time": "2022-03-17T22:13:48.118Z"
   },
   {
    "duration": 37,
    "start_time": "2022-03-17T22:13:48.149Z"
   },
   {
    "duration": 7,
    "start_time": "2022-03-17T22:13:48.191Z"
   },
   {
    "duration": 3250,
    "start_time": "2022-03-17T22:13:48.204Z"
   },
   {
    "duration": 3078,
    "start_time": "2022-03-17T22:13:51.459Z"
   },
   {
    "duration": 3409,
    "start_time": "2022-03-17T22:13:54.543Z"
   },
   {
    "duration": 3313,
    "start_time": "2022-03-17T22:13:57.964Z"
   },
   {
    "duration": 3228,
    "start_time": "2022-03-17T22:14:01.283Z"
   },
   {
    "duration": 4371,
    "start_time": "2022-03-17T22:14:04.513Z"
   },
   {
    "duration": 18,
    "start_time": "2022-03-17T22:14:08.887Z"
   },
   {
    "duration": 18,
    "start_time": "2022-03-17T22:14:08.908Z"
   },
   {
    "duration": 1231,
    "start_time": "2022-03-17T22:14:08.928Z"
   },
   {
    "duration": 27,
    "start_time": "2022-03-17T22:14:10.162Z"
   },
   {
    "duration": 6,
    "start_time": "2022-03-17T22:14:10.191Z"
   },
   {
    "duration": 2254,
    "start_time": "2022-03-17T22:14:10.200Z"
   },
   {
    "duration": 18,
    "start_time": "2022-03-17T22:14:12.457Z"
   },
   {
    "duration": 2440,
    "start_time": "2022-03-17T22:14:12.478Z"
   },
   {
    "duration": 7,
    "start_time": "2022-03-17T22:14:14.921Z"
   },
   {
    "duration": 13,
    "start_time": "2022-03-17T22:14:14.931Z"
   },
   {
    "duration": 69,
    "start_time": "2022-03-17T22:14:14.946Z"
   },
   {
    "duration": 13,
    "start_time": "2022-03-17T22:14:15.018Z"
   },
   {
    "duration": 22,
    "start_time": "2022-03-17T22:14:15.033Z"
   },
   {
    "duration": 27,
    "start_time": "2022-03-17T22:14:15.057Z"
   },
   {
    "duration": 45,
    "start_time": "2022-03-17T22:14:15.087Z"
   },
   {
    "duration": 32926,
    "start_time": "2022-03-17T22:14:15.135Z"
   },
   {
    "duration": 12,
    "start_time": "2022-03-17T22:14:48.064Z"
   },
   {
    "duration": 3397,
    "start_time": "2022-03-17T22:14:48.078Z"
   },
   {
    "duration": 22313,
    "start_time": "2022-03-17T22:14:51.479Z"
   },
   {
    "duration": 168,
    "start_time": "2022-03-17T22:15:13.794Z"
   },
   {
    "duration": 0,
    "start_time": "2022-03-17T22:15:13.965Z"
   },
   {
    "duration": 16,
    "start_time": "2022-03-17T22:15:56.161Z"
   },
   {
    "duration": 69,
    "start_time": "2022-03-17T22:16:03.339Z"
   },
   {
    "duration": 1531,
    "start_time": "2022-03-18T09:23:08.903Z"
   },
   {
    "duration": 686,
    "start_time": "2022-03-18T09:23:11.936Z"
   },
   {
    "duration": 4,
    "start_time": "2022-03-18T09:23:13.451Z"
   },
   {
    "duration": 3,
    "start_time": "2022-03-18T09:23:16.043Z"
   },
   {
    "duration": 18,
    "start_time": "2022-03-18T09:23:19.178Z"
   },
   {
    "duration": 12,
    "start_time": "2022-03-18T09:23:22.693Z"
   },
   {
    "duration": 31,
    "start_time": "2022-03-18T09:23:26.705Z"
   },
   {
    "duration": 6,
    "start_time": "2022-03-18T09:29:26.215Z"
   },
   {
    "duration": 102,
    "start_time": "2022-03-18T09:29:45.771Z"
   },
   {
    "duration": 5,
    "start_time": "2022-03-18T09:29:56.886Z"
   },
   {
    "duration": 5,
    "start_time": "2022-03-18T09:45:04.408Z"
   },
   {
    "duration": 3,
    "start_time": "2022-03-18T10:02:32.569Z"
   },
   {
    "duration": 4,
    "start_time": "2022-03-18T10:02:43.130Z"
   },
   {
    "duration": 4,
    "start_time": "2022-03-18T10:03:00.120Z"
   },
   {
    "duration": 11,
    "start_time": "2022-03-18T10:33:41.017Z"
   },
   {
    "duration": 13,
    "start_time": "2022-03-18T10:33:55.551Z"
   },
   {
    "duration": 16,
    "start_time": "2022-03-18T10:34:00.607Z"
   },
   {
    "duration": 203,
    "start_time": "2022-03-18T10:34:03.098Z"
   },
   {
    "duration": 13,
    "start_time": "2022-03-18T10:34:13.286Z"
   },
   {
    "duration": 24,
    "start_time": "2022-03-18T10:36:04.174Z"
   },
   {
    "duration": 9,
    "start_time": "2022-03-18T10:36:09.165Z"
   },
   {
    "duration": 26,
    "start_time": "2022-03-18T10:36:18.433Z"
   },
   {
    "duration": 15,
    "start_time": "2022-03-18T10:36:20.490Z"
   },
   {
    "duration": 4,
    "start_time": "2022-03-18T10:36:22.649Z"
   },
   {
    "duration": 2248,
    "start_time": "2022-03-18T10:38:14.082Z"
   },
   {
    "duration": 2073,
    "start_time": "2022-03-18T10:38:16.333Z"
   },
   {
    "duration": 2287,
    "start_time": "2022-03-18T10:38:18.408Z"
   },
   {
    "duration": 2143,
    "start_time": "2022-03-18T10:38:20.697Z"
   },
   {
    "duration": 2213,
    "start_time": "2022-03-18T10:38:22.842Z"
   },
   {
    "duration": 2017,
    "start_time": "2022-03-18T10:38:25.057Z"
   },
   {
    "duration": 11,
    "start_time": "2022-03-18T10:38:27.076Z"
   },
   {
    "duration": 9,
    "start_time": "2022-03-18T10:38:27.089Z"
   },
   {
    "duration": 834,
    "start_time": "2022-03-18T10:38:27.100Z"
   },
   {
    "duration": 13,
    "start_time": "2022-03-18T10:38:27.935Z"
   },
   {
    "duration": 10,
    "start_time": "2022-03-18T10:38:27.949Z"
   },
   {
    "duration": 1586,
    "start_time": "2022-03-18T10:38:27.960Z"
   },
   {
    "duration": 6,
    "start_time": "2022-03-18T10:38:29.547Z"
   },
   {
    "duration": 1745,
    "start_time": "2022-03-18T10:38:29.554Z"
   },
   {
    "duration": 5,
    "start_time": "2022-03-18T10:38:31.302Z"
   },
   {
    "duration": 9,
    "start_time": "2022-03-18T10:38:40.689Z"
   },
   {
    "duration": 32,
    "start_time": "2022-03-18T10:38:41.147Z"
   },
   {
    "duration": 11,
    "start_time": "2022-03-18T10:38:41.561Z"
   },
   {
    "duration": 8,
    "start_time": "2022-03-18T10:38:41.946Z"
   },
   {
    "duration": 11,
    "start_time": "2022-03-18T10:45:13.233Z"
   },
   {
    "duration": 12,
    "start_time": "2022-03-18T10:45:22.993Z"
   },
   {
    "duration": 32,
    "start_time": "2022-03-18T10:45:26.726Z"
   },
   {
    "duration": 23005,
    "start_time": "2022-03-18T10:45:31.275Z"
   },
   {
    "duration": 1396,
    "start_time": "2022-03-18T11:46:47.110Z"
   },
   {
    "duration": 2822,
    "start_time": "2022-03-18T11:46:48.508Z"
   },
   {
    "duration": 8,
    "start_time": "2022-03-18T11:46:51.331Z"
   },
   {
    "duration": 5,
    "start_time": "2022-03-18T11:46:51.342Z"
   },
   {
    "duration": 22,
    "start_time": "2022-03-18T11:46:51.349Z"
   },
   {
    "duration": 12,
    "start_time": "2022-03-18T11:46:51.372Z"
   },
   {
    "duration": 54,
    "start_time": "2022-03-18T11:46:51.385Z"
   },
   {
    "duration": 7,
    "start_time": "2022-03-18T11:46:51.440Z"
   },
   {
    "duration": 6,
    "start_time": "2022-03-18T11:46:51.448Z"
   },
   {
    "duration": 4,
    "start_time": "2022-03-18T11:46:51.456Z"
   },
   {
    "duration": 8,
    "start_time": "2022-03-18T11:46:51.461Z"
   },
   {
    "duration": 4,
    "start_time": "2022-03-18T11:46:51.470Z"
   },
   {
    "duration": 6,
    "start_time": "2022-03-18T11:46:51.475Z"
   },
   {
    "duration": 3,
    "start_time": "2022-03-18T11:46:51.496Z"
   },
   {
    "duration": 4,
    "start_time": "2022-03-18T11:46:51.674Z"
   },
   {
    "duration": 3,
    "start_time": "2022-03-18T11:46:52.362Z"
   },
   {
    "duration": 3,
    "start_time": "2022-03-18T11:46:52.544Z"
   },
   {
    "duration": 3,
    "start_time": "2022-03-18T11:46:52.722Z"
   },
   {
    "duration": 11,
    "start_time": "2022-03-18T11:46:53.463Z"
   },
   {
    "duration": 16,
    "start_time": "2022-03-18T11:46:54.028Z"
   },
   {
    "duration": 15,
    "start_time": "2022-03-18T11:46:54.334Z"
   },
   {
    "duration": 198,
    "start_time": "2022-03-18T11:46:59.189Z"
   },
   {
    "duration": 14,
    "start_time": "2022-03-18T11:46:59.621Z"
   },
   {
    "duration": 23,
    "start_time": "2022-03-18T11:46:59.801Z"
   },
   {
    "duration": 2,
    "start_time": "2022-03-18T11:47:00.352Z"
   },
   {
    "duration": 19,
    "start_time": "2022-03-18T11:47:00.549Z"
   },
   {
    "duration": 6,
    "start_time": "2022-03-18T11:47:00.744Z"
   },
   {
    "duration": 2179,
    "start_time": "2022-03-18T11:47:02.331Z"
   },
   {
    "duration": 2088,
    "start_time": "2022-03-18T11:47:04.512Z"
   },
   {
    "duration": 2318,
    "start_time": "2022-03-18T11:47:06.602Z"
   },
   {
    "duration": 2226,
    "start_time": "2022-03-18T11:47:08.922Z"
   },
   {
    "duration": 2324,
    "start_time": "2022-03-18T11:47:11.150Z"
   },
   {
    "duration": 2126,
    "start_time": "2022-03-18T11:47:13.475Z"
   },
   {
    "duration": 10,
    "start_time": "2022-03-18T11:47:15.603Z"
   },
   {
    "duration": 23,
    "start_time": "2022-03-18T11:47:15.615Z"
   },
   {
    "duration": 819,
    "start_time": "2022-03-18T11:47:15.640Z"
   },
   {
    "duration": 13,
    "start_time": "2022-03-18T11:47:16.462Z"
   },
   {
    "duration": 10,
    "start_time": "2022-03-18T11:47:16.477Z"
   },
   {
    "duration": 1659,
    "start_time": "2022-03-18T11:47:16.488Z"
   },
   {
    "duration": 5,
    "start_time": "2022-03-18T11:47:18.149Z"
   },
   {
    "duration": 1740,
    "start_time": "2022-03-18T11:47:18.156Z"
   },
   {
    "duration": 4,
    "start_time": "2022-03-18T11:47:19.898Z"
   },
   {
    "duration": 10,
    "start_time": "2022-03-18T11:47:19.903Z"
   },
   {
    "duration": 46,
    "start_time": "2022-03-18T11:47:19.915Z"
   },
   {
    "duration": 10,
    "start_time": "2022-03-18T11:47:19.963Z"
   },
   {
    "duration": 9,
    "start_time": "2022-03-18T11:47:19.975Z"
   },
   {
    "duration": 13,
    "start_time": "2022-03-18T11:47:19.986Z"
   },
   {
    "duration": 51,
    "start_time": "2022-03-18T11:47:20.001Z"
   },
   {
    "duration": 780753,
    "start_time": "2022-03-18T11:47:25.430Z"
   },
   {
    "duration": 2311,
    "start_time": "2022-03-18T12:23:06.833Z"
   },
   {
    "duration": 16612,
    "start_time": "2022-03-18T12:23:18.507Z"
   },
   {
    "duration": 11,
    "start_time": "2022-03-18T12:23:39.419Z"
   },
   {
    "duration": 78,
    "start_time": "2022-03-18T12:25:44.933Z"
   },
   {
    "duration": 100,
    "start_time": "2022-03-18T12:38:29.335Z"
   },
   {
    "duration": 6,
    "start_time": "2022-03-18T12:55:00.260Z"
   },
   {
    "duration": 39,
    "start_time": "2022-03-18T12:55:02.031Z"
   },
   {
    "duration": 5,
    "start_time": "2022-03-18T12:55:27.524Z"
   },
   {
    "duration": 21,
    "start_time": "2022-03-18T12:55:28.656Z"
   },
   {
    "duration": 4,
    "start_time": "2022-03-18T13:05:17.158Z"
   },
   {
    "duration": 241223,
    "start_time": "2022-03-18T13:05:18.046Z"
   },
   {
    "duration": 4,
    "start_time": "2022-03-18T13:43:33.491Z"
   },
   {
    "duration": 9,
    "start_time": "2022-03-18T13:43:46.280Z"
   },
   {
    "duration": 3,
    "start_time": "2022-03-18T13:44:02.665Z"
   },
   {
    "duration": 5,
    "start_time": "2022-03-18T13:44:06.345Z"
   },
   {
    "duration": 2,
    "start_time": "2022-03-18T13:44:45.818Z"
   },
   {
    "duration": 4,
    "start_time": "2022-03-18T13:44:47.707Z"
   },
   {
    "duration": 5,
    "start_time": "2022-03-18T13:49:55.599Z"
   },
   {
    "duration": 231187,
    "start_time": "2022-03-18T13:49:56.623Z"
   },
   {
    "duration": 5,
    "start_time": "2022-03-18T13:53:47.811Z"
   },
   {
    "duration": 10,
    "start_time": "2022-03-18T13:53:47.817Z"
   },
   {
    "duration": 25,
    "start_time": "2022-03-18T13:53:47.829Z"
   },
   {
    "duration": 1659,
    "start_time": "2022-03-20T17:25:55.558Z"
   },
   {
    "duration": 694,
    "start_time": "2022-03-20T17:25:57.219Z"
   },
   {
    "duration": 4,
    "start_time": "2022-03-20T17:25:57.915Z"
   },
   {
    "duration": 5,
    "start_time": "2022-03-20T17:25:57.921Z"
   },
   {
    "duration": 20,
    "start_time": "2022-03-20T17:25:57.927Z"
   },
   {
    "duration": 13,
    "start_time": "2022-03-20T17:25:57.948Z"
   },
   {
    "duration": 29,
    "start_time": "2022-03-20T17:25:58.280Z"
   },
   {
    "duration": 9,
    "start_time": "2022-03-20T17:25:58.941Z"
   },
   {
    "duration": 4,
    "start_time": "2022-03-20T17:25:59.139Z"
   },
   {
    "duration": 5,
    "start_time": "2022-03-20T17:25:59.330Z"
   },
   {
    "duration": 3,
    "start_time": "2022-03-20T17:25:59.920Z"
   },
   {
    "duration": 5,
    "start_time": "2022-03-20T17:26:00.113Z"
   },
   {
    "duration": 11,
    "start_time": "2022-03-20T17:26:00.519Z"
   },
   {
    "duration": 15,
    "start_time": "2022-03-20T17:26:00.717Z"
   },
   {
    "duration": 14,
    "start_time": "2022-03-20T17:26:01.114Z"
   },
   {
    "duration": 194,
    "start_time": "2022-03-20T17:26:01.324Z"
   },
   {
    "duration": 14,
    "start_time": "2022-03-20T17:26:01.525Z"
   },
   {
    "duration": 21,
    "start_time": "2022-03-20T17:26:01.727Z"
   },
   {
    "duration": 14,
    "start_time": "2022-03-20T17:26:01.938Z"
   },
   {
    "duration": 3,
    "start_time": "2022-03-20T17:26:02.141Z"
   },
   {
    "duration": 2224,
    "start_time": "2022-03-20T17:26:03.338Z"
   },
   {
    "duration": 2074,
    "start_time": "2022-03-20T17:26:05.564Z"
   },
   {
    "duration": 2328,
    "start_time": "2022-03-20T17:26:07.639Z"
   },
   {
    "duration": 2362,
    "start_time": "2022-03-20T17:26:09.970Z"
   },
   {
    "duration": 2315,
    "start_time": "2022-03-20T17:26:12.334Z"
   },
   {
    "duration": 2246,
    "start_time": "2022-03-20T17:26:14.650Z"
   },
   {
    "duration": 9,
    "start_time": "2022-03-20T17:26:16.897Z"
   },
   {
    "duration": 8,
    "start_time": "2022-03-20T17:26:16.908Z"
   },
   {
    "duration": 816,
    "start_time": "2022-03-20T17:26:16.918Z"
   },
   {
    "duration": 12,
    "start_time": "2022-03-20T17:26:17.736Z"
   },
   {
    "duration": 6,
    "start_time": "2022-03-20T17:26:17.750Z"
   },
   {
    "duration": 1739,
    "start_time": "2022-03-20T17:26:17.758Z"
   },
   {
    "duration": 5,
    "start_time": "2022-03-20T17:26:19.501Z"
   },
   {
    "duration": 1872,
    "start_time": "2022-03-20T17:26:19.507Z"
   },
   {
    "duration": 4,
    "start_time": "2022-03-20T17:26:21.380Z"
   },
   {
    "duration": 20,
    "start_time": "2022-03-20T17:26:21.386Z"
   },
   {
    "duration": 29,
    "start_time": "2022-03-20T17:26:21.407Z"
   },
   {
    "duration": 9,
    "start_time": "2022-03-20T17:26:21.438Z"
   },
   {
    "duration": 8,
    "start_time": "2022-03-20T17:26:21.448Z"
   },
   {
    "duration": 10,
    "start_time": "2022-03-20T17:26:21.458Z"
   },
   {
    "duration": 49,
    "start_time": "2022-03-20T17:26:21.469Z"
   },
   {
    "duration": 5,
    "start_time": "2022-03-20T17:26:21.520Z"
   },
   {
    "duration": 235256,
    "start_time": "2022-03-20T17:26:21.527Z"
   },
   {
    "duration": 4,
    "start_time": "2022-03-20T17:30:16.784Z"
   },
   {
    "duration": 4,
    "start_time": "2022-03-20T17:30:16.800Z"
   },
   {
    "duration": 5,
    "start_time": "2022-03-20T17:30:16.805Z"
   },
   {
    "duration": 2394,
    "start_time": "2022-03-20T17:30:16.812Z"
   },
   {
    "duration": 37183,
    "start_time": "2022-03-20T17:30:19.209Z"
   },
   {
    "duration": 9,
    "start_time": "2022-03-20T17:30:56.393Z"
   },
   {
    "duration": 65,
    "start_time": "2022-03-20T17:30:56.403Z"
   },
   {
    "duration": 23209,
    "start_time": "2022-03-20T17:36:40.234Z"
   },
   {
    "duration": 802340,
    "start_time": "2022-03-20T17:37:50.245Z"
   },
   {
    "duration": 17115,
    "start_time": "2022-03-20T17:51:12.587Z"
   },
   {
    "duration": 10,
    "start_time": "2022-03-20T17:51:29.703Z"
   },
   {
    "duration": 1507,
    "start_time": "2022-03-20T17:56:48.495Z"
   },
   {
    "duration": 720,
    "start_time": "2022-03-20T17:56:50.004Z"
   },
   {
    "duration": 4,
    "start_time": "2022-03-20T17:56:50.726Z"
   },
   {
    "duration": 4,
    "start_time": "2022-03-20T17:56:50.732Z"
   },
   {
    "duration": 18,
    "start_time": "2022-03-20T17:56:50.738Z"
   },
   {
    "duration": 10,
    "start_time": "2022-03-20T17:56:50.758Z"
   },
   {
    "duration": 55,
    "start_time": "2022-03-20T17:56:50.770Z"
   },
   {
    "duration": 8,
    "start_time": "2022-03-20T17:56:51.068Z"
   },
   {
    "duration": 5,
    "start_time": "2022-03-20T17:56:51.260Z"
   },
   {
    "duration": 5,
    "start_time": "2022-03-20T17:56:51.466Z"
   },
   {
    "duration": 3,
    "start_time": "2022-03-20T17:56:52.091Z"
   },
   {
    "duration": 4,
    "start_time": "2022-03-20T17:56:52.297Z"
   },
   {
    "duration": 9,
    "start_time": "2022-03-20T17:56:52.701Z"
   },
   {
    "duration": 14,
    "start_time": "2022-03-20T17:56:52.922Z"
   },
   {
    "duration": 14,
    "start_time": "2022-03-20T17:56:53.393Z"
   },
   {
    "duration": 190,
    "start_time": "2022-03-20T17:56:53.587Z"
   },
   {
    "duration": 13,
    "start_time": "2022-03-20T17:56:53.808Z"
   },
   {
    "duration": 19,
    "start_time": "2022-03-20T17:56:54.025Z"
   },
   {
    "duration": 13,
    "start_time": "2022-03-20T17:56:54.218Z"
   },
   {
    "duration": 4,
    "start_time": "2022-03-20T17:56:54.433Z"
   },
   {
    "duration": 2185,
    "start_time": "2022-03-20T17:56:55.633Z"
   },
   {
    "duration": 2055,
    "start_time": "2022-03-20T17:56:57.820Z"
   },
   {
    "duration": 2332,
    "start_time": "2022-03-20T17:56:59.876Z"
   },
   {
    "duration": 2197,
    "start_time": "2022-03-20T17:57:02.210Z"
   },
   {
    "duration": 2329,
    "start_time": "2022-03-20T17:57:04.409Z"
   },
   {
    "duration": 2154,
    "start_time": "2022-03-20T17:57:06.740Z"
   },
   {
    "duration": 11,
    "start_time": "2022-03-20T17:57:08.895Z"
   },
   {
    "duration": 8,
    "start_time": "2022-03-20T17:57:08.907Z"
   },
   {
    "duration": 784,
    "start_time": "2022-03-20T17:57:08.917Z"
   },
   {
    "duration": 11,
    "start_time": "2022-03-20T17:57:09.704Z"
   },
   {
    "duration": 3,
    "start_time": "2022-03-20T17:57:09.717Z"
   },
   {
    "duration": 1610,
    "start_time": "2022-03-20T17:57:09.722Z"
   },
   {
    "duration": 5,
    "start_time": "2022-03-20T17:57:11.333Z"
   },
   {
    "duration": 1690,
    "start_time": "2022-03-20T17:57:11.339Z"
   },
   {
    "duration": 4,
    "start_time": "2022-03-20T17:57:13.031Z"
   },
   {
    "duration": 10,
    "start_time": "2022-03-20T17:57:13.036Z"
   },
   {
    "duration": 30,
    "start_time": "2022-03-20T17:57:13.047Z"
   },
   {
    "duration": 27,
    "start_time": "2022-03-20T17:57:13.079Z"
   },
   {
    "duration": 8,
    "start_time": "2022-03-20T17:57:13.108Z"
   },
   {
    "duration": 12,
    "start_time": "2022-03-20T17:57:13.118Z"
   },
   {
    "duration": 29,
    "start_time": "2022-03-20T17:57:13.132Z"
   },
   {
    "duration": 24586,
    "start_time": "2022-03-20T17:57:13.163Z"
   },
   {
    "duration": 802657,
    "start_time": "2022-03-20T18:12:33.430Z"
   },
   {
    "duration": 2515,
    "start_time": "2022-03-20T18:25:56.089Z"
   },
   {
    "duration": 16624,
    "start_time": "2022-03-20T18:25:58.606Z"
   },
   {
    "duration": 10,
    "start_time": "2022-03-20T18:26:15.233Z"
   },
   {
    "duration": 61,
    "start_time": "2022-03-20T18:26:15.245Z"
   }
  ],
  "kernelspec": {
   "display_name": "Python 3 (ipykernel)",
   "language": "python",
   "name": "python3"
  },
  "language_info": {
   "codemirror_mode": {
    "name": "ipython",
    "version": 3
   },
   "file_extension": ".py",
   "mimetype": "text/x-python",
   "name": "python",
   "nbconvert_exporter": "python",
   "pygments_lexer": "ipython3",
   "version": "3.9.5"
  },
  "toc": {
   "base_numbering": 1,
   "nav_menu": {},
   "number_sections": true,
   "sideBar": true,
   "skip_h1_title": true,
   "title_cell": "Содержание",
   "title_sidebar": "Contents",
   "toc_cell": true,
   "toc_position": {
    "height": "calc(100% - 180px)",
    "left": "10px",
    "top": "150px",
    "width": "306.4px"
   },
   "toc_section_display": true,
   "toc_window_display": true
  }
 },
 "nbformat": 4,
 "nbformat_minor": 2
}
